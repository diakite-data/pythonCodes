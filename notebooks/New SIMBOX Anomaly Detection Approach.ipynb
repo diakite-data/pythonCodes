{
 "cells": [
  {
   "cell_type": "code",
   "execution_count": 1,
   "metadata": {},
   "outputs": [],
   "source": [
    "import numpy as np\n",
    "import pandas as pd\n",
    "import seaborn as sns\n",
    "import matplotlib.pyplot as plt\n",
    "from sklearn.ensemble import IsolationForest\n"
   ]
  },
  {
   "cell_type": "code",
   "execution_count": 15,
   "metadata": {},
   "outputs": [
    {
     "data": {
      "text/html": [
       "<div>\n",
       "<style scoped>\n",
       "    .dataframe tbody tr th:only-of-type {\n",
       "        vertical-align: middle;\n",
       "    }\n",
       "\n",
       "    .dataframe tbody tr th {\n",
       "        vertical-align: top;\n",
       "    }\n",
       "\n",
       "    .dataframe thead th {\n",
       "        text-align: right;\n",
       "    }\n",
       "</style>\n",
       "<table border=\"1\" class=\"dataframe\">\n",
       "  <thead>\n",
       "    <tr style=\"text-align: right;\">\n",
       "      <th></th>\n",
       "      <th>msisdn</th>\n",
       "      <th>distributeur</th>\n",
       "      <th>statut_voix</th>\n",
       "      <th>statut_sms</th>\n",
       "      <th>statut_ff</th>\n",
       "      <th>statut_sva</th>\n",
       "      <th>statut_data</th>\n",
       "      <th>statut_om</th>\n",
       "      <th>valeur</th>\n",
       "      <th>vol_tot_data</th>\n",
       "      <th>...</th>\n",
       "      <th>nbre_sms_in</th>\n",
       "      <th>nbre_dist_sms_in</th>\n",
       "      <th>nbre_voix_in</th>\n",
       "      <th>dur_in</th>\n",
       "      <th>nbre_dist_voix_in</th>\n",
       "      <th>nbre_sms_night</th>\n",
       "      <th>nbre_dist_sms_night</th>\n",
       "      <th>nbre_voix_night</th>\n",
       "      <th>dur_night</th>\n",
       "      <th>nbre_dist_voix_night</th>\n",
       "    </tr>\n",
       "  </thead>\n",
       "  <tbody>\n",
       "    <tr>\n",
       "      <th>0</th>\n",
       "      <td>2250700004156</td>\n",
       "      <td>SII</td>\n",
       "      <td>0</td>\n",
       "      <td>0</td>\n",
       "      <td>0</td>\n",
       "      <td>0</td>\n",
       "      <td>0</td>\n",
       "      <td>0</td>\n",
       "      <td>0</td>\n",
       "      <td>0</td>\n",
       "      <td>...</td>\n",
       "      <td>6.0</td>\n",
       "      <td>1.0</td>\n",
       "      <td>0.0</td>\n",
       "      <td>0.0</td>\n",
       "      <td>0.0</td>\n",
       "      <td>0.0</td>\n",
       "      <td>0.0</td>\n",
       "      <td>0.0</td>\n",
       "      <td>0.0</td>\n",
       "      <td>0.0</td>\n",
       "    </tr>\n",
       "    <tr>\n",
       "      <th>1</th>\n",
       "      <td>2250700008166</td>\n",
       "      <td>SII</td>\n",
       "      <td>0</td>\n",
       "      <td>0</td>\n",
       "      <td>0</td>\n",
       "      <td>0</td>\n",
       "      <td>0</td>\n",
       "      <td>0</td>\n",
       "      <td>0</td>\n",
       "      <td>0</td>\n",
       "      <td>...</td>\n",
       "      <td>10.0</td>\n",
       "      <td>2.0</td>\n",
       "      <td>10.0</td>\n",
       "      <td>748.0</td>\n",
       "      <td>6.0</td>\n",
       "      <td>0.0</td>\n",
       "      <td>0.0</td>\n",
       "      <td>0.0</td>\n",
       "      <td>0.0</td>\n",
       "      <td>0.0</td>\n",
       "    </tr>\n",
       "    <tr>\n",
       "      <th>2</th>\n",
       "      <td>2250700008178</td>\n",
       "      <td>SII</td>\n",
       "      <td>0</td>\n",
       "      <td>0</td>\n",
       "      <td>0</td>\n",
       "      <td>0</td>\n",
       "      <td>0</td>\n",
       "      <td>0</td>\n",
       "      <td>0</td>\n",
       "      <td>0</td>\n",
       "      <td>...</td>\n",
       "      <td>12.0</td>\n",
       "      <td>6.0</td>\n",
       "      <td>4.0</td>\n",
       "      <td>166.0</td>\n",
       "      <td>3.0</td>\n",
       "      <td>0.0</td>\n",
       "      <td>0.0</td>\n",
       "      <td>0.0</td>\n",
       "      <td>0.0</td>\n",
       "      <td>0.0</td>\n",
       "    </tr>\n",
       "    <tr>\n",
       "      <th>3</th>\n",
       "      <td>2250700008488</td>\n",
       "      <td>SII</td>\n",
       "      <td>0</td>\n",
       "      <td>0</td>\n",
       "      <td>0</td>\n",
       "      <td>0</td>\n",
       "      <td>0</td>\n",
       "      <td>0</td>\n",
       "      <td>0</td>\n",
       "      <td>0</td>\n",
       "      <td>...</td>\n",
       "      <td>0.0</td>\n",
       "      <td>0.0</td>\n",
       "      <td>0.0</td>\n",
       "      <td>0.0</td>\n",
       "      <td>0.0</td>\n",
       "      <td>0.0</td>\n",
       "      <td>0.0</td>\n",
       "      <td>0.0</td>\n",
       "      <td>0.0</td>\n",
       "      <td>0.0</td>\n",
       "    </tr>\n",
       "    <tr>\n",
       "      <th>4</th>\n",
       "      <td>2250700010952</td>\n",
       "      <td>SII</td>\n",
       "      <td>0</td>\n",
       "      <td>0</td>\n",
       "      <td>0</td>\n",
       "      <td>0</td>\n",
       "      <td>0</td>\n",
       "      <td>0</td>\n",
       "      <td>0</td>\n",
       "      <td>0</td>\n",
       "      <td>...</td>\n",
       "      <td>11.0</td>\n",
       "      <td>3.0</td>\n",
       "      <td>1.0</td>\n",
       "      <td>40.0</td>\n",
       "      <td>1.0</td>\n",
       "      <td>0.0</td>\n",
       "      <td>0.0</td>\n",
       "      <td>0.0</td>\n",
       "      <td>0.0</td>\n",
       "      <td>0.0</td>\n",
       "    </tr>\n",
       "  </tbody>\n",
       "</table>\n",
       "<p>5 rows × 29 columns</p>\n",
       "</div>"
      ],
      "text/plain": [
       "          msisdn distributeur  statut_voix  statut_sms  statut_ff  statut_sva  \\\n",
       "0  2250700004156          SII            0           0          0           0   \n",
       "1  2250700008166          SII            0           0          0           0   \n",
       "2  2250700008178          SII            0           0          0           0   \n",
       "3  2250700008488          SII            0           0          0           0   \n",
       "4  2250700010952          SII            0           0          0           0   \n",
       "\n",
       "   statut_data  statut_om  valeur  vol_tot_data  ...  nbre_sms_in  \\\n",
       "0            0          0       0             0  ...          6.0   \n",
       "1            0          0       0             0  ...         10.0   \n",
       "2            0          0       0             0  ...         12.0   \n",
       "3            0          0       0             0  ...          0.0   \n",
       "4            0          0       0             0  ...         11.0   \n",
       "\n",
       "   nbre_dist_sms_in  nbre_voix_in  dur_in  nbre_dist_voix_in  nbre_sms_night  \\\n",
       "0               1.0           0.0     0.0                0.0             0.0   \n",
       "1               2.0          10.0   748.0                6.0             0.0   \n",
       "2               6.0           4.0   166.0                3.0             0.0   \n",
       "3               0.0           0.0     0.0                0.0             0.0   \n",
       "4               3.0           1.0    40.0                1.0             0.0   \n",
       "\n",
       "   nbre_dist_sms_night  nbre_voix_night  dur_night  nbre_dist_voix_night  \n",
       "0                  0.0              0.0        0.0                   0.0  \n",
       "1                  0.0              0.0        0.0                   0.0  \n",
       "2                  0.0              0.0        0.0                   0.0  \n",
       "3                  0.0              0.0        0.0                   0.0  \n",
       "4                  0.0              0.0        0.0                   0.0  \n",
       "\n",
       "[5 rows x 29 columns]"
      ]
     },
     "execution_count": 15,
     "metadata": {},
     "output_type": "execute_result"
    }
   ],
   "source": [
    "df_test_30 = pd.read_csv(\"/Users/youssouf/Documents/simboxv2/df_final_prediction_20210930.csv\", sep = \";\")\n",
    "df_test_30.head()\n"
   ]
  },
  {
   "cell_type": "code",
   "execution_count": 3,
   "metadata": {},
   "outputs": [
    {
     "data": {
      "text/html": [
       "<div>\n",
       "<style scoped>\n",
       "    .dataframe tbody tr th:only-of-type {\n",
       "        vertical-align: middle;\n",
       "    }\n",
       "\n",
       "    .dataframe tbody tr th {\n",
       "        vertical-align: top;\n",
       "    }\n",
       "\n",
       "    .dataframe thead th {\n",
       "        text-align: right;\n",
       "    }\n",
       "</style>\n",
       "<table border=\"1\" class=\"dataframe\">\n",
       "  <thead>\n",
       "    <tr style=\"text-align: right;\">\n",
       "      <th></th>\n",
       "      <th>msisdn</th>\n",
       "      <th>distributeur</th>\n",
       "      <th>statut_voix</th>\n",
       "      <th>statut_sms</th>\n",
       "      <th>statut_ff</th>\n",
       "      <th>statut_sva</th>\n",
       "      <th>statut_data</th>\n",
       "      <th>statut_om</th>\n",
       "      <th>valeur</th>\n",
       "      <th>vol_tot_data</th>\n",
       "      <th>...</th>\n",
       "      <th>nbre_dist_sms_in</th>\n",
       "      <th>nbre_voix_in</th>\n",
       "      <th>dur_in</th>\n",
       "      <th>nbre_dist_voix_in</th>\n",
       "      <th>nbre_sms_night</th>\n",
       "      <th>nbre_dist_sms_night</th>\n",
       "      <th>nbre_voix_night</th>\n",
       "      <th>dur_night</th>\n",
       "      <th>nbre_dist_voix_night</th>\n",
       "      <th>statut</th>\n",
       "    </tr>\n",
       "  </thead>\n",
       "  <tbody>\n",
       "    <tr>\n",
       "      <th>0</th>\n",
       "      <td>2250707492509</td>\n",
       "      <td>AMANDA</td>\n",
       "      <td>1.0</td>\n",
       "      <td>1.0</td>\n",
       "      <td>1.0</td>\n",
       "      <td>1.0</td>\n",
       "      <td>1.0</td>\n",
       "      <td>1.0</td>\n",
       "      <td>8249.0</td>\n",
       "      <td>1.0</td>\n",
       "      <td>...</td>\n",
       "      <td>1</td>\n",
       "      <td>0</td>\n",
       "      <td>0</td>\n",
       "      <td>0</td>\n",
       "      <td>0</td>\n",
       "      <td>0</td>\n",
       "      <td>0</td>\n",
       "      <td>0</td>\n",
       "      <td>0</td>\n",
       "      <td>0</td>\n",
       "    </tr>\n",
       "    <tr>\n",
       "      <th>1</th>\n",
       "      <td>2250708078700</td>\n",
       "      <td>AMANDA</td>\n",
       "      <td>1.0</td>\n",
       "      <td>1.0</td>\n",
       "      <td>1.0</td>\n",
       "      <td>1.0</td>\n",
       "      <td>1.0</td>\n",
       "      <td>1.0</td>\n",
       "      <td>8249.0</td>\n",
       "      <td>1.0</td>\n",
       "      <td>...</td>\n",
       "      <td>0</td>\n",
       "      <td>0</td>\n",
       "      <td>0</td>\n",
       "      <td>0</td>\n",
       "      <td>0</td>\n",
       "      <td>0</td>\n",
       "      <td>0</td>\n",
       "      <td>0</td>\n",
       "      <td>0</td>\n",
       "      <td>0</td>\n",
       "    </tr>\n",
       "    <tr>\n",
       "      <th>2</th>\n",
       "      <td>2250708160010</td>\n",
       "      <td>AMANDA</td>\n",
       "      <td>1.0</td>\n",
       "      <td>1.0</td>\n",
       "      <td>1.0</td>\n",
       "      <td>1.0</td>\n",
       "      <td>1.0</td>\n",
       "      <td>1.0</td>\n",
       "      <td>8249.0</td>\n",
       "      <td>1.0</td>\n",
       "      <td>...</td>\n",
       "      <td>1</td>\n",
       "      <td>0</td>\n",
       "      <td>0</td>\n",
       "      <td>0</td>\n",
       "      <td>0</td>\n",
       "      <td>0</td>\n",
       "      <td>0</td>\n",
       "      <td>0</td>\n",
       "      <td>0</td>\n",
       "      <td>0</td>\n",
       "    </tr>\n",
       "    <tr>\n",
       "      <th>3</th>\n",
       "      <td>2250708643787</td>\n",
       "      <td>AMANDA</td>\n",
       "      <td>1.0</td>\n",
       "      <td>1.0</td>\n",
       "      <td>1.0</td>\n",
       "      <td>1.0</td>\n",
       "      <td>1.0</td>\n",
       "      <td>1.0</td>\n",
       "      <td>8249.0</td>\n",
       "      <td>1.0</td>\n",
       "      <td>...</td>\n",
       "      <td>1</td>\n",
       "      <td>0</td>\n",
       "      <td>0</td>\n",
       "      <td>0</td>\n",
       "      <td>0</td>\n",
       "      <td>0</td>\n",
       "      <td>0</td>\n",
       "      <td>0</td>\n",
       "      <td>0</td>\n",
       "      <td>0</td>\n",
       "    </tr>\n",
       "    <tr>\n",
       "      <th>4</th>\n",
       "      <td>2250747888117</td>\n",
       "      <td>AMANDA</td>\n",
       "      <td>1.0</td>\n",
       "      <td>1.0</td>\n",
       "      <td>1.0</td>\n",
       "      <td>1.0</td>\n",
       "      <td>1.0</td>\n",
       "      <td>1.0</td>\n",
       "      <td>8249.0</td>\n",
       "      <td>1.0</td>\n",
       "      <td>...</td>\n",
       "      <td>1</td>\n",
       "      <td>0</td>\n",
       "      <td>0</td>\n",
       "      <td>0</td>\n",
       "      <td>0</td>\n",
       "      <td>0</td>\n",
       "      <td>0</td>\n",
       "      <td>0</td>\n",
       "      <td>0</td>\n",
       "      <td>0</td>\n",
       "    </tr>\n",
       "    <tr>\n",
       "      <th>5</th>\n",
       "      <td>2250748499700</td>\n",
       "      <td>AMANDA</td>\n",
       "      <td>1.0</td>\n",
       "      <td>1.0</td>\n",
       "      <td>1.0</td>\n",
       "      <td>1.0</td>\n",
       "      <td>1.0</td>\n",
       "      <td>1.0</td>\n",
       "      <td>8249.0</td>\n",
       "      <td>1.0</td>\n",
       "      <td>...</td>\n",
       "      <td>0</td>\n",
       "      <td>0</td>\n",
       "      <td>0</td>\n",
       "      <td>0</td>\n",
       "      <td>0</td>\n",
       "      <td>0</td>\n",
       "      <td>0</td>\n",
       "      <td>0</td>\n",
       "      <td>0</td>\n",
       "      <td>0</td>\n",
       "    </tr>\n",
       "    <tr>\n",
       "      <th>6</th>\n",
       "      <td>2250748882163</td>\n",
       "      <td>AMANDA</td>\n",
       "      <td>1.0</td>\n",
       "      <td>1.0</td>\n",
       "      <td>1.0</td>\n",
       "      <td>1.0</td>\n",
       "      <td>1.0</td>\n",
       "      <td>1.0</td>\n",
       "      <td>8249.0</td>\n",
       "      <td>1.0</td>\n",
       "      <td>...</td>\n",
       "      <td>0</td>\n",
       "      <td>0</td>\n",
       "      <td>0</td>\n",
       "      <td>0</td>\n",
       "      <td>0</td>\n",
       "      <td>0</td>\n",
       "      <td>0</td>\n",
       "      <td>0</td>\n",
       "      <td>0</td>\n",
       "      <td>0</td>\n",
       "    </tr>\n",
       "    <tr>\n",
       "      <th>7</th>\n",
       "      <td>2250749505761</td>\n",
       "      <td>AMANDA</td>\n",
       "      <td>1.0</td>\n",
       "      <td>1.0</td>\n",
       "      <td>1.0</td>\n",
       "      <td>1.0</td>\n",
       "      <td>1.0</td>\n",
       "      <td>1.0</td>\n",
       "      <td>8249.0</td>\n",
       "      <td>1.0</td>\n",
       "      <td>...</td>\n",
       "      <td>1</td>\n",
       "      <td>0</td>\n",
       "      <td>0</td>\n",
       "      <td>0</td>\n",
       "      <td>0</td>\n",
       "      <td>0</td>\n",
       "      <td>0</td>\n",
       "      <td>0</td>\n",
       "      <td>0</td>\n",
       "      <td>0</td>\n",
       "    </tr>\n",
       "    <tr>\n",
       "      <th>8</th>\n",
       "      <td>2250757041412</td>\n",
       "      <td>AMANDA</td>\n",
       "      <td>1.0</td>\n",
       "      <td>1.0</td>\n",
       "      <td>1.0</td>\n",
       "      <td>1.0</td>\n",
       "      <td>1.0</td>\n",
       "      <td>1.0</td>\n",
       "      <td>8249.0</td>\n",
       "      <td>1.0</td>\n",
       "      <td>...</td>\n",
       "      <td>1</td>\n",
       "      <td>0</td>\n",
       "      <td>0</td>\n",
       "      <td>0</td>\n",
       "      <td>0</td>\n",
       "      <td>0</td>\n",
       "      <td>0</td>\n",
       "      <td>0</td>\n",
       "      <td>0</td>\n",
       "      <td>0</td>\n",
       "    </tr>\n",
       "    <tr>\n",
       "      <th>9</th>\n",
       "      <td>2250758859442</td>\n",
       "      <td>AMANDA</td>\n",
       "      <td>1.0</td>\n",
       "      <td>1.0</td>\n",
       "      <td>1.0</td>\n",
       "      <td>1.0</td>\n",
       "      <td>1.0</td>\n",
       "      <td>1.0</td>\n",
       "      <td>8249.0</td>\n",
       "      <td>1.0</td>\n",
       "      <td>...</td>\n",
       "      <td>1</td>\n",
       "      <td>0</td>\n",
       "      <td>0</td>\n",
       "      <td>0</td>\n",
       "      <td>0</td>\n",
       "      <td>0</td>\n",
       "      <td>0</td>\n",
       "      <td>0</td>\n",
       "      <td>0</td>\n",
       "      <td>0</td>\n",
       "    </tr>\n",
       "  </tbody>\n",
       "</table>\n",
       "<p>10 rows × 30 columns</p>\n",
       "</div>"
      ],
      "text/plain": [
       "          msisdn distributeur  statut_voix  statut_sms  statut_ff  statut_sva  \\\n",
       "0  2250707492509       AMANDA          1.0         1.0        1.0         1.0   \n",
       "1  2250708078700       AMANDA          1.0         1.0        1.0         1.0   \n",
       "2  2250708160010       AMANDA          1.0         1.0        1.0         1.0   \n",
       "3  2250708643787       AMANDA          1.0         1.0        1.0         1.0   \n",
       "4  2250747888117       AMANDA          1.0         1.0        1.0         1.0   \n",
       "5  2250748499700       AMANDA          1.0         1.0        1.0         1.0   \n",
       "6  2250748882163       AMANDA          1.0         1.0        1.0         1.0   \n",
       "7  2250749505761       AMANDA          1.0         1.0        1.0         1.0   \n",
       "8  2250757041412       AMANDA          1.0         1.0        1.0         1.0   \n",
       "9  2250758859442       AMANDA          1.0         1.0        1.0         1.0   \n",
       "\n",
       "   statut_data  statut_om  valeur  vol_tot_data  ...  nbre_dist_sms_in  \\\n",
       "0          1.0        1.0  8249.0           1.0  ...                 1   \n",
       "1          1.0        1.0  8249.0           1.0  ...                 0   \n",
       "2          1.0        1.0  8249.0           1.0  ...                 1   \n",
       "3          1.0        1.0  8249.0           1.0  ...                 1   \n",
       "4          1.0        1.0  8249.0           1.0  ...                 1   \n",
       "5          1.0        1.0  8249.0           1.0  ...                 0   \n",
       "6          1.0        1.0  8249.0           1.0  ...                 0   \n",
       "7          1.0        1.0  8249.0           1.0  ...                 1   \n",
       "8          1.0        1.0  8249.0           1.0  ...                 1   \n",
       "9          1.0        1.0  8249.0           1.0  ...                 1   \n",
       "\n",
       "   nbre_voix_in dur_in  nbre_dist_voix_in  nbre_sms_night  \\\n",
       "0             0      0                  0               0   \n",
       "1             0      0                  0               0   \n",
       "2             0      0                  0               0   \n",
       "3             0      0                  0               0   \n",
       "4             0      0                  0               0   \n",
       "5             0      0                  0               0   \n",
       "6             0      0                  0               0   \n",
       "7             0      0                  0               0   \n",
       "8             0      0                  0               0   \n",
       "9             0      0                  0               0   \n",
       "\n",
       "   nbre_dist_sms_night  nbre_voix_night  dur_night  nbre_dist_voix_night  \\\n",
       "0                    0                0          0                     0   \n",
       "1                    0                0          0                     0   \n",
       "2                    0                0          0                     0   \n",
       "3                    0                0          0                     0   \n",
       "4                    0                0          0                     0   \n",
       "5                    0                0          0                     0   \n",
       "6                    0                0          0                     0   \n",
       "7                    0                0          0                     0   \n",
       "8                    0                0          0                     0   \n",
       "9                    0                0          0                     0   \n",
       "\n",
       "   statut  \n",
       "0       0  \n",
       "1       0  \n",
       "2       0  \n",
       "3       0  \n",
       "4       0  \n",
       "5       0  \n",
       "6       0  \n",
       "7       0  \n",
       "8       0  \n",
       "9       0  \n",
       "\n",
       "[10 rows x 30 columns]"
      ]
     },
     "execution_count": 3,
     "metadata": {},
     "output_type": "execute_result"
    }
   ],
   "source": [
    "data = pd.read_csv('/Users/youssouf/Documents/simboxv2/simbox_v4_3.csv', sep = \";\")\n",
    "data.head(10)"
   ]
  },
  {
   "cell_type": "code",
   "execution_count": 4,
   "metadata": {},
   "outputs": [
    {
     "data": {
      "text/plain": [
       "msisdn                    int64\n",
       "distributeur             object\n",
       "statut_voix             float64\n",
       "statut_sms              float64\n",
       "statut_ff               float64\n",
       "statut_sva              float64\n",
       "statut_data             float64\n",
       "statut_om               float64\n",
       "valeur                  float64\n",
       "vol_tot_data            float64\n",
       "vol_tot_voix_offnet     float64\n",
       "vol_tot_voix_onet       float64\n",
       "date_appel               object\n",
       "nbre_sms_out              int64\n",
       "nbre_dist_sms_out         int64\n",
       "nbre_voix_out             int64\n",
       "dur_out                   int64\n",
       "nbre_dist_voix_out        int64\n",
       "nbre_cell_out             int64\n",
       "nbre_sms_in               int64\n",
       "nbre_dist_sms_in          int64\n",
       "nbre_voix_in              int64\n",
       "dur_in                    int64\n",
       "nbre_dist_voix_in         int64\n",
       "nbre_sms_night            int64\n",
       "nbre_dist_sms_night       int64\n",
       "nbre_voix_night           int64\n",
       "dur_night                 int64\n",
       "nbre_dist_voix_night      int64\n",
       "statut                    int64\n",
       "dtype: object"
      ]
     },
     "execution_count": 4,
     "metadata": {},
     "output_type": "execute_result"
    }
   ],
   "source": [
    "data.dtypes"
   ]
  },
  {
   "cell_type": "code",
   "execution_count": 5,
   "metadata": {},
   "outputs": [
    {
     "data": {
      "text/plain": [
       "Index(['msisdn', 'distributeur', 'statut_voix', 'statut_sms', 'statut_ff',\n",
       "       'statut_sva', 'statut_data', 'statut_om', 'valeur', 'vol_tot_data',\n",
       "       'vol_tot_voix_offnet', 'vol_tot_voix_onet', 'date_appel',\n",
       "       'nbre_sms_out', 'nbre_dist_sms_out', 'nbre_voix_out', 'dur_out',\n",
       "       'nbre_dist_voix_out', 'nbre_cell_out', 'nbre_sms_in',\n",
       "       'nbre_dist_sms_in', 'nbre_voix_in', 'dur_in', 'nbre_dist_voix_in',\n",
       "       'nbre_sms_night', 'nbre_dist_sms_night', 'nbre_voix_night', 'dur_night',\n",
       "       'nbre_dist_voix_night', 'statut'],\n",
       "      dtype='object')"
      ]
     },
     "execution_count": 5,
     "metadata": {},
     "output_type": "execute_result"
    }
   ],
   "source": [
    "data.columns"
   ]
  },
  {
   "cell_type": "code",
   "execution_count": 16,
   "metadata": {},
   "outputs": [],
   "source": [
    "data1 = data[['statut_voix', 'statut_sms', 'statut_ff',\n",
    "       'statut_sva', 'statut_data', 'statut_om', 'valeur', 'vol_tot_data',\n",
    "       'vol_tot_voix_offnet', 'vol_tot_voix_onet',\n",
    "       'nbre_sms_out', 'nbre_dist_sms_out', 'nbre_voix_out', 'dur_out',\n",
    "       'nbre_dist_voix_out', 'nbre_cell_out', 'nbre_sms_in',\n",
    "       'nbre_dist_sms_in', 'nbre_voix_in', 'dur_in', 'nbre_dist_voix_in',\n",
    "       'nbre_sms_night', 'nbre_dist_sms_night', 'nbre_voix_night', 'dur_night',\n",
    "       'nbre_dist_voix_night', 'statut']]"
   ]
  },
  {
   "cell_type": "code",
   "execution_count": 17,
   "metadata": {},
   "outputs": [],
   "source": [
    "df_train1 = data1[data1[\"statut\"] == 1]\n",
    "df_train2 = data1[data1[\"statut\"] == 0]"
   ]
  },
  {
   "cell_type": "markdown",
   "metadata": {},
   "source": [
    "#### Modele Isolation Forest"
   ]
  },
  {
   "cell_type": "code",
   "execution_count": 18,
   "metadata": {},
   "outputs": [
    {
     "ename": "KeyboardInterrupt",
     "evalue": "",
     "output_type": "error",
     "traceback": [
      "\u001b[0;31m---------------------------------------------------------------------------\u001b[0m",
      "\u001b[0;31mKeyboardInterrupt\u001b[0m                         Traceback (most recent call last)",
      "\u001b[0;32m~/opt/anaconda3/lib/python3.8/threading.py\u001b[0m in \u001b[0;36mwait\u001b[0;34m(self, timeout)\u001b[0m\n\u001b[1;32m    301\u001b[0m             \u001b[0;32mif\u001b[0m \u001b[0mtimeout\u001b[0m \u001b[0;32mis\u001b[0m \u001b[0;32mNone\u001b[0m\u001b[0;34m:\u001b[0m\u001b[0;34m\u001b[0m\u001b[0;34m\u001b[0m\u001b[0m\n\u001b[0;32m--> 302\u001b[0;31m                 \u001b[0mwaiter\u001b[0m\u001b[0;34m.\u001b[0m\u001b[0macquire\u001b[0m\u001b[0;34m(\u001b[0m\u001b[0;34m)\u001b[0m\u001b[0;34m\u001b[0m\u001b[0;34m\u001b[0m\u001b[0m\n\u001b[0m\u001b[1;32m    303\u001b[0m                 \u001b[0mgotit\u001b[0m \u001b[0;34m=\u001b[0m \u001b[0;32mTrue\u001b[0m\u001b[0;34m\u001b[0m\u001b[0;34m\u001b[0m\u001b[0m\n",
      "\u001b[0;31mKeyboardInterrupt\u001b[0m: ",
      "\nDuring handling of the above exception, another exception occurred:\n",
      "\u001b[0;31mKeyboardInterrupt\u001b[0m                         Traceback (most recent call last)",
      "\u001b[0;32m~/opt/anaconda3/lib/python3.8/threading.py\u001b[0m in \u001b[0;36mwait\u001b[0;34m(self, timeout)\u001b[0m\n\u001b[1;32m    557\u001b[0m             \u001b[0;32mif\u001b[0m \u001b[0;32mnot\u001b[0m \u001b[0msignaled\u001b[0m\u001b[0;34m:\u001b[0m\u001b[0;34m\u001b[0m\u001b[0;34m\u001b[0m\u001b[0m\n\u001b[0;32m--> 558\u001b[0;31m                 \u001b[0msignaled\u001b[0m \u001b[0;34m=\u001b[0m \u001b[0mself\u001b[0m\u001b[0;34m.\u001b[0m\u001b[0m_cond\u001b[0m\u001b[0;34m.\u001b[0m\u001b[0mwait\u001b[0m\u001b[0;34m(\u001b[0m\u001b[0mtimeout\u001b[0m\u001b[0;34m)\u001b[0m\u001b[0;34m\u001b[0m\u001b[0;34m\u001b[0m\u001b[0m\n\u001b[0m\u001b[1;32m    559\u001b[0m             \u001b[0;32mreturn\u001b[0m \u001b[0msignaled\u001b[0m\u001b[0;34m\u001b[0m\u001b[0;34m\u001b[0m\u001b[0m\n",
      "\u001b[0;32m~/opt/anaconda3/lib/python3.8/threading.py\u001b[0m in \u001b[0;36mwait\u001b[0;34m(self, timeout)\u001b[0m\n\u001b[1;32m    301\u001b[0m             \u001b[0;32mif\u001b[0m \u001b[0mtimeout\u001b[0m \u001b[0;32mis\u001b[0m \u001b[0;32mNone\u001b[0m\u001b[0;34m:\u001b[0m\u001b[0;34m\u001b[0m\u001b[0;34m\u001b[0m\u001b[0m\n\u001b[0;32m--> 302\u001b[0;31m                 \u001b[0mwaiter\u001b[0m\u001b[0;34m.\u001b[0m\u001b[0macquire\u001b[0m\u001b[0;34m(\u001b[0m\u001b[0;34m)\u001b[0m\u001b[0;34m\u001b[0m\u001b[0;34m\u001b[0m\u001b[0m\n\u001b[0m\u001b[1;32m    303\u001b[0m                 \u001b[0mgotit\u001b[0m \u001b[0;34m=\u001b[0m \u001b[0;32mTrue\u001b[0m\u001b[0;34m\u001b[0m\u001b[0;34m\u001b[0m\u001b[0m\n",
      "\u001b[0;31mKeyboardInterrupt\u001b[0m: ",
      "\nDuring handling of the above exception, another exception occurred:\n",
      "\u001b[0;31mRuntimeError\u001b[0m                              Traceback (most recent call last)",
      "\u001b[0;32m~/opt/anaconda3/lib/python3.8/site-packages/joblib/parallel.py\u001b[0m in \u001b[0;36mretrieve\u001b[0;34m(self)\u001b[0m\n\u001b[1;32m    939\u001b[0m                 \u001b[0;32mif\u001b[0m \u001b[0mgetattr\u001b[0m\u001b[0;34m(\u001b[0m\u001b[0mself\u001b[0m\u001b[0;34m.\u001b[0m\u001b[0m_backend\u001b[0m\u001b[0;34m,\u001b[0m \u001b[0;34m'supports_timeout'\u001b[0m\u001b[0;34m,\u001b[0m \u001b[0;32mFalse\u001b[0m\u001b[0;34m)\u001b[0m\u001b[0;34m:\u001b[0m\u001b[0;34m\u001b[0m\u001b[0;34m\u001b[0m\u001b[0m\n\u001b[0;32m--> 940\u001b[0;31m                     \u001b[0mself\u001b[0m\u001b[0;34m.\u001b[0m\u001b[0m_output\u001b[0m\u001b[0;34m.\u001b[0m\u001b[0mextend\u001b[0m\u001b[0;34m(\u001b[0m\u001b[0mjob\u001b[0m\u001b[0;34m.\u001b[0m\u001b[0mget\u001b[0m\u001b[0;34m(\u001b[0m\u001b[0mtimeout\u001b[0m\u001b[0;34m=\u001b[0m\u001b[0mself\u001b[0m\u001b[0;34m.\u001b[0m\u001b[0mtimeout\u001b[0m\u001b[0;34m)\u001b[0m\u001b[0;34m)\u001b[0m\u001b[0;34m\u001b[0m\u001b[0;34m\u001b[0m\u001b[0m\n\u001b[0m\u001b[1;32m    941\u001b[0m                 \u001b[0;32melse\u001b[0m\u001b[0;34m:\u001b[0m\u001b[0;34m\u001b[0m\u001b[0;34m\u001b[0m\u001b[0m\n",
      "\u001b[0;32m~/opt/anaconda3/lib/python3.8/multiprocessing/pool.py\u001b[0m in \u001b[0;36mget\u001b[0;34m(self, timeout)\u001b[0m\n\u001b[1;32m    764\u001b[0m     \u001b[0;32mdef\u001b[0m \u001b[0mget\u001b[0m\u001b[0;34m(\u001b[0m\u001b[0mself\u001b[0m\u001b[0;34m,\u001b[0m \u001b[0mtimeout\u001b[0m\u001b[0;34m=\u001b[0m\u001b[0;32mNone\u001b[0m\u001b[0;34m)\u001b[0m\u001b[0;34m:\u001b[0m\u001b[0;34m\u001b[0m\u001b[0;34m\u001b[0m\u001b[0m\n\u001b[0;32m--> 765\u001b[0;31m         \u001b[0mself\u001b[0m\u001b[0;34m.\u001b[0m\u001b[0mwait\u001b[0m\u001b[0;34m(\u001b[0m\u001b[0mtimeout\u001b[0m\u001b[0;34m)\u001b[0m\u001b[0;34m\u001b[0m\u001b[0;34m\u001b[0m\u001b[0m\n\u001b[0m\u001b[1;32m    766\u001b[0m         \u001b[0;32mif\u001b[0m \u001b[0;32mnot\u001b[0m \u001b[0mself\u001b[0m\u001b[0;34m.\u001b[0m\u001b[0mready\u001b[0m\u001b[0;34m(\u001b[0m\u001b[0;34m)\u001b[0m\u001b[0;34m:\u001b[0m\u001b[0;34m\u001b[0m\u001b[0;34m\u001b[0m\u001b[0m\n",
      "\u001b[0;32m~/opt/anaconda3/lib/python3.8/multiprocessing/pool.py\u001b[0m in \u001b[0;36mwait\u001b[0;34m(self, timeout)\u001b[0m\n\u001b[1;32m    761\u001b[0m     \u001b[0;32mdef\u001b[0m \u001b[0mwait\u001b[0m\u001b[0;34m(\u001b[0m\u001b[0mself\u001b[0m\u001b[0;34m,\u001b[0m \u001b[0mtimeout\u001b[0m\u001b[0;34m=\u001b[0m\u001b[0;32mNone\u001b[0m\u001b[0;34m)\u001b[0m\u001b[0;34m:\u001b[0m\u001b[0;34m\u001b[0m\u001b[0;34m\u001b[0m\u001b[0m\n\u001b[0;32m--> 762\u001b[0;31m         \u001b[0mself\u001b[0m\u001b[0;34m.\u001b[0m\u001b[0m_event\u001b[0m\u001b[0;34m.\u001b[0m\u001b[0mwait\u001b[0m\u001b[0;34m(\u001b[0m\u001b[0mtimeout\u001b[0m\u001b[0;34m)\u001b[0m\u001b[0;34m\u001b[0m\u001b[0;34m\u001b[0m\u001b[0m\n\u001b[0m\u001b[1;32m    763\u001b[0m \u001b[0;34m\u001b[0m\u001b[0m\n",
      "\u001b[0;32m~/opt/anaconda3/lib/python3.8/threading.py\u001b[0m in \u001b[0;36mwait\u001b[0;34m(self, timeout)\u001b[0m\n\u001b[1;32m    558\u001b[0m                 \u001b[0msignaled\u001b[0m \u001b[0;34m=\u001b[0m \u001b[0mself\u001b[0m\u001b[0;34m.\u001b[0m\u001b[0m_cond\u001b[0m\u001b[0;34m.\u001b[0m\u001b[0mwait\u001b[0m\u001b[0;34m(\u001b[0m\u001b[0mtimeout\u001b[0m\u001b[0;34m)\u001b[0m\u001b[0;34m\u001b[0m\u001b[0;34m\u001b[0m\u001b[0m\n\u001b[0;32m--> 559\u001b[0;31m             \u001b[0;32mreturn\u001b[0m \u001b[0msignaled\u001b[0m\u001b[0;34m\u001b[0m\u001b[0;34m\u001b[0m\u001b[0m\n\u001b[0m\u001b[1;32m    560\u001b[0m \u001b[0;34m\u001b[0m\u001b[0m\n",
      "\u001b[0;32m~/opt/anaconda3/lib/python3.8/threading.py\u001b[0m in \u001b[0;36m__exit__\u001b[0;34m(self, *args)\u001b[0m\n\u001b[1;32m    249\u001b[0m     \u001b[0;32mdef\u001b[0m \u001b[0m__exit__\u001b[0m\u001b[0;34m(\u001b[0m\u001b[0mself\u001b[0m\u001b[0;34m,\u001b[0m \u001b[0;34m*\u001b[0m\u001b[0margs\u001b[0m\u001b[0;34m)\u001b[0m\u001b[0;34m:\u001b[0m\u001b[0;34m\u001b[0m\u001b[0;34m\u001b[0m\u001b[0m\n\u001b[0;32m--> 250\u001b[0;31m         \u001b[0;32mreturn\u001b[0m \u001b[0mself\u001b[0m\u001b[0;34m.\u001b[0m\u001b[0m_lock\u001b[0m\u001b[0;34m.\u001b[0m\u001b[0m__exit__\u001b[0m\u001b[0;34m(\u001b[0m\u001b[0;34m*\u001b[0m\u001b[0margs\u001b[0m\u001b[0;34m)\u001b[0m\u001b[0;34m\u001b[0m\u001b[0;34m\u001b[0m\u001b[0m\n\u001b[0m\u001b[1;32m    251\u001b[0m \u001b[0;34m\u001b[0m\u001b[0m\n",
      "\u001b[0;31mRuntimeError\u001b[0m: release unlocked lock",
      "\nDuring handling of the above exception, another exception occurred:\n",
      "\u001b[0;31mKeyboardInterrupt\u001b[0m                         Traceback (most recent call last)",
      "\u001b[0;32m~/opt/anaconda3/lib/python3.8/contextlib.py\u001b[0m in \u001b[0;36m__exit__\u001b[0;34m(self, type, value, traceback)\u001b[0m\n\u001b[1;32m    130\u001b[0m             \u001b[0;32mtry\u001b[0m\u001b[0;34m:\u001b[0m\u001b[0;34m\u001b[0m\u001b[0;34m\u001b[0m\u001b[0m\n\u001b[0;32m--> 131\u001b[0;31m                 \u001b[0mself\u001b[0m\u001b[0;34m.\u001b[0m\u001b[0mgen\u001b[0m\u001b[0;34m.\u001b[0m\u001b[0mthrow\u001b[0m\u001b[0;34m(\u001b[0m\u001b[0mtype\u001b[0m\u001b[0;34m,\u001b[0m \u001b[0mvalue\u001b[0m\u001b[0;34m,\u001b[0m \u001b[0mtraceback\u001b[0m\u001b[0;34m)\u001b[0m\u001b[0;34m\u001b[0m\u001b[0;34m\u001b[0m\u001b[0m\n\u001b[0m\u001b[1;32m    132\u001b[0m             \u001b[0;32mexcept\u001b[0m \u001b[0mStopIteration\u001b[0m \u001b[0;32mas\u001b[0m \u001b[0mexc\u001b[0m\u001b[0;34m:\u001b[0m\u001b[0;34m\u001b[0m\u001b[0;34m\u001b[0m\u001b[0m\n",
      "\u001b[0;32m~/opt/anaconda3/lib/python3.8/site-packages/joblib/_parallel_backends.py\u001b[0m in \u001b[0;36mretrieval_context\u001b[0;34m(self)\u001b[0m\n\u001b[1;32m    151\u001b[0m         \"\"\"\n\u001b[0;32m--> 152\u001b[0;31m         \u001b[0;32myield\u001b[0m\u001b[0;34m\u001b[0m\u001b[0;34m\u001b[0m\u001b[0m\n\u001b[0m\u001b[1;32m    153\u001b[0m \u001b[0;34m\u001b[0m\u001b[0m\n",
      "\u001b[0;32m~/opt/anaconda3/lib/python3.8/site-packages/joblib/parallel.py\u001b[0m in \u001b[0;36m__call__\u001b[0;34m(self, iterable)\u001b[0m\n\u001b[1;32m   1060\u001b[0m             \u001b[0;32mwith\u001b[0m \u001b[0mself\u001b[0m\u001b[0;34m.\u001b[0m\u001b[0m_backend\u001b[0m\u001b[0;34m.\u001b[0m\u001b[0mretrieval_context\u001b[0m\u001b[0;34m(\u001b[0m\u001b[0;34m)\u001b[0m\u001b[0;34m:\u001b[0m\u001b[0;34m\u001b[0m\u001b[0;34m\u001b[0m\u001b[0m\n\u001b[0;32m-> 1061\u001b[0;31m                 \u001b[0mself\u001b[0m\u001b[0;34m.\u001b[0m\u001b[0mretrieve\u001b[0m\u001b[0;34m(\u001b[0m\u001b[0;34m)\u001b[0m\u001b[0;34m\u001b[0m\u001b[0;34m\u001b[0m\u001b[0m\n\u001b[0m\u001b[1;32m   1062\u001b[0m             \u001b[0;31m# Make sure that we get a last message telling us we are done\u001b[0m\u001b[0;34m\u001b[0m\u001b[0;34m\u001b[0m\u001b[0;34m\u001b[0m\u001b[0m\n",
      "\u001b[0;32m~/opt/anaconda3/lib/python3.8/site-packages/joblib/parallel.py\u001b[0m in \u001b[0;36mretrieve\u001b[0;34m(self)\u001b[0m\n\u001b[1;32m    939\u001b[0m                 \u001b[0;32mif\u001b[0m \u001b[0mgetattr\u001b[0m\u001b[0;34m(\u001b[0m\u001b[0mself\u001b[0m\u001b[0;34m.\u001b[0m\u001b[0m_backend\u001b[0m\u001b[0;34m,\u001b[0m \u001b[0;34m'supports_timeout'\u001b[0m\u001b[0;34m,\u001b[0m \u001b[0;32mFalse\u001b[0m\u001b[0;34m)\u001b[0m\u001b[0;34m:\u001b[0m\u001b[0;34m\u001b[0m\u001b[0;34m\u001b[0m\u001b[0m\n\u001b[0;32m--> 940\u001b[0;31m                     \u001b[0mself\u001b[0m\u001b[0;34m.\u001b[0m\u001b[0m_output\u001b[0m\u001b[0;34m.\u001b[0m\u001b[0mextend\u001b[0m\u001b[0;34m(\u001b[0m\u001b[0mjob\u001b[0m\u001b[0;34m.\u001b[0m\u001b[0mget\u001b[0m\u001b[0;34m(\u001b[0m\u001b[0mtimeout\u001b[0m\u001b[0;34m=\u001b[0m\u001b[0mself\u001b[0m\u001b[0;34m.\u001b[0m\u001b[0mtimeout\u001b[0m\u001b[0;34m)\u001b[0m\u001b[0;34m)\u001b[0m\u001b[0;34m\u001b[0m\u001b[0;34m\u001b[0m\u001b[0m\n\u001b[0m\u001b[1;32m    941\u001b[0m                 \u001b[0;32melse\u001b[0m\u001b[0;34m:\u001b[0m\u001b[0;34m\u001b[0m\u001b[0;34m\u001b[0m\u001b[0m\n",
      "\u001b[0;31mKeyboardInterrupt\u001b[0m: ",
      "\nDuring handling of the above exception, another exception occurred:\n",
      "\u001b[0;31mKeyboardInterrupt\u001b[0m                         Traceback (most recent call last)",
      "\u001b[0;32m<ipython-input-18-6fb2557b7f35>\u001b[0m in \u001b[0;36m<module>\u001b[0;34m\u001b[0m\n\u001b[1;32m      1\u001b[0m clf=IsolationForest(n_estimators=100, max_samples='auto', contamination=float(.12), \\\n\u001b[1;32m      2\u001b[0m                         max_features=1.0, bootstrap=False, n_jobs=-1, random_state=42, verbose=0)\n\u001b[0;32m----> 3\u001b[0;31m \u001b[0mclf\u001b[0m\u001b[0;34m.\u001b[0m\u001b[0mfit\u001b[0m\u001b[0;34m(\u001b[0m\u001b[0mdf_train2\u001b[0m\u001b[0;34m.\u001b[0m\u001b[0mdrop\u001b[0m\u001b[0;34m(\u001b[0m\u001b[0;34m[\u001b[0m\u001b[0;34m\"statut\"\u001b[0m\u001b[0;34m]\u001b[0m\u001b[0;34m,\u001b[0m \u001b[0maxis\u001b[0m \u001b[0;34m=\u001b[0m \u001b[0;36m1\u001b[0m\u001b[0;34m)\u001b[0m\u001b[0;34m)\u001b[0m\u001b[0;34m\u001b[0m\u001b[0;34m\u001b[0m\u001b[0m\n\u001b[0m",
      "\u001b[0;32m~/opt/anaconda3/lib/python3.8/site-packages/sklearn/ensemble/_iforest.py\u001b[0m in \u001b[0;36mfit\u001b[0;34m(self, X, y, sample_weight)\u001b[0m\n\u001b[1;32m    276\u001b[0m         \u001b[0mself\u001b[0m\u001b[0;34m.\u001b[0m\u001b[0mmax_samples_\u001b[0m \u001b[0;34m=\u001b[0m \u001b[0mmax_samples\u001b[0m\u001b[0;34m\u001b[0m\u001b[0;34m\u001b[0m\u001b[0m\n\u001b[1;32m    277\u001b[0m         \u001b[0mmax_depth\u001b[0m \u001b[0;34m=\u001b[0m \u001b[0mint\u001b[0m\u001b[0;34m(\u001b[0m\u001b[0mnp\u001b[0m\u001b[0;34m.\u001b[0m\u001b[0mceil\u001b[0m\u001b[0;34m(\u001b[0m\u001b[0mnp\u001b[0m\u001b[0;34m.\u001b[0m\u001b[0mlog2\u001b[0m\u001b[0;34m(\u001b[0m\u001b[0mmax\u001b[0m\u001b[0;34m(\u001b[0m\u001b[0mmax_samples\u001b[0m\u001b[0;34m,\u001b[0m \u001b[0;36m2\u001b[0m\u001b[0;34m)\u001b[0m\u001b[0;34m)\u001b[0m\u001b[0;34m)\u001b[0m\u001b[0;34m)\u001b[0m\u001b[0;34m\u001b[0m\u001b[0;34m\u001b[0m\u001b[0m\n\u001b[0;32m--> 278\u001b[0;31m         super()._fit(X, y, max_samples,\n\u001b[0m\u001b[1;32m    279\u001b[0m                      \u001b[0mmax_depth\u001b[0m\u001b[0;34m=\u001b[0m\u001b[0mmax_depth\u001b[0m\u001b[0;34m,\u001b[0m\u001b[0;34m\u001b[0m\u001b[0;34m\u001b[0m\u001b[0m\n\u001b[1;32m    280\u001b[0m                      sample_weight=sample_weight)\n",
      "\u001b[0;32m~/opt/anaconda3/lib/python3.8/site-packages/sklearn/ensemble/_bagging.py\u001b[0m in \u001b[0;36m_fit\u001b[0;34m(self, X, y, max_samples, max_depth, sample_weight)\u001b[0m\n\u001b[1;32m    368\u001b[0m         \u001b[0mself\u001b[0m\u001b[0;34m.\u001b[0m\u001b[0m_seeds\u001b[0m \u001b[0;34m=\u001b[0m \u001b[0mseeds\u001b[0m\u001b[0;34m\u001b[0m\u001b[0;34m\u001b[0m\u001b[0m\n\u001b[1;32m    369\u001b[0m \u001b[0;34m\u001b[0m\u001b[0m\n\u001b[0;32m--> 370\u001b[0;31m         all_results = Parallel(n_jobs=n_jobs, verbose=self.verbose,\n\u001b[0m\u001b[1;32m    371\u001b[0m                                \u001b[0;34m**\u001b[0m\u001b[0mself\u001b[0m\u001b[0;34m.\u001b[0m\u001b[0m_parallel_args\u001b[0m\u001b[0;34m(\u001b[0m\u001b[0;34m)\u001b[0m\u001b[0;34m)\u001b[0m\u001b[0;34m(\u001b[0m\u001b[0;34m\u001b[0m\u001b[0;34m\u001b[0m\u001b[0m\n\u001b[1;32m    372\u001b[0m             delayed(_parallel_build_estimators)(\n",
      "\u001b[0;32m~/opt/anaconda3/lib/python3.8/site-packages/joblib/parallel.py\u001b[0m in \u001b[0;36m__call__\u001b[0;34m(self, iterable)\u001b[0m\n\u001b[1;32m   1059\u001b[0m \u001b[0;34m\u001b[0m\u001b[0m\n\u001b[1;32m   1060\u001b[0m             \u001b[0;32mwith\u001b[0m \u001b[0mself\u001b[0m\u001b[0;34m.\u001b[0m\u001b[0m_backend\u001b[0m\u001b[0;34m.\u001b[0m\u001b[0mretrieval_context\u001b[0m\u001b[0;34m(\u001b[0m\u001b[0;34m)\u001b[0m\u001b[0;34m:\u001b[0m\u001b[0;34m\u001b[0m\u001b[0;34m\u001b[0m\u001b[0m\n\u001b[0;32m-> 1061\u001b[0;31m                 \u001b[0mself\u001b[0m\u001b[0;34m.\u001b[0m\u001b[0mretrieve\u001b[0m\u001b[0;34m(\u001b[0m\u001b[0;34m)\u001b[0m\u001b[0;34m\u001b[0m\u001b[0;34m\u001b[0m\u001b[0m\n\u001b[0m\u001b[1;32m   1062\u001b[0m             \u001b[0;31m# Make sure that we get a last message telling us we are done\u001b[0m\u001b[0;34m\u001b[0m\u001b[0;34m\u001b[0m\u001b[0;34m\u001b[0m\u001b[0m\n\u001b[1;32m   1063\u001b[0m             \u001b[0melapsed_time\u001b[0m \u001b[0;34m=\u001b[0m \u001b[0mtime\u001b[0m\u001b[0;34m.\u001b[0m\u001b[0mtime\u001b[0m\u001b[0;34m(\u001b[0m\u001b[0;34m)\u001b[0m \u001b[0;34m-\u001b[0m \u001b[0mself\u001b[0m\u001b[0;34m.\u001b[0m\u001b[0m_start_time\u001b[0m\u001b[0;34m\u001b[0m\u001b[0;34m\u001b[0m\u001b[0m\n",
      "\u001b[0;32m~/opt/anaconda3/lib/python3.8/contextlib.py\u001b[0m in \u001b[0;36m__exit__\u001b[0;34m(self, type, value, traceback)\u001b[0m\n\u001b[1;32m    129\u001b[0m                 \u001b[0mvalue\u001b[0m \u001b[0;34m=\u001b[0m \u001b[0mtype\u001b[0m\u001b[0;34m(\u001b[0m\u001b[0;34m)\u001b[0m\u001b[0;34m\u001b[0m\u001b[0;34m\u001b[0m\u001b[0m\n\u001b[1;32m    130\u001b[0m             \u001b[0;32mtry\u001b[0m\u001b[0;34m:\u001b[0m\u001b[0;34m\u001b[0m\u001b[0;34m\u001b[0m\u001b[0m\n\u001b[0;32m--> 131\u001b[0;31m                 \u001b[0mself\u001b[0m\u001b[0;34m.\u001b[0m\u001b[0mgen\u001b[0m\u001b[0;34m.\u001b[0m\u001b[0mthrow\u001b[0m\u001b[0;34m(\u001b[0m\u001b[0mtype\u001b[0m\u001b[0;34m,\u001b[0m \u001b[0mvalue\u001b[0m\u001b[0;34m,\u001b[0m \u001b[0mtraceback\u001b[0m\u001b[0;34m)\u001b[0m\u001b[0;34m\u001b[0m\u001b[0;34m\u001b[0m\u001b[0m\n\u001b[0m\u001b[1;32m    132\u001b[0m             \u001b[0;32mexcept\u001b[0m \u001b[0mStopIteration\u001b[0m \u001b[0;32mas\u001b[0m \u001b[0mexc\u001b[0m\u001b[0;34m:\u001b[0m\u001b[0;34m\u001b[0m\u001b[0;34m\u001b[0m\u001b[0m\n\u001b[1;32m    133\u001b[0m                 \u001b[0;31m# Suppress StopIteration *unless* it's the same exception that\u001b[0m\u001b[0;34m\u001b[0m\u001b[0;34m\u001b[0m\u001b[0;34m\u001b[0m\u001b[0m\n",
      "\u001b[0;31mKeyboardInterrupt\u001b[0m: "
     ]
    }
   ],
   "source": [
    "clf=IsolationForest(n_estimators=100, max_samples='auto', contamination=float(.12), \\\n",
    "                        max_features=1.0, bootstrap=False, n_jobs=-1, random_state=42, verbose=0)\n",
    "clf.fit(df_train2.drop([\"statut\"], axis = 1))\n"
   ]
  },
  {
   "cell_type": "markdown",
   "metadata": {},
   "source": [
    "#### Predict"
   ]
  },
  {
   "cell_type": "code",
   "execution_count": null,
   "metadata": {},
   "outputs": [],
   "source": [
    "df_test_301 = df_test_30[['statut_voix', 'statut_sms', 'statut_ff',\n",
    "       'statut_sva', 'statut_data', 'statut_om', 'valeur', 'vol_tot_data',\n",
    "       'vol_tot_voix_offnet', 'vol_tot_voix_onet' ,\n",
    "       'nbre_sms_out', 'nbre_dist_sms_out', 'nbre_voix_out', 'dur_out',\n",
    "       'nbre_dist_voix_out', 'nbre_cell_out', 'nbre_sms_in',\n",
    "       'nbre_dist_sms_in', 'nbre_voix_in', 'dur_in', 'nbre_dist_voix_in',\n",
    "       'nbre_sms_night', 'nbre_dist_sms_night', 'nbre_voix_night', 'dur_night',\n",
    "       'nbre_dist_voix_night', 'statut']]"
   ]
  },
  {
   "cell_type": "code",
   "execution_count": 2,
   "metadata": {},
   "outputs": [],
   "source": [
    "from pyspark.ml.clustering import KMeans\n",
    "from pyspark.ml.evaluation import ClusteringEvaluator\n",
    "from pyspark.sql.functions import *\n",
    "from pyspark.sql.types import *\n",
    "from pyspark.ml.feature import *\n",
    "from pyspark.ml import Pipeline\n",
    "from pyspark.ml.classification import *\n",
    "from pyspark.ml.feature import IndexToString, StringIndexer, VectorIndexer\n",
    "from pyspark.ml.evaluation import MulticlassClassificationEvaluator\n",
    "from pyspark.ml.feature import VectorAssembler\n",
    "from pyspark.ml.evaluation import BinaryClassificationEvaluator\n",
    "from pyspark.ml.classification import MultilayerPerceptronClassifier\n",
    "from pyspark.ml.evaluation import MulticlassClassificationEvaluator\n",
    "from pyspark.mllib.evaluation import MulticlassMetrics\n",
    "from pyspark.sql import SparkSession\n",
    "from pyspark.ml.classification import LinearSVC\n",
    "from pyspark.ml.functions import vector_to_array\n",
    "import pandas as pd\n",
    "import numpy as np\n",
    "import os\n",
    "import pyarrow.parquet as pq\n",
    "from pyspark.ml.feature import StandardScaler\n",
    "from pyspark.sql.functions import mean as _mean, stddev as _stddev, col\n",
    "from math import *"
   ]
  },
  {
   "cell_type": "code",
   "execution_count": 3,
   "metadata": {},
   "outputs": [],
   "source": [
    "spark = SparkSession.builder.master(\"local[1]\")\\\n",
    "          .appName(\"sunshine_v2\")\\\n",
    "          .getOrCreate()\n",
    "\n",
    "sc = spark.sparkContext\n",
    "sc.setLogLevel(\"ERROR\")"
   ]
  },
  {
   "cell_type": "code",
   "execution_count": 28,
   "metadata": {},
   "outputs": [
    {
     "name": "stdout",
     "output_type": "stream",
     "text": [
      "+-------------+------------+-----------+----------+---------+----------+-----------+---------+------+------------+-------------------+-----------------+----------+------------+-----------------+-------------+-------+------------------+-------------+-----------+----------------+------------+------+-----------------+--------------+-------------------+---------------+---------+--------------------+------+\n",
      "|       msisdn|distributeur|statut_voix|statut_sms|statut_ff|statut_sva|statut_data|statut_om|valeur|vol_tot_data|vol_tot_voix_offnet|vol_tot_voix_onet|date_appel|nbre_sms_out|nbre_dist_sms_out|nbre_voix_out|dur_out|nbre_dist_voix_out|nbre_cell_out|nbre_sms_in|nbre_dist_sms_in|nbre_voix_in|dur_in|nbre_dist_voix_in|nbre_sms_night|nbre_dist_sms_night|nbre_voix_night|dur_night|nbre_dist_voix_night|statut|\n",
      "+-------------+------------+-----------+----------+---------+----------+-----------+---------+------+------------+-------------------+-----------------+----------+------------+-----------------+-------------+-------+------------------+-------------+-----------+----------------+------------+------+-----------------+--------------+-------------------+---------------+---------+--------------------+------+\n",
      "|2250707492509|      AMANDA|          1|         1|        1|         1|          1|        1|  8249|           1|                 66|              445|2021-09-21|           0|                0|            0|      0|                 0|            0|          1|               1|           0|     0|                0|             0|                  0|              0|        0|                   0|     0|\n",
      "|2250708078700|      AMANDA|          1|         1|        1|         1|          1|        1|  8249|           1|                 66|              445|2021-05-06|           1|                1|            2|     39|                 2|            3|          0|               0|           0|     0|                0|             0|                  0|              0|        0|                   0|     0|\n",
      "|2250708160010|      AMANDA|          1|         1|        1|         1|          1|        1|  8249|           1|                 66|              445|2021-05-06|           0|                0|            0|      0|                 0|            0|          1|               1|           0|     0|                0|             0|                  0|              0|        0|                   0|     0|\n",
      "|2250708643787|      AMANDA|          1|         1|        1|         1|          1|        1|  8249|           1|                 66|              445|2021-09-05|           0|                0|            0|      0|                 0|            0|          1|               1|           0|     0|                0|             0|                  0|              0|        0|                   0|     0|\n",
      "|2250747888117|      AMANDA|          1|         1|        1|         1|          1|        1|  8249|           1|                 66|              445|2021-09-09|           0|                0|            0|      0|                 0|            0|          1|               1|           0|     0|                0|             0|                  0|              0|        0|                   0|     0|\n",
      "+-------------+------------+-----------+----------+---------+----------+-----------+---------+------+------------+-------------------+-----------------+----------+------------+-----------------+-------------+-------+------------------+-------------+-----------+----------------+------------+------+-----------------+--------------+-------------------+---------------+---------+--------------------+------+\n",
      "only showing top 5 rows\n",
      "\n"
     ]
    }
   ],
   "source": [
    "df_final = spark.read.option(\"delimiter\", \";\").option(\"header\", True).csv(\"/Users/youssouf/Documents/simboxv2/simbox_v4_3.csv\")\n",
    "df_final.show(5)\n",
    "\n"
   ]
  },
  {
   "cell_type": "code",
   "execution_count": 29,
   "metadata": {},
   "outputs": [
    {
     "name": "stdout",
     "output_type": "stream",
     "text": [
      "+-------------+----------+\n",
      "|       msisdn|date_appel|\n",
      "+-------------+----------+\n",
      "|2250707492509|2021-09-21|\n",
      "|2250708078700|2021-05-06|\n",
      "|2250708160010|2021-05-06|\n",
      "|2250708643787|2021-09-05|\n",
      "|2250747888117|2021-09-09|\n",
      "+-------------+----------+\n",
      "only showing top 5 rows\n",
      "\n"
     ]
    }
   ],
   "source": [
    "df_final.select(\"msisdn\", \"date_appel\").show(5)"
   ]
  },
  {
   "cell_type": "code",
   "execution_count": 31,
   "metadata": {},
   "outputs": [
    {
     "name": "stdout",
     "output_type": "stream",
     "text": [
      "+-------------+----------+-----+\n",
      "|       msisdn|date_appel|month|\n",
      "+-------------+----------+-----+\n",
      "|2250707492509|2021-09-21|    9|\n",
      "|2250708078700|2021-05-06|    5|\n",
      "|2250708160010|2021-05-06|    5|\n",
      "|2250708643787|2021-09-05|    9|\n",
      "|2250747888117|2021-09-09|    9|\n",
      "+-------------+----------+-----+\n",
      "only showing top 5 rows\n",
      "\n"
     ]
    }
   ],
   "source": [
    "df_final = df_final.withColumn(\"month\", date_format(col(\"date_appel\"), \"M\"))\n",
    "df_final.select(\"msisdn\", \"date_appel\", \"month\").show(5)  \n",
    "                               \n",
    "                               "
   ]
  },
  {
   "cell_type": "markdown",
   "metadata": {},
   "source": [
    "##### SOS Crédit Data "
   ]
  },
  {
   "cell_type": "code",
   "execution_count": 25,
   "metadata": {},
   "outputs": [
    {
     "name": "stdout",
     "output_type": "stream",
     "text": [
      "+-------------+---------------+-------------------+\n",
      "|       MSISDN|nbr_emprunt_sos|mnt_emprunt_tot_sos|\n",
      "+-------------+---------------+-------------------+\n",
      "|2250758807127|              1|                500|\n",
      "|2250789285430|              1|                250|\n",
      "|2250749534834|              1|                500|\n",
      "|2250788064515|              2|                500|\n",
      "|2250788130438|              3|               1000|\n",
      "+-------------+---------------+-------------------+\n",
      "only showing top 5 rows\n",
      "\n"
     ]
    }
   ],
   "source": [
    "df_avril = spark.read.option(\"delimiter\", \";\").option(\"header\", True).csv(\"/Users/youssouf/Downloads/data_for_analyse_fraude/fraude_sos_credit_avr.csv\")\n",
    "\n",
    "df_avril.show(5)\n"
   ]
  },
  {
   "cell_type": "code",
   "execution_count": 45,
   "metadata": {},
   "outputs": [],
   "source": [
    "df_avril = df_avril.withColumn(\"mnt_emprunt_tot_sos\", col(\"mnt_emprunt_tot_sos\").cast(DoubleType())) \\\n",
    "                    .withColumn(\"nbr_emprunt_sos\", col(\"nbr_emprunt_sos\").cast(DoubleType()))\n",
    "\n"
   ]
  },
  {
   "cell_type": "code",
   "execution_count": 46,
   "metadata": {},
   "outputs": [
    {
     "name": "stdout",
     "output_type": "stream",
     "text": [
      "+-------+------------------+-------------------+\n",
      "|summary|   nbr_emprunt_sos|mnt_emprunt_tot_sos|\n",
      "+-------+------------------+-------------------+\n",
      "|  count|           3697199|            3697199|\n",
      "|   mean|3.3055131736214363| 1589.4691494831627|\n",
      "| stddev|  3.50498614336638|  2069.009027027498|\n",
      "|    min|               1.0|              250.0|\n",
      "|    max|              82.0|           128000.0|\n",
      "+-------+------------------+-------------------+\n",
      "\n"
     ]
    }
   ],
   "source": [
    "df_avril.select(\"nbr_emprunt_sos\",\"mnt_emprunt_tot_sos\").describe().show()"
   ]
  },
  {
   "cell_type": "code",
   "execution_count": 48,
   "metadata": {},
   "outputs": [
    {
     "name": "stdout",
     "output_type": "stream",
     "text": [
      "+-------------+---------------+-------------------+\n",
      "|       MSISDN|nbr_emprunt_sos|mnt_emprunt_tot_sos|\n",
      "+-------------+---------------+-------------------+\n",
      "|2250769814336|           64.0|           128000.0|\n",
      "|2250767737619|           51.0|           102000.0|\n",
      "|2250708503800|           47.0|            94000.0|\n",
      "|2250709165512|           47.0|            94000.0|\n",
      "|2250779381262|           48.0|            91500.0|\n",
      "|2250707956535|           43.0|            86000.0|\n",
      "|2250707248213|           41.0|            82000.0|\n",
      "|2250707738666|           41.0|            82000.0|\n",
      "|2250777555037|           41.0|            81000.0|\n",
      "|2250788612266|           40.0|            80000.0|\n",
      "|2250749583594|           40.0|            80000.0|\n",
      "|2250747779657|           40.0|            80000.0|\n",
      "|2250767747708|           39.0|            78000.0|\n",
      "|2250708885134|           39.0|            78000.0|\n",
      "|2250747181918|           38.0|            76000.0|\n",
      "|2250759764143|           38.0|            76000.0|\n",
      "|2250707553094|           38.0|            76000.0|\n",
      "|2250707836950|           37.0|            74000.0|\n",
      "|2250708595639|           36.0|            72000.0|\n",
      "|2250708958282|           36.0|            72000.0|\n",
      "+-------------+---------------+-------------------+\n",
      "only showing top 20 rows\n",
      "\n"
     ]
    }
   ],
   "source": [
    "df_avril.sort(desc(\"mnt_emprunt_tot_sos\")).show()"
   ]
  },
  {
   "cell_type": "code",
   "execution_count": 50,
   "metadata": {},
   "outputs": [],
   "source": [
    "cols = [i.lower() for i in df_avril.columns]\n",
    "df_avril = df_avril.toDF(*(c for c in cols))"
   ]
  },
  {
   "cell_type": "code",
   "execution_count": 51,
   "metadata": {},
   "outputs": [
    {
     "name": "stdout",
     "output_type": "stream",
     "text": [
      "+-------------+---------------+-------------------+-----+\n",
      "|       msisdn|nbr_emprunt_sos|mnt_emprunt_tot_sos|month|\n",
      "+-------------+---------------+-------------------+-----+\n",
      "|2250758807127|            1.0|              500.0|    4|\n",
      "|2250789285430|            1.0|              250.0|    4|\n",
      "|2250749534834|            1.0|              500.0|    4|\n",
      "|2250788064515|            2.0|              500.0|    4|\n",
      "|2250788130438|            3.0|             1000.0|    4|\n",
      "+-------------+---------------+-------------------+-----+\n",
      "only showing top 5 rows\n",
      "\n"
     ]
    }
   ],
   "source": [
    "df_avril = df_avril.withColumn(\"month\", lit(4))\n",
    "df_avril.show(5)"
   ]
  },
  {
   "cell_type": "code",
   "execution_count": 57,
   "metadata": {},
   "outputs": [
    {
     "name": "stdout",
     "output_type": "stream",
     "text": [
      "+-------------+---------------+-------------------+-----+\n",
      "|       msisdn|nbr_emprunt_sos|mnt_emprunt_tot_sos|month|\n",
      "+-------------+---------------+-------------------+-----+\n",
      "|2250779351951|           82.0|            20500.0|    4|\n",
      "|2250748449664|           79.0|            20000.0|    4|\n",
      "|2250757836489|           75.0|            18750.0|    4|\n",
      "|2250779917565|           74.0|            18750.0|    4|\n",
      "|2250789335425|           74.0|            36750.0|    4|\n",
      "|2250709594382|           74.0|            18500.0|    4|\n",
      "|2250707737900|           72.0|            20250.0|    4|\n",
      "|2250789933711|           71.0|            17750.0|    4|\n",
      "|2250758460821|           69.0|            17250.0|    4|\n",
      "|2250748070200|           67.0|            17500.0|    4|\n",
      "|2250777461847|           66.0|            33000.0|    4|\n",
      "|2250758175348|           65.0|            16250.0|    4|\n",
      "|2250758573906|           65.0|            16250.0|    4|\n",
      "|2250769814336|           64.0|           128000.0|    4|\n",
      "|2250778463950|           64.0|            17250.0|    4|\n",
      "|2250789423082|           63.0|            16500.0|    4|\n",
      "|2250778041857|           63.0|            15750.0|    4|\n",
      "|2250758533318|           63.0|            16500.0|    4|\n",
      "|2250757791581|           62.0|            16250.0|    4|\n",
      "|2250759924157|           62.0|            18250.0|    4|\n",
      "+-------------+---------------+-------------------+-----+\n",
      "only showing top 20 rows\n",
      "\n"
     ]
    }
   ],
   "source": [
    "df_avril.sort(desc(\"nbr_emprunt_sos\")).show()"
   ]
  },
  {
   "cell_type": "code",
   "execution_count": 39,
   "metadata": {},
   "outputs": [
    {
     "data": {
      "text/html": [
       "<div>\n",
       "<style scoped>\n",
       "    .dataframe tbody tr th:only-of-type {\n",
       "        vertical-align: middle;\n",
       "    }\n",
       "\n",
       "    .dataframe tbody tr th {\n",
       "        vertical-align: top;\n",
       "    }\n",
       "\n",
       "    .dataframe thead th {\n",
       "        text-align: right;\n",
       "    }\n",
       "</style>\n",
       "<table border=\"1\" class=\"dataframe\">\n",
       "  <thead>\n",
       "    <tr style=\"text-align: right;\">\n",
       "      <th></th>\n",
       "      <th>MSISDN</th>\n",
       "      <th>nbr_emprunt_sos</th>\n",
       "      <th>mnt_emprunt_tot_sos</th>\n",
       "    </tr>\n",
       "  </thead>\n",
       "  <tbody>\n",
       "    <tr>\n",
       "      <th>0</th>\n",
       "      <td>2250758807127</td>\n",
       "      <td>1</td>\n",
       "      <td>500</td>\n",
       "    </tr>\n",
       "    <tr>\n",
       "      <th>1</th>\n",
       "      <td>2250789285430</td>\n",
       "      <td>1</td>\n",
       "      <td>250</td>\n",
       "    </tr>\n",
       "    <tr>\n",
       "      <th>2</th>\n",
       "      <td>2250749534834</td>\n",
       "      <td>1</td>\n",
       "      <td>500</td>\n",
       "    </tr>\n",
       "    <tr>\n",
       "      <th>3</th>\n",
       "      <td>2250788064515</td>\n",
       "      <td>2</td>\n",
       "      <td>500</td>\n",
       "    </tr>\n",
       "    <tr>\n",
       "      <th>4</th>\n",
       "      <td>2250788130438</td>\n",
       "      <td>3</td>\n",
       "      <td>1000</td>\n",
       "    </tr>\n",
       "  </tbody>\n",
       "</table>\n",
       "</div>"
      ],
      "text/plain": [
       "          MSISDN  nbr_emprunt_sos  mnt_emprunt_tot_sos\n",
       "0  2250758807127                1                  500\n",
       "1  2250789285430                1                  250\n",
       "2  2250749534834                1                  500\n",
       "3  2250788064515                2                  500\n",
       "4  2250788130438                3                 1000"
      ]
     },
     "execution_count": 39,
     "metadata": {},
     "output_type": "execute_result"
    }
   ],
   "source": [
    "df_avril_pandas = pd.read_csv(\"/Users/youssouf/Downloads/data_for_analyse_fraude/fraude_sos_credit_avr.csv\", sep = \";\")\n",
    "df_avril_pandas.head()\n"
   ]
  },
  {
   "cell_type": "code",
   "execution_count": 41,
   "metadata": {},
   "outputs": [
    {
     "data": {
      "text/html": [
       "<div>\n",
       "<style scoped>\n",
       "    .dataframe tbody tr th:only-of-type {\n",
       "        vertical-align: middle;\n",
       "    }\n",
       "\n",
       "    .dataframe tbody tr th {\n",
       "        vertical-align: top;\n",
       "    }\n",
       "\n",
       "    .dataframe thead th {\n",
       "        text-align: right;\n",
       "    }\n",
       "</style>\n",
       "<table border=\"1\" class=\"dataframe\">\n",
       "  <thead>\n",
       "    <tr style=\"text-align: right;\">\n",
       "      <th></th>\n",
       "      <th>MSISDN</th>\n",
       "      <th>nbr_emprunt_sos</th>\n",
       "      <th>mnt_emprunt_tot_sos</th>\n",
       "    </tr>\n",
       "  </thead>\n",
       "  <tbody>\n",
       "    <tr>\n",
       "      <th>count</th>\n",
       "      <td>3.697199e+06</td>\n",
       "      <td>3.697199e+06</td>\n",
       "      <td>3.697199e+06</td>\n",
       "    </tr>\n",
       "    <tr>\n",
       "      <th>mean</th>\n",
       "      <td>2.250755e+12</td>\n",
       "      <td>3.305513e+00</td>\n",
       "      <td>1.589469e+03</td>\n",
       "    </tr>\n",
       "    <tr>\n",
       "      <th>std</th>\n",
       "      <td>2.847384e+07</td>\n",
       "      <td>3.504986e+00</td>\n",
       "      <td>2.069009e+03</td>\n",
       "    </tr>\n",
       "    <tr>\n",
       "      <th>min</th>\n",
       "      <td>2.250101e+12</td>\n",
       "      <td>1.000000e+00</td>\n",
       "      <td>2.500000e+02</td>\n",
       "    </tr>\n",
       "    <tr>\n",
       "      <th>25%</th>\n",
       "      <td>2.250747e+12</td>\n",
       "      <td>1.000000e+00</td>\n",
       "      <td>5.000000e+02</td>\n",
       "    </tr>\n",
       "    <tr>\n",
       "      <th>50%</th>\n",
       "      <td>2.250759e+12</td>\n",
       "      <td>2.000000e+00</td>\n",
       "      <td>1.000000e+03</td>\n",
       "    </tr>\n",
       "    <tr>\n",
       "      <th>75%</th>\n",
       "      <td>2.250778e+12</td>\n",
       "      <td>4.000000e+00</td>\n",
       "      <td>2.000000e+03</td>\n",
       "    </tr>\n",
       "    <tr>\n",
       "      <th>max</th>\n",
       "      <td>2.252735e+12</td>\n",
       "      <td>8.200000e+01</td>\n",
       "      <td>1.280000e+05</td>\n",
       "    </tr>\n",
       "  </tbody>\n",
       "</table>\n",
       "</div>"
      ],
      "text/plain": [
       "             MSISDN  nbr_emprunt_sos  mnt_emprunt_tot_sos\n",
       "count  3.697199e+06     3.697199e+06         3.697199e+06\n",
       "mean   2.250755e+12     3.305513e+00         1.589469e+03\n",
       "std    2.847384e+07     3.504986e+00         2.069009e+03\n",
       "min    2.250101e+12     1.000000e+00         2.500000e+02\n",
       "25%    2.250747e+12     1.000000e+00         5.000000e+02\n",
       "50%    2.250759e+12     2.000000e+00         1.000000e+03\n",
       "75%    2.250778e+12     4.000000e+00         2.000000e+03\n",
       "max    2.252735e+12     8.200000e+01         1.280000e+05"
      ]
     },
     "execution_count": 41,
     "metadata": {},
     "output_type": "execute_result"
    }
   ],
   "source": [
    "df_avril_pandas.describe()"
   ]
  },
  {
   "cell_type": "code",
   "execution_count": 49,
   "metadata": {},
   "outputs": [
    {
     "data": {
      "text/plain": [
       "{'whiskers': [<matplotlib.lines.Line2D at 0x7fac0d335700>,\n",
       "  <matplotlib.lines.Line2D at 0x7fac0d335a60>,\n",
       "  <matplotlib.lines.Line2D at 0x7fac0d344ee0>,\n",
       "  <matplotlib.lines.Line2D at 0x7fac0d34d280>,\n",
       "  <matplotlib.lines.Line2D at 0x7fac0d35b700>,\n",
       "  <matplotlib.lines.Line2D at 0x7fac0d35ba60>],\n",
       " 'caps': [<matplotlib.lines.Line2D at 0x7fac0d335dc0>,\n",
       "  <matplotlib.lines.Line2D at 0x7fac0d344160>,\n",
       "  <matplotlib.lines.Line2D at 0x7fac0d34d5e0>,\n",
       "  <matplotlib.lines.Line2D at 0x7fac0d34d940>,\n",
       "  <matplotlib.lines.Line2D at 0x7fac0d35bdc0>,\n",
       "  <matplotlib.lines.Line2D at 0x7fac0d501160>],\n",
       " 'boxes': [<matplotlib.lines.Line2D at 0x7fac0d3353a0>,\n",
       "  <matplotlib.lines.Line2D at 0x7fac0d344b80>,\n",
       "  <matplotlib.lines.Line2D at 0x7fac0d35b3a0>],\n",
       " 'medians': [<matplotlib.lines.Line2D at 0x7fac0d3444c0>,\n",
       "  <matplotlib.lines.Line2D at 0x7fac0d34dca0>,\n",
       "  <matplotlib.lines.Line2D at 0x7fac0d5014c0>],\n",
       " 'fliers': [<matplotlib.lines.Line2D at 0x7fac0d344820>,\n",
       "  <matplotlib.lines.Line2D at 0x7fac0d35b040>,\n",
       "  <matplotlib.lines.Line2D at 0x7fac0d501820>],\n",
       " 'means': []}"
      ]
     },
     "execution_count": 49,
     "metadata": {},
     "output_type": "execute_result"
    },
    {
     "data": {
      "image/png": "[encoded data removed]",
      "text/plain": [
       "<Figure size 432x288 with 1 Axes>"
      ]
     },
     "metadata": {
      "needs_background": "light"
     },
     "output_type": "display_data"
    }
   ],
   "source": [
    "plt.boxplot(df_avril_pandas)\n"
   ]
  },
  {
   "cell_type": "code",
   "execution_count": 67,
   "metadata": {},
   "outputs": [
    {
     "name": "stdout",
     "output_type": "stream",
     "text": [
      "+-------------+-----+--------------+-----------+----------+---------+----------+-----------+---------+------+------------+-------------------+-----------------+----------+------------+-----------------+-------------+-------+------------------+-------------+-----------+----------------+------------+------+-----------------+--------------+-------------------+---------------+---------+--------------------+------+---------------+-------------------+\n",
      "|       msisdn|month|  distributeur|statut_voix|statut_sms|statut_ff|statut_sva|statut_data|statut_om|valeur|vol_tot_data|vol_tot_voix_offnet|vol_tot_voix_onet|date_appel|nbre_sms_out|nbre_dist_sms_out|nbre_voix_out|dur_out|nbre_dist_voix_out|nbre_cell_out|nbre_sms_in|nbre_dist_sms_in|nbre_voix_in|dur_in|nbre_dist_voix_in|nbre_sms_night|nbre_dist_sms_night|nbre_voix_night|dur_night|nbre_dist_voix_night|statut|nbr_emprunt_sos|mnt_emprunt_tot_sos|\n",
      "+-------------+-----+--------------+-----------+----------+---------+----------+-----------+---------+------+------------+-------------------+-----------------+----------+------------+-----------------+-------------+-------+------------------+-------------+-----------+----------------+------------+------+-----------------+--------------+-------------------+---------------+---------+--------------------+------+---------------+-------------------+\n",
      "|2250707002101|    4|           SII|          1|         1|        1|         1|          1|        1| 10000|      119313|                 32|              279|2021-04-07|           0|                0|            0|      0|                 0|            0|          1|               1|           0|     0|                0|             0|                  0|              0|        0|                   0|     0|           11.0|             2750.0|\n",
      "|2250707002101|    7|      PRIMO MS|          0|         0|        0|         1|          0|        1|     0|           0|                  0|                0|2021-07-11|           2|                2|            0|      0|                 0|            0|          0|               0|           0|     0|                0|             0|                  0|              0|        0|                   0|     0|           null|               null|\n",
      "|2250707002101|    7|           SII|          1|         1|        1|         1|          1|        1|   300|       91360|                113|              600|2021-07-08|           0|                0|            0|      0|                 0|            0|          1|               1|           0|     0|                0|             0|                  0|              0|        0|                   0|     0|           null|               null|\n",
      "|2250707002101|    9|MOSAIK TELECOM|          1|         0|        0|         1|          0|        0|     0|           0|                  0|                0|2021-09-10|           2|                1|            0|      0|                 0|            0|          0|               0|           0|     0|                0|             0|                  0|              0|        0|                   0|     0|           null|               null|\n",
      "|2250707002101|    5|    ID TELECOM|          1|         1|        1|         1|          1|        0|   549|         234|                  0|               21|2021-05-30|           5|                1|            0|      0|                 0|            0|          0|               0|           0|     0|                0|             0|                  0|              0|        0|                   0|     0|           null|               null|\n",
      "+-------------+-----+--------------+-----------+----------+---------+----------+-----------+---------+------+------------+-------------------+-----------------+----------+------------+-----------------+-------------+-------+------------------+-------------+-----------+----------------+------------+------+-----------------+--------------+-------------------+---------------+---------+--------------------+------+---------------+-------------------+\n",
      "only showing top 5 rows\n",
      "\n"
     ]
    }
   ],
   "source": [
    "df_final1 = df_final.join(df_avril, [\"msisdn\", \"month\"], \"left\")\n",
    "df_final1.show(5)"
   ]
  },
  {
   "cell_type": "code",
   "execution_count": null,
   "metadata": {},
   "outputs": [],
   "source": []
  },
  {
   "cell_type": "markdown",
   "metadata": {},
   "source": [
    "##### Mai SOS Crédit "
   ]
  },
  {
   "cell_type": "code",
   "execution_count": 58,
   "metadata": {},
   "outputs": [
    {
     "name": "stdout",
     "output_type": "stream",
     "text": [
      "+-------------+---------------+-------------------+\n",
      "|       MSISDN|nbr_emprunt_sos|mnt_emprunt_tot_sos|\n",
      "+-------------+---------------+-------------------+\n",
      "|2250779512287|              1|               1000|\n",
      "|2250789285430|              3|                750|\n",
      "|2250767910529|              2|               1250|\n",
      "|2250788642011|              3|               1500|\n",
      "|2250757407261|              1|                500|\n",
      "+-------------+---------------+-------------------+\n",
      "only showing top 5 rows\n",
      "\n"
     ]
    }
   ],
   "source": [
    "df_mai = spark.read.option(\"delimiter\", \";\").option(\"header\", True).csv(\"xfraude_sos_credit_mai.csv\")\n",
    "\n",
    "df_mai.show(5)\n"
   ]
  },
  {
   "cell_type": "code",
   "execution_count": 59,
   "metadata": {},
   "outputs": [],
   "source": [
    "df_mai = df_mai.withColumn(\"mnt_emprunt_tot_sos\", col(\"mnt_emprunt_tot_sos\").cast(DoubleType())) \\\n",
    "                    .withColumn(\"nbr_emprunt_sos\", col(\"nbr_emprunt_sos\").cast(DoubleType()))\n",
    "\n"
   ]
  },
  {
   "cell_type": "code",
   "execution_count": 60,
   "metadata": {},
   "outputs": [],
   "source": [
    "cols = [i.lower() for i in df_mai.columns]\n",
    "df_mai = df_mai.toDF(*(c for c in cols))"
   ]
  },
  {
   "cell_type": "code",
   "execution_count": 61,
   "metadata": {},
   "outputs": [
    {
     "name": "stdout",
     "output_type": "stream",
     "text": [
      "+-------------+---------------+-------------------+-----+\n",
      "|       msisdn|nbr_emprunt_sos|mnt_emprunt_tot_sos|month|\n",
      "+-------------+---------------+-------------------+-----+\n",
      "|2250779512287|            1.0|             1000.0|    5|\n",
      "|2250789285430|            3.0|              750.0|    5|\n",
      "|2250767910529|            2.0|             1250.0|    5|\n",
      "|2250788642011|            3.0|             1500.0|    5|\n",
      "|2250757407261|            1.0|              500.0|    5|\n",
      "+-------------+---------------+-------------------+-----+\n",
      "only showing top 5 rows\n",
      "\n"
     ]
    }
   ],
   "source": [
    "df_mai = df_mai.withColumn(\"month\", lit(5))\n",
    "df_mai.show(5)"
   ]
  },
  {
   "cell_type": "code",
   "execution_count": 62,
   "metadata": {},
   "outputs": [
    {
     "name": "stdout",
     "output_type": "stream",
     "text": [
      "+-------------+---------------+-------------------+-----+\n",
      "|       msisdn|nbr_emprunt_sos|mnt_emprunt_tot_sos|month|\n",
      "+-------------+---------------+-------------------+-----+\n",
      "|2250779280809|          109.0|            27250.0|    5|\n",
      "|2250707657515|           75.0|            20500.0|    5|\n",
      "|2250758175348|           73.0|            18250.0|    5|\n",
      "|2250758533318|           73.0|            18500.0|    5|\n",
      "|2250788954782|           72.0|            20000.0|    5|\n",
      "|2250707209519|           71.0|            18750.0|    5|\n",
      "|2250779917565|           70.0|            19750.0|    5|\n",
      "|2250708387395|           70.0|            36000.0|    5|\n",
      "|2250787278852|           70.0|            18000.0|    5|\n",
      "|2250769851926|           69.0|            41500.0|    5|\n",
      "|2250777343717|           69.0|            36000.0|    5|\n",
      "|2250707737900|           68.0|            19250.0|    5|\n",
      "|2250769435506|           68.0|            28000.0|    5|\n",
      "|2250779746338|           67.0|            16750.0|    5|\n",
      "|2250748598263|           67.0|            18750.0|    5|\n",
      "|2250748449664|           64.0|            18250.0|    5|\n",
      "|2250779894414|           64.0|            16000.0|    5|\n",
      "|2250757055704|           64.0|            16000.0|    5|\n",
      "|2250707746223|           63.0|            15750.0|    5|\n",
      "|2250767775236|           63.0|            30250.0|    5|\n",
      "+-------------+---------------+-------------------+-----+\n",
      "only showing top 20 rows\n",
      "\n"
     ]
    }
   ],
   "source": [
    "df_mai.sort(desc(\"nbr_emprunt_sos\")).show()"
   ]
  },
  {
   "cell_type": "code",
   "execution_count": 63,
   "metadata": {},
   "outputs": [
    {
     "name": "stdout",
     "output_type": "stream",
     "text": [
      "+-------------+---------------+-------------------+-----+\n",
      "|       msisdn|nbr_emprunt_sos|mnt_emprunt_tot_sos|month|\n",
      "+-------------+---------------+-------------------+-----+\n",
      "|2250707836950|           43.0|            86000.0|    5|\n",
      "|2250749907121|           42.0|            84000.0|    5|\n",
      "|2250707429316|           42.0|            84000.0|    5|\n",
      "|2250708095563|           44.0|            83000.0|    5|\n",
      "|2250707901062|           41.0|            82000.0|    5|\n",
      "|2250708757675|           41.0|            81000.0|    5|\n",
      "|2250767571586|           40.0|            80000.0|    5|\n",
      "|2250767732596|           39.0|            78000.0|    5|\n",
      "|2250769814336|           39.0|            78000.0|    5|\n",
      "|2250777555037|           38.0|            76000.0|    5|\n",
      "|2250708958282|           38.0|            76000.0|    5|\n",
      "|2250759338903|           38.0|            76000.0|    5|\n",
      "|2250759764143|           37.0|            74000.0|    5|\n",
      "|2250767737619|           37.0|            74000.0|    5|\n",
      "|2250749614838|           36.0|            72000.0|    5|\n",
      "|2250707248213|           36.0|            72000.0|    5|\n",
      "|2250747649548|           36.0|            72000.0|    5|\n",
      "|2250707646551|           35.0|            70000.0|    5|\n",
      "|2250707933920|           35.0|            70000.0|    5|\n",
      "|2250758305958|           35.0|            70000.0|    5|\n",
      "+-------------+---------------+-------------------+-----+\n",
      "only showing top 20 rows\n",
      "\n"
     ]
    }
   ],
   "source": [
    "df_mai.sort(desc(\"mnt_emprunt_tot_sos\")).show()"
   ]
  },
  {
   "cell_type": "markdown",
   "metadata": {},
   "source": [
    "##### Joining"
   ]
  },
  {
   "cell_type": "code",
   "execution_count": 71,
   "metadata": {},
   "outputs": [
    {
     "name": "stdout",
     "output_type": "stream",
     "text": [
      "+-----+-------+\n",
      "|month|  count|\n",
      "+-----+-------+\n",
      "|    7| 411725|\n",
      "|    8| 164790|\n",
      "|    5|1654564|\n",
      "|    6| 487054|\n",
      "|    9|1247884|\n",
      "|    4|1351726|\n",
      "+-----+-------+\n",
      "\n"
     ]
    }
   ],
   "source": [
    "df_final.groupBy(\"month\").count().show()"
   ]
  },
  {
   "cell_type": "code",
   "execution_count": 68,
   "metadata": {},
   "outputs": [
    {
     "name": "stdout",
     "output_type": "stream",
     "text": [
      "+-----+-------+\n",
      "|month|  count|\n",
      "+-----+-------+\n",
      "|    7| 411725|\n",
      "|    8| 164790|\n",
      "|    5|1654564|\n",
      "|    6| 487054|\n",
      "|    9|1247884|\n",
      "|    4|1351726|\n",
      "+-----+-------+\n",
      "\n"
     ]
    }
   ],
   "source": [
    "df_final1.groupBy(\"month\").count().show()"
   ]
  },
  {
   "cell_type": "code",
   "execution_count": 69,
   "metadata": {},
   "outputs": [
    {
     "data": {
      "text/plain": [
       "5317743"
      ]
     },
     "execution_count": 69,
     "metadata": {},
     "output_type": "execute_result"
    }
   ],
   "source": [
    "df_final.count()"
   ]
  },
  {
   "cell_type": "code",
   "execution_count": 70,
   "metadata": {},
   "outputs": [
    {
     "data": {
      "text/plain": [
       "5317743"
      ]
     },
     "execution_count": 70,
     "metadata": {},
     "output_type": "execute_result"
    }
   ],
   "source": [
    "df_final1.count()"
   ]
  },
  {
   "cell_type": "code",
   "execution_count": 72,
   "metadata": {},
   "outputs": [
    {
     "name": "stdout",
     "output_type": "stream",
     "text": [
      "+-------------+-----+--------------+-----------+----------+---------+----------+-----------+---------+------+------------+-------------------+-----------------+----------+------------+-----------------+-------------+-------+------------------+-------------+-----------+----------------+------------+------+-----------------+--------------+-------------------+---------------+---------+--------------------+------+---------------+-------------------+---------------+-------------------+\n",
      "|       msisdn|month|  distributeur|statut_voix|statut_sms|statut_ff|statut_sva|statut_data|statut_om|valeur|vol_tot_data|vol_tot_voix_offnet|vol_tot_voix_onet|date_appel|nbre_sms_out|nbre_dist_sms_out|nbre_voix_out|dur_out|nbre_dist_voix_out|nbre_cell_out|nbre_sms_in|nbre_dist_sms_in|nbre_voix_in|dur_in|nbre_dist_voix_in|nbre_sms_night|nbre_dist_sms_night|nbre_voix_night|dur_night|nbre_dist_voix_night|statut|nbr_emprunt_sos|mnt_emprunt_tot_sos|nbr_emprunt_sos|mnt_emprunt_tot_sos|\n",
      "+-------------+-----+--------------+-----------+----------+---------+----------+-----------+---------+------+------------+-------------------+-----------------+----------+------------+-----------------+-------------+-------+------------------+-------------+-----------+----------------+------------+------+-----------------+--------------+-------------------+---------------+---------+--------------------+------+---------------+-------------------+---------------+-------------------+\n",
      "|2250707002101|    4|           SII|          1|         1|        1|         1|          1|        1| 10000|      119313|                 32|              279|2021-04-07|           0|                0|            0|      0|                 0|            0|          1|               1|           0|     0|                0|             0|                  0|              0|        0|                   0|     0|           11.0|             2750.0|           null|               null|\n",
      "|2250707002101|    7|      PRIMO MS|          0|         0|        0|         1|          0|        1|     0|           0|                  0|                0|2021-07-11|           2|                2|            0|      0|                 0|            0|          0|               0|           0|     0|                0|             0|                  0|              0|        0|                   0|     0|           null|               null|           null|               null|\n",
      "|2250707002101|    7|           SII|          1|         1|        1|         1|          1|        1|   300|       91360|                113|              600|2021-07-08|           0|                0|            0|      0|                 0|            0|          1|               1|           0|     0|                0|             0|                  0|              0|        0|                   0|     0|           null|               null|           null|               null|\n",
      "|2250707002101|    9|MOSAIK TELECOM|          1|         0|        0|         1|          0|        0|     0|           0|                  0|                0|2021-09-10|           2|                1|            0|      0|                 0|            0|          0|               0|           0|     0|                0|             0|                  0|              0|        0|                   0|     0|           null|               null|           null|               null|\n",
      "|2250707002101|    5|    ID TELECOM|          1|         1|        1|         1|          1|        0|   549|         234|                  0|               21|2021-05-30|           5|                1|            0|      0|                 0|            0|          0|               0|           0|     0|                0|             0|                  0|              0|        0|                   0|     0|           null|               null|            6.0|             1500.0|\n",
      "+-------------+-----+--------------+-----------+----------+---------+----------+-----------+---------+------+------------+-------------------+-----------------+----------+------------+-----------------+-------------+-------+------------------+-------------+-----------+----------------+------------+------+-----------------+--------------+-------------------+---------------+---------+--------------------+------+---------------+-------------------+---------------+-------------------+\n",
      "only showing top 5 rows\n",
      "\n"
     ]
    }
   ],
   "source": [
    "df_final2 = df_final1.join(df_mai, [\"msisdn\", \"month\"], \"left\")\n",
    "df_final2.show(5)"
   ]
  },
  {
   "cell_type": "code",
   "execution_count": 73,
   "metadata": {},
   "outputs": [
    {
     "name": "stdout",
     "output_type": "stream",
     "text": [
      "+-----+-------+\n",
      "|month|  count|\n",
      "+-----+-------+\n",
      "|    7| 411725|\n",
      "|    8| 164790|\n",
      "|    5|1654564|\n",
      "|    6| 487054|\n",
      "|    9|1247884|\n",
      "|    4|1351726|\n",
      "+-----+-------+\n",
      "\n"
     ]
    }
   ],
   "source": [
    "df_final2.groupBy(\"month\").count().show()"
   ]
  },
  {
   "cell_type": "code",
   "execution_count": null,
   "metadata": {},
   "outputs": [],
   "source": []
  },
  {
   "cell_type": "markdown",
   "metadata": {},
   "source": [
    "#### Juin "
   ]
  },
  {
   "cell_type": "code",
   "execution_count": 76,
   "metadata": {},
   "outputs": [
    {
     "name": "stdout",
     "output_type": "stream",
     "text": [
      "+-------------+---------------+-------------------+\n",
      "|       MSISDN|nbr_emprunt_sos|mnt_emprunt_tot_sos|\n",
      "+-------------+---------------+-------------------+\n",
      "|2250758807127|              5|               1750|\n",
      "|2250798091953|              2|               1500|\n",
      "|2250707672450|              1|                500|\n",
      "|2250708381153|              2|                500|\n",
      "|2250757407261|              1|                500|\n",
      "+-------------+---------------+-------------------+\n",
      "only showing top 5 rows\n",
      "\n"
     ]
    }
   ],
   "source": [
    "df_juin = spark.read.option(\"delimiter\", \";\").option(\"header\", True).csv(\"/Users/youssouf/Downloads/data_for_analyse_fraude/fraude_sos_credit_juin.csv\")\n",
    "\n",
    "df_juin.show(5)\n"
   ]
  },
  {
   "cell_type": "code",
   "execution_count": 77,
   "metadata": {},
   "outputs": [],
   "source": [
    "cols = [i.lower() for i in df_juin.columns]\n",
    "df_juin = df_juin.toDF(*(c for c in cols))"
   ]
  },
  {
   "cell_type": "code",
   "execution_count": 78,
   "metadata": {},
   "outputs": [],
   "source": [
    "df_juin = df_juin.withColumn(\"mnt_emprunt_tot_sos\", col(\"mnt_emprunt_tot_sos\").cast(DoubleType())) \\\n",
    "                    .withColumn(\"nbr_emprunt_sos\", col(\"nbr_emprunt_sos\").cast(DoubleType()))\n",
    "\n"
   ]
  },
  {
   "cell_type": "code",
   "execution_count": 79,
   "metadata": {},
   "outputs": [
    {
     "name": "stdout",
     "output_type": "stream",
     "text": [
      "+-------------+---------------+-------------------+\n",
      "|       msisdn|nbr_emprunt_sos|mnt_emprunt_tot_sos|\n",
      "+-------------+---------------+-------------------+\n",
      "|2250758305958|           47.0|            94000.0|\n",
      "|2250708209881|           46.0|            92000.0|\n",
      "|2250708757675|           44.0|            88000.0|\n",
      "|2250769992243|           44.0|            88000.0|\n",
      "|2250709275656|           41.0|            82000.0|\n",
      "|2250767737619|           40.0|            80000.0|\n",
      "|2250707306870|           40.0|            80000.0|\n",
      "|2250789248914|           40.0|            80000.0|\n",
      "|2250759526667|           39.0|            78000.0|\n",
      "|2250747184160|           39.0|            78000.0|\n",
      "|2250707515658|           39.0|            76250.0|\n",
      "|2250708095563|           39.0|            74500.0|\n",
      "|2250707036384|           37.0|            74000.0|\n",
      "|2250707933920|           36.0|            72000.0|\n",
      "|2250759764143|           36.0|            72000.0|\n",
      "|2250767747708|           35.0|            70000.0|\n",
      "|2250749907121|           35.0|            70000.0|\n",
      "|2250709717373|           35.0|            70000.0|\n",
      "|2250787172753|           37.0|            69500.0|\n",
      "|2250708087174|           34.0|            68000.0|\n",
      "+-------------+---------------+-------------------+\n",
      "only showing top 20 rows\n",
      "\n"
     ]
    }
   ],
   "source": [
    "df_juin.sort(desc(\"mnt_emprunt_tot_sos\")).show()"
   ]
  },
  {
   "cell_type": "code",
   "execution_count": 80,
   "metadata": {},
   "outputs": [
    {
     "name": "stdout",
     "output_type": "stream",
     "text": [
      "+-------------+---------------+-------------------+\n",
      "|       msisdn|nbr_emprunt_sos|mnt_emprunt_tot_sos|\n",
      "+-------------+---------------+-------------------+\n",
      "|2250758305958|           47.0|            94000.0|\n",
      "|2250708209881|           46.0|            92000.0|\n",
      "|2250708757675|           44.0|            88000.0|\n",
      "|2250769992243|           44.0|            88000.0|\n",
      "|2250709275656|           41.0|            82000.0|\n",
      "|2250767737619|           40.0|            80000.0|\n",
      "|2250707306870|           40.0|            80000.0|\n",
      "|2250789248914|           40.0|            80000.0|\n",
      "|2250759526667|           39.0|            78000.0|\n",
      "|2250747184160|           39.0|            78000.0|\n",
      "|2250707515658|           39.0|            76250.0|\n",
      "|2250708095563|           39.0|            74500.0|\n",
      "|2250707036384|           37.0|            74000.0|\n",
      "|2250707933920|           36.0|            72000.0|\n",
      "|2250759764143|           36.0|            72000.0|\n",
      "|2250767747708|           35.0|            70000.0|\n",
      "|2250749907121|           35.0|            70000.0|\n",
      "|2250709717373|           35.0|            70000.0|\n",
      "|2250787172753|           37.0|            69500.0|\n",
      "|2250708087174|           34.0|            68000.0|\n",
      "+-------------+---------------+-------------------+\n",
      "only showing top 20 rows\n",
      "\n"
     ]
    }
   ],
   "source": [
    "df_juin.sort(desc(\"mnt_emprunt_tot_sos\")).show()"
   ]
  },
  {
   "cell_type": "code",
   "execution_count": 82,
   "metadata": {},
   "outputs": [
    {
     "name": "stdout",
     "output_type": "stream",
     "text": [
      "+-------+---------------------+------------------+-------------------+\n",
      "|summary|msisdn               |nbr_emprunt_sos   |mnt_emprunt_tot_sos|\n",
      "+-------+---------------------+------------------+-------------------+\n",
      "|count  |3666058              |3666058           |3666058            |\n",
      "|mean   |2.2507553454063315E12|3.205138871234443 |1559.6669501682734 |\n",
      "|stddev |2.8674324689006954E7 |3.4867710840797295|2033.3245334113126 |\n",
      "|min    |2250101020434        |1.0               |250.0              |\n",
      "|max    |2252734767823        |132.0             |94000.0            |\n",
      "+-------+---------------------+------------------+-------------------+\n",
      "\n"
     ]
    }
   ],
   "source": [
    "df_juin.describe().show(truncate = False)"
   ]
  },
  {
   "cell_type": "code",
   "execution_count": 83,
   "metadata": {},
   "outputs": [
    {
     "name": "stdout",
     "output_type": "stream",
     "text": [
      "+-------------+---------------+-------------------+-----+\n",
      "|       msisdn|nbr_emprunt_sos|mnt_emprunt_tot_sos|month|\n",
      "+-------------+---------------+-------------------+-----+\n",
      "|2250758807127|            5.0|             1750.0|    6|\n",
      "|2250798091953|            2.0|             1500.0|    6|\n",
      "|2250707672450|            1.0|              500.0|    6|\n",
      "|2250708381153|            2.0|              500.0|    6|\n",
      "|2250757407261|            1.0|              500.0|    6|\n",
      "+-------------+---------------+-------------------+-----+\n",
      "only showing top 5 rows\n",
      "\n"
     ]
    }
   ],
   "source": [
    "df_juin = df_juin.withColumn(\"month\", lit(6))\n",
    "df_juin.show(5)\n"
   ]
  },
  {
   "cell_type": "code",
   "execution_count": null,
   "metadata": {},
   "outputs": [],
   "source": []
  },
  {
   "cell_type": "markdown",
   "metadata": {},
   "source": [
    "##### Juillet"
   ]
  },
  {
   "cell_type": "code",
   "execution_count": 86,
   "metadata": {},
   "outputs": [
    {
     "name": "stdout",
     "output_type": "stream",
     "text": [
      "+-------------+---------------+-------------------+\n",
      "|       MSISDN|nbr_emprunt_sos|mnt_emprunt_tot_sos|\n",
      "+-------------+---------------+-------------------+\n",
      "|2250758807127|              2|               1000|\n",
      "|2250709043414|              1|                250|\n",
      "|2250707672450|              1|                250|\n",
      "|2250797344288|              6|               1500|\n",
      "|2250767368776|              1|               2000|\n",
      "+-------------+---------------+-------------------+\n",
      "only showing top 5 rows\n",
      "\n"
     ]
    }
   ],
   "source": [
    "df_juillet = spark.read.option(\"delimiter\", \";\").option(\"header\", True).csv(\"/Users/youssouf/Downloads/data_for_analyse_fraude/fraude_sos_credit_juillet_.csv\")\n",
    "\n",
    "df_juillet.show(5)\n"
   ]
  },
  {
   "cell_type": "code",
   "execution_count": 87,
   "metadata": {},
   "outputs": [],
   "source": [
    "cols = [i.lower() for i in df_juillet.columns]\n",
    "df_juillet = df_juillet.toDF(*(c for c in cols))"
   ]
  },
  {
   "cell_type": "code",
   "execution_count": 88,
   "metadata": {},
   "outputs": [],
   "source": [
    "df_juillet = df_juillet.withColumn(\"mnt_emprunt_tot_sos\", col(\"mnt_emprunt_tot_sos\").cast(DoubleType())) \\\n",
    "                    .withColumn(\"nbr_emprunt_sos\", col(\"nbr_emprunt_sos\").cast(DoubleType()))\n",
    "\n"
   ]
  },
  {
   "cell_type": "code",
   "execution_count": 89,
   "metadata": {},
   "outputs": [
    {
     "name": "stdout",
     "output_type": "stream",
     "text": [
      "+-------------+---------------+-------------------+\n",
      "|       msisdn|nbr_emprunt_sos|mnt_emprunt_tot_sos|\n",
      "+-------------+---------------+-------------------+\n",
      "|2250707933920|           54.0|           108000.0|\n",
      "|2250758305958|           51.0|           102000.0|\n",
      "|2250709275656|           49.0|            98000.0|\n",
      "|2250768888897|           45.0|            90000.0|\n",
      "|2250708595639|           44.0|            86500.0|\n",
      "|2250788612266|           41.0|            82000.0|\n",
      "|2250758477383|           39.0|            78000.0|\n",
      "|2250709717373|           38.0|            76000.0|\n",
      "|2250707440203|           38.0|            76000.0|\n",
      "|2250769992243|           38.0|            74500.0|\n",
      "|2250707897707|           37.0|            74000.0|\n",
      "|2250777986864|           36.0|            72000.0|\n",
      "|2250708278808|           36.0|            72000.0|\n",
      "|2250708087174|           36.0|            72000.0|\n",
      "|2250748978453|           40.0|            71250.0|\n",
      "|2250707915500|           35.0|            70000.0|\n",
      "|2250707613156|           35.0|            70000.0|\n",
      "|2250707345755|           35.0|            70000.0|\n",
      "|2250778086146|           35.0|            70000.0|\n",
      "|2250709667277|           35.0|            70000.0|\n",
      "+-------------+---------------+-------------------+\n",
      "only showing top 20 rows\n",
      "\n"
     ]
    }
   ],
   "source": [
    "df_juillet.sort(desc(\"mnt_emprunt_tot_sos\")).show()"
   ]
  },
  {
   "cell_type": "code",
   "execution_count": 90,
   "metadata": {},
   "outputs": [
    {
     "name": "stdout",
     "output_type": "stream",
     "text": [
      "+-------------+---------------+-------------------+\n",
      "|       msisdn|nbr_emprunt_sos|mnt_emprunt_tot_sos|\n",
      "+-------------+---------------+-------------------+\n",
      "|2250758573906|           83.0|            20750.0|\n",
      "|2250758533318|           74.0|            18500.0|\n",
      "|2250788094200|           72.0|            18500.0|\n",
      "|2250779351951|           71.0|            17750.0|\n",
      "|2250758175348|           70.0|            17500.0|\n",
      "|2250757613747|           70.0|            35500.0|\n",
      "|2250707746223|           69.0|            17500.0|\n",
      "|2250748476963|           69.0|            35750.0|\n",
      "|2250778280718|           68.0|            34500.0|\n",
      "|2250709437261|           67.0|            16750.0|\n",
      "|2250778122307|           67.0|            17000.0|\n",
      "|2250788716943|           67.0|            16750.0|\n",
      "|2250769720868|           67.0|            16750.0|\n",
      "|2250709594382|           67.0|            16750.0|\n",
      "|2250777102666|           66.0|            17250.0|\n",
      "|2250789110108|           66.0|            16500.0|\n",
      "|2250788731542|           65.0|            16250.0|\n",
      "|2250707236348|           65.0|            32500.0|\n",
      "|2250767658155|           64.0|            16000.0|\n",
      "|2250777839277|           64.0|            17500.0|\n",
      "+-------------+---------------+-------------------+\n",
      "only showing top 20 rows\n",
      "\n"
     ]
    }
   ],
   "source": [
    "df_juillet.sort(desc(\"nbr_emprunt_sos\")).show()"
   ]
  },
  {
   "cell_type": "code",
   "execution_count": 92,
   "metadata": {},
   "outputs": [
    {
     "name": "stdout",
     "output_type": "stream",
     "text": [
      "+-------+--------------------+-----------------+-------------------+\n",
      "|summary|msisdn              |nbr_emprunt_sos  |mnt_emprunt_tot_sos|\n",
      "+-------+--------------------+-----------------+-------------------+\n",
      "|count  |3619811             |3619811          |3619811            |\n",
      "|mean   |2.250756351673255E12|3.299167000708048|1601.256805949261  |\n",
      "|stddev |2.924032394207289E7 |3.590802304656753|2067.434121901588  |\n",
      "|min    |2250101020434       |1.0              |250.0              |\n",
      "|max    |2250798799971       |83.0             |108000.0           |\n",
      "+-------+--------------------+-----------------+-------------------+\n",
      "\n"
     ]
    }
   ],
   "source": [
    "df_juillet.describe().show(truncate = False)"
   ]
  },
  {
   "cell_type": "code",
   "execution_count": 98,
   "metadata": {},
   "outputs": [
    {
     "name": "stdout",
     "output_type": "stream",
     "text": [
      "+-------------+---------------+-------------------+-----+\n",
      "|       msisdn|nbr_emprunt_sos|mnt_emprunt_tot_sos|month|\n",
      "+-------------+---------------+-------------------+-----+\n",
      "|2250758807127|            2.0|             1000.0|    7|\n",
      "|2250709043414|            1.0|              250.0|    7|\n",
      "|2250707672450|            1.0|              250.0|    7|\n",
      "|2250797344288|            6.0|             1500.0|    7|\n",
      "|2250767368776|            1.0|             2000.0|    7|\n",
      "|2250757554730|            2.0|              500.0|    7|\n",
      "|2250779624013|            7.0|             2000.0|    7|\n",
      "|2250787102156|           10.0|             5000.0|    7|\n",
      "|2250709633550|            1.0|              250.0|    7|\n",
      "|2250798596685|            2.0|             1500.0|    7|\n",
      "|2250787382773|            5.0|             1500.0|    7|\n",
      "|2250707691931|            1.0|              500.0|    7|\n",
      "|2250708214203|            1.0|             2000.0|    7|\n",
      "|2250707597745|            2.0|             1000.0|    7|\n",
      "|2250767665655|            2.0|             1000.0|    7|\n",
      "|2250777682394|           20.0|             5000.0|    7|\n",
      "|2250747371041|            6.0|             1750.0|    7|\n",
      "|2250759590535|            1.0|              250.0|    7|\n",
      "|2250709555626|            5.0|             1250.0|    7|\n",
      "|2250708420115|            1.0|             1000.0|    7|\n",
      "+-------------+---------------+-------------------+-----+\n",
      "only showing top 20 rows\n",
      "\n"
     ]
    }
   ],
   "source": [
    "df_juillet = df_juillet.withColumn(\"month\", lit(7))\n",
    "df_juillet.show()\n",
    "\n"
   ]
  },
  {
   "cell_type": "markdown",
   "metadata": {},
   "source": [
    "#### Aout "
   ]
  },
  {
   "cell_type": "code",
   "execution_count": 99,
   "metadata": {},
   "outputs": [
    {
     "name": "stdout",
     "output_type": "stream",
     "text": [
      "+-------------+---------------+-------------------+\n",
      "|       MSISDN|nbr_emprunt_sos|mnt_emprunt_tot_sos|\n",
      "+-------------+---------------+-------------------+\n",
      "|2250747335298|              3|               3000|\n",
      "|2250709043414|              2|                500|\n",
      "|2250749534834|              7|               1750|\n",
      "|2250747237893|              1|                250|\n",
      "|2250788130438|              2|               1000|\n",
      "+-------------+---------------+-------------------+\n",
      "only showing top 5 rows\n",
      "\n",
      "+-------------+---------------+-------------------+-----+\n",
      "|       msisdn|nbr_emprunt_sos|mnt_emprunt_tot_sos|month|\n",
      "+-------------+---------------+-------------------+-----+\n",
      "|2250708942008|           58.0|           116000.0|    8|\n",
      "|2250707361334|           53.0|           106000.0|    8|\n",
      "|2250757810611|           45.0|            88500.0|    8|\n",
      "|2250757298539|           42.0|            84000.0|    8|\n",
      "|2250747181918|           41.0|            82000.0|    8|\n",
      "|2250707897707|           41.0|            82000.0|    8|\n",
      "|2250707440203|           40.0|            80000.0|    8|\n",
      "|2250797851174|           39.0|            78000.0|    8|\n",
      "|2250789248914|           39.0|            78000.0|    8|\n",
      "|2250769992243|           39.0|            78000.0|    8|\n",
      "|2250708003063|           38.0|            76000.0|    8|\n",
      "|2250709717373|           38.0|            76000.0|    8|\n",
      "|2250708595639|           38.0|            76000.0|    8|\n",
      "|2250709275656|           38.0|            76000.0|    8|\n",
      "|2250778006369|           37.0|            74000.0|    8|\n",
      "|2250707515658|           37.0|            74000.0|    8|\n",
      "|2250707832117|           38.0|            73500.0|    8|\n",
      "|2250709796376|           36.0|            72000.0|    8|\n",
      "|2250779648285|           36.0|            72000.0|    8|\n",
      "|2250707872501|           36.0|            70500.0|    8|\n",
      "+-------------+---------------+-------------------+-----+\n",
      "only showing top 20 rows\n",
      "\n",
      "+-------------+---------------+-------------------+-----+\n",
      "|       msisdn|nbr_emprunt_sos|mnt_emprunt_tot_sos|month|\n",
      "+-------------+---------------+-------------------+-----+\n",
      "|2250747169225|           85.0|            32500.0|    8|\n",
      "|2250758573906|           84.0|            21000.0|    8|\n",
      "|2250758175348|           84.0|            21000.0|    8|\n",
      "|2250707746223|           82.0|            20750.0|    8|\n",
      "|2250789795024|           77.0|            19250.0|    8|\n",
      "|2250759552599|           76.0|            38000.0|    8|\n",
      "|2250758533318|           73.0|            18500.0|    8|\n",
      "|2250757613747|           72.0|            37000.0|    8|\n",
      "|2250778463950|           69.0|            17250.0|    8|\n",
      "|2250748476963|           69.0|            35750.0|    8|\n",
      "|2250708972339|           68.0|            34000.0|    8|\n",
      "|2250707006296|           68.0|            17000.0|    8|\n",
      "|2250707716406|           67.0|            16750.0|    8|\n",
      "|2250748259846|           67.0|            16750.0|    8|\n",
      "|2250779894414|           67.0|            17000.0|    8|\n",
      "|2250757577677|           66.0|            21000.0|    8|\n",
      "|2250769435506|           66.0|            32500.0|    8|\n",
      "|2250787496842|           65.0|            16750.0|    8|\n",
      "|2250708387395|           65.0|            32500.0|    8|\n",
      "|2250779958159|           65.0|            16250.0|    8|\n",
      "+-------------+---------------+-------------------+-----+\n",
      "only showing top 20 rows\n",
      "\n",
      "+-------+--------------------+-----------------+-------------------+-------+\n",
      "|summary|msisdn              |nbr_emprunt_sos  |mnt_emprunt_tot_sos|month  |\n",
      "+-------+--------------------+-----------------+-------------------+-------+\n",
      "|count  |3721097             |3721097          |3721097            |3721097|\n",
      "|mean   |2.250756487850078E12|3.162193568187016|1580.4671982482585 |8.0    |\n",
      "|stddev |2.8930054764251303E7|3.533377284421516|2038.0864160666692 |0.0    |\n",
      "|min    |2250101020434       |1.0              |250.0              |8      |\n",
      "|max    |2252734771030       |85.0             |116000.0           |8      |\n",
      "+-------+--------------------+-----------------+-------------------+-------+\n",
      "\n"
     ]
    }
   ],
   "source": [
    "df_aout = spark.read.option(\"delimiter\", \";\").option(\"header\", True).csv(\"/Users/youssouf/Downloads/data_for_analyse_fraude/fraude_sos_credit_aout.csv\")\n",
    "\n",
    "df_aout.show(5)\n",
    "\n",
    "cols = [i.lower() for i in df_aout.columns]\n",
    "df_aout = df_aout.toDF(*(c for c in cols))\n",
    "\n",
    "\n",
    "df_aout = df_aout.withColumn(\"mnt_emprunt_tot_sos\", col(\"mnt_emprunt_tot_sos\").cast(DoubleType())) \\\n",
    "                    .withColumn(\"nbr_emprunt_sos\", col(\"nbr_emprunt_sos\").cast(DoubleType()))\n",
    "\n",
    "\n",
    "df_aout = df_aout.withColumn(\"month\", lit(8))\n",
    "\n",
    "df_aout.sort(desc(\"mnt_emprunt_tot_sos\")).show()\n",
    "\n",
    "\n",
    "df_aout.sort(desc(\"nbr_emprunt_sos\")).show()\n",
    "\n",
    "\n",
    "df_aout.describe().show(truncate = False)\n",
    "\n"
   ]
  },
  {
   "cell_type": "markdown",
   "metadata": {},
   "source": [
    "#### Septembre"
   ]
  },
  {
   "cell_type": "code",
   "execution_count": 100,
   "metadata": {},
   "outputs": [
    {
     "name": "stdout",
     "output_type": "stream",
     "text": [
      "+-------------+---------------+-------------------+\n",
      "|       MSISDN|nbr_emprunt_sos|mnt_emprunt_tot_sos|\n",
      "+-------------+---------------+-------------------+\n",
      "|2250758807127|              7|               1750|\n",
      "|2250757136704|             12|               5250|\n",
      "|2250767910529|              1|                250|\n",
      "|2250747237893|              6|               1500|\n",
      "|2250788130438|              1|                500|\n",
      "+-------------+---------------+-------------------+\n",
      "only showing top 5 rows\n",
      "\n",
      "+-------------+---------------+-------------------+-----+\n",
      "|       msisdn|nbr_emprunt_sos|mnt_emprunt_tot_sos|month|\n",
      "+-------------+---------------+-------------------+-----+\n",
      "|2250787323211|           50.0|           100000.0|    9|\n",
      "|2250708003063|           51.0|            98500.0|    9|\n",
      "|2250708595639|           45.0|            90000.0|    9|\n",
      "|2250757810611|           44.0|            88000.0|    9|\n",
      "|2250709275656|           39.0|            78000.0|    9|\n",
      "|2250749528404|           38.0|            76000.0|    9|\n",
      "|2250767737619|           38.0|            76000.0|    9|\n",
      "|2250767850233|           38.0|            76000.0|    9|\n",
      "|2250749471381|           38.0|            76000.0|    9|\n",
      "|2250787789587|           38.0|            75000.0|    9|\n",
      "|2250757293722|           36.0|            72000.0|    9|\n",
      "|2250789095847|           36.0|            70500.0|    9|\n",
      "|2250707515658|           35.0|            70000.0|    9|\n",
      "|2250749907121|           35.0|            70000.0|    9|\n",
      "|2250787152131|           35.0|            70000.0|    9|\n",
      "|2250708942008|           34.0|            68000.0|    9|\n",
      "|2250707036384|           32.0|            64000.0|    9|\n",
      "|2250778743532|           32.0|            64000.0|    9|\n",
      "|2250759679473|           32.0|            64000.0|    9|\n",
      "|2250749583594|           32.0|            64000.0|    9|\n",
      "+-------------+---------------+-------------------+-----+\n",
      "only showing top 20 rows\n",
      "\n",
      "+-------------+---------------+-------------------+-----+\n",
      "|       msisdn|nbr_emprunt_sos|mnt_emprunt_tot_sos|month|\n",
      "+-------------+---------------+-------------------+-----+\n",
      "|2250709594382|          113.0|            28500.0|    9|\n",
      "|2250758175348|           90.0|            22750.0|    9|\n",
      "|2250708015613|           87.0|            43750.0|    9|\n",
      "|2250758795013|           75.0|            18750.0|    9|\n",
      "|2250757044770|           72.0|            19000.0|    9|\n",
      "|2250759552599|           71.0|            35500.0|    9|\n",
      "|2250708620053|           71.0|            17750.0|    9|\n",
      "|2250749291596|           70.0|            17750.0|    9|\n",
      "|2250747754124|           69.0|            17250.0|    9|\n",
      "|2250707911348|           68.0|            34250.0|    9|\n",
      "|2250779894414|           68.0|            17000.0|    9|\n",
      "|2250747169225|           67.0|            31250.0|    9|\n",
      "|2250708147212|           67.0|            20750.0|    9|\n",
      "|2250787013926|           67.0|            16750.0|    9|\n",
      "|2250707746223|           67.0|            16750.0|    9|\n",
      "|2250779917565|           66.0|            18500.0|    9|\n",
      "|2250789777514|           66.0|            33000.0|    9|\n",
      "|2250709912171|           66.0|            16500.0|    9|\n",
      "|2250788748368|           65.0|            16250.0|    9|\n",
      "|2250759377133|           65.0|            20250.0|    9|\n",
      "+-------------+---------------+-------------------+-----+\n",
      "only showing top 20 rows\n",
      "\n",
      "+-------+--------------------+------------------+-------------------+-------+\n",
      "|summary|msisdn              |nbr_emprunt_sos   |mnt_emprunt_tot_sos|month  |\n",
      "+-------+--------------------+------------------+-------------------+-------+\n",
      "|count  |3639982             |3639982           |3639982            |3639982|\n",
      "|mean   |2.250757279175978E12|3.107008221469227 |1556.2563908283064 |9.0    |\n",
      "|stddev |2.9461281404718727E7|3.4215342564887896|1960.0838567939984 |0.0    |\n",
      "|min    |2250101145655       |1.0               |250.0              |9      |\n",
      "|max    |2252734774678       |113.0             |100000.0           |9      |\n",
      "+-------+--------------------+------------------+-------------------+-------+\n",
      "\n"
     ]
    }
   ],
   "source": [
    "df_sept = spark.read.option(\"delimiter\", \";\").option(\"header\", True).csv(\"/Users/youssouf/Downloads/data_for_analyse_fraude/fraude_sos_credit_sep.csv\")\n",
    "\n",
    "df_sept.show(5)\n",
    "\n",
    "cols = [i.lower() for i in df_sept.columns]\n",
    "df_sept = df_sept.toDF(*(c for c in cols))\n",
    "\n",
    "\n",
    "df_sept = df_sept.withColumn(\"mnt_emprunt_tot_sos\", col(\"mnt_emprunt_tot_sos\").cast(DoubleType())) \\\n",
    "                    .withColumn(\"nbr_emprunt_sos\", col(\"nbr_emprunt_sos\").cast(DoubleType()))\n",
    "\n",
    "df_sept = df_sept.withColumn(\"month\", lit(9))\n",
    "\n",
    "df_sept.sort(desc(\"mnt_emprunt_tot_sos\")).show()\n",
    "\n",
    "\n",
    "df_sept.sort(desc(\"nbr_emprunt_sos\")).show()\n",
    "\n",
    "\n",
    "df_sept.describe().show(truncate = False)\n"
   ]
  },
  {
   "cell_type": "code",
   "execution_count": null,
   "metadata": {},
   "outputs": [],
   "source": []
  },
  {
   "cell_type": "code",
   "execution_count": null,
   "metadata": {},
   "outputs": [],
   "source": []
  },
  {
   "cell_type": "markdown",
   "metadata": {},
   "source": [
    "#### Union df"
   ]
  },
  {
   "cell_type": "code",
   "execution_count": 101,
   "metadata": {},
   "outputs": [
    {
     "name": "stdout",
     "output_type": "stream",
     "text": [
      "+-------------+---------------+-------------------+-----+\n",
      "|       msisdn|nbr_emprunt_sos|mnt_emprunt_tot_sos|month|\n",
      "+-------------+---------------+-------------------+-----+\n",
      "|2250758807127|            1.0|              500.0|    4|\n",
      "|2250789285430|            1.0|              250.0|    4|\n",
      "|2250749534834|            1.0|              500.0|    4|\n",
      "|2250788064515|            2.0|              500.0|    4|\n",
      "|2250788130438|            3.0|             1000.0|    4|\n",
      "+-------------+---------------+-------------------+-----+\n",
      "only showing top 5 rows\n",
      "\n",
      "+-----+-------+\n",
      "|month|  count|\n",
      "+-----+-------+\n",
      "|    6|3666058|\n",
      "|    5|3734047|\n",
      "|    9|3639982|\n",
      "|    4|3697199|\n",
      "|    8|3721097|\n",
      "|    7|3619811|\n",
      "+-----+-------+\n",
      "\n"
     ]
    }
   ],
   "source": [
    "df_month = df_avril.union(df_mai).union(df_juin).union(df_juillet).union(df_aout).union(df_sept)\n",
    "df_month.show(5)\n",
    "\n",
    "df_month.groupBy(\"month\").count().show()"
   ]
  },
  {
   "cell_type": "code",
   "execution_count": null,
   "metadata": {},
   "outputs": [],
   "source": []
  },
  {
   "cell_type": "code",
   "execution_count": null,
   "metadata": {},
   "outputs": [],
   "source": [
    "#### Last join"
   ]
  },
  {
   "cell_type": "code",
   "execution_count": 102,
   "metadata": {},
   "outputs": [
    {
     "name": "stdout",
     "output_type": "stream",
     "text": [
      "+-------------+-----+--------------+-----------+----------+---------+----------+-----------+---------+------+------------+-------------------+-----------------+----------+------------+-----------------+-------------+-------+------------------+-------------+-----------+----------------+------------+------+-----------------+--------------+-------------------+---------------+---------+--------------------+------+---------------+-------------------+\n",
      "|       msisdn|month|  distributeur|statut_voix|statut_sms|statut_ff|statut_sva|statut_data|statut_om|valeur|vol_tot_data|vol_tot_voix_offnet|vol_tot_voix_onet|date_appel|nbre_sms_out|nbre_dist_sms_out|nbre_voix_out|dur_out|nbre_dist_voix_out|nbre_cell_out|nbre_sms_in|nbre_dist_sms_in|nbre_voix_in|dur_in|nbre_dist_voix_in|nbre_sms_night|nbre_dist_sms_night|nbre_voix_night|dur_night|nbre_dist_voix_night|statut|nbr_emprunt_sos|mnt_emprunt_tot_sos|\n",
      "+-------------+-----+--------------+-----------+----------+---------+----------+-----------+---------+------+------------+-------------------+-----------------+----------+------------+-----------------+-------------+-------+------------------+-------------+-----------+----------------+------------+------+-----------------+--------------+-------------------+---------------+---------+--------------------+------+---------------+-------------------+\n",
      "|2250707005023|    6|        AMANDA|          0|         0|        0|         0|          0|        0|     0|           0|                  0|                0|2021-06-08|           5|                1|            8|    576|                 6|            5|          0|               0|           0|     0|                0|             0|                  0|              0|        0|                   0|     0|           null|               null|\n",
      "|2250707005023|    6|        AMANDA|          1|         1|        1|         1|          1|        1|  1450|          61|                104|              112|2021-06-03|           0|                0|            0|      0|                 0|            0|          1|               1|           0|     0|                0|             0|                  0|              0|        0|                   0|     0|           null|               null|\n",
      "|2250707009248|    9|MAGIC BUSINESS|          1|         1|        1|         0|          1|        1|   310|      164193|                 31|              274|2021-09-15|           4|                2|            4|    254|                 4|            6|          0|               0|           0|     0|                0|             0|                  0|              0|        0|                   0|     0|           null|               null|\n",
      "|2250707009248|    9|           AJS|          1|         1|        1|         1|          0|        1|  3199|           0|                  0|               85|2021-09-10|          52|               11|            0|      0|                 0|            0|          0|               0|           0|     0|                0|             0|                  0|              0|        0|                   0|     0|           null|               null|\n",
      "|2250707009248|    9|           SII|          1|         1|        1|         1|          1|        1|  2200|      205295|                 35|               65|2021-09-16|           4|                1|            6|    736|                 5|            4|          0|               0|           0|     0|                0|             0|                  0|              0|        0|                   0|     0|           null|               null|\n",
      "+-------------+-----+--------------+-----------+----------+---------+----------+-----------+---------+------+------------+-------------------+-----------------+----------+------------+-----------------+-------------+-------+------------------+-------------+-----------+----------------+------------+------+-----------------+--------------+-------------------+---------------+---------+--------------------+------+---------------+-------------------+\n",
      "only showing top 5 rows\n",
      "\n",
      "+-----+-------+\n",
      "|month|  count|\n",
      "+-----+-------+\n",
      "|    7| 411725|\n",
      "|    8| 164790|\n",
      "|    5|1654564|\n",
      "|    6| 487054|\n",
      "|    9|1247884|\n",
      "|    4|1351726|\n",
      "+-----+-------+\n",
      "\n"
     ]
    }
   ],
   "source": [
    "df_finall = df_final.join(df_month, [\"msisdn\", \"month\"], \"left\")\n",
    "df_finall.show(5)\n",
    "\n",
    "df_finall.groupBy(\"month\").count().show()"
   ]
  },
  {
   "cell_type": "code",
   "execution_count": 103,
   "metadata": {},
   "outputs": [],
   "source": [
    "df_finall.write.mode(\"overwrite\").format(\"parquet\").save(\"/Users/youssouf/Documents/simboxv2/df_final_simbox_v4.parquet\")\n",
    "\n"
   ]
  },
  {
   "cell_type": "code",
   "execution_count": null,
   "metadata": {},
   "outputs": [],
   "source": []
  },
  {
   "cell_type": "code",
   "execution_count": null,
   "metadata": {},
   "outputs": [],
   "source": []
  },
  {
   "cell_type": "code",
   "execution_count": 104,
   "metadata": {},
   "outputs": [
    {
     "name": "stdout",
     "output_type": "stream",
     "text": [
      "+-----+------+-------------------+---------------+-----+\n",
      "|month|statut|mnt_emprunt_tot_sos|nbr_emprunt_sos|count|\n",
      "+-----+------+-------------------+---------------+-----+\n",
      "|    9|     0|             1750.0|            6.0| 3036|\n",
      "|    8|     0|             2500.0|            5.0|  678|\n",
      "|    4|     0|             3250.0|            8.0|  513|\n",
      "|    5|     1|             8000.0|            7.0|    3|\n",
      "|    6|     0|             5750.0|           23.0|   86|\n",
      "|    6|     0|            17000.0|            9.0|   34|\n",
      "|    6|     0|            13000.0|           25.0|   20|\n",
      "|    9|     0|             8000.0|           14.0|    4|\n",
      "|    6|     0|             5250.0|           20.0|  106|\n",
      "|    8|     0|             8500.0|            8.0|    5|\n",
      "|    6|     0|            10000.0|           16.0|    7|\n",
      "|    8|     0|            10250.0|           14.0|    2|\n",
      "|    4|     1|             3500.0|           13.0|    5|\n",
      "|    9|     1|             3500.0|           14.0|    3|\n",
      "|    7|     1|             8500.0|            6.0|    2|\n",
      "|    9|     1|            11250.0|           42.0|    1|\n",
      "|    8|     0|            12500.0|           19.0|    7|\n",
      "|    8|     0|            28000.0|           19.0|    5|\n",
      "|    7|     0|            10000.0|           11.0|    1|\n",
      "|    6|     0|            11000.0|           23.0|    5|\n",
      "+-----+------+-------------------+---------------+-----+\n",
      "only showing top 20 rows\n",
      "\n"
     ]
    }
   ],
   "source": [
    "df_finall.groupBy([\"month\", \"statut\", \"mnt_emprunt_tot_sos\", \"nbr_emprunt_sos\"]).count().show()"
   ]
  },
  {
   "cell_type": "code",
   "execution_count": null,
   "metadata": {},
   "outputs": [],
   "source": []
  },
  {
   "cell_type": "code",
   "execution_count": 114,
   "metadata": {},
   "outputs": [],
   "source": [
    "#df_finall.filter((col(\"statut\") == 1) & (col(\"mnt_emprunt_tot_sos\").isNotNull))"
   ]
  },
  {
   "cell_type": "code",
   "execution_count": 117,
   "metadata": {},
   "outputs": [
    {
     "name": "stdout",
     "output_type": "stream",
     "text": [
      "+-------------+------+\n",
      "|       msisdn|statut|\n",
      "+-------------+------+\n",
      "|2250707675223|     1|\n",
      "|2250707675223|     1|\n",
      "|2250778970966|     1|\n",
      "|2250798315405|     1|\n",
      "|2250708460113|     1|\n",
      "|2250778052096|     1|\n",
      "|2250779231386|     1|\n",
      "|2250777430281|     1|\n",
      "|2250778742661|     1|\n",
      "|2250767960919|     1|\n",
      "|2250777430626|     1|\n",
      "|2250707383354|     1|\n",
      "|2250707880243|     1|\n",
      "|2250777955311|     1|\n",
      "|2250748679062|     1|\n",
      "|2250788172830|     1|\n",
      "|2250788172830|     1|\n",
      "|2250769419481|     1|\n",
      "|2250777430281|     1|\n",
      "|2250768258783|     1|\n",
      "+-------------+------+\n",
      "only showing top 20 rows\n",
      "\n"
     ]
    }
   ],
   "source": [
    "df_finall.filter((col(\"mnt_emprunt_tot_sos\") >= 11250.0) & (col(\"statut\") == 1)).select(\"msisdn\", \"statut\").show()"
   ]
  },
  {
   "cell_type": "code",
   "execution_count": null,
   "metadata": {},
   "outputs": [],
   "source": []
  },
  {
   "cell_type": "code",
   "execution_count": null,
   "metadata": {},
   "outputs": [],
   "source": []
  },
  {
   "cell_type": "code",
   "execution_count": null,
   "metadata": {},
   "outputs": [],
   "source": []
  },
  {
   "cell_type": "markdown",
   "metadata": {},
   "source": [
    "##### sos crédit final data"
   ]
  },
  {
   "cell_type": "code",
   "execution_count": 4,
   "metadata": {},
   "outputs": [
    {
     "name": "stdout",
     "output_type": "stream",
     "text": [
      "+-------------+-----+--------------+-----------+----------+---------+----------+-----------+---------+------+------------+-------------------+-----------------+----------+------------+-----------------+-------------+-------+------------------+-------------+-----------+----------------+------------+------+-----------------+--------------+-------------------+---------------+---------+--------------------+------+---------------+-------------------+\n",
      "|       msisdn|month|  distributeur|statut_voix|statut_sms|statut_ff|statut_sva|statut_data|statut_om|valeur|vol_tot_data|vol_tot_voix_offnet|vol_tot_voix_onet|date_appel|nbre_sms_out|nbre_dist_sms_out|nbre_voix_out|dur_out|nbre_dist_voix_out|nbre_cell_out|nbre_sms_in|nbre_dist_sms_in|nbre_voix_in|dur_in|nbre_dist_voix_in|nbre_sms_night|nbre_dist_sms_night|nbre_voix_night|dur_night|nbre_dist_voix_night|statut|nbr_emprunt_sos|mnt_emprunt_tot_sos|\n",
      "+-------------+-----+--------------+-----------+----------+---------+----------+-----------+---------+------+------------+-------------------+-----------------+----------+------------+-----------------+-------------+-------+------------------+-------------+-----------+----------------+------------+------+-----------------+--------------+-------------------+---------------+---------+--------------------+------+---------------+-------------------+\n",
      "|2250707003302|    8|   LA COQUILLE|          1|         1|        1|         1|          1|        1|  7549|        3084|                343|              121|2021-08-08|           0|                0|            0|      0|                 0|            0|          0|               0|           0|     0|                0|            20|                  4|              1|       10|                   1|     0|            2.0|             1500.0|\n",
      "|2250707003778|    8|           SII|          1|         1|        1|         1|          1|        1|  2050|        5176|                 26|               24|2021-08-29|           0|                0|            0|      0|                 0|            0|          2|               1|           0|     0|                0|             0|                  0|              0|        0|                   0|     0|            2.0|             4000.0|\n",
      "|2250707006838|    5|  DISTRICENTRE|          1|         0|        0|         1|          0|        1|     0|           0|                  0|                0|2021-05-10|           4|                3|            8|    589|                 7|            6|          0|               0|           0|     0|                0|             0|                  0|              0|        0|                   0|     0|           null|               null|\n",
      "|2250707006838|    5|MAGIC BUSINESS|          0|         0|        0|         0|          0|        1|     0|           0|                  0|                0|2021-05-16|           4|                2|            0|      0|                 0|            0|          0|               0|           0|     0|                0|             0|                  0|              0|        0|                   0|     0|           null|               null|\n",
      "|2250707008049|    6|           AJS|          1|         1|        1|         1|          1|        0|     0|       85124|                151|              395|2021-06-05|           3|                2|           30|  12184|                11|           16|          0|               0|           0|     0|                0|             0|                  0|              0|        0|                   0|     0|           null|               null|\n",
      "+-------------+-----+--------------+-----------+----------+---------+----------+-----------+---------+------+------------+-------------------+-----------------+----------+------------+-----------------+-------------+-------+------------------+-------------+-----------+----------------+------------+------+-----------------+--------------+-------------------+---------------+---------+--------------------+------+---------------+-------------------+\n",
      "only showing top 5 rows\n",
      "\n"
     ]
    }
   ],
   "source": [
    "df_final_sos = spark.read.parquet(\"/Users/youssouf/Documents/simboxv2/df_final_simbox_v4.parquet\")\n",
    "df_final_sos.show(5)\n"
   ]
  },
  {
   "cell_type": "code",
   "execution_count": null,
   "metadata": {},
   "outputs": [],
   "source": []
  },
  {
   "cell_type": "code",
   "execution_count": 6,
   "metadata": {},
   "outputs": [
    {
     "data": {
      "text/plain": [
       "28618"
      ]
     },
     "execution_count": 6,
     "metadata": {},
     "output_type": "execute_result"
    }
   ],
   "source": [
    "df_final_sos.filter(col(\"statut\") == 1).select(\"msisdn\").distinct().count()"
   ]
  },
  {
   "cell_type": "code",
   "execution_count": null,
   "metadata": {},
   "outputs": [],
   "source": []
  },
  {
   "cell_type": "code",
   "execution_count": 23,
   "metadata": {},
   "outputs": [
    {
     "name": "stdout",
     "output_type": "stream",
     "text": [
      "+-------------+------+\n",
      "|       msisdn|statut|\n",
      "+-------------+------+\n",
      "|2250707094964|     1|\n",
      "|2250707133841|     1|\n",
      "|2250707148230|     1|\n",
      "|2250707382875|     1|\n",
      "|2250707382875|     1|\n",
      "|2250707719102|     1|\n",
      "|2250707947223|     1|\n",
      "|2250708028456|     1|\n",
      "|2250708090337|     1|\n",
      "|2250708163531|     1|\n",
      "|2250708180389|     1|\n",
      "|2250708180389|     1|\n",
      "|2250708276636|     1|\n",
      "|2250708276636|     1|\n",
      "|2250708396150|     1|\n",
      "|2250708420383|     1|\n",
      "|2250708504089|     1|\n",
      "|2250708541762|     1|\n",
      "|2250708558005|     1|\n",
      "|2250708589180|     1|\n",
      "+-------------+------+\n",
      "only showing top 20 rows\n",
      "\n"
     ]
    }
   ],
   "source": [
    "df_final_sos.filter( (col(\"statut\") == 1) & (col(\"nbr_emprunt_sos\").isNotNull()) ).select(\"msisdn\", \"statut\").show()"
   ]
  },
  {
   "cell_type": "code",
   "execution_count": 24,
   "metadata": {},
   "outputs": [
    {
     "data": {
      "text/plain": [
       "19750"
      ]
     },
     "execution_count": 24,
     "metadata": {},
     "output_type": "execute_result"
    }
   ],
   "source": [
    "df_final_sos.filter( (col(\"statut\") == 1) & (col(\"nbr_emprunt_sos\").isNotNull()) ).select(\"msisdn\", \"statut\").count()\n"
   ]
  },
  {
   "cell_type": "code",
   "execution_count": 40,
   "metadata": {},
   "outputs": [
    {
     "name": "stdout",
     "output_type": "stream",
     "text": [
      "+----------------------+\n",
      "|count(DISTINCT msisdn)|\n",
      "+----------------------+\n",
      "|                 14545|\n",
      "+----------------------+\n",
      "\n"
     ]
    }
   ],
   "source": [
    "df_final_sos.filter( (col(\"statut\") == 1) & (col(\"nbr_emprunt_sos\").isNotNull()) ).select(countDistinct(\"msisdn\")).show()\n",
    "\n"
   ]
  },
  {
   "cell_type": "code",
   "execution_count": 22,
   "metadata": {},
   "outputs": [
    {
     "name": "stdout",
     "output_type": "stream",
     "text": [
      "+----------------------+\n",
      "|count(DISTINCT msisdn)|\n",
      "+----------------------+\n",
      "|                 28618|\n",
      "+----------------------+\n",
      "\n"
     ]
    }
   ],
   "source": [
    "df_final_sos.filter( (col(\"statut\") == 1) ).select(countDistinct(\"msisdn\")).show()\n"
   ]
  },
  {
   "cell_type": "code",
   "execution_count": 37,
   "metadata": {},
   "outputs": [
    {
     "name": "stdout",
     "output_type": "stream",
     "text": [
      "+-------------+\n",
      "|count(msisdn)|\n",
      "+-------------+\n",
      "|        39238|\n",
      "+-------------+\n",
      "\n"
     ]
    }
   ],
   "source": [
    "df_final_sos.filter( (col(\"statut\") == 1) ).select(count(\"msisdn\")).show()\n"
   ]
  },
  {
   "cell_type": "code",
   "execution_count": 36,
   "metadata": {},
   "outputs": [
    {
     "data": {
      "text/plain": [
       "19488"
      ]
     },
     "execution_count": 36,
     "metadata": {},
     "output_type": "execute_result"
    }
   ],
   "source": [
    "df_final_sos.filter( (col(\"statut\") == 1) & (col(\"nbr_emprunt_sos\").isNull()) ).select(\"msisdn\", \"statut\").count()\n"
   ]
  },
  {
   "cell_type": "code",
   "execution_count": 39,
   "metadata": {},
   "outputs": [
    {
     "name": "stdout",
     "output_type": "stream",
     "text": [
      "+----------------------+\n",
      "|count(DISTINCT msisdn)|\n",
      "+----------------------+\n",
      "|                 15956|\n",
      "+----------------------+\n",
      "\n"
     ]
    }
   ],
   "source": [
    "df_final_sos.filter( (col(\"statut\") == 1) & (col(\"nbr_emprunt_sos\").isNull()) ).select(countDistinct(\"msisdn\")).show()\n"
   ]
  },
  {
   "cell_type": "code",
   "execution_count": null,
   "metadata": {},
   "outputs": [],
   "source": []
  },
  {
   "cell_type": "code",
   "execution_count": 42,
   "metadata": {},
   "outputs": [
    {
     "name": "stdout",
     "output_type": "stream",
     "text": [
      "+----------------------+\n",
      "|count(DISTINCT msisdn)|\n",
      "+----------------------+\n",
      "|                166941|\n",
      "+----------------------+\n",
      "\n"
     ]
    }
   ],
   "source": [
    "df_final_sos.filter( (col(\"statut\") == 0) & (col(\"nbr_emprunt_sos\").isNull()) ).select(countDistinct(\"msisdn\")).show()\n",
    "\n",
    "\n"
   ]
  },
  {
   "cell_type": "code",
   "execution_count": 43,
   "metadata": {},
   "outputs": [],
   "source": [
    "df_final_sos_0 = df_final_sos.filter( (col(\"statut\") == 0) )\n",
    "df_final_sos_1_nbr_empr = df_final_sos.filter( (col(\"statut\") == 1) & (col(\"nbr_emprunt_sos\").isNull()) )\n",
    "\n",
    "df_final_sos_true = df_final_sos_0.union(df_final_sos_1_nbr_empr)"
   ]
  },
  {
   "cell_type": "code",
   "execution_count": 44,
   "metadata": {},
   "outputs": [
    {
     "name": "stdout",
     "output_type": "stream",
     "text": [
      "+------+-------+\n",
      "|statut|  count|\n",
      "+------+-------+\n",
      "|     0|5278505|\n",
      "|     1|  19488|\n",
      "+------+-------+\n",
      "\n"
     ]
    }
   ],
   "source": [
    "df_final_sos_true.groupBy(\"statut\").count().show()"
   ]
  },
  {
   "cell_type": "code",
   "execution_count": 45,
   "metadata": {},
   "outputs": [
    {
     "name": "stdout",
     "output_type": "stream",
     "text": [
      "+------+-------+\n",
      "|statut|  count|\n",
      "+------+-------+\n",
      "|     0|5278505|\n",
      "|     1|  39238|\n",
      "+------+-------+\n",
      "\n"
     ]
    }
   ],
   "source": [
    "df_final_sos.groupBy(\"statut\").count().show()"
   ]
  },
  {
   "cell_type": "code",
   "execution_count": 46,
   "metadata": {},
   "outputs": [],
   "source": [
    "\n",
    "df_final_sos_true.write.mode(\"overwrite\").format(\"parquet\").save(\"/Users/youssouf/Documents/simboxv2/df_final_sos_true.parquet\")\n",
    "\n",
    "\n"
   ]
  },
  {
   "cell_type": "code",
   "execution_count": 47,
   "metadata": {},
   "outputs": [
    {
     "data": {
      "text/plain": [
       "['msisdn',\n",
       " 'month',\n",
       " 'distributeur',\n",
       " 'statut_voix',\n",
       " 'statut_sms',\n",
       " 'statut_ff',\n",
       " 'statut_sva',\n",
       " 'statut_data',\n",
       " 'statut_om',\n",
       " 'valeur',\n",
       " 'vol_tot_data',\n",
       " 'vol_tot_voix_offnet',\n",
       " 'vol_tot_voix_onet',\n",
       " 'date_appel',\n",
       " 'nbre_sms_out',\n",
       " 'nbre_dist_sms_out',\n",
       " 'nbre_voix_out',\n",
       " 'dur_out',\n",
       " 'nbre_dist_voix_out',\n",
       " 'nbre_cell_out',\n",
       " 'nbre_sms_in',\n",
       " 'nbre_dist_sms_in',\n",
       " 'nbre_voix_in',\n",
       " 'dur_in',\n",
       " 'nbre_dist_voix_in',\n",
       " 'nbre_sms_night',\n",
       " 'nbre_dist_sms_night',\n",
       " 'nbre_voix_night',\n",
       " 'dur_night',\n",
       " 'nbre_dist_voix_night',\n",
       " 'statut',\n",
       " 'nbr_emprunt_sos',\n",
       " 'mnt_emprunt_tot_sos']"
      ]
     },
     "execution_count": 47,
     "metadata": {},
     "output_type": "execute_result"
    }
   ],
   "source": [
    "df_final_sos_true.columns"
   ]
  },
  {
   "cell_type": "code",
   "execution_count": null,
   "metadata": {},
   "outputs": [],
   "source": []
  },
  {
   "cell_type": "code",
   "execution_count": null,
   "metadata": {},
   "outputs": [],
   "source": []
  },
  {
   "cell_type": "code",
   "execution_count": 48,
   "metadata": {},
   "outputs": [],
   "source": [
    "from pyspark.sql import Row\n",
    "from pyspark.ml.linalg import Vectors"
   ]
  },
  {
   "cell_type": "code",
   "execution_count": null,
   "metadata": {},
   "outputs": [],
   "source": [
    "nb = NaiveBayes(smoothing=1.0, modelType=\"multinomial\", weightCol=\"weight\")"
   ]
  },
  {
   "cell_type": "code",
   "execution_count": 52,
   "metadata": {},
   "outputs": [],
   "source": [
    "liste_columns = ['msisdn', 'month', 'distributeur', 'statut_voix', 'statut_sms', 'statut_ff', 'statut_sva', 'statut_data',\n",
    " 'statut_om', 'valeur', 'vol_tot_data', 'vol_tot_voix_offnet', 'vol_tot_voix_onet', 'date_appel', 'nbre_sms_out',\n",
    " 'nbre_dist_sms_out', 'nbre_voix_out', 'dur_out', 'nbre_dist_voix_out', 'nbre_cell_out', 'nbre_sms_in', 'nbre_dist_sms_in',\n",
    " 'nbre_voix_in', 'dur_in', 'nbre_dist_voix_in', 'nbre_sms_night', 'nbre_dist_sms_night', 'nbre_voix_night', 'dur_night',\n",
    " 'nbre_dist_voix_night','statut', 'nbr_emprunt_sos', 'mnt_emprunt_tot_sos']\n",
    "\n",
    "columns_to_non_cast = ['date_appel', 'msisdn', 'distributeur', 'month']\n",
    "columns_to_cast = list(set(liste_columns) - set(columns_to_non_cast))\n"
   ]
  },
  {
   "cell_type": "code",
   "execution_count": 55,
   "metadata": {},
   "outputs": [
    {
     "ename": "SyntaxError",
     "evalue": "invalid syntax (<ipython-input-55-a0d45d54117b>, line 1)",
     "output_type": "error",
     "traceback": [
      "\u001b[0;36m  File \u001b[0;32m\"<ipython-input-55-a0d45d54117b>\"\u001b[0;36m, line \u001b[0;32m1\u001b[0m\n\u001b[0;31m    v = columns_to_cast.remove(\"statut\")unwanted = {'statut'}\u001b[0m\n\u001b[0m                                        ^\u001b[0m\n\u001b[0;31mSyntaxError\u001b[0m\u001b[0;31m:\u001b[0m invalid syntax\n"
     ]
    }
   ],
   "source": [
    "v = columns_to_cast.remove(\"statut\")unwanted = {'statut'}\n",
    "inputcol = [e for e in columns_to_cast if e not in unwanted]"
   ]
  },
  {
   "cell_type": "code",
   "execution_count": 54,
   "metadata": {},
   "outputs": [],
   "source": [
    "v"
   ]
  },
  {
   "cell_type": "code",
   "execution_count": 56,
   "metadata": {},
   "outputs": [],
   "source": [
    "unwanted = {'statut'}\n",
    "inputcol = [e for e in columns_to_cast if e not in unwanted]"
   ]
  },
  {
   "cell_type": "code",
   "execution_count": 57,
   "metadata": {},
   "outputs": [
    {
     "data": {
      "text/plain": [
       "['vol_tot_voix_offnet',\n",
       " 'nbre_dist_sms_night',\n",
       " 'statut_sms',\n",
       " 'nbre_voix_out',\n",
       " 'nbre_voix_in',\n",
       " 'nbre_sms_night',\n",
       " 'nbre_cell_out',\n",
       " 'nbre_sms_in',\n",
       " 'nbre_dist_voix_night',\n",
       " 'statut_voix',\n",
       " 'mnt_emprunt_tot_sos',\n",
       " 'dur_out',\n",
       " 'vol_tot_voix_onet',\n",
       " 'dur_in',\n",
       " 'dur_night',\n",
       " 'nbre_sms_out',\n",
       " 'nbre_dist_sms_in',\n",
       " 'nbre_dist_voix_in',\n",
       " 'statut_om',\n",
       " 'statut_sva',\n",
       " 'nbre_dist_voix_out',\n",
       " 'statut_ff',\n",
       " 'statut_data',\n",
       " 'vol_tot_data',\n",
       " 'nbr_emprunt_sos',\n",
       " 'valeur',\n",
       " 'nbre_dist_sms_out',\n",
       " 'nbre_voix_night']"
      ]
     },
     "execution_count": 57,
     "metadata": {},
     "output_type": "execute_result"
    }
   ],
   "source": [
    "inputcol"
   ]
  },
  {
   "cell_type": "code",
   "execution_count": 58,
   "metadata": {},
   "outputs": [],
   "source": [
    "import argparse\n"
   ]
  },
  {
   "cell_type": "code",
   "execution_count": 59,
   "metadata": {},
   "outputs": [],
   "source": []
  },
  {
   "cell_type": "code",
   "execution_count": null,
   "metadata": {},
   "outputs": [],
   "source": []
  },
  {
   "cell_type": "markdown",
   "metadata": {},
   "source": [
    "#### Check_Fraudeur_Date"
   ]
  },
  {
   "cell_type": "code",
   "execution_count": 60,
   "metadata": {},
   "outputs": [],
   "source": [
    "def check_fraudeur_date(path_df, date) :\n",
    "    from datetime import datetime\n",
    "\n",
    "    #path_df = \"/Users/youssouf/Downloads/simbox_v4_prediction_\" + model + \"_\" + date + \".parquet\"\n",
    "    #\"/Users/youssouf/Documents/simboxv2/prediction_gbt_vbm_30_v4_dist.parquet\"\n",
    "    df = spark.read.parquet(path_df)\n",
    "    df1 = df.filter(col(\"prediction\") == 1)\n",
    "      \n",
    "    df_fraudeur_FRA = spark.read.option(\"header\", True) \\\n",
    "                        .option(\"delimiter\", \";\") \\\n",
    "                        .csv(\"/Users/youssouf/Downloads/simbox_fra_2809_0610.csv\")\n",
    "    df_fraudeur_FRA = df_fraudeur_FRA.withColumn(\"msisdn\", concat(lit(\"22507\") , col(\"MSISDN\")))\n",
    "\n",
    "    d = datetime.strptime(date , '%Y%m%d')\n",
    "    d = datetime.strftime(d, \"%d/%m/%Y\")\n",
    "    \n",
    "    df_fraudeur = df_fraudeur_FRA.filter(col(\"Date_DETECTION\") == d)\n",
    "    \n",
    "    res = {\"NOMBRE DE DETECTION\" : df.filter(col(\"prediction\") == 1).count() , \n",
    "           \"NOMBRE DE FRA\" : df_fraudeur.count() ,\n",
    "           \"NOMBRE COMMUN\" : df1.join(df_fraudeur, [\"msisdn\"], \"inner\").count(), \n",
    "           \"NOMBRE FRAU/NON-FRAU\": df.groupBy(\"prediction\").count().show() }\n",
    "\n",
    "    return res"
   ]
  },
  {
   "cell_type": "code",
   "execution_count": 69,
   "metadata": {},
   "outputs": [
    {
     "name": "stdout",
     "output_type": "stream",
     "text": [
      "+----------+-----+\n",
      "|prediction|count|\n",
      "+----------+-----+\n",
      "|       0.0|19654|\n",
      "|       1.0| 9530|\n",
      "+----------+-----+\n",
      "\n"
     ]
    },
    {
     "data": {
      "text/plain": [
       "{'NOMBRE DE DETECTION': 9530,\n",
       " 'NOMBRE DE FRA': 405,\n",
       " 'NOMBRE COMMUN': 2,\n",
       " 'NOMBRE FRAU/NON-FRAU': None}"
      ]
     },
     "execution_count": 69,
     "metadata": {},
     "output_type": "execute_result"
    }
   ],
   "source": [
    "check_fraudeur_date(\"/Users/youssouf/Documents/simboxv2/prediction_dtunder_20211006.parquet\", \"20211006\")"
   ]
  },
  {
   "cell_type": "code",
   "execution_count": 76,
   "metadata": {},
   "outputs": [
    {
     "name": "stdout",
     "output_type": "stream",
     "text": [
      "+----------+-------+\n",
      "|prediction|  count|\n",
      "+----------+-------+\n",
      "|       0.0|1357304|\n",
      "|       1.0|6184286|\n",
      "+----------+-------+\n",
      "\n"
     ]
    },
    {
     "data": {
      "text/plain": [
       "{'NOMBRE DE DETECTION': 6184286,\n",
       " 'NOMBRE DE FRA': 334,\n",
       " 'NOMBRE COMMUN': 261,\n",
       " 'NOMBRE FRAU/NON-FRAU': None}"
      ]
     },
     "execution_count": 76,
     "metadata": {},
     "output_type": "execute_result"
    }
   ],
   "source": [
    "check_fraudeur_date(\"/Users/youssouf/Documents/simboxv2/prediction_gbtunder_20210930.parquet\", \"20210930\") \n"
   ]
  },
  {
   "cell_type": "code",
   "execution_count": 75,
   "metadata": {},
   "outputs": [
    {
     "name": "stdout",
     "output_type": "stream",
     "text": [
      "+----------+-------+\n",
      "|prediction|  count|\n",
      "+----------+-------+\n",
      "|       0.0| 512561|\n",
      "|       1.0|7029029|\n",
      "+----------+-------+\n",
      "\n"
     ]
    },
    {
     "data": {
      "text/plain": [
       "{'NOMBRE DE DETECTION': 7029029,\n",
       " 'NOMBRE DE FRA': 334,\n",
       " 'NOMBRE COMMUN': 218,\n",
       " 'NOMBRE FRAU/NON-FRAU': None}"
      ]
     },
     "execution_count": 75,
     "metadata": {},
     "output_type": "execute_result"
    }
   ],
   "source": [
    "\n",
    "check_fraudeur_date(\"/Users/youssouf/Documents/simboxv2/prediction_rfunder_20210930.parquet\", \"20210930\") \n"
   ]
  },
  {
   "cell_type": "code",
   "execution_count": 63,
   "metadata": {},
   "outputs": [
    {
     "name": "stdout",
     "output_type": "stream",
     "text": [
      "+----------+-------------+------------+-----------------+-------------+-------+------------------+-------------+-----------+----------------+------------+------+-----------------+--------------+-------------------+---------------+---------+--------------------+\n",
      "|date_appel|       msisdn|nbre_sms_out|nbre_dist_sms_out|nbre_voix_out|dur_out|nbre_dist_voix_out|nbre_cell_out|nbre_sms_in|nbre_dist_sms_in|nbre_voix_in|dur_in|nbre_dist_voix_in|nbre_sms_night|nbre_dist_sms_night|nbre_voix_night|dur_night|nbre_dist_voix_night|\n",
      "+----------+-------------+------------+-----------------+-------------+-------+------------------+-------------+-----------+----------------+------------+------+-----------------+--------------+-------------------+---------------+---------+--------------------+\n",
      "|  20211006|2250700429930|         1.0|              1.0|          0.0|    0.0|               0.0|          0.0|        5.0|             2.0|         0.0|   0.0|              0.0|             0|                  0|              0|        0|                   0|\n",
      "|  20211006|2250700731638|        29.0|              5.0|         12.0| 1412.0|               7.0|         16.0|       40.0|             8.0|         7.0| 855.0|              4.0|             0|                  0|              0|        0|                   0|\n",
      "|  20211006|2250700800521|         2.0|              1.0|          0.0|    0.0|               0.0|          0.0|        2.0|             2.0|         0.0|   0.0|              0.0|             0|                  0|              0|        0|                   0|\n",
      "|  20211006|2250707367723|         7.0|              5.0|         29.0| 2475.0|              16.0|         17.0|       34.0|            11.0|        19.0|3340.0|              9.0|             0|                  0|              0|        0|                   0|\n",
      "|  20211006|2250707469657|         1.0|              1.0|          2.0|  144.0|               2.0|          3.0|        1.0|             1.0|         0.0|   0.0|              0.0|             0|                  0|              0|        0|                   0|\n",
      "|  20211006|2250707687608|         2.0|              1.0|          0.0|    0.0|               0.0|          0.0|        2.0|             1.0|         0.0|   0.0|              0.0|             0|                  0|              0|        0|                   0|\n",
      "|  20211006|2250707697462|         2.0|              2.0|          6.0|  658.0|               4.0|          4.0|        6.0|             3.0|         8.0|1581.0|              8.0|             0|                  0|              0|        0|                   0|\n",
      "|  20211006|2250707906159|         1.0|              1.0|         10.0|  515.0|               8.0|          5.0|        1.0|             1.0|        12.0| 776.0|              5.0|             0|                  0|              0|        0|                   0|\n",
      "|  20211006|2250708351415|         3.0|              3.0|          8.0|  813.0|               7.0|          7.0|        8.0|             5.0|         2.0|  32.0|              2.0|             0|                  0|              0|        0|                   0|\n",
      "|  20211006|2250708385822|         4.0|              2.0|          8.0| 1567.0|               8.0|          5.0|       18.0|             6.0|         2.0| 168.0|              1.0|             0|                  0|              0|        0|                   0|\n",
      "|  20211006|2250708412601|        10.0|              3.0|         15.0| 3768.0|               9.0|          3.0|        9.0|             4.0|         9.0|1299.0|              7.0|             0|                  0|              0|        0|                   0|\n",
      "|  20211006|2250708612787|         2.0|              2.0|          4.0|  137.0|               2.0|          5.0|        2.0|             1.0|        11.0|2767.0|              6.0|             0|                  0|              0|        0|                   0|\n",
      "|  20211006|2250708801926|         2.0|              1.0|          0.0|    0.0|               0.0|          0.0|        6.0|             2.0|         8.0| 672.0|              2.0|             0|                  0|              0|        0|                   0|\n",
      "|  20211006|2250708808335|         7.0|              1.0|          0.0|    0.0|               0.0|          0.0|        2.0|             1.0|         2.0| 320.0|              1.0|             0|                  0|              0|        0|                   0|\n",
      "|  20211006|2250708907336|        13.0|              1.0|          0.0|    0.0|               0.0|          0.0|       13.0|             1.0|         0.0|   0.0|              0.0|             0|                  0|              0|        0|                   0|\n",
      "|  20211006|2250709478212|         1.0|              1.0|         27.0| 3236.0|              17.0|         12.0|       42.0|             9.0|        27.0|2233.0|             13.0|             0|                  0|              0|        0|                   0|\n",
      "|  20211006|2250709827919|         4.0|              3.0|          9.0|  530.0|               9.0|          5.0|        2.0|             2.0|         5.0| 209.0|              5.0|             0|                  0|              0|        0|                   0|\n",
      "|  20211006|2250709884590|         2.0|              2.0|         15.0| 1301.0|              13.0|         10.0|       25.0|             8.0|        35.0|2017.0|             28.0|             0|                  0|              0|        0|                   0|\n",
      "|  20211006|2250747357673|         7.0|              1.0|          0.0|    0.0|               0.0|          0.0|       10.0|             3.0|         4.0| 108.0|              1.0|             0|                  0|              0|        0|                   0|\n",
      "|  20211006|2250747559987|         1.0|              1.0|          2.0|  696.0|               1.0|          3.0|        4.0|             3.0|        18.0|2479.0|              3.0|             0|                  0|              0|        0|                   0|\n",
      "+----------+-------------+------------+-----------------+-------------+-------+------------------+-------------+-----------+----------------+------------+------+-----------------+--------------+-------------------+---------------+---------+--------------------+\n",
      "only showing top 20 rows\n",
      "\n"
     ]
    }
   ],
   "source": [
    "df_final = spark.read.\\\n",
    "       option(\"header\", \"true\").\\\n",
    "       option(\"delimiter\", \";\").\\\n",
    "       csv(\"/Users/youssouf/Downloads/trafic_global_20211006.csv\")\n",
    "\n",
    "df_final.show()"
   ]
  },
  {
   "cell_type": "code",
   "execution_count": null,
   "metadata": {},
   "outputs": [],
   "source": []
  }
 ],
 "metadata": {
  "kernelspec": {
   "display_name": "Python 3",
   "language": "python",
   "name": "python3"
  },
  "language_info": {
   "codemirror_mode": {
    "name": "ipython",
    "version": 3
   },
   "file_extension": ".py",
   "mimetype": "text/x-python",
   "name": "python",
   "nbconvert_exporter": "python",
   "pygments_lexer": "ipython3",
   "version": "3.8.5"
  }
 },
 "nbformat": 4,
 "nbformat_minor": 4
}
