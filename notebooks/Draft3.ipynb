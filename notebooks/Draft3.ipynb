{
 "cells": [
  {
   "cell_type": "code",
   "execution_count": 2,
   "id": "a7f80a87",
   "metadata": {},
   "outputs": [],
   "source": [
    "# Importing library\n",
    "import qrcode\n",
    "\n",
    "# Data to be encoded\n",
    "data = \"Felicitations pour BAC, qu'Allah facilite la suite\"\n",
    "\n",
    "# Encoding data using make() function\n",
    "img = qrcode.make(data)\n",
    "\n",
    "# Saving as an image file\n",
    "img.save('/Users/diakite/Downloads/MyQRCode1.png')\n"
   ]
  },
  {
   "cell_type": "code",
   "execution_count": 3,
   "id": "8fc9ec97",
   "metadata": {},
   "outputs": [],
   "source": [
    "# Data to be encoded\n",
    "data = \"diakite@Password123!\"\n",
    "\n",
    "# Encoding data using make() function\n",
    "img = qrcode.make(data)\n",
    "\n",
    "# Saving as an image file\n",
    "img.save('/Users/diakite/Downloads/MyWifiCode.png')\n"
   ]
  },
  {
   "cell_type": "code",
   "execution_count": 4,
   "id": "57cdb64a",
   "metadata": {},
   "outputs": [],
   "source": [
    "# Data to be encoded\n",
    "data = \"CSPT Team\"\n",
    "\n",
    "# Encoding data using make() function\n",
    "img = qrcode.make(data)\n",
    "\n",
    "o = qr.make_image(fill_color=\"black\", back_color=\"white\")\n",
    "\n",
    "# Saving as an image file\n",
    "img.save('/Users/diakite/Downloads/csptTeam.png')\n",
    "o.save('/Users/diakite/Downloads/csptTeam0.png')\n"
   ]
  },
  {
   "cell_type": "code",
   "execution_count": null,
   "id": "fe53f92b",
   "metadata": {},
   "outputs": [],
   "source": []
  }
 ],
 "metadata": {
  "kernelspec": {
   "display_name": "Python 3 (ipykernel)",
   "language": "python",
   "name": "python3"
  },
  "language_info": {
   "codemirror_mode": {
    "name": "ipython",
    "version": 3
   },
   "file_extension": ".py",
   "mimetype": "text/x-python",
   "name": "python",
   "nbconvert_exporter": "python",
   "pygments_lexer": "ipython3",
   "version": "3.9.12"
  }
 },
 "nbformat": 4,
 "nbformat_minor": 5
}
