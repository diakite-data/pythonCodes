{
 "cells": [
  {
   "cell_type": "markdown",
   "metadata": {},
   "source": [
    "<h1><center>RAPPORT ANALYSE</center></h1>"
   ]
  },
  {
   "cell_type": "markdown",
   "metadata": {},
   "source": [
    "## Overwiew"
   ]
  },
  {
   "cell_type": "markdown",
   "metadata": {},
   "source": [
    " - Notre jeu de données comportait **1763610 lignes** et **93 variables** dont $91$ $quantitatives$, $2$ $qualitatives$ et $msisdn$ qui représente les différents numéros. \n",
    " - Egalement le jeu de données contient beaucoup de valeurs manquantes. La figure ci-dessous nous donne un aperçu des données manquantes\n",
    "\n",
    "Ci-dessous la proportion de valeurs manquantes pour chaque variable."
   ]
  },
  {
   "cell_type": "markdown",
   "metadata": {},
   "source": [
    "![image info](./naaa1.png)\n",
    "![image info](./naaa2.png)\n",
    "![image info](./naaa3.png)\n",
    "![image info](./naaa4.png)\n",
    "![image info](./naaa5.png)\n",
    "![image info](./naaa6.png)\n",
    "![image info](./naaa7.png)\n",
    "![image info](./naaa8.png)\n",
    "![image info](./naaa9.png)\n",
    "![image info](./naaa10.png)\n",
    "![image info](./naaa11.png)\n",
    "![image info](./naaa12.png)"
   ]
  },
  {
   "cell_type": "code",
   "execution_count": 30,
   "metadata": {},
   "outputs": [],
   "source": [
    "#import ipyplot\n",
    "#ipyplot.plot_images(images = [\"naaa1.png\", \"naaa2.png\", \"naaa3.png\", \"naaa4.png\", \"naaa5.png\", \"naaa6.png\",\"naaa7.png\", \"naaa8.png\", \"naaa9.png\", \"naaa10.png\", \"naaa11.png\", \"naaa12.png\"], max_images=12, img_width=1000)"
   ]
  },
  {
   "cell_type": "markdown",
   "metadata": {},
   "source": [
    "Pour déterminer les outliers la règle suivante a été suivante a été appliquée pour chaque variable :\n",
    " - s = df['var']\n",
    " - q1 = s.quantile(0.25)\n",
    " - q3 = s.quantile(0.75)\n",
    " - iqr = q3 - q1\n",
    " - iqr_lower = q1 - 1.5 * iqr\n",
    " - iqr_upper = q3 + 1.5 * iqr\n",
    " - outliers = dict(s[(s < iqr_lower) | (s > iqr_upper)])"
   ]
  },
  {
   "cell_type": "markdown",
   "metadata": {},
   "source": [
    "## Infos Clients"
   ]
  },
  {
   "cell_type": "markdown",
   "metadata": {},
   "source": [
    "- nbre_distinct_imei_y\n",
    "- nbre_imsi \n",
    "- supplier_name"
   ]
  },
  {
   "cell_type": "markdown",
   "metadata": {},
   "source": [
    "### Distribution"
   ]
  },
  {
   "cell_type": "markdown",
   "metadata": {},
   "source": [
    "![image info](./nbre_distinct_imei_y.png)\n",
    "![image info](./nbre_imsi.png)\n",
    "![image info](./supplier_namee.png)"
   ]
  },
  {
   "cell_type": "code",
   "execution_count": 31,
   "metadata": {},
   "outputs": [],
   "source": [
    "#ipyplot.plot_images(images = [\"nbre_distinct_imei_y.png\", \"nbre_imsi.png\", \"supplier_namee.png\"], max_images=3, img_width=300)"
   ]
  },
  {
   "cell_type": "markdown",
   "metadata": {},
   "source": [
    "Cette catégorie de features renferme les informations suivantes :\n",
    "    - la plupart des individus utilisent un seul téléphone et ont génénarelement un seul imsi\n",
    "    - les 5 types de téléphones les plus utilisés sont TECNO, SAMSUNG, INFINIX, APPLE et TRANSITION."
   ]
  },
  {
   "cell_type": "markdown",
   "metadata": {},
   "source": [
    "## Activités SMS "
   ]
  },
  {
   "cell_type": "markdown",
   "metadata": {},
   "source": [
    "- nbr_sms_total_sortant_ofnet\n",
    "- nbr_sms_sortant_med_ofnet\n",
    "- nbr_sms_sortant_moy_ofnet \n",
    "- nbr_sms_total_sortant_onnet \n",
    "- nbr_sms_sortant_med_onnet  \n",
    "- nbr_sms_sortant_moy_onnet  \n",
    "- nbr_corr_dist_entrant_sms_tot \n",
    "- nbr_corr_dist_entrant_sms_med \n",
    "- ratio_dist_sms"
   ]
  },
  {
   "cell_type": "markdown",
   "metadata": {},
   "source": [
    "Cette catégorie contient 9 variables."
   ]
  },
  {
   "cell_type": "markdown",
   "metadata": {},
   "source": [
    "### Describe"
   ]
  },
  {
   "cell_type": "markdown",
   "metadata": {},
   "source": [
    "![image info](./activité_sms.png)\n",
    "![image info](./activité_sms1.png)\n",
    "![image info](./activité_sms21.png)"
   ]
  },
  {
   "cell_type": "code",
   "execution_count": 32,
   "metadata": {},
   "outputs": [],
   "source": [
    "#ipyplot.plot_images(images = [\"activité_sms.png\", \"activité_sms1.png\", \"activité_sms21.png\"], max_images=3, img_width=1000)"
   ]
  },
  {
   "cell_type": "markdown",
   "metadata": {},
   "source": [
    "Ces différentes valeurs de chaque nous décrivent les comportements de chaque variable. Le cas le plus intéressant est cet individu qui envoie plus de 9000 SMS vers les numéros non-orange . Le $msisdn$ de l'individu est $48177476$ ."
   ]
  },
  {
   "cell_type": "markdown",
   "metadata": {},
   "source": [
    "### Corrélation"
   ]
  },
  {
   "cell_type": "markdown",
   "metadata": {},
   "source": [
    "![image info](./activité_sms_corr.png)"
   ]
  },
  {
   "cell_type": "markdown",
   "metadata": {},
   "source": [
    "Les corrélations les plus pertiantes(au dela de 0,90) : \n",
    " - nbr_sms_sortant_med_onnet et nbr_sms_sortant_moy_onnet : 0,94\n",
    " - nbr_sms_sortant_med_ofnet et nbr_sms_sortant_moy_ofnet : 0,97"
   ]
  },
  {
   "cell_type": "markdown",
   "metadata": {},
   "source": [
    "### Outliers"
   ]
  },
  {
   "cell_type": "markdown",
   "metadata": {},
   "source": [
    "126280 sur 1763610 soit 7.16%\n",
    "![image info](./activité_sms_outliers1.png)"
   ]
  },
  {
   "cell_type": "markdown",
   "metadata": {},
   "source": [
    "14747 sur 1763610 soit 0.836%\n",
    "![image info](./activité_sms_outliers2.png)"
   ]
  },
  {
   "cell_type": "markdown",
   "metadata": {},
   "source": [
    "21894 sur 1763610 soit 1.24%\n",
    "![image info](./activité_sms_outliers3.png)"
   ]
  },
  {
   "cell_type": "markdown",
   "metadata": {},
   "source": [
    "190696 sur 1763610 soit 10.8%\n",
    "![image info](./activité_sms_outliers4.png)"
   ]
  },
  {
   "cell_type": "markdown",
   "metadata": {},
   "source": [
    "91661 sur 1763610 soit 5.20%\n",
    "![image info](./activité_sms_outliers6.png)"
   ]
  },
  {
   "cell_type": "markdown",
   "metadata": {},
   "source": [
    "91707 sur 1763610 soit 5.20%\n",
    "![image info](./activité_sms_outliers7.png)"
   ]
  },
  {
   "cell_type": "markdown",
   "metadata": {},
   "source": [
    "90752 sur 1763610 soit 5.15%\n",
    "![image info](./activité_sms_outliers8.png)"
   ]
  },
  {
   "cell_type": "markdown",
   "metadata": {},
   "source": [
    "662 sur 1763610 soit 0.0375%\n",
    "![image info](./activité_sms_outliers11.png)"
   ]
  },
  {
   "cell_type": "markdown",
   "metadata": {},
   "source": [
    "### Distribution"
   ]
  },
  {
   "cell_type": "markdown",
   "metadata": {},
   "source": [
    "![image info](./nbr_sms_total_sortant_ofnet.png)\n",
    "![image info](./nbr_sms_sortant_med_ofnet.png)\n",
    "![image info](./nbr_sms_sortant_moy_ofnet.png)\n",
    "![image info](./nbr_sms_total_sortant_onnet.png)\n",
    "![image info](./nbr_sms_sortant_med_onnet.png)\n",
    "![image info](./nbr_sms_sortant_moy_onnet.png)\n",
    "![image info](./nbr_corr_dist_entrant_sms_tot.png)\n",
    "![image info](./nbr_corr_dist_entrant_sms_med.png)\n",
    "![image info](./nbr_corr_dist_sortant_sms_tot.png)\n",
    "![image info](./nbr_corr_dist_sortant_sms_med.png)\n",
    "![image info](./ratio_dist_sms.png)"
   ]
  },
  {
   "cell_type": "markdown",
   "metadata": {},
   "source": [
    "## Activités Voix"
   ]
  },
  {
   "cell_type": "markdown",
   "metadata": {},
   "source": [
    "- nbre_call_entrant_inter \n",
    "- nbre_call_sortant_inter \n",
    "- duree_entrant_inter \n",
    "- duree_sortant_inter \n",
    "- duree_total_inter\n",
    "- duree_moy_inter\n",
    "- nbr_cor_dist\n",
    "- nbr_appel_abs_entr_moy \n",
    "- nbr_appel_abs_entr_med \n",
    "- nbr_appel_abs_entr_tot \n",
    "- nbr_entrant_distinct_absence_tot \n",
    "- nbr_entrant_distinct_absence_med \n",
    "- nbr_appel_abs_sort_tot \n",
    "- duree_tot \n",
    "- duree_med\n",
    "- nbr_appel_sortant_moy_ofnet\n",
    "- nbr_appel_total_sortant_ofnet\n",
    "- nbr_appel_sortant_med_ofnet\n",
    "- duree_total_sortant_ofnet\n",
    "- duree_sortant_med_ofnet\n",
    "- duree_sortant_moy_ofnet\n",
    "- nbr_appel_total_sortant_onnet\n",
    "- nbr_appel_sortant_med_onnet\n",
    "- duree_total_sortant_onnet\n",
    "- duree_sortant_med_onnet\n",
    "- duree_sortant_moy_onnet"
   ]
  },
  {
   "cell_type": "markdown",
   "metadata": {},
   "source": [
    "Pour cette catégorie, nous comptons 26 variables."
   ]
  },
  {
   "cell_type": "markdown",
   "metadata": {},
   "source": [
    "### Describe"
   ]
  },
  {
   "cell_type": "markdown",
   "metadata": {},
   "source": [
    "![image info](./voix4.png)\n",
    "![image info](./voix5.png)\n",
    "![image info](./voix6.png)\n",
    "![image info](./voix7.png)\n",
    "![image info](./voix8.png)\n",
    "![image info](./voix9.png)"
   ]
  },
  {
   "cell_type": "markdown",
   "metadata": {},
   "source": [
    "Ces figures ci-dessus décrivent de manière succinte le comportement de chaque variable. Nous pouvons remarquer l'individu $87344915$ qui a fait $502$ appels internationals dans le mois. "
   ]
  },
  {
   "cell_type": "markdown",
   "metadata": {},
   "source": [
    "### Corrélation "
   ]
  },
  {
   "cell_type": "markdown",
   "metadata": {},
   "source": [
    "![image info](./activité_voix_corr.png)"
   ]
  },
  {
   "cell_type": "markdown",
   "metadata": {},
   "source": [
    "Avec cette matrice de corrélation nous pouvons remarquer que $nbre\\_call\\_sortant\\_inter$ n'est corrélée qu'avec la variable $duree\\_sortant\\_inter$, 0.88 . "
   ]
  },
  {
   "cell_type": "markdown",
   "metadata": {},
   "source": [
    "### Distribution"
   ]
  },
  {
   "cell_type": "markdown",
   "metadata": {},
   "source": [
    "![image info](./nbre_call_entrant_inter.png)\n",
    "![image info](./duree_entrant_inter.png)\n",
    "![image info](./duree_sortant_inter.png)\n",
    "![image info](./duree_total_inter.png)\n",
    "![image info](./duree_moy_inter.png)\n",
    "![image info](./nbr_cor_dist.png)\n",
    "![image info](./nbr_appel_abs_entr_moy.png)\n",
    "![image info](./nbr_appel_abs_entr_med.png)\n",
    "![image info](./nbr_appel_abs_entr_tot.png)\n",
    "![image info](./duree_sortant_moy_onnet.png)\n",
    "![image info](./duree_sortant_med_onnet.png)\n",
    "![image info](./duree_total_sortant_onnet.png)\n",
    "![image info](./duree_total_sortant_onnet.png)\n",
    "![image info](./duree_total_sortant_onnet.png)\n",
    "![image info](./duree_total_sortant_onnet.png)\n",
    "![image info](./nbr_appel_sortant_med_onnet.png)\n",
    "![image info](./nbr_appel_total_sortant_onnet.png)\n",
    "![image info](./duree_sortant_moy_ofnet.png)\n",
    "![image info](./duree_sortant_med_ofnet.png)\n",
    "![image info](./duree_total_sortant_ofnet.png)\n",
    "![image info](./nbr_appel_sortant_med_ofnet.png)\n",
    "![image info](./nbr_appel_total_sortant_ofnet.png)\n",
    "![image info](./nbr_appel_sortant_moy_ofnet.png)\n",
    "![image info](./duree_med.png)\n",
    "![image info](./duree_tot.png)\n",
    "![image info](./nbr_appel_abs_sort_tot.png)\n",
    "![image info](./nbr_entrant_distinct_absence_med.png)\n",
    "![image info](./nbr_entrant_distinct_absence_tot.png)"
   ]
  },
  {
   "cell_type": "markdown",
   "metadata": {},
   "source": [
    "Ces distributions nous montrent que la plupart des variables ont très peu de valeurs non-nulles."
   ]
  },
  {
   "cell_type": "markdown",
   "metadata": {},
   "source": [
    "#### Corrélations Activités SMS et VOIX "
   ]
  },
  {
   "cell_type": "markdown",
   "metadata": {},
   "source": [
    "![image info](./activité_voix_sms.png)"
   ]
  },
  {
   "cell_type": "markdown",
   "metadata": {},
   "source": [
    "Nous n'obtenons pas de bonnes corrélations entre les appels et les SMS."
   ]
  },
  {
   "cell_type": "markdown",
   "metadata": {},
   "source": [
    "### Activité OM"
   ]
  },
  {
   "cell_type": "markdown",
   "metadata": {},
   "source": [
    " - nbr_om_transact"
   ]
  },
  {
   "cell_type": "markdown",
   "metadata": {},
   "source": [
    "![image info](./om.png)"
   ]
  },
  {
   "cell_type": "markdown",
   "metadata": {},
   "source": [
    "Nous devons vérifier si le numéro $78748479$ n'est pas un numéro de Cabine ou autre qui utilise plusieurs fois le service OM. Egalement, il ya d'autres valeurs telles $40492$, $39934$, $33871$, etc..."
   ]
  },
  {
   "cell_type": "markdown",
   "metadata": {},
   "source": [
    "Pour des transactions au dela de 20000, nous obtenons la boite à moustaphe suivante :"
   ]
  },
  {
   "cell_type": "markdown",
   "metadata": {},
   "source": [
    "![image info](./om1.png)"
   ]
  },
  {
   "cell_type": "markdown",
   "metadata": {},
   "source": [
    "## Activité DATA"
   ]
  },
  {
   "cell_type": "markdown",
   "metadata": {},
   "source": [
    " - volumepartage_data_med\n",
    " - nbr_partage_data\n",
    " - total_partage_data\n",
    " - nbr_duree_data_tot\n",
    " - nbr_duree_data_med\n",
    " - nbr_duree_data_moy\n",
    " - volume_family_data_med\n",
    " - nbr_family_data\n",
    " - family_data_tot\n",
    " - volume_data_total\n",
    " - volume_data_moy\n",
    " - volume_data_med"
   ]
  },
  {
   "cell_type": "markdown",
   "metadata": {},
   "source": [
    "### Describe"
   ]
  },
  {
   "cell_type": "markdown",
   "metadata": {},
   "source": [
    "![image info](./data.png)\n",
    "![image info](./data1.png)"
   ]
  },
  {
   "cell_type": "markdown",
   "metadata": {},
   "source": [
    "### Correlation"
   ]
  },
  {
   "cell_type": "markdown",
   "metadata": {},
   "source": [
    "![image info](./data2.png)"
   ]
  },
  {
   "cell_type": "markdown",
   "metadata": {},
   "source": [
    "## Comportement"
   ]
  },
  {
   "cell_type": "markdown",
   "metadata": {},
   "source": [
    " - taux_inter\n",
    " - taux_call_night\n",
    " - taux_call_on\n",
    " - taux_call_of\n",
    " - taux_call_inter"
   ]
  },
  {
   "cell_type": "markdown",
   "metadata": {},
   "source": [
    "### Describe"
   ]
  },
  {
   "cell_type": "markdown",
   "metadata": {},
   "source": [
    "![image info](./comportement.png)"
   ]
  },
  {
   "cell_type": "markdown",
   "metadata": {},
   "source": [
    "Nous remarquons que la colonne **taux_call_of** contient des valeurs du genre **Inf**."
   ]
  },
  {
   "cell_type": "markdown",
   "metadata": {},
   "source": [
    "![image info](./comportement1.png)"
   ]
  },
  {
   "cell_type": "markdown",
   "metadata": {},
   "source": [
    "### Corrélation "
   ]
  },
  {
   "cell_type": "markdown",
   "metadata": {},
   "source": [
    "![image info](./comportement3.png)"
   ]
  },
  {
   "cell_type": "markdown",
   "metadata": {},
   "source": [
    "## Régularité"
   ]
  },
  {
   "cell_type": "markdown",
   "metadata": {},
   "source": [
    " - temp_sms_moy\n",
    " - ecartyp_temp_sms\n",
    " - temp_appel_moy\n",
    " - ecartyp_temp_appel"
   ]
  },
  {
   "cell_type": "markdown",
   "metadata": {},
   "source": [
    "### Describe"
   ]
  },
  {
   "cell_type": "markdown",
   "metadata": {},
   "source": [
    "![image info](./regularite.png)"
   ]
  },
  {
   "cell_type": "markdown",
   "metadata": {},
   "source": [
    " - Le temps moyen maximum entre 2 SMS est 84895 Sécondes soit environ 24 H.\n",
    " - Le temps moyen maximum entre 2 SMS est 85439 Sécondes soit environ 24 H.\n"
   ]
  },
  {
   "cell_type": "markdown",
   "metadata": {},
   "source": [
    "### Distribution"
   ]
  },
  {
   "cell_type": "markdown",
   "metadata": {},
   "source": [
    "![image info](./regularite2.png)"
   ]
  },
  {
   "cell_type": "markdown",
   "metadata": {},
   "source": [
    "### Corrélation "
   ]
  },
  {
   "cell_type": "markdown",
   "metadata": {},
   "source": [
    "![image info](./regularite3.png)"
   ]
  },
  {
   "cell_type": "markdown",
   "metadata": {},
   "source": [
    "Une corrélartion à hauteur de 0.59 entre **temp_sms_moy** et **ecartyp_temp_sms** . Presque pareille pour les appels mais pour une valeur de 0.54."
   ]
  },
  {
   "cell_type": "markdown",
   "metadata": {},
   "source": [
    "## Diversité "
   ]
  },
  {
   "cell_type": "markdown",
   "metadata": {},
   "source": [
    " - ratio_call_dist\n",
    " - ratio_dist_sms\n",
    " - nbre_corr_entrant_distinct\n",
    " - nbre_corr_sortant_distinc\n",
    " - nbre_distinct_msisdn\n",
    " - nbre_distinct_msisdn_med\n",
    " - nbre_distinct_msisdn_tot\n",
    " - nbr_cor_dist"
   ]
  },
  {
   "cell_type": "markdown",
   "metadata": {},
   "source": [
    "### Describe"
   ]
  },
  {
   "cell_type": "markdown",
   "metadata": {},
   "source": [
    "![image info](./diversite.png)\n",
    "![image info](./diversite1.png)"
   ]
  },
  {
   "cell_type": "markdown",
   "metadata": {},
   "source": [
    "Les valeurs 1 des deux ratios nous en dit beaucoup."
   ]
  },
  {
   "cell_type": "markdown",
   "metadata": {},
   "source": [
    "### Corrélation "
   ]
  },
  {
   "cell_type": "markdown",
   "metadata": {},
   "source": [
    "![image info](./diversite2.png)"
   ]
  }
 ],
 "metadata": {
  "kernelspec": {
   "display_name": "Python 3",
   "language": "python",
   "name": "python3"
  },
  "language_info": {
   "codemirror_mode": {
    "name": "ipython",
    "version": 3
   },
   "file_extension": ".py",
   "mimetype": "text/x-python",
   "name": "python",
   "nbconvert_exporter": "python",
   "pygments_lexer": "ipython3",
   "version": "3.8.5"
  }
 },
 "nbformat": 4,
 "nbformat_minor": 4
}
