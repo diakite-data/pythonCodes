{
 "cells": [
  {
   "cell_type": "code",
   "execution_count": 2,
   "id": "10b95528",
   "metadata": {},
   "outputs": [
    {
     "data": {
      "text/plain": [
       "hex: String = 196E9C4406\n",
       "res1: Int = 5\n"
      ]
     },
     "execution_count": 2,
     "metadata": {},
     "output_type": "execute_result"
    }
   ],
   "source": [
    "val hex = \"196E9C4406\"\n",
    "\n",
    "hex.length / 2"
   ]
  },
  {
   "cell_type": "code",
   "execution_count": 48,
   "id": "eb8c3bc7",
   "metadata": {},
   "outputs": [
    {
     "data": {
      "text/plain": [
       "convert_list: List[String] = List()\n"
      ]
     },
     "execution_count": 48,
     "metadata": {},
     "output_type": "execute_result"
    }
   ],
   "source": [
    "hex.slice(0,2)\n",
    "\n",
    "var convert_list = List[String]()"
   ]
  },
  {
   "cell_type": "code",
   "execution_count": 49,
   "id": "1ae664c3",
   "metadata": {},
   "outputs": [
    {
     "name": "stdout",
     "output_type": "stream",
     "text": [
      "(19,25)\n",
      "(6E,110)\n",
      "(9C,156)\n",
      "(44,68)\n",
      "(06,006)\n",
      "2511015668006\n"
     ]
    }
   ],
   "source": [
    "for (i <- 0 to hex.length - 1 by 2) {\n",
    "    \n",
    "    val hex_tmp = hex.slice(i,i+2)\n",
    "    var dec_tmp = new java.math.BigInteger(hex_tmp.toUpperCase, 16).toString\n",
    "    if (dec_tmp.toString.length == 1) {\n",
    "        dec_tmp = \"00\".concat(dec_tmp.toString)\n",
    "    }\n",
    "    println(Pair(hex_tmp,dec_tmp))\n",
    "    convert_list = convert_list :+ dec_tmp    \n",
    "}\n",
    "\n",
    "println(convert_list.mkString(\"\"))"
   ]
  },
  {
   "cell_type": "code",
   "execution_count": 50,
   "id": "aa31abc0",
   "metadata": {},
   "outputs": [
    {
     "name": "stdout",
     "output_type": "stream",
     "text": [
      "2511015668006\n"
     ]
    }
   ],
   "source": [
    "println(convert_list.mkString(\"\"))"
   ]
  },
  {
   "cell_type": "code",
   "execution_count": 61,
   "id": "09e30ce2",
   "metadata": {},
   "outputs": [
    {
     "data": {
      "text/plain": [
       "convert_to_hex_by_two: (hex: String)String\n"
      ]
     },
     "execution_count": 61,
     "metadata": {},
     "output_type": "execute_result"
    }
   ],
   "source": [
    "def convert_to_hex_by_two(hex : String) : String = {\n",
    "    \n",
    "    var convert_list = List[String]()\n",
    "    for (i <- 0 to hex.length - 1 by 2) {\n",
    "    \n",
    "    val hex_tmp = hex.slice(i,i+2)\n",
    "    var dec_tmp = new java.math.BigInteger(hex_tmp.toUpperCase, 16).toString\n",
    "    if (dec_tmp.toString.length == 1) {\n",
    "        dec_tmp = \"00\".concat(dec_tmp.toString)\n",
    "    }\n",
    "    \n",
    "    else if (dec_tmp.toString.length == 2) {\n",
    "        dec_tmp = \"0\".concat(dec_tmp.toString)\n",
    "    }\n",
    "    \n",
    "    convert_list = convert_list :+ dec_tmp    \n",
    "    \n",
    "    }\n",
    "    \n",
    "    val result = convert_list.mkString(\"\").replaceFirst(\"0\", \"\")\n",
    "    \n",
    "    result\n",
    "    \n",
    "}"
   ]
  },
  {
   "cell_type": "code",
   "execution_count": 55,
   "id": "1d1dc68e",
   "metadata": {},
   "outputs": [
    {
     "name": "stdout",
     "output_type": "stream",
     "text": [
      "(29,41)\n",
      "(0C,12)\n",
      "(C0,192)\n",
      "(43,67)\n",
      "(06,006)\n",
      "411219267006\n"
     ]
    }
   ],
   "source": [
    "Pair( convert_to_hex_by_two(\"290CC04306\") , "
   ]
  },
  {
   "cell_type": "code",
   "execution_count": 52,
   "id": "7931ec77",
   "metadata": {},
   "outputs": [
    {
     "name": "stdout",
     "output_type": "stream",
     "text": [
      "+------------+\n",
      "| call_ref_nb|\n",
      "+------------+\n",
      "|3CEEA2480600|\n",
      "|  290CC04306|\n",
      "|  0D7B494306|\n",
      "|  196E9C4406|\n",
      "|  0E7DB34306|\n",
      "+------------+\n",
      "only showing top 5 rows\n",
      "\n"
     ]
    },
    {
     "data": {
      "text/plain": [
       "df: org.apache.spark.sql.DataFrame = [call_ref_nb: string]\n"
      ]
     },
     "execution_count": 52,
     "metadata": {},
     "output_type": "execute_result"
    }
   ],
   "source": [
    "var df = spark.read.option(\"header\", \"true\").option(\"delimiter\", \";\").csv(\"/Users/diakite/Downloads/call_ref_nbr.csv\")\n",
    "df.show(5)\n"
   ]
  },
  {
   "cell_type": "code",
   "execution_count": 64,
   "id": "2a2113cf",
   "metadata": {},
   "outputs": [
    {
     "data": {
      "text/plain": [
       "res50: String = 60238162072006000\n"
      ]
     },
     "execution_count": 64,
     "metadata": {},
     "output_type": "execute_result"
    }
   ],
   "source": [
    "convert_to_hex_by_two(\"3CEEA2480600\")"
   ]
  },
  {
   "cell_type": "code",
   "execution_count": 65,
   "id": "c95fb1bf",
   "metadata": {},
   "outputs": [
    {
     "data": {
      "text/plain": [
       "import org.apache.spark.sql.functions.udf\n"
      ]
     },
     "execution_count": 65,
     "metadata": {},
     "output_type": "execute_result"
    }
   ],
   "source": [
    "import org.apache.spark.sql.functions.udf\n"
   ]
  },
  {
   "cell_type": "code",
   "execution_count": 66,
   "id": "fbc786fa",
   "metadata": {},
   "outputs": [
    {
     "ename": "<console>",
     "evalue": "25: error: missing argument list for method convert_to_hex_by_two",
     "output_type": "error",
     "traceback": [
      "<console>:25: error: missing argument list for method convert_to_hex_by_two",
      "Unapplied methods are only converted to functions when a function type is expected.",
      "You can make this conversion explicit by writing `convert_to_hex_by_two _` or `convert_to_hex_by_two(_)` instead of `convert_to_hex_by_two`.",
      "       val convert_to_hex_by_twoUDF = udf(convert_to_hex_by_two)",
      "                                          ^",
      ""
     ]
    }
   ],
   "source": [
    "val convert_to_hex_by_twoUDF = udf(convert_to_hex_by_two)"
   ]
  },
  {
   "cell_type": "code",
   "execution_count": 71,
   "id": "8ca35ea3",
   "metadata": {},
   "outputs": [
    {
     "data": {
      "text/plain": [
       "convert_to_hex_by_twoUDF: org.apache.spark.sql.expressions.UserDefinedFunction = SparkUserDefinedFunction($Lambda$3943/760367393@74b5314e,StringType,List(Some(class[value[0]: string])),Some(class[value[0]: string]),None,true,true)\n"
      ]
     },
     "execution_count": 71,
     "metadata": {},
     "output_type": "execute_result"
    }
   ],
   "source": [
    "val convert_to_hex_by_twoUDF = udf((hex : String) => {\n",
    "    \n",
    "    var convert_list = List[String]()\n",
    "    for (i <- 0 to hex.length - 1 by 2) {\n",
    "    \n",
    "    var dec_tmp = new java.math.BigInteger(hex.slice(i,i+2).toUpperCase, 16).toString\n",
    "    \n",
    "    if (dec_tmp.toString.length == 1) {\n",
    "        dec_tmp = \"00\".concat(dec_tmp.toString)\n",
    "    }\n",
    "    \n",
    "    else if (dec_tmp.toString.length == 2) {\n",
    "        dec_tmp = \"0\".concat(dec_tmp.toString)\n",
    "    }\n",
    "    \n",
    "    convert_list = convert_list :+ dec_tmp    \n",
    "    \n",
    "    }\n",
    "    \n",
    "    convert_list.mkString(\"\").replaceFirst(\"0\", \"\")\n",
    "    \n",
    "})"
   ]
  },
  {
   "cell_type": "code",
   "execution_count": 72,
   "id": "62a35852",
   "metadata": {},
   "outputs": [
    {
     "name": "stdout",
     "output_type": "stream",
     "text": [
      "+------------+-----------------+\n",
      "| call_ref_nb|      Hexadecimal|\n",
      "+------------+-----------------+\n",
      "|3CEEA2480600|60238162072006000|\n",
      "|  290CC04306|   41012192067006|\n",
      "|  0D7B494306|   13123073067006|\n",
      "|  196E9C4406|   25110156068006|\n",
      "|  0E7DB34306|   14125179067006|\n",
      "|  385FBE4406|   56095190068006|\n",
      "|  27B1234406|   39177035068006|\n",
      "|  4BD0204306|   75208032067006|\n",
      "|  4BB9464306|   75185070067006|\n",
      "|  1C2CB14306|   28044177067006|\n",
      "|  2D3DC74406|   45061199068006|\n",
      "|  17DC344406|   23220052068006|\n",
      "|  0280AF4406|   02128175068006|\n",
      "|  10161B4706|   16022027071006|\n",
      "|  0DA9CC4306|   13169204067006|\n",
      "|  17D38D4406|   23211141068006|\n",
      "|  28B7374406|   40183055068006|\n",
      "|  34A12D4406|   52161045068006|\n",
      "+------------+-----------------+\n",
      "\n"
     ]
    },
    {
     "data": {
      "text/plain": [
       "df: org.apache.spark.sql.DataFrame = [call_ref_nb: string, Hexadecimal: string]\n"
      ]
     },
     "execution_count": 72,
     "metadata": {},
     "output_type": "execute_result"
    }
   ],
   "source": [
    "df = df.withColumn(\"Hexadecimal\", convert_to_hex_by_twoUDF(col(\"call_ref_nb\")))\n",
    "df.show()"
   ]
  },
  {
   "cell_type": "code",
   "execution_count": null,
   "id": "cf69902f",
   "metadata": {},
   "outputs": [],
   "source": [
    "df\n",
    ".coalesce\n",
    ".write.format(\"csv\").mode(\"overwrite\").option(\"header\", \"true\").option(\"delimiter\")\n",
    ".save(\"Users/diakite/Downloads/call_ref_nbr.csv\")\n",
    "\n"
   ]
  }
 ],
 "metadata": {
  "kernelspec": {
   "display_name": "spylon-kernel",
   "language": "scala",
   "name": "spylon-kernel"
  },
  "language_info": {
   "codemirror_mode": "text/x-scala",
   "file_extension": ".scala",
   "help_links": [
    {
     "text": "MetaKernel Magics",
     "url": "https://metakernel.readthedocs.io/en/latest/source/README.html"
    }
   ],
   "mimetype": "text/x-scala",
   "name": "scala",
   "pygments_lexer": "scala",
   "version": "0.4.1"
  }
 },
 "nbformat": 4,
 "nbformat_minor": 5
}
