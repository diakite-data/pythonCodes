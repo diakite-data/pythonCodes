{
 "cells": [
  {
   "cell_type": "code",
   "execution_count": 1,
   "metadata": {},
   "outputs": [],
   "source": [
    "from pyspark.ml.clustering import KMeans\n",
    "from pyspark.ml.evaluation import ClusteringEvaluator\n",
    "from pyspark.sql.functions import *\n",
    "from pyspark.sql.types import *\n",
    "from pyspark.ml.feature import *\n",
    "from pyspark.ml import Pipeline\n",
    "from pyspark.ml.classification import *\n",
    "from pyspark.ml.feature import IndexToString, StringIndexer, VectorIndexer\n",
    "from pyspark.ml.evaluation import MulticlassClassificationEvaluator\n",
    "from pyspark.ml.feature import VectorAssembler\n",
    "from pyspark.ml.evaluation import BinaryClassificationEvaluator\n",
    "from pyspark.ml.classification import MultilayerPerceptronClassifier\n",
    "from pyspark.ml.evaluation import MulticlassClassificationEvaluator\n",
    "from pyspark.mllib.evaluation import MulticlassMetrics\n",
    "from pyspark.sql import SparkSession\n",
    "from pyspark.ml.classification import LinearSVC\n",
    "from pyspark.ml.functions import vector_to_array\n",
    "import pandas as pd\n",
    "import numpy as np\n",
    "import os\n",
    "import pyarrow.parquet as pq\n",
    "from pyspark.ml.feature import StandardScaler\n",
    "from pyspark.sql.functions import mean as _mean, stddev as _stddev, col\n",
    "from math import *\n",
    "from pyspark.sql.window import Window\n"
   ]
  },
  {
   "cell_type": "code",
   "execution_count": null,
   "metadata": {},
   "outputs": [],
   "source": []
  },
  {
   "cell_type": "code",
   "execution_count": 2,
   "metadata": {},
   "outputs": [
    {
     "name": "stderr",
     "output_type": "stream",
     "text": [
      "Using Spark's default log4j profile: org/apache/spark/log4j-defaults.properties\n",
      "Setting default log level to \"WARN\".\n",
      "To adjust logging level use sc.setLogLevel(newLevel). For SparkR, use setLogLevel(newLevel).\n",
      "22/05/31 13:18:38 WARN NativeCodeLoader: Unable to load native-hadoop library for your platform... using builtin-java classes where applicable\n"
     ]
    }
   ],
   "source": [
    "spark = SparkSession.builder.master(\"local[1]\")\\\n",
    "          .appName(\"sunshine_v2\")\\\n",
    "          .getOrCreate()\n",
    "\n",
    "sc = spark.sparkContext\n",
    "sc.setLogLevel(\"ERROR\")"
   ]
  },
  {
   "cell_type": "markdown",
   "metadata": {},
   "source": [
    "### Random Recrutement"
   ]
  },
  {
   "cell_type": "code",
   "execution_count": 16,
   "metadata": {},
   "outputs": [
    {
     "name": "stdout",
     "output_type": "stream",
     "text": [
      "+---------+----------------+-------------+--------------------+------------------+\n",
      "|DATE_JOUR|DATE_RECRUTEMENT| MOBILE_COACH|     ID_MOBILE_COACH|NOMBRE_RECRUTEMENT|\n",
      "+---------+----------------+-------------+--------------------+------------------+\n",
      "| 20220323|        23/03/22|     VTRV0063|            VTRV0063|                 6|\n",
      "| 20220323|        23/03/22|   0701079491|PT220204.1420.940560|                 2|\n",
      "| 20220323|        23/03/22|   0779734122|          0779734122|                 1|\n",
      "| 20220323|        23/03/22|        SPM01|               SPM01|                 7|\n",
      "| 20220323|        23/03/22|   0787792365|PT170915.1529.687886|                17|\n",
      "| 20220323|        23/03/22|   0797067943|          0797067943|                 1|\n",
      "| 20220323|        23/03/22|   0777142349|          0777142349|                 1|\n",
      "| 20220323|        23/03/22|   0707896915|PT220126.1425.832696|                15|\n",
      "| 20220323|        23/03/22|     WXZZ0108|            WXZZ0108|                 1|\n",
      "| 20220323|        23/03/22|   0757273147|PT180927.1908.656204|                 8|\n",
      "| 20220323|        23/03/22|     BVNJ8645|            BVNJ8645|                 3|\n",
      "| 20220323|        23/03/22|   0768233934|          0768233934|                 1|\n",
      "| 20220323|        23/03/22|   0788895601|          0788895601|                 1|\n",
      "| 20220323|        23/03/22|   0758994685|PT210223.1636.356627|                 3|\n",
      "| 20220323|        23/03/22|   0749201280|          0749201280|                 1|\n",
      "| 20220323|        23/03/22|   0789156522|PT171117.1648.337417|                 1|\n",
      "| 20220323|        23/03/22|   0799535755|          0799535755|                 1|\n",
      "| 20220323|        23/03/22|   0777175518|          0777175518|                 1|\n",
      "| 20220323|        23/03/22|ajs_bocanda_3|       ajs_bocanda_3|                 8|\n",
      "| 20220323|        23/03/22|   0769332829|          0769332829|                 1|\n",
      "+---------+----------------+-------------+--------------------+------------------+\n",
      "only showing top 20 rows\n",
      "\n",
      "root\n",
      " |-- DATE_JOUR: string (nullable = true)\n",
      " |-- DATE_RECRUTEMENT: string (nullable = true)\n",
      " |-- MOBILE_COACH: string (nullable = true)\n",
      " |-- ID_MOBILE_COACH: string (nullable = true)\n",
      " |-- NOMBRE_RECRUTEMENT: string (nullable = true)\n",
      "\n"
     ]
    }
   ],
   "source": [
    "df_commission = spark.read \\\n",
    "      .option(\"delimiter\", \";\") \\\n",
    "      .option(\"header\", \"true\") \\\n",
    "      .csv(\"/Users/youssouf/Downloads/COMMISSION_RECRUTEMENT_202203230.csv\") \\\n",
    "      .dropDuplicates()\n",
    "\n",
    "df_commission.show()\n",
    "df_commission.printSchema()"
   ]
  },
  {
   "cell_type": "code",
   "execution_count": 23,
   "metadata": {},
   "outputs": [],
   "source": [
    "df_commission = df_commission.withColumn(\"COMMISSION\", col(\"NOMBRE_RECRUTEMENT\").cast(\"int\")/10) \\\n",
    "                             .withColumn(\"COMMISSION\", col(\"COMMISSION\").cast(\"int\")*3500)"
   ]
  },
  {
   "cell_type": "code",
   "execution_count": 24,
   "metadata": {},
   "outputs": [
    {
     "name": "stdout",
     "output_type": "stream",
     "text": [
      "+---------+----------------+-------------+--------------------+------------------+----------+\n",
      "|DATE_JOUR|DATE_RECRUTEMENT| MOBILE_COACH|     ID_MOBILE_COACH|NOMBRE_RECRUTEMENT|COMMISSION|\n",
      "+---------+----------------+-------------+--------------------+------------------+----------+\n",
      "| 20220323|        23/03/22|     VTRV0063|            VTRV0063|                 6|         0|\n",
      "| 20220323|        23/03/22|   0701079491|PT220204.1420.940560|                 2|         0|\n",
      "| 20220323|        23/03/22|   0779734122|          0779734122|                 1|         0|\n",
      "| 20220323|        23/03/22|        SPM01|               SPM01|                 7|         0|\n",
      "| 20220323|        23/03/22|   0787792365|PT170915.1529.687886|                17|      3500|\n",
      "| 20220323|        23/03/22|   0797067943|          0797067943|                 1|         0|\n",
      "| 20220323|        23/03/22|   0777142349|          0777142349|                 1|         0|\n",
      "| 20220323|        23/03/22|   0707896915|PT220126.1425.832696|                15|      3500|\n",
      "| 20220323|        23/03/22|     WXZZ0108|            WXZZ0108|                 1|         0|\n",
      "| 20220323|        23/03/22|   0757273147|PT180927.1908.656204|                 8|         0|\n",
      "| 20220323|        23/03/22|     BVNJ8645|            BVNJ8645|                 3|         0|\n",
      "| 20220323|        23/03/22|   0768233934|          0768233934|                 1|         0|\n",
      "| 20220323|        23/03/22|   0788895601|          0788895601|                 1|         0|\n",
      "| 20220323|        23/03/22|   0758994685|PT210223.1636.356627|                 3|         0|\n",
      "| 20220323|        23/03/22|   0749201280|          0749201280|                 1|         0|\n",
      "| 20220323|        23/03/22|   0789156522|PT171117.1648.337417|                 1|         0|\n",
      "| 20220323|        23/03/22|   0799535755|          0799535755|                 1|         0|\n",
      "| 20220323|        23/03/22|   0777175518|          0777175518|                 1|         0|\n",
      "| 20220323|        23/03/22|ajs_bocanda_3|       ajs_bocanda_3|                 8|         0|\n",
      "| 20220323|        23/03/22|   0769332829|          0769332829|                 1|         0|\n",
      "+---------+----------------+-------------+--------------------+------------------+----------+\n",
      "only showing top 20 rows\n",
      "\n"
     ]
    }
   ],
   "source": [
    "df_commission.show()"
   ]
  },
  {
   "cell_type": "code",
   "execution_count": 27,
   "metadata": {},
   "outputs": [],
   "source": [
    "df_commission.repartition(1) \\\n",
    "            .write \\\n",
    "            .mode(\"overwrite\") \\\n",
    "            .format(\"csv\") \\\n",
    "            .option(\"header\",\"true\") \\\n",
    "            .option(\"delimiter\",\";\") \\\n",
    "            .save(\"/Users/youssouf/Downloads/COMMISSION_RECRUTEMENT_202203230_new.csv\")"
   ]
  },
  {
   "cell_type": "code",
   "execution_count": null,
   "metadata": {},
   "outputs": [],
   "source": []
  },
  {
   "cell_type": "markdown",
   "metadata": {},
   "source": [
    "### Random Activation"
   ]
  },
  {
   "cell_type": "code",
   "execution_count": 66,
   "metadata": {},
   "outputs": [
    {
     "name": "stdout",
     "output_type": "stream",
     "text": [
      "+--------------------+--------------------+--------------------+------------------+----------+----------------+-----------------+--------------+---------------+----------+-------------------+-----------+--------+--------------------+------------+-------+----+-----------+--------+--------------+----------+-------------+-------+--------------------+------+---------+--------------+-------------------+--------------------+-----------------+-----------------+---------------+-------------+-------------------+--------------------+--------------------+------------+----------------+------------------+--------------------+--------------------+-------------------+--------------------+--------------------+----------+---------------+----------+------------------------+-------+-------------------+----------+--------------------+------------+----------+------------+----------+-------------+---------+-------------------+------------------+----------------+--------------+-----+--------------+-------------+----------------+--------------+-----------------+-----------+-------------+-----------+--------------------+-----------------+\n",
      "|             USER_ID|          PROFILE_ID|      PARENT_USER_ID|PARENT_USER_MSISDN|    MSISDN|USER_NAME_PREFIX|  USER_FIRST_NAME|USER_LAST_NAME|USER_SHORT_NAME|       DOB|      REGISTERED_ON|   ADDRESS1|ADDRESS2|               STATE|        CITY|COUNTRY| SSN|DESIGNATION|DIVISION|CONTACT_PERSON|CONTACT_NO|EMPLOYEE_CODE|    SEX|           ID_NUMBER|E_MAIL|WEB_LOGIN|ACCOUNT_STATUS|      CREATION_DATE|          CREATED_BY|CREATED_BY_MSISDN|NOMADE_CREATED_BY|LEVEL1_APP_DATE|LEVEL1_APP_BY|    LEVEL2_APP_DATE|       LEVEL2_APP_BY|            OWNER_ID|OWNER_MSISDN|USER_DOMAIN_CODE|USER_CATEGORY_CODE|     USER_GRADE_NAME|         MODIFIED_BY|        MODIFIED_ON|MODIFIED_APPROVED_BY|MODIFIED_APPROVED_ON|DELETED_ON|DEACTIVATION_BY|DEPARTMENT|REGISTRATION_FORM_NUMBER|REMARKS|GEOGRAPHICAL_DOMAIN|GROUP_ROLE|FIRST_TRANSACTION_ON|COMPANY_CODE| USER_TYPE| ACTION_TYPE|AGENT_CODE|CREATION_TYPE|  BULK_ID|IDENTITY_PROOF_TYPE|ADDRESS_PROOF_TYPE|PHOTO_PROOF_TYPE|       ID_TYPE|ID_NO|ID_ISSUE_PLACE|ID_ISSUE_DATE|ID_ISSUE_COUNTRY|ID_EXPIRY_DATE|RESIDENCE_COUNTRY|NATIONALITY|EMPLOYER_NAME|POSTAL_CODE|   SOUSCRIPTION_TYPE|MOBILE_GROUP_ROLE|\n",
      "+--------------------+--------------------+--------------------+------------------+----------+----------------+-----------------+--------------+---------------+----------+-------------------+-----------+--------+--------------------+------------+-------+----+-----------+--------+--------------+----------+-------------+-------+--------------------+------+---------+--------------+-------------------+--------------------+-----------------+-----------------+---------------+-------------+-------------------+--------------------+--------------------+------------+----------------+------------------+--------------------+--------------------+-------------------+--------------------+--------------------+----------+---------------+----------+------------------------+-------+-------------------+----------+--------------------+------------+----------+------------+----------+-------------+---------+-------------------+------------------+----------------+--------------+-----+--------------+-------------+----------------+--------------+-----------------+-----------+-------------+-----------+--------------------+-----------------+\n",
      "|PT220323.1047.698225|TCP1605111853.041463|PT190226.1610.344661|        0789128522|0701598324|             Mr.|         NIENEKAN|         KEITA|           null|01/01/1978|23/03/2022 10:47:48|       0000|    null|              HANNIE|       TABOU|   null|null|       null|    null|          null|      null|         null|GEN_MAL|   KEIT092020046754N|  null|     null|             Y|23/03/2022 10:47:48|PT190226.1610.344661|       0789128522|             null|           null|         null|               null|                null|PT121010.1400.C00862|  0758024878|            SUBS|              SUBS|Subscriber Lite B...|PT220323.1047.698225|23/03/2022 10:47:48|                null|                null|      null|           null|      null|                    null|   null|        OCI Network|      null|                null|        null|SUBSCRIBER|    CREATION|      null|         null|     null|               null|              null|            null|   DRIVER_CARD| null|          null|   09/09/2020|            null|    31/12/2050|               CI|         CI|          LOW|     00BP00|               NOMAD|    SubsBCEAORole|\n",
      "|PT220322.1405.691746|TCP1605111853.041463|PT220322.1405.691746|        0702590191|0702590191|             Mr.|JEAN-CLAUDE APPIA|          BONI|           null|12/06/1993|22/03/2022 14:05:21|     00BP00|    null|        INDETERMINEE|GRAND BASSAM|   null|null|       null|    null|          null|      null|         null|GEN_MAL|    0000298014216OM3|  null|     null|             Y|22/03/2022 14:05:21|PT220322.1405.691746|             null|             null|           null|         null|               null|                null|PT220322.1405.691746|  0702590191|            SUBS|              SUBS|Subscriber Lite B...|PT220322.1405.691746|23/03/2022 14:52:41|                null|                null|      null|           null|      null|                    null|   null|        OCI Network|      null|                null|        null|SUBSCRIBER|MODIFICATION|      null|         null|     null|               null|              null|            null|CERTIFICATE_ID| null|          null|   14/07/2021|            null|    30/07/2022|               CI|         CI|          LOW|        225|USSD SELF REGISTR...|    SubsBCEAORole|\n",
      "|PT220321.1157.673833|TCP1605111853.041463|PT220321.1157.673833|        0788521439|0788521439|            Mrs.|           MAHOUA|         SILUE|           null|01/01/1972|21/03/2022 11:57:37|         00|    null|           TORGOKAHA|     KORHOGO|   null|null|       null|    null|          null|      null|         null|GEN_FEM|      C0047671052OM2|  null|     null|             Y|21/03/2022 11:57:37|PT220321.1157.673833|             null|             null|           null|         null|               null|                null|PT220321.1157.673833|  0788521439|            SUBS|              SUBS|Subscriber Lite B...|PT220321.1157.673833|23/03/2022 10:57:03|                null|                null|      null|           null|      null|                    null|   null|        OCI Network|      null|                null|        null|SUBSCRIBER|MODIFICATION|      null|         null|     null|               null|              null|            null|   NATIONAL_ID| null|          null|   28/08/2009|            null|    27/08/2026|               CI|         CI|          LOW|         00|USSD SELF REGISTR...|    SubsBCEAORole|\n",
      "|PT220321.0942.670547|TCP1605111853.041463|PT220321.0942.670547|        0779759262|0779759262|             Mr.|         TAAFIQUE|       GANIYOU|           null|04/02/1974|21/03/2022 09:42:49| MARIE KORE|    null|                null|     ABIDJAN|   null|null|       null|    null|          null|      null|         null|GEN_MAL|      CO106492482OM2|  null|     null|             Y|21/03/2022 09:42:49|PT220321.0942.670547|             null|             null|           null|         null|               null|                null|PT220321.0942.670547|  0779759262|            SUBS|              SUBS|Subscriber Lite B...|PT220321.0942.670547|23/03/2022 10:40:53|                null|                null|      null|           null|      null|                    null|   null|        OCI Network|      null|                null|        null|SUBSCRIBER|MODIFICATION|      null|         null|     null|               null|              null|            null|   NATIONAL_ID| null|          null|   05/05/2015|            null|    04/05/2025|               CI|         CI|          LOW|      00225|USSD SELF REGISTR...|    SubsBCEAORole|\n",
      "|PT220323.1326.702845|TCP1605111853.041463|PT190416.1024.174113|        0708610955|0778079078|             Mr.|          SOUMELA|      DIOMANDE|           null|28/12/1990|23/03/2022 13:26:33|      TOUBA|    null|                null|       TOUBA|   null|null|       null|    null|          null|      null|         null|GEN_MAL|      CI001881853OM2|  null|     null|             Y|23/03/2022 13:26:33|PT190416.1024.174113|       0708610955|             null|           null|         null|               null|                null|PT121010.1442.C00949|  0758024696|            SUBS|              SUBS|Subscriber Lite B...|PT220323.1326.702845|23/03/2022 13:26:33|                null|                null|      null|           null|      null|                    null|   null|        OCI Network|      null|                null|        null|SUBSCRIBER|    CREATION|      null|         null|     null|               null|              null|            null|   NATIONAL_ID| null|          null|   10/06/2021|            null|    10/06/2031|               CI|         CI|          LOW|         00|               NOMAD|    SubsBCEAORole|\n",
      "|PT220322.1354.691516|TCP1605111853.041463|PT220322.1354.691516|        0701218900|0701218900|             Mr.|        ABDOULAYE|      OUATTARA|           null|01/01/1986|22/03/2022 13:54:47|     00BP00|    null|               ABOBO|     ABIDJAN|   null|null|       null|    null|          null|      null|         null|GEN_MAL|         C0102215777|  null|     null|             Y|22/03/2022 13:54:47|PT220322.1354.691516|             null|             null|           null|         null|               null|                null|PT220322.1354.691516|  0701218900|            SUBS|              SUBS|Subscriber Lite B...|PT220322.1354.691516|23/03/2022 17:19:46|                null|                null|      null|           null|      null|                    null|   null|        OCI Network|      null|                null|        null|SUBSCRIBER|MODIFICATION|      null|         null|     null|               null|              null|            null|   NATIONAL_ID| null|          null|   16/10/2009|            null|    31/03/2022|               CI|         CI|          LOW|        225|USSD SELF REGISTR...|    SubsBCEAORole|\n",
      "|PT220323.1225.700976|TCP1605111853.041463|PT180502.1248.508989|        0788182150|0749789618|             Mr.|        DJOVONMON|          SORO|           null|01/01/1974|23/03/2022 12:25:15|       BP00|    null|         INDETERMINE|     SIRASSO|   null|null|       null|    null|          null|      null|         null|GEN_MAL|      CI000559947OM2|  null|     null|             Y|23/03/2022 12:25:15|PT180502.1248.508989|       0788182150|             null|           null|         null|               null|                null|PT121010.1419.C00904|  0758023722|            SUBS|              SUBS|Subscriber Lite B...|PT220323.1225.700976|23/03/2022 12:25:15|                null|                null|      null|           null|      null|                    null|   null|        OCI Network|      null|                null|        null|SUBSCRIBER|    CREATION|      null|         null|     null|               null|              null|            null|   NATIONAL_ID| null|          null|   26/10/2020|            null|    26/10/2030|               CI|         CI|          LOW|      00225|               NOMAD|    SubsBCEAORole|\n",
      "|PT220323.1804.709559|TCP1605111853.041463|PT211021.1001.680990|        0798418729|0704760928|            Mrs.|  AMENAN MARIAMAN|       KOMENAN|           null|10/08/1977|23/03/2022 18:04:38|    ABIDJAN|    null|                null|      PRIKRO|   null|null|       null|    null|          null|      null|         null|GEN_FEM|           002593595|  null|     null|             Y|23/03/2022 18:04:38|PT211021.1001.680990|       0798418729|             null|           null|         null|               null|                null|PT200327.1501.642777|  0788280641|            SUBS|              SUBS|Subscriber Lite B...|PT220323.1804.709559|23/03/2022 18:04:38|                null|                null|      null|           null|      null|                    null|   null|        OCI Network|      null|                null|        null|SUBSCRIBER|    CREATION|      null|         null|     null|               null|              null|            null|   NATIONAL_ID| null|          null|   03/12/2021|            null|    03/12/2031|               CI|         CI|          LOW|         00|               NOMAD|    SubsBCEAORole|\n",
      "|PT220323.1557.706715|TCP1605111853.041463|PT210713.1640.763530|        0758763166|0779342969|            Mrs.|          BERTINE|          ZRAN|           null|01/03/1956|23/03/2022 15:57:56|        MAN|    null|                null|         MAN|   null|null|       null|    null|          null|      null|         null|GEN_FEM|      C0089055276OM2|  null|     null|             Y|23/03/2022 15:57:56|PT210713.1640.763530|       0758763166|             null|           null|         null|               null|                null|PT180824.1749.456189|  0788766420|            SUBS|              SUBS|Subscriber Lite B...|PT220323.1557.706715|23/03/2022 15:57:56|                null|                null|      null|           null|      null|                    null|   null|        OCI Network|      null|                null|        null|SUBSCRIBER|    CREATION|      null|         null|     null|               null|              null|            null|   NATIONAL_ID| null|          null|   23/03/2022|            null|    23/03/2026|               CI|         CI|          LOW|       0000|               NOMAD|    SubsBCEAORole|\n",
      "|PT220323.1042.698087|TCP1605111853.041463|PT220204.1436.941033|        0701566839|0758237398|             Mr.|        TIA ALAIN|          ZRAN|           null|15/12/1995|23/03/2022 10:42:50|    BLAPLEU|    null|                null| PODIAGOUINE|   null|null|       null|    null|          null|      null|         null|GEN_MAL| OM3TIA062018036791A|  null|     null|             Y|23/03/2022 10:42:50|PT220204.1436.941033|       0701566839|             null|           null|         null|               null|                null|PT180824.1749.456189|  0788766420|            SUBS|              SUBS|Subscriber Lite B...|PT220323.1042.698087|23/03/2022 10:42:50|                null|                null|      null|           null|      null|                    null|   null|        OCI Network|      null|                null|        null|SUBSCRIBER|    CREATION|      null|         null|     null|               null|              null|            null|   DRIVER_CARD| null|          null|   24/08/2020|            null|    24/08/2025|               CI|         CI|          LOW|       2000|               NOMAD|    SubsBCEAORole|\n",
      "|PT220323.1755.709292|TCP1605111853.041463|PT220204.1436.941106|        0759339090|0768963086|             Mr.|          DIAKITE|         LADJI|           null|19/09/1979|23/03/2022 17:55:29|         00|    null|             DOHOUAN|     ABOISSO|   null|null|       null|    null|          null|      null|         null|GEN_MAL|LADJI011623008372...|  null|     null|             Y|23/03/2022 17:55:29|PT220204.1436.941106|       0759339090|             null|           null|         null|               null|                null|PT180824.1749.456189|  0788766420|            SUBS|              SUBS|Subscriber Lite B...|PT220323.1755.709292|23/03/2022 17:55:29|                null|                null|      null|           null|      null|                    null|   null|        OCI Network|      null|                null|        null|SUBSCRIBER|    CREATION|      null|         null|     null|               null|              null|            null|   DRIVER_CARD| null|          null|   25/07/2016|            null|    31/12/2050|               CI|         CI|          LOW|        225|               NOMAD|    SubsBCEAORole|\n",
      "|PT151001.1048.652403|TCP0806130826.000001|PT130408.1412.C00606|        0759573847|0759493680|             Mr.|      Tiegbe Eric|        Drigbe|           null|12/01/1995|01/10/2015 10:48:07|       0000|Koumassi|                null|     Abidjan|   null|null|       null|    null|          null|      null|         null|GEN_MAL|           08063233A|  null|     null|             Y|01/10/2015 10:48:07|PT130408.1412.C00606|       0759573847|       0759573847|           null|         null|               null|                null|PT121010.1419.C00904|  0758023722|            SUBS|              SUBS|   Normal Subscriber|PT210518.0850.127397|23/03/2022 15:12:10|                null|                null|      null|           null|      null|                    null|   null|        OCI Network|      null|                null|        null|SUBSCRIBER|MODIFICATION|      null|         null|SUBS_ROLE|               null|              null|            null|          null| null|          null|         null|            null|          null|               CI|       null|      LowRisk|       null|            WEB BULK|        SUBS_ROLE|\n",
      "|PT220323.1117.699114|TCP1605111853.041463|PT180705.1100.151774|        0707808507|0703060088|             Mr.|           DRISSA|  DIARRASSOUBA|           null|20/10/2001|23/03/2022 11:17:35|   00 BP 00| ABIDJAN|ACTIVATION BO 230...|     ABIDJAN|   null|null|       null|    null|          null|      null|         null|GEN_MAL|     CI001462290OM02|  null|     null|             Y|23/03/2022 11:17:35|PT180705.1100.151774|       0707808507|             null|           null|         null|23/03/2022 11:17:35|PT180705.1100.151774|      CIAO0000147355|  0708899881|            SUBS|              SUBS|Subscriber Lite B...|PT180705.1100.151774|23/03/2022 11:17:35|                null|                null|      null|           null|      null|    HOMO BO 230320221116|   null|        OCI Network|      null|                null|        null|SUBSCRIBER|  ACTIVATION|      null|         null|     null|               null|              null|            null|          null| null|          null|         null|            null|          null|             null|       null|         null|       null|           WEB TANGO|    SubsBCEAORole|\n",
      "|PT220323.1044.698155|TCP1605111853.041463|PT210205.1147.247545|        0748255974|0701020611|             Mr.|   KLAROU SYLVAIN|         POUHE|           null|04/06/1977|23/03/2022 10:44:58|    KORHOGO|    null|             AKOUEDO|     ABIDJAN|   null|null|       null|    null|          null|      null|         null|GEN_MAL|      C0047362505OM2|  null|     null|             Y|23/03/2022 10:44:58|PT210205.1147.247545|       0748255974|             null|           null|         null|               null|                null|PT121010.1404.C00871|  0758024371|            SUBS|              SUBS|Subscriber Lite B...|PT220323.1044.698155|23/03/2022 10:44:58|                null|                null|      null|           null|      null|                    null|   null|        OCI Network|      null|                null|        null|SUBSCRIBER|    CREATION|      null|         null|     null|               null|              null|            null|   NATIONAL_ID| null|          null|   27/08/2013|            null|    26/08/2023|               CI|         CI|          LOW|       0000|               NOMAD|    SubsBCEAORole|\n",
      "|PT220323.1119.699257|TCP1605111853.041463|PT190426.1020.268915|        0767086639|0703936759|             Mr.|       LASME JEAN|          SESS|           null|27/03/1972|23/03/2022 11:19:58|     00BP00|    null|        INDETERMINER|       DABOU|   null|null|       null|    null|          null|      null|         null|GEN_MAL|      C0089187601DOM|  null|     null|             Y|23/03/2022 11:19:58|PT190426.1020.268915|       0767086639|             null|           null|         null|               null|                null|PT121010.1323.C00800|  0708438168|            SUBS|              SUBS|Subscriber Lite B...|PT220323.1119.699257|23/03/2022 11:19:58|                null|                null|      null|           null|      null|                    null|   null|        OCI Network|      null|                null|        null|SUBSCRIBER|    CREATION|      null|         null|     null|               null|              null|            null|   NATIONAL_ID| null|          null|   04/11/2009|            null|    31/12/2022|               CI|         CI|          LOW|        225|               NOMAD|    SubsBCEAORole|\n",
      "|PT220323.1326.702835|TCP1605111853.041463|PT210811.1607.281628|        0767483552|0779962462|             Mr.|    KOUADIO DENIS|           YAO|           null|16/10/1956|23/03/2022 13:26:18|BELLE VILLE|    null|                null|      BOUAKE|   null|null|       null|    null|          null|      null|         null|GEN_MAL|          0022564782|  null|     null|             Y|23/03/2022 13:26:18|PT210811.1607.281628|       0767483552|             null|           null|         null|               null|                null|PT121010.1342.C00836|  0758025342|            SUBS|              SUBS|Subscriber Lite B...|PT220323.1326.702835|23/03/2022 13:26:18|                null|                null|      null|           null|      null|                    null|   null|        OCI Network|      null|                null|        null|SUBSCRIBER|    CREATION|      null|         null|     null|               null|              null|            null|   NATIONAL_ID| null|          null|   08/06/2009|            null|    07/06/2022|               CI|         CI|          LOW|      00225|               NOMAD|    SubsBCEAORole|\n",
      "|PT220323.1805.709573|TCP1605111853.041463|PT190829.1639.296798|        0788931431|0798050495|            Mrs.|         ABIBATOU|        SAMAKE|           null|20/10/1989|23/03/2022 18:05:06|      TANDA|    null|            COMMERCE|       TANDA|   null|null|       null|    null|          null|      null|         null|GEN_FEM|  CI000471826OM02OM2|  null|     null|             Y|23/03/2022 18:05:06|PT190829.1639.296798|       0788931431|             null|           null|         null|               null|                null|PT121010.1349.C00844|  0758025240|            SUBS|              SUBS|Subscriber Lite B...|PT220323.1805.709573|23/03/2022 18:05:06|                null|                null|      null|           null|      null|                    null|   null|        OCI Network|      null|                null|        null|SUBSCRIBER|    CREATION|      null|         null|     null|               null|              null|            null|   NATIONAL_ID| null|          null|   26/10/2020|            null|    26/10/2030|               CI|         CI|          LOW|       0000|               NOMAD|    SubsBCEAORole|\n",
      "|PT220323.1325.702811|TCP1605111853.041463|PT210426.1340.753012|        0767724512|0798199531|             Mr.|          KOUASSI|     N GUESSAN|           null|01/01/1971|23/03/2022 13:25:21|   COMMERCE|    null|                null|    DIMBOKRO|   null|null|       null|    null|          null|      null|         null|GEN_MAL|      C0054576184OM3|  null|     null|             Y|23/03/2022 13:25:21|PT210426.1340.753012|       0767724512|             null|           null|         null|               null|                null|PT121010.1355.C00854|  0758024956|            SUBS|              SUBS|Subscriber Lite B...|PT220323.1325.702811|23/03/2022 13:25:21|                null|                null|      null|           null|      null|                    null|   null|        OCI Network|      null|                null|        null|SUBSCRIBER|    CREATION|      null|         null|     null|               null|              null|            null|   NATIONAL_ID| null|          null|   01/10/2009|            null|    31/03/2022|               CI|         CI|          LOW|     00BP00|               NOMAD|    SubsBCEAORole|\n",
      "|PT220323.1222.700896|TCP1605111853.041463|PT180207.1106.753708|        0787790406|0788545056|             Mr.|             ERIC|       YAMEOGO|           null|19/09/1996|23/03/2022 12:22:58|     00BP00|    null|                null|     ABIDJAN|   null|null|       null|    null|          null|      null|         null|GEN_MAL|YAME011824129246E...|  null|     null|             Y|23/03/2022 12:22:58|PT180207.1106.753708|       0787790406|             null|           null|         null|               null|                null|PT121010.1259.C00758|  0708376099|            SUBS|              SUBS|Subscriber Lite B...|PT220323.1222.700896|23/03/2022 12:22:58|                null|                null|      null|           null|      null|                    null|   null|        OCI Network|      null|                null|        null|SUBSCRIBER|    CREATION|      null|         null|     null|               null|              null|            null|   DRIVER_CARD| null|          null|   01/02/2018|            null|    31/12/2050|               CI|         CI|          LOW|      00225|               NOMAD|    SubsBCEAORole|\n",
      "|PT220321.1242.674777|TCP1605111853.041463|PT220321.1242.674777|        0789580927|0789580927|             Mr.|         ISSOUFOU|     OUEDRAOGO|           null|02/01/1975|21/03/2022 12:42:54|  BIANKOUMA|    null|                null|   BIANKOUMA|   null|null|       null|    null|          null|      null|         null|GEN_MAL|BF384001001007232792|  null|     null|             S|21/03/2022 12:42:54|PT220321.1242.674777|             null|             null|           null|         null|               null|                null|PT220321.1242.674777|  0789580927|            SUBS|              SUBS|Subscriber Lite B...|              SYSTEM|23/03/2022 10:12:35|                null|                null|      null|           null|      null|                    null|   null|        OCI Network|      null|                null|        null|SUBSCRIBER|MODIFICATION|      null|         null|     null|               null|              null|            null| CONSULAR_CARD| null|          null|   23/02/2021|            null|    22/02/2026|               BF|         BF|          LOW|       0000|USSD SELF REGISTR...|    SubsBCEAORole|\n",
      "+--------------------+--------------------+--------------------+------------------+----------+----------------+-----------------+--------------+---------------+----------+-------------------+-----------+--------+--------------------+------------+-------+----+-----------+--------+--------------+----------+-------------+-------+--------------------+------+---------+--------------+-------------------+--------------------+-----------------+-----------------+---------------+-------------+-------------------+--------------------+--------------------+------------+----------------+------------------+--------------------+--------------------+-------------------+--------------------+--------------------+----------+---------------+----------+------------------------+-------+-------------------+----------+--------------------+------------+----------+------------+----------+-------------+---------+-------------------+------------------+----------------+--------------+-----+--------------+-------------+----------------+--------------+-----------------+-----------+-------------+-----------+--------------------+-----------------+\n",
      "only showing top 20 rows\n",
      "\n",
      "root\n",
      " |-- USER_ID: string (nullable = true)\n",
      " |-- PROFILE_ID: string (nullable = true)\n",
      " |-- PARENT_USER_ID: string (nullable = true)\n",
      " |-- PARENT_USER_MSISDN: string (nullable = true)\n",
      " |-- MSISDN: string (nullable = true)\n",
      " |-- USER_NAME_PREFIX: string (nullable = true)\n",
      " |-- USER_FIRST_NAME: string (nullable = true)\n",
      " |-- USER_LAST_NAME: string (nullable = true)\n",
      " |-- USER_SHORT_NAME: string (nullable = true)\n",
      " |-- DOB: string (nullable = true)\n",
      " |-- REGISTERED_ON: string (nullable = true)\n",
      " |-- ADDRESS1: string (nullable = true)\n",
      " |-- ADDRESS2: string (nullable = true)\n",
      " |-- STATE: string (nullable = true)\n",
      " |-- CITY: string (nullable = true)\n",
      " |-- COUNTRY: string (nullable = true)\n",
      " |-- SSN: string (nullable = true)\n",
      " |-- DESIGNATION: string (nullable = true)\n",
      " |-- DIVISION: string (nullable = true)\n",
      " |-- CONTACT_PERSON: string (nullable = true)\n",
      " |-- CONTACT_NO: string (nullable = true)\n",
      " |-- EMPLOYEE_CODE: string (nullable = true)\n",
      " |-- SEX: string (nullable = true)\n",
      " |-- ID_NUMBER: string (nullable = true)\n",
      " |-- E_MAIL: string (nullable = true)\n",
      " |-- WEB_LOGIN: string (nullable = true)\n",
      " |-- ACCOUNT_STATUS: string (nullable = true)\n",
      " |-- CREATION_DATE: string (nullable = true)\n",
      " |-- CREATED_BY: string (nullable = true)\n",
      " |-- CREATED_BY_MSISDN: string (nullable = true)\n",
      " |-- NOMADE_CREATED_BY: string (nullable = true)\n",
      " |-- LEVEL1_APP_DATE: string (nullable = true)\n",
      " |-- LEVEL1_APP_BY: string (nullable = true)\n",
      " |-- LEVEL2_APP_DATE: string (nullable = true)\n",
      " |-- LEVEL2_APP_BY: string (nullable = true)\n",
      " |-- OWNER_ID: string (nullable = true)\n",
      " |-- OWNER_MSISDN: string (nullable = true)\n",
      " |-- USER_DOMAIN_CODE: string (nullable = true)\n",
      " |-- USER_CATEGORY_CODE: string (nullable = true)\n",
      " |-- USER_GRADE_NAME: string (nullable = true)\n",
      " |-- MODIFIED_BY: string (nullable = true)\n",
      " |-- MODIFIED_ON: string (nullable = true)\n",
      " |-- MODIFIED_APPROVED_BY: string (nullable = true)\n",
      " |-- MODIFIED_APPROVED_ON: string (nullable = true)\n",
      " |-- DELETED_ON: string (nullable = true)\n",
      " |-- DEACTIVATION_BY: string (nullable = true)\n",
      " |-- DEPARTMENT: string (nullable = true)\n",
      " |-- REGISTRATION_FORM_NUMBER: string (nullable = true)\n",
      " |-- REMARKS: string (nullable = true)\n",
      " |-- GEOGRAPHICAL_DOMAIN: string (nullable = true)\n",
      " |-- GROUP_ROLE: string (nullable = true)\n",
      " |-- FIRST_TRANSACTION_ON: string (nullable = true)\n",
      " |-- COMPANY_CODE: string (nullable = true)\n",
      " |-- USER_TYPE: string (nullable = true)\n",
      " |-- ACTION_TYPE: string (nullable = true)\n",
      " |-- AGENT_CODE: string (nullable = true)\n",
      " |-- CREATION_TYPE: string (nullable = true)\n",
      " |-- BULK_ID: string (nullable = true)\n",
      " |-- IDENTITY_PROOF_TYPE: string (nullable = true)\n",
      " |-- ADDRESS_PROOF_TYPE: string (nullable = true)\n",
      " |-- PHOTO_PROOF_TYPE: string (nullable = true)\n",
      " |-- ID_TYPE: string (nullable = true)\n",
      " |-- ID_NO: string (nullable = true)\n",
      " |-- ID_ISSUE_PLACE: string (nullable = true)\n",
      " |-- ID_ISSUE_DATE: string (nullable = true)\n",
      " |-- ID_ISSUE_COUNTRY: string (nullable = true)\n",
      " |-- ID_EXPIRY_DATE: string (nullable = true)\n",
      " |-- RESIDENCE_COUNTRY: string (nullable = true)\n",
      " |-- NATIONALITY: string (nullable = true)\n",
      " |-- EMPLOYER_NAME: string (nullable = true)\n",
      " |-- POSTAL_CODE: string (nullable = true)\n",
      " |-- SOUSCRIPTION_TYPE: string (nullable = true)\n",
      " |-- MOBILE_GROUP_ROLE: string (nullable = true)\n",
      "\n"
     ]
    }
   ],
   "source": [
    "df_subscribers = spark.read \\\n",
    "      .option(\"delimiter\", \";\") \\\n",
    "      .option(\"header\", \"true\") \\\n",
    "      .csv(\"/Users/youssouf/Downloads/FICHIER_SUBSCRIBERS_20220323.csv\") \\\n",
    "      .dropDuplicates()\n",
    "\n",
    "df_subscribers.show()\n",
    "df_subscribers.printSchema()"
   ]
  },
  {
   "cell_type": "code",
   "execution_count": 67,
   "metadata": {},
   "outputs": [
    {
     "name": "stdout",
     "output_type": "stream",
     "text": [
      "+------------------+----------+-------------------+--------------------+-----------------+\n",
      "|PARENT_USER_MSISDN|    MSISDN|      CREATION_DATE|          CREATED_BY|CREATED_BY_MSISDN|\n",
      "+------------------+----------+-------------------+--------------------+-----------------+\n",
      "|        0789128522|0701598324|23/03/2022 10:47:48|PT190226.1610.344661|       0789128522|\n",
      "|        0702590191|0702590191|22/03/2022 14:05:21|PT220322.1405.691746|             null|\n",
      "|        0788521439|0788521439|21/03/2022 11:57:37|PT220321.1157.673833|             null|\n",
      "|        0779759262|0779759262|21/03/2022 09:42:49|PT220321.0942.670547|             null|\n",
      "|        0708610955|0778079078|23/03/2022 13:26:33|PT190416.1024.174113|       0708610955|\n",
      "|        0701218900|0701218900|22/03/2022 13:54:47|PT220322.1354.691516|             null|\n",
      "|        0788182150|0749789618|23/03/2022 12:25:15|PT180502.1248.508989|       0788182150|\n",
      "|        0798418729|0704760928|23/03/2022 18:04:38|PT211021.1001.680990|       0798418729|\n",
      "|        0758763166|0779342969|23/03/2022 15:57:56|PT210713.1640.763530|       0758763166|\n",
      "|        0701566839|0758237398|23/03/2022 10:42:50|PT220204.1436.941033|       0701566839|\n",
      "|        0759339090|0768963086|23/03/2022 17:55:29|PT220204.1436.941106|       0759339090|\n",
      "|        0759573847|0759493680|01/10/2015 10:48:07|PT130408.1412.C00606|       0759573847|\n",
      "|        0707808507|0703060088|23/03/2022 11:17:35|PT180705.1100.151774|       0707808507|\n",
      "|        0748255974|0701020611|23/03/2022 10:44:58|PT210205.1147.247545|       0748255974|\n",
      "|        0767086639|0703936759|23/03/2022 11:19:58|PT190426.1020.268915|       0767086639|\n",
      "|        0767483552|0779962462|23/03/2022 13:26:18|PT210811.1607.281628|       0767483552|\n",
      "|        0788931431|0798050495|23/03/2022 18:05:06|PT190829.1639.296798|       0788931431|\n",
      "|        0767724512|0798199531|23/03/2022 13:25:21|PT210426.1340.753012|       0767724512|\n",
      "|        0787790406|0788545056|23/03/2022 12:22:58|PT180207.1106.753708|       0787790406|\n",
      "|        0789580927|0789580927|21/03/2022 12:42:54|PT220321.1242.674777|             null|\n",
      "+------------------+----------+-------------------+--------------------+-----------------+\n",
      "only showing top 20 rows\n",
      "\n"
     ]
    }
   ],
   "source": [
    "df_subscribers_tmp = df_subscribers.select(\"PARENT_USER_ID\",\"PARENT_USER_MSISDN\", \"MSISDN\", \"USER_GRADE_NAME\",\"CREATION_DATE\", \"CREATED_BY\", \"CREATED_BY_MSISDN\")\n",
    "df_subscribers_tmp.show()\n"
   ]
  },
  {
   "cell_type": "code",
   "execution_count": 88,
   "metadata": {},
   "outputs": [
    {
     "name": "stdout",
     "output_type": "stream",
     "text": [
      "+------------------+----------+-------------------+----------+-----------------+\n",
      "|PARENT_USER_MSISDN|    MSISDN|      CREATION_DATE|CREATED_BY|CREATED_BY_MSISDN|\n",
      "+------------------+----------+-------------------+----------+-----------------+\n",
      "|           f_gyoro|0779485556|23/03/2022 14:59:01|   f_gyoro|          f_gyoro|\n",
      "+------------------+----------+-------------------+----------+-----------------+\n",
      "\n"
     ]
    }
   ],
   "source": [
    "df_subscribers_tmp.filter(col(\"MSISDN\") == \"0779485556\").show()"
   ]
  },
  {
   "cell_type": "code",
   "execution_count": 68,
   "metadata": {},
   "outputs": [
    {
     "name": "stdout",
     "output_type": "stream",
     "text": [
      "+--------------------+--------------------+--------------------+------------------+----------+----------------+--------------------+--------------------+---------------+----------+-------------------+--------------------+--------------------+-----+----------+-------------+----+-------------+--------+--------------+----------+-------------+-------+--------------------+------+--------------------+--------------+-------------------+--------------------+-----------------+-----------------+-------------------+--------------+-------------------+--------------------+--------------------+------------+----------------+------------------+--------------------+--------------------+-------------------+--------------------+--------------------+-------------------+--------------------+----------+------------------------+----------+-------------------+--------------------+--------------------+------------+---------+-----------+----------+-------------+--------------------+-------------------+------------------+----------------+-------+-----+--------------+-------------+----------------+--------------+-----------------+-----------+-------------+-----------+-----------------+--------------------+-------------------+---------------+-------------------+--------------------+-------------------+--------------------+\n",
      "|             USER_ID|          PROFILE_ID|      PARENT_USER_ID|PARENT_USER_MSISDN|    MSISDN|USER_NAME_PREFIX|     USER_FIRST_NAME|      USER_LAST_NAME|USER_SHORT_NAME|       DOB|      REGISTERED_ON|            ADDRESS1|            ADDRESS2|STATE|      CITY|      COUNTRY| SSN|  DESIGNATION|DIVISION|CONTACT_PERSON|CONTACT_NO|EMPLOYEE_CODE|    SEX|           ID_NUMBER|E_MAIL|           WEB_LOGIN|ACCOUNT_STATUS|      CREATION_DATE|          CREATED_BY|CREATED_BY_MSISDN|NOMADE_CREATED_BY|    LEVEL1_APP_DATE| LEVEL1_APP_BY|    LEVEL2_APP_DATE|       LEVEL2_APP_BY|            OWNER_ID|OWNER_MSISDN|USER_DOMAIN_CODE|USER_CATEGORY_CODE|     USER_GRADE_NAME|         MODIFIED_BY|        MODIFIED_ON|MODIFIED_APPROVED_BY|MODIFIED_APPROVED_ON|         DELETED_ON|     DEACTIVATION_BY|DEPARTMENT|REGISTRATION_FORM_NUMBER|   REMARKS|GEOGRAPHICAL_DOMAIN|          GROUP_ROLE|FIRST_TRANSACTION_ON|COMPANY_CODE|USER_TYPE|ACTION_TYPE|AGENT_CODE|CREATION_TYPE|             BULK_ID|IDENTITY_PROOF_TYPE|ADDRESS_PROOF_TYPE|PHOTO_PROOF_TYPE|ID_TYPE|ID_NO|ID_ISSUE_PLACE|ID_ISSUE_DATE|ID_ISSUE_COUNTRY|ID_EXPIRY_DATE|RESIDENCE_COUNTRY|NATIONALITY|EMPLOYER_NAME|POSTAL_CODE|SOUSCRIPTION_TYPE|   MOBILE_GROUP_ROLE|      LAST_LOGIN_ON|USER_GRADE_CODE|  PARENT_FIRST_NAME|    PARENT_LAST_NAME|   OWNER_FIRST_NAME|     OWNER_LAST_NAME|\n",
      "+--------------------+--------------------+--------------------+------------------+----------+----------------+--------------------+--------------------+---------------+----------+-------------------+--------------------+--------------------+-----+----------+-------------+----+-------------+--------+--------------+----------+-------------+-------+--------------------+------+--------------------+--------------+-------------------+--------------------+-----------------+-----------------+-------------------+--------------+-------------------+--------------------+--------------------+------------+----------------+------------------+--------------------+--------------------+-------------------+--------------------+--------------------+-------------------+--------------------+----------+------------------------+----------+-------------------+--------------------+--------------------+------------+---------+-----------+----------+-------------+--------------------+-------------------+------------------+----------------+-------+-----+--------------+-------------+----------------+--------------+-----------------+-----------+-------------+-----------+-----------------+--------------------+-------------------+---------------+-------------------+--------------------+-------------------+--------------------+\n",
      "|PT091113.1558.000001|TCP0812011129.000001|PT091113.1558.000001|        0707721784|0707721784|             Mr.|       PHCEGAGNOA_TP|PHARMACIE DE GAGN...|           null|13/11/2009|13/11/2009 15:58:52|Pharmacie de Gagn...|                null| null|      null|           CI|null|         null|    null|          null|      null|         null|GEN_MAL|            07721784|  null|       PHCEGAGNOA_TP|             Y|13/11/2009 15:58:52|PT090903.1527.000002|       0707099000|             null|               null|          null|16/11/2009 15:23:28|      CIBC0000180886|PT091113.1558.000001|  0707721784|         DISTIND|           DISTIND|Distributor Indep...|PT110531.1637.000001|07/10/2011 09:58:22|      CIBC0000180886| 07/10/2011 14:09:29|               null|                null|      null|                    null|      null|        OCI Network|PT091113.1558.000001|                null|        null|  CHANNEL|   INIT_DWH|    100650|            M|                null|               null|              null|            null|   null| null|          null|         null|            null|          null|             null|       null|         null|       null|        WEB TANGO|PT091113.1558.000...|               null|             A4|      PHCEGAGNOA_TP|PHARMACIE DE GAGN...|      PHCEGAGNOA_TP|PHARMACIE DE GAGN...|\n",
      "|PT100323.1226.000001|TCP0908230439.000001|PT100323.1058.000002|        0748330183|0748330186|             Mr.|   sococecaisse_mchd|              SOCOCE|           null|      null|23/03/2010 12:26:52|            00 BP 00|                null| null|      null|           CI|null|     MARCHAND|    null|          null|      null|         null|GEN_MAL|            48330186|  null|   sococecaisse_mchd|             Y|23/03/2010 12:26:52|PT090903.1527.000002|       0707099000|             null|               null|          null|23/03/2010 13:01:06|      CIBC0000180886|PT100323.1058.000002|  0748330183|             MER|               MER|    A Grade Merchant|PT090903.1527.000002|23/03/2010 12:26:52|                null|                null|               null|                null|      null|                    null|      null|        OCI Network|PT100323.1226.000001|                null|        null|  CHANNEL|   INIT_DWH|    100801|            M|                null|               null|              null|            null|   null| null|          null|         null|            null|          null|             null|       null|         null|       null|        WEB TANGO|PT100323.1226.000...|               null|           MERA|sococe_marchandpcpl|              SOCOCE|sococe_marchandpcpl|              SOCOCE|\n",
      "|PT100304.1318.000002|TCP0811111129.000001|PT100225.0933.000001|        0708791544|0748327888|             Mr.|     cracibouake_pdv|CRACI Pdv Bouake ...|           null|      null|04/03/2010 13:18:28|              00BP00|                null| null|      null|           CI|null|         null|    null|          null|      null|         null|GEN_MAL|            48327888|  null|PT100304.1318.000002|             N|04/03/2010 13:18:28|PT090903.1344.000001|       0707077529|             null|               null|          null|04/03/2010 14:08:09|      CIBC0000180886|PT100225.0933.000001|  0708791544|         DISTIND|            PDVIND|     PDV Independent|PT120831.1807.000003|20/02/2019 13:14:09|                null|                null|               null|                null|      null|                    null|      null|        OCI Network|            MPAYDC13|                null|        null|  CHANNEL|   INIT_DWH|    100884|            M|                null|               null|              null|            null|   null| null|          null|         null|            null|          null|             null|       null|         null|       null|        WEB TANGO|           MPAYDC13U|               null|             A5|         DCCRACI TP|CRACI Direction C...|         DCCRACI TP|CRACI Direction C...|\n",
      "|PT100412.0841.000001|TCP0908230439.000001|PT100410.1603.000001|        0748988536|0748988537|             Mr.|      cisstmoise_mer|       CIIS ST MOISE|           null|      null|12/04/2010 08:41:01|            00 BP 00|   Treicville Ave 21| null|      null|           CI|null|     MARCHAND|    null|          null|      null|         null|GEN_MAL|            48988537|  null|      cisstmoise_mer|             Y|12/04/2010 08:41:01|PT090903.1527.000002|       0707099000|             null|               null|          null|12/04/2010 10:03:29|      CIBC0000180886|PT100410.1603.000001|  0748988536|             MER|               MER|    A Grade Merchant|PT090903.1527.000002|12/04/2010 08:41:01|                null|                null|               null|                null|      null|                    null|      null|        OCI Network|PT100412.0841.000001|                null|        null|  CHANNEL|   INIT_DWH|    100940|            M|                null|               null|              null|            null|   null| null|          null|         null|            null|          null|             null|       null|         null|       null|        WEB TANGO|PT100412.0841.000...|               null|           MERA|    cisstmoise_hmer|       CISS ST MOISE|    cisstmoise_hmer|       CISS ST MOISE|\n",
      "|PT100412.0830.000001|TCP0908230439.000001|PT100410.1608.000001|        0748988538|0748988539|             Mr.|      phciedunia_mer|     PHARMACIE DUNIA|           null|      null|12/04/2010 08:30:15|            00 BP 00|7ieme Tranche Val...| null|      null|           CI|null|     MARCHAND|    null|          null|      null|         null|GEN_MAL|            48988539|  null|      phciedunia_mer|             Y|12/04/2010 08:30:15|PT090903.1527.000002|       0707099000|             null|               null|          null|12/04/2010 10:11:36|      CIBC0000180886|PT100410.1608.000001|  0748988538|             MER|               MER|    A Grade Merchant|PT090903.1527.000002|12/04/2010 08:30:15|                null|                null|               null|                null|      null|                    null|      null|        OCI Network|PT100412.0830.000001|                null|        null|  CHANNEL|   INIT_DWH|    100956|            M|                null|               null|              null|            null|   null| null|          null|         null|            null|          null|             null|       null|         null|       null|        WEB TANGO|PT100412.0830.000...|               null|           MERA|    phciedunia_hmer|     PHARMACIE DUNIA|    phciedunia_hmer|     PHARMACIE DUNIA|\n",
      "|PT091014.1413.000003|TCP0811281039.000002|      CIGS0000149398|        0707046794|0709108442|             Mr.|       cit_banco_cc4|                 CIT|           null|      null|14/10/2009 14:13:17|            00 BP 00|                null| null|      null|           CI|null|         null|    null|          null|      null|         null|GEN_MAL|            09108442|  null|PT091014.1413.000003|             N|14/10/2009 14:13:17|PT090903.1344.000001|       0707077529|             null|               null|          null|14/10/2009 16:09:13|      CIBC0000180886|      CIGT0000149117|  0707046783|        GRSTYPE1|           PDVTYP1|     Grossiste 1 PDV|PT090903.1527.000002|17/05/2010 12:49:33|      CIBC0000148196| 17/05/2010 12:50:29|29/11/2017 00:00:00|PT120903.1355.000002|      null|                    null|      null|        OCI Network|               GT1CC|                null|        null|  CHANNEL|   INIT_DWH|    100377|            M|                null|               null|              null|            null|   null| null|          null|         null|            null|          null|             null|       null|         null|       null|        WEB TANGO|              GT1CCU|23/01/2016 12:04:29|             D3|   cit_yopbanco_PDV|      YOPOUGON BANCO|             CIT_TP|    CIT TETE DE PONT|\n",
      "|      CICO0000179537|TCP0806130651.000001|      CIAO0000147355|        0708899881|0707796685|             Mr.|        Marie Claire|             ESSIMEL|           null|      null|12/03/2009 19:16:59|                null|                null| null|      null|         null|null|       ORANGE|    null|          null|      null|         6685|GEN_MAL|            07796685|  null|marieclaireessi_CUOM|             Y|12/03/2009 19:16:59|      CIBC0000000101|       0708086440|             null|12/03/2009 19:18:01|CIBC0000000101|               null|                null|      CIAO0000147355|  0708899881|         COMSHOP|           COMORNG|Commercial Orange...|      CICO0000179537|31/07/2009 13:40:41|                null|                null|               null|                null|      null|                    null|      null|        OCI Network|            MPAYDC12|                null|        null|  CHANNEL|   INIT_DWH|    100121|            M|                null|               null|              null|            null|   null| null|          null|         null|            null|          null|             null|       null|         null|       null|        WEB TANGO|           MPAYDC12U|06/08/2009 00:00:00|             A1|            newdist|                null|            newdist|                null|\n",
      "|      CIDI0000182310|TCP0812011129.000001|      CIDI0000182310|        0708475733|0708475733|             Mr.|        CABISYDIA_TP|       CABINET SYDIA|           null|      null|21/04/2009 10:25:43|            00 BP 00|                null| null|      null|         null|null|         null|    null|          null|      null|         null|GEN_MAL|            08475733|  null|        CABISYDIA_TP|             S|21/04/2009 10:25:43|      CIBC0000148195|       0707059127|             null|21/04/2009 10:34:22|CIBC0000180886|               null|                null|      CIDI0000182310|  0708475733|         DISTIND|           DISTIND|Distributor Indep...|PT140221.1549.C01375|30/06/2015 17:08:41|PT110531.1637.000001| 30/06/2015 18:05:09|               null|                null|      null|                    null|      null|        OCI Network|              DITDP1|                null|        null|  CHANNEL|   INIT_DWH|    100146|            M|                null|               null|              null|            null|   null| null|          null|         null|            null|          null|             null|       null|         null|       null|        WEB TANGO|             DITDP1U|               null|             A4|       CABISYDIA_TP|       CABINET SYDIA|       CABISYDIA_TP|       CABINET SYDIA|\n",
      "|PT130106.1151.A06722|TCP1210010822.000001|PT121010.1349.C00844|        0758025240|0759065090|            null| TKGS revhorebusi TP|      HOREB BUSINESS|           null|      null|06/01/2013 11:51:26|          ABENGOUROU|                null|   CI|ABENGOUROU|         null|null|        DIST2|    null|          null|      null|         null|   null|            59065090|  null| TKGS_revhorebusi_TP|             Y|06/01/2013 11:51:26|            07090080|             null|             null|               null|          null|08/01/2013 10:34:43|PT110531.1637.000001|PT121010.1349.C00844|  0758025240|        GRSTYPE2|           RVNTYP2|Grossiste Retailer 2|PT170309.1708.257265|24/02/2018 07:55:55|                null|                null|               null|                null|      null|                    null|      null|        OCI Network|    MPAY_CU_DTAIL_RA|                null|        null|  CHANNEL|   INIT_DWH|    104747|            B|BA130106.1150.000001|               null|              null|            null|   null| null|          null|         null|            null|          null|             null|       null|         null|       null|         WEB BULK|   MPAY_CU_DTAIL_RAU|               null|           5698|     TKGS Gtype2 TP|TKGS TETE DE PONT...|     TKGS Gtype2 TP|TKGS TETE DE PONT...|\n",
      "|PT130417.1459.A07182|TCP1210010822.000001|PT121010.1414.C00897|        0758023754|0759576730|             Mr.|      SII PRIDCOM TP|SII PRID COM REVE...|           null|      null|17/04/2013 14:59:56|SII PRID COM REVE...|                null| null|      null|           CI|null|        DIST2|    null|          null|      null|         null|GEN_MAL|            59576730|  null|      SII_PRIDCOM_TP|             Y|17/04/2013 14:59:56|PT090903.1344.000001|       0707077529|             null|               null|          null|17/04/2013 16:46:25|PT110531.1637.000001|PT121010.1414.C00897|  0758023754|        GRSTYPE2|           RVNTYP2|Grossiste Retailer 2|PT090903.1344.000001|17/04/2013 14:59:56|                null|                null|               null|                null|      null|                    null|      null|        OCI Network|    MPAY_CU_DTAIL_RA|                null|        null|  CHANNEL|   INIT_DWH|    105224|            M|                null|               null|              null|            null|   null| null|          null|         null|            null|          null|             null|       null|         null|       null|        WEB TANGO|   MPAY_CU_DTAIL_RAU|               null|           5698|      SII Gtype2 TP|S2II TETE DE PONT...|      SII Gtype2 TP|S2II TETE DE PONT...|\n",
      "|PT130208.1133.A04629|TCP1210010822.000001|PT180925.1102.634087|        0767491995|0759098861|             Mr.|         SUIT KAV TP|    SUITE COM KAV TP|           null|      null|08/02/2013 11:33:02|    SUITE COM KAV TP|                null| null|      null|           CI|null|        DIST2|    null|          null|      null|         null|GEN_MAL|            59098861|  null|         SUIT_KAV_TP|             Y|08/02/2013 11:33:02|PT130114.1016.C02824|       0707059058|             null|               null|          null|21/08/2019 00:00:00|          0707059133|PT121010.1408.C00882|  0758023975|        GRSTYPE2|           RVNTYP2|Grossiste Retailer 2|PT190603.1524.758754|20/08/2019 17:28:25|PT120903.1355.000002| 05/04/2016 08:17:36|               null|                null|      null|                    null|      null|        OCI Network|BA190820.1728.179692|                null|        null|  CHANNEL|   INIT_DWH|    104024|            M|BA190820.1728.179692|               null|              null|            null|   null| null|          null|         null|            null|          null|             null|       null|         null|       null|         WEB BULK|   MPAY_CU_DTAIL_RAU|               null|           5698|     SUIT INTERMED1|SUITECOM  INTERME...|     SUIT Gtype2 TP|SUITE COM TETE DE...|\n",
      "|PT130305.1237.A00905|TCP0811281039.000002|      CIGT0000180944|        0707107925|0759514595|             Mr.|PRIM ISSIA2EXCIT CC1|    PRIMO ISSIA2 CC1|           null|05/03/2013|05/03/2013 12:37:18|    PRIMO ISSIA2 CC1|                null| null|      null|           CI|null|         null|    null|          null|      null|         null|GEN_MAL|            59514595|  null|PRIM_ISSIA2EXCIT_CC1|             Y|05/03/2013 12:37:18|PT130114.1016.C02824|       0707059058|             null|               null|          null|06/03/2013 08:08:21|PT110531.1637.000001|      CIGT0000180944|  0707107925|        GRSTYPE1|           PDVTYP1|     Grossiste 1 PDV|PT170309.1708.257265|27/12/2018 08:26:13|                null|                null|               null|                null|      null|                    null|      null|        OCI Network|       MPAYFRANCISE6|                null|        null|  CHANNEL|   INIT_DWH|    104135|            M|                null|               null|              null|            null|   null| null|          null|         null|            null|          null|             null|       null|         null|       null|        WEB TANGO|      MPAYFRANCISE6U|31/10/2015 09:22:38|             D3|            PRIM_TP|PRIMO MULTI SERVI...|            PRIM_TP|PRIMO MULTI SERVI...|\n",
      "|PT121016.1540.C08058|TCP0908230439.000001|PT120406.0832.000002|        0757275585|0707014629|             Mr.|CCICI yamoussou mchd|CHAMBRE DE CCE ET...|           null|16/10/2012|16/10/2012 15:40:41|            07014629|                null| null|   ABIDJAN|COTE D IVOIRE|null|     MARCHAND|    null|          null|      null|         null|GEN_MAL|CHAMBRE DE CCE ET...|  null|CCICI_yamoussou_mchd|             Y|16/10/2012 15:40:41|PT120903.1355.000002|       0707090080|             null|               null|          null|17/10/2012 17:12:22|PT110531.1637.000001|PT120406.0832.000002|  0757275585|             MER|               MER|    A Grade Merchant|PT120903.1355.000002|16/10/2012 15:40:41|                null|                null|               null|                null|      null|                    null|      null|        OCI Network|PT121016.1540.C08058|                null|        null|  CHANNEL|   INIT_DWH|    102618|            M|                null|               null|              null|            null|   null| null|          null|         null|            null|          null|             null|       null|         null|       null|        WEB TANGO|PT121016.1540.C08...|               null|           MERA|           CCICI_MP|CHAMBRE de COMERC...|           CCICI_MP|CHAMBRE de COMERC...|\n",
      "|PT121212.1507.A00787|TCP1210011154.000001|PT121212.1207.A00380|        0759081074|0759081075|             Mr.|SUIT GIORGICOIFF pdv|SUITE COM PDV T2 ...|           null|12/12/2012|12/12/2012 15:07:05|SUITE COM PDV T2 ...|                null| null|      null| COTE DIVOIRE|null|        DIST2|    null|          null|      null|         null|GEN_MAL|            59081075|  null|PT121212.1507.A00787|             N|12/12/2012 15:07:05|PT120903.1355.000002|       0707090080|             null|               null|          null|12/12/2012 15:37:36|      CIBC0000148196|PT121010.1408.C00882|  0758023975|        GRSTYPE2|           PDVTYP2|     Grossiste 2 PDV|PT190528.1538.696945|07/11/2019 15:17:15|PT150430.0958.700952| 02/08/2019 17:53:28|               null|                null|      null|                    null|VALIDATION|        OCI Network|   MPAY_CU_DTAIL_PDV|                null|        null|  CHANNEL|   INIT_DWH|    103388|            M|                null|               null|              null|            null|   null| null|          null|         null|            null|          null|             null|       null|         null|       null|        WEB TANGO|  MPAY_CU_DTAIL_PDVU|               null|            E14|SUIT GIORGICOIFF TP|SUITE COM REVENDE...|     SUIT Gtype2 TP|SUITE COM TETE DE...|\n",
      "|PT121220.0933.C00287|TCP1210010822.000001|PT121010.1355.C00854|        0758024956|0759081572|             Mr.|AJS STATIONCORLAY TP|AJS REVENDEUR T2 ...|           null|20/12/2012|20/12/2012 09:33:58|AJS REVENDEUR T2 ...|                null| null|      null| COTE DIVOIRE|null|        DIST2|    null|          null|      null|         null|GEN_MAL|            59081572|  null|AJS_STATIONCORLAY_TP|             Y|20/12/2012 09:33:58|PT120903.1355.000002|       0707090080|             null|               null|          null|20/12/2012 11:18:48|PT110531.1637.000001|PT121010.1355.C00854|  0758024956|        GRSTYPE2|           RVNTYP2|Grossiste Retailer 2|PT120903.1355.000002|20/12/2012 09:33:58|                null|                null|               null|                null|      null|                    null|      null|        OCI Network|    MPAY_CU_DTAIL_RA|                null|        null|  CHANNEL|   INIT_DWH|    103389|            M|                null|               null|              null|            null|   null| null|          null|         null|            null|          null|             null|       null|         null|       null|        WEB TANGO|   MPAY_CU_DTAIL_RAU|               null|           5698|      AJS Gtype2 TP|ALI JUNIORS TETE ...|      AJS Gtype2 TP|ALI JUNIORS TETE ...|\n",
      "|PT121205.1159.C01249|TCP1210010822.000001|PT121010.1404.C00871|        0758024371|0759063610|             Mr.|     TID OUANGOLO TP|TID REVENDEUR T2 ...|           null|05/12/2012|05/12/2012 11:59:55|TID REVENDEUR T2 ...|                null| null|      null| COTE DIVOIRE|null|        DIST2|    null|          null|      null|         null|GEN_MAL|            59063610|  null|     TID_OUANGOLO_TP|             Y|05/12/2012 11:59:55|PT120903.1355.000002|       0707090080|             null|               null|          null|05/12/2012 15:48:23|PT110531.1637.000001|PT121010.1404.C00871|  0758024371|        GRSTYPE2|           RVNTYP2|Grossiste Retailer 2|PT090903.1344.000001|22/04/2016 08:24:35|PT120903.1355.000002| 22/04/2016 09:02:10|               null|                null|      null|                    null|      null|        OCI Network|    MPAY_CU_DTAIL_RA|                null|        null|  CHANNEL|   INIT_DWH|    103503|            M|                null|               null|              null|            null|   null| null|          null|         null|            null|          null|             null|       null|         null|       null|        WEB TANGO|   MPAY_CU_DTAIL_RAU|               null|           5698|      TID Gtype2 TP|TIG TETE DE PONT ...|      TID Gtype2 TP|TIG TETE DE PONT ...|\n",
      "|PT121227.0950.A01520|TCP1210010822.000001|PT121010.1338.C00826|        0708419204|0759082142|             Mr.|MAGI KADERDISTRIB TP|MAGIC BUSINESS KA...|           null|      null|27/12/2012 09:50:57|MAGIC BUSINESS KA...|YOPOUGON RUE PRIN...| null|      null|           CI|null|        DIST2|    null|          null|      null|         null|GEN_MAL|            59082142|  null|MAGI_KADERDISTRIB_TP|             Y|27/12/2012 09:50:57|PT090903.1344.000001|       0707077529|             null|               null|          null|27/12/2012 10:08:10|PT110531.1637.000001|PT121010.1338.C00826|  0708419204|        GRSTYPE2|           RVNTYP2|Grossiste Retailer 2|PT090903.1344.000001|27/12/2012 09:50:57|                null|                null|               null|                null|      null|                    null|      null|        OCI Network|    MPAY_CU_DTAIL_RA|                null|        null|  CHANNEL|   INIT_DWH|    103676|            M|                null|               null|              null|            null|   null| null|          null|         null|            null|          null|             null|       null|         null|       null|        WEB TANGO|   MPAY_CU_DTAIL_RAU|               null|           5698|     MAGI Gtype2 TP|MAGIC BUSINESS TE...|     MAGI Gtype2 TP|MAGIC BUSINESS TE...|\n",
      "|PT110620.1449.000004|TCP0908230439.000001|PT190308.1615.501748|        0788040857|0758499087|             Mr.|  TKGS bondouk march|      TKGS bondoukou|       Marchand|      null|20/06/2011 14:49:41|            00 BP 00|           MAGI ZEUS| null|      null|           CI|null|MARCHAND ZEUS|    null|          null|      null|         null|GEN_MAL|            58499087|  null|  TKGS_bondouk_march|             Y|20/06/2011 14:49:41|PT090903.1527.000002|       0707099000|             null|               null|          null|20/03/2019 00:00:00|          0707099033|PT190308.1615.501748|  0788040857|             MER|               MER|    A Grade Merchant|PT170403.1825.317415|19/03/2019 16:52:42|                null|                null|               null|                null|      null|                    null|      null|        OCI Network|            MRCH_001|                null|        null|  CHANNEL|   INIT_DWH|    101232|            M|BA190319.1652.726709|               null|              null|            null|   null| null|          null|         null|            null|          null|             null|       null|         null|       null|         WEB BULK|           MRCH_001U|               null|           MERA|      TKGS2 ZEUS MP|TKGS 2 ZEUS MARCH...|      TKGS2 ZEUS MP|TKGS 2 ZEUS MARCH...|\n",
      "|PT120126.1601.000004|TCP0908230439.000001|PT101025.1838.000001|        0757889480|0747576815|             Mr.|    MAGI_can12_mchd3|MAGIC BUSINESS CA...|           null|      null|26/01/2012 16:01:53|MAGIC BUSINESS AC...|                null| null|      null|           CI|null|     MARCHAND|    null|          null|      null|         null|GEN_MAL|            47576815|  null|    MAGI_can12_mchd3|             Y|26/01/2012 16:01:53|PT090903.1527.000002|       0707099000|             null|               null|          null|26/01/2012 16:05:26|PT110531.1637.000001|PT101025.1838.000001|  0757889480|             MER|               MER|    A Grade Merchant|PT090903.1527.000002|26/01/2012 16:01:53|                null|                null|               null|                null|      null|                    null|      null|        OCI Network|PT120126.1601.000004|                null|        null|  CHANNEL|   INIT_DWH|    101904|            M|                null|               null|              null|            null|   null| null|          null|         null|            null|          null|             null|       null|         null|       null|        WEB TANGO|PT120126.1601.000...|               null|           MERA|   magicbusiness_mp|MAGIC BUSINESS MA...|   magicbusiness_mp|MAGIC BUSINESS MA...|\n",
      "|PT120217.1953.000002|TCP0811281039.000002|      CIGT0000184019|        0708475526|0747634668|             Mr.|  AJS_cietoumodi_cc8| AJS CIE TOUMODI CC8|           null|      null|17/02/2012 19:53:57|            00 BP 00|                null| null|      null|           CI|null|         null|    null|          null|      null|         null|GEN_MAL|            47634668|  null|  AJS_cietoumodi_cc8|             Y|17/02/2012 19:53:57|PT090903.1344.000001|       0707077529|             null|               null|          null|19/02/2012 16:27:29|PT110531.1637.000001|      CIGT0000184019|  0708475526|        GRSTYPE1|           PDVTYP1|     Grossiste 1 PDV|PT200729.1428.109546|30/12/2021 16:30:03|                null|                null|               null|                null|      null|                    null|      null|        OCI Network|            MPAYDC18|                null|        null|  CHANNEL|   INIT_DWH|    102149|            M|                null|               null|              null|            null|   null| null|          null|         null|            null|          null|             null|       null|         null|       null|        WEB TANGO|           MPAYDC18U|08/04/2015 14:22:49|             D3|             AJS_TP|    AJS TETE DE PONT|             AJS_TP|    AJS TETE DE PONT|\n",
      "+--------------------+--------------------+--------------------+------------------+----------+----------------+--------------------+--------------------+---------------+----------+-------------------+--------------------+--------------------+-----+----------+-------------+----+-------------+--------+--------------+----------+-------------+-------+--------------------+------+--------------------+--------------+-------------------+--------------------+-----------------+-----------------+-------------------+--------------+-------------------+--------------------+--------------------+------------+----------------+------------------+--------------------+--------------------+-------------------+--------------------+--------------------+-------------------+--------------------+----------+------------------------+----------+-------------------+--------------------+--------------------+------------+---------+-----------+----------+-------------+--------------------+-------------------+------------------+----------------+-------+-----+--------------+-------------+----------------+--------------+-----------------+-----------+-------------+-----------+-----------------+--------------------+-------------------+---------------+-------------------+--------------------+-------------------+--------------------+\n",
      "only showing top 20 rows\n",
      "\n",
      "root\n",
      " |-- USER_ID: string (nullable = true)\n",
      " |-- PROFILE_ID: string (nullable = true)\n",
      " |-- PARENT_USER_ID: string (nullable = true)\n",
      " |-- PARENT_USER_MSISDN: string (nullable = true)\n",
      " |-- MSISDN: string (nullable = true)\n",
      " |-- USER_NAME_PREFIX: string (nullable = true)\n",
      " |-- USER_FIRST_NAME: string (nullable = true)\n",
      " |-- USER_LAST_NAME: string (nullable = true)\n",
      " |-- USER_SHORT_NAME: string (nullable = true)\n",
      " |-- DOB: string (nullable = true)\n",
      " |-- REGISTERED_ON: string (nullable = true)\n",
      " |-- ADDRESS1: string (nullable = true)\n",
      " |-- ADDRESS2: string (nullable = true)\n",
      " |-- STATE: string (nullable = true)\n",
      " |-- CITY: string (nullable = true)\n",
      " |-- COUNTRY: string (nullable = true)\n",
      " |-- SSN: string (nullable = true)\n",
      " |-- DESIGNATION: string (nullable = true)\n",
      " |-- DIVISION: string (nullable = true)\n",
      " |-- CONTACT_PERSON: string (nullable = true)\n",
      " |-- CONTACT_NO: string (nullable = true)\n",
      " |-- EMPLOYEE_CODE: string (nullable = true)\n",
      " |-- SEX: string (nullable = true)\n",
      " |-- ID_NUMBER: string (nullable = true)\n",
      " |-- E_MAIL: string (nullable = true)\n",
      " |-- WEB_LOGIN: string (nullable = true)\n",
      " |-- ACCOUNT_STATUS: string (nullable = true)\n",
      " |-- CREATION_DATE: string (nullable = true)\n",
      " |-- CREATED_BY: string (nullable = true)\n",
      " |-- CREATED_BY_MSISDN: string (nullable = true)\n",
      " |-- NOMADE_CREATED_BY: string (nullable = true)\n",
      " |-- LEVEL1_APP_DATE: string (nullable = true)\n",
      " |-- LEVEL1_APP_BY: string (nullable = true)\n",
      " |-- LEVEL2_APP_DATE: string (nullable = true)\n",
      " |-- LEVEL2_APP_BY: string (nullable = true)\n",
      " |-- OWNER_ID: string (nullable = true)\n",
      " |-- OWNER_MSISDN: string (nullable = true)\n",
      " |-- USER_DOMAIN_CODE: string (nullable = true)\n",
      " |-- USER_CATEGORY_CODE: string (nullable = true)\n",
      " |-- USER_GRADE_NAME: string (nullable = true)\n",
      " |-- MODIFIED_BY: string (nullable = true)\n",
      " |-- MODIFIED_ON: string (nullable = true)\n",
      " |-- MODIFIED_APPROVED_BY: string (nullable = true)\n",
      " |-- MODIFIED_APPROVED_ON: string (nullable = true)\n",
      " |-- DELETED_ON: string (nullable = true)\n",
      " |-- DEACTIVATION_BY: string (nullable = true)\n",
      " |-- DEPARTMENT: string (nullable = true)\n",
      " |-- REGISTRATION_FORM_NUMBER: string (nullable = true)\n",
      " |-- REMARKS: string (nullable = true)\n",
      " |-- GEOGRAPHICAL_DOMAIN: string (nullable = true)\n",
      " |-- GROUP_ROLE: string (nullable = true)\n",
      " |-- FIRST_TRANSACTION_ON: string (nullable = true)\n",
      " |-- COMPANY_CODE: string (nullable = true)\n",
      " |-- USER_TYPE: string (nullable = true)\n",
      " |-- ACTION_TYPE: string (nullable = true)\n",
      " |-- AGENT_CODE: string (nullable = true)\n",
      " |-- CREATION_TYPE: string (nullable = true)\n",
      " |-- BULK_ID: string (nullable = true)\n",
      " |-- IDENTITY_PROOF_TYPE: string (nullable = true)\n",
      " |-- ADDRESS_PROOF_TYPE: string (nullable = true)\n",
      " |-- PHOTO_PROOF_TYPE: string (nullable = true)\n",
      " |-- ID_TYPE: string (nullable = true)\n",
      " |-- ID_NO: string (nullable = true)\n",
      " |-- ID_ISSUE_PLACE: string (nullable = true)\n",
      " |-- ID_ISSUE_DATE: string (nullable = true)\n",
      " |-- ID_ISSUE_COUNTRY: string (nullable = true)\n",
      " |-- ID_EXPIRY_DATE: string (nullable = true)\n",
      " |-- RESIDENCE_COUNTRY: string (nullable = true)\n",
      " |-- NATIONALITY: string (nullable = true)\n",
      " |-- EMPLOYER_NAME: string (nullable = true)\n",
      " |-- POSTAL_CODE: string (nullable = true)\n",
      " |-- SOUSCRIPTION_TYPE: string (nullable = true)\n",
      " |-- MOBILE_GROUP_ROLE: string (nullable = true)\n",
      " |-- LAST_LOGIN_ON: string (nullable = true)\n",
      " |-- USER_GRADE_CODE: string (nullable = true)\n",
      " |-- PARENT_FIRST_NAME: string (nullable = true)\n",
      " |-- PARENT_LAST_NAME: string (nullable = true)\n",
      " |-- OWNER_FIRST_NAME: string (nullable = true)\n",
      " |-- OWNER_LAST_NAME: string (nullable = true)\n",
      "\n"
     ]
    }
   ],
   "source": [
    "df_all_users = spark.read \\\n",
    "      .option(\"delimiter\", \";\") \\\n",
    "      .option(\"header\", \"true\") \\\n",
    "      .csv(\"/Users/youssouf/Downloads/FICHIER_ALL_USERS_20220323.csv\") \\\n",
    "      .dropDuplicates()\n",
    "\n",
    "df_all_users.show()\n",
    "df_all_users.printSchema()"
   ]
  },
  {
   "cell_type": "code",
   "execution_count": null,
   "metadata": {},
   "outputs": [],
   "source": []
  },
  {
   "cell_type": "code",
   "execution_count": null,
   "metadata": {},
   "outputs": [],
   "source": []
  },
  {
   "cell_type": "code",
   "execution_count": 69,
   "metadata": {},
   "outputs": [
    {
     "name": "stdout",
     "output_type": "stream",
     "text": [
      "+-------------+---------------+--------------------+--------------------+------------+----------------+-------------------+---------------------+------------------+------------------+-------------------+--------------------+---------------------+-------------------+-------+--------------------+---------------------+--------------------+----------------------+------------------+--------------------+------------------+--------------------+--------------------+--------------------+------------------+--------------------+----------------+--------------+----------------+---------------------+-----------------+------------+-----+----------+---------------------+------------------------+-----------------------+\n",
      "|SENDER_MSISDN|RECEIVER_MSISDN|      SENDER_USER_ID|    RECEIVER_USER_ID|SERVICE_TYPE|TRANSFER_SUBTYPE|SENDER_COUNTRY_CODE|RECEIVER_COUNTRY_CODE|TRANSACTION_STATUS|SENDER_PRE_BALANCE|SENDER_POST_BALANCE|RECEIVER_PRE_BALANCE|RECEIVER_POST_BALANCE|   REFERENCE_NUMBER|REMARKS|      TRANSACTION_ID|TRANSACTION_DATE_TIME|SENDER_CATEGORY_CODE|RECEIVER_CATEGORY_CODE|SENDER_DOMAIN_CODE|RECEIVER_DOMAIN_CODE|SENDER_DESIGNATION|RECEIVER_DESIGNATION|        SENDER_STATE|      RECEIVER_STATE|TRANSACTION_AMOUNT|COMMISSION_GROSSISTE|COMMISSION_AGENT|COMMISSION_OCA|COMMISSION_AUTRE|SERVICE_CHARGE_AMOUNT|  TRANSACTION_TAG|IS_FINANCIAL|ZEBRA|ROLLBACKED|FOREIGN_CURRENCY_CODE|COMMERCIAL_EXCHANGE_RATE|REFERENCE_EXCHANGE_RATE|\n",
      "+-------------+---------------+--------------------+--------------------+------------+----------------+-------------------+---------------------+------------------+------------------+-------------------+--------------------+---------------------+-------------------+-------+--------------------+---------------------+--------------------+----------------------+------------------+--------------------+------------------+--------------------+--------------------+--------------------+------------------+--------------------+----------------+--------------+----------------+---------------------+-----------------+------------+-----+----------+---------------------+------------------------+-----------------------+\n",
      "|   0708170272|          PTUPS|PT120808.0920.000003|     MR0712100517001|          RC|              RC|                 CI|                   CI|                TS|            4038.0|             3538.0|                 0.0|                500.0|R220323.0000.21000b|   null|RC220323.0000.A55220|  23/03/2022 00:00:29|                SUBS|              MERCHANT|              SUBS|            MERCHANT|              null|               PTUPS|    REGUL 12/10/2016|                null|             500.0|                 0.0|             0.0|           0.0|             0.0|                  0.0|           TOP UP|           Y| null|      null|                 null|                    null|                   null|\n",
      "|   0759341269|     0779319612|PT130906.1129.C00713|PT191017.1227.738209|    MERCHPAY|        MERCHPAY|                 CI|                   CI|                TS|           49243.0|            49043.0|        2.32471275E8|         2.32471475E8|               null|   null|MP220323.0000.B05809|  23/03/2022 00:00:54|                SUBS|                   MER|              SUBS|                 MER|              null|            MARCHAND|                null|                null|             200.0|                 0.0|             0.0|           0.0|             0.0|                  0.0|PAIEMENT MARCHAND|           Y| null|      null|                 null|                    null|                   null|\n",
      "|   0749322092|     0757662915|PT210427.1728.763507|PT191017.1227.738216|    MERCHPAY|        MERCHPAY|                 CI|                   CI|                TS|            4998.0|             4898.0|         8.3646175E7|          8.3646275E7|               null|   null|MP220323.0002.B05978|  23/03/2022 00:02:04|                SUBS|                   MER|              SUBS|                 MER|              null|            MARCHAND|             ABIDJAN|                null|             100.0|                 0.0|             0.0|           0.0|             0.0|                  0.0|PAIEMENT MARCHAND|           Y| null|      null|                 null|                    null|                   null|\n",
      "|   0779184857|     0768622019|PT181129.1654.505790|PT191017.1227.738212|    MERCHPAY|        MERCHPAY|                 CI|                   CI|                TS|           63867.5|            63767.5|         1.3348985E8|          1.3348995E8|               null|   null|MP220323.0002.C40992|  23/03/2022 00:02:37|                SUBS|                   MER|              SUBS|                 MER|              null|            MARCHAND|                null|                null|             100.0|                 0.0|             0.0|           0.0|             0.0|                  0.0|PAIEMENT MARCHAND|           Y| null|      null|                 null|                    null|                   null|\n",
      "|   0758677896|     0768622019|PT160528.1038.162019|PT191017.1227.738212|    MERCHPAY|        MERCHPAY|                 CI|                   CI|                TS|            1503.0|                3.0|         1.3349475E8|          1.3349625E8|               null|   null|MP220323.0003.C41121|  23/03/2022 00:03:23|                SUBS|                   MER|              SUBS|                 MER|              null|            MARCHAND|                 ABJ|                null|            1500.0|                 0.0|             0.0|           0.0|             0.0|                  0.0|PAIEMENT MARCHAND|           Y| null|      null|                 null|                    null|                   null|\n",
      "|   0709557515|     0759094730|PT140809.1001.C00082|PT191017.1227.738206|    MERCHPAY|        MERCHPAY|                 CI|                   CI|                TS|          151235.0|           151135.0|        1.32923725E8|         1.32923825E8|               null|   null|MP220323.0003.A76425|  23/03/2022 00:03:52|                SUBS|                   MER|              SUBS|                 MER|              null|            MARCHAND|                null|                null|             100.0|                 0.0|             0.0|           0.0|             0.0|                  0.0|PAIEMENT MARCHAND|           Y| null|      null|                 null|                    null|                   null|\n",
      "|   0708597218|     0707390760|PT101204.1011.000001|PT130610.1254.A03094|         P2P|             P2P|                 CI|                   CI|                TS|         1219660.0|          1017660.0|               467.0|             202467.0|               null|   null|PP220323.0004.B52862|  23/03/2022 00:04:21|                SUBS|                  SUBS|              SUBS|                SUBS|              null|                null|REGUL JADE DU 12-...|                null|          202000.0|                 0.0|             0.0|           0.0|             0.0|                  0.0|              P2P|           Y| null|      null|                 null|                    null|                   null|\n",
      "|   0709532662|     0769790187|PT160422.1106.738635|PT191017.1227.738211|    MERCHPAY|        MERCHPAY|                 CI|                   CI|                TS|            9825.5|             9725.5|           5.45331E7|            5.45332E7|               null|   null|MP220323.0004.A76506|  23/03/2022 00:04:29|                SUBS|                   MER|              SUBS|                 MER|              null|            MARCHAND|   VALIDE 12/08/2016|                null|             100.0|                 0.0|             0.0|           0.0|             0.0|                  0.0|PAIEMENT MARCHAND|           Y| null|      null|                 null|                    null|                   null|\n",
      "|   0708323568|     0757124466|PT140703.1400.C00104|PT200421.0856.560140|         P2P|             P2P|                 CI|                   CI|                TS|           60178.0|            37958.0|            149239.0|             171459.0|               null|   null|PP220323.0006.A45881|  23/03/2022 00:06:00|                SUBS|                  SUBS|              SUBS|                SUBS|              null|                null|REGUL JADE DU 11/...|REGUL JADE 07/05/...|           22220.0|                 0.0|             0.0|           0.0|             0.0|                  0.0|              P2P|           Y| null|      null|                 null|                    null|                   null|\n",
      "|   0748498879|     0777287174|PT201001.1057.790767|PT141227.1252.C00024|      CASHIN|          CASHIN|                 CI|                   CI|                TS|      1.59717133E9|       1.59717107E9|                24.2|                324.2|               null|   null|CI220323.0006.B91953|  23/03/2022 00:06:15|             PICOCAT|                  SUBS|           PICODOM|                SUBS|             PICOS|                null|                null|                 OMC|             300.0|                 0.0|             0.0|           0.0|             0.0|                  0.0|  RETRAIT EPARGNE|           Y| null|      null|                 null|                    null|                   null|\n",
      "|   0768443148|     0787631898|PT180909.1951.532276|PT191017.1227.738243|    MERCHPAY|        MERCHPAY|                 CI|                   CI|                TS|             280.0|              130.0|           2.58932E7|           2.589335E7|               null|   null|MP220323.0006.B06660|  23/03/2022 00:06:17|                SUBS|                   MER|              SUBS|                 MER|              null|            MARCHAND|                null|                null|             150.0|                 0.0|             0.0|           0.0|             0.0|                  0.0|PAIEMENT MARCHAND|           Y| null|      null|                 null|                    null|                   null|\n",
      "|   0747246356|     0779692523|PT200203.0955.139602|PT191017.1227.738205|    MERCHPAY|        MERCHPAY|                 CI|                   CI|                TS|           14340.0|            13840.0|           8.34408E7|            8.34413E7|               null|   null|MP220323.0008.C41949|  23/03/2022 00:08:59|                SUBS|                   MER|              SUBS|                 MER|              null|            MARCHAND|                null|                null|             500.0|                 0.0|             0.0|           0.0|             0.0|                  0.0|PAIEMENT MARCHAND|           Y| null|      null|                 null|                    null|                   null|\n",
      "|   0707871362|     0758761770|PT150224.1130.336114|PT191017.1227.738217|    MERCHPAY|        MERCHPAY|                 CI|                   CI|                TS|            8990.0|             8890.0|         5.4475525E7|          5.4475625E7|               null|   null|MP220323.0010.B07261|  23/03/2022 00:10:49|                SUBS|                   MER|              SUBS|                 MER|              null|            MARCHAND|                null|                null|             100.0|                 0.0|             0.0|           0.0|             0.0|                  0.0|PAIEMENT MARCHAND|           Y| null|      null|                 null|                    null|                   null|\n",
      "|   0787257059|     0788248247|PT190204.1605.115213|PT191017.1227.738245|    MERCHPAY|        MERCHPAY|                 CI|                   CI|                TS|             698.5|              398.5|           5.07389E7|            5.07392E7|               null|   null|MP220323.0012.C42362|  23/03/2022 00:12:16|                SUBS|                   MER|              SUBS|                 MER|              null|            MARCHAND|                null|                null|             300.0|                 0.0|             0.0|           0.0|             0.0|                  0.0|PAIEMENT MARCHAND|           Y| null|      null|                 null|                    null|                   null|\n",
      "|   0708807769|     0768622019|PT140312.1319.C00777|PT191017.1227.738212|    MERCHPAY|        MERCHPAY|                 CI|                   CI|                TS|             650.0|              550.0|          1.335518E8|           1.335519E8|               null|   null|MP220323.0012.C42366|  23/03/2022 00:12:16|                SUBS|                   MER|              SUBS|                 MER|              null|            MARCHAND|         C. SCOLAIRE|                null|             100.0|                 0.0|             0.0|           0.0|             0.0|                  0.0|PAIEMENT MARCHAND|           Y| null|      null|                 null|                    null|                   null|\n",
      "|   0708127310|     0779558370|PT120612.1521.000003|PT191017.1227.738254|    MERCHPAY|        MERCHPAY|                 CI|                   CI|                TS|           10666.0|            10366.0|         3.5968116E7|          3.5968416E7|               null|   null|MP220323.0012.C42418|  23/03/2022 00:12:39|                SUBS|                   MER|              SUBS|                 MER|              null|            MARCHAND|                null|                null|             300.0|                 0.0|             0.0|           0.0|             0.0|                  0.0|PAIEMENT MARCHAND|           Y| null|      null|                 null|                    null|                   null|\n",
      "|   0779318706|     0758761770|PT190313.1428.591045|PT191017.1227.738217|    MERCHPAY|        MERCHPAY|                 CI|                   CI|                TS|             400.0|              300.0|         5.4484925E7|          5.4485025E7|               null|   null|MP220323.0012.B07527|  23/03/2022 00:12:45|                SUBS|                   MER|              SUBS|                 MER|              null|            MARCHAND|                null|                null|             100.0|                 0.0|             0.0|           0.0|             0.0|                  0.0|PAIEMENT MARCHAND|           Y| null|      null|                 null|                    null|                   null|\n",
      "|   0789455986|     0759094730|PT181228.0833.139587|PT191017.1227.738206|    MERCHPAY|        MERCHPAY|                 CI|                   CI|                TS|            4975.0|             4775.0|        1.32986225E8|         1.32986425E8|               null|   null|MP220323.0013.B07620|  23/03/2022 00:13:31|                SUBS|                   MER|              SUBS|                 MER|              null|            MARCHAND|                null|                null|             200.0|                 0.0|             0.0|           0.0|             0.0|                  0.0|PAIEMENT MARCHAND|           Y| null|      null|                 null|                    null|                   null|\n",
      "|   0769471205|     0787515740|PT210815.1243.325853|PT160112.1533.014946|    MERCHPAY|        MERCHPAY|                 CI|                   CI|                TS|           25539.5|            25039.5|        1.62301075E8|         1.62301575E8|               null|   null|MP220323.0013.A77704|  23/03/2022 00:13:34|                SUBS|                   MER|              SUBS|                 MER|              null|            MARCHAND|           WASSSKARA|                null|             500.0|                 0.0|             0.0|           0.0|             0.0|                  0.0|PAIEMENT MARCHAND|           Y| null|      null|                 null|                    null|                   null|\n",
      "|   0747638587|     0779319612|PT161102.1325.376869|PT191017.1227.738209|    MERCHPAY|        MERCHPAY|                 CI|                   CI|                TS|            1760.0|             1660.0|        2.32525775E8|         2.32525875E8|               null|   null|MP220323.0014.C42629|  23/03/2022 00:14:23|                SUBS|                   MER|              SUBS|                 MER|              null|            MARCHAND|    REGUL 13/12/2016|                null|             100.0|                 0.0|             0.0|           0.0|             0.0|                  0.0|PAIEMENT MARCHAND|           Y| null|      null|                 null|                    null|                   null|\n",
      "+-------------+---------------+--------------------+--------------------+------------+----------------+-------------------+---------------------+------------------+------------------+-------------------+--------------------+---------------------+-------------------+-------+--------------------+---------------------+--------------------+----------------------+------------------+--------------------+------------------+--------------------+--------------------+--------------------+------------------+--------------------+----------------+--------------+----------------+---------------------+-----------------+------------+-----+----------+---------------------+------------------------+-----------------------+\n",
      "only showing top 20 rows\n",
      "\n",
      "root\n",
      " |-- SENDER_MSISDN: string (nullable = true)\n",
      " |-- RECEIVER_MSISDN: string (nullable = true)\n",
      " |-- SENDER_USER_ID: string (nullable = true)\n",
      " |-- RECEIVER_USER_ID: string (nullable = true)\n",
      " |-- SERVICE_TYPE: string (nullable = true)\n",
      " |-- TRANSFER_SUBTYPE: string (nullable = true)\n",
      " |-- SENDER_COUNTRY_CODE: string (nullable = true)\n",
      " |-- RECEIVER_COUNTRY_CODE: string (nullable = true)\n",
      " |-- TRANSACTION_STATUS: string (nullable = true)\n",
      " |-- SENDER_PRE_BALANCE: string (nullable = true)\n",
      " |-- SENDER_POST_BALANCE: string (nullable = true)\n",
      " |-- RECEIVER_PRE_BALANCE: string (nullable = true)\n",
      " |-- RECEIVER_POST_BALANCE: string (nullable = true)\n",
      " |-- REFERENCE_NUMBER: string (nullable = true)\n",
      " |-- REMARKS: string (nullable = true)\n",
      " |-- TRANSACTION_ID: string (nullable = true)\n",
      " |-- TRANSACTION_DATE_TIME: string (nullable = true)\n",
      " |-- SENDER_CATEGORY_CODE: string (nullable = true)\n",
      " |-- RECEIVER_CATEGORY_CODE: string (nullable = true)\n",
      " |-- SENDER_DOMAIN_CODE: string (nullable = true)\n",
      " |-- RECEIVER_DOMAIN_CODE: string (nullable = true)\n",
      " |-- SENDER_DESIGNATION: string (nullable = true)\n",
      " |-- RECEIVER_DESIGNATION: string (nullable = true)\n",
      " |-- SENDER_STATE: string (nullable = true)\n",
      " |-- RECEIVER_STATE: string (nullable = true)\n",
      " |-- TRANSACTION_AMOUNT: string (nullable = true)\n",
      " |-- COMMISSION_GROSSISTE: string (nullable = true)\n",
      " |-- COMMISSION_AGENT: string (nullable = true)\n",
      " |-- COMMISSION_OCA: string (nullable = true)\n",
      " |-- COMMISSION_AUTRE: string (nullable = true)\n",
      " |-- SERVICE_CHARGE_AMOUNT: string (nullable = true)\n",
      " |-- TRANSACTION_TAG: string (nullable = true)\n",
      " |-- IS_FINANCIAL: string (nullable = true)\n",
      " |-- ZEBRA: string (nullable = true)\n",
      " |-- ROLLBACKED: string (nullable = true)\n",
      " |-- FOREIGN_CURRENCY_CODE: string (nullable = true)\n",
      " |-- COMMERCIAL_EXCHANGE_RATE: string (nullable = true)\n",
      " |-- REFERENCE_EXCHANGE_RATE: string (nullable = true)\n",
      "\n"
     ]
    }
   ],
   "source": [
    "df_apgl = spark.read \\\n",
    "      .option(\"delimiter\", \";\") \\\n",
    "      .option(\"header\", \"true\") \\\n",
    "      .csv(\"/Users/youssouf/Downloads/FICHIER_APGL_20220323.csv\") \\\n",
    "      .dropDuplicates()\n",
    "\n",
    "df_apgl.show()\n",
    "df_apgl.printSchema()"
   ]
  },
  {
   "cell_type": "code",
   "execution_count": null,
   "metadata": {},
   "outputs": [],
   "source": [
    "#df_apgl.select(\"SERVICE_TYPE\").distinct().show(100)"
   ]
  },
  {
   "cell_type": "code",
   "execution_count": null,
   "metadata": {},
   "outputs": [],
   "source": [
    "#df_apgl.select(\"TRANSACTION_TAG\").distinct().show(100)"
   ]
  },
  {
   "cell_type": "code",
   "execution_count": null,
   "metadata": {},
   "outputs": [],
   "source": [
    "#df_apgl.select(\"TRANSFER_SUBTYPE\").distinct().show(100)"
   ]
  },
  {
   "cell_type": "code",
   "execution_count": 70,
   "metadata": {},
   "outputs": [],
   "source": [
    "df_apgl_tmp = df_apgl.select(\"SENDER_MSISDN\", \"RECEIVER_MSISDN\", \"SERVICE_TYPE\", \"TRANSACTION_DATE_TIME\", \"TRANSACTION_AMOUNT\") \\\n",
    "                     .filter(col(\"SERVICE_TYPE\").isin([\"CASHOUT\", \"MERCHPAY\"]))\n"
   ]
  },
  {
   "cell_type": "code",
   "execution_count": 71,
   "metadata": {},
   "outputs": [
    {
     "name": "stdout",
     "output_type": "stream",
     "text": [
      "+-------------+---------------+------------+---------------------+------------------+\n",
      "|SENDER_MSISDN|RECEIVER_MSISDN|SERVICE_TYPE|TRANSACTION_DATE_TIME|TRANSACTION_AMOUNT|\n",
      "+-------------+---------------+------------+---------------------+------------------+\n",
      "|   0759341269|     0779319612|    MERCHPAY|  23/03/2022 00:00:54|             200.0|\n",
      "|   0749322092|     0757662915|    MERCHPAY|  23/03/2022 00:02:04|             100.0|\n",
      "|   0779184857|     0768622019|    MERCHPAY|  23/03/2022 00:02:37|             100.0|\n",
      "|   0758677896|     0768622019|    MERCHPAY|  23/03/2022 00:03:23|            1500.0|\n",
      "|   0709557515|     0759094730|    MERCHPAY|  23/03/2022 00:03:52|             100.0|\n",
      "|   0709532662|     0769790187|    MERCHPAY|  23/03/2022 00:04:29|             100.0|\n",
      "|   0768443148|     0787631898|    MERCHPAY|  23/03/2022 00:06:17|             150.0|\n",
      "|   0747246356|     0779692523|    MERCHPAY|  23/03/2022 00:08:59|             500.0|\n",
      "|   0707871362|     0758761770|    MERCHPAY|  23/03/2022 00:10:49|             100.0|\n",
      "|   0787257059|     0788248247|    MERCHPAY|  23/03/2022 00:12:16|             300.0|\n",
      "|   0708807769|     0768622019|    MERCHPAY|  23/03/2022 00:12:16|             100.0|\n",
      "|   0708127310|     0779558370|    MERCHPAY|  23/03/2022 00:12:39|             300.0|\n",
      "|   0779318706|     0758761770|    MERCHPAY|  23/03/2022 00:12:45|             100.0|\n",
      "|   0789455986|     0759094730|    MERCHPAY|  23/03/2022 00:13:31|             200.0|\n",
      "|   0769471205|     0787515740|    MERCHPAY|  23/03/2022 00:13:34|             500.0|\n",
      "|   0747638587|     0779319612|    MERCHPAY|  23/03/2022 00:14:23|             100.0|\n",
      "|   0768081617|     0748174214|    MERCHPAY|  23/03/2022 00:14:41|             150.0|\n",
      "|   0758583722|     0779692523|    MERCHPAY|  23/03/2022 00:16:16|             500.0|\n",
      "|   0787876293|     0769790187|    MERCHPAY|  23/03/2022 00:17:04|             100.0|\n",
      "|   0709018454|     0759094730|    MERCHPAY|  23/03/2022 00:17:38|             100.0|\n",
      "+-------------+---------------+------------+---------------------+------------------+\n",
      "only showing top 20 rows\n",
      "\n"
     ]
    }
   ],
   "source": [
    "df_apgl_tmp.show()"
   ]
  },
  {
   "cell_type": "code",
   "execution_count": 72,
   "metadata": {},
   "outputs": [],
   "source": [
    "df_apgl_tmp = df_apgl_tmp.withColumn(\"DATE_TRANSACTION\", substring(col(\"TRANSACTION_DATE_TIME\"), 1, 10))"
   ]
  },
  {
   "cell_type": "code",
   "execution_count": 87,
   "metadata": {},
   "outputs": [
    {
     "name": "stdout",
     "output_type": "stream",
     "text": [
      "+-------------+---------------+------------+---------------------+------------------+----------------+\n",
      "|SENDER_MSISDN|RECEIVER_MSISDN|SERVICE_TYPE|TRANSACTION_DATE_TIME|TRANSACTION_AMOUNT|DATE_TRANSACTION|\n",
      "+-------------+---------------+------------+---------------------+------------------+----------------+\n",
      "|   0779485556|     0748265283|    MERCHPAY|  23/03/2022 15:29:23|             150.0|      23/03/2022|\n",
      "|   0779485556|     0777547725|     CASHOUT|  23/03/2022 15:17:59|           38000.0|      23/03/2022|\n",
      "+-------------+---------------+------------+---------------------+------------------+----------------+\n",
      "\n"
     ]
    }
   ],
   "source": [
    "df_apgl_tmp.filter(col(\"SENDER_MSISDN\") == \"0779485556\").show()"
   ]
  },
  {
   "cell_type": "markdown",
   "metadata": {},
   "source": [
    "### APGL AND SUBSCRIBERS"
   ]
  },
  {
   "cell_type": "code",
   "execution_count": 82,
   "metadata": {},
   "outputs": [],
   "source": [
    "df_final = df_subscribers_tmp.join(df_apgl_tmp, df_subscribers_tmp.MSISDN == df_apgl_tmp.SENDER_MSISDN, \"left_outer\") \\\n",
    "                    .dropDuplicates()\n",
    "         #           .withColumn(\"TRANSACTION_DATE_TIME\", substring(col(\"TRANSACTION_DATE_TIME\")))"
   ]
  },
  {
   "cell_type": "code",
   "execution_count": 83,
   "metadata": {},
   "outputs": [
    {
     "name": "stdout",
     "output_type": "stream",
     "text": [
      "+------------------+----------+-------------------+--------------------+-----------------+-------------+---------------+------------+---------------------+------------------+----------------+\n",
      "|PARENT_USER_MSISDN|    MSISDN|      CREATION_DATE|          CREATED_BY|CREATED_BY_MSISDN|SENDER_MSISDN|RECEIVER_MSISDN|SERVICE_TYPE|TRANSACTION_DATE_TIME|TRANSACTION_AMOUNT|DATE_TRANSACTION|\n",
      "+------------------+----------+-------------------+--------------------+-----------------+-------------+---------------+------------+---------------------+------------------+----------------+\n",
      "|        0700137710|0700137710|21/03/2022 10:20:57|PT220321.1020.671345|             null|         null|           null|        null|                 null|              null|            null|\n",
      "|        0700140561|0700140561|22/03/2022 16:24:29|PT220322.1624.695943|             null|         null|           null|        null|                 null|              null|            null|\n",
      "|        0757688723|0700488172|23/03/2022 17:28:10|PT210205.1147.247557|       0757688723|         null|           null|        null|                 null|              null|            null|\n",
      "|        0757688723|0700488301|23/03/2022 12:00:01|PT210205.1147.247557|       0757688723|         null|           null|        null|                 null|              null|            null|\n",
      "|        0757688723|0700488348|23/03/2022 14:14:23|PT210205.1147.247557|       0757688723|         null|           null|        null|                 null|              null|            null|\n",
      "|        0757688723|0700488370|23/03/2022 14:57:19|PT210205.1147.247557|       0757688723|         null|           null|        null|                 null|              null|            null|\n",
      "|        0700488602|0700488602|22/03/2022 09:06:48|PT220322.0906.684739|             null|         null|           null|        null|                 null|              null|            null|\n",
      "|        0757264380|0700861004|23/03/2022 19:54:46|PT210205.1147.247566|       0757264380|         null|           null|        null|                 null|              null|            null|\n",
      "|        0789212498|0701012413|23/03/2022 13:12:28|PT190226.1610.344579|       0789212498|         null|           null|        null|                 null|              null|            null|\n",
      "|        0701225716|0701225716|21/03/2022 15:40:00|PT220321.1540.678616|             null|         null|           null|        null|                 null|              null|            null|\n",
      "|        0701226349|0701226349|22/03/2022 16:20:41|PT220322.1620.695843|             null|         null|           null|        null|                 null|              null|            null|\n",
      "|        0701372530|0701372530|21/03/2022 10:03:46|PT220321.1003.670980|             null|         null|           null|        null|                 null|              null|            null|\n",
      "|        0767490432|0701432794|23/03/2022 12:47:36|PT171226.1819.536516|       0767490432|         null|           null|        null|                 null|              null|            null|\n",
      "|        0701595095|0701595095|21/03/2022 10:27:34|PT220321.1027.671501|             null|         null|           null|        null|                 null|              null|            null|\n",
      "|         F_DPICARD|0701657759|23/03/2022 18:37:26|           F_DPICARD|        F_DPICARD|         null|           null|        null|                 null|              null|            null|\n",
      "|        0701686620|0701686620|22/03/2022 13:13:58|PT220322.1313.690602|             null|         null|           null|        null|                 null|              null|            null|\n",
      "|        0701693273|0701693273|21/03/2022 11:33:05|PT220321.1133.673239|             null|   0701693273|     0767891561|    MERCHPAY|  23/03/2022 05:26:42|             100.0|      23/03/2022|\n",
      "|        0701693273|0701693273|21/03/2022 11:33:05|PT220321.1133.673239|             null|   0701693273|     0777391755|    MERCHPAY|  23/03/2022 08:05:20|             150.0|      23/03/2022|\n",
      "|        0701693273|0701693273|21/03/2022 11:33:05|PT220321.1133.673239|             null|   0701693273|     0777425083|    MERCHPAY|  23/03/2022 10:16:00|             150.0|      23/03/2022|\n",
      "|        0798940765|0701733571|23/03/2022 11:48:01|PT211020.1331.664597|       0798940765|         null|           null|        null|                 null|              null|            null|\n",
      "+------------------+----------+-------------------+--------------------+-----------------+-------------+---------------+------------+---------------------+------------------+----------------+\n",
      "only showing top 20 rows\n",
      "\n",
      "root\n",
      " |-- PARENT_USER_MSISDN: string (nullable = true)\n",
      " |-- MSISDN: string (nullable = true)\n",
      " |-- CREATION_DATE: string (nullable = true)\n",
      " |-- CREATED_BY: string (nullable = true)\n",
      " |-- CREATED_BY_MSISDN: string (nullable = true)\n",
      " |-- SENDER_MSISDN: string (nullable = true)\n",
      " |-- RECEIVER_MSISDN: string (nullable = true)\n",
      " |-- SERVICE_TYPE: string (nullable = true)\n",
      " |-- TRANSACTION_DATE_TIME: string (nullable = true)\n",
      " |-- TRANSACTION_AMOUNT: string (nullable = true)\n",
      " |-- DATE_TRANSACTION: string (nullable = true)\n",
      "\n"
     ]
    }
   ],
   "source": [
    "df_final.show()\n",
    "df_final.printSchema()"
   ]
  },
  {
   "cell_type": "code",
   "execution_count": 84,
   "metadata": {},
   "outputs": [
    {
     "name": "stdout",
     "output_type": "stream",
     "text": [
      "+----------+----------------+-----------------+--------------------+-------------------+-------------+------------------+----------------------+\n",
      "|    MSISDN|DATE_TRANSACTION|CREATED_BY_MSISDN|          CREATED_BY|      CREATION_DATE|SENDER_MSISDN|TRANSACTION_AMOUNT|SUM_TRANSACTION_AMOUNT|\n",
      "+----------+----------------+-----------------+--------------------+-------------------+-------------+------------------+----------------------+\n",
      "|0700137710|            null|             null|PT220321.1020.671345|21/03/2022 10:20:57|         null|              null|                  null|\n",
      "|0700140561|            null|             null|PT220322.1624.695943|22/03/2022 16:24:29|         null|              null|                  null|\n",
      "|0700488172|            null|       0757688723|PT210205.1147.247557|23/03/2022 17:28:10|         null|              null|                  null|\n",
      "|0700488301|            null|       0757688723|PT210205.1147.247557|23/03/2022 12:00:01|         null|              null|                  null|\n",
      "|0700488348|            null|       0757688723|PT210205.1147.247557|23/03/2022 14:14:23|         null|              null|                  null|\n",
      "|0700488370|            null|       0757688723|PT210205.1147.247557|23/03/2022 14:57:19|         null|              null|                  null|\n",
      "|0700488602|            null|             null|PT220322.0906.684739|22/03/2022 09:06:48|         null|              null|                  null|\n",
      "|0700861004|            null|       0757264380|PT210205.1147.247566|23/03/2022 19:54:46|         null|              null|                  null|\n",
      "|0701012413|            null|       0789212498|PT190226.1610.344579|23/03/2022 13:12:28|         null|              null|                  null|\n",
      "|0701225716|            null|             null|PT220321.1540.678616|21/03/2022 15:40:00|         null|              null|                  null|\n",
      "|0701226349|            null|             null|PT220322.1620.695843|22/03/2022 16:20:41|         null|              null|                  null|\n",
      "|0701372530|            null|             null|PT220321.1003.670980|21/03/2022 10:03:46|         null|              null|                  null|\n",
      "|0701432794|            null|       0767490432|PT171226.1819.536516|23/03/2022 12:47:36|         null|              null|                  null|\n",
      "|0701595095|            null|             null|PT220321.1027.671501|21/03/2022 10:27:34|         null|              null|                  null|\n",
      "|0701657759|            null|        F_DPICARD|           F_DPICARD|23/03/2022 18:37:26|         null|              null|                  null|\n",
      "|0701686620|            null|             null|PT220322.1313.690602|22/03/2022 13:13:58|         null|              null|                  null|\n",
      "|0701693273|      23/03/2022|             null|PT220321.1133.673239|21/03/2022 11:33:05|   0701693273|             100.0|                 400.0|\n",
      "|0701693273|      23/03/2022|             null|PT220321.1133.673239|21/03/2022 11:33:05|   0701693273|             150.0|                 400.0|\n",
      "|0701733571|            null|       0798940765|PT211020.1331.664597|23/03/2022 11:48:01|         null|              null|                  null|\n",
      "|0701831635|            null|             null|PT220321.1332.675571|21/03/2022 13:32:55|         null|              null|                  null|\n",
      "+----------+----------------+-----------------+--------------------+-------------------+-------------+------------------+----------------------+\n",
      "only showing top 20 rows\n",
      "\n",
      "root\n",
      " |-- MSISDN: string (nullable = true)\n",
      " |-- DATE_TRANSACTION: string (nullable = true)\n",
      " |-- CREATED_BY_MSISDN: string (nullable = true)\n",
      " |-- CREATED_BY: string (nullable = true)\n",
      " |-- CREATION_DATE: string (nullable = true)\n",
      " |-- SENDER_MSISDN: string (nullable = true)\n",
      " |-- TRANSACTION_AMOUNT: string (nullable = true)\n",
      " |-- SUM_TRANSACTION_AMOUNT: double (nullable = true)\n",
      "\n"
     ]
    }
   ],
   "source": [
    "df_final = df_final.select(\"MSISDN\", \"DATE_TRANSACTION\", \"CREATED_BY_MSISDN\", \"CREATED_BY\", \"CREATION_DATE\", \n",
    "                           \"SENDER_MSISDN\", \"TRANSACTION_AMOUNT\",\"PARENT_USER_ID\",\"PARENT_USER_MSISDN\", \n",
    "                           \"USER_GRADE_NAME\")\n",
    "\n",
    "windowMsisdnDateTransaction  = Window.partitionBy(\"MSISDN\", \"DATE_TRANSACTION\")\n",
    "\n",
    "df_final = df_final.withColumn(\"SUM_TRANSACTION_AMOUNT\", sum(\"TRANSACTION_AMOUNT\").over(windowMsisdnDateTransaction)) \\\n",
    "                    .dropDuplicates()\n",
    "df_final.show()\n",
    "df_final.printSchema()"
   ]
  },
  {
   "cell_type": "code",
   "execution_count": 85,
   "metadata": {},
   "outputs": [
    {
     "name": "stdout",
     "output_type": "stream",
     "text": [
      "+----------+-------------------+-----------------+-------------+----------------+----------------------+\n",
      "|    MSISDN|      CREATION_DATE|CREATED_BY_MSISDN|SENDER_MSISDN|DATE_TRANSACTION|SUM_TRANSACTION_AMOUNT|\n",
      "+----------+-------------------+-----------------+-------------+----------------+----------------------+\n",
      "|0703478681|23/03/2022 17:31:31|       0701291185|   0703478681|      23/03/2022|                2000.0|\n",
      "|0701981432|23/03/2022 12:44:21|       0767484544|   0701981432|      23/03/2022|              150000.0|\n",
      "|0702945585|23/03/2022 12:35:12|       0787791208|   0702945585|      23/03/2022|              100000.0|\n",
      "|0707490095|23/03/2022 10:48:57|       0707490095|   0707490095|      23/03/2022|               65150.0|\n",
      "|0768624994|23/03/2022 12:53:56|       0768624994|   0768624994|      23/03/2022|                5000.0|\n",
      "|0701810849|23/03/2022 11:24:14|        f_sbamba1|   0701810849|      23/03/2022|               53000.0|\n",
      "|0703474741|23/03/2022 11:09:12|       0701081407|   0703474741|      23/03/2022|              194900.0|\n",
      "|0778681248|23/03/2022 11:35:29|          f_huyao|   0778681248|      23/03/2022|               70000.0|\n",
      "|0768299687|23/03/2022 12:17:13|       0768299687|   0768299687|      23/03/2022|                7500.0|\n",
      "|0747751532|23/03/2022 12:42:05|         TKDR7660|   0747751532|      23/03/2022|                5000.0|\n",
      "|0768819664|23/03/2022 11:19:53|        f_kkoffi1|   0768819664|      23/03/2022|               30000.0|\n",
      "|0779485556|23/03/2022 14:59:01|          f_gyoro|   0779485556|      23/03/2022|               38150.0|\n",
      "|0798671756|23/03/2022 14:32:04|         VPTQ8657|   0798671756|      23/03/2022|               10000.0|\n",
      "|0702559282|23/03/2022 18:02:47|       0702559282|   0702559282|      23/03/2022|                3500.0|\n",
      "|0749039191|23/03/2022 12:32:16|       0767510504|   0749039191|      23/03/2022|               10100.0|\n",
      "|0799247266|23/03/2022 14:59:48|          f_ayapi|   0799247266|      23/03/2022|               25000.0|\n",
      "|0703478680|23/03/2022 17:22:58|       0701291185|   0703478680|      23/03/2022|                2000.0|\n",
      "|0701727317|23/03/2022 11:38:52|        c_angoran|   0701727317|      23/03/2022|                2000.0|\n",
      "|0777306718|23/03/2022 15:04:28|         f_agbale|   0777306718|      23/03/2022|                5000.0|\n",
      "|0799134025|23/03/2022 15:54:17|         FDXQ3762|   0799134025|      23/03/2022|                5000.0|\n",
      "+----------+-------------------+-----------------+-------------+----------------+----------------------+\n",
      "only showing top 20 rows\n",
      "\n"
     ]
    }
   ],
   "source": [
    "df_final = df_final.filter( (col(\"SUM_TRANSACTION_AMOUNT\") >= 2000) & \n",
    "                            (substring(col(\"CREATION_DATE\"), 1, 10) == \"23/03/2022\")) \\\n",
    "                    .select(\"MSISDN\",\"CREATION_DATE\",\"CREATED_BY_MSISDN\",\"SENDER_MSISDN\",\n",
    "                            \"DATE_TRANSACTION\",\"SUM_TRANSACTION_AMOUNT\",\"PARENT_USER_ID\",\n",
    "                            \"PARENT_USER_MSISDN\", \"USER_GRADE_NAME\") \\\n",
    "                    .dropDuplicates()\n",
    "df_final.show()"
   ]
  },
  {
   "cell_type": "code",
   "execution_count": 86,
   "metadata": {},
   "outputs": [
    {
     "name": "stdout",
     "output_type": "stream",
     "text": [
      "+----------+-------------------+-----------------+-------------+----------------+----------------------+------------+----------+\n",
      "|    MSISDN|      CREATION_DATE|CREATED_BY_MSISDN|SENDER_MSISDN|DATE_TRANSACTION|SUM_TRANSACTION_AMOUNT|COUNT_CLIENT|COMMISSION|\n",
      "+----------+-------------------+-----------------+-------------+----------------+----------------------+------------+----------+\n",
      "|0702432222|23/03/2022 13:25:07|      mf_cangoran|   0702432222|      23/03/2022|              140000.0|           1|      1500|\n",
      "|0779485556|23/03/2022 14:59:01|          f_gyoro|   0779485556|      23/03/2022|               38150.0|           1|      1500|\n",
      "|0701727317|23/03/2022 11:38:52|        c_angoran|   0701727317|      23/03/2022|                2000.0|           1|      1500|\n",
      "|0799134025|23/03/2022 15:54:17|         FDXQ3762|   0799134025|      23/03/2022|                5000.0|           1|      1500|\n",
      "|0779992521|23/03/2022 12:21:29|    f_mouattara02|   0779992521|      23/03/2022|               10000.0|           1|      1500|\n",
      "|0707490095|23/03/2022 10:48:57|       0707490095|   0707490095|      23/03/2022|               65150.0|           1|      1500|\n",
      "|0768624994|23/03/2022 12:53:56|       0768624994|   0768624994|      23/03/2022|                5000.0|           1|      1500|\n",
      "|0701810849|23/03/2022 11:24:14|        f_sbamba1|   0701810849|      23/03/2022|               53000.0|           1|      1500|\n",
      "|0701981432|23/03/2022 12:44:21|       0767484544|   0701981432|      23/03/2022|              150000.0|           1|      1500|\n",
      "|0799247266|23/03/2022 14:59:48|          f_ayapi|   0799247266|      23/03/2022|               25000.0|           1|      1500|\n",
      "|0768299687|23/03/2022 12:17:13|       0768299687|   0768299687|      23/03/2022|                7500.0|           1|      1500|\n",
      "|0702945585|23/03/2022 12:35:12|       0787791208|   0702945585|      23/03/2022|              100000.0|           1|      1500|\n",
      "|0702559282|23/03/2022 18:02:47|       0702559282|   0702559282|      23/03/2022|                3500.0|           1|      1500|\n",
      "|0703474741|23/03/2022 11:09:12|       0701081407|   0703474741|      23/03/2022|              194900.0|           1|      1500|\n",
      "|0798671756|23/03/2022 14:32:04|         VPTQ8657|   0798671756|      23/03/2022|               10000.0|           1|      1500|\n",
      "|0700025438|23/03/2022 18:12:14|       0700025438|   0700025438|      23/03/2022|               60000.0|           1|      1500|\n",
      "|0778681248|23/03/2022 11:35:29|          f_huyao|   0778681248|      23/03/2022|               70000.0|           1|      1500|\n",
      "|0702981244|23/03/2022 10:45:13|        f_nombaye|   0702981244|      23/03/2022|              100000.0|           1|      1500|\n",
      "|0704315436|23/03/2022 15:40:12|       0787305495|   0704315436|      23/03/2022|                2000.0|           1|      1500|\n",
      "|0702583114|23/03/2022 10:51:58|       0777004747|   0702583114|      23/03/2022|                5100.0|           1|      1500|\n",
      "+----------+-------------------+-----------------+-------------+----------------+----------------------+------------+----------+\n",
      "only showing top 20 rows\n",
      "\n",
      "root\n",
      " |-- MSISDN: string (nullable = true)\n",
      " |-- CREATION_DATE: string (nullable = true)\n",
      " |-- CREATED_BY_MSISDN: string (nullable = true)\n",
      " |-- SENDER_MSISDN: string (nullable = true)\n",
      " |-- DATE_TRANSACTION: string (nullable = true)\n",
      " |-- SUM_TRANSACTION_AMOUNT: double (nullable = true)\n",
      " |-- COUNT_CLIENT: long (nullable = false)\n",
      " |-- COMMISSION: long (nullable = false)\n",
      "\n"
     ]
    }
   ],
   "source": [
    "windowCreatedMsisdn  = Window.partitionBy(\"CREATED_BY_MSISDN\")\n",
    "\n",
    "df_final = df_final.withColumn(\"COUNT_CLIENT\", count(\"MSISDN\").over(windowCreatedMsisdn)) \\\n",
    "                    .withColumn(\"COMMISSION\", col(\"COUNT_CLIENT\")*1500)\n",
    "df_final.show()\n",
    "df_final.printSchema()"
   ]
  },
  {
   "cell_type": "code",
   "execution_count": null,
   "metadata": {},
   "outputs": [],
   "source": []
  },
  {
   "cell_type": "code",
   "execution_count": 89,
   "metadata": {},
   "outputs": [
    {
     "name": "stdout",
     "output_type": "stream",
     "text": [
      "+-------------+-------------+----------+----------+\n",
      "| MOBILE_COACH|NOMBRE_CLIENT|COMMISSION| DATE_JOUR|\n",
      "+-------------+-------------+----------+----------+\n",
      "|  mf_cangoran|            1|      1500|23/03/2022|\n",
      "|      f_gyoro|            1|      1500|23/03/2022|\n",
      "|    c_angoran|            1|      1500|23/03/2022|\n",
      "|     FDXQ3762|            1|      1500|23/03/2022|\n",
      "|f_mouattara02|            1|      1500|23/03/2022|\n",
      "|   0707490095|            1|      1500|23/03/2022|\n",
      "|   0768624994|            1|      1500|23/03/2022|\n",
      "|    f_sbamba1|            1|      1500|23/03/2022|\n",
      "|   0767484544|            1|      1500|23/03/2022|\n",
      "|      f_ayapi|            1|      1500|23/03/2022|\n",
      "|   0768299687|            1|      1500|23/03/2022|\n",
      "|   0787791208|            1|      1500|23/03/2022|\n",
      "|   0702559282|            1|      1500|23/03/2022|\n",
      "|   0701081407|            1|      1500|23/03/2022|\n",
      "|     VPTQ8657|            1|      1500|23/03/2022|\n",
      "|   0700025438|            1|      1500|23/03/2022|\n",
      "|      f_huyao|            1|      1500|23/03/2022|\n",
      "|    f_nombaye|            1|      1500|23/03/2022|\n",
      "|   0787305495|            1|      1500|23/03/2022|\n",
      "|   0777004747|            1|      1500|23/03/2022|\n",
      "+-------------+-------------+----------+----------+\n",
      "only showing top 20 rows\n",
      "\n",
      "root\n",
      " |-- MOBILE_COACH: string (nullable = true)\n",
      " |-- NOMBRE_CLIENT: long (nullable = false)\n",
      " |-- COMMISSION: long (nullable = false)\n",
      " |-- DATE_JOUR: string (nullable = true)\n",
      "\n"
     ]
    }
   ],
   "source": [
    "df_final = df_final.select(col(\"CREATED_BY_MSISDN\").alias(\"MOBILE_COACH\"), col(\"COUNT_CLIENT\").alias(\"NOMBRE_CLIENT\"), \n",
    "                           col(\"COMMISSION\"), col(\"DATE_TRANSACTION\").alias(\"DATE_JOUR\")) \\\n",
    "                    .dropDuplicates()\n",
    "\n",
    "df_final.show()\n",
    "df_final.printSchema()\n"
   ]
  },
  {
   "cell_type": "code",
   "execution_count": null,
   "metadata": {},
   "outputs": [],
   "source": [
    "df_final"
   ]
  },
  {
   "cell_type": "code",
   "execution_count": 55,
   "metadata": {},
   "outputs": [
    {
     "name": "stdout",
     "output_type": "stream",
     "text": [
      "+------------+-------------------+----------+-------------+----------+----------------+\n",
      "|MOBILE_COACH|   DATE_RECRUTEMENT|    CLIENT|NOMBRE_CLIENT|COMMISSION|DATE_TRANSACTION|\n",
      "+------------+-------------------+----------+-------------+----------+----------------+\n",
      "| mf_cangoran|23/03/2022 13:25:07|0702432222|            4|      6000|      23/03/2022|\n",
      "+------------+-------------------+----------+-------------+----------+----------------+\n",
      "\n"
     ]
    }
   ],
   "source": [
    "df_final.filter(col(\"MOBILE_COACH\") == \"mf_cangoran\").show()"
   ]
  },
  {
   "cell_type": "code",
   "execution_count": null,
   "metadata": {},
   "outputs": [],
   "source": [
    "|DATE_JOUR|DATE_RECRUTEMENT| MOBILE_COACH|     ID_MOBILE_COACH|NOMBRE_RECRUTEMENT|COMMISSION|\n"
   ]
  },
  {
   "cell_type": "code",
   "execution_count": null,
   "metadata": {},
   "outputs": [],
   "source": []
  },
  {
   "cell_type": "code",
   "execution_count": null,
   "metadata": {},
   "outputs": [],
   "source": []
  },
  {
   "cell_type": "code",
   "execution_count": null,
   "metadata": {},
   "outputs": [],
   "source": []
  },
  {
   "cell_type": "code",
   "execution_count": 90,
   "metadata": {},
   "outputs": [],
   "source": [
    "df_final.repartition(1) \\\n",
    "            .write \\\n",
    "            .mode(\"overwrite\") \\\n",
    "            .format(\"csv\") \\\n",
    "            .option(\"header\",\"true\") \\\n",
    "            .option(\"delimiter\",\";\") \\\n",
    "            .save(\"/Users/youssouf/Downloads/COMMISSION_ACTIVATION_202203230.csv\")"
   ]
  },
  {
   "cell_type": "code",
   "execution_count": null,
   "metadata": {},
   "outputs": [],
   "source": []
  },
  {
   "cell_type": "code",
   "execution_count": null,
   "metadata": {},
   "outputs": [],
   "source": []
  },
  {
   "cell_type": "code",
   "execution_count": null,
   "metadata": {},
   "outputs": [],
   "source": []
  },
  {
   "cell_type": "code",
   "execution_count": 44,
   "metadata": {},
   "outputs": [
    {
     "name": "stdout",
     "output_type": "stream",
     "text": [
      "+------------------+----------+-------------------+--------------------+-----------------+-------------+---------------+------------+---------------------+------------------+----------------+----------------------+\n",
      "|PARENT_USER_MSISDN|    MSISDN|      CREATION_DATE|          CREATED_BY|CREATED_BY_MSISDN|SENDER_MSISDN|RECEIVER_MSISDN|SERVICE_TYPE|TRANSACTION_DATE_TIME|TRANSACTION_AMOUNT|DATE_TRANSACTION|SUM_TRANSACTION_AMOUNT|\n",
      "+------------------+----------+-------------------+--------------------+-----------------+-------------+---------------+------------+---------------------+------------------+----------------+----------------------+\n",
      "|        0700137710|0700137710|21/03/2022 10:20:57|PT220321.1020.671345|             null|         null|           null|        null|                 null|              null|            null|                  null|\n",
      "|        0700140561|0700140561|22/03/2022 16:24:29|PT220322.1624.695943|             null|         null|           null|        null|                 null|              null|            null|                  null|\n",
      "|        0757688723|0700488172|23/03/2022 17:28:10|PT210205.1147.247557|       0757688723|         null|           null|        null|                 null|              null|            null|                  null|\n",
      "|        0757688723|0700488301|23/03/2022 12:00:01|PT210205.1147.247557|       0757688723|         null|           null|        null|                 null|              null|            null|                  null|\n",
      "|        0757688723|0700488348|23/03/2022 14:14:23|PT210205.1147.247557|       0757688723|         null|           null|        null|                 null|              null|            null|                  null|\n",
      "|        0757688723|0700488370|23/03/2022 14:57:19|PT210205.1147.247557|       0757688723|         null|           null|        null|                 null|              null|            null|                  null|\n",
      "|        0700488602|0700488602|22/03/2022 09:06:48|PT220322.0906.684739|             null|         null|           null|        null|                 null|              null|            null|                  null|\n",
      "|        0757264380|0700861004|23/03/2022 19:54:46|PT210205.1147.247566|       0757264380|         null|           null|        null|                 null|              null|            null|                  null|\n",
      "|        0789212498|0701012413|23/03/2022 13:12:28|PT190226.1610.344579|       0789212498|         null|           null|        null|                 null|              null|            null|                  null|\n",
      "|        0701225716|0701225716|21/03/2022 15:40:00|PT220321.1540.678616|             null|         null|           null|        null|                 null|              null|            null|                  null|\n",
      "|        0701226349|0701226349|22/03/2022 16:20:41|PT220322.1620.695843|             null|         null|           null|        null|                 null|              null|            null|                  null|\n",
      "|        0701372530|0701372530|21/03/2022 10:03:46|PT220321.1003.670980|             null|         null|           null|        null|                 null|              null|            null|                  null|\n",
      "|        0767490432|0701432794|23/03/2022 12:47:36|PT171226.1819.536516|       0767490432|         null|           null|        null|                 null|              null|            null|                  null|\n",
      "|        0701595095|0701595095|21/03/2022 10:27:34|PT220321.1027.671501|             null|         null|           null|        null|                 null|              null|            null|                  null|\n",
      "|         F_DPICARD|0701657759|23/03/2022 18:37:26|           F_DPICARD|        F_DPICARD|         null|           null|        null|                 null|              null|            null|                  null|\n",
      "|        0701686620|0701686620|22/03/2022 13:13:58|PT220322.1313.690602|             null|         null|           null|        null|                 null|              null|            null|                  null|\n",
      "|        0701693273|0701693273|21/03/2022 11:33:05|PT220321.1133.673239|             null|         null|           null|        null|                 null|              null|            null|                  null|\n",
      "|        0798940765|0701733571|23/03/2022 11:48:01|PT211020.1331.664597|       0798940765|         null|           null|        null|                 null|              null|            null|                  null|\n",
      "|        0701831635|0701831635|21/03/2022 13:32:55|PT220321.1332.675571|             null|         null|           null|        null|                 null|              null|            null|                  null|\n",
      "|        0701956577|0701956577|22/03/2022 10:09:32|PT220322.1009.686036|             null|         null|           null|        null|                 null|              null|            null|                  null|\n",
      "+------------------+----------+-------------------+--------------------+-----------------+-------------+---------------+------------+---------------------+------------------+----------------+----------------------+\n",
      "only showing top 20 rows\n",
      "\n",
      "root\n",
      " |-- PARENT_USER_MSISDN: string (nullable = true)\n",
      " |-- MSISDN: string (nullable = true)\n",
      " |-- CREATION_DATE: string (nullable = true)\n",
      " |-- CREATED_BY: string (nullable = true)\n",
      " |-- CREATED_BY_MSISDN: string (nullable = true)\n",
      " |-- SENDER_MSISDN: string (nullable = true)\n",
      " |-- RECEIVER_MSISDN: string (nullable = true)\n",
      " |-- SERVICE_TYPE: string (nullable = true)\n",
      " |-- TRANSACTION_DATE_TIME: string (nullable = true)\n",
      " |-- TRANSACTION_AMOUNT: string (nullable = true)\n",
      " |-- DATE_TRANSACTION: string (nullable = true)\n",
      " |-- SUM_TRANSACTION_AMOUNT: double (nullable = true)\n",
      "\n",
      "+------------------+----------+-------------------+-----------------+---------------+------------+----------------+----------------------+\n",
      "|PARENT_USER_MSISDN|    MSISDN|      CREATION_DATE|CREATED_BY_MSISDN|RECEIVER_MSISDN|SERVICE_TYPE|DATE_TRANSACTION|SUM_TRANSACTION_AMOUNT|\n",
      "+------------------+----------+-------------------+-----------------+---------------+------------+----------------+----------------------+\n",
      "|        0798320715|0767584949|23/03/2022 15:13:31|       0798320715|     0767584949|     CASHOUT|      23/03/2022|              580400.0|\n",
      "|        0798320715|0767584949|23/03/2022 15:13:31|       0798320715|     0767584949|     CASHOUT|      23/03/2022|              580400.0|\n",
      "|        0798320715|0767584949|23/03/2022 15:13:31|       0798320715|     0767584949|     CASHOUT|      23/03/2022|              580400.0|\n",
      "|        0798320715|0767584949|23/03/2022 15:13:31|       0798320715|     0767584949|     CASHOUT|      23/03/2022|              580400.0|\n",
      "|        0798320715|0767584949|23/03/2022 15:13:31|       0798320715|     0767584949|     CASHOUT|      23/03/2022|              580400.0|\n",
      "|        0798320715|0767584949|23/03/2022 15:13:31|       0798320715|     0767584949|     CASHOUT|      23/03/2022|              580400.0|\n",
      "|        0798320715|0767584949|23/03/2022 15:13:31|       0798320715|     0767584949|     CASHOUT|      23/03/2022|              580400.0|\n",
      "|        0798320715|0767584949|23/03/2022 15:13:31|       0798320715|     0767584949|     CASHOUT|      23/03/2022|              580400.0|\n",
      "|        0798320715|0767584949|23/03/2022 15:13:31|       0798320715|     0767584949|     CASHOUT|      23/03/2022|              580400.0|\n",
      "|        0798320715|0767584949|23/03/2022 15:13:31|       0798320715|     0767584949|     CASHOUT|      23/03/2022|              580400.0|\n",
      "|        0798320715|0767584949|23/03/2022 15:13:31|       0798320715|     0767584949|     CASHOUT|      23/03/2022|              580400.0|\n",
      "|        0798320715|0767584949|23/03/2022 15:13:31|       0798320715|     0767584949|     CASHOUT|      23/03/2022|              580400.0|\n",
      "|        0798320715|0767584949|23/03/2022 15:13:31|       0798320715|     0767584949|     CASHOUT|      23/03/2022|              580400.0|\n",
      "|        0798320715|0767584949|23/03/2022 15:13:31|       0798320715|     0767584949|     CASHOUT|      23/03/2022|              580400.0|\n",
      "|        0798320715|0767584949|23/03/2022 15:13:31|       0798320715|     0767584949|     CASHOUT|      23/03/2022|              580400.0|\n",
      "|        0798320715|0767584949|23/03/2022 15:13:31|       0798320715|     0767584949|     CASHOUT|      23/03/2022|              580400.0|\n",
      "|        0798320715|0767584949|23/03/2022 15:13:31|       0798320715|     0767584949|     CASHOUT|      23/03/2022|              580400.0|\n",
      "|        0798320715|0767584949|23/03/2022 15:13:31|       0798320715|     0767584949|     CASHOUT|      23/03/2022|              580400.0|\n",
      "|        0768280839|0759530999|23/03/2022 14:13:50|       0768280839|     0759530999|     CASHOUT|      23/03/2022|              169500.0|\n",
      "|        0768280839|0759530999|23/03/2022 14:13:50|       0768280839|     0759530999|     CASHOUT|      23/03/2022|              169500.0|\n",
      "+------------------+----------+-------------------+-----------------+---------------+------------+----------------+----------------------+\n",
      "only showing top 20 rows\n",
      "\n"
     ]
    }
   ],
   "source": [
    "df_final = df_subscribers_tmp.join(df_apgl_tmp, df_subscribers_tmp.MSISDN == df_apgl_tmp.RECEIVER_MSISDN, \"left_outer\") \\\n",
    "                    .dropDuplicates()\n",
    "         #           .withColumn(\"TRANSACTION_DATE_TIME\", substring(col(\"TRANSACTION_DATE_TIME\")))\n",
    "    \n",
    "    \n",
    "windowSpec  = Window.partitionBy(\"MSISDN\", \"DATE_TRANSACTION\")\n",
    "\n",
    "df_final = df_final.withColumn(\"SUM_TRANSACTION_AMOUNT\",sum(\"TRANSACTION_AMOUNT\").over(windowSpec)).dropDuplicates()\n",
    "df_final.show()\n",
    "df_final.printSchema()\n",
    "\n",
    "\n",
    "df_final = df_final.filter( (col(\"SUM_TRANSACTION_AMOUNT\") >= 2000) & \n",
    "                            (substring(col(\"CREATION_DATE\"), 1, 10) == \"23/03/2022\")) \\\n",
    "                    .select(\"PARENT_USER_MSISDN\",\"MSISDN\",\"CREATION_DATE\",\"CREATED_BY_MSISDN\",\"RECEIVER_MSISDN\",\n",
    "                            \"SERVICE_TYPE\",\"DATE_TRANSACTION\",\"SUM_TRANSACTION_AMOUNT\")\n",
    "df_final.show()"
   ]
  },
  {
   "cell_type": "code",
   "execution_count": null,
   "metadata": {},
   "outputs": [],
   "source": []
  },
  {
   "cell_type": "code",
   "execution_count": null,
   "metadata": {},
   "outputs": [],
   "source": []
  },
  {
   "cell_type": "code",
   "execution_count": null,
   "metadata": {},
   "outputs": [],
   "source": []
  },
  {
   "cell_type": "code",
   "execution_count": null,
   "metadata": {},
   "outputs": [],
   "source": []
  },
  {
   "cell_type": "code",
   "execution_count": null,
   "metadata": {},
   "outputs": [],
   "source": []
  },
  {
   "cell_type": "code",
   "execution_count": null,
   "metadata": {},
   "outputs": [],
   "source": []
  },
  {
   "cell_type": "code",
   "execution_count": null,
   "metadata": {},
   "outputs": [],
   "source": []
  },
  {
   "cell_type": "code",
   "execution_count": null,
   "metadata": {},
   "outputs": [],
   "source": []
  },
  {
   "cell_type": "code",
   "execution_count": null,
   "metadata": {},
   "outputs": [],
   "source": []
  },
  {
   "cell_type": "code",
   "execution_count": null,
   "metadata": {},
   "outputs": [],
   "source": []
  },
  {
   "cell_type": "code",
   "execution_count": null,
   "metadata": {},
   "outputs": [],
   "source": []
  },
  {
   "cell_type": "code",
   "execution_count": null,
   "metadata": {},
   "outputs": [],
   "source": []
  },
  {
   "cell_type": "code",
   "execution_count": null,
   "metadata": {},
   "outputs": [],
   "source": []
  },
  {
   "cell_type": "code",
   "execution_count": null,
   "metadata": {},
   "outputs": [],
   "source": []
  },
  {
   "cell_type": "code",
   "execution_count": 4,
   "metadata": {},
   "outputs": [
    {
     "name": "stdout",
     "output_type": "stream",
     "text": [
      "+--------------------+--------------------+--------------------+------------------+----------+----------------+-----------------+--------------+---------------+----------+-------------------+-----------+--------+--------------------+------------+-------+----+-----------+--------+--------------+----------+-------------+-------+--------------------+------+---------+--------------+-------------------+--------------------+-----------------+-----------------+---------------+-------------+-------------------+--------------------+--------------------+------------+----------------+------------------+--------------------+--------------------+-------------------+--------------------+--------------------+----------+---------------+----------+------------------------+-------+-------------------+----------+--------------------+------------+----------+------------+----------+-------------+---------+-------------------+------------------+----------------+--------------+-----+--------------+-------------+----------------+--------------+-----------------+-----------+-------------+-----------+--------------------+-----------------+\n",
      "|             USER_ID|          PROFILE_ID|      PARENT_USER_ID|PARENT_USER_MSISDN|    MSISDN|USER_NAME_PREFIX|  USER_FIRST_NAME|USER_LAST_NAME|USER_SHORT_NAME|       DOB|      REGISTERED_ON|   ADDRESS1|ADDRESS2|               STATE|        CITY|COUNTRY| SSN|DESIGNATION|DIVISION|CONTACT_PERSON|CONTACT_NO|EMPLOYEE_CODE|    SEX|           ID_NUMBER|E_MAIL|WEB_LOGIN|ACCOUNT_STATUS|      CREATION_DATE|          CREATED_BY|CREATED_BY_MSISDN|NOMADE_CREATED_BY|LEVEL1_APP_DATE|LEVEL1_APP_BY|    LEVEL2_APP_DATE|       LEVEL2_APP_BY|            OWNER_ID|OWNER_MSISDN|USER_DOMAIN_CODE|USER_CATEGORY_CODE|     USER_GRADE_NAME|         MODIFIED_BY|        MODIFIED_ON|MODIFIED_APPROVED_BY|MODIFIED_APPROVED_ON|DELETED_ON|DEACTIVATION_BY|DEPARTMENT|REGISTRATION_FORM_NUMBER|REMARKS|GEOGRAPHICAL_DOMAIN|GROUP_ROLE|FIRST_TRANSACTION_ON|COMPANY_CODE| USER_TYPE| ACTION_TYPE|AGENT_CODE|CREATION_TYPE|  BULK_ID|IDENTITY_PROOF_TYPE|ADDRESS_PROOF_TYPE|PHOTO_PROOF_TYPE|       ID_TYPE|ID_NO|ID_ISSUE_PLACE|ID_ISSUE_DATE|ID_ISSUE_COUNTRY|ID_EXPIRY_DATE|RESIDENCE_COUNTRY|NATIONALITY|EMPLOYER_NAME|POSTAL_CODE|   SOUSCRIPTION_TYPE|MOBILE_GROUP_ROLE|\n",
      "+--------------------+--------------------+--------------------+------------------+----------+----------------+-----------------+--------------+---------------+----------+-------------------+-----------+--------+--------------------+------------+-------+----+-----------+--------+--------------+----------+-------------+-------+--------------------+------+---------+--------------+-------------------+--------------------+-----------------+-----------------+---------------+-------------+-------------------+--------------------+--------------------+------------+----------------+------------------+--------------------+--------------------+-------------------+--------------------+--------------------+----------+---------------+----------+------------------------+-------+-------------------+----------+--------------------+------------+----------+------------+----------+-------------+---------+-------------------+------------------+----------------+--------------+-----+--------------+-------------+----------------+--------------+-----------------+-----------+-------------+-----------+--------------------+-----------------+\n",
      "|PT220323.1047.698225|TCP1605111853.041463|PT190226.1610.344661|        0789128522|0701598324|             Mr.|         NIENEKAN|         KEITA|           null|01/01/1978|23/03/2022 10:47:48|       0000|    null|              HANNIE|       TABOU|   null|null|       null|    null|          null|      null|         null|GEN_MAL|   KEIT092020046754N|  null|     null|             Y|23/03/2022 10:47:48|PT190226.1610.344661|       0789128522|             null|           null|         null|               null|                null|PT121010.1400.C00862|  0758024878|            SUBS|              SUBS|Subscriber Lite B...|PT220323.1047.698225|23/03/2022 10:47:48|                null|                null|      null|           null|      null|                    null|   null|        OCI Network|      null|                null|        null|SUBSCRIBER|    CREATION|      null|         null|     null|               null|              null|            null|   DRIVER_CARD| null|          null|   09/09/2020|            null|    31/12/2050|               CI|         CI|          LOW|     00BP00|               NOMAD|    SubsBCEAORole|\n",
      "|PT220322.1405.691746|TCP1605111853.041463|PT220322.1405.691746|        0702590191|0702590191|             Mr.|JEAN-CLAUDE APPIA|          BONI|           null|12/06/1993|22/03/2022 14:05:21|     00BP00|    null|        INDETERMINEE|GRAND BASSAM|   null|null|       null|    null|          null|      null|         null|GEN_MAL|    0000298014216OM3|  null|     null|             Y|22/03/2022 14:05:21|PT220322.1405.691746|             null|             null|           null|         null|               null|                null|PT220322.1405.691746|  0702590191|            SUBS|              SUBS|Subscriber Lite B...|PT220322.1405.691746|23/03/2022 14:52:41|                null|                null|      null|           null|      null|                    null|   null|        OCI Network|      null|                null|        null|SUBSCRIBER|MODIFICATION|      null|         null|     null|               null|              null|            null|CERTIFICATE_ID| null|          null|   14/07/2021|            null|    30/07/2022|               CI|         CI|          LOW|        225|USSD SELF REGISTR...|    SubsBCEAORole|\n",
      "|PT220321.1157.673833|TCP1605111853.041463|PT220321.1157.673833|        0788521439|0788521439|            Mrs.|           MAHOUA|         SILUE|           null|01/01/1972|21/03/2022 11:57:37|         00|    null|           TORGOKAHA|     KORHOGO|   null|null|       null|    null|          null|      null|         null|GEN_FEM|      C0047671052OM2|  null|     null|             Y|21/03/2022 11:57:37|PT220321.1157.673833|             null|             null|           null|         null|               null|                null|PT220321.1157.673833|  0788521439|            SUBS|              SUBS|Subscriber Lite B...|PT220321.1157.673833|23/03/2022 10:57:03|                null|                null|      null|           null|      null|                    null|   null|        OCI Network|      null|                null|        null|SUBSCRIBER|MODIFICATION|      null|         null|     null|               null|              null|            null|   NATIONAL_ID| null|          null|   28/08/2009|            null|    27/08/2026|               CI|         CI|          LOW|         00|USSD SELF REGISTR...|    SubsBCEAORole|\n",
      "|PT220321.0942.670547|TCP1605111853.041463|PT220321.0942.670547|        0779759262|0779759262|             Mr.|         TAAFIQUE|       GANIYOU|           null|04/02/1974|21/03/2022 09:42:49| MARIE KORE|    null|                null|     ABIDJAN|   null|null|       null|    null|          null|      null|         null|GEN_MAL|      CO106492482OM2|  null|     null|             Y|21/03/2022 09:42:49|PT220321.0942.670547|             null|             null|           null|         null|               null|                null|PT220321.0942.670547|  0779759262|            SUBS|              SUBS|Subscriber Lite B...|PT220321.0942.670547|23/03/2022 10:40:53|                null|                null|      null|           null|      null|                    null|   null|        OCI Network|      null|                null|        null|SUBSCRIBER|MODIFICATION|      null|         null|     null|               null|              null|            null|   NATIONAL_ID| null|          null|   05/05/2015|            null|    04/05/2025|               CI|         CI|          LOW|      00225|USSD SELF REGISTR...|    SubsBCEAORole|\n",
      "|PT220323.1326.702845|TCP1605111853.041463|PT190416.1024.174113|        0708610955|0778079078|             Mr.|          SOUMELA|      DIOMANDE|           null|28/12/1990|23/03/2022 13:26:33|      TOUBA|    null|                null|       TOUBA|   null|null|       null|    null|          null|      null|         null|GEN_MAL|      CI001881853OM2|  null|     null|             Y|23/03/2022 13:26:33|PT190416.1024.174113|       0708610955|             null|           null|         null|               null|                null|PT121010.1442.C00949|  0758024696|            SUBS|              SUBS|Subscriber Lite B...|PT220323.1326.702845|23/03/2022 13:26:33|                null|                null|      null|           null|      null|                    null|   null|        OCI Network|      null|                null|        null|SUBSCRIBER|    CREATION|      null|         null|     null|               null|              null|            null|   NATIONAL_ID| null|          null|   10/06/2021|            null|    10/06/2031|               CI|         CI|          LOW|         00|               NOMAD|    SubsBCEAORole|\n",
      "|PT220322.1354.691516|TCP1605111853.041463|PT220322.1354.691516|        0701218900|0701218900|             Mr.|        ABDOULAYE|      OUATTARA|           null|01/01/1986|22/03/2022 13:54:47|     00BP00|    null|               ABOBO|     ABIDJAN|   null|null|       null|    null|          null|      null|         null|GEN_MAL|         C0102215777|  null|     null|             Y|22/03/2022 13:54:47|PT220322.1354.691516|             null|             null|           null|         null|               null|                null|PT220322.1354.691516|  0701218900|            SUBS|              SUBS|Subscriber Lite B...|PT220322.1354.691516|23/03/2022 17:19:46|                null|                null|      null|           null|      null|                    null|   null|        OCI Network|      null|                null|        null|SUBSCRIBER|MODIFICATION|      null|         null|     null|               null|              null|            null|   NATIONAL_ID| null|          null|   16/10/2009|            null|    31/03/2022|               CI|         CI|          LOW|        225|USSD SELF REGISTR...|    SubsBCEAORole|\n",
      "|PT220323.1225.700976|TCP1605111853.041463|PT180502.1248.508989|        0788182150|0749789618|             Mr.|        DJOVONMON|          SORO|           null|01/01/1974|23/03/2022 12:25:15|       BP00|    null|         INDETERMINE|     SIRASSO|   null|null|       null|    null|          null|      null|         null|GEN_MAL|      CI000559947OM2|  null|     null|             Y|23/03/2022 12:25:15|PT180502.1248.508989|       0788182150|             null|           null|         null|               null|                null|PT121010.1419.C00904|  0758023722|            SUBS|              SUBS|Subscriber Lite B...|PT220323.1225.700976|23/03/2022 12:25:15|                null|                null|      null|           null|      null|                    null|   null|        OCI Network|      null|                null|        null|SUBSCRIBER|    CREATION|      null|         null|     null|               null|              null|            null|   NATIONAL_ID| null|          null|   26/10/2020|            null|    26/10/2030|               CI|         CI|          LOW|      00225|               NOMAD|    SubsBCEAORole|\n",
      "|PT220323.1804.709559|TCP1605111853.041463|PT211021.1001.680990|        0798418729|0704760928|            Mrs.|  AMENAN MARIAMAN|       KOMENAN|           null|10/08/1977|23/03/2022 18:04:38|    ABIDJAN|    null|                null|      PRIKRO|   null|null|       null|    null|          null|      null|         null|GEN_FEM|           002593595|  null|     null|             Y|23/03/2022 18:04:38|PT211021.1001.680990|       0798418729|             null|           null|         null|               null|                null|PT200327.1501.642777|  0788280641|            SUBS|              SUBS|Subscriber Lite B...|PT220323.1804.709559|23/03/2022 18:04:38|                null|                null|      null|           null|      null|                    null|   null|        OCI Network|      null|                null|        null|SUBSCRIBER|    CREATION|      null|         null|     null|               null|              null|            null|   NATIONAL_ID| null|          null|   03/12/2021|            null|    03/12/2031|               CI|         CI|          LOW|         00|               NOMAD|    SubsBCEAORole|\n",
      "|PT220323.1557.706715|TCP1605111853.041463|PT210713.1640.763530|        0758763166|0779342969|            Mrs.|          BERTINE|          ZRAN|           null|01/03/1956|23/03/2022 15:57:56|        MAN|    null|                null|         MAN|   null|null|       null|    null|          null|      null|         null|GEN_FEM|      C0089055276OM2|  null|     null|             Y|23/03/2022 15:57:56|PT210713.1640.763530|       0758763166|             null|           null|         null|               null|                null|PT180824.1749.456189|  0788766420|            SUBS|              SUBS|Subscriber Lite B...|PT220323.1557.706715|23/03/2022 15:57:56|                null|                null|      null|           null|      null|                    null|   null|        OCI Network|      null|                null|        null|SUBSCRIBER|    CREATION|      null|         null|     null|               null|              null|            null|   NATIONAL_ID| null|          null|   23/03/2022|            null|    23/03/2026|               CI|         CI|          LOW|       0000|               NOMAD|    SubsBCEAORole|\n",
      "|PT220323.1042.698087|TCP1605111853.041463|PT220204.1436.941033|        0701566839|0758237398|             Mr.|        TIA ALAIN|          ZRAN|           null|15/12/1995|23/03/2022 10:42:50|    BLAPLEU|    null|                null| PODIAGOUINE|   null|null|       null|    null|          null|      null|         null|GEN_MAL| OM3TIA062018036791A|  null|     null|             Y|23/03/2022 10:42:50|PT220204.1436.941033|       0701566839|             null|           null|         null|               null|                null|PT180824.1749.456189|  0788766420|            SUBS|              SUBS|Subscriber Lite B...|PT220323.1042.698087|23/03/2022 10:42:50|                null|                null|      null|           null|      null|                    null|   null|        OCI Network|      null|                null|        null|SUBSCRIBER|    CREATION|      null|         null|     null|               null|              null|            null|   DRIVER_CARD| null|          null|   24/08/2020|            null|    24/08/2025|               CI|         CI|          LOW|       2000|               NOMAD|    SubsBCEAORole|\n",
      "|PT220323.1755.709292|TCP1605111853.041463|PT220204.1436.941106|        0759339090|0768963086|             Mr.|          DIAKITE|         LADJI|           null|19/09/1979|23/03/2022 17:55:29|         00|    null|             DOHOUAN|     ABOISSO|   null|null|       null|    null|          null|      null|         null|GEN_MAL|LADJI011623008372...|  null|     null|             Y|23/03/2022 17:55:29|PT220204.1436.941106|       0759339090|             null|           null|         null|               null|                null|PT180824.1749.456189|  0788766420|            SUBS|              SUBS|Subscriber Lite B...|PT220323.1755.709292|23/03/2022 17:55:29|                null|                null|      null|           null|      null|                    null|   null|        OCI Network|      null|                null|        null|SUBSCRIBER|    CREATION|      null|         null|     null|               null|              null|            null|   DRIVER_CARD| null|          null|   25/07/2016|            null|    31/12/2050|               CI|         CI|          LOW|        225|               NOMAD|    SubsBCEAORole|\n",
      "|PT151001.1048.652403|TCP0806130826.000001|PT130408.1412.C00606|        0759573847|0759493680|             Mr.|      Tiegbe Eric|        Drigbe|           null|12/01/1995|01/10/2015 10:48:07|       0000|Koumassi|                null|     Abidjan|   null|null|       null|    null|          null|      null|         null|GEN_MAL|           08063233A|  null|     null|             Y|01/10/2015 10:48:07|PT130408.1412.C00606|       0759573847|       0759573847|           null|         null|               null|                null|PT121010.1419.C00904|  0758023722|            SUBS|              SUBS|   Normal Subscriber|PT210518.0850.127397|23/03/2022 15:12:10|                null|                null|      null|           null|      null|                    null|   null|        OCI Network|      null|                null|        null|SUBSCRIBER|MODIFICATION|      null|         null|SUBS_ROLE|               null|              null|            null|          null| null|          null|         null|            null|          null|               CI|       null|      LowRisk|       null|            WEB BULK|        SUBS_ROLE|\n",
      "|PT220323.1117.699114|TCP1605111853.041463|PT180705.1100.151774|        0707808507|0703060088|             Mr.|           DRISSA|  DIARRASSOUBA|           null|20/10/2001|23/03/2022 11:17:35|   00 BP 00| ABIDJAN|ACTIVATION BO 230...|     ABIDJAN|   null|null|       null|    null|          null|      null|         null|GEN_MAL|     CI001462290OM02|  null|     null|             Y|23/03/2022 11:17:35|PT180705.1100.151774|       0707808507|             null|           null|         null|23/03/2022 11:17:35|PT180705.1100.151774|      CIAO0000147355|  0708899881|            SUBS|              SUBS|Subscriber Lite B...|PT180705.1100.151774|23/03/2022 11:17:35|                null|                null|      null|           null|      null|    HOMO BO 230320221116|   null|        OCI Network|      null|                null|        null|SUBSCRIBER|  ACTIVATION|      null|         null|     null|               null|              null|            null|          null| null|          null|         null|            null|          null|             null|       null|         null|       null|           WEB TANGO|    SubsBCEAORole|\n",
      "|PT220323.1044.698155|TCP1605111853.041463|PT210205.1147.247545|        0748255974|0701020611|             Mr.|   KLAROU SYLVAIN|         POUHE|           null|04/06/1977|23/03/2022 10:44:58|    KORHOGO|    null|             AKOUEDO|     ABIDJAN|   null|null|       null|    null|          null|      null|         null|GEN_MAL|      C0047362505OM2|  null|     null|             Y|23/03/2022 10:44:58|PT210205.1147.247545|       0748255974|             null|           null|         null|               null|                null|PT121010.1404.C00871|  0758024371|            SUBS|              SUBS|Subscriber Lite B...|PT220323.1044.698155|23/03/2022 10:44:58|                null|                null|      null|           null|      null|                    null|   null|        OCI Network|      null|                null|        null|SUBSCRIBER|    CREATION|      null|         null|     null|               null|              null|            null|   NATIONAL_ID| null|          null|   27/08/2013|            null|    26/08/2023|               CI|         CI|          LOW|       0000|               NOMAD|    SubsBCEAORole|\n",
      "|PT220323.1119.699257|TCP1605111853.041463|PT190426.1020.268915|        0767086639|0703936759|             Mr.|       LASME JEAN|          SESS|           null|27/03/1972|23/03/2022 11:19:58|     00BP00|    null|        INDETERMINER|       DABOU|   null|null|       null|    null|          null|      null|         null|GEN_MAL|      C0089187601DOM|  null|     null|             Y|23/03/2022 11:19:58|PT190426.1020.268915|       0767086639|             null|           null|         null|               null|                null|PT121010.1323.C00800|  0708438168|            SUBS|              SUBS|Subscriber Lite B...|PT220323.1119.699257|23/03/2022 11:19:58|                null|                null|      null|           null|      null|                    null|   null|        OCI Network|      null|                null|        null|SUBSCRIBER|    CREATION|      null|         null|     null|               null|              null|            null|   NATIONAL_ID| null|          null|   04/11/2009|            null|    31/12/2022|               CI|         CI|          LOW|        225|               NOMAD|    SubsBCEAORole|\n",
      "|PT220323.1326.702835|TCP1605111853.041463|PT210811.1607.281628|        0767483552|0779962462|             Mr.|    KOUADIO DENIS|           YAO|           null|16/10/1956|23/03/2022 13:26:18|BELLE VILLE|    null|                null|      BOUAKE|   null|null|       null|    null|          null|      null|         null|GEN_MAL|          0022564782|  null|     null|             Y|23/03/2022 13:26:18|PT210811.1607.281628|       0767483552|             null|           null|         null|               null|                null|PT121010.1342.C00836|  0758025342|            SUBS|              SUBS|Subscriber Lite B...|PT220323.1326.702835|23/03/2022 13:26:18|                null|                null|      null|           null|      null|                    null|   null|        OCI Network|      null|                null|        null|SUBSCRIBER|    CREATION|      null|         null|     null|               null|              null|            null|   NATIONAL_ID| null|          null|   08/06/2009|            null|    07/06/2022|               CI|         CI|          LOW|      00225|               NOMAD|    SubsBCEAORole|\n",
      "|PT220323.1805.709573|TCP1605111853.041463|PT190829.1639.296798|        0788931431|0798050495|            Mrs.|         ABIBATOU|        SAMAKE|           null|20/10/1989|23/03/2022 18:05:06|      TANDA|    null|            COMMERCE|       TANDA|   null|null|       null|    null|          null|      null|         null|GEN_FEM|  CI000471826OM02OM2|  null|     null|             Y|23/03/2022 18:05:06|PT190829.1639.296798|       0788931431|             null|           null|         null|               null|                null|PT121010.1349.C00844|  0758025240|            SUBS|              SUBS|Subscriber Lite B...|PT220323.1805.709573|23/03/2022 18:05:06|                null|                null|      null|           null|      null|                    null|   null|        OCI Network|      null|                null|        null|SUBSCRIBER|    CREATION|      null|         null|     null|               null|              null|            null|   NATIONAL_ID| null|          null|   26/10/2020|            null|    26/10/2030|               CI|         CI|          LOW|       0000|               NOMAD|    SubsBCEAORole|\n",
      "|PT220323.1325.702811|TCP1605111853.041463|PT210426.1340.753012|        0767724512|0798199531|             Mr.|          KOUASSI|     N GUESSAN|           null|01/01/1971|23/03/2022 13:25:21|   COMMERCE|    null|                null|    DIMBOKRO|   null|null|       null|    null|          null|      null|         null|GEN_MAL|      C0054576184OM3|  null|     null|             Y|23/03/2022 13:25:21|PT210426.1340.753012|       0767724512|             null|           null|         null|               null|                null|PT121010.1355.C00854|  0758024956|            SUBS|              SUBS|Subscriber Lite B...|PT220323.1325.702811|23/03/2022 13:25:21|                null|                null|      null|           null|      null|                    null|   null|        OCI Network|      null|                null|        null|SUBSCRIBER|    CREATION|      null|         null|     null|               null|              null|            null|   NATIONAL_ID| null|          null|   01/10/2009|            null|    31/03/2022|               CI|         CI|          LOW|     00BP00|               NOMAD|    SubsBCEAORole|\n",
      "|PT220323.1222.700896|TCP1605111853.041463|PT180207.1106.753708|        0787790406|0788545056|             Mr.|             ERIC|       YAMEOGO|           null|19/09/1996|23/03/2022 12:22:58|     00BP00|    null|                null|     ABIDJAN|   null|null|       null|    null|          null|      null|         null|GEN_MAL|YAME011824129246E...|  null|     null|             Y|23/03/2022 12:22:58|PT180207.1106.753708|       0787790406|             null|           null|         null|               null|                null|PT121010.1259.C00758|  0708376099|            SUBS|              SUBS|Subscriber Lite B...|PT220323.1222.700896|23/03/2022 12:22:58|                null|                null|      null|           null|      null|                    null|   null|        OCI Network|      null|                null|        null|SUBSCRIBER|    CREATION|      null|         null|     null|               null|              null|            null|   DRIVER_CARD| null|          null|   01/02/2018|            null|    31/12/2050|               CI|         CI|          LOW|      00225|               NOMAD|    SubsBCEAORole|\n",
      "|PT220321.1242.674777|TCP1605111853.041463|PT220321.1242.674777|        0789580927|0789580927|             Mr.|         ISSOUFOU|     OUEDRAOGO|           null|02/01/1975|21/03/2022 12:42:54|  BIANKOUMA|    null|                null|   BIANKOUMA|   null|null|       null|    null|          null|      null|         null|GEN_MAL|BF384001001007232792|  null|     null|             S|21/03/2022 12:42:54|PT220321.1242.674777|             null|             null|           null|         null|               null|                null|PT220321.1242.674777|  0789580927|            SUBS|              SUBS|Subscriber Lite B...|              SYSTEM|23/03/2022 10:12:35|                null|                null|      null|           null|      null|                    null|   null|        OCI Network|      null|                null|        null|SUBSCRIBER|MODIFICATION|      null|         null|     null|               null|              null|            null| CONSULAR_CARD| null|          null|   23/02/2021|            null|    22/02/2026|               BF|         BF|          LOW|       0000|USSD SELF REGISTR...|    SubsBCEAORole|\n",
      "+--------------------+--------------------+--------------------+------------------+----------+----------------+-----------------+--------------+---------------+----------+-------------------+-----------+--------+--------------------+------------+-------+----+-----------+--------+--------------+----------+-------------+-------+--------------------+------+---------+--------------+-------------------+--------------------+-----------------+-----------------+---------------+-------------+-------------------+--------------------+--------------------+------------+----------------+------------------+--------------------+--------------------+-------------------+--------------------+--------------------+----------+---------------+----------+------------------------+-------+-------------------+----------+--------------------+------------+----------+------------+----------+-------------+---------+-------------------+------------------+----------------+--------------+-----+--------------+-------------+----------------+--------------+-----------------+-----------+-------------+-----------+--------------------+-----------------+\n",
      "only showing top 20 rows\n",
      "\n",
      "root\n",
      " |-- USER_ID: string (nullable = true)\n",
      " |-- PROFILE_ID: string (nullable = true)\n",
      " |-- PARENT_USER_ID: string (nullable = true)\n",
      " |-- PARENT_USER_MSISDN: string (nullable = true)\n",
      " |-- MSISDN: string (nullable = true)\n",
      " |-- USER_NAME_PREFIX: string (nullable = true)\n",
      " |-- USER_FIRST_NAME: string (nullable = true)\n",
      " |-- USER_LAST_NAME: string (nullable = true)\n",
      " |-- USER_SHORT_NAME: string (nullable = true)\n",
      " |-- DOB: string (nullable = true)\n",
      " |-- REGISTERED_ON: string (nullable = true)\n",
      " |-- ADDRESS1: string (nullable = true)\n",
      " |-- ADDRESS2: string (nullable = true)\n",
      " |-- STATE: string (nullable = true)\n",
      " |-- CITY: string (nullable = true)\n",
      " |-- COUNTRY: string (nullable = true)\n",
      " |-- SSN: string (nullable = true)\n",
      " |-- DESIGNATION: string (nullable = true)\n",
      " |-- DIVISION: string (nullable = true)\n",
      " |-- CONTACT_PERSON: string (nullable = true)\n",
      " |-- CONTACT_NO: string (nullable = true)\n",
      " |-- EMPLOYEE_CODE: string (nullable = true)\n",
      " |-- SEX: string (nullable = true)\n",
      " |-- ID_NUMBER: string (nullable = true)\n",
      " |-- E_MAIL: string (nullable = true)\n",
      " |-- WEB_LOGIN: string (nullable = true)\n",
      " |-- ACCOUNT_STATUS: string (nullable = true)\n",
      " |-- CREATION_DATE: string (nullable = true)\n",
      " |-- CREATED_BY: string (nullable = true)\n",
      " |-- CREATED_BY_MSISDN: string (nullable = true)\n",
      " |-- NOMADE_CREATED_BY: string (nullable = true)\n",
      " |-- LEVEL1_APP_DATE: string (nullable = true)\n",
      " |-- LEVEL1_APP_BY: string (nullable = true)\n",
      " |-- LEVEL2_APP_DATE: string (nullable = true)\n",
      " |-- LEVEL2_APP_BY: string (nullable = true)\n",
      " |-- OWNER_ID: string (nullable = true)\n",
      " |-- OWNER_MSISDN: string (nullable = true)\n",
      " |-- USER_DOMAIN_CODE: string (nullable = true)\n",
      " |-- USER_CATEGORY_CODE: string (nullable = true)\n",
      " |-- USER_GRADE_NAME: string (nullable = true)\n",
      " |-- MODIFIED_BY: string (nullable = true)\n",
      " |-- MODIFIED_ON: string (nullable = true)\n",
      " |-- MODIFIED_APPROVED_BY: string (nullable = true)\n",
      " |-- MODIFIED_APPROVED_ON: string (nullable = true)\n",
      " |-- DELETED_ON: string (nullable = true)\n",
      " |-- DEACTIVATION_BY: string (nullable = true)\n",
      " |-- DEPARTMENT: string (nullable = true)\n",
      " |-- REGISTRATION_FORM_NUMBER: string (nullable = true)\n",
      " |-- REMARKS: string (nullable = true)\n",
      " |-- GEOGRAPHICAL_DOMAIN: string (nullable = true)\n",
      " |-- GROUP_ROLE: string (nullable = true)\n",
      " |-- FIRST_TRANSACTION_ON: string (nullable = true)\n",
      " |-- COMPANY_CODE: string (nullable = true)\n",
      " |-- USER_TYPE: string (nullable = true)\n",
      " |-- ACTION_TYPE: string (nullable = true)\n",
      " |-- AGENT_CODE: string (nullable = true)\n",
      " |-- CREATION_TYPE: string (nullable = true)\n",
      " |-- BULK_ID: string (nullable = true)\n",
      " |-- IDENTITY_PROOF_TYPE: string (nullable = true)\n",
      " |-- ADDRESS_PROOF_TYPE: string (nullable = true)\n",
      " |-- PHOTO_PROOF_TYPE: string (nullable = true)\n",
      " |-- ID_TYPE: string (nullable = true)\n",
      " |-- ID_NO: string (nullable = true)\n",
      " |-- ID_ISSUE_PLACE: string (nullable = true)\n",
      " |-- ID_ISSUE_DATE: string (nullable = true)\n",
      " |-- ID_ISSUE_COUNTRY: string (nullable = true)\n",
      " |-- ID_EXPIRY_DATE: string (nullable = true)\n",
      " |-- RESIDENCE_COUNTRY: string (nullable = true)\n",
      " |-- NATIONALITY: string (nullable = true)\n",
      " |-- EMPLOYER_NAME: string (nullable = true)\n",
      " |-- POSTAL_CODE: string (nullable = true)\n",
      " |-- SOUSCRIPTION_TYPE: string (nullable = true)\n",
      " |-- MOBILE_GROUP_ROLE: string (nullable = true)\n",
      "\n"
     ]
    }
   ],
   "source": [
    "df_subscribers = spark.read \\\n",
    "      .option(\"delimiter\", \";\") \\\n",
    "      .option(\"header\", \"true\") \\\n",
    "      .csv(\"/Users/youssouf/Downloads/FICHIER_SUBSCRIBERS_20220323.csv\") \\\n",
    "      .dropDuplicates()\n",
    "\n",
    "df_subscribers.show()\n",
    "df_subscribers.printSchema()"
   ]
  },
  {
   "cell_type": "code",
   "execution_count": 5,
   "metadata": {},
   "outputs": [
    {
     "name": "stdout",
     "output_type": "stream",
     "text": [
      "+--------------------+------------------+----------+--------------------+-------------------+--------------------+-----------------+\n",
      "|      PARENT_USER_ID|PARENT_USER_MSISDN|    MSISDN|     USER_GRADE_NAME|      CREATION_DATE|          CREATED_BY|CREATED_BY_MSISDN|\n",
      "+--------------------+------------------+----------+--------------------+-------------------+--------------------+-----------------+\n",
      "|PT190226.1610.344661|        0789128522|0701598324|Subscriber Lite B...|23/03/2022 10:47:48|PT190226.1610.344661|       0789128522|\n",
      "|PT220322.1405.691746|        0702590191|0702590191|Subscriber Lite B...|22/03/2022 14:05:21|PT220322.1405.691746|             null|\n",
      "|PT220321.1157.673833|        0788521439|0788521439|Subscriber Lite B...|21/03/2022 11:57:37|PT220321.1157.673833|             null|\n",
      "|PT220321.0942.670547|        0779759262|0779759262|Subscriber Lite B...|21/03/2022 09:42:49|PT220321.0942.670547|             null|\n",
      "|PT190416.1024.174113|        0708610955|0778079078|Subscriber Lite B...|23/03/2022 13:26:33|PT190416.1024.174113|       0708610955|\n",
      "|PT220322.1354.691516|        0701218900|0701218900|Subscriber Lite B...|22/03/2022 13:54:47|PT220322.1354.691516|             null|\n",
      "|PT180502.1248.508989|        0788182150|0749789618|Subscriber Lite B...|23/03/2022 12:25:15|PT180502.1248.508989|       0788182150|\n",
      "|PT211021.1001.680990|        0798418729|0704760928|Subscriber Lite B...|23/03/2022 18:04:38|PT211021.1001.680990|       0798418729|\n",
      "|PT210713.1640.763530|        0758763166|0779342969|Subscriber Lite B...|23/03/2022 15:57:56|PT210713.1640.763530|       0758763166|\n",
      "|PT220204.1436.941033|        0701566839|0758237398|Subscriber Lite B...|23/03/2022 10:42:50|PT220204.1436.941033|       0701566839|\n",
      "|PT220204.1436.941106|        0759339090|0768963086|Subscriber Lite B...|23/03/2022 17:55:29|PT220204.1436.941106|       0759339090|\n",
      "|PT130408.1412.C00606|        0759573847|0759493680|   Normal Subscriber|01/10/2015 10:48:07|PT130408.1412.C00606|       0759573847|\n",
      "|PT180705.1100.151774|        0707808507|0703060088|Subscriber Lite B...|23/03/2022 11:17:35|PT180705.1100.151774|       0707808507|\n",
      "|PT210205.1147.247545|        0748255974|0701020611|Subscriber Lite B...|23/03/2022 10:44:58|PT210205.1147.247545|       0748255974|\n",
      "|PT190426.1020.268915|        0767086639|0703936759|Subscriber Lite B...|23/03/2022 11:19:58|PT190426.1020.268915|       0767086639|\n",
      "|PT210811.1607.281628|        0767483552|0779962462|Subscriber Lite B...|23/03/2022 13:26:18|PT210811.1607.281628|       0767483552|\n",
      "|PT190829.1639.296798|        0788931431|0798050495|Subscriber Lite B...|23/03/2022 18:05:06|PT190829.1639.296798|       0788931431|\n",
      "|PT210426.1340.753012|        0767724512|0798199531|Subscriber Lite B...|23/03/2022 13:25:21|PT210426.1340.753012|       0767724512|\n",
      "|PT180207.1106.753708|        0787790406|0788545056|Subscriber Lite B...|23/03/2022 12:22:58|PT180207.1106.753708|       0787790406|\n",
      "|PT220321.1242.674777|        0789580927|0789580927|Subscriber Lite B...|21/03/2022 12:42:54|PT220321.1242.674777|             null|\n",
      "+--------------------+------------------+----------+--------------------+-------------------+--------------------+-----------------+\n",
      "only showing top 20 rows\n",
      "\n"
     ]
    }
   ],
   "source": [
    "df_subscribers_tmp = df_subscribers.select(\"PARENT_USER_ID\",\"PARENT_USER_MSISDN\", \"MSISDN\", \"USER_GRADE_NAME\",\"CREATION_DATE\", \"CREATED_BY\", \"CREATED_BY_MSISDN\")\n",
    "df_subscribers_tmp.show()\n"
   ]
  },
  {
   "cell_type": "code",
   "execution_count": 31,
   "metadata": {},
   "outputs": [
    {
     "name": "stdout",
     "output_type": "stream",
     "text": [
      "+----------+-------------------+--------------------+--------------------+----------+---------------+-------------------+\n",
      "|    MSISDN|        MODIFIED_ON|MODIFIED_APPROVED_BY|MODIFIED_APPROVED_ON|DELETED_ON|DEACTIVATION_BY|      CREATION_DATE|\n",
      "+----------+-------------------+--------------------+--------------------+----------+---------------+-------------------+\n",
      "|0779759262|23/03/2022 10:40:53|                null|                null|      null|           null|21/03/2022 09:42:49|\n",
      "+----------+-------------------+--------------------+--------------------+----------+---------------+-------------------+\n",
      "\n"
     ]
    }
   ],
   "source": [
    "df_subscribers.filter(col(\"MSISDN\") == \"0779759262\").select(\"MSISDN\", \"MODIFIED_ON\", \"MODIFIED_APPROVED_BY\", \n",
    "                                                            \"MODIFIED_APPROVED_ON\", \"DELETED_ON\", \"DEACTIVATION_BY\",\n",
    "                                                            \"CREATION_DATE\").show()"
   ]
  },
  {
   "cell_type": "code",
   "execution_count": 32,
   "metadata": {},
   "outputs": [
    {
     "name": "stdout",
     "output_type": "stream",
     "text": [
      "+--------------+------------------+------+---------------+-------------+----------+-----------------+\n",
      "|PARENT_USER_ID|PARENT_USER_MSISDN|MSISDN|USER_GRADE_NAME|CREATION_DATE|CREATED_BY|CREATED_BY_MSISDN|\n",
      "+--------------+------------------+------+---------------+-------------+----------+-----------------+\n",
      "+--------------+------------------+------+---------------+-------------+----------+-----------------+\n",
      "\n"
     ]
    }
   ],
   "source": [
    "df_subscribers_tmp.filter(col(\"CREATED_BY_MSISDN\").startswith(\"event\")).show()"
   ]
  },
  {
   "cell_type": "code",
   "execution_count": null,
   "metadata": {},
   "outputs": [],
   "source": []
  },
  {
   "cell_type": "code",
   "execution_count": null,
   "metadata": {},
   "outputs": [],
   "source": []
  },
  {
   "cell_type": "code",
   "execution_count": null,
   "metadata": {},
   "outputs": [],
   "source": []
  },
  {
   "cell_type": "markdown",
   "metadata": {},
   "source": [
    "## Recrutement"
   ]
  },
  {
   "cell_type": "code",
   "execution_count": 18,
   "metadata": {},
   "outputs": [
    {
     "name": "stdout",
     "output_type": "stream",
     "text": [
      "+----------------+-----------------+--------------+--------------------+--------------------+\n",
      "|NUMERO DU COMPTE|STATUT DU DOSSIER|MOTIF DU REJET|      NOM DE L'AGENT|DATE DE SOUSCRIPTION|\n",
      "+----------------+-----------------+--------------+--------------------+--------------------+\n",
      "|      0757900349|           VALIDE|          null|ACTION T122 CAN 2...|    23/03/2022 17:22|\n",
      "|      0788309043|           VALIDE|          null|ACTION PMO T1 202...|    23/03/2022 15:35|\n",
      "|      0779350752|           VALIDE|          null|REGHI PMOT1 - pmo...|    23/03/2022 12:04|\n",
      "|      0778904975|           VALIDE|          null|PDVL AMANDA PREST...|    23/03/2022 10:58|\n",
      "|      0701009493|           VALIDE|          null|SEKONGO TINNILO S...|    24/03/2022 18:31|\n",
      "|      0701718242|           VALIDE|          null|SEDION  KASSOUM -...|    24/03/2022 17:36|\n",
      "|      0788725411|           VALIDE|          null|SORO   SEYDOU - p...|    24/03/2022 17:25|\n",
      "|      0747050278|           VALIDE|          null|PCU Seller PCU Se...|    24/03/2022 16:47|\n",
      "|      0768616639|           VALIDE|          null|NDEDE AYEMOU - am...|    24/03/2022 16:26|\n",
      "|      0778819079|           VALIDE|          null|ACTION 2AS  RECRU...|    24/03/2022 15:14|\n",
      "|      0767622364|           VALIDE|          null|PDVL AMANDA PREST...|    24/03/2022 13:28|\n",
      "|      0703564318|           VALIDE|          null|AKAKPO VALERIE - ...|    24/03/2022 12:08|\n",
      "|      0748349625|           VALIDE|          null|PDVL PRIMO SERVIC...|    24/03/2022 11:12|\n",
      "|      0769776388|           VALIDE|          null|SEKONGO TINNILO S...|    24/03/2022 09:22|\n",
      "|      0757108381|           VALIDE|          null|HPMO T1-21 KTC KT...|    25/03/2022 18:32|\n",
      "|      0701661699|           VALIDE|          null|PCU Seller PCU Se...|    25/03/2022 16:53|\n",
      "|      0769551117|           VALIDE|          null|ACTION 2AS  EVENT...|    25/03/2022 15:59|\n",
      "|      0778890240|           VALIDE|          null|PMO ACTION - pmot...|    25/03/2022 12:32|\n",
      "|      0768150714|           VALIDE|          null|MICHELLE AKERENI ...|    25/03/2022 10:23|\n",
      "|      0701160526|           VALIDE|          null|PCU Seller PCU Se...|    25/03/2022 09:56|\n",
      "+----------------+-----------------+--------------+--------------------+--------------------+\n",
      "only showing top 20 rows\n",
      "\n",
      "root\n",
      " |-- NUMERO DU COMPTE: string (nullable = true)\n",
      " |-- STATUT DU DOSSIER: string (nullable = true)\n",
      " |-- MOTIF DU REJET: string (nullable = true)\n",
      " |-- NOM DE L'AGENT: string (nullable = true)\n",
      " |-- DATE DE SOUSCRIPTION: string (nullable = true)\n",
      "\n"
     ]
    }
   ],
   "source": [
    "df_rejets = spark.read \\\n",
    "      .option(\"delimiter\", \";\") \\\n",
    "      .option(\"header\", \"true\") \\\n",
    "      .csv(\"/Users/youssouf/Downloads/REJETS_NOMAD.csv\") \\\n",
    "      .dropDuplicates()\n",
    "\n",
    "df_rejets.show()\n",
    "df_rejets.printSchema()"
   ]
  },
  {
   "cell_type": "code",
   "execution_count": 19,
   "metadata": {},
   "outputs": [
    {
     "name": "stdout",
     "output_type": "stream",
     "text": [
      "+----------------+-----------------+-----------------+--------------------+--------------------+\n",
      "|NUMERO DU COMPTE|STATUT DU DOSSIER|   MOTIF DU REJET|      NOM DE L'AGENT|DATE DE SOUSCRIPTION|\n",
      "+----------------+-----------------+-----------------+--------------------+--------------------+\n",
      "|      0768963063|         INVALIDE|DOUBLON COMPTE OM|ACTION 2AS  EVENT...|    23/03/2022 16:08|\n",
      "|      0778525949|         INVALIDE|    PAS IDENTIFIE|SORO   SEYDOU - p...|    23/03/2022 17:33|\n",
      "|      0769601307|         INVALIDE|    PAS IDENTIFIE|ETTIEN  HUBERSON ...|    23/03/2022 13:27|\n",
      "|      0787833631|         INVALIDE|    PAS IDENTIFIE|ACTION T122 CAN I...|    23/03/2022 19:39|\n",
      "|      0703478680|         INVALIDE|    PAS IDENTIFIE|ACTION 2AS  RECRU...|    23/03/2022 17:22|\n",
      "|      0708127898|         INVALIDE|    PAS IDENTIFIE|PCU Seller PCU Se...|    23/03/2022 15:04|\n",
      "|      0749361678|         INVALIDE|DOUBLON COMPTE OM|Kouassi Affoue Es...|    24/03/2022 17:09|\n",
      "|      0777286630|         INVALIDE|DOUBLON COMPTE OM|ATTIEN FRANCK - p...|    24/03/2022 12:23|\n",
      "|      0789261643|         INVALIDE|DOUBLON COMPTE OM|SORO   SEYDOU - p...|    24/03/2022 09:46|\n",
      "|      0798741074|         INVALIDE|    PAS IDENTIFIE|ACTION PMO T1 202...|    24/03/2022 17:15|\n",
      "|      0759891426|         INVALIDE|    PAS IDENTIFIE|yoro bohui rodrig...|    24/03/2022 17:00|\n",
      "|      0797353752|         INVALIDE|    PAS IDENTIFIE|ACTION PMO T1 202...|    24/03/2022 16:06|\n",
      "|      0700484705|         INVALIDE|    PAS IDENTIFIE|ACTION PMO T1 202...|    24/03/2022 15:33|\n",
      "|      0704460963|         INVALIDE|    PAS IDENTIFIE|PCU Seller PCU Se...|    24/03/2022 14:58|\n",
      "|      0701748395|         INVALIDE|    PAS IDENTIFIE|MC ACTION PMO T1-...|    24/03/2022 14:38|\n",
      "|      0704060798|         INVALIDE|    PAS IDENTIFIE|ATTIEN FRANCK - p...|    24/03/2022 12:15|\n",
      "|      0777473718|         INVALIDE|    PAS IDENTIFIE|Eponou Stephanie ...|    24/03/2022 11:17|\n",
      "|      0798511228|         INVALIDE|    PAS IDENTIFIE|ACTION ISS RECRU ...|    24/03/2022 09:47|\n",
      "|      0702640594|         INVALIDE|    PAS IDENTIFIE|IGP ACTION COVER ...|    25/03/2022 15:23|\n",
      "|      0700481120|         INVALIDE|    PAS IDENTIFIE|ACTION PMO T1 202...|    25/03/2022 15:10|\n",
      "+----------------+-----------------+-----------------+--------------------+--------------------+\n",
      "only showing top 20 rows\n",
      "\n"
     ]
    }
   ],
   "source": [
    "df_rejets.filter(col(\"STATUT DU DOSSIER\") == \"INVALIDE\").show()"
   ]
  },
  {
   "cell_type": "code",
   "execution_count": 21,
   "metadata": {},
   "outputs": [],
   "source": [
    "    df_rejets = df_rejets.withColumn(\"DATE\", substring(col(\"DATE DE SOUSCRIPTION\"), 1, 10))"
   ]
  },
  {
   "cell_type": "code",
   "execution_count": 22,
   "metadata": {},
   "outputs": [
    {
     "name": "stdout",
     "output_type": "stream",
     "text": [
      "+----------+\n",
      "|      DATE|\n",
      "+----------+\n",
      "|27/03/2022|\n",
      "|25/03/2022|\n",
      "|26/03/2022|\n",
      "|23/03/2022|\n",
      "|28/03/2022|\n",
      "|24/03/2022|\n",
      "+----------+\n",
      "\n"
     ]
    }
   ],
   "source": [
    "df_rejets.select(\"DATE\").distinct().show(100)c"
   ]
  },
  {
   "cell_type": "code",
   "execution_count": null,
   "metadata": {},
   "outputs": [],
   "source": [
    "   var df_subscribers = spark.read\n",
    "        .option(\"delimiter\", \";\")\n",
    "        .option(\"header\", \"true\")\n",
    "        .csv(s\"/home/random/subscribers/FICHIER_SUBSCRIBERS_20220401.csv\")\n",
    "        .dropDuplicates()"
   ]
  },
  {
   "cell_type": "code",
   "execution_count": null,
   "metadata": {},
   "outputs": [],
   "source": []
  },
  {
   "cell_type": "code",
   "execution_count": null,
   "metadata": {},
   "outputs": [],
   "source": []
  },
  {
   "cell_type": "code",
   "execution_count": 2,
   "metadata": {},
   "outputs": [],
   "source": [
    "import pandas as pd"
   ]
  },
  {
   "cell_type": "code",
   "execution_count": 4,
   "metadata": {},
   "outputs": [],
   "source": [
    "df = pd.read_excel(\"/Users/youssouf/Downloads/MAJ logins ISS T2 190422.xlsx\", header = 1)"
   ]
  },
  {
   "cell_type": "code",
   "execution_count": 5,
   "metadata": {},
   "outputs": [
    {
     "data": {
      "text/html": [
       "<div>\n",
       "<style scoped>\n",
       "    .dataframe tbody tr th:only-of-type {\n",
       "        vertical-align: middle;\n",
       "    }\n",
       "\n",
       "    .dataframe tbody tr th {\n",
       "        vertical-align: top;\n",
       "    }\n",
       "\n",
       "    .dataframe thead th {\n",
       "        text-align: right;\n",
       "    }\n",
       "</style>\n",
       "<table border=\"1\" class=\"dataframe\">\n",
       "  <thead>\n",
       "    <tr style=\"text-align: right;\">\n",
       "      <th></th>\n",
       "      <th>CABINET</th>\n",
       "      <th>NOM ET PRENOM MC</th>\n",
       "      <th>NUMERO NOMAD</th>\n",
       "      <th>LOGIN</th>\n",
       "      <th>NUMERO OM</th>\n",
       "      <th>Unnamed: 5</th>\n",
       "      <th>Unnamed: 6</th>\n",
       "      <th>Unnamed: 7</th>\n",
       "      <th>Unnamed: 8</th>\n",
       "      <th>Unnamed: 9</th>\n",
       "      <th>...</th>\n",
       "      <th>Unnamed: 11</th>\n",
       "      <th>Unnamed: 12</th>\n",
       "      <th>Unnamed: 13</th>\n",
       "      <th>Unnamed: 14</th>\n",
       "      <th>Unnamed: 15</th>\n",
       "      <th>Unnamed: 16</th>\n",
       "      <th>Unnamed: 17</th>\n",
       "      <th>Unnamed: 18</th>\n",
       "      <th>Unnamed: 19</th>\n",
       "      <th>Unnamed: 20</th>\n",
       "    </tr>\n",
       "  </thead>\n",
       "  <tbody>\n",
       "    <tr>\n",
       "      <th>0</th>\n",
       "      <td>ISS</td>\n",
       "      <td>KOUASSI ELISE</td>\n",
       "      <td>07 01 56 67 98</td>\n",
       "      <td>covert222_iss_s2i_003</td>\n",
       "      <td>07 02 41 64 08</td>\n",
       "      <td>NaN</td>\n",
       "      <td>NaN</td>\n",
       "      <td>NaN</td>\n",
       "      <td>NaN</td>\n",
       "      <td>NaN</td>\n",
       "      <td>...</td>\n",
       "      <td>NaN</td>\n",
       "      <td>NaN</td>\n",
       "      <td>NaN</td>\n",
       "      <td>NaN</td>\n",
       "      <td>NaN</td>\n",
       "      <td>NaN</td>\n",
       "      <td>NaN</td>\n",
       "      <td>NaN</td>\n",
       "      <td>NaN</td>\n",
       "      <td>NaN</td>\n",
       "    </tr>\n",
       "    <tr>\n",
       "      <th>1</th>\n",
       "      <td>ISS</td>\n",
       "      <td>KOUASSI JEAN CLAUDE</td>\n",
       "      <td>07 08 70 77 08</td>\n",
       "      <td>covert222_iss_s2i_005</td>\n",
       "      <td>07 00 27 71 07</td>\n",
       "      <td>NaN</td>\n",
       "      <td>NaN</td>\n",
       "      <td>NaN</td>\n",
       "      <td>NaN</td>\n",
       "      <td>NaN</td>\n",
       "      <td>...</td>\n",
       "      <td>NaN</td>\n",
       "      <td>NaN</td>\n",
       "      <td>NaN</td>\n",
       "      <td>NaN</td>\n",
       "      <td>NaN</td>\n",
       "      <td>NaN</td>\n",
       "      <td>NaN</td>\n",
       "      <td>NaN</td>\n",
       "      <td>NaN</td>\n",
       "      <td>NaN</td>\n",
       "    </tr>\n",
       "    <tr>\n",
       "      <th>2</th>\n",
       "      <td>ISS</td>\n",
       "      <td>BAILLY ELIE NEVILLE</td>\n",
       "      <td>07 08 71 67 17</td>\n",
       "      <td>covert222_iss_s2i_006</td>\n",
       "      <td>07 67 47 65 59</td>\n",
       "      <td>NaN</td>\n",
       "      <td>NaN</td>\n",
       "      <td>NaN</td>\n",
       "      <td>NaN</td>\n",
       "      <td>NaN</td>\n",
       "      <td>...</td>\n",
       "      <td>NaN</td>\n",
       "      <td>NaN</td>\n",
       "      <td>NaN</td>\n",
       "      <td>NaN</td>\n",
       "      <td>NaN</td>\n",
       "      <td>NaN</td>\n",
       "      <td>NaN</td>\n",
       "      <td>NaN</td>\n",
       "      <td>NaN</td>\n",
       "      <td>NaN</td>\n",
       "    </tr>\n",
       "    <tr>\n",
       "      <th>3</th>\n",
       "      <td>ISS</td>\n",
       "      <td>TIE LOU BENE ANGE CYNTHIA</td>\n",
       "      <td>07 08 92 19 22</td>\n",
       "      <td>covert222_iss_s2i_007</td>\n",
       "      <td>07 09 51 19 66</td>\n",
       "      <td>NaN</td>\n",
       "      <td>NaN</td>\n",
       "      <td>NaN</td>\n",
       "      <td>NaN</td>\n",
       "      <td>NaN</td>\n",
       "      <td>...</td>\n",
       "      <td>NaN</td>\n",
       "      <td>NaN</td>\n",
       "      <td>NaN</td>\n",
       "      <td>NaN</td>\n",
       "      <td>NaN</td>\n",
       "      <td>NaN</td>\n",
       "      <td>NaN</td>\n",
       "      <td>NaN</td>\n",
       "      <td>NaN</td>\n",
       "      <td>NaN</td>\n",
       "    </tr>\n",
       "    <tr>\n",
       "      <th>4</th>\n",
       "      <td>ISS</td>\n",
       "      <td>KOUASSI ABOKAN</td>\n",
       "      <td>07 08 83 92 92</td>\n",
       "      <td>covert222_iss_s2i_009</td>\n",
       "      <td>07 57 76 95 96</td>\n",
       "      <td>NaN</td>\n",
       "      <td>NaN</td>\n",
       "      <td>NaN</td>\n",
       "      <td>NaN</td>\n",
       "      <td>NaN</td>\n",
       "      <td>...</td>\n",
       "      <td>NaN</td>\n",
       "      <td>NaN</td>\n",
       "      <td>NaN</td>\n",
       "      <td>NaN</td>\n",
       "      <td>NaN</td>\n",
       "      <td>NaN</td>\n",
       "      <td>NaN</td>\n",
       "      <td>NaN</td>\n",
       "      <td>NaN</td>\n",
       "      <td>NaN</td>\n",
       "    </tr>\n",
       "  </tbody>\n",
       "</table>\n",
       "<p>5 rows × 21 columns</p>\n",
       "</div>"
      ],
      "text/plain": [
       "  CABINET           NOM ET PRENOM MC    NUMERO NOMAD                  LOGIN  \\\n",
       "0     ISS              KOUASSI ELISE  07 01 56 67 98  covert222_iss_s2i_003   \n",
       "1     ISS        KOUASSI JEAN CLAUDE  07 08 70 77 08  covert222_iss_s2i_005   \n",
       "2     ISS        BAILLY ELIE NEVILLE  07 08 71 67 17  covert222_iss_s2i_006   \n",
       "3     ISS  TIE LOU BENE ANGE CYNTHIA  07 08 92 19 22  covert222_iss_s2i_007   \n",
       "4     ISS             KOUASSI ABOKAN  07 08 83 92 92  covert222_iss_s2i_009   \n",
       "\n",
       "        NUMERO OM  Unnamed: 5  Unnamed: 6  Unnamed: 7  Unnamed: 8  Unnamed: 9  \\\n",
       "0  07 02 41 64 08         NaN         NaN         NaN         NaN         NaN   \n",
       "1  07 00 27 71 07         NaN         NaN         NaN         NaN         NaN   \n",
       "2  07 67 47 65 59         NaN         NaN         NaN         NaN         NaN   \n",
       "3  07 09 51 19 66         NaN         NaN         NaN         NaN         NaN   \n",
       "4  07 57 76 95 96         NaN         NaN         NaN         NaN         NaN   \n",
       "\n",
       "   ...  Unnamed: 11  Unnamed: 12  Unnamed: 13  Unnamed: 14  Unnamed: 15  \\\n",
       "0  ...          NaN          NaN          NaN          NaN          NaN   \n",
       "1  ...          NaN          NaN          NaN          NaN          NaN   \n",
       "2  ...          NaN          NaN          NaN          NaN          NaN   \n",
       "3  ...          NaN          NaN          NaN          NaN          NaN   \n",
       "4  ...          NaN          NaN          NaN          NaN          NaN   \n",
       "\n",
       "   Unnamed: 16  Unnamed: 17  Unnamed: 18  Unnamed: 19  Unnamed: 20  \n",
       "0          NaN          NaN          NaN          NaN          NaN  \n",
       "1          NaN          NaN          NaN          NaN          NaN  \n",
       "2          NaN          NaN          NaN          NaN          NaN  \n",
       "3          NaN          NaN          NaN          NaN          NaN  \n",
       "4          NaN          NaN          NaN          NaN          NaN  \n",
       "\n",
       "[5 rows x 21 columns]"
      ]
     },
     "execution_count": 5,
     "metadata": {},
     "output_type": "execute_result"
    }
   ],
   "source": [
    "df.head()"
   ]
  },
  {
   "cell_type": "code",
   "execution_count": 6,
   "metadata": {},
   "outputs": [],
   "source": [
    "df.rename(columns = {'NUMERO NOMAD':'NUMERO', 'NUMERO OM':'MOBILE_OM'}, inplace = True)"
   ]
  },
  {
   "cell_type": "code",
   "execution_count": 7,
   "metadata": {},
   "outputs": [],
   "source": [
    "df.to_csv(\"/Users/youssouf/Downloads/mobile_coach_reel.csv\", index = False)"
   ]
  },
  {
   "cell_type": "code",
   "execution_count": 8,
   "metadata": {},
   "outputs": [
    {
     "data": {
      "text/html": [
       "<div>\n",
       "<style scoped>\n",
       "    .dataframe tbody tr th:only-of-type {\n",
       "        vertical-align: middle;\n",
       "    }\n",
       "\n",
       "    .dataframe tbody tr th {\n",
       "        vertical-align: top;\n",
       "    }\n",
       "\n",
       "    .dataframe thead th {\n",
       "        text-align: right;\n",
       "    }\n",
       "</style>\n",
       "<table border=\"1\" class=\"dataframe\">\n",
       "  <thead>\n",
       "    <tr style=\"text-align: right;\">\n",
       "      <th></th>\n",
       "      <th>CABINET</th>\n",
       "      <th>NOM ET PRENOM MC</th>\n",
       "      <th>NUMERO</th>\n",
       "      <th>LOGIN</th>\n",
       "      <th>MOBILE_OM</th>\n",
       "      <th>Unnamed: 5</th>\n",
       "      <th>Unnamed: 6</th>\n",
       "      <th>Unnamed: 7</th>\n",
       "      <th>Unnamed: 8</th>\n",
       "      <th>Unnamed: 9</th>\n",
       "      <th>...</th>\n",
       "      <th>Unnamed: 11</th>\n",
       "      <th>Unnamed: 12</th>\n",
       "      <th>Unnamed: 13</th>\n",
       "      <th>Unnamed: 14</th>\n",
       "      <th>Unnamed: 15</th>\n",
       "      <th>Unnamed: 16</th>\n",
       "      <th>Unnamed: 17</th>\n",
       "      <th>Unnamed: 18</th>\n",
       "      <th>Unnamed: 19</th>\n",
       "      <th>Unnamed: 20</th>\n",
       "    </tr>\n",
       "  </thead>\n",
       "  <tbody>\n",
       "    <tr>\n",
       "      <th>0</th>\n",
       "      <td>ISS</td>\n",
       "      <td>KOUASSI ELISE</td>\n",
       "      <td>07 01 56 67 98</td>\n",
       "      <td>covert222_iss_s2i_003</td>\n",
       "      <td>07 02 41 64 08</td>\n",
       "      <td>NaN</td>\n",
       "      <td>NaN</td>\n",
       "      <td>NaN</td>\n",
       "      <td>NaN</td>\n",
       "      <td>NaN</td>\n",
       "      <td>...</td>\n",
       "      <td>NaN</td>\n",
       "      <td>NaN</td>\n",
       "      <td>NaN</td>\n",
       "      <td>NaN</td>\n",
       "      <td>NaN</td>\n",
       "      <td>NaN</td>\n",
       "      <td>NaN</td>\n",
       "      <td>NaN</td>\n",
       "      <td>NaN</td>\n",
       "      <td>NaN</td>\n",
       "    </tr>\n",
       "    <tr>\n",
       "      <th>1</th>\n",
       "      <td>ISS</td>\n",
       "      <td>KOUASSI JEAN CLAUDE</td>\n",
       "      <td>07 08 70 77 08</td>\n",
       "      <td>covert222_iss_s2i_005</td>\n",
       "      <td>07 00 27 71 07</td>\n",
       "      <td>NaN</td>\n",
       "      <td>NaN</td>\n",
       "      <td>NaN</td>\n",
       "      <td>NaN</td>\n",
       "      <td>NaN</td>\n",
       "      <td>...</td>\n",
       "      <td>NaN</td>\n",
       "      <td>NaN</td>\n",
       "      <td>NaN</td>\n",
       "      <td>NaN</td>\n",
       "      <td>NaN</td>\n",
       "      <td>NaN</td>\n",
       "      <td>NaN</td>\n",
       "      <td>NaN</td>\n",
       "      <td>NaN</td>\n",
       "      <td>NaN</td>\n",
       "    </tr>\n",
       "    <tr>\n",
       "      <th>2</th>\n",
       "      <td>ISS</td>\n",
       "      <td>BAILLY ELIE NEVILLE</td>\n",
       "      <td>07 08 71 67 17</td>\n",
       "      <td>covert222_iss_s2i_006</td>\n",
       "      <td>07 67 47 65 59</td>\n",
       "      <td>NaN</td>\n",
       "      <td>NaN</td>\n",
       "      <td>NaN</td>\n",
       "      <td>NaN</td>\n",
       "      <td>NaN</td>\n",
       "      <td>...</td>\n",
       "      <td>NaN</td>\n",
       "      <td>NaN</td>\n",
       "      <td>NaN</td>\n",
       "      <td>NaN</td>\n",
       "      <td>NaN</td>\n",
       "      <td>NaN</td>\n",
       "      <td>NaN</td>\n",
       "      <td>NaN</td>\n",
       "      <td>NaN</td>\n",
       "      <td>NaN</td>\n",
       "    </tr>\n",
       "    <tr>\n",
       "      <th>3</th>\n",
       "      <td>ISS</td>\n",
       "      <td>TIE LOU BENE ANGE CYNTHIA</td>\n",
       "      <td>07 08 92 19 22</td>\n",
       "      <td>covert222_iss_s2i_007</td>\n",
       "      <td>07 09 51 19 66</td>\n",
       "      <td>NaN</td>\n",
       "      <td>NaN</td>\n",
       "      <td>NaN</td>\n",
       "      <td>NaN</td>\n",
       "      <td>NaN</td>\n",
       "      <td>...</td>\n",
       "      <td>NaN</td>\n",
       "      <td>NaN</td>\n",
       "      <td>NaN</td>\n",
       "      <td>NaN</td>\n",
       "      <td>NaN</td>\n",
       "      <td>NaN</td>\n",
       "      <td>NaN</td>\n",
       "      <td>NaN</td>\n",
       "      <td>NaN</td>\n",
       "      <td>NaN</td>\n",
       "    </tr>\n",
       "    <tr>\n",
       "      <th>4</th>\n",
       "      <td>ISS</td>\n",
       "      <td>KOUASSI ABOKAN</td>\n",
       "      <td>07 08 83 92 92</td>\n",
       "      <td>covert222_iss_s2i_009</td>\n",
       "      <td>07 57 76 95 96</td>\n",
       "      <td>NaN</td>\n",
       "      <td>NaN</td>\n",
       "      <td>NaN</td>\n",
       "      <td>NaN</td>\n",
       "      <td>NaN</td>\n",
       "      <td>...</td>\n",
       "      <td>NaN</td>\n",
       "      <td>NaN</td>\n",
       "      <td>NaN</td>\n",
       "      <td>NaN</td>\n",
       "      <td>NaN</td>\n",
       "      <td>NaN</td>\n",
       "      <td>NaN</td>\n",
       "      <td>NaN</td>\n",
       "      <td>NaN</td>\n",
       "      <td>NaN</td>\n",
       "    </tr>\n",
       "  </tbody>\n",
       "</table>\n",
       "<p>5 rows × 21 columns</p>\n",
       "</div>"
      ],
      "text/plain": [
       "  CABINET           NOM ET PRENOM MC          NUMERO                  LOGIN  \\\n",
       "0     ISS              KOUASSI ELISE  07 01 56 67 98  covert222_iss_s2i_003   \n",
       "1     ISS        KOUASSI JEAN CLAUDE  07 08 70 77 08  covert222_iss_s2i_005   \n",
       "2     ISS        BAILLY ELIE NEVILLE  07 08 71 67 17  covert222_iss_s2i_006   \n",
       "3     ISS  TIE LOU BENE ANGE CYNTHIA  07 08 92 19 22  covert222_iss_s2i_007   \n",
       "4     ISS             KOUASSI ABOKAN  07 08 83 92 92  covert222_iss_s2i_009   \n",
       "\n",
       "        MOBILE_OM  Unnamed: 5  Unnamed: 6  Unnamed: 7  Unnamed: 8  Unnamed: 9  \\\n",
       "0  07 02 41 64 08         NaN         NaN         NaN         NaN         NaN   \n",
       "1  07 00 27 71 07         NaN         NaN         NaN         NaN         NaN   \n",
       "2  07 67 47 65 59         NaN         NaN         NaN         NaN         NaN   \n",
       "3  07 09 51 19 66         NaN         NaN         NaN         NaN         NaN   \n",
       "4  07 57 76 95 96         NaN         NaN         NaN         NaN         NaN   \n",
       "\n",
       "   ...  Unnamed: 11  Unnamed: 12  Unnamed: 13  Unnamed: 14  Unnamed: 15  \\\n",
       "0  ...          NaN          NaN          NaN          NaN          NaN   \n",
       "1  ...          NaN          NaN          NaN          NaN          NaN   \n",
       "2  ...          NaN          NaN          NaN          NaN          NaN   \n",
       "3  ...          NaN          NaN          NaN          NaN          NaN   \n",
       "4  ...          NaN          NaN          NaN          NaN          NaN   \n",
       "\n",
       "   Unnamed: 16  Unnamed: 17  Unnamed: 18  Unnamed: 19  Unnamed: 20  \n",
       "0          NaN          NaN          NaN          NaN          NaN  \n",
       "1          NaN          NaN          NaN          NaN          NaN  \n",
       "2          NaN          NaN          NaN          NaN          NaN  \n",
       "3          NaN          NaN          NaN          NaN          NaN  \n",
       "4          NaN          NaN          NaN          NaN          NaN  \n",
       "\n",
       "[5 rows x 21 columns]"
      ]
     },
     "execution_count": 8,
     "metadata": {},
     "output_type": "execute_result"
    }
   ],
   "source": [
    "pd.read_csv(\"/Users/youssouf/Downloads/mobile_coach_reel.csv\").head()"
   ]
  },
  {
   "cell_type": "code",
   "execution_count": 22,
   "metadata": {},
   "outputs": [
    {
     "data": {
      "text/html": [
       "<div>\n",
       "<style scoped>\n",
       "    .dataframe tbody tr th:only-of-type {\n",
       "        vertical-align: middle;\n",
       "    }\n",
       "\n",
       "    .dataframe tbody tr th {\n",
       "        vertical-align: top;\n",
       "    }\n",
       "\n",
       "    .dataframe thead th {\n",
       "        text-align: right;\n",
       "    }\n",
       "</style>\n",
       "<table border=\"1\" class=\"dataframe\">\n",
       "  <thead>\n",
       "    <tr style=\"text-align: right;\">\n",
       "      <th></th>\n",
       "      <th>N° ORDRE</th>\n",
       "      <th>N° DOSSIER</th>\n",
       "      <th>NUMERO</th>\n",
       "      <th>STATUT DU DOSSIER</th>\n",
       "      <th>NOM DE L'AGENT</th>\n",
       "      <th>DATE DE SOUSCRIPTION</th>\n",
       "    </tr>\n",
       "  </thead>\n",
       "  <tbody>\n",
       "    <tr>\n",
       "      <th>0</th>\n",
       "      <td>1</td>\n",
       "      <td>60945544</td>\n",
       "      <td>701939119</td>\n",
       "      <td>VALIDE</td>\n",
       "      <td>SERY  JEAN EUDES PAULIN - ext_pdv_sii_serj_5305</td>\n",
       "      <td>05/04/2022 20:19</td>\n",
       "    </tr>\n",
       "    <tr>\n",
       "      <th>1</th>\n",
       "      <td>2</td>\n",
       "      <td>60945515</td>\n",
       "      <td>701965112</td>\n",
       "      <td>VALIDE</td>\n",
       "      <td>JOSUE AGOUA  - indep_agoua_8298</td>\n",
       "      <td>05/04/2022 10:16</td>\n",
       "    </tr>\n",
       "    <tr>\n",
       "      <th>2</th>\n",
       "      <td>3</td>\n",
       "      <td>60945478</td>\n",
       "      <td>789823090</td>\n",
       "      <td>VALIDE</td>\n",
       "      <td>EPONOU St�phanie Kouadio - pmot122-lean-07</td>\n",
       "      <td>05/04/2022 20:10</td>\n",
       "    </tr>\n",
       "    <tr>\n",
       "      <th>3</th>\n",
       "      <td>4</td>\n",
       "      <td>60945067</td>\n",
       "      <td>797286466</td>\n",
       "      <td>VALIDE</td>\n",
       "      <td>EPONOU St�phanie Kouadio - pmot122-lean-07</td>\n",
       "      <td>05/04/2022 19:28</td>\n",
       "    </tr>\n",
       "    <tr>\n",
       "      <th>4</th>\n",
       "      <td>5</td>\n",
       "      <td>60944898</td>\n",
       "      <td>768159126</td>\n",
       "      <td>VALIDE</td>\n",
       "      <td>MC ACTION PMO T1-2022 - tkgspmot122-06</td>\n",
       "      <td>05/04/2022 19:13</td>\n",
       "    </tr>\n",
       "  </tbody>\n",
       "</table>\n",
       "</div>"
      ],
      "text/plain": [
       "   N° ORDRE  N° DOSSIER     NUMERO STATUT DU DOSSIER  \\\n",
       "0         1    60945544  701939119            VALIDE   \n",
       "1         2    60945515  701965112            VALIDE   \n",
       "2         3    60945478  789823090            VALIDE   \n",
       "3         4    60945067  797286466            VALIDE   \n",
       "4         5    60944898  768159126            VALIDE   \n",
       "\n",
       "                                    NOM DE L'AGENT DATE DE SOUSCRIPTION  \n",
       "0  SERY  JEAN EUDES PAULIN - ext_pdv_sii_serj_5305     05/04/2022 20:19  \n",
       "1                  JOSUE AGOUA  - indep_agoua_8298     05/04/2022 10:16  \n",
       "2       EPONOU St�phanie Kouadio - pmot122-lean-07     05/04/2022 20:10  \n",
       "3       EPONOU St�phanie Kouadio - pmot122-lean-07     05/04/2022 19:28  \n",
       "4           MC ACTION PMO T1-2022 - tkgspmot122-06     05/04/2022 19:13  "
      ]
     },
     "execution_count": 22,
     "metadata": {},
     "output_type": "execute_result"
    }
   ],
   "source": [
    "df_rejets = pd.read_excel(\"/Users/youssouf/Downloads/Rejets nomad S15_20220415.xlsx\", header = 3)\n",
    "df_rejets.head()"
   ]
  },
  {
   "cell_type": "code",
   "execution_count": 23,
   "metadata": {},
   "outputs": [],
   "source": [
    "df_rejets.to_csv(\"/Users/youssouf/Downloads/rejets_nomad_S15_20220415.csv\", index = False, sep = \";\")"
   ]
  },
  {
   "cell_type": "code",
   "execution_count": 24,
   "metadata": {},
   "outputs": [
    {
     "data": {
      "text/html": [
       "<div>\n",
       "<style scoped>\n",
       "    .dataframe tbody tr th:only-of-type {\n",
       "        vertical-align: middle;\n",
       "    }\n",
       "\n",
       "    .dataframe tbody tr th {\n",
       "        vertical-align: top;\n",
       "    }\n",
       "\n",
       "    .dataframe thead th {\n",
       "        text-align: right;\n",
       "    }\n",
       "</style>\n",
       "<table border=\"1\" class=\"dataframe\">\n",
       "  <thead>\n",
       "    <tr style=\"text-align: right;\">\n",
       "      <th></th>\n",
       "      <th>N° ORDRE</th>\n",
       "      <th>N° DOSSIER</th>\n",
       "      <th>NUMERO</th>\n",
       "      <th>STATUT DU DOSSIER</th>\n",
       "      <th>NOM DE L'AGENT</th>\n",
       "      <th>DATE DE SOUSCRIPTION</th>\n",
       "    </tr>\n",
       "  </thead>\n",
       "  <tbody>\n",
       "    <tr>\n",
       "      <th>0</th>\n",
       "      <td>1</td>\n",
       "      <td>60945544</td>\n",
       "      <td>701939119</td>\n",
       "      <td>VALIDE</td>\n",
       "      <td>SERY  JEAN EUDES PAULIN - ext_pdv_sii_serj_5305</td>\n",
       "      <td>05/04/2022 20:19</td>\n",
       "    </tr>\n",
       "    <tr>\n",
       "      <th>1</th>\n",
       "      <td>2</td>\n",
       "      <td>60945515</td>\n",
       "      <td>701965112</td>\n",
       "      <td>VALIDE</td>\n",
       "      <td>JOSUE AGOUA  - indep_agoua_8298</td>\n",
       "      <td>05/04/2022 10:16</td>\n",
       "    </tr>\n",
       "    <tr>\n",
       "      <th>2</th>\n",
       "      <td>3</td>\n",
       "      <td>60945478</td>\n",
       "      <td>789823090</td>\n",
       "      <td>VALIDE</td>\n",
       "      <td>EPONOU St�phanie Kouadio - pmot122-lean-07</td>\n",
       "      <td>05/04/2022 20:10</td>\n",
       "    </tr>\n",
       "    <tr>\n",
       "      <th>3</th>\n",
       "      <td>4</td>\n",
       "      <td>60945067</td>\n",
       "      <td>797286466</td>\n",
       "      <td>VALIDE</td>\n",
       "      <td>EPONOU St�phanie Kouadio - pmot122-lean-07</td>\n",
       "      <td>05/04/2022 19:28</td>\n",
       "    </tr>\n",
       "    <tr>\n",
       "      <th>4</th>\n",
       "      <td>5</td>\n",
       "      <td>60944898</td>\n",
       "      <td>768159126</td>\n",
       "      <td>VALIDE</td>\n",
       "      <td>MC ACTION PMO T1-2022 - tkgspmot122-06</td>\n",
       "      <td>05/04/2022 19:13</td>\n",
       "    </tr>\n",
       "  </tbody>\n",
       "</table>\n",
       "</div>"
      ],
      "text/plain": [
       "   N° ORDRE  N° DOSSIER     NUMERO STATUT DU DOSSIER  \\\n",
       "0         1    60945544  701939119            VALIDE   \n",
       "1         2    60945515  701965112            VALIDE   \n",
       "2         3    60945478  789823090            VALIDE   \n",
       "3         4    60945067  797286466            VALIDE   \n",
       "4         5    60944898  768159126            VALIDE   \n",
       "\n",
       "                                    NOM DE L'AGENT DATE DE SOUSCRIPTION  \n",
       "0  SERY  JEAN EUDES PAULIN - ext_pdv_sii_serj_5305     05/04/2022 20:19  \n",
       "1                  JOSUE AGOUA  - indep_agoua_8298     05/04/2022 10:16  \n",
       "2       EPONOU St�phanie Kouadio - pmot122-lean-07     05/04/2022 20:10  \n",
       "3       EPONOU St�phanie Kouadio - pmot122-lean-07     05/04/2022 19:28  \n",
       "4           MC ACTION PMO T1-2022 - tkgspmot122-06     05/04/2022 19:13  "
      ]
     },
     "execution_count": 24,
     "metadata": {},
     "output_type": "execute_result"
    }
   ],
   "source": [
    "pd.read_csv(\"/Users/youssouf/Downloads/rejets_nomad_S15_20220415.csv\", sep = \";\").head()"
   ]
  },
  {
   "cell_type": "code",
   "execution_count": 25,
   "metadata": {},
   "outputs": [
    {
     "data": {
      "text/html": [
       "<div>\n",
       "<style scoped>\n",
       "    .dataframe tbody tr th:only-of-type {\n",
       "        vertical-align: middle;\n",
       "    }\n",
       "\n",
       "    .dataframe tbody tr th {\n",
       "        vertical-align: top;\n",
       "    }\n",
       "\n",
       "    .dataframe thead th {\n",
       "        text-align: right;\n",
       "    }\n",
       "</style>\n",
       "<table border=\"1\" class=\"dataframe\">\n",
       "  <thead>\n",
       "    <tr style=\"text-align: right;\">\n",
       "      <th></th>\n",
       "      <th>CABINET</th>\n",
       "      <th>NOM &amp; PRENOMS DU MC</th>\n",
       "      <th>N° NOMAD</th>\n",
       "      <th>LOGIN</th>\n",
       "      <th>N° MOBILE OM DU MC</th>\n",
       "    </tr>\n",
       "  </thead>\n",
       "  <tbody>\n",
       "    <tr>\n",
       "      <th>0</th>\n",
       "      <td>BOP</td>\n",
       "      <td>ALLANGBA BAUDELAIRE KONAN</td>\n",
       "      <td>07 00 27 99 74</td>\n",
       "      <td>godogodo_moz_t222_bop01</td>\n",
       "      <td>07 88 06 10 06</td>\n",
       "    </tr>\n",
       "    <tr>\n",
       "      <th>1</th>\n",
       "      <td>NaN</td>\n",
       "      <td>KOUAKOU CONSTANT</td>\n",
       "      <td>07 00 27 99 81</td>\n",
       "      <td>godogodo_moz_t222_bop02</td>\n",
       "      <td>07 09 14 43 38</td>\n",
       "    </tr>\n",
       "    <tr>\n",
       "      <th>2</th>\n",
       "      <td>NaN</td>\n",
       "      <td>DASSO ARMEL SCHAMA</td>\n",
       "      <td>07 00 27 99 82</td>\n",
       "      <td>godogodo_moz_t222_bop03</td>\n",
       "      <td>07 59 74 59 27</td>\n",
       "    </tr>\n",
       "    <tr>\n",
       "      <th>3</th>\n",
       "      <td>NaN</td>\n",
       "      <td>KARAMOKO AMINATA</td>\n",
       "      <td>07 00 27 99 85</td>\n",
       "      <td>godogodo_moz_t222_bop04</td>\n",
       "      <td>07 69 11 97 96</td>\n",
       "    </tr>\n",
       "    <tr>\n",
       "      <th>4</th>\n",
       "      <td>NaN</td>\n",
       "      <td>TIEKORA DIEUDONNE</td>\n",
       "      <td>07 00 27 99 86</td>\n",
       "      <td>godogodo_moz_t222_bop05</td>\n",
       "      <td>07 49 87 58 98</td>\n",
       "    </tr>\n",
       "  </tbody>\n",
       "</table>\n",
       "</div>"
      ],
      "text/plain": [
       "  CABINET        NOM & PRENOMS DU MC        N° NOMAD                    LOGIN  \\\n",
       "0     BOP  ALLANGBA BAUDELAIRE KONAN  07 00 27 99 74  godogodo_moz_t222_bop01   \n",
       "1     NaN           KOUAKOU CONSTANT  07 00 27 99 81  godogodo_moz_t222_bop02   \n",
       "2     NaN         DASSO ARMEL SCHAMA  07 00 27 99 82  godogodo_moz_t222_bop03   \n",
       "3     NaN           KARAMOKO AMINATA  07 00 27 99 85  godogodo_moz_t222_bop04   \n",
       "4     NaN         TIEKORA DIEUDONNE   07 00 27 99 86  godogodo_moz_t222_bop05   \n",
       "\n",
       "  N° MOBILE OM DU MC  \n",
       "0    07 88 06 10 06   \n",
       "1     07 09 14 43 38  \n",
       "2     07 59 74 59 27  \n",
       "3     07 69 11 97 96  \n",
       "4    07 49 87 58 98   "
      ]
     },
     "execution_count": 25,
     "metadata": {},
     "output_type": "execute_result"
    }
   ],
   "source": [
    "dfs = pd.read_excel(\"/Users/youssouf/Downloads/MISE A JOUR NOMAD T2.xlsx\", header = 0)\n",
    "dfs.head()"
   ]
  },
  {
   "cell_type": "code",
   "execution_count": 16,
   "metadata": {},
   "outputs": [
    {
     "data": {
      "text/plain": [
       "(94, 5)"
      ]
     },
     "execution_count": 16,
     "metadata": {},
     "output_type": "execute_result"
    }
   ],
   "source": [
    "dfs.shape"
   ]
  },
  {
   "cell_type": "code",
   "execution_count": 26,
   "metadata": {},
   "outputs": [],
   "source": [
    "dfs.rename(columns = {'N° NOMAD':'NOMAD', 'N° MOBILE OM DU MC':'MOBILE_OM'}, inplace = True)"
   ]
  },
  {
   "cell_type": "code",
   "execution_count": 27,
   "metadata": {},
   "outputs": [],
   "source": [
    "dfs.to_csv(\"/Users/youssouf/Downloads/mobile_coach_reel2.csv\", index = False, sep =\";\")"
   ]
  },
  {
   "cell_type": "code",
   "execution_count": 17,
   "metadata": {},
   "outputs": [
    {
     "data": {
      "text/plain": [
       "(77, 21)"
      ]
     },
     "execution_count": 17,
     "metadata": {},
     "output_type": "execute_result"
    }
   ],
   "source": [
    "df.shape"
   ]
  },
  {
   "cell_type": "code",
   "execution_count": null,
   "metadata": {},
   "outputs": [],
   "source": []
  },
  {
   "cell_type": "code",
   "execution_count": null,
   "metadata": {},
   "outputs": [],
   "source": []
  },
  {
   "cell_type": "code",
   "execution_count": null,
   "metadata": {},
   "outputs": [],
   "source": []
  },
  {
   "cell_type": "code",
   "execution_count": 3,
   "metadata": {},
   "outputs": [
    {
     "data": {
      "text/html": [
       "<div>\n",
       "<style scoped>\n",
       "    .dataframe tbody tr th:only-of-type {\n",
       "        vertical-align: middle;\n",
       "    }\n",
       "\n",
       "    .dataframe tbody tr th {\n",
       "        vertical-align: top;\n",
       "    }\n",
       "\n",
       "    .dataframe thead th {\n",
       "        text-align: right;\n",
       "    }\n",
       "</style>\n",
       "<table border=\"1\" class=\"dataframe\">\n",
       "  <thead>\n",
       "    <tr style=\"text-align: right;\">\n",
       "      <th></th>\n",
       "      <th>N� ORDRE</th>\n",
       "      <th>N� DOSSIER</th>\n",
       "      <th>NUMERO</th>\n",
       "      <th>STATUT DU DOSSIER</th>\n",
       "      <th>NOM DE L'AGENT</th>\n",
       "      <th>DATE DE SOUSCRIPTION</th>\n",
       "    </tr>\n",
       "  </thead>\n",
       "  <tbody>\n",
       "    <tr>\n",
       "      <th>0</th>\n",
       "      <td>1</td>\n",
       "      <td>60945544</td>\n",
       "      <td>701939119</td>\n",
       "      <td>VALIDE</td>\n",
       "      <td>SERY  JEAN EUDES PAULIN - ext_pdv_sii_serj_5305</td>\n",
       "      <td>05/04/2022 20:19</td>\n",
       "    </tr>\n",
       "    <tr>\n",
       "      <th>1</th>\n",
       "      <td>2</td>\n",
       "      <td>60945515</td>\n",
       "      <td>701965112</td>\n",
       "      <td>VALIDE</td>\n",
       "      <td>JOSUE AGOUA  - indep_agoua_8298</td>\n",
       "      <td>05/04/2022 10:16</td>\n",
       "    </tr>\n",
       "    <tr>\n",
       "      <th>2</th>\n",
       "      <td>3</td>\n",
       "      <td>60945478</td>\n",
       "      <td>789823090</td>\n",
       "      <td>VALIDE</td>\n",
       "      <td>EPONOU St?phanie Kouadio - pmot122-lean-07</td>\n",
       "      <td>05/04/2022 20:10</td>\n",
       "    </tr>\n",
       "    <tr>\n",
       "      <th>3</th>\n",
       "      <td>4</td>\n",
       "      <td>60945067</td>\n",
       "      <td>797286466</td>\n",
       "      <td>VALIDE</td>\n",
       "      <td>EPONOU St?phanie Kouadio - pmot122-lean-07</td>\n",
       "      <td>05/04/2022 19:28</td>\n",
       "    </tr>\n",
       "    <tr>\n",
       "      <th>4</th>\n",
       "      <td>5</td>\n",
       "      <td>60944898</td>\n",
       "      <td>768159126</td>\n",
       "      <td>VALIDE</td>\n",
       "      <td>MC ACTION PMO T1-2022 - tkgspmot122-06</td>\n",
       "      <td>05/04/2022 19:13</td>\n",
       "    </tr>\n",
       "  </tbody>\n",
       "</table>\n",
       "</div>"
      ],
      "text/plain": [
       "   N� ORDRE  N� DOSSIER     NUMERO STATUT DU DOSSIER  \\\n",
       "0         1    60945544  701939119            VALIDE   \n",
       "1         2    60945515  701965112            VALIDE   \n",
       "2         3    60945478  789823090            VALIDE   \n",
       "3         4    60945067  797286466            VALIDE   \n",
       "4         5    60944898  768159126            VALIDE   \n",
       "\n",
       "                                    NOM DE L'AGENT DATE DE SOUSCRIPTION  \n",
       "0  SERY  JEAN EUDES PAULIN - ext_pdv_sii_serj_5305     05/04/2022 20:19  \n",
       "1                  JOSUE AGOUA  - indep_agoua_8298     05/04/2022 10:16  \n",
       "2       EPONOU St?phanie Kouadio - pmot122-lean-07     05/04/2022 20:10  \n",
       "3       EPONOU St?phanie Kouadio - pmot122-lean-07     05/04/2022 19:28  \n",
       "4           MC ACTION PMO T1-2022 - tkgspmot122-06     05/04/2022 19:13  "
      ]
     },
     "execution_count": 3,
     "metadata": {},
     "output_type": "execute_result"
    }
   ],
   "source": [
    "df = pd.read_csv(\"/Users/youssouf/Downloads/Rejets_nomad_20220415.csv\", sep = \";\")\n",
    "df.head()"
   ]
  },
  {
   "cell_type": "code",
   "execution_count": 4,
   "metadata": {},
   "outputs": [
    {
     "data": {
      "text/html": [
       "<div>\n",
       "<style scoped>\n",
       "    .dataframe tbody tr th:only-of-type {\n",
       "        vertical-align: middle;\n",
       "    }\n",
       "\n",
       "    .dataframe tbody tr th {\n",
       "        vertical-align: top;\n",
       "    }\n",
       "\n",
       "    .dataframe thead th {\n",
       "        text-align: right;\n",
       "    }\n",
       "</style>\n",
       "<table border=\"1\" class=\"dataframe\">\n",
       "  <thead>\n",
       "    <tr style=\"text-align: right;\">\n",
       "      <th></th>\n",
       "      <th>N� ORDRE</th>\n",
       "      <th>N� DOSSIER</th>\n",
       "      <th>NUMERO</th>\n",
       "      <th>STATUT DU DOSSIER</th>\n",
       "      <th>NOM DE L'AGENT</th>\n",
       "      <th>DATE DE SOUSCRIPTION</th>\n",
       "    </tr>\n",
       "  </thead>\n",
       "  <tbody>\n",
       "    <tr>\n",
       "      <th>0</th>\n",
       "      <td>1</td>\n",
       "      <td>61188095</td>\n",
       "      <td>797363180</td>\n",
       "      <td>VALIDE</td>\n",
       "      <td>ACTION PMO T2 2022 - djoum2022_tid53</td>\n",
       "      <td>12/04/2022 19:16</td>\n",
       "    </tr>\n",
       "    <tr>\n",
       "      <th>1</th>\n",
       "      <td>2</td>\n",
       "      <td>61188092</td>\n",
       "      <td>797363177</td>\n",
       "      <td>VALIDE</td>\n",
       "      <td>ACTION PMO T2 2022 - djoum2022_tid53</td>\n",
       "      <td>12/04/2022 19:14</td>\n",
       "    </tr>\n",
       "    <tr>\n",
       "      <th>2</th>\n",
       "      <td>3</td>\n",
       "      <td>61188090</td>\n",
       "      <td>797363176</td>\n",
       "      <td>VALIDE</td>\n",
       "      <td>ACTION PMO T2 2022 - djoum2022_tid53</td>\n",
       "      <td>12/04/2022 19:13</td>\n",
       "    </tr>\n",
       "    <tr>\n",
       "      <th>3</th>\n",
       "      <td>4</td>\n",
       "      <td>61185634</td>\n",
       "      <td>799032570</td>\n",
       "      <td>VALIDE</td>\n",
       "      <td>SORO   SEYDOU - pmot122_districentre_23</td>\n",
       "      <td>12/04/2022 21:55</td>\n",
       "    </tr>\n",
       "    <tr>\n",
       "      <th>4</th>\n",
       "      <td>5</td>\n",
       "      <td>61185592</td>\n",
       "      <td>798758044</td>\n",
       "      <td>VALIDE</td>\n",
       "      <td>SORO   SEYDOU - pmot122_districentre_23</td>\n",
       "      <td>12/04/2022 21:46</td>\n",
       "    </tr>\n",
       "  </tbody>\n",
       "</table>\n",
       "</div>"
      ],
      "text/plain": [
       "   N� ORDRE N� DOSSIER     NUMERO STATUT DU DOSSIER  \\\n",
       "0         1   61188095  797363180            VALIDE   \n",
       "1         2   61188092  797363177            VALIDE   \n",
       "2         3   61188090  797363176            VALIDE   \n",
       "3         4   61185634  799032570            VALIDE   \n",
       "4         5   61185592  798758044            VALIDE   \n",
       "\n",
       "                            NOM DE L'AGENT DATE DE SOUSCRIPTION  \n",
       "0     ACTION PMO T2 2022 - djoum2022_tid53     12/04/2022 19:16  \n",
       "1     ACTION PMO T2 2022 - djoum2022_tid53     12/04/2022 19:14  \n",
       "2     ACTION PMO T2 2022 - djoum2022_tid53     12/04/2022 19:13  \n",
       "3  SORO   SEYDOU - pmot122_districentre_23     12/04/2022 21:55  \n",
       "4  SORO   SEYDOU - pmot122_districentre_23     12/04/2022 21:46  "
      ]
     },
     "execution_count": 4,
     "metadata": {},
     "output_type": "execute_result"
    }
   ],
   "source": [
    "df1 = pd.read_csv(\"/Users/youssouf/Downloads/Rejets_nomad_20220422.csv\", sep = \";\")\n",
    "df1.head()"
   ]
  },
  {
   "cell_type": "code",
   "execution_count": 5,
   "metadata": {},
   "outputs": [
    {
     "data": {
      "text/html": [
       "<div>\n",
       "<style scoped>\n",
       "    .dataframe tbody tr th:only-of-type {\n",
       "        vertical-align: middle;\n",
       "    }\n",
       "\n",
       "    .dataframe tbody tr th {\n",
       "        vertical-align: top;\n",
       "    }\n",
       "\n",
       "    .dataframe thead th {\n",
       "        text-align: right;\n",
       "    }\n",
       "</style>\n",
       "<table border=\"1\" class=\"dataframe\">\n",
       "  <thead>\n",
       "    <tr style=\"text-align: right;\">\n",
       "      <th></th>\n",
       "      <th>N� ORDRE</th>\n",
       "      <th>N� DOSSIER</th>\n",
       "      <th>NUMERO</th>\n",
       "      <th>STATUT DU DOSSIER</th>\n",
       "      <th>NOM DE L'AGENT</th>\n",
       "      <th>DATE DE SOUSCRIPTION</th>\n",
       "    </tr>\n",
       "  </thead>\n",
       "  <tbody>\n",
       "    <tr>\n",
       "      <th>0</th>\n",
       "      <td>1</td>\n",
       "      <td>61404857</td>\n",
       "      <td>702569183</td>\n",
       "      <td>VALIDE</td>\n",
       "      <td>MAGIC B ACTION PMO - pmot222_magicb_3</td>\n",
       "      <td>19/04/2022 11:10</td>\n",
       "    </tr>\n",
       "    <tr>\n",
       "      <th>1</th>\n",
       "      <td>2</td>\n",
       "      <td>61391055</td>\n",
       "      <td>767518045</td>\n",
       "      <td>VALIDE</td>\n",
       "      <td>DIALLO IDRISS YACINE - pmot222-sii-135</td>\n",
       "      <td>19/04/2022 19:45</td>\n",
       "    </tr>\n",
       "    <tr>\n",
       "      <th>2</th>\n",
       "      <td>3</td>\n",
       "      <td>61385484</td>\n",
       "      <td>767950975</td>\n",
       "      <td>VALIDE</td>\n",
       "      <td>SORO SEYDOU - hpmot121_districentre_12</td>\n",
       "      <td>19/04/2022 16:37</td>\n",
       "    </tr>\n",
       "    <tr>\n",
       "      <th>3</th>\n",
       "      <td>4</td>\n",
       "      <td>61391166</td>\n",
       "      <td>779218319</td>\n",
       "      <td>VALIDE</td>\n",
       "      <td>ACTION PMO T2-22 - pmot222-lacoq-54</td>\n",
       "      <td>19/04/2022 19:59</td>\n",
       "    </tr>\n",
       "    <tr>\n",
       "      <th>4</th>\n",
       "      <td>5</td>\n",
       "      <td>61391136</td>\n",
       "      <td>789022301</td>\n",
       "      <td>VALIDE</td>\n",
       "      <td>DIALLO IDRISS YACINE - pmot222-sii-27</td>\n",
       "      <td>19/04/2022 19:57</td>\n",
       "    </tr>\n",
       "  </tbody>\n",
       "</table>\n",
       "</div>"
      ],
      "text/plain": [
       "   N� ORDRE  N� DOSSIER     NUMERO STATUT DU DOSSIER  \\\n",
       "0         1    61404857  702569183            VALIDE   \n",
       "1         2    61391055  767518045            VALIDE   \n",
       "2         3    61385484  767950975            VALIDE   \n",
       "3         4    61391166  779218319            VALIDE   \n",
       "4         5    61391136  789022301            VALIDE   \n",
       "\n",
       "                           NOM DE L'AGENT DATE DE SOUSCRIPTION  \n",
       "0   MAGIC B ACTION PMO - pmot222_magicb_3     19/04/2022 11:10  \n",
       "1  DIALLO IDRISS YACINE - pmot222-sii-135     19/04/2022 19:45  \n",
       "2  SORO SEYDOU - hpmot121_districentre_12     19/04/2022 16:37  \n",
       "3     ACTION PMO T2-22 - pmot222-lacoq-54     19/04/2022 19:59  \n",
       "4   DIALLO IDRISS YACINE - pmot222-sii-27     19/04/2022 19:57  "
      ]
     },
     "execution_count": 5,
     "metadata": {},
     "output_type": "execute_result"
    }
   ],
   "source": [
    "df2 = pd.read_csv(\"/Users/youssouf/Downloads/Rejets_nomad_20220426.csv\", sep = \";\")\n",
    "df2.head()"
   ]
  },
  {
   "cell_type": "code",
   "execution_count": 6,
   "metadata": {},
   "outputs": [
    {
     "data": {
      "text/html": [
       "<div>\n",
       "<style scoped>\n",
       "    .dataframe tbody tr th:only-of-type {\n",
       "        vertical-align: middle;\n",
       "    }\n",
       "\n",
       "    .dataframe tbody tr th {\n",
       "        vertical-align: top;\n",
       "    }\n",
       "\n",
       "    .dataframe thead th {\n",
       "        text-align: right;\n",
       "    }\n",
       "</style>\n",
       "<table border=\"1\" class=\"dataframe\">\n",
       "  <thead>\n",
       "    <tr style=\"text-align: right;\">\n",
       "      <th></th>\n",
       "      <th>N� ORDRE</th>\n",
       "      <th>N� DOSSIER</th>\n",
       "      <th>NUMERO</th>\n",
       "      <th>STATUT DU DOSSIER</th>\n",
       "      <th>NOM DE L'AGENT</th>\n",
       "      <th>DATE DE SOUSCRIPTION</th>\n",
       "    </tr>\n",
       "  </thead>\n",
       "  <tbody>\n",
       "    <tr>\n",
       "      <th>0</th>\n",
       "      <td>1</td>\n",
       "      <td>61527136</td>\n",
       "      <td>701582403</td>\n",
       "      <td>VALIDE</td>\n",
       "      <td>ACTION PMO T2 2022 - djoum2022_tid05</td>\n",
       "      <td>22/04/2022 17:58</td>\n",
       "    </tr>\n",
       "    <tr>\n",
       "      <th>1</th>\n",
       "      <td>2</td>\n",
       "      <td>61527134</td>\n",
       "      <td>701582103</td>\n",
       "      <td>VALIDE</td>\n",
       "      <td>ACTION PMO T2 2022 - djoum2022_tid05</td>\n",
       "      <td>22/04/2022 17:56</td>\n",
       "    </tr>\n",
       "    <tr>\n",
       "      <th>2</th>\n",
       "      <td>3</td>\n",
       "      <td>61525636</td>\n",
       "      <td>767527817</td>\n",
       "      <td>VALIDE</td>\n",
       "      <td>SUITE COM SUITE COM - pmot222-suitecom-17</td>\n",
       "      <td>22/04/2022 19:59</td>\n",
       "    </tr>\n",
       "    <tr>\n",
       "      <th>3</th>\n",
       "      <td>4</td>\n",
       "      <td>61525629</td>\n",
       "      <td>700866327</td>\n",
       "      <td>VALIDE</td>\n",
       "      <td>ISS ACTION COVER S2I - cover_iss_s2i_060</td>\n",
       "      <td>22/04/2022 19:58</td>\n",
       "    </tr>\n",
       "    <tr>\n",
       "      <th>4</th>\n",
       "      <td>5</td>\n",
       "      <td>61525615</td>\n",
       "      <td>703152423</td>\n",
       "      <td>VALIDE</td>\n",
       "      <td>ACTION T122 CAN ISS - canstreet_s2i_iss_017</td>\n",
       "      <td>22/04/2022 19:56</td>\n",
       "    </tr>\n",
       "  </tbody>\n",
       "</table>\n",
       "</div>"
      ],
      "text/plain": [
       "   N� ORDRE N� DOSSIER     NUMERO STATUT DU DOSSIER  \\\n",
       "0         1   61527136  701582403            VALIDE   \n",
       "1         2   61527134  701582103            VALIDE   \n",
       "2         3   61525636  767527817            VALIDE   \n",
       "3         4   61525629  700866327            VALIDE   \n",
       "4         5   61525615  703152423            VALIDE   \n",
       "\n",
       "                                NOM DE L'AGENT DATE DE SOUSCRIPTION  \n",
       "0         ACTION PMO T2 2022 - djoum2022_tid05     22/04/2022 17:58  \n",
       "1         ACTION PMO T2 2022 - djoum2022_tid05     22/04/2022 17:56  \n",
       "2    SUITE COM SUITE COM - pmot222-suitecom-17     22/04/2022 19:59  \n",
       "3     ISS ACTION COVER S2I - cover_iss_s2i_060     22/04/2022 19:58  \n",
       "4  ACTION T122 CAN ISS - canstreet_s2i_iss_017     22/04/2022 19:56  "
      ]
     },
     "execution_count": 6,
     "metadata": {},
     "output_type": "execute_result"
    }
   ],
   "source": [
    "df3 = pd.read_csv(\"/Users/youssouf/Downloads/Rejets_nomad_20220429.csv\", sep = \";\")\n",
    "df3.head()"
   ]
  },
  {
   "cell_type": "code",
   "execution_count": 7,
   "metadata": {},
   "outputs": [
    {
     "data": {
      "text/html": [
       "<div>\n",
       "<style scoped>\n",
       "    .dataframe tbody tr th:only-of-type {\n",
       "        vertical-align: middle;\n",
       "    }\n",
       "\n",
       "    .dataframe tbody tr th {\n",
       "        vertical-align: top;\n",
       "    }\n",
       "\n",
       "    .dataframe thead th {\n",
       "        text-align: right;\n",
       "    }\n",
       "</style>\n",
       "<table border=\"1\" class=\"dataframe\">\n",
       "  <thead>\n",
       "    <tr style=\"text-align: right;\">\n",
       "      <th></th>\n",
       "      <th>N� ORDRE</th>\n",
       "      <th>N� DOSSIER</th>\n",
       "      <th>NUMERO</th>\n",
       "      <th>STATUT DU DOSSIER</th>\n",
       "      <th>NOM DE L'AGENT</th>\n",
       "      <th>DATE DE SOUSCRIPTION</th>\n",
       "    </tr>\n",
       "  </thead>\n",
       "  <tbody>\n",
       "    <tr>\n",
       "      <th>0</th>\n",
       "      <td>1</td>\n",
       "      <td>61608051</td>\n",
       "      <td>798609443</td>\n",
       "      <td>VALIDE</td>\n",
       "      <td>PMO T4 2021 ACTION - pmot421_districentre_43</td>\n",
       "      <td>25/04/2022 12:14</td>\n",
       "    </tr>\n",
       "    <tr>\n",
       "      <th>1</th>\n",
       "      <td>2</td>\n",
       "      <td>61652593</td>\n",
       "      <td>701398738</td>\n",
       "      <td>VALIDE</td>\n",
       "      <td>Yao Denise  - pmot222-ajs-50</td>\n",
       "      <td>25/04/2022 14:17</td>\n",
       "    </tr>\n",
       "    <tr>\n",
       "      <th>2</th>\n",
       "      <td>3</td>\n",
       "      <td>61638209</td>\n",
       "      <td>778968479</td>\n",
       "      <td>VALIDE</td>\n",
       "      <td>IGP ACTION GODO GODO - godogodo_igp_reghi010</td>\n",
       "      <td>25/04/2022 19:51</td>\n",
       "    </tr>\n",
       "    <tr>\n",
       "      <th>3</th>\n",
       "      <td>4</td>\n",
       "      <td>61638194</td>\n",
       "      <td>798067011</td>\n",
       "      <td>VALIDE</td>\n",
       "      <td>SUITE COM SUITE COM - pmot222-suitecom-24</td>\n",
       "      <td>25/04/2022 19:58</td>\n",
       "    </tr>\n",
       "    <tr>\n",
       "      <th>4</th>\n",
       "      <td>5</td>\n",
       "      <td>61638145</td>\n",
       "      <td>778267732</td>\n",
       "      <td>VALIDE</td>\n",
       "      <td>ISS ACTION GODO GODO - godogodo_iss_tid009</td>\n",
       "      <td>25/04/2022 19:55</td>\n",
       "    </tr>\n",
       "  </tbody>\n",
       "</table>\n",
       "</div>"
      ],
      "text/plain": [
       "   N� ORDRE N� DOSSIER     NUMERO STATUT DU DOSSIER  \\\n",
       "0         1   61608051  798609443            VALIDE   \n",
       "1         2   61652593  701398738            VALIDE   \n",
       "2         3   61638209  778968479            VALIDE   \n",
       "3         4   61638194  798067011            VALIDE   \n",
       "4         5   61638145  778267732            VALIDE   \n",
       "\n",
       "                                 NOM DE L'AGENT DATE DE SOUSCRIPTION  \n",
       "0  PMO T4 2021 ACTION - pmot421_districentre_43     25/04/2022 12:14  \n",
       "1                  Yao Denise  - pmot222-ajs-50     25/04/2022 14:17  \n",
       "2  IGP ACTION GODO GODO - godogodo_igp_reghi010     25/04/2022 19:51  \n",
       "3     SUITE COM SUITE COM - pmot222-suitecom-24     25/04/2022 19:58  \n",
       "4    ISS ACTION GODO GODO - godogodo_iss_tid009     25/04/2022 19:55  "
      ]
     },
     "execution_count": 7,
     "metadata": {},
     "output_type": "execute_result"
    }
   ],
   "source": [
    "df4 = pd.read_csv(\"/Users/youssouf/Downloads/Rejets_nomad_20220506.csv\", sep = \";\")\n",
    "df4.head()"
   ]
  },
  {
   "cell_type": "code",
   "execution_count": null,
   "metadata": {},
   "outputs": [],
   "source": []
  },
  {
   "cell_type": "code",
   "execution_count": 8,
   "metadata": {},
   "outputs": [],
   "source": [
    "df_f = pd.concat([df, df1, df2, df3, df4])"
   ]
  },
  {
   "cell_type": "code",
   "execution_count": 13,
   "metadata": {},
   "outputs": [],
   "source": [
    "df_f[\"DATE_SOUSCRIPTION\"] = df_f[\"DATE DE SOUSCRIPTION\"].str.slice(0, 10)"
   ]
  },
  {
   "cell_type": "code",
   "execution_count": 14,
   "metadata": {},
   "outputs": [
    {
     "data": {
      "text/plain": [
       "array(['05/04/2022', '06/04/2022', '07/04/2022', '08/04/2022',\n",
       "       '09/04/2022', '10/04/2022', '11/04/2022', '12/04/2022',\n",
       "       '13/04/2022', '14/04/2022', '15/04/2022', '16/04/2022',\n",
       "       '17/04/2022', '18/04/2022', '19/04/2022', '20/04/2022',\n",
       "       '21/04/2022', '22/04/2022', '23/04/2022', '24/04/2022',\n",
       "       '25/04/2022', '26/04/2022', '27/04/2022', '28/04/2022',\n",
       "       '29/04/2022', '30/04/2022', '01/05/2022', '02/05/2022'],\n",
       "      dtype=object)"
      ]
     },
     "execution_count": 14,
     "metadata": {},
     "output_type": "execute_result"
    }
   ],
   "source": [
    "df_f[\"DATE_SOUSCRIPTION\"].unique()"
   ]
  },
  {
   "cell_type": "code",
   "execution_count": 11,
   "metadata": {},
   "outputs": [],
   "source": [
    "df_f2 = df_f.drop([\"DATE_SOUSCRIPTION\"], axis = 1)"
   ]
  },
  {
   "cell_type": "code",
   "execution_count": 12,
   "metadata": {},
   "outputs": [],
   "source": [
    "df_f2.to_csv(\"/Users/youssouf/Downloads/rejet_nomad_activation_202200506.csv\", index = False, sep = \";\")"
   ]
  },
  {
   "cell_type": "code",
   "execution_count": null,
   "metadata": {},
   "outputs": [],
   "source": []
  },
  {
   "cell_type": "code",
   "execution_count": 17,
   "metadata": {},
   "outputs": [
    {
     "ename": "AttributeError",
     "evalue": "'DataFrame' object has no attribute 'option'",
     "output_type": "error",
     "traceback": [
      "\u001b[0;31m---------------------------------------------------------------------------\u001b[0m",
      "\u001b[0;31mAttributeError\u001b[0m                            Traceback (most recent call last)",
      "\u001b[0;32m<ipython-input-17-94db319cc04d>\u001b[0m in \u001b[0;36m<module>\u001b[0;34m\u001b[0m\n\u001b[0;32m----> 1\u001b[0;31m \u001b[0mdf\u001b[0m \u001b[0;34m=\u001b[0m \u001b[0mspark\u001b[0m\u001b[0;34m.\u001b[0m\u001b[0mread\u001b[0m\u001b[0;34m.\u001b[0m\u001b[0mcsv\u001b[0m\u001b[0;34m(\u001b[0m\u001b[0;34m\"/Users/youssouf/Downloads/rejet_nomad_activation_202200506.csv\"\u001b[0m\u001b[0;34m)\u001b[0m\u001b[0;34m.\u001b[0m\u001b[0moption\u001b[0m\u001b[0;34m(\u001b[0m\u001b[0;34m\"delimiter\"\u001b[0m\u001b[0;34m,\u001b[0m \u001b[0;34m\";\"\u001b[0m\u001b[0;34m)\u001b[0m\u001b[0;34m.\u001b[0m\u001b[0moption\u001b[0m\u001b[0;34m(\u001b[0m\u001b[0;34m\"header\"\u001b[0m\u001b[0;34m,\u001b[0m \u001b[0;32mTrue\u001b[0m\u001b[0;34m)\u001b[0m\u001b[0;34m\u001b[0m\u001b[0;34m\u001b[0m\u001b[0m\n\u001b[0m\u001b[1;32m      2\u001b[0m \u001b[0;34m\u001b[0m\u001b[0m\n\u001b[1;32m      3\u001b[0m \u001b[0mdf\u001b[0m\u001b[0;34m.\u001b[0m\u001b[0mshow\u001b[0m\u001b[0;34m(\u001b[0m\u001b[0;34m)\u001b[0m\u001b[0;34m\u001b[0m\u001b[0;34m\u001b[0m\u001b[0m\n",
      "\u001b[0;32m/usr/local/Cellar/apache-spark/3.0.1/libexec/python/pyspark/sql/dataframe.py\u001b[0m in \u001b[0;36m__getattr__\u001b[0;34m(self, name)\u001b[0m\n\u001b[1;32m   1641\u001b[0m         \"\"\"\n\u001b[1;32m   1642\u001b[0m         \u001b[0;32mif\u001b[0m \u001b[0mname\u001b[0m \u001b[0;32mnot\u001b[0m \u001b[0;32min\u001b[0m \u001b[0mself\u001b[0m\u001b[0;34m.\u001b[0m\u001b[0mcolumns\u001b[0m\u001b[0;34m:\u001b[0m\u001b[0;34m\u001b[0m\u001b[0;34m\u001b[0m\u001b[0m\n\u001b[0;32m-> 1643\u001b[0;31m             raise AttributeError(\n\u001b[0m\u001b[1;32m   1644\u001b[0m                 \"'%s' object has no attribute '%s'\" % (self.__class__.__name__, name))\n\u001b[1;32m   1645\u001b[0m         \u001b[0mjc\u001b[0m \u001b[0;34m=\u001b[0m \u001b[0mself\u001b[0m\u001b[0;34m.\u001b[0m\u001b[0m_jdf\u001b[0m\u001b[0;34m.\u001b[0m\u001b[0mapply\u001b[0m\u001b[0;34m(\u001b[0m\u001b[0mname\u001b[0m\u001b[0;34m)\u001b[0m\u001b[0;34m\u001b[0m\u001b[0;34m\u001b[0m\u001b[0m\n",
      "\u001b[0;31mAttributeError\u001b[0m: 'DataFrame' object has no attribute 'option'"
     ]
    }
   ],
   "source": [
    "df = spark.read.csv(\"/Users/youssouf/Downloads/rejet_nomad_activation_202200506.csv\").option(\"delimiter\", \";\").option(\"header\", True)\n",
    "\n",
    "df.show()\n"
   ]
  },
  {
   "cell_type": "code",
   "execution_count": 37,
   "metadata": {},
   "outputs": [
    {
     "name": "stdout",
     "output_type": "stream",
     "text": [
      "+--------+----------+---------+-----------------+--------------------+--------------------+\n",
      "|N� ORDRE|N� DOSSIER|   NUMERO|STATUT DU DOSSIER|      NOM DE L'AGENT|DATE DE SOUSCRIPTION|\n",
      "+--------+----------+---------+-----------------+--------------------+--------------------+\n",
      "|      54|  60940293|767882147|           VALIDE|DIALLO IDRISS YAC...|    05/04/2022 16:13|\n",
      "|      61|  60939830|759124873|           VALIDE|PDVL AMANDA PREST...|    05/04/2022 16:02|\n",
      "|     654|  60969056|798704470|           VALIDE|PDVL AMANDA PREST...|    06/04/2022 15:18|\n",
      "|     731|  60965652|788325166|           VALIDE|PDVL AMANDA PREST...|    06/04/2022 14:02|\n",
      "|     751|  60964562|748372666|           VALIDE|PDVL AMANDA PREST...|    06/04/2022 13:41|\n",
      "|     939|  60956771|767391266|           VALIDE|ACTION T122 CAN B...|    06/04/2022 11:24|\n",
      "|    1135|  60950039|701260098|           VALIDE|PMO T2 2022 ACTIO...|    06/04/2022 09:24|\n",
      "|    1139|  60949959|700314011|           VALIDE|DIALLO FATOGOMA -...|    06/04/2022 09:18|\n",
      "|    1205|  60947790|701769314|           VALIDE|PCU Seller PCU Se...|    06/04/2022 08:24|\n",
      "|    1286|  61007786|798691817|           VALIDE|BAGUI LYDIA - pdv...|    07/04/2022 16:58|\n",
      "|    1326|  61005410|797549817|           VALIDE|BOP ACTION GODO G...|    07/04/2022 16:04|\n",
      "|    1354|  61004105|749161111|           VALIDE|REGHI TELECOM REG...|    07/04/2022 15:41|\n",
      "|    1648|  60990472|758092690|           VALIDE|PCU Seller PCU Se...|    07/04/2022 11:53|\n",
      "|    1894|  60981512|768563775|           VALIDE|DIALLO IDRISS YAC...|    07/04/2022 09:25|\n",
      "|    1899|  60981207|777447872|           VALIDE|PCU Seller PCU Se...|    07/04/2022 09:19|\n",
      "|    2126|  61039870|749043013|           VALIDE|PCU Seller PCU Se...|    08/04/2022 15:31|\n",
      "|    2369|  61032645|749214316|           VALIDE|BOP ACTION GODO G...|    08/04/2022 13:17|\n",
      "|    2586|  61027391|777932229|           VALIDE|ACTION PMO T2-22 ...|    08/04/2022 11:48|\n",
      "|    3079|  61074370|758925767|           VALIDE|BOP ACTION GODO G...|    09/04/2022 17:02|\n",
      "|    3432|  61099371|798711786|           VALIDE|SORO   SEYDOU - p...|    10/04/2022 19:41|\n",
      "+--------+----------+---------+-----------------+--------------------+--------------------+\n",
      "only showing top 20 rows\n",
      "\n"
     ]
    }
   ],
   "source": [
    "df = spark.read \\\n",
    "      .option(\"delimiter\", \";\") \\\n",
    "      .option(\"header\", \"true\") \\\n",
    "      .csv(\"/Users/youssouf/Downloads/rejet_nomad_activation_202200506.csv\") \\\n",
    "      .dropDuplicates()\n",
    "\n",
    "df.show()"
   ]
  },
  {
   "cell_type": "code",
   "execution_count": 40,
   "metadata": {},
   "outputs": [],
   "source": [
    "df = df.withColumn(\"dt\", to_date(substring(col(\"DATE DE SOUSCRIPTION\"), 1, 10), \"dd/MM/yyyy\"))"
   ]
  },
  {
   "cell_type": "code",
   "execution_count": 35,
   "metadata": {},
   "outputs": [],
   "source": [
    "#df = df .withColumn(\"dt\", col(\"dt\").cast( DateType() ))"
   ]
  },
  {
   "cell_type": "code",
   "execution_count": 41,
   "metadata": {},
   "outputs": [
    {
     "name": "stdout",
     "output_type": "stream",
     "text": [
      "+--------+----------+---------+-----------------+--------------------+--------------------+----------+\n",
      "|N� ORDRE|N� DOSSIER|   NUMERO|STATUT DU DOSSIER|      NOM DE L'AGENT|DATE DE SOUSCRIPTION|        dt|\n",
      "+--------+----------+---------+-----------------+--------------------+--------------------+----------+\n",
      "|      54|  60940293|767882147|           VALIDE|DIALLO IDRISS YAC...|    05/04/2022 16:13|2022-04-05|\n",
      "|      61|  60939830|759124873|           VALIDE|PDVL AMANDA PREST...|    05/04/2022 16:02|2022-04-05|\n",
      "|     654|  60969056|798704470|           VALIDE|PDVL AMANDA PREST...|    06/04/2022 15:18|2022-04-06|\n",
      "|     731|  60965652|788325166|           VALIDE|PDVL AMANDA PREST...|    06/04/2022 14:02|2022-04-06|\n",
      "|     751|  60964562|748372666|           VALIDE|PDVL AMANDA PREST...|    06/04/2022 13:41|2022-04-06|\n",
      "|     939|  60956771|767391266|           VALIDE|ACTION T122 CAN B...|    06/04/2022 11:24|2022-04-06|\n",
      "|    1135|  60950039|701260098|           VALIDE|PMO T2 2022 ACTIO...|    06/04/2022 09:24|2022-04-06|\n",
      "|    1139|  60949959|700314011|           VALIDE|DIALLO FATOGOMA -...|    06/04/2022 09:18|2022-04-06|\n",
      "|    1205|  60947790|701769314|           VALIDE|PCU Seller PCU Se...|    06/04/2022 08:24|2022-04-06|\n",
      "|    1286|  61007786|798691817|           VALIDE|BAGUI LYDIA - pdv...|    07/04/2022 16:58|2022-04-07|\n",
      "|    1326|  61005410|797549817|           VALIDE|BOP ACTION GODO G...|    07/04/2022 16:04|2022-04-07|\n",
      "|    1354|  61004105|749161111|           VALIDE|REGHI TELECOM REG...|    07/04/2022 15:41|2022-04-07|\n",
      "|    1648|  60990472|758092690|           VALIDE|PCU Seller PCU Se...|    07/04/2022 11:53|2022-04-07|\n",
      "|    1894|  60981512|768563775|           VALIDE|DIALLO IDRISS YAC...|    07/04/2022 09:25|2022-04-07|\n",
      "|    1899|  60981207|777447872|           VALIDE|PCU Seller PCU Se...|    07/04/2022 09:19|2022-04-07|\n",
      "|    2126|  61039870|749043013|           VALIDE|PCU Seller PCU Se...|    08/04/2022 15:31|2022-04-08|\n",
      "|    2369|  61032645|749214316|           VALIDE|BOP ACTION GODO G...|    08/04/2022 13:17|2022-04-08|\n",
      "|    2586|  61027391|777932229|           VALIDE|ACTION PMO T2-22 ...|    08/04/2022 11:48|2022-04-08|\n",
      "|    3079|  61074370|758925767|           VALIDE|BOP ACTION GODO G...|    09/04/2022 17:02|2022-04-09|\n",
      "|    3432|  61099371|798711786|           VALIDE|SORO   SEYDOU - p...|    10/04/2022 19:41|2022-04-10|\n",
      "+--------+----------+---------+-----------------+--------------------+--------------------+----------+\n",
      "only showing top 20 rows\n",
      "\n"
     ]
    }
   ],
   "source": [
    "df.show()"
   ]
  },
  {
   "cell_type": "code",
   "execution_count": 50,
   "metadata": {},
   "outputs": [
    {
     "data": {
      "text/plain": [
       "Row(min(dt)=datetime.date(2022, 4, 5))"
      ]
     },
     "execution_count": 50,
     "metadata": {},
     "output_type": "execute_result"
    }
   ],
   "source": [
    "df.select(min(col(\"dt\"))).first().asInstanceOf[Double]"
   ]
  },
  {
   "cell_type": "code",
   "execution_count": 53,
   "metadata": {},
   "outputs": [
    {
     "ename": "AttributeError",
     "evalue": "get",
     "output_type": "error",
     "traceback": [
      "\u001b[0;31m---------------------------------------------------------------------------\u001b[0m",
      "\u001b[0;31mValueError\u001b[0m                                Traceback (most recent call last)",
      "\u001b[0;32m/usr/local/Cellar/apache-spark/3.0.1/libexec/python/pyspark/sql/types.py\u001b[0m in \u001b[0;36m__getattr__\u001b[0;34m(self, item)\u001b[0m\n\u001b[1;32m   1570\u001b[0m             \u001b[0;31m# but this will not be used in normal cases\u001b[0m\u001b[0;34m\u001b[0m\u001b[0;34m\u001b[0m\u001b[0;34m\u001b[0m\u001b[0m\n\u001b[0;32m-> 1571\u001b[0;31m             \u001b[0midx\u001b[0m \u001b[0;34m=\u001b[0m \u001b[0mself\u001b[0m\u001b[0;34m.\u001b[0m\u001b[0m__fields__\u001b[0m\u001b[0;34m.\u001b[0m\u001b[0mindex\u001b[0m\u001b[0;34m(\u001b[0m\u001b[0mitem\u001b[0m\u001b[0;34m)\u001b[0m\u001b[0;34m\u001b[0m\u001b[0;34m\u001b[0m\u001b[0m\n\u001b[0m\u001b[1;32m   1572\u001b[0m             \u001b[0;32mreturn\u001b[0m \u001b[0mself\u001b[0m\u001b[0;34m[\u001b[0m\u001b[0midx\u001b[0m\u001b[0;34m]\u001b[0m\u001b[0;34m\u001b[0m\u001b[0;34m\u001b[0m\u001b[0m\n",
      "\u001b[0;31mValueError\u001b[0m: 'get' is not in list",
      "\nDuring handling of the above exception, another exception occurred:\n",
      "\u001b[0;31mAttributeError\u001b[0m                            Traceback (most recent call last)",
      "\u001b[0;32m<ipython-input-53-e110c513b5c4>\u001b[0m in \u001b[0;36m<module>\u001b[0;34m\u001b[0m\n\u001b[0;32m----> 1\u001b[0;31m \u001b[0mdf\u001b[0m\u001b[0;34m.\u001b[0m\u001b[0mselect\u001b[0m\u001b[0;34m(\u001b[0m\u001b[0mmax\u001b[0m\u001b[0;34m(\u001b[0m\u001b[0mcol\u001b[0m\u001b[0;34m(\u001b[0m\u001b[0;34m\"dt\"\u001b[0m\u001b[0;34m)\u001b[0m\u001b[0;34m)\u001b[0m\u001b[0;34m)\u001b[0m\u001b[0;34m.\u001b[0m\u001b[0mfirst\u001b[0m\u001b[0;34m(\u001b[0m\u001b[0;34m)\u001b[0m\u001b[0;34m.\u001b[0m\u001b[0mget\u001b[0m\u001b[0;34m(\u001b[0m\u001b[0;36m0\u001b[0m\u001b[0;34m)\u001b[0m\u001b[0;34m.\u001b[0m\u001b[0masInstanceOf\u001b[0m\u001b[0;34m[\u001b[0m\u001b[0mString\u001b[0m\u001b[0;34m]\u001b[0m\u001b[0;34m\u001b[0m\u001b[0;34m\u001b[0m\u001b[0m\n\u001b[0m",
      "\u001b[0;32m/usr/local/Cellar/apache-spark/3.0.1/libexec/python/pyspark/sql/types.py\u001b[0m in \u001b[0;36m__getattr__\u001b[0;34m(self, item)\u001b[0m\n\u001b[1;32m   1574\u001b[0m             \u001b[0;32mraise\u001b[0m \u001b[0mAttributeError\u001b[0m\u001b[0;34m(\u001b[0m\u001b[0mitem\u001b[0m\u001b[0;34m)\u001b[0m\u001b[0;34m\u001b[0m\u001b[0;34m\u001b[0m\u001b[0m\n\u001b[1;32m   1575\u001b[0m         \u001b[0;32mexcept\u001b[0m \u001b[0mValueError\u001b[0m\u001b[0;34m:\u001b[0m\u001b[0;34m\u001b[0m\u001b[0;34m\u001b[0m\u001b[0m\n\u001b[0;32m-> 1576\u001b[0;31m             \u001b[0;32mraise\u001b[0m \u001b[0mAttributeError\u001b[0m\u001b[0;34m(\u001b[0m\u001b[0mitem\u001b[0m\u001b[0;34m)\u001b[0m\u001b[0;34m\u001b[0m\u001b[0;34m\u001b[0m\u001b[0m\n\u001b[0m\u001b[1;32m   1577\u001b[0m \u001b[0;34m\u001b[0m\u001b[0m\n\u001b[1;32m   1578\u001b[0m     \u001b[0;32mdef\u001b[0m \u001b[0m__setattr__\u001b[0m\u001b[0;34m(\u001b[0m\u001b[0mself\u001b[0m\u001b[0;34m,\u001b[0m \u001b[0mkey\u001b[0m\u001b[0;34m,\u001b[0m \u001b[0mvalue\u001b[0m\u001b[0;34m)\u001b[0m\u001b[0;34m:\u001b[0m\u001b[0;34m\u001b[0m\u001b[0;34m\u001b[0m\u001b[0m\n",
      "\u001b[0;31mAttributeError\u001b[0m: get"
     ]
    }
   ],
   "source": [
    "df.select(max(col(\"dt\"))).first().get(0).asInstanceOf[String]"
   ]
  },
  {
   "cell_type": "code",
   "execution_count": 25,
   "metadata": {},
   "outputs": [
    {
     "name": "stdout",
     "output_type": "stream",
     "text": [
      "+----------+\n",
      "|        dt|\n",
      "+----------+\n",
      "|30/04/2022|\n",
      "|26/04/2022|\n",
      "|25/04/2022|\n",
      "|19/04/2022|\n",
      "|09/04/2022|\n",
      "|02/05/2022|\n",
      "|15/04/2022|\n",
      "|20/04/2022|\n",
      "|13/04/2022|\n",
      "|23/04/2022|\n",
      "|05/04/2022|\n",
      "|29/04/2022|\n",
      "|06/04/2022|\n",
      "|12/04/2022|\n",
      "|18/04/2022|\n",
      "|01/05/2022|\n",
      "|28/04/2022|\n",
      "|21/04/2022|\n",
      "|11/04/2022|\n",
      "|17/04/2022|\n",
      "|08/04/2022|\n",
      "|16/04/2022|\n",
      "|22/04/2022|\n",
      "|27/04/2022|\n",
      "|10/04/2022|\n",
      "|24/04/2022|\n",
      "|14/04/2022|\n",
      "|07/04/2022|\n",
      "+----------+\n",
      "\n"
     ]
    }
   ],
   "source": [
    "df.select(\"dt\").distinct().show(30)"
   ]
  },
  {
   "cell_type": "code",
   "execution_count": 14,
   "metadata": {},
   "outputs": [],
   "source": [
    "df_f = pd.concat([df, df1, df2, df3])"
   ]
  },
  {
   "cell_type": "code",
   "execution_count": 15,
   "metadata": {},
   "outputs": [
    {
     "data": {
      "text/html": [
       "<div>\n",
       "<style scoped>\n",
       "    .dataframe tbody tr th:only-of-type {\n",
       "        vertical-align: middle;\n",
       "    }\n",
       "\n",
       "    .dataframe tbody tr th {\n",
       "        vertical-align: top;\n",
       "    }\n",
       "\n",
       "    .dataframe thead th {\n",
       "        text-align: right;\n",
       "    }\n",
       "</style>\n",
       "<table border=\"1\" class=\"dataframe\">\n",
       "  <thead>\n",
       "    <tr style=\"text-align: right;\">\n",
       "      <th></th>\n",
       "      <th>N� ORDRE</th>\n",
       "      <th>N� DOSSIER</th>\n",
       "      <th>NUMERO</th>\n",
       "      <th>STATUT DU DOSSIER</th>\n",
       "      <th>NOM DE L'AGENT</th>\n",
       "      <th>DATE DE SOUSCRIPTION</th>\n",
       "    </tr>\n",
       "  </thead>\n",
       "  <tbody>\n",
       "    <tr>\n",
       "      <th>0</th>\n",
       "      <td>1</td>\n",
       "      <td>60945544</td>\n",
       "      <td>701939119</td>\n",
       "      <td>VALIDE</td>\n",
       "      <td>SERY  JEAN EUDES PAULIN - ext_pdv_sii_serj_5305</td>\n",
       "      <td>05/04/2022 20:19</td>\n",
       "    </tr>\n",
       "    <tr>\n",
       "      <th>1</th>\n",
       "      <td>2</td>\n",
       "      <td>60945515</td>\n",
       "      <td>701965112</td>\n",
       "      <td>VALIDE</td>\n",
       "      <td>JOSUE AGOUA  - indep_agoua_8298</td>\n",
       "      <td>05/04/2022 10:16</td>\n",
       "    </tr>\n",
       "    <tr>\n",
       "      <th>2</th>\n",
       "      <td>3</td>\n",
       "      <td>60945478</td>\n",
       "      <td>789823090</td>\n",
       "      <td>VALIDE</td>\n",
       "      <td>EPONOU St?phanie Kouadio - pmot122-lean-07</td>\n",
       "      <td>05/04/2022 20:10</td>\n",
       "    </tr>\n",
       "    <tr>\n",
       "      <th>3</th>\n",
       "      <td>4</td>\n",
       "      <td>60945067</td>\n",
       "      <td>797286466</td>\n",
       "      <td>VALIDE</td>\n",
       "      <td>EPONOU St?phanie Kouadio - pmot122-lean-07</td>\n",
       "      <td>05/04/2022 19:28</td>\n",
       "    </tr>\n",
       "    <tr>\n",
       "      <th>4</th>\n",
       "      <td>5</td>\n",
       "      <td>60944898</td>\n",
       "      <td>768159126</td>\n",
       "      <td>VALIDE</td>\n",
       "      <td>MC ACTION PMO T1-2022 - tkgspmot122-06</td>\n",
       "      <td>05/04/2022 19:13</td>\n",
       "    </tr>\n",
       "  </tbody>\n",
       "</table>\n",
       "</div>"
      ],
      "text/plain": [
       "   N� ORDRE N� DOSSIER     NUMERO STATUT DU DOSSIER  \\\n",
       "0         1   60945544  701939119            VALIDE   \n",
       "1         2   60945515  701965112            VALIDE   \n",
       "2         3   60945478  789823090            VALIDE   \n",
       "3         4   60945067  797286466            VALIDE   \n",
       "4         5   60944898  768159126            VALIDE   \n",
       "\n",
       "                                    NOM DE L'AGENT DATE DE SOUSCRIPTION  \n",
       "0  SERY  JEAN EUDES PAULIN - ext_pdv_sii_serj_5305     05/04/2022 20:19  \n",
       "1                  JOSUE AGOUA  - indep_agoua_8298     05/04/2022 10:16  \n",
       "2       EPONOU St?phanie Kouadio - pmot122-lean-07     05/04/2022 20:10  \n",
       "3       EPONOU St?phanie Kouadio - pmot122-lean-07     05/04/2022 19:28  \n",
       "4           MC ACTION PMO T1-2022 - tkgspmot122-06     05/04/2022 19:13  "
      ]
     },
     "execution_count": 15,
     "metadata": {},
     "output_type": "execute_result"
    }
   ],
   "source": [
    "df_f.head()"
   ]
  },
  {
   "cell_type": "code",
   "execution_count": 16,
   "metadata": {},
   "outputs": [
    {
     "data": {
      "text/html": [
       "<div>\n",
       "<style scoped>\n",
       "    .dataframe tbody tr th:only-of-type {\n",
       "        vertical-align: middle;\n",
       "    }\n",
       "\n",
       "    .dataframe tbody tr th {\n",
       "        vertical-align: top;\n",
       "    }\n",
       "\n",
       "    .dataframe thead th {\n",
       "        text-align: right;\n",
       "    }\n",
       "</style>\n",
       "<table border=\"1\" class=\"dataframe\">\n",
       "  <thead>\n",
       "    <tr style=\"text-align: right;\">\n",
       "      <th></th>\n",
       "      <th>N� ORDRE</th>\n",
       "      <th>N� DOSSIER</th>\n",
       "      <th>NUMERO</th>\n",
       "      <th>STATUT DU DOSSIER</th>\n",
       "      <th>NOM DE L'AGENT</th>\n",
       "      <th>DATE DE SOUSCRIPTION</th>\n",
       "      <th>DATE_SOUSCRIPTION</th>\n",
       "    </tr>\n",
       "  </thead>\n",
       "  <tbody>\n",
       "    <tr>\n",
       "      <th>0</th>\n",
       "      <td>1</td>\n",
       "      <td>60945544</td>\n",
       "      <td>701939119</td>\n",
       "      <td>VALIDE</td>\n",
       "      <td>SERY  JEAN EUDES PAULIN - ext_pdv_sii_serj_5305</td>\n",
       "      <td>05/04/2022 20:19</td>\n",
       "      <td>05/04/202</td>\n",
       "    </tr>\n",
       "    <tr>\n",
       "      <th>1</th>\n",
       "      <td>2</td>\n",
       "      <td>60945515</td>\n",
       "      <td>701965112</td>\n",
       "      <td>VALIDE</td>\n",
       "      <td>JOSUE AGOUA  - indep_agoua_8298</td>\n",
       "      <td>05/04/2022 10:16</td>\n",
       "      <td>05/04/202</td>\n",
       "    </tr>\n",
       "    <tr>\n",
       "      <th>2</th>\n",
       "      <td>3</td>\n",
       "      <td>60945478</td>\n",
       "      <td>789823090</td>\n",
       "      <td>VALIDE</td>\n",
       "      <td>EPONOU St?phanie Kouadio - pmot122-lean-07</td>\n",
       "      <td>05/04/2022 20:10</td>\n",
       "      <td>05/04/202</td>\n",
       "    </tr>\n",
       "    <tr>\n",
       "      <th>3</th>\n",
       "      <td>4</td>\n",
       "      <td>60945067</td>\n",
       "      <td>797286466</td>\n",
       "      <td>VALIDE</td>\n",
       "      <td>EPONOU St?phanie Kouadio - pmot122-lean-07</td>\n",
       "      <td>05/04/2022 19:28</td>\n",
       "      <td>05/04/202</td>\n",
       "    </tr>\n",
       "    <tr>\n",
       "      <th>4</th>\n",
       "      <td>5</td>\n",
       "      <td>60944898</td>\n",
       "      <td>768159126</td>\n",
       "      <td>VALIDE</td>\n",
       "      <td>MC ACTION PMO T1-2022 - tkgspmot122-06</td>\n",
       "      <td>05/04/2022 19:13</td>\n",
       "      <td>05/04/202</td>\n",
       "    </tr>\n",
       "  </tbody>\n",
       "</table>\n",
       "</div>"
      ],
      "text/plain": [
       "   N� ORDRE N� DOSSIER     NUMERO STATUT DU DOSSIER  \\\n",
       "0         1   60945544  701939119            VALIDE   \n",
       "1         2   60945515  701965112            VALIDE   \n",
       "2         3   60945478  789823090            VALIDE   \n",
       "3         4   60945067  797286466            VALIDE   \n",
       "4         5   60944898  768159126            VALIDE   \n",
       "\n",
       "                                    NOM DE L'AGENT DATE DE SOUSCRIPTION  \\\n",
       "0  SERY  JEAN EUDES PAULIN - ext_pdv_sii_serj_5305     05/04/2022 20:19   \n",
       "1                  JOSUE AGOUA  - indep_agoua_8298     05/04/2022 10:16   \n",
       "2       EPONOU St?phanie Kouadio - pmot122-lean-07     05/04/2022 20:10   \n",
       "3       EPONOU St?phanie Kouadio - pmot122-lean-07     05/04/2022 19:28   \n",
       "4           MC ACTION PMO T1-2022 - tkgspmot122-06     05/04/2022 19:13   \n",
       "\n",
       "  DATE_SOUSCRIPTION  \n",
       "0         05/04/202  \n",
       "1         05/04/202  \n",
       "2         05/04/202  \n",
       "3         05/04/202  \n",
       "4         05/04/202  "
      ]
     },
     "execution_count": 16,
     "metadata": {},
     "output_type": "execute_result"
    }
   ],
   "source": [
    "df_f[\"DATE_SOUSCRIPTION\"] = df_f[\"DATE DE SOUSCRIPTION\"].str.slice(0, 9)\n",
    "df_f.head()"
   ]
  },
  {
   "cell_type": "code",
   "execution_count": 17,
   "metadata": {},
   "outputs": [
    {
     "data": {
      "text/plain": [
       "array(['05/04/202', '06/04/202', '07/04/202', '08/04/202', '09/04/202',\n",
       "       '10/04/202', '11/04/202', '12/04/202', '13/04/202', '14/04/202',\n",
       "       '15/04/202', '16/04/202', '17/04/202', '18/04/202', '19/04/202',\n",
       "       '20/04/202', '21/04/202', '22/04/202', '23/04/202', '24/04/202'],\n",
       "      dtype=object)"
      ]
     },
     "execution_count": 17,
     "metadata": {},
     "output_type": "execute_result"
    }
   ],
   "source": [
    "df_f[\"DATE_SOUSCRIPTION\"].unique()"
   ]
  },
  {
   "cell_type": "code",
   "execution_count": null,
   "metadata": {},
   "outputs": [],
   "source": [
    "df_f[\"DATE_SOUSCRIPTION\"]"
   ]
  },
  {
   "cell_type": "code",
   "execution_count": 19,
   "metadata": {},
   "outputs": [],
   "source": [
    "df_f1 = df_f[~df_f[\"DATE_SOUSCRIPTION\"].isin(['20/04/202', '21/04/202', '22/04/202', '23/04/202', '24/04/202'])]"
   ]
  },
  {
   "cell_type": "code",
   "execution_count": 21,
   "metadata": {},
   "outputs": [
    {
     "data": {
      "text/html": [
       "<div>\n",
       "<style scoped>\n",
       "    .dataframe tbody tr th:only-of-type {\n",
       "        vertical-align: middle;\n",
       "    }\n",
       "\n",
       "    .dataframe tbody tr th {\n",
       "        vertical-align: top;\n",
       "    }\n",
       "\n",
       "    .dataframe thead th {\n",
       "        text-align: right;\n",
       "    }\n",
       "</style>\n",
       "<table border=\"1\" class=\"dataframe\">\n",
       "  <thead>\n",
       "    <tr style=\"text-align: right;\">\n",
       "      <th></th>\n",
       "      <th>N� ORDRE</th>\n",
       "      <th>N� DOSSIER</th>\n",
       "      <th>NUMERO</th>\n",
       "      <th>STATUT DU DOSSIER</th>\n",
       "      <th>NOM DE L'AGENT</th>\n",
       "      <th>DATE DE SOUSCRIPTION</th>\n",
       "    </tr>\n",
       "  </thead>\n",
       "  <tbody>\n",
       "    <tr>\n",
       "      <th>0</th>\n",
       "      <td>1</td>\n",
       "      <td>60945544</td>\n",
       "      <td>701939119</td>\n",
       "      <td>VALIDE</td>\n",
       "      <td>SERY  JEAN EUDES PAULIN - ext_pdv_sii_serj_5305</td>\n",
       "      <td>05/04/2022 20:19</td>\n",
       "    </tr>\n",
       "    <tr>\n",
       "      <th>1</th>\n",
       "      <td>2</td>\n",
       "      <td>60945515</td>\n",
       "      <td>701965112</td>\n",
       "      <td>VALIDE</td>\n",
       "      <td>JOSUE AGOUA  - indep_agoua_8298</td>\n",
       "      <td>05/04/2022 10:16</td>\n",
       "    </tr>\n",
       "    <tr>\n",
       "      <th>2</th>\n",
       "      <td>3</td>\n",
       "      <td>60945478</td>\n",
       "      <td>789823090</td>\n",
       "      <td>VALIDE</td>\n",
       "      <td>EPONOU St?phanie Kouadio - pmot122-lean-07</td>\n",
       "      <td>05/04/2022 20:10</td>\n",
       "    </tr>\n",
       "    <tr>\n",
       "      <th>3</th>\n",
       "      <td>4</td>\n",
       "      <td>60945067</td>\n",
       "      <td>797286466</td>\n",
       "      <td>VALIDE</td>\n",
       "      <td>EPONOU St?phanie Kouadio - pmot122-lean-07</td>\n",
       "      <td>05/04/2022 19:28</td>\n",
       "    </tr>\n",
       "    <tr>\n",
       "      <th>4</th>\n",
       "      <td>5</td>\n",
       "      <td>60944898</td>\n",
       "      <td>768159126</td>\n",
       "      <td>VALIDE</td>\n",
       "      <td>MC ACTION PMO T1-2022 - tkgspmot122-06</td>\n",
       "      <td>05/04/2022 19:13</td>\n",
       "    </tr>\n",
       "  </tbody>\n",
       "</table>\n",
       "</div>"
      ],
      "text/plain": [
       "   N� ORDRE N� DOSSIER     NUMERO STATUT DU DOSSIER  \\\n",
       "0         1   60945544  701939119            VALIDE   \n",
       "1         2   60945515  701965112            VALIDE   \n",
       "2         3   60945478  789823090            VALIDE   \n",
       "3         4   60945067  797286466            VALIDE   \n",
       "4         5   60944898  768159126            VALIDE   \n",
       "\n",
       "                                    NOM DE L'AGENT DATE DE SOUSCRIPTION  \n",
       "0  SERY  JEAN EUDES PAULIN - ext_pdv_sii_serj_5305     05/04/2022 20:19  \n",
       "1                  JOSUE AGOUA  - indep_agoua_8298     05/04/2022 10:16  \n",
       "2       EPONOU St?phanie Kouadio - pmot122-lean-07     05/04/2022 20:10  \n",
       "3       EPONOU St?phanie Kouadio - pmot122-lean-07     05/04/2022 19:28  \n",
       "4           MC ACTION PMO T1-2022 - tkgspmot122-06     05/04/2022 19:13  "
      ]
     },
     "execution_count": 21,
     "metadata": {},
     "output_type": "execute_result"
    }
   ],
   "source": [
    "df_f2 = df_f1.drop([\"DATE_SOUSCRIPTION\"], axis = 1)\n",
    "df_f2.head()"
   ]
  },
  {
   "cell_type": "code",
   "execution_count": 23,
   "metadata": {},
   "outputs": [],
   "source": [
    "df_f2.to_csv(\"/Users/youssouf/Downloads/prime_transport_20220419.csv\", index = False, sep = \";\")"
   ]
  },
  {
   "cell_type": "code",
   "execution_count": null,
   "metadata": {},
   "outputs": [],
   "source": []
  },
  {
   "cell_type": "code",
   "execution_count": 6,
   "metadata": {},
   "outputs": [
    {
     "data": {
      "text/html": [
       "<div>\n",
       "<style scoped>\n",
       "    .dataframe tbody tr th:only-of-type {\n",
       "        vertical-align: middle;\n",
       "    }\n",
       "\n",
       "    .dataframe tbody tr th {\n",
       "        vertical-align: top;\n",
       "    }\n",
       "\n",
       "    .dataframe thead th {\n",
       "        text-align: right;\n",
       "    }\n",
       "</style>\n",
       "<table border=\"1\" class=\"dataframe\">\n",
       "  <thead>\n",
       "    <tr style=\"text-align: right;\">\n",
       "      <th></th>\n",
       "      <th>N� ORDRE</th>\n",
       "      <th>N� DOSSIER</th>\n",
       "      <th>NUMERO</th>\n",
       "      <th>STATUT DU DOSSIER</th>\n",
       "      <th>NOM DE L'AGENT</th>\n",
       "      <th>DATE DE SOUSCRIPTION</th>\n",
       "      <th>DATE_SOUSCRIPTION</th>\n",
       "    </tr>\n",
       "  </thead>\n",
       "  <tbody>\n",
       "    <tr>\n",
       "      <th>0</th>\n",
       "      <td>1</td>\n",
       "      <td>60945544</td>\n",
       "      <td>701939119</td>\n",
       "      <td>VALIDE</td>\n",
       "      <td>SERY  JEAN EUDES PAULIN - ext_pdv_sii_serj_5305</td>\n",
       "      <td>05/04/2022 20:19</td>\n",
       "      <td>05/04/202</td>\n",
       "    </tr>\n",
       "    <tr>\n",
       "      <th>1</th>\n",
       "      <td>2</td>\n",
       "      <td>60945515</td>\n",
       "      <td>701965112</td>\n",
       "      <td>VALIDE</td>\n",
       "      <td>JOSUE AGOUA  - indep_agoua_8298</td>\n",
       "      <td>05/04/2022 10:16</td>\n",
       "      <td>05/04/202</td>\n",
       "    </tr>\n",
       "    <tr>\n",
       "      <th>2</th>\n",
       "      <td>3</td>\n",
       "      <td>60945478</td>\n",
       "      <td>789823090</td>\n",
       "      <td>VALIDE</td>\n",
       "      <td>EPONOU St?phanie Kouadio - pmot122-lean-07</td>\n",
       "      <td>05/04/2022 20:10</td>\n",
       "      <td>05/04/202</td>\n",
       "    </tr>\n",
       "    <tr>\n",
       "      <th>3</th>\n",
       "      <td>4</td>\n",
       "      <td>60945067</td>\n",
       "      <td>797286466</td>\n",
       "      <td>VALIDE</td>\n",
       "      <td>EPONOU St?phanie Kouadio - pmot122-lean-07</td>\n",
       "      <td>05/04/2022 19:28</td>\n",
       "      <td>05/04/202</td>\n",
       "    </tr>\n",
       "    <tr>\n",
       "      <th>4</th>\n",
       "      <td>5</td>\n",
       "      <td>60944898</td>\n",
       "      <td>768159126</td>\n",
       "      <td>VALIDE</td>\n",
       "      <td>MC ACTION PMO T1-2022 - tkgspmot122-06</td>\n",
       "      <td>05/04/2022 19:13</td>\n",
       "      <td>05/04/202</td>\n",
       "    </tr>\n",
       "  </tbody>\n",
       "</table>\n",
       "</div>"
      ],
      "text/plain": [
       "   N� ORDRE  N� DOSSIER     NUMERO STATUT DU DOSSIER  \\\n",
       "0         1    60945544  701939119            VALIDE   \n",
       "1         2    60945515  701965112            VALIDE   \n",
       "2         3    60945478  789823090            VALIDE   \n",
       "3         4    60945067  797286466            VALIDE   \n",
       "4         5    60944898  768159126            VALIDE   \n",
       "\n",
       "                                    NOM DE L'AGENT DATE DE SOUSCRIPTION  \\\n",
       "0  SERY  JEAN EUDES PAULIN - ext_pdv_sii_serj_5305     05/04/2022 20:19   \n",
       "1                  JOSUE AGOUA  - indep_agoua_8298     05/04/2022 10:16   \n",
       "2       EPONOU St?phanie Kouadio - pmot122-lean-07     05/04/2022 20:10   \n",
       "3       EPONOU St?phanie Kouadio - pmot122-lean-07     05/04/2022 19:28   \n",
       "4           MC ACTION PMO T1-2022 - tkgspmot122-06     05/04/2022 19:13   \n",
       "\n",
       "  DATE_SOUSCRIPTION  \n",
       "0         05/04/202  \n",
       "1         05/04/202  \n",
       "2         05/04/202  \n",
       "3         05/04/202  \n",
       "4         05/04/202  "
      ]
     },
     "execution_count": 6,
     "metadata": {},
     "output_type": "execute_result"
    }
   ],
   "source": [
    "df[\"DATE_SOUSCRIPTION\"] = df[\"DATE DE SOUSCRIPTION\"].str.slice(0, 9)\n",
    "df.head()"
   ]
  },
  {
   "cell_type": "code",
   "execution_count": null,
   "metadata": {},
   "outputs": [],
   "source": []
  },
  {
   "cell_type": "code",
   "execution_count": null,
   "metadata": {},
   "outputs": [],
   "source": []
  },
  {
   "cell_type": "code",
   "execution_count": null,
   "metadata": {},
   "outputs": [],
   "source": []
  },
  {
   "cell_type": "code",
   "execution_count": null,
   "metadata": {},
   "outputs": [],
   "source": []
  },
  {
   "cell_type": "code",
   "execution_count": null,
   "metadata": {},
   "outputs": [],
   "source": []
  },
  {
   "cell_type": "code",
   "execution_count": null,
   "metadata": {},
   "outputs": [],
   "source": []
  },
  {
   "cell_type": "code",
   "execution_count": null,
   "metadata": {},
   "outputs": [],
   "source": []
  },
  {
   "cell_type": "code",
   "execution_count": 11,
   "metadata": {},
   "outputs": [
    {
     "data": {
      "text/html": [
       "<div>\n",
       "<style scoped>\n",
       "    .dataframe tbody tr th:only-of-type {\n",
       "        vertical-align: middle;\n",
       "    }\n",
       "\n",
       "    .dataframe tbody tr th {\n",
       "        vertical-align: top;\n",
       "    }\n",
       "\n",
       "    .dataframe thead th {\n",
       "        text-align: right;\n",
       "    }\n",
       "</style>\n",
       "<table border=\"1\" class=\"dataframe\">\n",
       "  <thead>\n",
       "    <tr style=\"text-align: right;\">\n",
       "      <th></th>\n",
       "      <th>N° ORDRE</th>\n",
       "      <th>N° DOSSIER</th>\n",
       "      <th>NUMERO</th>\n",
       "      <th>STATUT DU DOSSIER</th>\n",
       "      <th>NOM DE L'AGENT</th>\n",
       "      <th>DATE DE SOUSCRIPTION</th>\n",
       "    </tr>\n",
       "  </thead>\n",
       "  <tbody>\n",
       "    <tr>\n",
       "      <th>0</th>\n",
       "      <td>1</td>\n",
       "      <td>61608051</td>\n",
       "      <td>798609443</td>\n",
       "      <td>VALIDE</td>\n",
       "      <td>PMO T4 2021 ACTION - pmot421_districentre_43</td>\n",
       "      <td>25/04/2022 12:14</td>\n",
       "    </tr>\n",
       "    <tr>\n",
       "      <th>1</th>\n",
       "      <td>2</td>\n",
       "      <td>61652593</td>\n",
       "      <td>701398738</td>\n",
       "      <td>VALIDE</td>\n",
       "      <td>Yao Denise  - pmot222-ajs-50</td>\n",
       "      <td>25/04/2022 14:17</td>\n",
       "    </tr>\n",
       "    <tr>\n",
       "      <th>2</th>\n",
       "      <td>3</td>\n",
       "      <td>61638209</td>\n",
       "      <td>778968479</td>\n",
       "      <td>VALIDE</td>\n",
       "      <td>IGP ACTION GODO GODO - godogodo_igp_reghi010</td>\n",
       "      <td>25/04/2022 19:51</td>\n",
       "    </tr>\n",
       "    <tr>\n",
       "      <th>3</th>\n",
       "      <td>4</td>\n",
       "      <td>61638194</td>\n",
       "      <td>798067011</td>\n",
       "      <td>VALIDE</td>\n",
       "      <td>SUITE COM SUITE COM - pmot222-suitecom-24</td>\n",
       "      <td>25/04/2022 19:58</td>\n",
       "    </tr>\n",
       "    <tr>\n",
       "      <th>4</th>\n",
       "      <td>5</td>\n",
       "      <td>61638145</td>\n",
       "      <td>778267732</td>\n",
       "      <td>VALIDE</td>\n",
       "      <td>ISS ACTION GODO GODO - godogodo_iss_tid009</td>\n",
       "      <td>25/04/2022 19:55</td>\n",
       "    </tr>\n",
       "  </tbody>\n",
       "</table>\n",
       "</div>"
      ],
      "text/plain": [
       "   N° ORDRE N° DOSSIER     NUMERO STATUT DU DOSSIER  \\\n",
       "0         1   61608051  798609443            VALIDE   \n",
       "1         2   61652593  701398738            VALIDE   \n",
       "2         3   61638209  778968479            VALIDE   \n",
       "3         4   61638194  798067011            VALIDE   \n",
       "4         5   61638145  778267732            VALIDE   \n",
       "\n",
       "                                 NOM DE L'AGENT DATE DE SOUSCRIPTION  \n",
       "0  PMO T4 2021 ACTION - pmot421_districentre_43     25/04/2022 12:14  \n",
       "1                  Yao Denise  - pmot222-ajs-50     25/04/2022 14:17  \n",
       "2  IGP ACTION GODO GODO - godogodo_igp_reghi010     25/04/2022 19:51  \n",
       "3     SUITE COM SUITE COM - pmot222-suitecom-24     25/04/2022 19:58  \n",
       "4    ISS ACTION GODO GODO - godogodo_iss_tid009     25/04/2022 19:55  "
      ]
     },
     "execution_count": 11,
     "metadata": {},
     "output_type": "execute_result"
    }
   ],
   "source": [
    "df = pd.read_csv(\"/Users/diakite/Downloads/Telegram/Rejets_nomad_20220415.csv\", sep = \";\", encoding= 'unicode_escape')\n",
    "df.head()\n",
    "\n",
    "df1 = pd.read_csv(\"/Users/diakite/Downloads/Telegram/Rejets_nomad_20220422.csv\", sep = \";\", encoding= 'unicode_escape')\n",
    "df1.head()\n",
    "\n",
    "df2 = pd.read_csv(\"/Users/diakite/Downloads/Telegram/Rejets_nomad_20220426.csv\", sep = \";\", encoding= 'unicode_escape')\n",
    "df2.head()\n",
    "\n",
    "df3 = pd.read_csv(\"/Users/diakite/Downloads/Telegram/Rejets_nomad_20220429.csv\", sep = \";\", encoding= 'unicode_escape')\n",
    "df3.head()\n",
    "\n",
    "df4 = pd.read_csv(\"/Users/diakite/Downloads/Telegram/Rejets_nomad_20220506.csv\", sep = \";\", encoding= 'unicode_escape')\n",
    "df4.head()\n"
   ]
  },
  {
   "cell_type": "code",
   "execution_count": 12,
   "metadata": {},
   "outputs": [],
   "source": [
    "df_f = pd.concat([df, df1, df2, df3, df4])"
   ]
  },
  {
   "cell_type": "code",
   "execution_count": 13,
   "metadata": {},
   "outputs": [
    {
     "data": {
      "text/plain": [
       "array(['05/04/2022', '06/04/2022', '07/04/2022', '08/04/2022',\n",
       "       '09/04/2022', '10/04/2022', '11/04/2022', '12/04/2022',\n",
       "       '13/04/2022', '14/04/2022', '15/04/2022', '16/04/2022',\n",
       "       '17/04/2022', '18/04/2022', '19/04/2022', '20/04/2022',\n",
       "       '21/04/2022', '22/04/2022', '23/04/2022', '24/04/2022',\n",
       "       '25/04/2022', '26/04/2022', '27/04/2022', '28/04/2022',\n",
       "       '29/04/2022', '30/04/2022', '01/05/2022', '02/05/2022'],\n",
       "      dtype=object)"
      ]
     },
     "execution_count": 13,
     "metadata": {},
     "output_type": "execute_result"
    }
   ],
   "source": [
    "df_f[\"DATE_SOUSCRIPTION\"] = df_f[\"DATE DE SOUSCRIPTION\"].str.slice(0, 10)\n",
    "\n",
    "df_f[\"DATE_SOUSCRIPTION\"].unique()"
   ]
  },
  {
   "cell_type": "code",
   "execution_count": 14,
   "metadata": {},
   "outputs": [],
   "source": [
    "df_f1 = df_f[~df_f[\"DATE_SOUSCRIPTION\"].isin(['05/04/2022', '25/04/2022', '26/04/2022', '27/04/2022', '28/04/2022',\n",
    "       '29/04/2022', '30/04/2022', '01/05/2022', '02/05/2022'])]"
   ]
  },
  {
   "cell_type": "code",
   "execution_count": 15,
   "metadata": {},
   "outputs": [
    {
     "data": {
      "text/plain": [
       "array(['06/04/2022', '07/04/2022', '08/04/2022', '09/04/2022',\n",
       "       '10/04/2022', '11/04/2022', '12/04/2022', '13/04/2022',\n",
       "       '14/04/2022', '15/04/2022', '16/04/2022', '17/04/2022',\n",
       "       '18/04/2022', '19/04/2022', '20/04/2022', '21/04/2022',\n",
       "       '22/04/2022', '23/04/2022', '24/04/2022'], dtype=object)"
      ]
     },
     "execution_count": 15,
     "metadata": {},
     "output_type": "execute_result"
    }
   ],
   "source": [
    "df_f1[\"DATE_SOUSCRIPTION\"].unique()"
   ]
  },
  {
   "cell_type": "code",
   "execution_count": 16,
   "metadata": {},
   "outputs": [],
   "source": [
    "df_f2 = df_f1.drop([\"DATE_SOUSCRIPTION\"], axis = 1)"
   ]
  },
  {
   "cell_type": "code",
   "execution_count": 17,
   "metadata": {},
   "outputs": [],
   "source": [
    "df_f2.to_csv(\"/Users/diakite/Downloads/rejet_nomad_activation_BOP_20220424.csv\", index = False, sep = \";\")"
   ]
  },
  {
   "cell_type": "code",
   "execution_count": null,
   "metadata": {},
   "outputs": [],
   "source": []
  },
  {
   "cell_type": "code",
   "execution_count": 18,
   "metadata": {},
   "outputs": [],
   "source": [
    "df_f3 = df_f[~df_f[\"DATE_SOUSCRIPTION\"].isin(['05/04/2022', '06/04/2022', '07/04/2022', '08/04/2022',\n",
    "       '09/04/2022', '10/04/2022', '25/04/2022', '26/04/2022', '27/04/2022', '28/04/2022',\n",
    "       '29/04/2022', '30/04/2022', '01/05/2022', '02/05/2022'])]"
   ]
  },
  {
   "cell_type": "code",
   "execution_count": 19,
   "metadata": {},
   "outputs": [
    {
     "data": {
      "text/html": [
       "<div>\n",
       "<style scoped>\n",
       "    .dataframe tbody tr th:only-of-type {\n",
       "        vertical-align: middle;\n",
       "    }\n",
       "\n",
       "    .dataframe tbody tr th {\n",
       "        vertical-align: top;\n",
       "    }\n",
       "\n",
       "    .dataframe thead th {\n",
       "        text-align: right;\n",
       "    }\n",
       "</style>\n",
       "<table border=\"1\" class=\"dataframe\">\n",
       "  <thead>\n",
       "    <tr style=\"text-align: right;\">\n",
       "      <th></th>\n",
       "      <th>N° ORDRE</th>\n",
       "      <th>N° DOSSIER</th>\n",
       "      <th>NUMERO</th>\n",
       "      <th>STATUT DU DOSSIER</th>\n",
       "      <th>NOM DE L'AGENT</th>\n",
       "      <th>DATE DE SOUSCRIPTION</th>\n",
       "      <th>DATE_SOUSCRIPTION</th>\n",
       "    </tr>\n",
       "  </thead>\n",
       "  <tbody>\n",
       "    <tr>\n",
       "      <th>3687</th>\n",
       "      <td>3688</td>\n",
       "      <td>61157728</td>\n",
       "      <td>777466897</td>\n",
       "      <td>VALIDE</td>\n",
       "      <td>BOP ACTION GODO GODO - godogodo_bop_mos015</td>\n",
       "      <td>11/04/2022 16:54</td>\n",
       "      <td>11/04/2022</td>\n",
       "    </tr>\n",
       "    <tr>\n",
       "      <th>3688</th>\n",
       "      <td>3689</td>\n",
       "      <td>61127582</td>\n",
       "      <td>768812098</td>\n",
       "      <td>VALIDE</td>\n",
       "      <td>PMO T4 2021 ACTION - pmot421_districentre_43</td>\n",
       "      <td>11/04/2022 14:51</td>\n",
       "      <td>11/04/2022</td>\n",
       "    </tr>\n",
       "    <tr>\n",
       "      <th>3689</th>\n",
       "      <td>3690</td>\n",
       "      <td>61135334</td>\n",
       "      <td>789960915</td>\n",
       "      <td>VALIDE</td>\n",
       "      <td>MAGIC B ACTION PMO - pmot222_magicb_25</td>\n",
       "      <td>11/04/2022 16:52</td>\n",
       "      <td>11/04/2022</td>\n",
       "    </tr>\n",
       "    <tr>\n",
       "      <th>3690</th>\n",
       "      <td>3691</td>\n",
       "      <td>61147733</td>\n",
       "      <td>799077300</td>\n",
       "      <td>VALIDE</td>\n",
       "      <td>IGP ACTION GODO GODO - godogodo_igp_sc014</td>\n",
       "      <td>11/04/2022 17:17</td>\n",
       "      <td>11/04/2022</td>\n",
       "    </tr>\n",
       "    <tr>\n",
       "      <th>3691</th>\n",
       "      <td>3692</td>\n",
       "      <td>61140875</td>\n",
       "      <td>799566607</td>\n",
       "      <td>VALIDE</td>\n",
       "      <td>ACTION PMO T2 2022 - djoum2022_tid24</td>\n",
       "      <td>11/04/2022 21:49</td>\n",
       "      <td>11/04/2022</td>\n",
       "    </tr>\n",
       "  </tbody>\n",
       "</table>\n",
       "</div>"
      ],
      "text/plain": [
       "      N° ORDRE N° DOSSIER     NUMERO STATUT DU DOSSIER  \\\n",
       "3687      3688   61157728  777466897            VALIDE   \n",
       "3688      3689   61127582  768812098            VALIDE   \n",
       "3689      3690   61135334  789960915            VALIDE   \n",
       "3690      3691   61147733  799077300            VALIDE   \n",
       "3691      3692   61140875  799566607            VALIDE   \n",
       "\n",
       "                                    NOM DE L'AGENT DATE DE SOUSCRIPTION  \\\n",
       "3687    BOP ACTION GODO GODO - godogodo_bop_mos015     11/04/2022 16:54   \n",
       "3688  PMO T4 2021 ACTION - pmot421_districentre_43     11/04/2022 14:51   \n",
       "3689        MAGIC B ACTION PMO - pmot222_magicb_25     11/04/2022 16:52   \n",
       "3690     IGP ACTION GODO GODO - godogodo_igp_sc014     11/04/2022 17:17   \n",
       "3691          ACTION PMO T2 2022 - djoum2022_tid24     11/04/2022 21:49   \n",
       "\n",
       "     DATE_SOUSCRIPTION  \n",
       "3687        11/04/2022  \n",
       "3688        11/04/2022  \n",
       "3689        11/04/2022  \n",
       "3690        11/04/2022  \n",
       "3691        11/04/2022  "
      ]
     },
     "execution_count": 19,
     "metadata": {},
     "output_type": "execute_result"
    }
   ],
   "source": [
    "df_f3.head()"
   ]
  },
  {
   "cell_type": "code",
   "execution_count": 20,
   "metadata": {},
   "outputs": [],
   "source": [
    "df_f3 = df_f3.drop([\"DATE_SOUSCRIPTION\"], axis = 1)"
   ]
  },
  {
   "cell_type": "code",
   "execution_count": 21,
   "metadata": {},
   "outputs": [],
   "source": [
    "df_f3.to_csv(\"/Users/diakite/Downloads/rejet_nomad_activation_ISS_20220424.csv\", index = False, sep = \";\")"
   ]
  },
  {
   "cell_type": "code",
   "execution_count": null,
   "metadata": {},
   "outputs": [],
   "source": []
  },
  {
   "cell_type": "code",
   "execution_count": null,
   "metadata": {},
   "outputs": [],
   "source": []
  },
  {
   "cell_type": "code",
   "execution_count": null,
   "metadata": {},
   "outputs": [],
   "source": []
  },
  {
   "cell_type": "code",
   "execution_count": 22,
   "metadata": {},
   "outputs": [],
   "source": [
    "df_f4 = df_f[df_f[\"DATE_SOUSCRIPTION\"].isin(['19/04/2022', '20/04/2022',\n",
    "       '21/04/2022', '22/04/2022', '23/04/2022', '24/04/2022',\n",
    "       '25/04/2022', '26/04/2022', '27/04/2022', '28/04/2022',\n",
    "       '29/04/2022', '30/04/2022'])]"
   ]
  },
  {
   "cell_type": "code",
   "execution_count": null,
   "metadata": {},
   "outputs": [],
   "source": [
    "df_f4 = df_f4.drop([\"DATE_SOUSCRIPTION\"], axis = 1)"
   ]
  },
  {
   "cell_type": "code",
   "execution_count": 23,
   "metadata": {},
   "outputs": [],
   "source": [
    "df_f4.to_csv(\"/Users/diakite/Downloads/rejet_nomad_20220430.csv\", index = False, sep = \";\")"
   ]
  },
  {
   "cell_type": "code",
   "execution_count": null,
   "metadata": {},
   "outputs": [],
   "source": []
  },
  {
   "cell_type": "code",
   "execution_count": null,
   "metadata": {},
   "outputs": [],
   "source": [
    "df_f2 = df_f.drop([\"DATE_SOUSCRIPTION\"], axis = 1)\n",
    "\n",
    "#df_f2.to_csv(\"/Users/youssouf/Downloads/rejet_nomad_activation_202200506.csv\", index = False, sep = \";\")"
   ]
  },
  {
   "cell_type": "code",
   "execution_count": null,
   "metadata": {},
   "outputs": [],
   "source": []
  },
  {
   "cell_type": "code",
   "execution_count": null,
   "metadata": {},
   "outputs": [],
   "source": []
  },
  {
   "cell_type": "code",
   "execution_count": null,
   "metadata": {},
   "outputs": [],
   "source": []
  },
  {
   "cell_type": "code",
   "execution_count": null,
   "metadata": {},
   "outputs": [],
   "source": []
  },
  {
   "cell_type": "code",
   "execution_count": null,
   "metadata": {},
   "outputs": [],
   "source": []
  },
  {
   "cell_type": "code",
   "execution_count": null,
   "metadata": {},
   "outputs": [],
   "source": []
  },
  {
   "cell_type": "code",
   "execution_count": null,
   "metadata": {},
   "outputs": [],
   "source": []
  },
  {
   "cell_type": "code",
   "execution_count": null,
   "metadata": {},
   "outputs": [],
   "source": []
  },
  {
   "cell_type": "code",
   "execution_count": null,
   "metadata": {},
   "outputs": [],
   "source": []
  },
  {
   "cell_type": "markdown",
   "metadata": {},
   "source": [
    "### Comparison MC et Nomad "
   ]
  },
  {
   "cell_type": "code",
   "execution_count": 24,
   "metadata": {},
   "outputs": [
    {
     "data": {
      "text/html": [
       "<div>\n",
       "<style scoped>\n",
       "    .dataframe tbody tr th:only-of-type {\n",
       "        vertical-align: middle;\n",
       "    }\n",
       "\n",
       "    .dataframe tbody tr th {\n",
       "        vertical-align: top;\n",
       "    }\n",
       "\n",
       "    .dataframe thead th {\n",
       "        text-align: right;\n",
       "    }\n",
       "</style>\n",
       "<table border=\"1\" class=\"dataframe\">\n",
       "  <thead>\n",
       "    <tr style=\"text-align: right;\">\n",
       "      <th></th>\n",
       "      <th>N° ORDRE</th>\n",
       "      <th>N° DOSSIER</th>\n",
       "      <th>NUMERO</th>\n",
       "      <th>STATUT DU DOSSIER</th>\n",
       "      <th>NOM DE L'AGENT</th>\n",
       "      <th>DATE DE SOUSCRIPTION</th>\n",
       "    </tr>\n",
       "  </thead>\n",
       "  <tbody>\n",
       "    <tr>\n",
       "      <th>0</th>\n",
       "      <td>1</td>\n",
       "      <td>61608051</td>\n",
       "      <td>798609443</td>\n",
       "      <td>VALIDE</td>\n",
       "      <td>PMO T4 2021 ACTION - pmot421_districentre_43</td>\n",
       "      <td>25/04/2022 12:14</td>\n",
       "    </tr>\n",
       "    <tr>\n",
       "      <th>1</th>\n",
       "      <td>2</td>\n",
       "      <td>61652593</td>\n",
       "      <td>701398738</td>\n",
       "      <td>VALIDE</td>\n",
       "      <td>Yao Denise  - pmot222-ajs-50</td>\n",
       "      <td>25/04/2022 14:17</td>\n",
       "    </tr>\n",
       "    <tr>\n",
       "      <th>2</th>\n",
       "      <td>3</td>\n",
       "      <td>61638209</td>\n",
       "      <td>778968479</td>\n",
       "      <td>VALIDE</td>\n",
       "      <td>IGP ACTION GODO GODO - godogodo_igp_reghi010</td>\n",
       "      <td>25/04/2022 19:51</td>\n",
       "    </tr>\n",
       "    <tr>\n",
       "      <th>3</th>\n",
       "      <td>4</td>\n",
       "      <td>61638194</td>\n",
       "      <td>798067011</td>\n",
       "      <td>VALIDE</td>\n",
       "      <td>SUITE COM SUITE COM - pmot222-suitecom-24</td>\n",
       "      <td>25/04/2022 19:58</td>\n",
       "    </tr>\n",
       "    <tr>\n",
       "      <th>4</th>\n",
       "      <td>5</td>\n",
       "      <td>61638145</td>\n",
       "      <td>778267732</td>\n",
       "      <td>VALIDE</td>\n",
       "      <td>ISS ACTION GODO GODO - godogodo_iss_tid009</td>\n",
       "      <td>25/04/2022 19:55</td>\n",
       "    </tr>\n",
       "  </tbody>\n",
       "</table>\n",
       "</div>"
      ],
      "text/plain": [
       "   N° ORDRE N° DOSSIER     NUMERO STATUT DU DOSSIER  \\\n",
       "0         1   61608051  798609443            VALIDE   \n",
       "1         2   61652593  701398738            VALIDE   \n",
       "2         3   61638209  778968479            VALIDE   \n",
       "3         4   61638194  798067011            VALIDE   \n",
       "4         5   61638145  778267732            VALIDE   \n",
       "\n",
       "                                 NOM DE L'AGENT DATE DE SOUSCRIPTION  \n",
       "0  PMO T4 2021 ACTION - pmot421_districentre_43     25/04/2022 12:14  \n",
       "1                  Yao Denise  - pmot222-ajs-50     25/04/2022 14:17  \n",
       "2  IGP ACTION GODO GODO - godogodo_igp_reghi010     25/04/2022 19:51  \n",
       "3     SUITE COM SUITE COM - pmot222-suitecom-24     25/04/2022 19:58  \n",
       "4    ISS ACTION GODO GODO - godogodo_iss_tid009     25/04/2022 19:55  "
      ]
     },
     "execution_count": 24,
     "metadata": {},
     "output_type": "execute_result"
    }
   ],
   "source": [
    "df4 = pd.read_csv(\"/Users/diakite/Downloads/Telegram/Rejets_nomad_20220506.csv\", sep = \";\", encoding= 'unicode_escape')\n",
    "df4.head()"
   ]
  },
  {
   "cell_type": "code",
   "execution_count": null,
   "metadata": {},
   "outputs": [],
   "source": []
  },
  {
   "cell_type": "code",
   "execution_count": 26,
   "metadata": {},
   "outputs": [],
   "source": [
    "from spylon_kernel import register_ipython_magics\n",
    "register_ipython_magics()"
   ]
  },
  {
   "cell_type": "code",
   "execution_count": 27,
   "metadata": {},
   "outputs": [
    {
     "data": {
      "text/plain": [
       "Intitializing Scala interpreter ..."
      ]
     },
     "metadata": {},
     "output_type": "display_data"
    },
    {
     "ename": "ValueError",
     "evalue": "Cannot run multiple SparkContexts at once; existing SparkContext(app=sunshine_v2, master=local[1]) created by getOrCreate at /var/folders/b7/pj4f3ws14fl09641x7pq364w0000gn/T/ipykernel_93452/1297210238.py:1 ",
     "output_type": "error",
     "traceback": [
      "\u001b[0;31m---------------------------------------------------------------------------\u001b[0m",
      "\u001b[0;31mValueError\u001b[0m                                Traceback (most recent call last)",
      "Input \u001b[0;32mIn [27]\u001b[0m, in \u001b[0;36m<cell line: 1>\u001b[0;34m()\u001b[0m\n\u001b[0;32m----> 1\u001b[0m \u001b[43mget_ipython\u001b[49m\u001b[43m(\u001b[49m\u001b[43m)\u001b[49m\u001b[38;5;241;43m.\u001b[39;49m\u001b[43mrun_cell_magic\u001b[49m\u001b[43m(\u001b[49m\u001b[38;5;124;43m'\u001b[39;49m\u001b[38;5;124;43mscala\u001b[39;49m\u001b[38;5;124;43m'\u001b[39;49m\u001b[43m,\u001b[49m\u001b[43m \u001b[49m\u001b[38;5;124;43m'\u001b[39;49m\u001b[38;5;124;43m'\u001b[39;49m\u001b[43m,\u001b[49m\u001b[43m \u001b[49m\u001b[38;5;124;43m'\u001b[39;49m\u001b[38;5;130;43;01m\\n\u001b[39;49;00m\u001b[38;5;124;43mval x = 3\u001b[39;49m\u001b[38;5;130;43;01m\\n\u001b[39;49;00m\u001b[38;5;124;43m'\u001b[39;49m\u001b[43m)\u001b[49m\n",
      "File \u001b[0;32m~/opt/anaconda3/lib/python3.9/site-packages/IPython/core/interactiveshell.py:2347\u001b[0m, in \u001b[0;36mInteractiveShell.run_cell_magic\u001b[0;34m(self, magic_name, line, cell)\u001b[0m\n\u001b[1;32m   2345\u001b[0m \u001b[38;5;28;01mwith\u001b[39;00m \u001b[38;5;28mself\u001b[39m\u001b[38;5;241m.\u001b[39mbuiltin_trap:\n\u001b[1;32m   2346\u001b[0m     args \u001b[38;5;241m=\u001b[39m (magic_arg_s, cell)\n\u001b[0;32m-> 2347\u001b[0m     result \u001b[38;5;241m=\u001b[39m \u001b[43mfn\u001b[49m\u001b[43m(\u001b[49m\u001b[38;5;241;43m*\u001b[39;49m\u001b[43margs\u001b[49m\u001b[43m,\u001b[49m\u001b[43m \u001b[49m\u001b[38;5;241;43m*\u001b[39;49m\u001b[38;5;241;43m*\u001b[39;49m\u001b[43mkwargs\u001b[49m\u001b[43m)\u001b[49m\n\u001b[1;32m   2348\u001b[0m \u001b[38;5;28;01mreturn\u001b[39;00m result\n",
      "File \u001b[0;32m~/opt/anaconda3/lib/python3.9/site-packages/spylon_kernel/__init__.py:26\u001b[0m, in \u001b[0;36mregister_ipython_magics.<locals>.scala\u001b[0;34m(line, cell)\u001b[0m\n\u001b[1;32m     24\u001b[0m \u001b[38;5;28;01melse\u001b[39;00m:\n\u001b[1;32m     25\u001b[0m     scala_magic\u001b[38;5;241m.\u001b[39mcode \u001b[38;5;241m=\u001b[39m cell\n\u001b[0;32m---> 26\u001b[0m     \u001b[38;5;28;01mreturn\u001b[39;00m \u001b[43mscala_magic\u001b[49m\u001b[38;5;241;43m.\u001b[39;49m\u001b[43mcell_scala\u001b[49m\u001b[43m(\u001b[49m\u001b[43m)\u001b[49m\n",
      "File \u001b[0;32m~/opt/anaconda3/lib/python3.9/site-packages/spylon_kernel/scala_magic.py:137\u001b[0m, in \u001b[0;36mScalaMagic.cell_scala\u001b[0;34m(self, eval_output)\u001b[0m\n\u001b[1;32m    134\u001b[0m     \u001b[38;5;28mself\u001b[39m\u001b[38;5;241m.\u001b[39mevaluate \u001b[38;5;241m=\u001b[39m \u001b[38;5;28;01mTrue\u001b[39;00m\n\u001b[1;32m    135\u001b[0m \u001b[38;5;28;01melse\u001b[39;00m:\n\u001b[1;32m    136\u001b[0m     \u001b[38;5;66;03m# Evaluate the Scala code\u001b[39;00m\n\u001b[0;32m--> 137\u001b[0m     \u001b[38;5;28mself\u001b[39m\u001b[38;5;241m.\u001b[39mretval \u001b[38;5;241m=\u001b[39m \u001b[38;5;28;43mself\u001b[39;49m\u001b[38;5;241;43m.\u001b[39;49m\u001b[43meval\u001b[49m\u001b[43m(\u001b[49m\u001b[38;5;28;43mself\u001b[39;49m\u001b[38;5;241;43m.\u001b[39;49m\u001b[43mcode\u001b[49m\u001b[43m,\u001b[49m\u001b[43m \u001b[49m\u001b[38;5;28;43;01mFalse\u001b[39;49;00m\u001b[43m)\u001b[49m\n\u001b[1;32m    138\u001b[0m     \u001b[38;5;66;03m# Tell the base class not to touch the Scala result\u001b[39;00m\n\u001b[1;32m    139\u001b[0m     \u001b[38;5;28mself\u001b[39m\u001b[38;5;241m.\u001b[39mevaluate \u001b[38;5;241m=\u001b[39m \u001b[38;5;28;01mFalse\u001b[39;00m\n",
      "File \u001b[0;32m~/opt/anaconda3/lib/python3.9/site-packages/spylon_kernel/scala_magic.py:157\u001b[0m, in \u001b[0;36mScalaMagic.eval\u001b[0;34m(self, code, raw)\u001b[0m\n\u001b[1;32m    141\u001b[0m \u001b[38;5;28;01mdef\u001b[39;00m \u001b[38;5;21meval\u001b[39m(\u001b[38;5;28mself\u001b[39m, code, raw):\n\u001b[1;32m    142\u001b[0m     \u001b[38;5;124;03m\"\"\"Evaluates Scala code.\u001b[39;00m\n\u001b[1;32m    143\u001b[0m \n\u001b[1;32m    144\u001b[0m \u001b[38;5;124;03m    Parameters\u001b[39;00m\n\u001b[0;32m   (...)\u001b[0m\n\u001b[1;32m    155\u001b[0m \u001b[38;5;124;03m    the raw result of the evaluation\u001b[39;00m\n\u001b[1;32m    156\u001b[0m \u001b[38;5;124;03m    \"\"\"\u001b[39;00m\n\u001b[0;32m--> 157\u001b[0m     intp \u001b[38;5;241m=\u001b[39m \u001b[38;5;28;43mself\u001b[39;49m\u001b[38;5;241;43m.\u001b[39;49m\u001b[43m_get_scala_interpreter\u001b[49m\u001b[43m(\u001b[49m\u001b[43m)\u001b[49m\n\u001b[1;32m    158\u001b[0m     \u001b[38;5;28;01mtry\u001b[39;00m:\n\u001b[1;32m    159\u001b[0m         res \u001b[38;5;241m=\u001b[39m intp\u001b[38;5;241m.\u001b[39minterpret(code\u001b[38;5;241m.\u001b[39mstrip())\n",
      "File \u001b[0;32m~/opt/anaconda3/lib/python3.9/site-packages/spylon_kernel/scala_magic.py:46\u001b[0m, in \u001b[0;36mScalaMagic._get_scala_interpreter\u001b[0;34m(self)\u001b[0m\n\u001b[1;32m     44\u001b[0m \u001b[38;5;28;01massert\u001b[39;00m \u001b[38;5;28misinstance\u001b[39m(\u001b[38;5;28mself\u001b[39m\u001b[38;5;241m.\u001b[39mkernel, MetaKernel)\n\u001b[1;32m     45\u001b[0m \u001b[38;5;28mself\u001b[39m\u001b[38;5;241m.\u001b[39mkernel\u001b[38;5;241m.\u001b[39mDisplay(TextOutput(\u001b[38;5;124m\"\u001b[39m\u001b[38;5;124mIntitializing Scala interpreter ...\u001b[39m\u001b[38;5;124m\"\u001b[39m))\n\u001b[0;32m---> 46\u001b[0m \u001b[38;5;28mself\u001b[39m\u001b[38;5;241m.\u001b[39m_interp \u001b[38;5;241m=\u001b[39m \u001b[43mget_scala_interpreter\u001b[49m\u001b[43m(\u001b[49m\u001b[43m)\u001b[49m\n\u001b[1;32m     48\u001b[0m \u001b[38;5;66;03m# Ensure that spark is available in the python session as well.\u001b[39;00m\n\u001b[1;32m     49\u001b[0m \u001b[38;5;28;01mif\u001b[39;00m \u001b[38;5;124m'\u001b[39m\u001b[38;5;124mpython\u001b[39m\u001b[38;5;124m'\u001b[39m \u001b[38;5;129;01min\u001b[39;00m \u001b[38;5;28mself\u001b[39m\u001b[38;5;241m.\u001b[39mkernel\u001b[38;5;241m.\u001b[39mcell_magics: \u001b[38;5;66;03m# tests if in scala mode\u001b[39;00m\n",
      "File \u001b[0;32m~/opt/anaconda3/lib/python3.9/site-packages/spylon_kernel/scala_interpreter.py:568\u001b[0m, in \u001b[0;36mget_scala_interpreter\u001b[0;34m()\u001b[0m\n\u001b[1;32m    566\u001b[0m \u001b[38;5;28;01mglobal\u001b[39;00m scala_intp\n\u001b[1;32m    567\u001b[0m \u001b[38;5;28;01mif\u001b[39;00m scala_intp \u001b[38;5;129;01mis\u001b[39;00m \u001b[38;5;28;01mNone\u001b[39;00m:\n\u001b[0;32m--> 568\u001b[0m     scala_intp \u001b[38;5;241m=\u001b[39m \u001b[43minitialize_scala_interpreter\u001b[49m\u001b[43m(\u001b[49m\u001b[43m)\u001b[49m\n\u001b[1;32m    570\u001b[0m \u001b[38;5;28;01mreturn\u001b[39;00m scala_intp\n",
      "File \u001b[0;32m~/opt/anaconda3/lib/python3.9/site-packages/spylon_kernel/scala_interpreter.py:163\u001b[0m, in \u001b[0;36minitialize_scala_interpreter\u001b[0;34m()\u001b[0m\n\u001b[1;32m    151\u001b[0m \u001b[38;5;124;03m\"\"\"\u001b[39;00m\n\u001b[1;32m    152\u001b[0m \u001b[38;5;124;03mInstantiates the scala interpreter via py4j and pyspark.\u001b[39;00m\n\u001b[1;32m    153\u001b[0m \n\u001b[0;32m   (...)\u001b[0m\n\u001b[1;32m    160\u001b[0m \u001b[38;5;124;03mScalaInterpreter\u001b[39;00m\n\u001b[1;32m    161\u001b[0m \u001b[38;5;124;03m\"\"\"\u001b[39;00m\n\u001b[1;32m    162\u001b[0m \u001b[38;5;66;03m# Initialize Spark first if it isn't already\u001b[39;00m\n\u001b[0;32m--> 163\u001b[0m spark_session, spark_jvm_helpers, spark_jvm_proc \u001b[38;5;241m=\u001b[39m \u001b[43minit_spark\u001b[49m\u001b[43m(\u001b[49m\u001b[43m)\u001b[49m\n\u001b[1;32m    165\u001b[0m \u001b[38;5;66;03m# Get handy JVM references\u001b[39;00m\n\u001b[1;32m    166\u001b[0m jvm \u001b[38;5;241m=\u001b[39m spark_session\u001b[38;5;241m.\u001b[39m_jvm\n",
      "File \u001b[0;32m~/opt/anaconda3/lib/python3.9/site-packages/spylon_kernel/scala_interpreter.py:99\u001b[0m, in \u001b[0;36minit_spark\u001b[0;34m(conf, capture_stderr)\u001b[0m\n\u001b[1;32m     96\u001b[0m pyspark\u001b[38;5;241m.\u001b[39mjava_gateway\u001b[38;5;241m.\u001b[39mPopen \u001b[38;5;241m=\u001b[39m Popen\n\u001b[1;32m     98\u001b[0m \u001b[38;5;66;03m# Create a new spark context using the configuration\u001b[39;00m\n\u001b[0;32m---> 99\u001b[0m spark_context \u001b[38;5;241m=\u001b[39m \u001b[43mconf\u001b[49m\u001b[38;5;241;43m.\u001b[39;49m\u001b[43mspark_context\u001b[49m\u001b[43m(\u001b[49m\u001b[43mapplication_name\u001b[49m\u001b[43m)\u001b[49m\n\u001b[1;32m    101\u001b[0m \u001b[38;5;66;03m# pyspark is in the python path after creating the context\u001b[39;00m\n\u001b[1;32m    102\u001b[0m \u001b[38;5;28;01mfrom\u001b[39;00m \u001b[38;5;21;01mpyspark\u001b[39;00m\u001b[38;5;21;01m.\u001b[39;00m\u001b[38;5;21;01msql\u001b[39;00m \u001b[38;5;28;01mimport\u001b[39;00m SparkSession\n",
      "File \u001b[0;32m~/opt/anaconda3/lib/python3.9/site-packages/spylon/spark/launcher.py:521\u001b[0m, in \u001b[0;36mSparkConfiguration.spark_context\u001b[0;34m(self, application_name)\u001b[0m\n\u001b[1;32m    518\u001b[0m     spark_conf\u001b[38;5;241m.\u001b[39mset(k, v)\n\u001b[1;32m    520\u001b[0m log\u001b[38;5;241m.\u001b[39minfo(\u001b[38;5;124m\"\u001b[39m\u001b[38;5;124mStarting SparkContext\u001b[39m\u001b[38;5;124m\"\u001b[39m)\n\u001b[0;32m--> 521\u001b[0m \u001b[38;5;28;01mreturn\u001b[39;00m \u001b[43mpyspark\u001b[49m\u001b[38;5;241;43m.\u001b[39;49m\u001b[43mSparkContext\u001b[49m\u001b[43m(\u001b[49m\u001b[43mappName\u001b[49m\u001b[38;5;241;43m=\u001b[39;49m\u001b[43mapplication_name\u001b[49m\u001b[43m,\u001b[49m\u001b[43m \u001b[49m\u001b[43mconf\u001b[49m\u001b[38;5;241;43m=\u001b[39;49m\u001b[43mspark_conf\u001b[49m\u001b[43m)\u001b[49m\n",
      "File \u001b[0;32m~/opt/anaconda3/lib/python3.9/site-packages/pyspark/context.py:144\u001b[0m, in \u001b[0;36mSparkContext.__init__\u001b[0;34m(self, master, appName, sparkHome, pyFiles, environment, batchSize, serializer, conf, gateway, jsc, profiler_cls)\u001b[0m\n\u001b[1;32m    139\u001b[0m \u001b[38;5;28;01mif\u001b[39;00m gateway \u001b[38;5;129;01mis\u001b[39;00m \u001b[38;5;129;01mnot\u001b[39;00m \u001b[38;5;28;01mNone\u001b[39;00m \u001b[38;5;129;01mand\u001b[39;00m gateway\u001b[38;5;241m.\u001b[39mgateway_parameters\u001b[38;5;241m.\u001b[39mauth_token \u001b[38;5;129;01mis\u001b[39;00m \u001b[38;5;28;01mNone\u001b[39;00m:\n\u001b[1;32m    140\u001b[0m     \u001b[38;5;28;01mraise\u001b[39;00m \u001b[38;5;167;01mValueError\u001b[39;00m(\n\u001b[1;32m    141\u001b[0m         \u001b[38;5;124m\"\u001b[39m\u001b[38;5;124mYou are trying to pass an insecure Py4j gateway to Spark. This\u001b[39m\u001b[38;5;124m\"\u001b[39m\n\u001b[1;32m    142\u001b[0m         \u001b[38;5;124m\"\u001b[39m\u001b[38;5;124m is not allowed as it is a security risk.\u001b[39m\u001b[38;5;124m\"\u001b[39m)\n\u001b[0;32m--> 144\u001b[0m \u001b[43mSparkContext\u001b[49m\u001b[38;5;241;43m.\u001b[39;49m\u001b[43m_ensure_initialized\u001b[49m\u001b[43m(\u001b[49m\u001b[38;5;28;43mself\u001b[39;49m\u001b[43m,\u001b[49m\u001b[43m \u001b[49m\u001b[43mgateway\u001b[49m\u001b[38;5;241;43m=\u001b[39;49m\u001b[43mgateway\u001b[49m\u001b[43m,\u001b[49m\u001b[43m \u001b[49m\u001b[43mconf\u001b[49m\u001b[38;5;241;43m=\u001b[39;49m\u001b[43mconf\u001b[49m\u001b[43m)\u001b[49m\n\u001b[1;32m    145\u001b[0m \u001b[38;5;28;01mtry\u001b[39;00m:\n\u001b[1;32m    146\u001b[0m     \u001b[38;5;28mself\u001b[39m\u001b[38;5;241m.\u001b[39m_do_init(master, appName, sparkHome, pyFiles, environment, batchSize, serializer,\n\u001b[1;32m    147\u001b[0m                   conf, jsc, profiler_cls)\n",
      "File \u001b[0;32m~/opt/anaconda3/lib/python3.9/site-packages/pyspark/context.py:350\u001b[0m, in \u001b[0;36mSparkContext._ensure_initialized\u001b[0;34m(cls, instance, gateway, conf)\u001b[0m\n\u001b[1;32m    347\u001b[0m     callsite \u001b[38;5;241m=\u001b[39m SparkContext\u001b[38;5;241m.\u001b[39m_active_spark_context\u001b[38;5;241m.\u001b[39m_callsite\n\u001b[1;32m    349\u001b[0m     \u001b[38;5;66;03m# Raise error if there is already a running Spark context\u001b[39;00m\n\u001b[0;32m--> 350\u001b[0m     \u001b[38;5;28;01mraise\u001b[39;00m \u001b[38;5;167;01mValueError\u001b[39;00m(\n\u001b[1;32m    351\u001b[0m         \u001b[38;5;124m\"\u001b[39m\u001b[38;5;124mCannot run multiple SparkContexts at once; \u001b[39m\u001b[38;5;124m\"\u001b[39m\n\u001b[1;32m    352\u001b[0m         \u001b[38;5;124m\"\u001b[39m\u001b[38;5;124mexisting SparkContext(app=\u001b[39m\u001b[38;5;132;01m%s\u001b[39;00m\u001b[38;5;124m, master=\u001b[39m\u001b[38;5;132;01m%s\u001b[39;00m\u001b[38;5;124m)\u001b[39m\u001b[38;5;124m\"\u001b[39m\n\u001b[1;32m    353\u001b[0m         \u001b[38;5;124m\"\u001b[39m\u001b[38;5;124m created by \u001b[39m\u001b[38;5;132;01m%s\u001b[39;00m\u001b[38;5;124m at \u001b[39m\u001b[38;5;132;01m%s\u001b[39;00m\u001b[38;5;124m:\u001b[39m\u001b[38;5;132;01m%s\u001b[39;00m\u001b[38;5;124m \u001b[39m\u001b[38;5;124m\"\u001b[39m\n\u001b[1;32m    354\u001b[0m         \u001b[38;5;241m%\u001b[39m (currentAppName, currentMaster,\n\u001b[1;32m    355\u001b[0m             callsite\u001b[38;5;241m.\u001b[39mfunction, callsite\u001b[38;5;241m.\u001b[39mfile, callsite\u001b[38;5;241m.\u001b[39mlinenum))\n\u001b[1;32m    356\u001b[0m \u001b[38;5;28;01melse\u001b[39;00m:\n\u001b[1;32m    357\u001b[0m     SparkContext\u001b[38;5;241m.\u001b[39m_active_spark_context \u001b[38;5;241m=\u001b[39m instance\n",
      "\u001b[0;31mValueError\u001b[0m: Cannot run multiple SparkContexts at once; existing SparkContext(app=sunshine_v2, master=local[1]) created by getOrCreate at /var/folders/b7/pj4f3ws14fl09641x7pq364w0000gn/T/ipykernel_93452/1297210238.py:1 "
     ]
    }
   ],
   "source": [
    "%%scala\n",
    "\n",
    "val x = 3"
   ]
  },
  {
   "cell_type": "code",
   "execution_count": 28,
   "metadata": {},
   "outputs": [
    {
     "name": "stderr",
     "output_type": "stream",
     "text": [
      "\r",
      "[Stage 1:>                                                          (0 + 1) / 1]\r"
     ]
    },
    {
     "name": "stdout",
     "output_type": "stream",
     "text": [
      "+--------+----------+----------+-----------------+--------------------+--------------------+\n",
      "|N� ORDRE|N� DOSSIER|    NUMERO|STATUT DU DOSSIER|      NOM DE L'AGENT|DATE DE SOUSCRIPTION|\n",
      "+--------+----------+----------+-----------------+--------------------+--------------------+\n",
      "|     163|  61634372|0700422178|           VALIDE|ACTION PMO T2 202...|    25/04/2022 17:47|\n",
      "|     183|  61634078|0779234793|           VALIDE|IGP ACTION GODO G...|    25/04/2022 17:36|\n",
      "|     189|  61633921|0768934557|           VALIDE|ACTION PMO T2 202...|    25/04/2022 17:38|\n",
      "|     484|  61626630|0747497836|           VALIDE|ACTION PMO T2-22 ...|    25/04/2022 15:55|\n",
      "|     625|  61623963|0797865752|           VALIDE|PDVL AMANDA PREST...|    25/04/2022 15:22|\n",
      "|    1829|  61597697|0797289124|           VALIDE|ISS ACTION GODO G...|    25/04/2022 10:20|\n",
      "|    1859|  61596960|0777260693|           VALIDE|ISS ACTION GODO G...|    25/04/2022 10:12|\n",
      "|    1902|  61596149|0789294232|           VALIDE|2AS ACTION GODO G...|    25/04/2022 10:02|\n",
      "|    2046|  61592957|0797870056|           VALIDE|PCU Seller PCU Se...|    25/04/2022 09:12|\n",
      "|    2212|  61677962|0779177373|           VALIDE|OM EME Default Se...|    26/04/2022 16:59|\n",
      "|    2322|  61664835|0798021789|           VALIDE|PCU Seller PCU Se...|    26/04/2022 13:47|\n",
      "|    2352|  61660930|0584710839|           VALIDE|OM EME Default Se...|    26/04/2022 12:50|\n",
      "|    2361|  61660088|0797349542|           VALIDE|PCU Seller PCU Se...|    26/04/2022 12:39|\n",
      "|    2406|  61655395|0701791926|           VALIDE|PCU Seller PCU Se...|    26/04/2022 11:35|\n",
      "|    2663|  61644926|0747904129|           VALIDE|ISS ACTION GODO G...|    26/04/2022 09:12|\n",
      "|    2770|  61642576|0708778542|           VALIDE|ISS ACTION GODO G...|    26/04/2022 08:32|\n",
      "|    3316|  61713393|0704695101|           VALIDE|PMO T3 ACTION - h...|    27/04/2022 15:52|\n",
      "|    3328|  61713186|0749532270|           VALIDE|PMO T2 2022 ACTIO...|    27/04/2022 15:44|\n",
      "|    3421|  61710977|0759564088|           VALIDE|EPONOU St?phanie ...|    27/04/2022 15:22|\n",
      "|    3785|  61701802|0709237514|           VALIDE|BOP ACTION GODO G...|    27/04/2022 13:30|\n",
      "+--------+----------+----------+-----------------+--------------------+--------------------+\n",
      "only showing top 20 rows\n",
      "\n",
      "root\n",
      " |-- N� ORDRE: string (nullable = true)\n",
      " |-- N� DOSSIER: string (nullable = true)\n",
      " |-- NUMERO: string (nullable = true)\n",
      " |-- STATUT DU DOSSIER: string (nullable = true)\n",
      " |-- NOM DE L'AGENT: string (nullable = true)\n",
      " |-- DATE DE SOUSCRIPTION: string (nullable = true)\n",
      "\n"
     ]
    },
    {
     "name": "stderr",
     "output_type": "stream",
     "text": [
      "\r",
      "                                                                                \r"
     ]
    }
   ],
   "source": [
    "df = spark.read \\\n",
    "      .option(\"delimiter\", \";\") \\\n",
    "      .option(\"header\", \"true\") \\\n",
    "      .csv(\"/Users/diakite/Downloads/Telegram/Rejets_nomad_20220506.csv\") \\\n",
    "      .dropDuplicates()\n",
    "\n",
    "df.show()\n",
    "df.printSchema()"
   ]
  },
  {
   "cell_type": "code",
   "execution_count": 36,
   "metadata": {},
   "outputs": [],
   "source": [
    "df1 = df.withColumn(\"DATE\", substring(col(\"DATE DE SOUSCRIPTION\"), 1, 10))  \\\n",
    "       .filter(col(\"STATUT DU DOSSIER\") != \"INVALIDE\") "
   ]
  },
  {
   "cell_type": "code",
   "execution_count": 37,
   "metadata": {},
   "outputs": [
    {
     "name": "stdout",
     "output_type": "stream",
     "text": [
      "+--------+----------+----------+-----------------+--------------------+--------------------+----------+\n",
      "|N� ORDRE|N� DOSSIER|    NUMERO|STATUT DU DOSSIER|      NOM DE L'AGENT|DATE DE SOUSCRIPTION|      DATE|\n",
      "+--------+----------+----------+-----------------+--------------------+--------------------+----------+\n",
      "|     163|  61634372|0700422178|           VALIDE|ACTION PMO T2 202...|    25/04/2022 17:47|25/04/2022|\n",
      "|     183|  61634078|0779234793|           VALIDE|IGP ACTION GODO G...|    25/04/2022 17:36|25/04/2022|\n",
      "|     189|  61633921|0768934557|           VALIDE|ACTION PMO T2 202...|    25/04/2022 17:38|25/04/2022|\n",
      "|     484|  61626630|0747497836|           VALIDE|ACTION PMO T2-22 ...|    25/04/2022 15:55|25/04/2022|\n",
      "|     625|  61623963|0797865752|           VALIDE|PDVL AMANDA PREST...|    25/04/2022 15:22|25/04/2022|\n",
      "|    1829|  61597697|0797289124|           VALIDE|ISS ACTION GODO G...|    25/04/2022 10:20|25/04/2022|\n",
      "|    1859|  61596960|0777260693|           VALIDE|ISS ACTION GODO G...|    25/04/2022 10:12|25/04/2022|\n",
      "|    1902|  61596149|0789294232|           VALIDE|2AS ACTION GODO G...|    25/04/2022 10:02|25/04/2022|\n",
      "|    2046|  61592957|0797870056|           VALIDE|PCU Seller PCU Se...|    25/04/2022 09:12|25/04/2022|\n",
      "|    2212|  61677962|0779177373|           VALIDE|OM EME Default Se...|    26/04/2022 16:59|26/04/2022|\n",
      "|    2322|  61664835|0798021789|           VALIDE|PCU Seller PCU Se...|    26/04/2022 13:47|26/04/2022|\n",
      "|    2352|  61660930|0584710839|           VALIDE|OM EME Default Se...|    26/04/2022 12:50|26/04/2022|\n",
      "|    2361|  61660088|0797349542|           VALIDE|PCU Seller PCU Se...|    26/04/2022 12:39|26/04/2022|\n",
      "|    2406|  61655395|0701791926|           VALIDE|PCU Seller PCU Se...|    26/04/2022 11:35|26/04/2022|\n",
      "|    2663|  61644926|0747904129|           VALIDE|ISS ACTION GODO G...|    26/04/2022 09:12|26/04/2022|\n",
      "|    2770|  61642576|0708778542|           VALIDE|ISS ACTION GODO G...|    26/04/2022 08:32|26/04/2022|\n",
      "|    3316|  61713393|0704695101|           VALIDE|PMO T3 ACTION - h...|    27/04/2022 15:52|27/04/2022|\n",
      "|    3328|  61713186|0749532270|           VALIDE|PMO T2 2022 ACTIO...|    27/04/2022 15:44|27/04/2022|\n",
      "|    3421|  61710977|0759564088|           VALIDE|EPONOU St?phanie ...|    27/04/2022 15:22|27/04/2022|\n",
      "|    3785|  61701802|0709237514|           VALIDE|BOP ACTION GODO G...|    27/04/2022 13:30|27/04/2022|\n",
      "+--------+----------+----------+-----------------+--------------------+--------------------+----------+\n",
      "only showing top 20 rows\n",
      "\n"
     ]
    }
   ],
   "source": [
    "df1.show()"
   ]
  },
  {
   "cell_type": "code",
   "execution_count": 41,
   "metadata": {},
   "outputs": [
    {
     "name": "stdout",
     "output_type": "stream",
     "text": [
      "+--------+----------+----------+-----------------+--------------------+--------------------+----------+\n",
      "|N� ORDRE|N� DOSSIER|    NUMERO|STATUT DU DOSSIER|      NOM DE L'AGENT|DATE DE SOUSCRIPTION|      DATE|\n",
      "+--------+----------+----------+-----------------+--------------------+--------------------+----------+\n",
      "|    4936|  61752305|0787987535|           VALIDE|2AS ACTION GODO G...|    28/04/2022 14:35|28/04/2022|\n",
      "|    5019|  61749820|0702992199|           VALIDE|IGP ACTION RESESR...|    28/04/2022 13:50|28/04/2022|\n",
      "|    5038|  61749277|0702623215|           VALIDE|ISS ACTION COVER ...|    28/04/2022 13:45|28/04/2022|\n",
      "|    5300|  61741045|0778937638|           VALIDE|ACTION PMO T2 202...|    28/04/2022 11:37|28/04/2022|\n",
      "|   13860|  61763773|0769253228|      VALIDE LITE|ACTION PMO T2 202...|    28/04/2022 19:42|28/04/2022|\n",
      "|   13942|  61761603|0704345704|      VALIDE LITE|ACTION PMO T2 202...|    28/04/2022 17:59|28/04/2022|\n",
      "|   13982|  61760461|0758058096|      VALIDE LITE|PCU Seller PCU Se...|    28/04/2022 17:32|28/04/2022|\n",
      "|   13988|  61760308|0778883996|      VALIDE LITE|ACTION PMO T2 202...|    28/04/2022 17:29|28/04/2022|\n",
      "|   14355|  61750460|0759634531|      VALIDE LITE|PMO T2 2022 ACTIO...|    28/04/2022 14:06|28/04/2022|\n",
      "|   14359|  61750336|0700488069|      VALIDE LITE|ISS ACTION GODO G...|    28/04/2022 14:04|28/04/2022|\n",
      "|   15011|  61727115|0779872847|      VALIDE LITE|BOP ACTION GODO G...|    28/04/2022 07:19|28/04/2022|\n",
      "|   28689|  61762337|0798587150|      VALIDE LITE|SUITE COM SUITE C...|    28/04/2022 18:22|28/04/2022|\n",
      "|   29065|  61758060|0798178272|      VALIDE LITE|IGP ACTION GODO G...|    28/04/2022 16:40|28/04/2022|\n",
      "|   29255|  61755966|0759623998|      VALIDE LITE|PMO T2 2022 ACTIO...|    28/04/2022 15:27|28/04/2022|\n",
      "|   29258|  61755932|0797447857|      VALIDE LITE|diallo Recrutemen...|    28/04/2022 15:32|28/04/2022|\n",
      "|   29386|  61754746|0700905010|      VALIDE LITE|PMO T2 2022 ACTIO...|    28/04/2022 15:14|28/04/2022|\n",
      "|   29556|  61753341|0757418511|      VALIDE LITE|PRIMO SERVICES PR...|    28/04/2022 14:52|28/04/2022|\n",
      "|   29719|  61751550|0767475169|      VALIDE LITE|PMO T2 2022 ACTIO...|    28/04/2022 14:24|28/04/2022|\n",
      "|   29940|  61749544|0703375246|      VALIDE LITE|ACTION PMO T2 202...|    28/04/2022 13:50|28/04/2022|\n",
      "|   30218|  61747090|0758388104|      VALIDE LITE|2AS ACTION GODO G...|    28/04/2022 13:08|28/04/2022|\n",
      "+--------+----------+----------+-----------------+--------------------+--------------------+----------+\n",
      "only showing top 20 rows\n",
      "\n"
     ]
    }
   ],
   "source": [
    "df1.filter(col(\"DATE\") == \"28/04/2022\").show()"
   ]
  },
  {
   "cell_type": "code",
   "execution_count": null,
   "metadata": {},
   "outputs": [],
   "source": []
  },
  {
   "cell_type": "code",
   "execution_count": null,
   "metadata": {},
   "outputs": [],
   "source": [
    "df = spark.read \\\n",
    "      .option(\"delimiter\", \";\") \\\n",
    "      .option(\"header\", \"true\") \\\n",
    "      .csv(\"/Users/diakite/Downloads/Telegram/Rejets_nomad_20220506.csv\") \\\n",
    "      .dropDuplicates()"
   ]
  },
  {
   "cell_type": "code",
   "execution_count": null,
   "metadata": {},
   "outputs": [],
   "source": []
  },
  {
   "cell_type": "code",
   "execution_count": null,
   "metadata": {},
   "outputs": [],
   "source": []
  },
  {
   "cell_type": "code",
   "execution_count": 51,
   "metadata": {},
   "outputs": [],
   "source": [
    "def check_number(date) :\n",
    "    \n",
    "    df = spark.read \\\n",
    "      .option(\"delimiter\", \";\") \\\n",
    "      .option(\"header\", \"true\") \\\n",
    "      .csv(\"/Users/diakite/Downloads/Telegram/Rejets_nomad_20220506.csv\") \\\n",
    "      .withColumn(\"DATE\", substring(col(\"DATE DE SOUSCRIPTION\"), 1, 10))  \\\n",
    "      .filter( (col(\"STATUT DU DOSSIER\") != \"INVALIDE\") & (col(\"DATE\") == date))  \\\n",
    "      .dropDuplicates()\n",
    "      \n",
    "    return df.show(truncate=False)\n",
    "    "
   ]
  },
  {
   "cell_type": "code",
   "execution_count": 52,
   "metadata": {},
   "outputs": [
    {
     "name": "stdout",
     "output_type": "stream",
     "text": [
      "+--------+----------+----------+-----------------+------------------------------------------------------+--------------------+----------+\n",
      "|N� ORDRE|N� DOSSIER|NUMERO    |STATUT DU DOSSIER|NOM DE L'AGENT                                        |DATE DE SOUSCRIPTION|DATE      |\n",
      "+--------+----------+----------+-----------------+------------------------------------------------------+--------------------+----------+\n",
      "|4724    |61757801  |0700489017|VALIDE           |ISS ACTION GODO GODO - godogodo_iss_tid007            |28/04/2022 16:41    |28/04/2022|\n",
      "|5376    |61738613  |0701940972|VALIDE           |2AS ACTION GODO GODO - godogodo_2as_tkgs013           |28/04/2022 11:04    |28/04/2022|\n",
      "|5386    |61738266  |0778885809|VALIDE           |ACTION PMO T2 2022 - djoum2022_tid78                  |28/04/2022 10:59    |28/04/2022|\n",
      "|5394    |61738127  |0767729498|VALIDE           |2AS ACTION GODO GODO - godogodo_2as_prim018           |28/04/2022 10:57    |28/04/2022|\n",
      "|13931   |61761887  |0704345275|VALIDE LITE      |ACTION PMO T2 2022 - djoum2022_tid56                  |28/04/2022 18:07    |28/04/2022|\n",
      "|13946   |61761544  |0769762293|VALIDE LITE      |ISS ACTION GODO GODO - godogodo_iss_tid004            |28/04/2022 17:57    |28/04/2022|\n",
      "|14449   |61747695  |0759054256|VALIDE LITE      |SUITE COM SUITE COM - pmot222-suitecom-55             |28/04/2022 13:19    |28/04/2022|\n",
      "|14594   |61742340  |0787782130|VALIDE LITE      |ISS ACTION GODO GODO - godogodo_iss_prim006           |28/04/2022 11:55    |28/04/2022|\n",
      "|14854   |61733832  |0747903856|VALIDE LITE      |2AS ACTION GODO GODO - godogodo_2as_prim010           |28/04/2022 09:45    |28/04/2022|\n",
      "|14884   |61733026  |0703375280|VALIDE LITE      |ACTION PMO T2 2022 - djoum2022_tid54                  |28/04/2022 09:27    |28/04/2022|\n",
      "|28832   |61760852  |0709160761|VALIDE LITE      |BOP ACTION GODO GODO - godogodo_bop_s2i009            |28/04/2022 17:40    |28/04/2022|\n",
      "|28881   |61760448  |0700495554|VALIDE LITE      |ISS ACTION GODO GODO - godogodo_iss_tid007            |28/04/2022 17:31    |28/04/2022|\n",
      "|29396   |61754668  |0703375217|VALIDE LITE      |ACTION PMO T2 2022 - djoum2022_tid54                  |28/04/2022 15:13    |28/04/2022|\n",
      "|29526   |61753601  |0703189820|VALIDE LITE      |PMO T3 ACTION - hpmotid_07                            |28/04/2022 14:56    |28/04/2022|\n",
      "|29538   |61753519  |0707880531|VALIDE LITE      |ATTIEN FRANCK - pmot222-idt-16                        |28/04/2022 14:54    |28/04/2022|\n",
      "|29640   |61752407  |0759582273|VALIDE LITE      |PMO T2 2022 ACTION - pmot222_districentre_5           |28/04/2022 14:37    |28/04/2022|\n",
      "|29833   |61750551  |0779348593|VALIDE LITE      |IGP ACTION GODO GODO - godogodo_igp_ktc005            |28/04/2022 14:02    |28/04/2022|\n",
      "|29897   |61749976  |0777563075|VALIDE LITE      |MC ISS Action TRANSLATE ISS AMANDA - transissamanda011|28/04/2022 13:58    |28/04/2022|\n",
      "|29918   |61749675  |0798670796|VALIDE LITE      |MC ISS Action TRANSLATE ISS AMANDA - transissamanda011|28/04/2022 13:53    |28/04/2022|\n",
      "|30025   |61748774  |0749887391|VALIDE LITE      |2AS ACTION GODO GODO - godogodo_2as_lacoq009          |28/04/2022 13:37    |28/04/2022|\n",
      "+--------+----------+----------+-----------------+------------------------------------------------------+--------------------+----------+\n",
      "only showing top 20 rows\n",
      "\n"
     ]
    }
   ],
   "source": [
    "check_number(\"28/04/2022\")"
   ]
  },
  {
   "cell_type": "code",
   "execution_count": null,
   "metadata": {},
   "outputs": [],
   "source": []
  },
  {
   "cell_type": "code",
   "execution_count": null,
   "metadata": {},
   "outputs": [],
   "source": []
  },
  {
   "cell_type": "code",
   "execution_count": null,
   "metadata": {},
   "outputs": [],
   "source": []
  },
  {
   "cell_type": "code",
   "execution_count": null,
   "metadata": {},
   "outputs": [],
   "source": []
  },
  {
   "cell_type": "code",
   "execution_count": null,
   "metadata": {},
   "outputs": [],
   "source": []
  },
  {
   "cell_type": "code",
   "execution_count": null,
   "metadata": {},
   "outputs": [],
   "source": []
  },
  {
   "cell_type": "code",
   "execution_count": 3,
   "metadata": {},
   "outputs": [],
   "source": [
    "df = spark.read \\\n",
    "      .option(\"delimiter\", \";\") \\\n",
    "      .option(\"header\", \"true\") \\\n",
    "      .csv(\"/Users/diakite/Downloads/Telegram Desktop/random_drdi_activation_iss_%2A.csv\") \\\n",
    "      .dropDuplicates()"
   ]
  },
  {
   "cell_type": "code",
   "execution_count": 4,
   "metadata": {},
   "outputs": [
    {
     "data": {
      "text/plain": [
       "10"
      ]
     },
     "execution_count": 4,
     "metadata": {},
     "output_type": "execute_result"
    }
   ],
   "source": [
    "df.count()"
   ]
  },
  {
   "cell_type": "code",
   "execution_count": 5,
   "metadata": {},
   "outputs": [
    {
     "name": "stdout",
     "output_type": "stream",
     "text": [
      "+----------+------------+---------------+----------+----------------+--------------------+------------+----------+-------------+--------------------+\n",
      "|COMMISSION|COUNT_CLIENT|DATE_CHARGEMENT| DATE_JOUR|DATE_TRANSACTION|               LOGIN|MOBILE_COACH| MOBILE_OM|NOMBRE_CLIENT|   NOM_PRENOMS_DU_MC|\n",
      "+----------+------------+---------------+----------+----------------+--------------------+------------+----------+-------------+--------------------+\n",
      "|    1500.0|        null|     2022-05-27|2022-04-24|            null| godogodo_iss_idt011|  0700274220|0747799758|            1|  KOUADIO YAO PRIVAT|\n",
      "|    1500.0|        null|     2022-05-27|2022-05-11|            null|godogodo_iss_dist005|  0701566810|0708210020|            1|      OUATTARA SIAKA|\n",
      "|    1500.0|        null|     2022-05-27|2022-04-27|            null|godogodo_iss_aman001|  0701566835|0709182047|            1|   OUATTARA SALY SIE|\n",
      "|    1500.0|        null|     2022-05-27|2022-04-21|            null|   cover_iss_s2i_035|  0701566783|0759527400|            1|    ZAMBLE BI ZAMBLE|\n",
      "|    1500.0|        null|     2022-05-27|2022-04-29|            null|   cover_iss_s2i_035|  0701566783|0759527400|            1|    ZAMBLE BI ZAMBLE|\n",
      "|    1500.0|        null|     2022-05-27|2022-05-11|            null|   cover_iss_s2i_044|  0700277109|0779877241|            1|          ADJO DAVID|\n",
      "|    1500.0|        null|     2022-05-27|2022-04-25|            null|   cover_iss_s2i_003|  0701566798|0749292998|            1|         MEDI MESSON|\n",
      "|    1500.0|        null|     2022-05-27|2022-04-21|            null| godogodo_iss_idt007|  0700274222|0702358585|            1| TOURE KLINDO SYLVIE|\n",
      "|    1500.0|        null|     2022-05-20|2022-04-13|            null|   cover_iss_s2i_011|  0708759759|0789458029|            1| IRIE BI IRIE JOSIAS|\n",
      "|    1500.0|        null|     2022-05-27|2022-05-19|            null|   cover_iss_s2i_046|  0701081427|0701679505|            1|ATCHORY SASSOU PA...|\n",
      "+----------+------------+---------------+----------+----------------+--------------------+------------+----------+-------------+--------------------+\n",
      "\n"
     ]
    }
   ],
   "source": [
    "df.show()"
   ]
  },
  {
   "cell_type": "code",
   "execution_count": null,
   "metadata": {},
   "outputs": [],
   "source": []
  },
  {
   "cell_type": "code",
   "execution_count": 10,
   "metadata": {},
   "outputs": [],
   "source": [
    "def f(path, flag) :\n",
    "    \n",
    "    df = spark.read \\\n",
    "      .option(\"delimiter\", \";\") \\\n",
    "      .option(\"header\", \"true\") \\\n",
    "      .csv(\"/Users/diakite/Downloads/Telegram Desktop/\" + path) \\\n",
    "      .dropDuplicates()\n",
    "    \n",
    "    \n",
    "    df.show()\n",
    "    \n",
    "    df = df.drop(\"COUNT_CLIENT\")\n",
    "    df = df.drop(\"DATE_TRANSACTION\")\n",
    "    \n",
    "    df.toPandas().to_csv(\"/Users/diakite/Downloads/Telegram Desktop/\" + flag + path , index = False, sep = \";\")\n",
    "    \n",
    "    "
   ]
  },
  {
   "cell_type": "code",
   "execution_count": 12,
   "metadata": {},
   "outputs": [
    {
     "name": "stdout",
     "output_type": "stream",
     "text": [
      "+----------+------------+---------------+----------+----------------+--------------------+------------+----------+-------------+--------------------+\n",
      "|COMMISSION|COUNT_CLIENT|DATE_CHARGEMENT| DATE_JOUR|DATE_TRANSACTION|               LOGIN|MOBILE_COACH| MOBILE_OM|NOMBRE_CLIENT|   NOM_PRENOMS_DU_MC|\n",
      "+----------+------------+---------------+----------+----------------+--------------------+------------+----------+-------------+--------------------+\n",
      "|    1500.0|        null|     2022-05-27|2022-04-24|            null| godogodo_iss_idt011|  0700274220|0747799758|            1|  KOUADIO YAO PRIVAT|\n",
      "|    1500.0|        null|     2022-05-27|2022-05-11|            null|godogodo_iss_dist005|  0701566810|0708210020|            1|      OUATTARA SIAKA|\n",
      "|    1500.0|        null|     2022-05-27|2022-04-27|            null|godogodo_iss_aman001|  0701566835|0709182047|            1|   OUATTARA SALY SIE|\n",
      "|    1500.0|        null|     2022-05-27|2022-04-21|            null|   cover_iss_s2i_035|  0701566783|0759527400|            1|    ZAMBLE BI ZAMBLE|\n",
      "|    1500.0|        null|     2022-05-27|2022-04-29|            null|   cover_iss_s2i_035|  0701566783|0759527400|            1|    ZAMBLE BI ZAMBLE|\n",
      "|    1500.0|        null|     2022-05-27|2022-05-11|            null|   cover_iss_s2i_044|  0700277109|0779877241|            1|          ADJO DAVID|\n",
      "|    1500.0|        null|     2022-05-27|2022-04-25|            null|   cover_iss_s2i_003|  0701566798|0749292998|            1|         MEDI MESSON|\n",
      "|    1500.0|        null|     2022-05-27|2022-04-21|            null| godogodo_iss_idt007|  0700274222|0702358585|            1| TOURE KLINDO SYLVIE|\n",
      "|    1500.0|        null|     2022-05-20|2022-04-13|            null|   cover_iss_s2i_011|  0708759759|0789458029|            1| IRIE BI IRIE JOSIAS|\n",
      "|    1500.0|        null|     2022-05-27|2022-05-19|            null|   cover_iss_s2i_046|  0701081427|0701679505|            1|ATCHORY SASSOU PA...|\n",
      "+----------+------------+---------------+----------+----------------+--------------------+------------+----------+-------------+--------------------+\n",
      "\n",
      "+----------+------------+---------------+----------+----------------+--------------------+------------+----------+-------------+--------------------+\n",
      "|COMMISSION|COUNT_CLIENT|DATE_CHARGEMENT| DATE_JOUR|DATE_TRANSACTION|               LOGIN|MOBILE_COACH| MOBILE_OM|NOMBRE_CLIENT|   NOM_PRENOMS_DU_MC|\n",
      "+----------+------------+---------------+----------+----------------+--------------------+------------+----------+-------------+--------------------+\n",
      "|    1500.0|        null|     2022-05-27|2022-04-22|            null| godogodo_igp_mos001|  0759059292|0709775171|            1| YA KONAN ALEX ANDRE|\n",
      "|    1500.0|        null|     2022-05-27|2022-05-06|            null| godogodo_igp_mos014|  0759079696|0777083019|            1|KOUAME GNOAN REBECCA|\n",
      "|    1500.0|        null|     2022-05-27|2022-04-20|            null|  godogodo_igp_sc007|  0700278056|0707411780|            1|  DOUDOU BI TRA ERIC|\n",
      "|    1500.0|        null|     2022-05-27|2022-04-25|            null| godogodo_igp_reg010|  0759080505|0779633935|            1|      INCHAUD CHRIST|\n",
      "|    1500.0|        null|     2022-05-27|2022-04-21|            null|  godogodo_igp_sc007|  0700278056|0707411780|            1|  DOUDOU BI TRA ERIC|\n",
      "|    1500.0|        null|     2022-05-27|2022-04-25|            null|godogodo_igp_regh...|  0759080505|0779633935|            1|      INCHAUD CHRIST|\n",
      "|    1500.0|        null|     2022-05-17|2022-04-16|            null|  godogodo_igp_sc007|  0700278056|0707411780|            1|  DOUDOU BI TRA ERIC|\n",
      "|    1500.0|        null|     2022-05-27|2022-05-17|            null|godogodo_igp_dist003|  0759994040|0768585828|            1|N'GUESSAN KONAN C...|\n",
      "+----------+------------+---------------+----------+----------------+--------------------+------------+----------+-------------+--------------------+\n",
      "\n",
      "+----------+------------+---------------+----------+----------------+--------------------+------------+-----------+-------------+--------------------+\n",
      "|COMMISSION|COUNT_CLIENT|DATE_CHARGEMENT| DATE_JOUR|DATE_TRANSACTION|               LOGIN|MOBILE_COACH|  MOBILE_OM|NOMBRE_CLIENT|   NOM_PRENOMS_DU_MC|\n",
      "+----------+------------+---------------+----------+----------------+--------------------+------------+-----------+-------------+--------------------+\n",
      "|    1500.0|        null|     2022-05-27|2022-04-21|            null|godogodo_mb_t222_...|  0701081405| 0758735009|            1|      BAKAYOKO SIAKA|\n",
      "|    1500.0|        null|     2022-05-17|2022-04-11|            null|godogodo_BOP_PRIM007|  0758844747| 0749156514|            1|SEHOUE ANGE MESSI...|\n",
      "|    1500.0|        null|     2022-05-27|2022-04-28|            null|godogodo_bop_prim004|  0701079480| 0778644869|            1|N'GUESSAN KOFFI A...|\n",
      "|    1500.0|        null|     2022-05-27|2022-04-21|            null|  godogodo_bop_mb011|  0701081405|�0758735009|            1|      BAKAYOKO SIAKA|\n",
      "|    1500.0|        null|     2022-05-27|2022-04-21|            null|  godogodo_bop_mb011|  0701081405| 0758735009|            1|      BAKAYOKO SIAKA|\n",
      "|    1500.0|        null|     2022-05-13|2022-04-08|            null|  godogodo_bop_sc019|  0759718484| 0769152513|            1|KOFFI ADJO EDWIGE...|\n",
      "|    1500.0|        null|     2022-05-20|2022-04-14|            null|godogodo_BOP_PRIM008|  0758831111| 0779381086|            1|SORO KAHAGNON THI...|\n",
      "|    1500.0|        null|     2022-05-17|2022-04-12|            null|godogodo_sii_t22_...|  0759624747| 0702364113|            1|    SIALLOU SOSTHENE|\n",
      "|    1500.0|        null|     2022-05-17|2022-04-12|            null| godogodo_bop_s2i010|  0759624747| 0702364113|            1|    SIALLOU SOSTHENE|\n",
      "|    1500.0|        null|     2022-05-27|2022-04-25|            null|godogodo_bop_prim012|  0759587171| 0708916757|            1|  BOUADOU CHRISTIANE|\n",
      "|    3000.0|        null|     2022-05-13|2022-04-07|            null|godogodo_mb_t222_...|  0759826969| 0701607875|            2|   MA WINROI OLIVIER|\n",
      "|    1500.0|        null|     2022-05-20|2022-04-16|            null|godogodo_sc_t222_...|  0759718484| 0769152513|            1|KOFFI ADJO EDWIGE...|\n",
      "|    1500.0|        null|     2022-05-20|2022-04-13|            null|godogodo_bop_prim004|  0701079480| 0778644869|            1|N'GUESSAN KOFFI A...|\n",
      "|    1500.0|        null|     2022-05-13|2022-04-06|            null| godogodo_bop_s2i016|  0759662525| 0797337683|            1|          DOKPA ANGE|\n",
      "|    1500.0|        null|     2022-05-13|2022-04-06|            null|godogodo_sii_t22_...|  0759662525| 0797337683|            1|          DOKPA ANGE|\n",
      "|    1500.0|        null|     2022-05-20|2022-04-14|            null|godogodo_bop_prim008|  0758831111| 0779381086|            1|SORO KAHAGNON THI...|\n",
      "|    1500.0|        null|     2022-05-27|2022-04-30|            null|  godogodo_bop_sc018|  0759725858| 0707362375|            1|BOHOUSSOU KOUADIO...|\n",
      "|    1500.0|        null|     2022-05-17|2022-04-11|            null|godogodo_bop_prim007|  0758844747| 0749156514|            1|SEHOUE ANGE MESSI...|\n",
      "|    3000.0|        null|     2022-05-13|2022-04-07|            null|  godogodo_bop_mb002|  0759826969| 0701607875|            2|   MA WINROI OLIVIER|\n",
      "|    1500.0|        null|     2022-05-13|2022-04-07|            null|  godogodo_bop_mb001|  0759770505| 0749331108|            1|        BAMBA MOUSSA|\n",
      "+----------+------------+---------------+----------+----------------+--------------------+------------+-----------+-------------+--------------------+\n",
      "only showing top 20 rows\n",
      "\n",
      "+----------+------------+---------------+----------+----------------+--------------------+------------+----------+-------------+------------------+\n",
      "|COMMISSION|COUNT_CLIENT|DATE_CHARGEMENT| DATE_JOUR|DATE_TRANSACTION|               LOGIN|MOBILE_COACH| MOBILE_OM|NOMBRE_CLIENT| NOM_PRENOMS_DU_MC|\n",
      "+----------+------------+---------------+----------+----------------+--------------------+------------+----------+-------------+------------------+\n",
      "|    1500.0|        null|     2022-05-27|2022-04-27|            null|godogodot222_sc_2...|  0707871101|0707309710|            1|Apia Bouadi Michel|\n",
      "|    1500.0|        null|     2022-05-17|2022-04-11|            null|godogodot222_prim...|  0777004747|0708819751|            1|  ANANI N'DRI JEAN|\n",
      "|    1500.0|        null|     2022-05-17|2022-04-11|            null|godogodo_2as_prim015|  0777004747|0708819751|            1|  ANANI N'DRI JEAN|\n",
      "|    1500.0|        null|     2022-05-27|2022-04-29|            null|godogodot222_prim...|  0777004747|0708819751|            1|  ANANI N'DRI JEAN|\n",
      "|    1500.0|        null|     2022-05-27|2022-04-27|            null|godogodo_2as_boos...|  0707871101|0707309710|            1|Apia Bouadi Michel|\n",
      "|    1500.0|        null|     2022-05-27|2022-04-29|            null|godogodo_2as_prim015|  0777004747|0708819751|            1|  ANANI N'DRI JEAN|\n",
      "+----------+------------+---------------+----------+----------------+--------------------+------------+----------+-------------+------------------+\n",
      "\n"
     ]
    }
   ],
   "source": [
    "f(\"random_drdi_activation_iss_%2A.csv\",  \"iss\")\n",
    "\n",
    "f(\"random_drdi_activation_igp_%2A.csv\",  \"igp\")\n",
    "\n",
    "f(\"random_drdi_activation_bop_%2A.csv\",  \"bop\")\n",
    "\n",
    "f(\"random_drdi_activation_as_%2A.csv\",  \"as\")"
   ]
  },
  {
   "cell_type": "code",
   "execution_count": null,
   "metadata": {},
   "outputs": [],
   "source": [
    "df_commission = spark.read \\\n",
    "      .option(\"delimiter\", \";\") \\\n",
    "      .option(\"header\", \"true\") \\\n",
    "      .csv(\"/Users/youssouf/Downloads/COMMISSION_RECRUTEMENT_202203230.csv\") \\\n",
    "      .dropDuplicates()\n"
   ]
  },
  {
   "cell_type": "code",
   "execution_count": null,
   "metadata": {},
   "outputs": [],
   "source": []
  },
  {
   "cell_type": "code",
   "execution_count": null,
   "metadata": {},
   "outputs": [],
   "source": [
    "df_commission = spark.read \\\n",
    "      .option(\"delimiter\", \";\") \\\n",
    "      .option(\"header\", \"true\") \\\n",
    "      .csv(\"/Users/youssouf/Downloads/COMMISSION_RECRUTEMENT_202203230.csv\") \\\n",
    "      .dropDuplicates()\n"
   ]
  },
  {
   "cell_type": "code",
   "execution_count": null,
   "metadata": {},
   "outputs": [],
   "source": []
  },
  {
   "cell_type": "code",
   "execution_count": null,
   "metadata": {},
   "outputs": [],
   "source": []
  },
  {
   "cell_type": "code",
   "execution_count": null,
   "metadata": {},
   "outputs": [],
   "source": []
  },
  {
   "cell_type": "code",
   "execution_count": null,
   "metadata": {},
   "outputs": [],
   "source": []
  },
  {
   "cell_type": "code",
   "execution_count": null,
   "metadata": {},
   "outputs": [],
   "source": []
  },
  {
   "cell_type": "code",
   "execution_count": null,
   "metadata": {},
   "outputs": [],
   "source": []
  },
  {
   "cell_type": "code",
   "execution_count": null,
   "metadata": {},
   "outputs": [],
   "source": []
  },
  {
   "cell_type": "code",
   "execution_count": null,
   "metadata": {},
   "outputs": [],
   "source": []
  },
  {
   "cell_type": "code",
   "execution_count": null,
   "metadata": {},
   "outputs": [],
   "source": []
  },
  {
   "cell_type": "code",
   "execution_count": null,
   "metadata": {},
   "outputs": [],
   "source": []
  },
  {
   "cell_type": "code",
   "execution_count": null,
   "metadata": {},
   "outputs": [],
   "source": []
  },
  {
   "cell_type": "code",
   "execution_count": null,
   "metadata": {},
   "outputs": [],
   "source": []
  },
  {
   "cell_type": "code",
   "execution_count": null,
   "metadata": {},
   "outputs": [],
   "source": []
  },
  {
   "cell_type": "code",
   "execution_count": null,
   "metadata": {},
   "outputs": [],
   "source": []
  },
  {
   "cell_type": "code",
   "execution_count": null,
   "metadata": {},
   "outputs": [],
   "source": []
  }
 ],
 "metadata": {
  "kernelspec": {
   "display_name": "Python 3 (ipykernel)",
   "language": "python",
   "name": "python3"
  },
  "language_info": {
   "codemirror_mode": {
    "name": "ipython",
    "version": 3
   },
   "file_extension": ".py",
   "mimetype": "text/x-python",
   "name": "python",
   "nbconvert_exporter": "python",
   "pygments_lexer": "ipython3",
   "version": "3.9.12"
  }
 },
 "nbformat": 4,
 "nbformat_minor": 4
}
