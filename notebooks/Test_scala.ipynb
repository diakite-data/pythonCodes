{
 "cells": [
  {
   "cell_type": "code",
   "execution_count": 1,
   "id": "4c71b746",
   "metadata": {},
   "outputs": [
    {
     "data": {
      "text/plain": [
       "Intitializing Scala interpreter ..."
      ]
     },
     "metadata": {},
     "output_type": "display_data"
    },
    {
     "data": {
      "text/plain": [
       "Spark Web UI available at http://192.168.43.232:4040\n",
       "SparkContext available as 'sc' (version = 3.2.1, master = local[*], app id = local-1654217059778)\n",
       "SparkSession available as 'spark'\n"
      ]
     },
     "metadata": {},
     "output_type": "display_data"
    },
    {
     "data": {
      "text/plain": [
       "t: String = this is a test of scala with jupyter\n"
      ]
     },
     "execution_count": 1,
     "metadata": {},
     "output_type": "execute_result"
    }
   ],
   "source": [
    "val t = \"this is a test of scala with jupyter\""
   ]
  },
  {
   "cell_type": "code",
   "execution_count": 7,
   "id": "e9342269",
   "metadata": {},
   "outputs": [
    {
     "data": {
      "text/plain": [
       "import org.apache.spark.sql.{Column, DataFrame, SparkSession}\n",
       "import org.apache.spark.sql.functions._\n"
      ]
     },
     "execution_count": 7,
     "metadata": {},
     "output_type": "execute_result"
    }
   ],
   "source": [
    "import org.apache.spark.sql.{Column, DataFrame, SparkSession}\n",
    "import org.apache.spark.sql.functions._"
   ]
  },
  {
   "cell_type": "code",
   "execution_count": 2,
   "id": "0dc0326f",
   "metadata": {},
   "outputs": [
    {
     "data": {
      "text/plain": [
       "clearMsisdnLength: (msisdn: org.apache.spark.sql.Column)org.apache.spark.sql.Column\n"
      ]
     },
     "execution_count": 2,
     "metadata": {},
     "output_type": "execute_result"
    }
   ],
   "source": [
    " def clearMsisdnLength(msisdn : Column) : Column = {\n",
    "\n",
    "    when(length(trim(msisdn)) === 9, concat(lit(\"0\"), trim(msisdn)))\n",
    "      .when(length(trim(msisdn)) === 8, concat(lit(\"07\"), trim(msisdn)))\n",
    "      .when(length(trim(msisdn)) === 7, concat(lit(\"070\"), trim(msisdn)))\n",
    "      .otherwise(trim(msisdn))\n",
    "\n",
    "  }"
   ]
  },
  {
   "cell_type": "code",
   "execution_count": 4,
   "id": "94d47e9d",
   "metadata": {},
   "outputs": [
    {
     "data": {
      "text/plain": [
       "df: org.apache.spark.sql.Dataset[org.apache.spark.sql.Row] = [NORDRE: string, NDOSSIER: string ... 4 more fields]\n",
       "df1: org.apache.spark.sql.Dataset[org.apache.spark.sql.Row] = [NORDRE: string, NDOSSIER: string ... 4 more fields]\n",
       "df2: org.apache.spark.sql.Dataset[org.apache.spark.sql.Row] = [NORDRE: string, NDOSSIER: string ... 4 more fields]\n",
       "df3: org.apache.spark.sql.Dataset[org.apache.spark.sql.Row] = [NORDRE: string, NDOSSIER: string ... 4 more fields]\n",
       "df4: org.apache.spark.sql.Dataset[org.apache.spark.sql.Row] = [NORDRE: string, NDOSSIER: string ... 4 more fields]\n"
      ]
     },
     "execution_count": 4,
     "metadata": {},
     "output_type": "execute_result"
    }
   ],
   "source": [
    "var df = spark.read\n",
    "      .option(\"delimiter\", \";\")\n",
    "      .option(\"header\", \"true\")\n",
    "      .csv(s\"/Users/diakite/Downloads/Telegram/Rejets_nomad_20220422.csv\")\n",
    "      .dropDuplicates()\n",
    "\n",
    "var df1 = spark.read\n",
    "      .option(\"delimiter\", \";\")\n",
    "      .option(\"header\", \"true\")\n",
    "      .csv(s\"/Users/diakite/Downloads/Telegram/Rejets_nomad_20220415.csv\")\n",
    "      .dropDuplicates()\n",
    "\n",
    "var df2 = spark.read\n",
    "      .option(\"delimiter\", \";\")\n",
    "      .option(\"header\", \"true\")\n",
    "      .csv(s\"/Users/diakite/Downloads/Telegram/Rejets_nomad_20220426.csv\")\n",
    "      .dropDuplicates()\n",
    "\n",
    "var df3 = spark.read\n",
    "      .option(\"delimiter\", \";\")\n",
    "      .option(\"header\", \"true\")\n",
    "      .csv(s\"/Users/diakite/Downloads/Telegram/Rejets_nomad_20220429.csv\")\n",
    "      .dropDuplicates()\n",
    "\n",
    "var df4 = spark.read\n",
    "      .option(\"delimiter\", \";\")\n",
    "      .option(\"header\", \"true\")\n",
    "      .csv(s\"/Users/diakite/Downloads/Telegram/Rejets_nomad_20220506.csv\")\n",
    "      .dropDuplicates()"
   ]
  },
  {
   "cell_type": "code",
   "execution_count": 5,
   "id": "21c4aca1",
   "metadata": {},
   "outputs": [
    {
     "name": "stdout",
     "output_type": "stream",
     "text": [
      "+------+--------+---------+-----------------+--------------------+--------------------+\n",
      "|NORDRE|NDOSSIER|   NUMERO|STATUT DU DOSSIER|      NOM DE L'AGENT|DATE DE SOUSCRIPTION|\n",
      "+------+--------+---------+-----------------+--------------------+--------------------+\n",
      "|    13|60943223|779475314|           VALIDE|PCU Seller PCU Se...|    05/04/2022 17:35|\n",
      "|   427|60920578|778653018|           VALIDE|DIALLO IDRISS YAC...|    05/04/2022 09:28|\n",
      "|  1329|61005291|701819107|           VALIDE|PCU Seller PCU Se...|    07/04/2022 16:02|\n",
      "|  1407|61001455|779414505|           VALIDE|ACTION PMO T2-22 ...|    07/04/2022 14:58|\n",
      "|  1634|60990922|758853193|           VALIDE|PDVL AMANDA PREST...|    07/04/2022 12:00|\n",
      "|  1665|60989991|779597080|           VALIDE|ACTION PMO T2-22 ...|    07/04/2022 11:46|\n",
      "|  1704|60988399|767170512|           VALIDE|PDVL AMANDA PREST...|    07/04/2022 11:24|\n",
      "|  1844|60983598|798346063|           VALIDE|PDVL AMANDA PREST...|    07/04/2022 10:06|\n",
      "|  1894|60981512|768563775|           VALIDE|DIALLO IDRISS YAC...|    07/04/2022 09:25|\n",
      "|  1978|61045261|767179583|           VALIDE|MC ACTION PMO T1-...|    08/04/2022 17:44|\n",
      "|  2267|61035512|747044823|           VALIDE|SORO   SEYDOU - p...|    08/04/2022 14:09|\n",
      "|  2636|61026165|758670852|           VALIDE|BOUAFLE Garango -...|    08/04/2022 11:36|\n",
      "|  2684|61025164|767859814|           VALIDE|PRIMO SERVICES PR...|    08/04/2022 11:24|\n",
      "|  2921|61018528|787996284|           VALIDE|PDVL AMANDA PREST...|    08/04/2022 09:52|\n",
      "|  3082|61073803|789850814|           VALIDE|ACTION BOP RESERV...|    09/04/2022 16:47|\n",
      "|  3422|61048568|769552342|           VALIDE|EPONOU St?phanie ...|    09/04/2022 07:23|\n",
      "|  3434|61099161|759843182|           VALIDE|MC ISS Action RES...|    10/04/2022 19:11|\n",
      "|  3449|61098355|779401474|           VALIDE|PDVLE AMANDA PRES...|    10/04/2022 18:06|\n",
      "|  3472|61097247|747977676|           VALIDE|SORO   SEYDOU - p...|    10/04/2022 17:18|\n",
      "|  4191|61129253|769537297|           VALIDE|ISS ACTION GODO G...|    11/04/2022 15:20|\n",
      "+------+--------+---------+-----------------+--------------------+--------------------+\n",
      "only showing top 20 rows\n",
      "\n"
     ]
    }
   ],
   "source": [
    "df1.show()"
   ]
  },
  {
   "cell_type": "code",
   "execution_count": 10,
   "id": "41e354d3",
   "metadata": {},
   "outputs": [
    {
     "data": {
      "text/plain": [
       "dff: org.apache.spark.sql.DataFrame = [NORDRE: string, NDOSSIER: string ... 5 more fields]\n"
      ]
     },
     "execution_count": 10,
     "metadata": {},
     "output_type": "execute_result"
    }
   ],
   "source": [
    "var dff = df.union(df1).union(df2).union(df3).union(df4)\n",
    "            .withColumn(\"NUMERO\", clearMsisdnLength(col(\"NUMERO\")))\n",
    "            .withColumn(\"DATE\", substring(col(\"DATE DE SOUSCRIPTION\"), 1, 10))"
   ]
  },
  {
   "cell_type": "code",
   "execution_count": 11,
   "id": "d9a4aa26",
   "metadata": {},
   "outputs": [
    {
     "name": "stdout",
     "output_type": "stream",
     "text": [
      "+------+--------+----------+-----------------+--------------------+--------------------+----------+\n",
      "|NORDRE|NDOSSIER|    NUMERO|STATUT DU DOSSIER|      NOM DE L'AGENT|DATE DE SOUSCRIPTION|      DATE|\n",
      "+------+--------+----------+-----------------+--------------------+--------------------+----------+\n",
      "|    37|61184089|0797634139|           VALIDE|DIALLO IDRISS YAC...|    12/04/2022 19:38|12/04/2022|\n",
      "|    61|61183232|0797363144|           VALIDE|ACTION PMO T2 202...|    12/04/2022 18:53|12/04/2022|\n",
      "|    69|61183041|0768158617|           VALIDE|ACTION T122 CAN I...|    12/04/2022 18:43|12/04/2022|\n",
      "|   127|61180929|0798227170|           VALIDE|PCU Seller PCU Se...|    12/04/2022 17:35|12/04/2022|\n",
      "|   269|61177737|0701040704|           VALIDE|SUITE COM SUITE C...|    12/04/2022 16:34|12/04/2022|\n",
      "|   286|61177402|0798895725|           VALIDE|PMO T3 ACTION - h...|    12/04/2022 16:29|12/04/2022|\n",
      "|   402|61175130|0798369711|           VALIDE|IGP ACTION GODO G...|    12/04/2022 15:47|12/04/2022|\n",
      "|  1325|61154504|0747327920|           VALIDE|BOP ACTION GODO G...|    12/04/2022 11:23|12/04/2022|\n",
      "|  1547|61149186|0748920655|           VALIDE|PCU Seller PCU Se...|    12/04/2022 10:16|12/04/2022|\n",
      "|  1804|61142684|0777280154|           VALIDE|ISS ACTION GODO G...|    12/04/2022 08:09|12/04/2022|\n",
      "|  2030|61226142|0748264532|           VALIDE|IGP ACTION GODO G...|    13/04/2022 17:25|13/04/2022|\n",
      "|  2031|61226127|0700734521|           VALIDE|IGP ACTION GODO G...|    13/04/2022 17:32|13/04/2022|\n",
      "|  2163|61223517|0704056003|           VALIDE|PCU Seller PCU Se...|    13/04/2022 16:38|13/04/2022|\n",
      "|  2613|61215596|0758812423|           VALIDE|ACTION PMO T2 202...|    13/04/2022 14:30|13/04/2022|\n",
      "|  2722|61213420|0788979328|           VALIDE|ISS ACTION GODO G...|    13/04/2022 13:52|13/04/2022|\n",
      "|  2918|61209032|0708335623|           VALIDE|PDVL AMANDA PREST...|    13/04/2022 12:47|13/04/2022|\n",
      "|  3179|61203378|0769535369|           VALIDE|PCU Seller PCU Se...|    13/04/2022 11:38|13/04/2022|\n",
      "|  3761|61192480|0701060720|           VALIDE|IGP ACTION GODO G...|    13/04/2022 09:27|13/04/2022|\n",
      "|  3800|61191960|0700576282|           VALIDE|DIALLO FATOGOMA -...|    13/04/2022 09:20|13/04/2022|\n",
      "|  4223|61270013|0788369452|           VALIDE|ISS ACTION COVER ...|    14/04/2022 18:11|14/04/2022|\n",
      "+------+--------+----------+-----------------+--------------------+--------------------+----------+\n",
      "only showing top 20 rows\n",
      "\n"
     ]
    }
   ],
   "source": [
    "dff.show()"
   ]
  },
  {
   "cell_type": "code",
   "execution_count": 14,
   "id": "7cec0f8d",
   "metadata": {},
   "outputs": [
    {
     "name": "stdout",
     "output_type": "stream",
     "text": [
      "+----------+\n",
      "|      DATE|\n",
      "+----------+\n",
      "|01/05/2022|\n",
      "|02/05/2022|\n",
      "|05/04/2022|\n",
      "|06/04/2022|\n",
      "|07/04/2022|\n",
      "|08/04/2022|\n",
      "|09/04/2022|\n",
      "|10/04/2022|\n",
      "|11/04/2022|\n",
      "|12/04/2022|\n",
      "|13/04/2022|\n",
      "|14/04/2022|\n",
      "|15/04/2022|\n",
      "|16/04/2022|\n",
      "|17/04/2022|\n",
      "|18/04/2022|\n",
      "|19/04/2022|\n",
      "|20/04/2022|\n",
      "|21/04/2022|\n",
      "|22/04/2022|\n",
      "|23/04/2022|\n",
      "|24/04/2022|\n",
      "|25/04/2022|\n",
      "|26/04/2022|\n",
      "|27/04/2022|\n",
      "|28/04/2022|\n",
      "|29/04/2022|\n",
      "|30/04/2022|\n",
      "+----------+\n",
      "\n"
     ]
    }
   ],
   "source": [
    "dff.select(\"DATE\").distinct().orderBy(col(\"DATE\")).show(40)"
   ]
  },
  {
   "cell_type": "code",
   "execution_count": 15,
   "id": "0f8e20fc",
   "metadata": {},
   "outputs": [
    {
     "data": {
      "text/plain": [
       "dff1: org.apache.spark.sql.Dataset[org.apache.spark.sql.Row] = [NORDRE: string, NDOSSIER: string ... 5 more fields]\n"
      ]
     },
     "execution_count": 15,
     "metadata": {},
     "output_type": "execute_result"
    }
   ],
   "source": [
    "val dff1 = dff.filter(!col(\"DATE\").isin(\"01/05/2022\", \"02/05/2022\", \"05/04/2022\") )"
   ]
  },
  {
   "cell_type": "code",
   "execution_count": 16,
   "id": "87cc58cc",
   "metadata": {},
   "outputs": [],
   "source": [
    "dff1.coalesce(1)\n",
    "      .write\n",
    "      .format(\"csv\")\n",
    "      .option(\"header\", \"true\")\n",
    "      .option(\"delimiter\", \";\")\n",
    "      .mode(\"overwrite\")\n",
    "      .save(\"/Users/diakite/Downloads/lawatien_01_30_avril.csv\")"
   ]
  },
  {
   "cell_type": "code",
   "execution_count": 20,
   "id": "9647805b",
   "metadata": {},
   "outputs": [
    {
     "name": "stdout",
     "output_type": "stream",
     "text": [
      "+------+--------+----------+-----------------+--------------------+--------------------+----------+\n",
      "|NORDRE|NDOSSIER|    NUMERO|STATUT DU DOSSIER|      NOM DE L'AGENT|DATE DE SOUSCRIPTION|      DATE|\n",
      "+------+--------+----------+-----------------+--------------------+--------------------+----------+\n",
      "| 24494|61645847|0759944669|      VALIDE LITE|ISS ACTION GODO G...|    26/04/2022 09:25|26/04/2022|\n",
      "+------+--------+----------+-----------------+--------------------+--------------------+----------+\n",
      "\n"
     ]
    }
   ],
   "source": [
    "dff1.filter(col(\"NUMERO\") === \"0759944669\").show()"
   ]
  },
  {
   "cell_type": "code",
   "execution_count": 22,
   "id": "52b65f6f",
   "metadata": {},
   "outputs": [
    {
     "name": "stdout",
     "output_type": "stream",
     "text": [
      "+--------+--------+-----------------+------------------+--------------+--------------------+-------+----------+------------------+--------------------+------+---------------+------------------+--------------+---------------+-----------+------------+----------+------------+-------+----------+----------------+------------------+-------------------+--------------------+----------------+---------------------+--------------+----------+---------+----------------+-----------+\n",
      "| DATE_ID|MONTH_ID|DATE_SOUSCRIPTION|MONTH_SOUSCRIPTION|DISTRIBUTOR_ID|              ACTEUR|CABINET|    MSISDN|MODE_ENRGISTREMENT|               GRADE|STATUS|USER_FIRST_NAME|  OWNER_FIRST_NAME|    PARTENAIRE|ZONE_PARTENAIRE|TYPE_RESEAU|TYPE_CHANNEL|   ACTEUR2|  ACTION_PMO| ACTION|USAGE_TYPE| TRANSACTION_TAG|NOMBRE_TRANSACTION|MONTANT_TRANSACTION|COMMISSION_GROSSISTE|COMMISSION_AGENT|SERVICE_CHARGE_AMOUNT|   PARTENAIRE2|TRUE_USAGE|  MSISDN_| TRANSACTION CAT|DELAI_USAGE|\n",
      "+--------+--------+-----------------+------------------+--------------+--------------------+-------+----------+------------------+--------------------+------+---------------+------------------+--------------+---------------+-----------+------------+----------+------------+-------+----------+----------------+------------------+-------------------+--------------------+----------------+---------------------+--------------+----------+---------+----------------+-----------+\n",
      "|20220430|  202204|         20220429|            202204|    0759935656|godogodo_igp_dist009|    IGP|0779022166|             NOMAD|Subscriber Lite B...|     Y|Grossiste 2 PDV|DRDIANIMATION GPT2|ANIMATION DRDI| ANIMATION DRDI|     TYPE 2|       NOMAD|Detaillant|PMO- T2 2022|Terrain|    sender|         CASHOUT|                 1|              14500|                   0|               0|               145,00|ANIMATION DRDI|         1|779022166|      1. CASHOUT|          2|\n",
      "|20220419|  202204|         20220412|            202204|    0759707979|  godogodo_bop_sc015|    BOP|0758475088|             NOMAD|Subscriber Lite B...|     Y|Grossiste 2 PDV|DRDIANIMATION GPT2|ANIMATION DRDI| ANIMATION DRDI|     TYPE 2|       NOMAD|Detaillant|PMO- T2 2022|Terrain|    sender|         CASHOUT|                 1|              14750|                   0|               0|               147,50|ANIMATION DRDI|         1|758475088|      1. CASHOUT|          8|\n",
      "|20220420|  202204|         20220408|            202204|    0759709090| godogodo_bop_s2i005|    BOP|0709495904|             NOMAD|Subscriber Lite B...|     Y|Grossiste 2 PDV|DRDIANIMATION GPT2|ANIMATION DRDI| ANIMATION DRDI|     TYPE 2|       NOMAD|Detaillant|PMO- T2 2022|Terrain|    sender|         CASHOUT|                 1|              17000|                   0|               0|               170,00|ANIMATION DRDI|         1|709495904|      1. CASHOUT|         13|\n",
      "|20220421|  202204|         20220412|            202204|    0759662525| godogodo_bop_s2i016|    BOP|0787262062|             NOMAD|Subscriber Lite B...|     Y|Grossiste 2 PDV|DRDIANIMATION GPT2|ANIMATION DRDI| ANIMATION DRDI|     TYPE 2|       NOMAD|Detaillant|PMO- T2 2022|Terrain|    sender|         CASHOUT|                 1|               5000|                   0|               0|                50,00|ANIMATION DRDI|         1|787262062|      1. CASHOUT|         10|\n",
      "|20220424|  202204|         20220411|            202204|    0701567758| godogodo_iss_tid006|    ISS|0778333000|             NOMAD|Subscriber Lite B...|     Y|Grossiste 2 PDV|DRDIANIMATION GPT2|ANIMATION DRDI| ANIMATION DRDI|     TYPE 2|       NOMAD|Detaillant|PMO- T2 2022|Terrain|    sender|         CASHOUT|                 1|              10000|                   0|               0|               100,00|ANIMATION DRDI|         1|778333000|      1. CASHOUT|         14|\n",
      "|20220425|  202204|         20220415|            202204|    0759333535|godogodo_2as_laco...|    2AS|0759804775|             NOMAD|Subscriber Lite B...|     Y|Grossiste 2 PDV|DRDIANIMATION GPT2|ANIMATION DRDI| ANIMATION DRDI|     TYPE 2|       NOMAD|Detaillant|PMO- T2 2022|Terrain|    sender|PAIEMENT FACTURE|                 1|               5100|                   0|               0|                 0,00|ANIMATION DRDI|         1|759804775|2. AUTRE SORTANT|         11|\n",
      "|20220430|  202204|         20220407|            202204|    0758867676|  godogodo_igp_sc011|    IGP|0779300122|             NOMAD|Subscriber Lite B...|     Y|Grossiste 2 PDV|DRDIANIMATION GPT2|ANIMATION DRDI| ANIMATION DRDI|     TYPE 2|       NOMAD|Detaillant|PMO- T2 2022|Terrain|    sender|         CASHOUT|                 1|              17000|                   0|               0|               170,00|ANIMATION DRDI|         1|779300122|      1. CASHOUT|         24|\n",
      "|20220413|  202204|         20220411|            202204|    0700279059| godogodo_igp_ktc005|    IGP|0789595079|             NOMAD|Subscriber Lite B...|     Y|Grossiste 2 PDV|DRDIANIMATION GPT2|ANIMATION DRDI| ANIMATION DRDI|     TYPE 2|       NOMAD|Detaillant|PMO- T2 2022|Terrain|    sender|         CASHOUT|                 1|              15000|                   0|               0|               150,00|ANIMATION DRDI|         1|789595079|      1. CASHOUT|          3|\n",
      "|20220416|  202204|         20220411|            202204|    0759636868|     res_kit_bop_022|    BOP|0701419131|             NOMAD|Subscriber Lite B...|     Y|Grossiste 2 PDV|DRDIANIMATION GPT2|ANIMATION DRDI| ANIMATION DRDI|     TYPE 2|       NOMAD|Detaillant|PMO- T2 2022|Terrain|    sender|         CASHOUT|                 1|               9900|                   0|               0|                99,00|ANIMATION DRDI|         1|701419131|      1. CASHOUT|          6|\n",
      "|20220426|  202204|         20220419|            202204|    0701079514|godogodo_bop_prim011|    BOP|0707415230|             NOMAD|Subscriber Lite B...|     Y|Grossiste 2 PDV|DRDIANIMATION GPT2|ANIMATION DRDI| ANIMATION DRDI|     TYPE 2|       NOMAD|Detaillant|PMO- T2 2022|Terrain|    sender|         CASHOUT|                 1|               4950|                   0|               0|                49,50|ANIMATION DRDI|         1|707415230|      1. CASHOUT|          8|\n",
      "|20220427|  202204|         20220411|            202204|    0701079480|godogodo_bop_prim004|    BOP|0708375841|             NOMAD|Subscriber Lite B...|     Y|Grossiste 2 PDV|DRDIANIMATION GPT2|ANIMATION DRDI| ANIMATION DRDI|     TYPE 2|       NOMAD|Detaillant|PMO- T2 2022|Terrain|    sender|         CASHOUT|                 1|               2000|                   0|               0|                20,00|ANIMATION DRDI|         1|708375841|      1. CASHOUT|         17|\n",
      "|20220407|  202204|         20220407|            202204|    0759826969|  godogodo_bop_mb002|    BOP|0703548681|             NOMAD|Subscriber Lite B...|     Y|Grossiste 2 PDV|DRDIANIMATION GPT2|ANIMATION DRDI| ANIMATION DRDI|     TYPE 2|       NOMAD|Detaillant|PMO- T2 2022|Terrain|    sender|         CASHOUT|                 1|               2000|                   0|               0|                20,00|ANIMATION DRDI|         1|703548681|      1. CASHOUT|          1|\n",
      "|20220416|  202204|         20220411|            202204|    0701081407|  event_iss_t122_018|    ISS|0778542709|             NOMAD|Subscriber Lite B...|     Y|Grossiste 2 PDV|DRDIANIMATION GPT2|ANIMATION DRDI| ANIMATION DRDI|     TYPE 2|       NOMAD|Detaillant|      Autres| Autres|    sender|         CASHOUT|                 1|               8000|                   0|               0|                80,00|ANIMATION DRDI|         1|778542709|      1. CASHOUT|          6|\n",
      "|20220427|  202204|         20220411|            202204|    0701081407|  event_iss_t122_018|    ISS|0799976457|             NOMAD|Subscriber Lite B...|     Y|Grossiste 2 PDV|DRDIANIMATION GPT2|ANIMATION DRDI| ANIMATION DRDI|     TYPE 2|       NOMAD|Detaillant|      Autres| Autres|    sender|         CASHOUT|                 1|               4900|                   0|               0|                49,00|ANIMATION DRDI|         1|799976457|      1. CASHOUT|         17|\n",
      "|20220424|  202204|         20220414|            202204|    0700277109|   cover_iss_s2i_044|    ISS|0789951865|             NOMAD|Subscriber Lite B...|     Y|Grossiste 2 PDV|DRDIANIMATION GPT2|ANIMATION DRDI| ANIMATION DRDI|     TYPE 2|       NOMAD|Detaillant|PMO- T2 2022|Terrain|    sender|         CASHOUT|                 1|               2000|                   0|               0|                20,00|ANIMATION DRDI|         1|789951865|      1. CASHOUT|         11|\n",
      "|20220427|  202204|         20220420|            202204|    0758942525| godogodo_igp_mos011|    IGP|0708582796|             NOMAD|Subscriber Lite B...|     Y|Grossiste 2 PDV|DRDIANIMATION GPT2|ANIMATION DRDI| ANIMATION DRDI|     TYPE 2|       NOMAD|Detaillant|PMO- T2 2022|Terrain|    sender|PAIEMENT FACTURE|                 1|               5000|                   0|               0|                 0,00|ANIMATION DRDI|         1|708582796|2. AUTRE SORTANT|          8|\n",
      "|20220428|  202204|         20220406|            202204|    0759697272|  godogodo_bop_sc003|    BOP|0797062983|             NOMAD|Subscriber Lite B...|     Y|Grossiste 2 PDV|DRDIANIMATION GPT2|ANIMATION DRDI| ANIMATION DRDI|     TYPE 2|       NOMAD|Detaillant|PMO- T2 2022|Terrain|    sender|         CASHOUT|                 1|               5000|                   0|               0|                50,00|ANIMATION DRDI|         1|797062983|      1. CASHOUT|         23|\n",
      "|20220429|  202204|         20220411|            202204|    0701081407|  event_iss_t122_018|    ISS|0799934954|             NOMAD|Subscriber Lite B...|     Y|Grossiste 2 PDV|DRDIANIMATION GPT2|ANIMATION DRDI| ANIMATION DRDI|     TYPE 2|       NOMAD|Detaillant|      Autres| Autres|    sender|         CASHOUT|                 1|              20000|                   0|               0|               200,00|ANIMATION DRDI|         1|799934954|      1. CASHOUT|         19|\n",
      "|20220430|  202204|         20220420|            202204|    0701566783|   cover_iss_s2i_035|    ISS|0768330480|             NOMAD|Subscriber Lite B...|     Y|Grossiste 2 PDV|DRDIANIMATION GPT2|ANIMATION DRDI| ANIMATION DRDI|     TYPE 2|       NOMAD|Detaillant|PMO- T2 2022|Terrain|    sender|         CASHOUT|                 1|               5000|                   0|               0|                50,00|ANIMATION DRDI|         1|768330480|      1. CASHOUT|         11|\n",
      "|20220416|  202204|         20220406|            202204|    0759663232|     res_kit_bop_003|    BOP|0779037741|             NOMAD|Subscriber Lite B...|     Y|Grossiste 2 PDV|DRDIANIMATION GPT2|ANIMATION DRDI| ANIMATION DRDI|     TYPE 2|       NOMAD|Detaillant|PMO- T2 2022|Terrain|    sender|         CASHOUT|                 1|               4950|                   0|               0|                49,50|ANIMATION DRDI|         1|779037741|      1. CASHOUT|         11|\n",
      "+--------+--------+-----------------+------------------+--------------+--------------------+-------+----------+------------------+--------------------+------+---------------+------------------+--------------+---------------+-----------+------------+----------+------------+-------+----------+----------------+------------------+-------------------+--------------------+----------------+---------------------+--------------+----------+---------+----------------+-----------+\n",
      "only showing top 20 rows\n",
      "\n"
     ]
    },
    {
     "data": {
      "text/plain": [
       "df5: org.apache.spark.sql.Dataset[org.apache.spark.sql.Row] = [DATE_ID: string, MONTH_ID: string ... 30 more fields]\n"
      ]
     },
     "execution_count": 22,
     "metadata": {},
     "output_type": "execute_result"
    }
   ],
   "source": [
    "\n",
    "var df5 = spark.read\n",
    "      .option(\"delimiter\", \";\")\n",
    "      .option(\"header\", \"true\")\n",
    "      .csv(s\"/Users/diakite/Downloads/cl_avril_analyse.csv\")\n",
    "      .dropDuplicates()\n",
    "\n",
    "df5.show()"
   ]
  },
  {
   "cell_type": "code",
   "execution_count": 24,
   "id": "995f5efe",
   "metadata": {},
   "outputs": [
    {
     "name": "stdout",
     "output_type": "stream",
     "text": [
      "+--------+--------+-----------------+------------------+--------------+-------------------+-------+----------+------------------+--------------------+------+---------------+------------------+--------------+---------------+-----------+------------+----------+------------+-------+----------+-----------------+------------------+-------------------+--------------------+----------------+---------------------+--------------+----------+---------+----------------+-----------+\n",
      "| DATE_ID|MONTH_ID|DATE_SOUSCRIPTION|MONTH_SOUSCRIPTION|DISTRIBUTOR_ID|             ACTEUR|CABINET|    MSISDN|MODE_ENRGISTREMENT|               GRADE|STATUS|USER_FIRST_NAME|  OWNER_FIRST_NAME|    PARTENAIRE|ZONE_PARTENAIRE|TYPE_RESEAU|TYPE_CHANNEL|   ACTEUR2|  ACTION_PMO| ACTION|USAGE_TYPE|  TRANSACTION_TAG|NOMBRE_TRANSACTION|MONTANT_TRANSACTION|COMMISSION_GROSSISTE|COMMISSION_AGENT|SERVICE_CHARGE_AMOUNT|   PARTENAIRE2|TRUE_USAGE|  MSISDN_| TRANSACTION CAT|DELAI_USAGE|\n",
      "+--------+--------+-----------------+------------------+--------------+-------------------+-------+----------+------------------+--------------------+------+---------------+------------------+--------------+---------------+-----------+------------+----------+------------+-------+----------+-----------------+------------------+-------------------+--------------------+----------------+---------------------+--------------+----------+---------+----------------+-----------+\n",
      "|20220408|  202204|         20220402|            202204|    0700276172|godogodo_iss_tid001|    ISS|0799203090|             NOMAD|Subscriber Lite B...|     Y|Grossiste 2 PDV|DRDIANIMATION GPT2|ANIMATION DRDI| ANIMATION DRDI|     TYPE 2|       NOMAD|Detaillant|PMO- T2 2022|Terrain|    sender|          CASHOUT|                 1|               4900|                   0|               0|                49,00|ANIMATION DRDI|         1|799203090|      1. CASHOUT|          7|\n",
      "|20220420|  202204|         20220407|            202204|    0759691313|godogodo_bop_s2i008|    BOP|0758723384|             NOMAD|Subscriber Lite B...|     Y|Grossiste 2 PDV|DRDIANIMATION GPT2|ANIMATION DRDI| ANIMATION DRDI|     TYPE 2|       NOMAD|Detaillant|PMO- T2 2022|Terrain|    sender|          CASHOUT|                 1|               2000|                   0|               0|                20,00|ANIMATION DRDI|         1|758723384|      1. CASHOUT|         14|\n",
      "|20220402|  202204|         20220402|            202204|    0759766464| godogodo_igp_mb010|    IGP|0757994671|             NOMAD|Subscriber Lite B...|     Y|Grossiste 2 PDV|DRDIANIMATION GPT2|ANIMATION DRDI| ANIMATION DRDI|     TYPE 2|       NOMAD|Detaillant|PMO- T2 2022|Terrain|    sender|PAIEMENT MARCHAND|                 1|             155000|                   0|               0|                 0,00|ANIMATION DRDI|         1|757994671|2. AUTRE SORTANT|          1|\n",
      "|20220428|  202204|         20220407|            202204|    0758863939| godogodo_igp_sc015|    IGP|0779505241|             NOMAD|Subscriber Lite B...|     Y|Grossiste 2 PDV|DRDIANIMATION GPT2|ANIMATION DRDI| ANIMATION DRDI|     TYPE 2|       NOMAD|Detaillant|PMO- T2 2022|Terrain|    sender|PAIEMENT MARCHAND|                 1|               5000|                   0|               0|                 0,00|ANIMATION DRDI|         1|779505241|2. AUTRE SORTANT|         22|\n",
      "|20220407|  202204|         20220407|            202204|    0759515373|  cover_iss_s2i_026|    ISS|0758270758|             NOMAD|Subscriber Lite B...|     Y|Grossiste 2 PDV|DRDIANIMATION GPT2|ANIMATION DRDI| ANIMATION DRDI|     TYPE 2|       NOMAD|Detaillant|PMO- T2 2022|Terrain|    sender| PAIEMENT FACTURE|                 1|               6222|                   0|               0|                 0,00|ANIMATION DRDI|         1|758270758|2. AUTRE SORTANT|          1|\n",
      "|20220418|  202204|         20220402|            202204|    0759766464| godogodo_igp_mb010|    IGP|0767680599|             NOMAD|Subscriber Lite B...|     Y|Grossiste 2 PDV|DRDIANIMATION GPT2|ANIMATION DRDI| ANIMATION DRDI|     TYPE 2|       NOMAD|Detaillant|PMO- T2 2022|Terrain|    sender|          CASHOUT|                 1|               5000|                   0|               0|                50,00|ANIMATION DRDI|         1|767680599|      1. CASHOUT|         17|\n",
      "|20220419|  202204|         20220411|            202204|    0759624242|godogodo_bop_s2i012|    BOP|0701419124|         SELF_USSD|Subscriber Lite B...|     Y|Grossiste 2 PDV|DRDIANIMATION GPT2|ANIMATION DRDI| ANIMATION DRDI|     TYPE 2|       NOMAD|Detaillant|PMO- T2 2022|Terrain|    sender|          CASHOUT|                 1|               2000|                   0|               0|                20,00|ANIMATION DRDI|         1|701419124|      1. CASHOUT|          9|\n",
      "|20220412|  202204|         20220402|            202204|    0759766464| godogodo_igp_mb010|    IGP|0767679841|             NOMAD|Subscriber Lite B...|     Y|Grossiste 2 PDV|DRDIANIMATION GPT2|ANIMATION DRDI| ANIMATION DRDI|     TYPE 2|       NOMAD|Detaillant|PMO- T2 2022|Terrain|    sender|PAIEMENT MARCHAND|                 1|               5000|                   0|               0|                 0,00|ANIMATION DRDI|         1|767679841|2. AUTRE SORTANT|         11|\n",
      "+--------+--------+-----------------+------------------+--------------+-------------------+-------+----------+------------------+--------------------+------+---------------+------------------+--------------+---------------+-----------+------------+----------+------------+-------+----------+-----------------+------------------+-------------------+--------------------+----------------+---------------------+--------------+----------+---------+----------------+-----------+\n",
      "\n"
     ]
    }
   ],
   "source": [
    "df5.join(dff1, df5.col(\"MSISDN\") === dff1.col(\"NUMERO\"), \"left_anti\").show()"
   ]
  },
  {
   "cell_type": "code",
   "execution_count": 25,
   "id": "78598238",
   "metadata": {},
   "outputs": [
    {
     "data": {
      "text/plain": [
       "res14: Long = 8\n"
      ]
     },
     "execution_count": 25,
     "metadata": {},
     "output_type": "execute_result"
    }
   ],
   "source": [
    "df5.join(dff1, df5.col(\"MSISDN\") === dff1.col(\"NUMERO\"), \"left_anti\").count()"
   ]
  },
  {
   "cell_type": "code",
   "execution_count": null,
   "id": "237a8084",
   "metadata": {},
   "outputs": [],
   "source": []
  }
 ],
 "metadata": {
  "kernelspec": {
   "display_name": "spylon-kernel",
   "language": "scala",
   "name": "spylon-kernel"
  },
  "language_info": {
   "codemirror_mode": "text/x-scala",
   "file_extension": ".scala",
   "help_links": [
    {
     "text": "MetaKernel Magics",
     "url": "https://metakernel.readthedocs.io/en/latest/source/README.html"
    }
   ],
   "mimetype": "text/x-scala",
   "name": "scala",
   "pygments_lexer": "scala",
   "version": "0.4.1"
  }
 },
 "nbformat": 4,
 "nbformat_minor": 5
}
