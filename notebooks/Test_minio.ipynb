{
 "cells": [
  {
   "cell_type": "code",
   "execution_count": 1,
   "id": "629ef56d",
   "metadata": {},
   "outputs": [],
   "source": [
    "from pyspark.sql import SparkSession\n"
   ]
  },
  {
   "cell_type": "code",
   "execution_count": 2,
   "id": "2601d151",
   "metadata": {},
   "outputs": [
    {
     "name": "stderr",
     "output_type": "stream",
     "text": [
      "22/12/06 15:21:54 WARN Utils: Your hostname, diakites-MacBook-Pro.local resolves to a loopback address: 127.0.0.1; using 192.168.43.232 instead (on interface en0)\n",
      "22/12/06 15:21:54 WARN Utils: Set SPARK_LOCAL_IP if you need to bind to another address\n",
      "Using Spark's default log4j profile: org/apache/spark/log4j-defaults.properties\n",
      "Setting default log level to \"WARN\".\n",
      "To adjust logging level use sc.setLogLevel(newLevel). For SparkR, use setLogLevel(newLevel).\n",
      "22/12/06 15:21:55 WARN NativeCodeLoader: Unable to load native-hadoop library for your platform... using builtin-java classes where applicable\n"
     ]
    }
   ],
   "source": [
    "spark = SparkSession.builder.enableHiveSupport().getOrCreate()"
   ]
  },
  {
   "cell_type": "code",
   "execution_count": 3,
   "id": "6ba76842",
   "metadata": {},
   "outputs": [],
   "source": [
    "import pandas as pd"
   ]
  },
  {
   "cell_type": "code",
   "execution_count": 4,
   "id": "f7e63c62",
   "metadata": {},
   "outputs": [],
   "source": [
    "path = \"/Users/diakite/Downloads/random_objectif_hebdomadaire_grossiste_202211.csv\""
   ]
  },
  {
   "cell_type": "code",
   "execution_count": 5,
   "id": "42ea7ed1",
   "metadata": {},
   "outputs": [
    {
     "data": {
      "text/html": [
       "<div><div id=15ffeba9-9008-4048-a485-99a1e0ab5e51 style=\"display:none; background-color:#9D6CFF; color:white; width:200px; height:30px; padding-left:5px; border-radius:4px; flex-direction:row; justify-content:space-around; align-items:center;\" onmouseover=\"this.style.backgroundColor='#BA9BF8'\" onmouseout=\"this.style.backgroundColor='#9D6CFF'\" onclick=\"window.commands?.execute('create-mitosheet-from-dataframe-output');\">See Full Dataframe in Mito</div> <script> if (window.commands?.hasCommand('create-mitosheet-from-dataframe-output')) document.getElementById('15ffeba9-9008-4048-a485-99a1e0ab5e51').style.display = 'flex' </script> <table border=\"1\" class=\"dataframe\">\n",
       "  <thead>\n",
       "    <tr style=\"text-align: right;\">\n",
       "      <th></th>\n",
       "      <th>COMMISSION_AGENT_REEL</th>\n",
       "      <th>COMMISSION_GROSSISTE_FIXE</th>\n",
       "      <th>COMMISSION_GROSSISTE_REEL</th>\n",
       "      <th>COMPTE_PDV</th>\n",
       "      <th>COMPTE_REVENDEUR</th>\n",
       "      <th>LAST_DAY_OF_WEEK</th>\n",
       "      <th>OBJECTIF_AGENT</th>\n",
       "      <th>OBJECTIF_GROSSISTE</th>\n",
       "      <th>OBJECTIF_REALISE_AGENT</th>\n",
       "      <th>OBJECTIF_REALISE_GROSSISTE</th>\n",
       "      <th>OBJECTIF_SEMAINE</th>\n",
       "      <th>PRIME_HEBDOMADAIRE_GROSSISTE</th>\n",
       "      <th>R/O_AGENT</th>\n",
       "      <th>R/O_GROSSISTE</th>\n",
       "      <th>RUNTIME</th>\n",
       "      <th>SEMAINE</th>\n",
       "      <th>TETE_DE_PONT</th>\n",
       "      <th>TRANSACTION_TAG</th>\n",
       "    </tr>\n",
       "  </thead>\n",
       "  <tbody>\n",
       "    <tr>\n",
       "      <th>0</th>\n",
       "      <td>NaN</td>\n",
       "      <td>6050129.0</td>\n",
       "      <td>151253</td>\n",
       "      <td>NaN</td>\n",
       "      <td>NaN</td>\n",
       "      <td>20221107</td>\n",
       "      <td>NaN</td>\n",
       "      <td>NaN</td>\n",
       "      <td>NaN</td>\n",
       "      <td>1638919763</td>\n",
       "      <td>1559197306</td>\n",
       "      <td>151253</td>\n",
       "      <td>NaN</td>\n",
       "      <td>1</td>\n",
       "      <td>08/11/2022 11:20:11</td>\n",
       "      <td>1</td>\n",
       "      <td>788280641</td>\n",
       "      <td>CASHOUT</td>\n",
       "    </tr>\n",
       "    <tr>\n",
       "      <th>1</th>\n",
       "      <td>NaN</td>\n",
       "      <td>6698091.0</td>\n",
       "      <td>167452</td>\n",
       "      <td>NaN</td>\n",
       "      <td>NaN</td>\n",
       "      <td>20221107</td>\n",
       "      <td>NaN</td>\n",
       "      <td>NaN</td>\n",
       "      <td>NaN</td>\n",
       "      <td>4302822888</td>\n",
       "      <td>4279525010</td>\n",
       "      <td>167452</td>\n",
       "      <td>NaN</td>\n",
       "      <td>1</td>\n",
       "      <td>08/11/2022 11:20:11</td>\n",
       "      <td>1</td>\n",
       "      <td>708419204</td>\n",
       "      <td>CASHIN</td>\n",
       "    </tr>\n",
       "    <tr>\n",
       "      <th>2</th>\n",
       "      <td>NaN</td>\n",
       "      <td>309630.0</td>\n",
       "      <td>7741</td>\n",
       "      <td>NaN</td>\n",
       "      <td>NaN</td>\n",
       "      <td>20221107</td>\n",
       "      <td>NaN</td>\n",
       "      <td>NaN</td>\n",
       "      <td>NaN</td>\n",
       "      <td>34428550</td>\n",
       "      <td>33999050</td>\n",
       "      <td>7741</td>\n",
       "      <td>NaN</td>\n",
       "      <td>1</td>\n",
       "      <td>08/11/2022 11:20:11</td>\n",
       "      <td>1</td>\n",
       "      <td>707068208</td>\n",
       "      <td>CASHOUT</td>\n",
       "    </tr>\n",
       "    <tr>\n",
       "      <th>3</th>\n",
       "      <td>NaN</td>\n",
       "      <td>396651.0</td>\n",
       "      <td>9916</td>\n",
       "      <td>NaN</td>\n",
       "      <td>NaN</td>\n",
       "      <td>20221107</td>\n",
       "      <td>NaN</td>\n",
       "      <td>NaN</td>\n",
       "      <td>NaN</td>\n",
       "      <td>23939600</td>\n",
       "      <td>23680296</td>\n",
       "      <td>9916</td>\n",
       "      <td>NaN</td>\n",
       "      <td>1</td>\n",
       "      <td>08/11/2022 11:20:11</td>\n",
       "      <td>1</td>\n",
       "      <td>702155864</td>\n",
       "      <td>CASHOUT</td>\n",
       "    </tr>\n",
       "    <tr>\n",
       "      <th>4</th>\n",
       "      <td>NaN</td>\n",
       "      <td>562175.0</td>\n",
       "      <td>14054</td>\n",
       "      <td>NaN</td>\n",
       "      <td>NaN</td>\n",
       "      <td>20221107</td>\n",
       "      <td>NaN</td>\n",
       "      <td>NaN</td>\n",
       "      <td>NaN</td>\n",
       "      <td>85874875</td>\n",
       "      <td>68283889</td>\n",
       "      <td>14054</td>\n",
       "      <td>NaN</td>\n",
       "      <td>1</td>\n",
       "      <td>08/11/2022 11:20:11</td>\n",
       "      <td>1</td>\n",
       "      <td>747118290</td>\n",
       "      <td>CASHIN</td>\n",
       "    </tr>\n",
       "  </tbody>\n",
       "</table></div>"
      ],
      "text/plain": [
       "   COMMISSION_AGENT_REEL  COMMISSION_GROSSISTE_FIXE  \\\n",
       "0                    NaN                  6050129.0   \n",
       "1                    NaN                  6698091.0   \n",
       "2                    NaN                   309630.0   \n",
       "3                    NaN                   396651.0   \n",
       "4                    NaN                   562175.0   \n",
       "\n",
       "   COMMISSION_GROSSISTE_REEL  COMPTE_PDV  COMPTE_REVENDEUR  LAST_DAY_OF_WEEK  \\\n",
       "0                     151253         NaN               NaN          20221107   \n",
       "1                     167452         NaN               NaN          20221107   \n",
       "2                       7741         NaN               NaN          20221107   \n",
       "3                       9916         NaN               NaN          20221107   \n",
       "4                      14054         NaN               NaN          20221107   \n",
       "\n",
       "   OBJECTIF_AGENT  OBJECTIF_GROSSISTE  OBJECTIF_REALISE_AGENT  \\\n",
       "0             NaN                 NaN                     NaN   \n",
       "1             NaN                 NaN                     NaN   \n",
       "2             NaN                 NaN                     NaN   \n",
       "3             NaN                 NaN                     NaN   \n",
       "4             NaN                 NaN                     NaN   \n",
       "\n",
       "   OBJECTIF_REALISE_GROSSISTE  OBJECTIF_SEMAINE  PRIME_HEBDOMADAIRE_GROSSISTE  \\\n",
       "0                  1638919763        1559197306                        151253   \n",
       "1                  4302822888        4279525010                        167452   \n",
       "2                    34428550          33999050                          7741   \n",
       "3                    23939600          23680296                          9916   \n",
       "4                    85874875          68283889                         14054   \n",
       "\n",
       "   R/O_AGENT  R/O_GROSSISTE              RUNTIME  SEMAINE  TETE_DE_PONT  \\\n",
       "0        NaN              1  08/11/2022 11:20:11        1     788280641   \n",
       "1        NaN              1  08/11/2022 11:20:11        1     708419204   \n",
       "2        NaN              1  08/11/2022 11:20:11        1     707068208   \n",
       "3        NaN              1  08/11/2022 11:20:11        1     702155864   \n",
       "4        NaN              1  08/11/2022 11:20:11        1     747118290   \n",
       "\n",
       "  TRANSACTION_TAG  \n",
       "0         CASHOUT  \n",
       "1          CASHIN  \n",
       "2         CASHOUT  \n",
       "3         CASHOUT  \n",
       "4          CASHIN  "
      ]
     },
     "execution_count": 5,
     "metadata": {},
     "output_type": "execute_result"
    }
   ],
   "source": [
    "df = pd.read_csv(path, sep =\";\")\n",
    "df.head()"
   ]
  },
  {
   "cell_type": "code",
   "execution_count": 6,
   "id": "0cc956db",
   "metadata": {},
   "outputs": [
    {
     "name": "stdout",
     "output_type": "stream",
     "text": [
      "+---------------------+-------------------------+-------------------------+----------+----------------+----------------+--------------+------------------+----------------------+--------------------------+----------------+----------------------------+---------+-------------+-------------------+-------+------------+---------------+\n",
      "|COMMISSION_AGENT_REEL|COMMISSION_GROSSISTE_FIXE|COMMISSION_GROSSISTE_REEL|COMPTE_PDV|COMPTE_REVENDEUR|LAST_DAY_OF_WEEK|OBJECTIF_AGENT|OBJECTIF_GROSSISTE|OBJECTIF_REALISE_AGENT|OBJECTIF_REALISE_GROSSISTE|OBJECTIF_SEMAINE|PRIME_HEBDOMADAIRE_GROSSISTE|R/O_AGENT|R/O_GROSSISTE|            RUNTIME|SEMAINE|TETE_DE_PONT|TRANSACTION_TAG|\n",
      "+---------------------+-------------------------+-------------------------+----------+----------------+----------------+--------------+------------------+----------------------+--------------------------+----------------+----------------------------+---------+-------------+-------------------+-------+------------+---------------+\n",
      "|                 null|                6050129.0|                   151253|      null|            null|        20221107|          null|              null|                  null|                1638919763|      1559197306|                      151253|     null|            1|08/11/2022 11:20:11|      1|  0788280641|        CASHOUT|\n",
      "|                 null|                6698091.0|                   167452|      null|            null|        20221107|          null|              null|                  null|                4302822888|      4279525010|                      167452|     null|            1|08/11/2022 11:20:11|      1|  0708419204|         CASHIN|\n",
      "|                 null|                 309630.0|                     7741|      null|            null|        20221107|          null|              null|                  null|                  34428550|        33999050|                        7741|     null|            1|08/11/2022 11:20:11|      1|  0707068208|        CASHOUT|\n",
      "|                 null|                 396651.0|                     9916|      null|            null|        20221107|          null|              null|                  null|                  23939600|        23680296|                        9916|     null|            1|08/11/2022 11:20:11|      1|  0702155864|        CASHOUT|\n",
      "|                 null|                 562175.0|                    14054|      null|            null|        20221107|          null|              null|                  null|                  85874875|        68283889|                       14054|     null|            1|08/11/2022 11:20:11|      1|  0747118290|         CASHIN|\n",
      "+---------------------+-------------------------+-------------------------+----------+----------------+----------------+--------------+------------------+----------------------+--------------------------+----------------+----------------------------+---------+-------------+-------------------+-------+------------+---------------+\n",
      "only showing top 5 rows\n",
      "\n"
     ]
    }
   ],
   "source": [
    "df_spark = spark.read.option(\"delimiter\", \";\").option(\"header\",\"true\").csv(path)\n",
    "df_spark.show(5)"
   ]
  },
  {
   "cell_type": "code",
   "execution_count": 7,
   "id": "f5c56ca0",
   "metadata": {},
   "outputs": [
    {
     "name": "stdout",
     "output_type": "stream",
     "text": [
      "+-------------------------+---------------------+---------------+------------+\n",
      "|COMMISSION_GROSSISTE_FIXE|COMMISSION_AGENT_REEL|TRANSACTION_TAG|TETE_DE_PONT|\n",
      "+-------------------------+---------------------+---------------+------------+\n",
      "|                6050129.0|                 null|        CASHOUT|  0788280641|\n",
      "|                6698091.0|                 null|         CASHIN|  0708419204|\n",
      "|                 309630.0|                 null|        CASHOUT|  0707068208|\n",
      "|                 396651.0|                 null|        CASHOUT|  0702155864|\n",
      "|                 562175.0|                 null|         CASHIN|  0747118290|\n",
      "|              1.0301494E7|                 null|         CASHIN|  0758023975|\n",
      "|                 268640.0|                 null|         CASHIN|  0707068367|\n",
      "|                6698091.0|                 null|        CASHOUT|  0708419204|\n",
      "|                  24002.0|                 null|        CASHOUT|  0747118393|\n",
      "|                 549267.0|                 null|        CASHOUT|  0747118395|\n",
      "|                 982054.0|                 null|         CASHIN|  0747117740|\n",
      "|                5366780.0|                 null|         CASHIN|  0758025342|\n",
      "|                7946063.0|                 null|        CASHOUT|  0708442014|\n",
      "|                     70.0|                 null|         CASHIN|  0787642885|\n",
      "|              1.4850739E7|                 null|         CASHIN|  0758023754|\n",
      "|                1411730.0|                 null|        CASHOUT|  0707109771|\n",
      "|              1.0433132E7|                 null|         CASHIN|  0758024956|\n",
      "|              1.0301494E7|                 null|        CASHOUT|  0758023975|\n",
      "|              1.0433132E7|                 null|        CASHOUT|  0758024956|\n",
      "|              1.4640284E7|                 null|         CASHIN|  0708376099|\n",
      "+-------------------------+---------------------+---------------+------------+\n",
      "only showing top 20 rows\n",
      "\n"
     ]
    }
   ],
   "source": [
    "df_spark = df_spark.select(\"COMMISSION_GROSSISTE_FIXE\", \"COMMISSION_AGENT_REEL\", \"TRANSACTION_TAG\", \"TETE_DE_PONT\")\n",
    "df_spark.show()\n"
   ]
  },
  {
   "cell_type": "code",
   "execution_count": 19,
   "id": "d28626fc",
   "metadata": {},
   "outputs": [
    {
     "name": "stdout",
     "output_type": "stream",
     "text": [
      "== Parsed Logical Plan ==\n",
      "'Aggregate ['TRANSACTION_TAG], ['TRANSACTION_TAG, count(1) AS count#253L]\n",
      "+- Project [COMMISSION_GROSSISTE_FIXE#17, COMMISSION_AGENT_REEL#16, TRANSACTION_TAG#33, TETE_DE_PONT#32]\n",
      "   +- Relation [COMMISSION_AGENT_REEL#16,COMMISSION_GROSSISTE_FIXE#17,COMMISSION_GROSSISTE_REEL#18,COMPTE_PDV#19,COMPTE_REVENDEUR#20,LAST_DAY_OF_WEEK#21,OBJECTIF_AGENT#22,OBJECTIF_GROSSISTE#23,OBJECTIF_REALISE_AGENT#24,OBJECTIF_REALISE_GROSSISTE#25,OBJECTIF_SEMAINE#26,PRIME_HEBDOMADAIRE_GROSSISTE#27,R/O_AGENT#28,R/O_GROSSISTE#29,RUNTIME#30,SEMAINE#31,TETE_DE_PONT#32,TRANSACTION_TAG#33] csv\n",
      "\n",
      "== Analyzed Logical Plan ==\n",
      "TRANSACTION_TAG: string, count: bigint\n",
      "Aggregate [TRANSACTION_TAG#33], [TRANSACTION_TAG#33, count(1) AS count#253L]\n",
      "+- Project [COMMISSION_GROSSISTE_FIXE#17, COMMISSION_AGENT_REEL#16, TRANSACTION_TAG#33, TETE_DE_PONT#32]\n",
      "   +- Relation [COMMISSION_AGENT_REEL#16,COMMISSION_GROSSISTE_FIXE#17,COMMISSION_GROSSISTE_REEL#18,COMPTE_PDV#19,COMPTE_REVENDEUR#20,LAST_DAY_OF_WEEK#21,OBJECTIF_AGENT#22,OBJECTIF_GROSSISTE#23,OBJECTIF_REALISE_AGENT#24,OBJECTIF_REALISE_GROSSISTE#25,OBJECTIF_SEMAINE#26,PRIME_HEBDOMADAIRE_GROSSISTE#27,R/O_AGENT#28,R/O_GROSSISTE#29,RUNTIME#30,SEMAINE#31,TETE_DE_PONT#32,TRANSACTION_TAG#33] csv\n",
      "\n",
      "== Optimized Logical Plan ==\n",
      "Aggregate [TRANSACTION_TAG#33], [TRANSACTION_TAG#33, count(1) AS count#253L]\n",
      "+- Project [TRANSACTION_TAG#33]\n",
      "   +- Relation [COMMISSION_AGENT_REEL#16,COMMISSION_GROSSISTE_FIXE#17,COMMISSION_GROSSISTE_REEL#18,COMPTE_PDV#19,COMPTE_REVENDEUR#20,LAST_DAY_OF_WEEK#21,OBJECTIF_AGENT#22,OBJECTIF_GROSSISTE#23,OBJECTIF_REALISE_AGENT#24,OBJECTIF_REALISE_GROSSISTE#25,OBJECTIF_SEMAINE#26,PRIME_HEBDOMADAIRE_GROSSISTE#27,R/O_AGENT#28,R/O_GROSSISTE#29,RUNTIME#30,SEMAINE#31,TETE_DE_PONT#32,TRANSACTION_TAG#33] csv\n",
      "\n",
      "== Physical Plan ==\n",
      "AdaptiveSparkPlan isFinalPlan=false\n",
      "+- HashAggregate(keys=[TRANSACTION_TAG#33], functions=[count(1)], output=[TRANSACTION_TAG#33, count#253L])\n",
      "   +- Exchange hashpartitioning(TRANSACTION_TAG#33, 200), ENSURE_REQUIREMENTS, [id=#208]\n",
      "      +- HashAggregate(keys=[TRANSACTION_TAG#33], functions=[partial_count(1)], output=[TRANSACTION_TAG#33, count#257L])\n",
      "         +- FileScan csv [TRANSACTION_TAG#33] Batched: false, DataFilters: [], Format: CSV, Location: InMemoryFileIndex(1 paths)[file:/Users/diakite/Downloads/random_objectif_hebdomadaire_grossiste_2..., PartitionFilters: [], PushedFilters: [], ReadSchema: struct<TRANSACTION_TAG:string>\n",
      "\n"
     ]
    }
   ],
   "source": [
    "df_spark.groupBy(\"TRANSACTION_TAG\").count().explain(True)  \n",
    "\n",
    "\n",
    "#.show() \\\n"
   ]
  },
  {
   "cell_type": "code",
   "execution_count": 13,
   "id": "3dd5401d",
   "metadata": {},
   "outputs": [],
   "source": [
    "writing_path = \"/Users/diakite/Downloads/start/first-bucket/random_objectif_hebdomadaire_grossiste_202211_test\""
   ]
  },
  {
   "cell_type": "code",
   "execution_count": 17,
   "id": "ad5f320f",
   "metadata": {},
   "outputs": [],
   "source": [
    "df_spark \\\n",
    ".write \\\n",
    ".mode(\"overwrite\") \\\n",
    ".format(\"csv\") \\\n",
    ".option(\"delimiter\", \"|\") \\\n",
    ".option(\"header\", \"true\")  \\\n",
    ".save(writing_path)"
   ]
  },
  {
   "cell_type": "code",
   "execution_count": null,
   "id": "6c8b9f09",
   "metadata": {},
   "outputs": [],
   "source": []
  }
 ],
 "metadata": {
  "kernelspec": {
   "display_name": "Python 3 (ipykernel)",
   "language": "python",
   "name": "python3"
  },
  "language_info": {
   "codemirror_mode": {
    "name": "ipython",
    "version": 3
   },
   "file_extension": ".py",
   "mimetype": "text/x-python",
   "name": "python",
   "nbconvert_exporter": "python",
   "pygments_lexer": "ipython3",
   "version": "3.9.12"
  }
 },
 "nbformat": 4,
 "nbformat_minor": 5
}
