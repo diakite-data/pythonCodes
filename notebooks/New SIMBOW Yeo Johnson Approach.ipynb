{
 "cells": [
  {
   "cell_type": "code",
   "execution_count": 2,
   "metadata": {},
   "outputs": [],
   "source": [
    "from pyspark.ml.clustering import KMeans\n",
    "from pyspark.ml.evaluation import ClusteringEvaluator\n",
    "from pyspark.sql.functions import *\n",
    "from pyspark.sql.types import *\n",
    "from pyspark.ml.feature import *\n",
    "from pyspark.ml import Pipeline\n",
    "from pyspark.ml.classification import *\n",
    "from pyspark.ml.feature import IndexToString, StringIndexer, VectorIndexer\n",
    "from pyspark.ml.evaluation import MulticlassClassificationEvaluator\n",
    "from pyspark.ml.feature import VectorAssembler\n",
    "from pyspark.ml.evaluation import BinaryClassificationEvaluator\n",
    "from pyspark.ml.classification import MultilayerPerceptronClassifier\n",
    "from pyspark.ml.evaluation import MulticlassClassificationEvaluator\n",
    "from pyspark.mllib.evaluation import MulticlassMetrics\n",
    "from pyspark.sql import SparkSession\n",
    "from pyspark.ml.classification import LinearSVC\n",
    "from pyspark.ml.functions import vector_to_array\n",
    "import pandas as pd\n",
    "import numpy as np\n",
    "import os\n",
    "import pyarrow.parquet as pq\n",
    "from pyspark.ml.feature import StandardScaler\n",
    "from pyspark.sql.functions import mean as _mean, stddev as _stddev, col\n",
    "from math import *"
   ]
  },
  {
   "cell_type": "code",
   "execution_count": null,
   "metadata": {},
   "outputs": [],
   "source": []
  },
  {
   "cell_type": "code",
   "execution_count": 3,
   "metadata": {},
   "outputs": [],
   "source": [
    "spark = SparkSession.builder.master(\"local[1]\")\\\n",
    "          .appName(\"sunshine_v2\")\\\n",
    "          .getOrCreate()\n",
    "\n",
    "sc = spark.sparkContext\n",
    "sc.setLogLevel(\"ERROR\")"
   ]
  },
  {
   "cell_type": "code",
   "execution_count": 3,
   "metadata": {},
   "outputs": [],
   "source": [
    "def From_pyparquet_to_pandascsv(load_path, save_path) :\n",
    "    df = pq.read_table(load_path).to_pandas()\n",
    "    df.to_csv(save_path, index = False, sep = \";\" )\n",
    "    return os.path.isfile(save_path)"
   ]
  },
  {
   "cell_type": "markdown",
   "metadata": {},
   "source": [
    "#### Loadin Yeo-Johnson transformed Data"
   ]
  },
  {
   "cell_type": "code",
   "execution_count": 4,
   "metadata": {},
   "outputs": [
    {
     "name": "stdout",
     "output_type": "stream",
     "text": [
      "+------------------+-------------------+-------------------+------------------+-------------------+-------------------+-------------------+-------------------+-------------------+-------------------+------------------+-------------------+--------------------+--------------------+--------------------+------------------+--------------------+--------------------+--------------------+--------------------+-------------+------------+-----------+----------+---------+----------+-----------+---------+----------+------+\n",
      "|            valeur|       vol_tot_data|vol_tot_voix_offnet| vol_tot_voix_onet|       nbre_sms_out|  nbre_dist_sms_out|      nbre_voix_out|            dur_out| nbre_dist_voix_out|      nbre_cell_out|       nbre_sms_in|   nbre_dist_sms_in|        nbre_voix_in|              dur_in|   nbre_dist_voix_in|    nbre_sms_night| nbre_dist_sms_night|     nbre_voix_night|           dur_night|nbre_dist_voix_night|       msisdn|distributeur|statut_voix|statut_sms|statut_ff|statut_sva|statut_data|statut_om|date_appel|statut|\n",
      "+------------------+-------------------+-------------------+------------------+-------------------+-------------------+-------------------+-------------------+-------------------+-------------------+------------------+-------------------+--------------------+--------------------+--------------------+------------------+--------------------+--------------------+--------------------+--------------------+-------------+------------+-----------+----------+---------+----------+-----------+---------+----------+------+\n",
      "|0.6644666432044756|-1.2052775241458586| 0.5384651778295945|1.1105268224333997|-0.8861167378223557|-0.9167159837779902|-0.6535316952976091|-0.6590141597442749|-0.6552567381624329|-0.6602808847076724|1.0816816945864227| 1.1304854604597105|-0.06892805493422728|-0.06893535374372037|-0.06893476829940945|-0.299777009857573|-0.29979392580466363|-0.11769362111128338|-0.11770647920769431|-0.11769548608052005|2250707492509|      AMANDA|          1|         1|        1|         1|          1|        1|2021-09-21|     0|\n",
      "|0.6644666432044756|-1.2052775241458586| 0.5384651778295945|1.1105268224333997|  0.248944631389864| 0.6033748212158914| 1.1569485683301723|  1.188347501449529| 1.3145055625838744| 1.3396901376252341|-0.878213097469504|-0.8834573846948125|-0.06892805493422728|-0.06893535374372037|-0.06893476829940945|-0.299777009857573|-0.29979392580466363|-0.11769362111128338|-0.11770647920769431|-0.11769548608052005|2250708078700|      AMANDA|          1|         1|        1|         1|          1|        1|2021-05-06|     0|\n",
      "|0.6644666432044756|-1.2052775241458586| 0.5384651778295945|1.1105268224333997|-0.8861167378223557|-0.9167159837779902|-0.6535316952976091|-0.6590141597442749|-0.6552567381624329|-0.6602808847076724|1.0816816945864227| 1.1304854604597105|-0.06892805493422728|-0.06893535374372037|-0.06893476829940945|-0.299777009857573|-0.29979392580466363|-0.11769362111128338|-0.11770647920769431|-0.11769548608052005|2250708160010|      AMANDA|          1|         1|        1|         1|          1|        1|2021-05-06|     0|\n",
      "|0.6644666432044756|-1.2052775241458586| 0.5384651778295945|1.1105268224333997|-0.8861167378223557|-0.9167159837779902|-0.6535316952976091|-0.6590141597442749|-0.6552567381624329|-0.6602808847076724|1.0816816945864227| 1.1304854604597105|-0.06892805493422728|-0.06893535374372037|-0.06893476829940945|-0.299777009857573|-0.29979392580466363|-0.11769362111128338|-0.11770647920769431|-0.11769548608052005|2250708643787|      AMANDA|          1|         1|        1|         1|          1|        1|2021-09-05|     0|\n",
      "|0.6644666432044756|-1.2052775241458586| 0.5384651778295945|1.1105268224333997|-0.8861167378223557|-0.9167159837779902|-0.6535316952976091|-0.6590141597442749|-0.6552567381624329|-0.6602808847076724|1.0816816945864227| 1.1304854604597105|-0.06892805493422728|-0.06893535374372037|-0.06893476829940945|-0.299777009857573|-0.29979392580466363|-0.11769362111128338|-0.11770647920769431|-0.11769548608052005|2250747888117|      AMANDA|          1|         1|        1|         1|          1|        1|2021-09-09|     0|\n",
      "+------------------+-------------------+-------------------+------------------+-------------------+-------------------+-------------------+-------------------+-------------------+-------------------+------------------+-------------------+--------------------+--------------------+--------------------+------------------+--------------------+--------------------+--------------------+--------------------+-------------+------------+-----------+----------+---------+----------+-----------+---------+----------+------+\n",
      "only showing top 5 rows\n",
      "\n"
     ]
    }
   ],
   "source": [
    "df_transf = spark.read.option(\"header\", True).option(\"delimiter\", \";\").csv(\"/Users/youssouf/Documents/simboxv2/transformed_var.csv\")\n",
    "df_transf.show(5)\n"
   ]
  },
  {
   "cell_type": "code",
   "execution_count": 5,
   "metadata": {},
   "outputs": [],
   "source": [
    "tranf_col_selected = [\"valeur\"  ,             \"vol_tot_data\"  ,       \"vol_tot_voix_offnet\",  \"vol_tot_voix_onet\"   ,\n",
    "\"nbre_sms_out\"   ,      \"nbre_dist_sms_out\"  ,  \"nbre_voix_out\"   ,     \"dur_out\"    ,         \n",
    "\"nbre_dist_voix_out\" ,  \"nbre_cell_out\"  ,      \"nbre_sms_in\"    ,      \"nbre_dist_sms_in\"   , \n",
    "\"nbre_voix_in\"  ,       \"dur_in\"     ,          \"nbre_dist_voix_in\" ,   \"nbre_sms_night\"    ,  \n",
    "\"nbre_dist_sms_night\" , \"nbre_voix_night\"   ,   \"dur_night\"    ,        \"nbre_dist_voix_night\"]"
   ]
  },
  {
   "cell_type": "code",
   "execution_count": 6,
   "metadata": {},
   "outputs": [
    {
     "name": "stdout",
     "output_type": "stream",
     "text": [
      "+------------------+-------------------+-------------------+------------------+-------------------+\n",
      "|            valeur|       vol_tot_data|vol_tot_voix_offnet| vol_tot_voix_onet|       nbre_sms_out|\n",
      "+------------------+-------------------+-------------------+------------------+-------------------+\n",
      "|0.6644666432044756|-1.2052775241458586| 0.5384651778295945|1.1105268224333997|-0.8861167378223557|\n",
      "|0.6644666432044756|-1.2052775241458586| 0.5384651778295945|1.1105268224333997|  0.248944631389864|\n",
      "|0.6644666432044756|-1.2052775241458586| 0.5384651778295945|1.1105268224333997|-0.8861167378223557|\n",
      "|0.6644666432044756|-1.2052775241458586| 0.5384651778295945|1.1105268224333997|-0.8861167378223557|\n",
      "|0.6644666432044756|-1.2052775241458586| 0.5384651778295945|1.1105268224333997|-0.8861167378223557|\n",
      "+------------------+-------------------+-------------------+------------------+-------------------+\n",
      "only showing top 5 rows\n",
      "\n"
     ]
    }
   ],
   "source": [
    "df_transf.select(\"valeur\",\"vol_tot_data\",\"vol_tot_voix_offnet\",\"vol_tot_voix_onet\",\"nbre_sms_out\").show(5)"
   ]
  },
  {
   "cell_type": "markdown",
   "metadata": {},
   "source": [
    "#### Yeo-Jonhson Function"
   ]
  },
  {
   "cell_type": "code",
   "execution_count": 115,
   "metadata": {},
   "outputs": [],
   "source": [
    "def yeojohnson(x, lmbda) : \n",
    "    if (x >= 0, lmbda != 0) :\n",
    "        return ((x + 1)**lmbda - 1) / lmbda\n",
    "    elif (x >= 0, lmbda == 0) :\n",
    "        return log(x + 1)\n",
    "    elif (x < 0, lmbda != 2) :\n",
    "        return -((-x + 1)**(2 - lmbda) - 1) / (2 - lmbda)\n",
    "    elif (x < 0, lmbda == 2) : \n",
    "        return -log(-x + 1)"
   ]
  },
  {
   "cell_type": "code",
   "execution_count": 116,
   "metadata": {},
   "outputs": [
    {
     "data": {
      "text/plain": [
       "8.666666666666666"
      ]
     },
     "execution_count": 116,
     "metadata": {},
     "output_type": "execute_result"
    }
   ],
   "source": [
    "yeojohnson(2,3)"
   ]
  },
  {
   "cell_type": "code",
   "execution_count": null,
   "metadata": {},
   "outputs": [],
   "source": [
    "   valeur          vol_tot_data    vol_tot_voix_offnet vol_tot_voix_onet nbre_sms_out   \n",
    "  0.2362504       0.09039554      0.1051099           0.1859025         -0.7436904     \n",
    "     nbre_dist_sms_out nbre_voix_out   dur_out         nbre_dist_voix_out nbre_cell_out  \n",
    " -0.9938551        -1.231552       -0.4054642      -1.499216          -1.28494       \n",
    "     nbre_sms_in     nbre_dist_sms_in nbre_voix_in    dur_in          nbre_dist_voix_in\n",
    " -1.245326       -1.08071         -4.999952       -4.99994        -4.99994         \n",
    "     nbre_sms_night  nbre_dist_sms_night nbre_voix_night dur_night       nbre_dist_voix_night\n",
    " -4.99994        -4.99994            -4.999959       -4.99994        -4.999943 "
   ]
  },
  {
   "cell_type": "code",
   "execution_count": 104,
   "metadata": {},
   "outputs": [],
   "source": [
    "yeojohnsonUDF = udf(lambda z,y: yeojohnson(z,y), DoubleType()) "
   ]
  },
  {
   "cell_type": "code",
   "execution_count": null,
   "metadata": {},
   "outputs": [],
   "source": []
  },
  {
   "cell_type": "markdown",
   "metadata": {},
   "source": [
    "##### Loading original dataframe"
   ]
  },
  {
   "cell_type": "code",
   "execution_count": 117,
   "metadata": {},
   "outputs": [
    {
     "name": "stdout",
     "output_type": "stream",
     "text": [
      "+-------------+------------+-----------+----------+---------+----------+-----------+---------+------+------------+-------------------+-----------------+----------+------------+-----------------+-------------+-------+------------------+-------------+-----------+----------------+------------+------+-----------------+--------------+-------------------+---------------+---------+--------------------+------+\n",
      "|       msisdn|distributeur|statut_voix|statut_sms|statut_ff|statut_sva|statut_data|statut_om|valeur|vol_tot_data|vol_tot_voix_offnet|vol_tot_voix_onet|date_appel|nbre_sms_out|nbre_dist_sms_out|nbre_voix_out|dur_out|nbre_dist_voix_out|nbre_cell_out|nbre_sms_in|nbre_dist_sms_in|nbre_voix_in|dur_in|nbre_dist_voix_in|nbre_sms_night|nbre_dist_sms_night|nbre_voix_night|dur_night|nbre_dist_voix_night|statut|\n",
      "+-------------+------------+-----------+----------+---------+----------+-----------+---------+------+------------+-------------------+-----------------+----------+------------+-----------------+-------------+-------+------------------+-------------+-----------+----------------+------------+------+-----------------+--------------+-------------------+---------------+---------+--------------------+------+\n",
      "|2250707492509|      AMANDA|          1|         1|        1|         1|          1|        1|  8249|           1|                 66|              445|2021-09-21|           0|                0|            0|      0|                 0|            0|          1|               1|           0|     0|                0|             0|                  0|              0|        0|                   0|     0|\n",
      "|2250708078700|      AMANDA|          1|         1|        1|         1|          1|        1|  8249|           1|                 66|              445|2021-05-06|           1|                1|            2|     39|                 2|            3|          0|               0|           0|     0|                0|             0|                  0|              0|        0|                   0|     0|\n",
      "|2250708160010|      AMANDA|          1|         1|        1|         1|          1|        1|  8249|           1|                 66|              445|2021-05-06|           0|                0|            0|      0|                 0|            0|          1|               1|           0|     0|                0|             0|                  0|              0|        0|                   0|     0|\n",
      "|2250708643787|      AMANDA|          1|         1|        1|         1|          1|        1|  8249|           1|                 66|              445|2021-09-05|           0|                0|            0|      0|                 0|            0|          1|               1|           0|     0|                0|             0|                  0|              0|        0|                   0|     0|\n",
      "|2250747888117|      AMANDA|          1|         1|        1|         1|          1|        1|  8249|           1|                 66|              445|2021-09-09|           0|                0|            0|      0|                 0|            0|          1|               1|           0|     0|                0|             0|                  0|              0|        0|                   0|     0|\n",
      "+-------------+------------+-----------+----------+---------+----------+-----------+---------+------+------------+-------------------+-----------------+----------+------------+-----------------+-------------+-------+------------------+-------------+-----------+----------------+------------+------+-----------------+--------------+-------------------+---------------+---------+--------------------+------+\n",
      "only showing top 5 rows\n",
      "\n"
     ]
    }
   ],
   "source": [
    "df_origin = spark.read.option(\"header\", True).option(\"delimiter\", \";\").csv(\"/Users/youssouf/Documents/simboxv2/simbox_v4_3.csv\", sep = \";\")\n",
    "\n",
    "df_origin.show(5)\n"
   ]
  },
  {
   "cell_type": "code",
   "execution_count": 118,
   "metadata": {},
   "outputs": [],
   "source": [
    "df_origin = df_origin.replace('NULL',str(0))\n",
    "df_origin = df_origin.replace('null' ,str(0))\n",
    "df_origin = df_origin.na.fill(str(0))\n",
    "df_origin = df_origin.fillna(str(0))\n"
   ]
  },
  {
   "cell_type": "code",
   "execution_count": 119,
   "metadata": {},
   "outputs": [],
   "source": [
    "for cl in tranf_col_selected:\n",
    "    df_origin = df_origin.withColumn(cl, col(cl).cast(DoubleType()))"
   ]
  },
  {
   "cell_type": "markdown",
   "metadata": {},
   "source": [
    "#### Apply Yeo Johnson"
   ]
  },
  {
   "cell_type": "code",
   "execution_count": 120,
   "metadata": {},
   "outputs": [
    {
     "name": "stdout",
     "output_type": "stream",
     "text": [
      "+-----------------+\n",
      "|           valeur|\n",
      "+-----------------+\n",
      "|31.40339241303429|\n",
      "|31.40339241303429|\n",
      "|31.40339241303429|\n",
      "|31.40339241303429|\n",
      "|31.40339241303429|\n",
      "+-----------------+\n",
      "only showing top 5 rows\n",
      "\n"
     ]
    }
   ],
   "source": [
    "df_origin1 = df_origin.withColumn(\"valeur\", yeojohnsonUDF(col(\"valeur\"), lit(0.2362504) )) \n",
    "df_origin1.select(\"valeur\").show(5)\n"
   ]
  },
  {
   "cell_type": "code",
   "execution_count": 132,
   "metadata": {},
   "outputs": [
    {
     "ename": "PythonException",
     "evalue": "\n  An exception was thrown from the Python worker. Please see the stack trace below.\nTraceback (most recent call last):\n  File \"/usr/local/Cellar/apache-spark/3.0.1/libexec/python/lib/pyspark.zip/pyspark/worker.py\", line 604, in main\n    process()\n  File \"/usr/local/Cellar/apache-spark/3.0.1/libexec/python/lib/pyspark.zip/pyspark/worker.py\", line 596, in process\n    serializer.dump_stream(out_iter, outfile)\n  File \"/usr/local/Cellar/apache-spark/3.0.1/libexec/python/lib/pyspark.zip/pyspark/serializers.py\", line 211, in dump_stream\n    self.serializer.dump_stream(self._batched(iterator), stream)\n  File \"/usr/local/Cellar/apache-spark/3.0.1/libexec/python/lib/pyspark.zip/pyspark/serializers.py\", line 132, in dump_stream\n    for obj in iterator:\n  File \"/usr/local/Cellar/apache-spark/3.0.1/libexec/python/lib/pyspark.zip/pyspark/serializers.py\", line 200, in _batched\n    for item in iterator:\n  File \"/usr/local/Cellar/apache-spark/3.0.1/libexec/python/lib/pyspark.zip/pyspark/worker.py\", line 450, in mapper\n    result = tuple(f(*[a[o] for o in arg_offsets]) for (arg_offsets, f) in udfs)\n  File \"/usr/local/Cellar/apache-spark/3.0.1/libexec/python/lib/pyspark.zip/pyspark/worker.py\", line 450, in <genexpr>\n    result = tuple(f(*[a[o] for o in arg_offsets]) for (arg_offsets, f) in udfs)\n  File \"/usr/local/Cellar/apache-spark/3.0.1/libexec/python/lib/pyspark.zip/pyspark/worker.py\", line 85, in <lambda>\n    return lambda *a: f(*a)\n  File \"/usr/local/Cellar/apache-spark/3.0.1/libexec/python/lib/pyspark.zip/pyspark/util.py\", line 73, in wrapper\n    return f(*args, **kwargs)\n  File \"<ipython-input-104-bdc4338feb14>\", line 1, in <lambda>\n  File \"<ipython-input-102-b634abc36d11>\", line 2, in yeojohnson\nTypeError: '>' not supported between instances of 'NoneType' and 'int'\n",
     "output_type": "error",
     "traceback": [
      "\u001b[0;31m---------------------------------------------------------------------------\u001b[0m",
      "\u001b[0;31mPythonException\u001b[0m                           Traceback (most recent call last)",
      "\u001b[0;32m<ipython-input-132-a43b35b993ae>\u001b[0m in \u001b[0;36m<module>\u001b[0;34m\u001b[0m\n\u001b[0;32m----> 1\u001b[0;31m \u001b[0mdf_origin1\u001b[0m\u001b[0;34m.\u001b[0m\u001b[0mfilter\u001b[0m\u001b[0;34m(\u001b[0m\u001b[0mcol\u001b[0m\u001b[0;34m(\u001b[0m\u001b[0;34m\"valeur\"\u001b[0m\u001b[0;34m)\u001b[0m\u001b[0;34m.\u001b[0m\u001b[0misNull\u001b[0m\u001b[0;34m(\u001b[0m\u001b[0;34m)\u001b[0m\u001b[0;34m)\u001b[0m\u001b[0;34m.\u001b[0m\u001b[0mshow\u001b[0m\u001b[0;34m(\u001b[0m\u001b[0;34m)\u001b[0m\u001b[0;34m\u001b[0m\u001b[0;34m\u001b[0m\u001b[0m\n\u001b[0m",
      "\u001b[0;32m/usr/local/Cellar/apache-spark/3.0.1/libexec/python/pyspark/sql/dataframe.py\u001b[0m in \u001b[0;36mshow\u001b[0;34m(self, n, truncate, vertical)\u001b[0m\n\u001b[1;32m    482\u001b[0m         \"\"\"\n\u001b[1;32m    483\u001b[0m         \u001b[0;32mif\u001b[0m \u001b[0misinstance\u001b[0m\u001b[0;34m(\u001b[0m\u001b[0mtruncate\u001b[0m\u001b[0;34m,\u001b[0m \u001b[0mbool\u001b[0m\u001b[0;34m)\u001b[0m \u001b[0;32mand\u001b[0m \u001b[0mtruncate\u001b[0m\u001b[0;34m:\u001b[0m\u001b[0;34m\u001b[0m\u001b[0;34m\u001b[0m\u001b[0m\n\u001b[0;32m--> 484\u001b[0;31m             \u001b[0mprint\u001b[0m\u001b[0;34m(\u001b[0m\u001b[0mself\u001b[0m\u001b[0;34m.\u001b[0m\u001b[0m_jdf\u001b[0m\u001b[0;34m.\u001b[0m\u001b[0mshowString\u001b[0m\u001b[0;34m(\u001b[0m\u001b[0mn\u001b[0m\u001b[0;34m,\u001b[0m \u001b[0;36m20\u001b[0m\u001b[0;34m,\u001b[0m \u001b[0mvertical\u001b[0m\u001b[0;34m)\u001b[0m\u001b[0;34m)\u001b[0m\u001b[0;34m\u001b[0m\u001b[0;34m\u001b[0m\u001b[0m\n\u001b[0m\u001b[1;32m    485\u001b[0m         \u001b[0;32melse\u001b[0m\u001b[0;34m:\u001b[0m\u001b[0;34m\u001b[0m\u001b[0;34m\u001b[0m\u001b[0m\n\u001b[1;32m    486\u001b[0m             \u001b[0mprint\u001b[0m\u001b[0;34m(\u001b[0m\u001b[0mself\u001b[0m\u001b[0;34m.\u001b[0m\u001b[0m_jdf\u001b[0m\u001b[0;34m.\u001b[0m\u001b[0mshowString\u001b[0m\u001b[0;34m(\u001b[0m\u001b[0mn\u001b[0m\u001b[0;34m,\u001b[0m \u001b[0mint\u001b[0m\u001b[0;34m(\u001b[0m\u001b[0mtruncate\u001b[0m\u001b[0;34m)\u001b[0m\u001b[0;34m,\u001b[0m \u001b[0mvertical\u001b[0m\u001b[0;34m)\u001b[0m\u001b[0;34m)\u001b[0m\u001b[0;34m\u001b[0m\u001b[0;34m\u001b[0m\u001b[0m\n",
      "\u001b[0;32m~/opt/anaconda3/lib/python3.8/site-packages/py4j/java_gateway.py\u001b[0m in \u001b[0;36m__call__\u001b[0;34m(self, *args)\u001b[0m\n\u001b[1;32m   1302\u001b[0m \u001b[0;34m\u001b[0m\u001b[0m\n\u001b[1;32m   1303\u001b[0m         \u001b[0manswer\u001b[0m \u001b[0;34m=\u001b[0m \u001b[0mself\u001b[0m\u001b[0;34m.\u001b[0m\u001b[0mgateway_client\u001b[0m\u001b[0;34m.\u001b[0m\u001b[0msend_command\u001b[0m\u001b[0;34m(\u001b[0m\u001b[0mcommand\u001b[0m\u001b[0;34m)\u001b[0m\u001b[0;34m\u001b[0m\u001b[0;34m\u001b[0m\u001b[0m\n\u001b[0;32m-> 1304\u001b[0;31m         return_value = get_return_value(\n\u001b[0m\u001b[1;32m   1305\u001b[0m             answer, self.gateway_client, self.target_id, self.name)\n\u001b[1;32m   1306\u001b[0m \u001b[0;34m\u001b[0m\u001b[0m\n",
      "\u001b[0;32m/usr/local/Cellar/apache-spark/3.0.1/libexec/python/pyspark/sql/utils.py\u001b[0m in \u001b[0;36mdeco\u001b[0;34m(*a, **kw)\u001b[0m\n\u001b[1;32m    115\u001b[0m                 \u001b[0;31m# Hide where the exception came from that shows a non-Pythonic\u001b[0m\u001b[0;34m\u001b[0m\u001b[0;34m\u001b[0m\u001b[0;34m\u001b[0m\u001b[0m\n\u001b[1;32m    116\u001b[0m                 \u001b[0;31m# JVM exception message.\u001b[0m\u001b[0;34m\u001b[0m\u001b[0;34m\u001b[0m\u001b[0;34m\u001b[0m\u001b[0m\n\u001b[0;32m--> 117\u001b[0;31m                 \u001b[0;32mraise\u001b[0m \u001b[0mconverted\u001b[0m \u001b[0;32mfrom\u001b[0m \u001b[0;32mNone\u001b[0m\u001b[0;34m\u001b[0m\u001b[0;34m\u001b[0m\u001b[0m\n\u001b[0m\u001b[1;32m    118\u001b[0m             \u001b[0;32melse\u001b[0m\u001b[0;34m:\u001b[0m\u001b[0;34m\u001b[0m\u001b[0;34m\u001b[0m\u001b[0m\n\u001b[1;32m    119\u001b[0m                 \u001b[0;32mraise\u001b[0m\u001b[0;34m\u001b[0m\u001b[0;34m\u001b[0m\u001b[0m\n",
      "\u001b[0;31mPythonException\u001b[0m: \n  An exception was thrown from the Python worker. Please see the stack trace below.\nTraceback (most recent call last):\n  File \"/usr/local/Cellar/apache-spark/3.0.1/libexec/python/lib/pyspark.zip/pyspark/worker.py\", line 604, in main\n    process()\n  File \"/usr/local/Cellar/apache-spark/3.0.1/libexec/python/lib/pyspark.zip/pyspark/worker.py\", line 596, in process\n    serializer.dump_stream(out_iter, outfile)\n  File \"/usr/local/Cellar/apache-spark/3.0.1/libexec/python/lib/pyspark.zip/pyspark/serializers.py\", line 211, in dump_stream\n    self.serializer.dump_stream(self._batched(iterator), stream)\n  File \"/usr/local/Cellar/apache-spark/3.0.1/libexec/python/lib/pyspark.zip/pyspark/serializers.py\", line 132, in dump_stream\n    for obj in iterator:\n  File \"/usr/local/Cellar/apache-spark/3.0.1/libexec/python/lib/pyspark.zip/pyspark/serializers.py\", line 200, in _batched\n    for item in iterator:\n  File \"/usr/local/Cellar/apache-spark/3.0.1/libexec/python/lib/pyspark.zip/pyspark/worker.py\", line 450, in mapper\n    result = tuple(f(*[a[o] for o in arg_offsets]) for (arg_offsets, f) in udfs)\n  File \"/usr/local/Cellar/apache-spark/3.0.1/libexec/python/lib/pyspark.zip/pyspark/worker.py\", line 450, in <genexpr>\n    result = tuple(f(*[a[o] for o in arg_offsets]) for (arg_offsets, f) in udfs)\n  File \"/usr/local/Cellar/apache-spark/3.0.1/libexec/python/lib/pyspark.zip/pyspark/worker.py\", line 85, in <lambda>\n    return lambda *a: f(*a)\n  File \"/usr/local/Cellar/apache-spark/3.0.1/libexec/python/lib/pyspark.zip/pyspark/util.py\", line 73, in wrapper\n    return f(*args, **kwargs)\n  File \"<ipython-input-104-bdc4338feb14>\", line 1, in <lambda>\n  File \"<ipython-input-102-b634abc36d11>\", line 2, in yeojohnson\nTypeError: '>' not supported between instances of 'NoneType' and 'int'\n"
     ]
    }
   ],
   "source": [
    "df_origin1.filter(col(\"valeur\").isNull()).show()"
   ]
  },
  {
   "cell_type": "code",
   "execution_count": 121,
   "metadata": {},
   "outputs": [
    {
     "name": "stdout",
     "output_type": "stream",
     "text": [
      "+------+\n",
      "|valeur|\n",
      "+------+\n",
      "|8249.0|\n",
      "|8249.0|\n",
      "|8249.0|\n",
      "|8249.0|\n",
      "|8249.0|\n",
      "+------+\n",
      "only showing top 5 rows\n",
      "\n"
     ]
    }
   ],
   "source": [
    "df_origin.select(\"valeur\").show(5)"
   ]
  },
  {
   "cell_type": "code",
   "execution_count": 122,
   "metadata": {},
   "outputs": [
    {
     "name": "stdout",
     "output_type": "stream",
     "text": [
      "+------------------+\n",
      "|            valeur|\n",
      "+------------------+\n",
      "|0.6644666432044756|\n",
      "|0.6644666432044756|\n",
      "|0.6644666432044756|\n",
      "|0.6644666432044756|\n",
      "|0.6644666432044756|\n",
      "+------------------+\n",
      "only showing top 5 rows\n",
      "\n"
     ]
    }
   ],
   "source": [
    "df_transf.select(\"valeur\").show(5)"
   ]
  },
  {
   "cell_type": "code",
   "execution_count": null,
   "metadata": {},
   "outputs": [],
   "source": [
    "Array(\"statut_voix\", \"statut_sms\", \"statut_ff\", \"statut_sva\", \"statut_data\", \"statut_om\") \n"
   ]
  },
  {
   "cell_type": "code",
   "execution_count": 111,
   "metadata": {},
   "outputs": [],
   "source": [
    "#df_origin1.count()"
   ]
  },
  {
   "cell_type": "code",
   "execution_count": 123,
   "metadata": {},
   "outputs": [],
   "source": [
    "df = df_origin1.select(\"valeur\")"
   ]
  },
  {
   "cell_type": "code",
   "execution_count": 124,
   "metadata": {},
   "outputs": [],
   "source": [
    "df.createOrReplaceTempView(\"df1\")"
   ]
  },
  {
   "cell_type": "code",
   "execution_count": 125,
   "metadata": {},
   "outputs": [
    {
     "ename": "PythonException",
     "evalue": "\n  An exception was thrown from the Python worker. Please see the stack trace below.\nTraceback (most recent call last):\n  File \"/usr/local/Cellar/apache-spark/3.0.1/libexec/python/lib/pyspark.zip/pyspark/worker.py\", line 604, in main\n    process()\n  File \"/usr/local/Cellar/apache-spark/3.0.1/libexec/python/lib/pyspark.zip/pyspark/worker.py\", line 596, in process\n    serializer.dump_stream(out_iter, outfile)\n  File \"/usr/local/Cellar/apache-spark/3.0.1/libexec/python/lib/pyspark.zip/pyspark/serializers.py\", line 211, in dump_stream\n    self.serializer.dump_stream(self._batched(iterator), stream)\n  File \"/usr/local/Cellar/apache-spark/3.0.1/libexec/python/lib/pyspark.zip/pyspark/serializers.py\", line 132, in dump_stream\n    for obj in iterator:\n  File \"/usr/local/Cellar/apache-spark/3.0.1/libexec/python/lib/pyspark.zip/pyspark/serializers.py\", line 200, in _batched\n    for item in iterator:\n  File \"/usr/local/Cellar/apache-spark/3.0.1/libexec/python/lib/pyspark.zip/pyspark/worker.py\", line 450, in mapper\n    result = tuple(f(*[a[o] for o in arg_offsets]) for (arg_offsets, f) in udfs)\n  File \"/usr/local/Cellar/apache-spark/3.0.1/libexec/python/lib/pyspark.zip/pyspark/worker.py\", line 450, in <genexpr>\n    result = tuple(f(*[a[o] for o in arg_offsets]) for (arg_offsets, f) in udfs)\n  File \"/usr/local/Cellar/apache-spark/3.0.1/libexec/python/lib/pyspark.zip/pyspark/worker.py\", line 85, in <lambda>\n    return lambda *a: f(*a)\n  File \"/usr/local/Cellar/apache-spark/3.0.1/libexec/python/lib/pyspark.zip/pyspark/util.py\", line 73, in wrapper\n    return f(*args, **kwargs)\n  File \"<ipython-input-104-bdc4338feb14>\", line 1, in <lambda>\n  File \"<ipython-input-102-b634abc36d11>\", line 2, in yeojohnson\nTypeError: '>' not supported between instances of 'NoneType' and 'int'\n",
     "output_type": "error",
     "traceback": [
      "\u001b[0;31m---------------------------------------------------------------------------\u001b[0m",
      "\u001b[0;31mPythonException\u001b[0m                           Traceback (most recent call last)",
      "\u001b[0;32m<ipython-input-125-537da6f4b9a9>\u001b[0m in \u001b[0;36m<module>\u001b[0;34m\u001b[0m\n\u001b[0;32m----> 1\u001b[0;31m \u001b[0mspark\u001b[0m\u001b[0;34m.\u001b[0m\u001b[0msql\u001b[0m\u001b[0;34m(\u001b[0m\u001b[0;34m\"select distinct valeur from df1\"\u001b[0m\u001b[0;34m)\u001b[0m\u001b[0;34m.\u001b[0m\u001b[0mshow\u001b[0m\u001b[0;34m(\u001b[0m\u001b[0;34m)\u001b[0m\u001b[0;34m\u001b[0m\u001b[0;34m\u001b[0m\u001b[0m\n\u001b[0m",
      "\u001b[0;32m/usr/local/Cellar/apache-spark/3.0.1/libexec/python/pyspark/sql/dataframe.py\u001b[0m in \u001b[0;36mshow\u001b[0;34m(self, n, truncate, vertical)\u001b[0m\n\u001b[1;32m    482\u001b[0m         \"\"\"\n\u001b[1;32m    483\u001b[0m         \u001b[0;32mif\u001b[0m \u001b[0misinstance\u001b[0m\u001b[0;34m(\u001b[0m\u001b[0mtruncate\u001b[0m\u001b[0;34m,\u001b[0m \u001b[0mbool\u001b[0m\u001b[0;34m)\u001b[0m \u001b[0;32mand\u001b[0m \u001b[0mtruncate\u001b[0m\u001b[0;34m:\u001b[0m\u001b[0;34m\u001b[0m\u001b[0;34m\u001b[0m\u001b[0m\n\u001b[0;32m--> 484\u001b[0;31m             \u001b[0mprint\u001b[0m\u001b[0;34m(\u001b[0m\u001b[0mself\u001b[0m\u001b[0;34m.\u001b[0m\u001b[0m_jdf\u001b[0m\u001b[0;34m.\u001b[0m\u001b[0mshowString\u001b[0m\u001b[0;34m(\u001b[0m\u001b[0mn\u001b[0m\u001b[0;34m,\u001b[0m \u001b[0;36m20\u001b[0m\u001b[0;34m,\u001b[0m \u001b[0mvertical\u001b[0m\u001b[0;34m)\u001b[0m\u001b[0;34m)\u001b[0m\u001b[0;34m\u001b[0m\u001b[0;34m\u001b[0m\u001b[0m\n\u001b[0m\u001b[1;32m    485\u001b[0m         \u001b[0;32melse\u001b[0m\u001b[0;34m:\u001b[0m\u001b[0;34m\u001b[0m\u001b[0;34m\u001b[0m\u001b[0m\n\u001b[1;32m    486\u001b[0m             \u001b[0mprint\u001b[0m\u001b[0;34m(\u001b[0m\u001b[0mself\u001b[0m\u001b[0;34m.\u001b[0m\u001b[0m_jdf\u001b[0m\u001b[0;34m.\u001b[0m\u001b[0mshowString\u001b[0m\u001b[0;34m(\u001b[0m\u001b[0mn\u001b[0m\u001b[0;34m,\u001b[0m \u001b[0mint\u001b[0m\u001b[0;34m(\u001b[0m\u001b[0mtruncate\u001b[0m\u001b[0;34m)\u001b[0m\u001b[0;34m,\u001b[0m \u001b[0mvertical\u001b[0m\u001b[0;34m)\u001b[0m\u001b[0;34m)\u001b[0m\u001b[0;34m\u001b[0m\u001b[0;34m\u001b[0m\u001b[0m\n",
      "\u001b[0;32m~/opt/anaconda3/lib/python3.8/site-packages/py4j/java_gateway.py\u001b[0m in \u001b[0;36m__call__\u001b[0;34m(self, *args)\u001b[0m\n\u001b[1;32m   1302\u001b[0m \u001b[0;34m\u001b[0m\u001b[0m\n\u001b[1;32m   1303\u001b[0m         \u001b[0manswer\u001b[0m \u001b[0;34m=\u001b[0m \u001b[0mself\u001b[0m\u001b[0;34m.\u001b[0m\u001b[0mgateway_client\u001b[0m\u001b[0;34m.\u001b[0m\u001b[0msend_command\u001b[0m\u001b[0;34m(\u001b[0m\u001b[0mcommand\u001b[0m\u001b[0;34m)\u001b[0m\u001b[0;34m\u001b[0m\u001b[0;34m\u001b[0m\u001b[0m\n\u001b[0;32m-> 1304\u001b[0;31m         return_value = get_return_value(\n\u001b[0m\u001b[1;32m   1305\u001b[0m             answer, self.gateway_client, self.target_id, self.name)\n\u001b[1;32m   1306\u001b[0m \u001b[0;34m\u001b[0m\u001b[0m\n",
      "\u001b[0;32m/usr/local/Cellar/apache-spark/3.0.1/libexec/python/pyspark/sql/utils.py\u001b[0m in \u001b[0;36mdeco\u001b[0;34m(*a, **kw)\u001b[0m\n\u001b[1;32m    115\u001b[0m                 \u001b[0;31m# Hide where the exception came from that shows a non-Pythonic\u001b[0m\u001b[0;34m\u001b[0m\u001b[0;34m\u001b[0m\u001b[0;34m\u001b[0m\u001b[0m\n\u001b[1;32m    116\u001b[0m                 \u001b[0;31m# JVM exception message.\u001b[0m\u001b[0;34m\u001b[0m\u001b[0;34m\u001b[0m\u001b[0;34m\u001b[0m\u001b[0m\n\u001b[0;32m--> 117\u001b[0;31m                 \u001b[0;32mraise\u001b[0m \u001b[0mconverted\u001b[0m \u001b[0;32mfrom\u001b[0m \u001b[0;32mNone\u001b[0m\u001b[0;34m\u001b[0m\u001b[0;34m\u001b[0m\u001b[0m\n\u001b[0m\u001b[1;32m    118\u001b[0m             \u001b[0;32melse\u001b[0m\u001b[0;34m:\u001b[0m\u001b[0;34m\u001b[0m\u001b[0;34m\u001b[0m\u001b[0m\n\u001b[1;32m    119\u001b[0m                 \u001b[0;32mraise\u001b[0m\u001b[0;34m\u001b[0m\u001b[0;34m\u001b[0m\u001b[0m\n",
      "\u001b[0;31mPythonException\u001b[0m: \n  An exception was thrown from the Python worker. Please see the stack trace below.\nTraceback (most recent call last):\n  File \"/usr/local/Cellar/apache-spark/3.0.1/libexec/python/lib/pyspark.zip/pyspark/worker.py\", line 604, in main\n    process()\n  File \"/usr/local/Cellar/apache-spark/3.0.1/libexec/python/lib/pyspark.zip/pyspark/worker.py\", line 596, in process\n    serializer.dump_stream(out_iter, outfile)\n  File \"/usr/local/Cellar/apache-spark/3.0.1/libexec/python/lib/pyspark.zip/pyspark/serializers.py\", line 211, in dump_stream\n    self.serializer.dump_stream(self._batched(iterator), stream)\n  File \"/usr/local/Cellar/apache-spark/3.0.1/libexec/python/lib/pyspark.zip/pyspark/serializers.py\", line 132, in dump_stream\n    for obj in iterator:\n  File \"/usr/local/Cellar/apache-spark/3.0.1/libexec/python/lib/pyspark.zip/pyspark/serializers.py\", line 200, in _batched\n    for item in iterator:\n  File \"/usr/local/Cellar/apache-spark/3.0.1/libexec/python/lib/pyspark.zip/pyspark/worker.py\", line 450, in mapper\n    result = tuple(f(*[a[o] for o in arg_offsets]) for (arg_offsets, f) in udfs)\n  File \"/usr/local/Cellar/apache-spark/3.0.1/libexec/python/lib/pyspark.zip/pyspark/worker.py\", line 450, in <genexpr>\n    result = tuple(f(*[a[o] for o in arg_offsets]) for (arg_offsets, f) in udfs)\n  File \"/usr/local/Cellar/apache-spark/3.0.1/libexec/python/lib/pyspark.zip/pyspark/worker.py\", line 85, in <lambda>\n    return lambda *a: f(*a)\n  File \"/usr/local/Cellar/apache-spark/3.0.1/libexec/python/lib/pyspark.zip/pyspark/util.py\", line 73, in wrapper\n    return f(*args, **kwargs)\n  File \"<ipython-input-104-bdc4338feb14>\", line 1, in <lambda>\n  File \"<ipython-input-102-b634abc36d11>\", line 2, in yeojohnson\nTypeError: '>' not supported between instances of 'NoneType' and 'int'\n"
     ]
    }
   ],
   "source": [
    "spark.sql(\"select distinct valeur from df1\").show()"
   ]
  },
  {
   "cell_type": "code",
   "execution_count": 54,
   "metadata": {},
   "outputs": [],
   "source": [
    "#df_origin1_tmp = df_origin1.select(\n",
    "#    _mean(col(\"valeur\")).alias(\"mean\"),\n",
    "#    _stddev(col(\"valeur\")).alias(\"std\") ).collect()\n"
   ]
  },
  {
   "cell_type": "code",
   "execution_count": null,
   "metadata": {},
   "outputs": [],
   "source": [
    "df_origin1.sel"
   ]
  },
  {
   "cell_type": "code",
   "execution_count": 53,
   "metadata": {},
   "outputs": [
    {
     "ename": "Py4JJavaError",
     "evalue": "An error occurred while calling o485.save.\n: org.apache.spark.SparkException: Job aborted.\n\tat org.apache.spark.sql.execution.datasources.FileFormatWriter$.write(FileFormatWriter.scala:231)\n\tat org.apache.spark.sql.execution.datasources.InsertIntoHadoopFsRelationCommand.run(InsertIntoHadoopFsRelationCommand.scala:188)\n\tat org.apache.spark.sql.execution.command.DataWritingCommandExec.sideEffectResult$lzycompute(commands.scala:108)\n\tat org.apache.spark.sql.execution.command.DataWritingCommandExec.sideEffectResult(commands.scala:106)\n\tat org.apache.spark.sql.execution.command.DataWritingCommandExec.doExecute(commands.scala:131)\n\tat org.apache.spark.sql.execution.SparkPlan.$anonfun$execute$1(SparkPlan.scala:180)\n\tat org.apache.spark.sql.execution.SparkPlan.$anonfun$executeQuery$1(SparkPlan.scala:218)\n\tat org.apache.spark.rdd.RDDOperationScope$.withScope(RDDOperationScope.scala:151)\n\tat org.apache.spark.sql.execution.SparkPlan.executeQuery(SparkPlan.scala:215)\n\tat org.apache.spark.sql.execution.SparkPlan.execute(SparkPlan.scala:176)\n\tat org.apache.spark.sql.execution.QueryExecution.toRdd$lzycompute(QueryExecution.scala:132)\n\tat org.apache.spark.sql.execution.QueryExecution.toRdd(QueryExecution.scala:131)\n\tat org.apache.spark.sql.DataFrameWriter.$anonfun$runCommand$1(DataFrameWriter.scala:989)\n\tat org.apache.spark.sql.execution.SQLExecution$.$anonfun$withNewExecutionId$5(SQLExecution.scala:103)\n\tat org.apache.spark.sql.execution.SQLExecution$.withSQLConfPropagated(SQLExecution.scala:163)\n\tat org.apache.spark.sql.execution.SQLExecution$.$anonfun$withNewExecutionId$1(SQLExecution.scala:90)\n\tat org.apache.spark.sql.SparkSession.withActive(SparkSession.scala:775)\n\tat org.apache.spark.sql.execution.SQLExecution$.withNewExecutionId(SQLExecution.scala:64)\n\tat org.apache.spark.sql.DataFrameWriter.runCommand(DataFrameWriter.scala:989)\n\tat org.apache.spark.sql.DataFrameWriter.saveToV1Source(DataFrameWriter.scala:438)\n\tat org.apache.spark.sql.DataFrameWriter.saveInternal(DataFrameWriter.scala:415)\n\tat org.apache.spark.sql.DataFrameWriter.save(DataFrameWriter.scala:293)\n\tat sun.reflect.NativeMethodAccessorImpl.invoke0(Native Method)\n\tat sun.reflect.NativeMethodAccessorImpl.invoke(NativeMethodAccessorImpl.java:62)\n\tat sun.reflect.DelegatingMethodAccessorImpl.invoke(DelegatingMethodAccessorImpl.java:43)\n\tat java.lang.reflect.Method.invoke(Method.java:498)\n\tat py4j.reflection.MethodInvoker.invoke(MethodInvoker.java:244)\n\tat py4j.reflection.ReflectionEngine.invoke(ReflectionEngine.java:357)\n\tat py4j.Gateway.invoke(Gateway.java:282)\n\tat py4j.commands.AbstractCommand.invokeMethod(AbstractCommand.java:132)\n\tat py4j.commands.CallCommand.execute(CallCommand.java:79)\n\tat py4j.GatewayConnection.run(GatewayConnection.java:238)\n\tat java.lang.Thread.run(Thread.java:748)\nCaused by: org.apache.spark.SparkException: Job aborted due to stage failure: Task 0 in stage 62.0 failed 1 times, most recent failure: Lost task 0.0 in stage 62.0 (TID 461) (nogon-bacula-fd.dev01.smile.lan executor driver): org.apache.spark.SparkException: Task failed while writing rows.\n\tat org.apache.spark.sql.execution.datasources.FileFormatWriter$.executeTask(FileFormatWriter.scala:296)\n\tat org.apache.spark.sql.execution.datasources.FileFormatWriter$.$anonfun$write$15(FileFormatWriter.scala:210)\n\tat org.apache.spark.scheduler.ResultTask.runTask(ResultTask.scala:90)\n\tat org.apache.spark.scheduler.Task.run(Task.scala:131)\n\tat org.apache.spark.executor.Executor$TaskRunner.$anonfun$run$3(Executor.scala:497)\n\tat org.apache.spark.util.Utils$.tryWithSafeFinally(Utils.scala:1439)\n\tat org.apache.spark.executor.Executor$TaskRunner.run(Executor.scala:500)\n\tat java.util.concurrent.ThreadPoolExecutor.runWorker(ThreadPoolExecutor.java:1149)\n\tat java.util.concurrent.ThreadPoolExecutor$Worker.run(ThreadPoolExecutor.java:624)\n\tat java.lang.Thread.run(Thread.java:748)\nCaused by: org.apache.spark.api.python.PythonException: Traceback (most recent call last):\n  File \"/usr/local/Cellar/apache-spark/3.0.1/libexec/python/lib/pyspark.zip/pyspark/worker.py\", line 604, in main\n    process()\n  File \"/usr/local/Cellar/apache-spark/3.0.1/libexec/python/lib/pyspark.zip/pyspark/worker.py\", line 596, in process\n    serializer.dump_stream(out_iter, outfile)\n  File \"/usr/local/Cellar/apache-spark/3.0.1/libexec/python/lib/pyspark.zip/pyspark/serializers.py\", line 211, in dump_stream\n    self.serializer.dump_stream(self._batched(iterator), stream)\n  File \"/usr/local/Cellar/apache-spark/3.0.1/libexec/python/lib/pyspark.zip/pyspark/serializers.py\", line 132, in dump_stream\n    for obj in iterator:\n  File \"/usr/local/Cellar/apache-spark/3.0.1/libexec/python/lib/pyspark.zip/pyspark/serializers.py\", line 200, in _batched\n    for item in iterator:\n  File \"/usr/local/Cellar/apache-spark/3.0.1/libexec/python/lib/pyspark.zip/pyspark/worker.py\", line 450, in mapper\n    result = tuple(f(*[a[o] for o in arg_offsets]) for (arg_offsets, f) in udfs)\n  File \"/usr/local/Cellar/apache-spark/3.0.1/libexec/python/lib/pyspark.zip/pyspark/worker.py\", line 450, in <genexpr>\n    result = tuple(f(*[a[o] for o in arg_offsets]) for (arg_offsets, f) in udfs)\n  File \"/usr/local/Cellar/apache-spark/3.0.1/libexec/python/lib/pyspark.zip/pyspark/worker.py\", line 85, in <lambda>\n    return lambda *a: f(*a)\n  File \"/usr/local/Cellar/apache-spark/3.0.1/libexec/python/lib/pyspark.zip/pyspark/util.py\", line 73, in wrapper\n    return f(*args, **kwargs)\n  File \"<ipython-input-46-bdc4338feb14>\", line 1, in <lambda>\n  File \"<ipython-input-44-3d063221ec97>\", line 2, in yeojohnson\nTypeError: '>=' not supported between instances of 'NoneType' and 'int'\n\n\tat org.apache.spark.api.python.BasePythonRunner$ReaderIterator.handlePythonException(PythonRunner.scala:517)\n\tat org.apache.spark.sql.execution.python.PythonUDFRunner$$anon$2.read(PythonUDFRunner.scala:84)\n\tat org.apache.spark.sql.execution.python.PythonUDFRunner$$anon$2.read(PythonUDFRunner.scala:67)\n\tat org.apache.spark.api.python.BasePythonRunner$ReaderIterator.hasNext(PythonRunner.scala:470)\n\tat org.apache.spark.InterruptibleIterator.hasNext(InterruptibleIterator.scala:37)\n\tat scala.collection.Iterator$$anon$11.hasNext(Iterator.scala:489)\n\tat scala.collection.Iterator$$anon$10.hasNext(Iterator.scala:458)\n\tat scala.collection.Iterator$$anon$10.hasNext(Iterator.scala:458)\n\tat org.apache.spark.sql.catalyst.expressions.GeneratedClass$GeneratedIteratorForCodegenStage1.processNext(Unknown Source)\n\tat org.apache.spark.sql.execution.BufferedRowIterator.hasNext(BufferedRowIterator.java:43)\n\tat org.apache.spark.sql.execution.WholeStageCodegenExec$$anon$1.hasNext(WholeStageCodegenExec.scala:755)\n\tat org.apache.spark.sql.execution.datasources.FileFormatWriter$.$anonfun$executeTask$1(FileFormatWriter.scala:277)\n\tat org.apache.spark.util.Utils$.tryWithSafeFinallyAndFailureCallbacks(Utils.scala:1473)\n\tat org.apache.spark.sql.execution.datasources.FileFormatWriter$.executeTask(FileFormatWriter.scala:286)\n\t... 9 more\n\nDriver stacktrace:\n\tat org.apache.spark.scheduler.DAGScheduler.failJobAndIndependentStages(DAGScheduler.scala:2258)\n\tat org.apache.spark.scheduler.DAGScheduler.$anonfun$abortStage$2(DAGScheduler.scala:2207)\n\tat org.apache.spark.scheduler.DAGScheduler.$anonfun$abortStage$2$adapted(DAGScheduler.scala:2206)\n\tat scala.collection.mutable.ResizableArray.foreach(ResizableArray.scala:62)\n\tat scala.collection.mutable.ResizableArray.foreach$(ResizableArray.scala:55)\n\tat scala.collection.mutable.ArrayBuffer.foreach(ArrayBuffer.scala:49)\n\tat org.apache.spark.scheduler.DAGScheduler.abortStage(DAGScheduler.scala:2206)\n\tat org.apache.spark.scheduler.DAGScheduler.$anonfun$handleTaskSetFailed$1(DAGScheduler.scala:1079)\n\tat org.apache.spark.scheduler.DAGScheduler.$anonfun$handleTaskSetFailed$1$adapted(DAGScheduler.scala:1079)\n\tat scala.Option.foreach(Option.scala:407)\n\tat org.apache.spark.scheduler.DAGScheduler.handleTaskSetFailed(DAGScheduler.scala:1079)\n\tat org.apache.spark.scheduler.DAGSchedulerEventProcessLoop.doOnReceive(DAGScheduler.scala:2445)\n\tat org.apache.spark.scheduler.DAGSchedulerEventProcessLoop.onReceive(DAGScheduler.scala:2387)\n\tat org.apache.spark.scheduler.DAGSchedulerEventProcessLoop.onReceive(DAGScheduler.scala:2376)\n\tat org.apache.spark.util.EventLoop$$anon$1.run(EventLoop.scala:49)\n\tat org.apache.spark.scheduler.DAGScheduler.runJob(DAGScheduler.scala:868)\n\tat org.apache.spark.SparkContext.runJob(SparkContext.scala:2196)\n\tat org.apache.spark.sql.execution.datasources.FileFormatWriter$.write(FileFormatWriter.scala:200)\n\t... 32 more\nCaused by: org.apache.spark.SparkException: Task failed while writing rows.\n\tat org.apache.spark.sql.execution.datasources.FileFormatWriter$.executeTask(FileFormatWriter.scala:296)\n\tat org.apache.spark.sql.execution.datasources.FileFormatWriter$.$anonfun$write$15(FileFormatWriter.scala:210)\n\tat org.apache.spark.scheduler.ResultTask.runTask(ResultTask.scala:90)\n\tat org.apache.spark.scheduler.Task.run(Task.scala:131)\n\tat org.apache.spark.executor.Executor$TaskRunner.$anonfun$run$3(Executor.scala:497)\n\tat org.apache.spark.util.Utils$.tryWithSafeFinally(Utils.scala:1439)\n\tat org.apache.spark.executor.Executor$TaskRunner.run(Executor.scala:500)\n\tat java.util.concurrent.ThreadPoolExecutor.runWorker(ThreadPoolExecutor.java:1149)\n\tat java.util.concurrent.ThreadPoolExecutor$Worker.run(ThreadPoolExecutor.java:624)\n\t... 1 more\nCaused by: org.apache.spark.api.python.PythonException: Traceback (most recent call last):\n  File \"/usr/local/Cellar/apache-spark/3.0.1/libexec/python/lib/pyspark.zip/pyspark/worker.py\", line 604, in main\n    process()\n  File \"/usr/local/Cellar/apache-spark/3.0.1/libexec/python/lib/pyspark.zip/pyspark/worker.py\", line 596, in process\n    serializer.dump_stream(out_iter, outfile)\n  File \"/usr/local/Cellar/apache-spark/3.0.1/libexec/python/lib/pyspark.zip/pyspark/serializers.py\", line 211, in dump_stream\n    self.serializer.dump_stream(self._batched(iterator), stream)\n  File \"/usr/local/Cellar/apache-spark/3.0.1/libexec/python/lib/pyspark.zip/pyspark/serializers.py\", line 132, in dump_stream\n    for obj in iterator:\n  File \"/usr/local/Cellar/apache-spark/3.0.1/libexec/python/lib/pyspark.zip/pyspark/serializers.py\", line 200, in _batched\n    for item in iterator:\n  File \"/usr/local/Cellar/apache-spark/3.0.1/libexec/python/lib/pyspark.zip/pyspark/worker.py\", line 450, in mapper\n    result = tuple(f(*[a[o] for o in arg_offsets]) for (arg_offsets, f) in udfs)\n  File \"/usr/local/Cellar/apache-spark/3.0.1/libexec/python/lib/pyspark.zip/pyspark/worker.py\", line 450, in <genexpr>\n    result = tuple(f(*[a[o] for o in arg_offsets]) for (arg_offsets, f) in udfs)\n  File \"/usr/local/Cellar/apache-spark/3.0.1/libexec/python/lib/pyspark.zip/pyspark/worker.py\", line 85, in <lambda>\n    return lambda *a: f(*a)\n  File \"/usr/local/Cellar/apache-spark/3.0.1/libexec/python/lib/pyspark.zip/pyspark/util.py\", line 73, in wrapper\n    return f(*args, **kwargs)\n  File \"<ipython-input-46-bdc4338feb14>\", line 1, in <lambda>\n  File \"<ipython-input-44-3d063221ec97>\", line 2, in yeojohnson\nTypeError: '>=' not supported between instances of 'NoneType' and 'int'\n\n\tat org.apache.spark.api.python.BasePythonRunner$ReaderIterator.handlePythonException(PythonRunner.scala:517)\n\tat org.apache.spark.sql.execution.python.PythonUDFRunner$$anon$2.read(PythonUDFRunner.scala:84)\n\tat org.apache.spark.sql.execution.python.PythonUDFRunner$$anon$2.read(PythonUDFRunner.scala:67)\n\tat org.apache.spark.api.python.BasePythonRunner$ReaderIterator.hasNext(PythonRunner.scala:470)\n\tat org.apache.spark.InterruptibleIterator.hasNext(InterruptibleIterator.scala:37)\n\tat scala.collection.Iterator$$anon$11.hasNext(Iterator.scala:489)\n\tat scala.collection.Iterator$$anon$10.hasNext(Iterator.scala:458)\n\tat scala.collection.Iterator$$anon$10.hasNext(Iterator.scala:458)\n\tat org.apache.spark.sql.catalyst.expressions.GeneratedClass$GeneratedIteratorForCodegenStage1.processNext(Unknown Source)\n\tat org.apache.spark.sql.execution.BufferedRowIterator.hasNext(BufferedRowIterator.java:43)\n\tat org.apache.spark.sql.execution.WholeStageCodegenExec$$anon$1.hasNext(WholeStageCodegenExec.scala:755)\n\tat org.apache.spark.sql.execution.datasources.FileFormatWriter$.$anonfun$executeTask$1(FileFormatWriter.scala:277)\n\tat org.apache.spark.util.Utils$.tryWithSafeFinallyAndFailureCallbacks(Utils.scala:1473)\n\tat org.apache.spark.sql.execution.datasources.FileFormatWriter$.executeTask(FileFormatWriter.scala:286)\n\t... 9 more\n",
     "output_type": "error",
     "traceback": [
      "\u001b[0;31m---------------------------------------------------------------------------\u001b[0m",
      "\u001b[0;31mPy4JJavaError\u001b[0m                             Traceback (most recent call last)",
      "\u001b[0;32m<ipython-input-53-b7531a2cc859>\u001b[0m in \u001b[0;36m<module>\u001b[0;34m\u001b[0m\n\u001b[0;32m----> 1\u001b[0;31m \u001b[0mdf_origin1\u001b[0m\u001b[0;34m.\u001b[0m\u001b[0mselect\u001b[0m\u001b[0;34m(\u001b[0m\u001b[0;34m\"valeur1\"\u001b[0m\u001b[0;34m)\u001b[0m\u001b[0;34m.\u001b[0m\u001b[0mwrite\u001b[0m\u001b[0;34m.\u001b[0m\u001b[0mmode\u001b[0m\u001b[0;34m(\u001b[0m\u001b[0;34m\"overwrite\"\u001b[0m\u001b[0;34m)\u001b[0m\u001b[0;34m.\u001b[0m\u001b[0mformat\u001b[0m\u001b[0;34m(\u001b[0m\u001b[0;34m\"parquet\"\u001b[0m\u001b[0;34m)\u001b[0m\u001b[0;34m.\u001b[0m\u001b[0msave\u001b[0m\u001b[0;34m(\u001b[0m\u001b[0;34m\"/Users/youssouf/Documents/simboxv2/valeur.parquet\"\u001b[0m\u001b[0;34m)\u001b[0m\u001b[0;34m\u001b[0m\u001b[0;34m\u001b[0m\u001b[0m\n\u001b[0m\u001b[1;32m      2\u001b[0m \u001b[0;34m\u001b[0m\u001b[0m\n\u001b[1;32m      3\u001b[0m \u001b[0;34m\u001b[0m\u001b[0m\n",
      "\u001b[0;32m/usr/local/Cellar/apache-spark/3.0.1/libexec/python/pyspark/sql/readwriter.py\u001b[0m in \u001b[0;36msave\u001b[0;34m(self, path, format, mode, partitionBy, **options)\u001b[0m\n\u001b[1;32m   1107\u001b[0m             \u001b[0mself\u001b[0m\u001b[0;34m.\u001b[0m\u001b[0m_jwrite\u001b[0m\u001b[0;34m.\u001b[0m\u001b[0msave\u001b[0m\u001b[0;34m(\u001b[0m\u001b[0;34m)\u001b[0m\u001b[0;34m\u001b[0m\u001b[0;34m\u001b[0m\u001b[0m\n\u001b[1;32m   1108\u001b[0m         \u001b[0;32melse\u001b[0m\u001b[0;34m:\u001b[0m\u001b[0;34m\u001b[0m\u001b[0;34m\u001b[0m\u001b[0m\n\u001b[0;32m-> 1109\u001b[0;31m             \u001b[0mself\u001b[0m\u001b[0;34m.\u001b[0m\u001b[0m_jwrite\u001b[0m\u001b[0;34m.\u001b[0m\u001b[0msave\u001b[0m\u001b[0;34m(\u001b[0m\u001b[0mpath\u001b[0m\u001b[0;34m)\u001b[0m\u001b[0;34m\u001b[0m\u001b[0;34m\u001b[0m\u001b[0m\n\u001b[0m\u001b[1;32m   1110\u001b[0m \u001b[0;34m\u001b[0m\u001b[0m\n\u001b[1;32m   1111\u001b[0m     \u001b[0;34m@\u001b[0m\u001b[0msince\u001b[0m\u001b[0;34m(\u001b[0m\u001b[0;36m1.4\u001b[0m\u001b[0;34m)\u001b[0m\u001b[0;34m\u001b[0m\u001b[0;34m\u001b[0m\u001b[0m\n",
      "\u001b[0;32m~/opt/anaconda3/lib/python3.8/site-packages/py4j/java_gateway.py\u001b[0m in \u001b[0;36m__call__\u001b[0;34m(self, *args)\u001b[0m\n\u001b[1;32m   1302\u001b[0m \u001b[0;34m\u001b[0m\u001b[0m\n\u001b[1;32m   1303\u001b[0m         \u001b[0manswer\u001b[0m \u001b[0;34m=\u001b[0m \u001b[0mself\u001b[0m\u001b[0;34m.\u001b[0m\u001b[0mgateway_client\u001b[0m\u001b[0;34m.\u001b[0m\u001b[0msend_command\u001b[0m\u001b[0;34m(\u001b[0m\u001b[0mcommand\u001b[0m\u001b[0;34m)\u001b[0m\u001b[0;34m\u001b[0m\u001b[0;34m\u001b[0m\u001b[0m\n\u001b[0;32m-> 1304\u001b[0;31m         return_value = get_return_value(\n\u001b[0m\u001b[1;32m   1305\u001b[0m             answer, self.gateway_client, self.target_id, self.name)\n\u001b[1;32m   1306\u001b[0m \u001b[0;34m\u001b[0m\u001b[0m\n",
      "\u001b[0;32m/usr/local/Cellar/apache-spark/3.0.1/libexec/python/pyspark/sql/utils.py\u001b[0m in \u001b[0;36mdeco\u001b[0;34m(*a, **kw)\u001b[0m\n\u001b[1;32m    109\u001b[0m     \u001b[0;32mdef\u001b[0m \u001b[0mdeco\u001b[0m\u001b[0;34m(\u001b[0m\u001b[0;34m*\u001b[0m\u001b[0ma\u001b[0m\u001b[0;34m,\u001b[0m \u001b[0;34m**\u001b[0m\u001b[0mkw\u001b[0m\u001b[0;34m)\u001b[0m\u001b[0;34m:\u001b[0m\u001b[0;34m\u001b[0m\u001b[0;34m\u001b[0m\u001b[0m\n\u001b[1;32m    110\u001b[0m         \u001b[0;32mtry\u001b[0m\u001b[0;34m:\u001b[0m\u001b[0;34m\u001b[0m\u001b[0;34m\u001b[0m\u001b[0m\n\u001b[0;32m--> 111\u001b[0;31m             \u001b[0;32mreturn\u001b[0m \u001b[0mf\u001b[0m\u001b[0;34m(\u001b[0m\u001b[0;34m*\u001b[0m\u001b[0ma\u001b[0m\u001b[0;34m,\u001b[0m \u001b[0;34m**\u001b[0m\u001b[0mkw\u001b[0m\u001b[0;34m)\u001b[0m\u001b[0;34m\u001b[0m\u001b[0;34m\u001b[0m\u001b[0m\n\u001b[0m\u001b[1;32m    112\u001b[0m         \u001b[0;32mexcept\u001b[0m \u001b[0mpy4j\u001b[0m\u001b[0;34m.\u001b[0m\u001b[0mprotocol\u001b[0m\u001b[0;34m.\u001b[0m\u001b[0mPy4JJavaError\u001b[0m \u001b[0;32mas\u001b[0m \u001b[0me\u001b[0m\u001b[0;34m:\u001b[0m\u001b[0;34m\u001b[0m\u001b[0;34m\u001b[0m\u001b[0m\n\u001b[1;32m    113\u001b[0m             \u001b[0mconverted\u001b[0m \u001b[0;34m=\u001b[0m \u001b[0mconvert_exception\u001b[0m\u001b[0;34m(\u001b[0m\u001b[0me\u001b[0m\u001b[0;34m.\u001b[0m\u001b[0mjava_exception\u001b[0m\u001b[0;34m)\u001b[0m\u001b[0;34m\u001b[0m\u001b[0;34m\u001b[0m\u001b[0m\n",
      "\u001b[0;32m~/opt/anaconda3/lib/python3.8/site-packages/py4j/protocol.py\u001b[0m in \u001b[0;36mget_return_value\u001b[0;34m(answer, gateway_client, target_id, name)\u001b[0m\n\u001b[1;32m    324\u001b[0m             \u001b[0mvalue\u001b[0m \u001b[0;34m=\u001b[0m \u001b[0mOUTPUT_CONVERTER\u001b[0m\u001b[0;34m[\u001b[0m\u001b[0mtype\u001b[0m\u001b[0;34m]\u001b[0m\u001b[0;34m(\u001b[0m\u001b[0manswer\u001b[0m\u001b[0;34m[\u001b[0m\u001b[0;36m2\u001b[0m\u001b[0;34m:\u001b[0m\u001b[0;34m]\u001b[0m\u001b[0;34m,\u001b[0m \u001b[0mgateway_client\u001b[0m\u001b[0;34m)\u001b[0m\u001b[0;34m\u001b[0m\u001b[0;34m\u001b[0m\u001b[0m\n\u001b[1;32m    325\u001b[0m             \u001b[0;32mif\u001b[0m \u001b[0manswer\u001b[0m\u001b[0;34m[\u001b[0m\u001b[0;36m1\u001b[0m\u001b[0;34m]\u001b[0m \u001b[0;34m==\u001b[0m \u001b[0mREFERENCE_TYPE\u001b[0m\u001b[0;34m:\u001b[0m\u001b[0;34m\u001b[0m\u001b[0;34m\u001b[0m\u001b[0m\n\u001b[0;32m--> 326\u001b[0;31m                 raise Py4JJavaError(\n\u001b[0m\u001b[1;32m    327\u001b[0m                     \u001b[0;34m\"An error occurred while calling {0}{1}{2}.\\n\"\u001b[0m\u001b[0;34m.\u001b[0m\u001b[0;34m\u001b[0m\u001b[0;34m\u001b[0m\u001b[0m\n\u001b[1;32m    328\u001b[0m                     format(target_id, \".\", name), value)\n",
      "\u001b[0;31mPy4JJavaError\u001b[0m: An error occurred while calling o485.save.\n: org.apache.spark.SparkException: Job aborted.\n\tat org.apache.spark.sql.execution.datasources.FileFormatWriter$.write(FileFormatWriter.scala:231)\n\tat org.apache.spark.sql.execution.datasources.InsertIntoHadoopFsRelationCommand.run(InsertIntoHadoopFsRelationCommand.scala:188)\n\tat org.apache.spark.sql.execution.command.DataWritingCommandExec.sideEffectResult$lzycompute(commands.scala:108)\n\tat org.apache.spark.sql.execution.command.DataWritingCommandExec.sideEffectResult(commands.scala:106)\n\tat org.apache.spark.sql.execution.command.DataWritingCommandExec.doExecute(commands.scala:131)\n\tat org.apache.spark.sql.execution.SparkPlan.$anonfun$execute$1(SparkPlan.scala:180)\n\tat org.apache.spark.sql.execution.SparkPlan.$anonfun$executeQuery$1(SparkPlan.scala:218)\n\tat org.apache.spark.rdd.RDDOperationScope$.withScope(RDDOperationScope.scala:151)\n\tat org.apache.spark.sql.execution.SparkPlan.executeQuery(SparkPlan.scala:215)\n\tat org.apache.spark.sql.execution.SparkPlan.execute(SparkPlan.scala:176)\n\tat org.apache.spark.sql.execution.QueryExecution.toRdd$lzycompute(QueryExecution.scala:132)\n\tat org.apache.spark.sql.execution.QueryExecution.toRdd(QueryExecution.scala:131)\n\tat org.apache.spark.sql.DataFrameWriter.$anonfun$runCommand$1(DataFrameWriter.scala:989)\n\tat org.apache.spark.sql.execution.SQLExecution$.$anonfun$withNewExecutionId$5(SQLExecution.scala:103)\n\tat org.apache.spark.sql.execution.SQLExecution$.withSQLConfPropagated(SQLExecution.scala:163)\n\tat org.apache.spark.sql.execution.SQLExecution$.$anonfun$withNewExecutionId$1(SQLExecution.scala:90)\n\tat org.apache.spark.sql.SparkSession.withActive(SparkSession.scala:775)\n\tat org.apache.spark.sql.execution.SQLExecution$.withNewExecutionId(SQLExecution.scala:64)\n\tat org.apache.spark.sql.DataFrameWriter.runCommand(DataFrameWriter.scala:989)\n\tat org.apache.spark.sql.DataFrameWriter.saveToV1Source(DataFrameWriter.scala:438)\n\tat org.apache.spark.sql.DataFrameWriter.saveInternal(DataFrameWriter.scala:415)\n\tat org.apache.spark.sql.DataFrameWriter.save(DataFrameWriter.scala:293)\n\tat sun.reflect.NativeMethodAccessorImpl.invoke0(Native Method)\n\tat sun.reflect.NativeMethodAccessorImpl.invoke(NativeMethodAccessorImpl.java:62)\n\tat sun.reflect.DelegatingMethodAccessorImpl.invoke(DelegatingMethodAccessorImpl.java:43)\n\tat java.lang.reflect.Method.invoke(Method.java:498)\n\tat py4j.reflection.MethodInvoker.invoke(MethodInvoker.java:244)\n\tat py4j.reflection.ReflectionEngine.invoke(ReflectionEngine.java:357)\n\tat py4j.Gateway.invoke(Gateway.java:282)\n\tat py4j.commands.AbstractCommand.invokeMethod(AbstractCommand.java:132)\n\tat py4j.commands.CallCommand.execute(CallCommand.java:79)\n\tat py4j.GatewayConnection.run(GatewayConnection.java:238)\n\tat java.lang.Thread.run(Thread.java:748)\nCaused by: org.apache.spark.SparkException: Job aborted due to stage failure: Task 0 in stage 62.0 failed 1 times, most recent failure: Lost task 0.0 in stage 62.0 (TID 461) (nogon-bacula-fd.dev01.smile.lan executor driver): org.apache.spark.SparkException: Task failed while writing rows.\n\tat org.apache.spark.sql.execution.datasources.FileFormatWriter$.executeTask(FileFormatWriter.scala:296)\n\tat org.apache.spark.sql.execution.datasources.FileFormatWriter$.$anonfun$write$15(FileFormatWriter.scala:210)\n\tat org.apache.spark.scheduler.ResultTask.runTask(ResultTask.scala:90)\n\tat org.apache.spark.scheduler.Task.run(Task.scala:131)\n\tat org.apache.spark.executor.Executor$TaskRunner.$anonfun$run$3(Executor.scala:497)\n\tat org.apache.spark.util.Utils$.tryWithSafeFinally(Utils.scala:1439)\n\tat org.apache.spark.executor.Executor$TaskRunner.run(Executor.scala:500)\n\tat java.util.concurrent.ThreadPoolExecutor.runWorker(ThreadPoolExecutor.java:1149)\n\tat java.util.concurrent.ThreadPoolExecutor$Worker.run(ThreadPoolExecutor.java:624)\n\tat java.lang.Thread.run(Thread.java:748)\nCaused by: org.apache.spark.api.python.PythonException: Traceback (most recent call last):\n  File \"/usr/local/Cellar/apache-spark/3.0.1/libexec/python/lib/pyspark.zip/pyspark/worker.py\", line 604, in main\n    process()\n  File \"/usr/local/Cellar/apache-spark/3.0.1/libexec/python/lib/pyspark.zip/pyspark/worker.py\", line 596, in process\n    serializer.dump_stream(out_iter, outfile)\n  File \"/usr/local/Cellar/apache-spark/3.0.1/libexec/python/lib/pyspark.zip/pyspark/serializers.py\", line 211, in dump_stream\n    self.serializer.dump_stream(self._batched(iterator), stream)\n  File \"/usr/local/Cellar/apache-spark/3.0.1/libexec/python/lib/pyspark.zip/pyspark/serializers.py\", line 132, in dump_stream\n    for obj in iterator:\n  File \"/usr/local/Cellar/apache-spark/3.0.1/libexec/python/lib/pyspark.zip/pyspark/serializers.py\", line 200, in _batched\n    for item in iterator:\n  File \"/usr/local/Cellar/apache-spark/3.0.1/libexec/python/lib/pyspark.zip/pyspark/worker.py\", line 450, in mapper\n    result = tuple(f(*[a[o] for o in arg_offsets]) for (arg_offsets, f) in udfs)\n  File \"/usr/local/Cellar/apache-spark/3.0.1/libexec/python/lib/pyspark.zip/pyspark/worker.py\", line 450, in <genexpr>\n    result = tuple(f(*[a[o] for o in arg_offsets]) for (arg_offsets, f) in udfs)\n  File \"/usr/local/Cellar/apache-spark/3.0.1/libexec/python/lib/pyspark.zip/pyspark/worker.py\", line 85, in <lambda>\n    return lambda *a: f(*a)\n  File \"/usr/local/Cellar/apache-spark/3.0.1/libexec/python/lib/pyspark.zip/pyspark/util.py\", line 73, in wrapper\n    return f(*args, **kwargs)\n  File \"<ipython-input-46-bdc4338feb14>\", line 1, in <lambda>\n  File \"<ipython-input-44-3d063221ec97>\", line 2, in yeojohnson\nTypeError: '>=' not supported between instances of 'NoneType' and 'int'\n\n\tat org.apache.spark.api.python.BasePythonRunner$ReaderIterator.handlePythonException(PythonRunner.scala:517)\n\tat org.apache.spark.sql.execution.python.PythonUDFRunner$$anon$2.read(PythonUDFRunner.scala:84)\n\tat org.apache.spark.sql.execution.python.PythonUDFRunner$$anon$2.read(PythonUDFRunner.scala:67)\n\tat org.apache.spark.api.python.BasePythonRunner$ReaderIterator.hasNext(PythonRunner.scala:470)\n\tat org.apache.spark.InterruptibleIterator.hasNext(InterruptibleIterator.scala:37)\n\tat scala.collection.Iterator$$anon$11.hasNext(Iterator.scala:489)\n\tat scala.collection.Iterator$$anon$10.hasNext(Iterator.scala:458)\n\tat scala.collection.Iterator$$anon$10.hasNext(Iterator.scala:458)\n\tat org.apache.spark.sql.catalyst.expressions.GeneratedClass$GeneratedIteratorForCodegenStage1.processNext(Unknown Source)\n\tat org.apache.spark.sql.execution.BufferedRowIterator.hasNext(BufferedRowIterator.java:43)\n\tat org.apache.spark.sql.execution.WholeStageCodegenExec$$anon$1.hasNext(WholeStageCodegenExec.scala:755)\n\tat org.apache.spark.sql.execution.datasources.FileFormatWriter$.$anonfun$executeTask$1(FileFormatWriter.scala:277)\n\tat org.apache.spark.util.Utils$.tryWithSafeFinallyAndFailureCallbacks(Utils.scala:1473)\n\tat org.apache.spark.sql.execution.datasources.FileFormatWriter$.executeTask(FileFormatWriter.scala:286)\n\t... 9 more\n\nDriver stacktrace:\n\tat org.apache.spark.scheduler.DAGScheduler.failJobAndIndependentStages(DAGScheduler.scala:2258)\n\tat org.apache.spark.scheduler.DAGScheduler.$anonfun$abortStage$2(DAGScheduler.scala:2207)\n\tat org.apache.spark.scheduler.DAGScheduler.$anonfun$abortStage$2$adapted(DAGScheduler.scala:2206)\n\tat scala.collection.mutable.ResizableArray.foreach(ResizableArray.scala:62)\n\tat scala.collection.mutable.ResizableArray.foreach$(ResizableArray.scala:55)\n\tat scala.collection.mutable.ArrayBuffer.foreach(ArrayBuffer.scala:49)\n\tat org.apache.spark.scheduler.DAGScheduler.abortStage(DAGScheduler.scala:2206)\n\tat org.apache.spark.scheduler.DAGScheduler.$anonfun$handleTaskSetFailed$1(DAGScheduler.scala:1079)\n\tat org.apache.spark.scheduler.DAGScheduler.$anonfun$handleTaskSetFailed$1$adapted(DAGScheduler.scala:1079)\n\tat scala.Option.foreach(Option.scala:407)\n\tat org.apache.spark.scheduler.DAGScheduler.handleTaskSetFailed(DAGScheduler.scala:1079)\n\tat org.apache.spark.scheduler.DAGSchedulerEventProcessLoop.doOnReceive(DAGScheduler.scala:2445)\n\tat org.apache.spark.scheduler.DAGSchedulerEventProcessLoop.onReceive(DAGScheduler.scala:2387)\n\tat org.apache.spark.scheduler.DAGSchedulerEventProcessLoop.onReceive(DAGScheduler.scala:2376)\n\tat org.apache.spark.util.EventLoop$$anon$1.run(EventLoop.scala:49)\n\tat org.apache.spark.scheduler.DAGScheduler.runJob(DAGScheduler.scala:868)\n\tat org.apache.spark.SparkContext.runJob(SparkContext.scala:2196)\n\tat org.apache.spark.sql.execution.datasources.FileFormatWriter$.write(FileFormatWriter.scala:200)\n\t... 32 more\nCaused by: org.apache.spark.SparkException: Task failed while writing rows.\n\tat org.apache.spark.sql.execution.datasources.FileFormatWriter$.executeTask(FileFormatWriter.scala:296)\n\tat org.apache.spark.sql.execution.datasources.FileFormatWriter$.$anonfun$write$15(FileFormatWriter.scala:210)\n\tat org.apache.spark.scheduler.ResultTask.runTask(ResultTask.scala:90)\n\tat org.apache.spark.scheduler.Task.run(Task.scala:131)\n\tat org.apache.spark.executor.Executor$TaskRunner.$anonfun$run$3(Executor.scala:497)\n\tat org.apache.spark.util.Utils$.tryWithSafeFinally(Utils.scala:1439)\n\tat org.apache.spark.executor.Executor$TaskRunner.run(Executor.scala:500)\n\tat java.util.concurrent.ThreadPoolExecutor.runWorker(ThreadPoolExecutor.java:1149)\n\tat java.util.concurrent.ThreadPoolExecutor$Worker.run(ThreadPoolExecutor.java:624)\n\t... 1 more\nCaused by: org.apache.spark.api.python.PythonException: Traceback (most recent call last):\n  File \"/usr/local/Cellar/apache-spark/3.0.1/libexec/python/lib/pyspark.zip/pyspark/worker.py\", line 604, in main\n    process()\n  File \"/usr/local/Cellar/apache-spark/3.0.1/libexec/python/lib/pyspark.zip/pyspark/worker.py\", line 596, in process\n    serializer.dump_stream(out_iter, outfile)\n  File \"/usr/local/Cellar/apache-spark/3.0.1/libexec/python/lib/pyspark.zip/pyspark/serializers.py\", line 211, in dump_stream\n    self.serializer.dump_stream(self._batched(iterator), stream)\n  File \"/usr/local/Cellar/apache-spark/3.0.1/libexec/python/lib/pyspark.zip/pyspark/serializers.py\", line 132, in dump_stream\n    for obj in iterator:\n  File \"/usr/local/Cellar/apache-spark/3.0.1/libexec/python/lib/pyspark.zip/pyspark/serializers.py\", line 200, in _batched\n    for item in iterator:\n  File \"/usr/local/Cellar/apache-spark/3.0.1/libexec/python/lib/pyspark.zip/pyspark/worker.py\", line 450, in mapper\n    result = tuple(f(*[a[o] for o in arg_offsets]) for (arg_offsets, f) in udfs)\n  File \"/usr/local/Cellar/apache-spark/3.0.1/libexec/python/lib/pyspark.zip/pyspark/worker.py\", line 450, in <genexpr>\n    result = tuple(f(*[a[o] for o in arg_offsets]) for (arg_offsets, f) in udfs)\n  File \"/usr/local/Cellar/apache-spark/3.0.1/libexec/python/lib/pyspark.zip/pyspark/worker.py\", line 85, in <lambda>\n    return lambda *a: f(*a)\n  File \"/usr/local/Cellar/apache-spark/3.0.1/libexec/python/lib/pyspark.zip/pyspark/util.py\", line 73, in wrapper\n    return f(*args, **kwargs)\n  File \"<ipython-input-46-bdc4338feb14>\", line 1, in <lambda>\n  File \"<ipython-input-44-3d063221ec97>\", line 2, in yeojohnson\nTypeError: '>=' not supported between instances of 'NoneType' and 'int'\n\n\tat org.apache.spark.api.python.BasePythonRunner$ReaderIterator.handlePythonException(PythonRunner.scala:517)\n\tat org.apache.spark.sql.execution.python.PythonUDFRunner$$anon$2.read(PythonUDFRunner.scala:84)\n\tat org.apache.spark.sql.execution.python.PythonUDFRunner$$anon$2.read(PythonUDFRunner.scala:67)\n\tat org.apache.spark.api.python.BasePythonRunner$ReaderIterator.hasNext(PythonRunner.scala:470)\n\tat org.apache.spark.InterruptibleIterator.hasNext(InterruptibleIterator.scala:37)\n\tat scala.collection.Iterator$$anon$11.hasNext(Iterator.scala:489)\n\tat scala.collection.Iterator$$anon$10.hasNext(Iterator.scala:458)\n\tat scala.collection.Iterator$$anon$10.hasNext(Iterator.scala:458)\n\tat org.apache.spark.sql.catalyst.expressions.GeneratedClass$GeneratedIteratorForCodegenStage1.processNext(Unknown Source)\n\tat org.apache.spark.sql.execution.BufferedRowIterator.hasNext(BufferedRowIterator.java:43)\n\tat org.apache.spark.sql.execution.WholeStageCodegenExec$$anon$1.hasNext(WholeStageCodegenExec.scala:755)\n\tat org.apache.spark.sql.execution.datasources.FileFormatWriter$.$anonfun$executeTask$1(FileFormatWriter.scala:277)\n\tat org.apache.spark.util.Utils$.tryWithSafeFinallyAndFailureCallbacks(Utils.scala:1473)\n\tat org.apache.spark.sql.execution.datasources.FileFormatWriter$.executeTask(FileFormatWriter.scala:286)\n\t... 9 more\n"
     ]
    }
   ],
   "source": [
    "df_origin1.select(\"valeur1\").write.mode(\"overwrite\").format(\"parquet\").save(\"/Users/youssouf/Documents/simboxv2/valeur.parquet\")\n",
    "\n",
    "\n"
   ]
  },
  {
   "cell_type": "code",
   "execution_count": 52,
   "metadata": {},
   "outputs": [
    {
     "name": "stdout",
     "output_type": "stream",
     "text": [
      "+------+\n",
      "|valeur|\n",
      "+------+\n",
      "|3900.0|\n",
      "|3900.0|\n",
      "|3900.0|\n",
      "|3900.0|\n",
      "|3900.0|\n",
      "+------+\n",
      "only showing top 5 rows\n",
      "\n"
     ]
    }
   ],
   "source": [
    "df_valeur = spark.read.parquet(\"/Users/youssouf/Documents/simboxv2/valeur.parquet\")\n",
    "df_valeur.show(5)\n"
   ]
  },
  {
   "cell_type": "code",
   "execution_count": 17,
   "metadata": {},
   "outputs": [
    {
     "name": "stdout",
     "output_type": "stream",
     "text": [
      "root\n",
      " |-- valeur: double (nullable = true)\n",
      "\n"
     ]
    }
   ],
   "source": [
    "df_origin.select(\"valeur\").printSchema()"
   ]
  },
  {
   "cell_type": "code",
   "execution_count": 50,
   "metadata": {},
   "outputs": [
    {
     "name": "stdout",
     "output_type": "stream",
     "text": [
      "+-------+------------------+\n",
      "|summary|            valeur|\n",
      "+-------+------------------+\n",
      "|  count|           5317699|\n",
      "|   mean| 6792.208909906333|\n",
      "| stddev|12711.033593267775|\n",
      "|    min|               0.0|\n",
      "|    max|          567852.0|\n",
      "+-------+------------------+\n",
      "\n"
     ]
    }
   ],
   "source": [
    "df_origin.select(\"valeur\").describe().show()"
   ]
  },
  {
   "cell_type": "code",
   "execution_count": 51,
   "metadata": {},
   "outputs": [
    {
     "ename": "PythonException",
     "evalue": "\n  An exception was thrown from the Python worker. Please see the stack trace below.\nTraceback (most recent call last):\n  File \"/usr/local/Cellar/apache-spark/3.0.1/libexec/python/lib/pyspark.zip/pyspark/worker.py\", line 604, in main\n    process()\n  File \"/usr/local/Cellar/apache-spark/3.0.1/libexec/python/lib/pyspark.zip/pyspark/worker.py\", line 596, in process\n    serializer.dump_stream(out_iter, outfile)\n  File \"/usr/local/Cellar/apache-spark/3.0.1/libexec/python/lib/pyspark.zip/pyspark/serializers.py\", line 211, in dump_stream\n    self.serializer.dump_stream(self._batched(iterator), stream)\n  File \"/usr/local/Cellar/apache-spark/3.0.1/libexec/python/lib/pyspark.zip/pyspark/serializers.py\", line 132, in dump_stream\n    for obj in iterator:\n  File \"/usr/local/Cellar/apache-spark/3.0.1/libexec/python/lib/pyspark.zip/pyspark/serializers.py\", line 200, in _batched\n    for item in iterator:\n  File \"/usr/local/Cellar/apache-spark/3.0.1/libexec/python/lib/pyspark.zip/pyspark/worker.py\", line 450, in mapper\n    result = tuple(f(*[a[o] for o in arg_offsets]) for (arg_offsets, f) in udfs)\n  File \"/usr/local/Cellar/apache-spark/3.0.1/libexec/python/lib/pyspark.zip/pyspark/worker.py\", line 450, in <genexpr>\n    result = tuple(f(*[a[o] for o in arg_offsets]) for (arg_offsets, f) in udfs)\n  File \"/usr/local/Cellar/apache-spark/3.0.1/libexec/python/lib/pyspark.zip/pyspark/worker.py\", line 85, in <lambda>\n    return lambda *a: f(*a)\n  File \"/usr/local/Cellar/apache-spark/3.0.1/libexec/python/lib/pyspark.zip/pyspark/util.py\", line 73, in wrapper\n    return f(*args, **kwargs)\n  File \"<ipython-input-46-bdc4338feb14>\", line 1, in <lambda>\n  File \"<ipython-input-44-3d063221ec97>\", line 2, in yeojohnson\nTypeError: '>=' not supported between instances of 'NoneType' and 'int'\n",
     "output_type": "error",
     "traceback": [
      "\u001b[0;31m---------------------------------------------------------------------------\u001b[0m",
      "\u001b[0;31mPythonException\u001b[0m                           Traceback (most recent call last)",
      "\u001b[0;32m<ipython-input-51-66b8746d2295>\u001b[0m in \u001b[0;36m<module>\u001b[0;34m\u001b[0m\n\u001b[0;32m----> 1\u001b[0;31m \u001b[0mdf_origin1\u001b[0m\u001b[0;34m.\u001b[0m\u001b[0mselect\u001b[0m\u001b[0;34m(\u001b[0m\u001b[0;34m\"valeur1\"\u001b[0m\u001b[0;34m)\u001b[0m\u001b[0;34m.\u001b[0m\u001b[0mdescribe\u001b[0m\u001b[0;34m(\u001b[0m\u001b[0;34m)\u001b[0m\u001b[0;34m.\u001b[0m\u001b[0mshow\u001b[0m\u001b[0;34m(\u001b[0m\u001b[0;34m)\u001b[0m\u001b[0;34m\u001b[0m\u001b[0;34m\u001b[0m\u001b[0m\n\u001b[0m",
      "\u001b[0;32m/usr/local/Cellar/apache-spark/3.0.1/libexec/python/pyspark/sql/dataframe.py\u001b[0m in \u001b[0;36mdescribe\u001b[0;34m(self, *cols)\u001b[0m\n\u001b[1;32m   1489\u001b[0m         \u001b[0;32mif\u001b[0m \u001b[0mlen\u001b[0m\u001b[0;34m(\u001b[0m\u001b[0mcols\u001b[0m\u001b[0;34m)\u001b[0m \u001b[0;34m==\u001b[0m \u001b[0;36m1\u001b[0m \u001b[0;32mand\u001b[0m \u001b[0misinstance\u001b[0m\u001b[0;34m(\u001b[0m\u001b[0mcols\u001b[0m\u001b[0;34m[\u001b[0m\u001b[0;36m0\u001b[0m\u001b[0;34m]\u001b[0m\u001b[0;34m,\u001b[0m \u001b[0mlist\u001b[0m\u001b[0;34m)\u001b[0m\u001b[0;34m:\u001b[0m\u001b[0;34m\u001b[0m\u001b[0;34m\u001b[0m\u001b[0m\n\u001b[1;32m   1490\u001b[0m             \u001b[0mcols\u001b[0m \u001b[0;34m=\u001b[0m \u001b[0mcols\u001b[0m\u001b[0;34m[\u001b[0m\u001b[0;36m0\u001b[0m\u001b[0;34m]\u001b[0m\u001b[0;34m\u001b[0m\u001b[0;34m\u001b[0m\u001b[0m\n\u001b[0;32m-> 1491\u001b[0;31m         \u001b[0mjdf\u001b[0m \u001b[0;34m=\u001b[0m \u001b[0mself\u001b[0m\u001b[0;34m.\u001b[0m\u001b[0m_jdf\u001b[0m\u001b[0;34m.\u001b[0m\u001b[0mdescribe\u001b[0m\u001b[0;34m(\u001b[0m\u001b[0mself\u001b[0m\u001b[0;34m.\u001b[0m\u001b[0m_jseq\u001b[0m\u001b[0;34m(\u001b[0m\u001b[0mcols\u001b[0m\u001b[0;34m)\u001b[0m\u001b[0;34m)\u001b[0m\u001b[0;34m\u001b[0m\u001b[0;34m\u001b[0m\u001b[0m\n\u001b[0m\u001b[1;32m   1492\u001b[0m         \u001b[0;32mreturn\u001b[0m \u001b[0mDataFrame\u001b[0m\u001b[0;34m(\u001b[0m\u001b[0mjdf\u001b[0m\u001b[0;34m,\u001b[0m \u001b[0mself\u001b[0m\u001b[0;34m.\u001b[0m\u001b[0msql_ctx\u001b[0m\u001b[0;34m)\u001b[0m\u001b[0;34m\u001b[0m\u001b[0;34m\u001b[0m\u001b[0m\n\u001b[1;32m   1493\u001b[0m \u001b[0;34m\u001b[0m\u001b[0m\n",
      "\u001b[0;32m~/opt/anaconda3/lib/python3.8/site-packages/py4j/java_gateway.py\u001b[0m in \u001b[0;36m__call__\u001b[0;34m(self, *args)\u001b[0m\n\u001b[1;32m   1302\u001b[0m \u001b[0;34m\u001b[0m\u001b[0m\n\u001b[1;32m   1303\u001b[0m         \u001b[0manswer\u001b[0m \u001b[0;34m=\u001b[0m \u001b[0mself\u001b[0m\u001b[0;34m.\u001b[0m\u001b[0mgateway_client\u001b[0m\u001b[0;34m.\u001b[0m\u001b[0msend_command\u001b[0m\u001b[0;34m(\u001b[0m\u001b[0mcommand\u001b[0m\u001b[0;34m)\u001b[0m\u001b[0;34m\u001b[0m\u001b[0;34m\u001b[0m\u001b[0m\n\u001b[0;32m-> 1304\u001b[0;31m         return_value = get_return_value(\n\u001b[0m\u001b[1;32m   1305\u001b[0m             answer, self.gateway_client, self.target_id, self.name)\n\u001b[1;32m   1306\u001b[0m \u001b[0;34m\u001b[0m\u001b[0m\n",
      "\u001b[0;32m/usr/local/Cellar/apache-spark/3.0.1/libexec/python/pyspark/sql/utils.py\u001b[0m in \u001b[0;36mdeco\u001b[0;34m(*a, **kw)\u001b[0m\n\u001b[1;32m    115\u001b[0m                 \u001b[0;31m# Hide where the exception came from that shows a non-Pythonic\u001b[0m\u001b[0;34m\u001b[0m\u001b[0;34m\u001b[0m\u001b[0;34m\u001b[0m\u001b[0m\n\u001b[1;32m    116\u001b[0m                 \u001b[0;31m# JVM exception message.\u001b[0m\u001b[0;34m\u001b[0m\u001b[0;34m\u001b[0m\u001b[0;34m\u001b[0m\u001b[0m\n\u001b[0;32m--> 117\u001b[0;31m                 \u001b[0;32mraise\u001b[0m \u001b[0mconverted\u001b[0m \u001b[0;32mfrom\u001b[0m \u001b[0;32mNone\u001b[0m\u001b[0;34m\u001b[0m\u001b[0;34m\u001b[0m\u001b[0m\n\u001b[0m\u001b[1;32m    118\u001b[0m             \u001b[0;32melse\u001b[0m\u001b[0;34m:\u001b[0m\u001b[0;34m\u001b[0m\u001b[0;34m\u001b[0m\u001b[0m\n\u001b[1;32m    119\u001b[0m                 \u001b[0;32mraise\u001b[0m\u001b[0;34m\u001b[0m\u001b[0;34m\u001b[0m\u001b[0m\n",
      "\u001b[0;31mPythonException\u001b[0m: \n  An exception was thrown from the Python worker. Please see the stack trace below.\nTraceback (most recent call last):\n  File \"/usr/local/Cellar/apache-spark/3.0.1/libexec/python/lib/pyspark.zip/pyspark/worker.py\", line 604, in main\n    process()\n  File \"/usr/local/Cellar/apache-spark/3.0.1/libexec/python/lib/pyspark.zip/pyspark/worker.py\", line 596, in process\n    serializer.dump_stream(out_iter, outfile)\n  File \"/usr/local/Cellar/apache-spark/3.0.1/libexec/python/lib/pyspark.zip/pyspark/serializers.py\", line 211, in dump_stream\n    self.serializer.dump_stream(self._batched(iterator), stream)\n  File \"/usr/local/Cellar/apache-spark/3.0.1/libexec/python/lib/pyspark.zip/pyspark/serializers.py\", line 132, in dump_stream\n    for obj in iterator:\n  File \"/usr/local/Cellar/apache-spark/3.0.1/libexec/python/lib/pyspark.zip/pyspark/serializers.py\", line 200, in _batched\n    for item in iterator:\n  File \"/usr/local/Cellar/apache-spark/3.0.1/libexec/python/lib/pyspark.zip/pyspark/worker.py\", line 450, in mapper\n    result = tuple(f(*[a[o] for o in arg_offsets]) for (arg_offsets, f) in udfs)\n  File \"/usr/local/Cellar/apache-spark/3.0.1/libexec/python/lib/pyspark.zip/pyspark/worker.py\", line 450, in <genexpr>\n    result = tuple(f(*[a[o] for o in arg_offsets]) for (arg_offsets, f) in udfs)\n  File \"/usr/local/Cellar/apache-spark/3.0.1/libexec/python/lib/pyspark.zip/pyspark/worker.py\", line 85, in <lambda>\n    return lambda *a: f(*a)\n  File \"/usr/local/Cellar/apache-spark/3.0.1/libexec/python/lib/pyspark.zip/pyspark/util.py\", line 73, in wrapper\n    return f(*args, **kwargs)\n  File \"<ipython-input-46-bdc4338feb14>\", line 1, in <lambda>\n  File \"<ipython-input-44-3d063221ec97>\", line 2, in yeojohnson\nTypeError: '>=' not supported between instances of 'NoneType' and 'int'\n"
     ]
    }
   ],
   "source": [
    "df_origin1.select(\"valeur1\").describe().show()"
   ]
  },
  {
   "cell_type": "code",
   "execution_count": 48,
   "metadata": {},
   "outputs": [
    {
     "ename": "PythonException",
     "evalue": "\n  An exception was thrown from the Python worker. Please see the stack trace below.\nTraceback (most recent call last):\n  File \"/usr/local/Cellar/apache-spark/3.0.1/libexec/python/lib/pyspark.zip/pyspark/worker.py\", line 604, in main\n    process()\n  File \"/usr/local/Cellar/apache-spark/3.0.1/libexec/python/lib/pyspark.zip/pyspark/worker.py\", line 596, in process\n    serializer.dump_stream(out_iter, outfile)\n  File \"/usr/local/Cellar/apache-spark/3.0.1/libexec/python/lib/pyspark.zip/pyspark/serializers.py\", line 211, in dump_stream\n    self.serializer.dump_stream(self._batched(iterator), stream)\n  File \"/usr/local/Cellar/apache-spark/3.0.1/libexec/python/lib/pyspark.zip/pyspark/serializers.py\", line 132, in dump_stream\n    for obj in iterator:\n  File \"/usr/local/Cellar/apache-spark/3.0.1/libexec/python/lib/pyspark.zip/pyspark/serializers.py\", line 200, in _batched\n    for item in iterator:\n  File \"/usr/local/Cellar/apache-spark/3.0.1/libexec/python/lib/pyspark.zip/pyspark/worker.py\", line 450, in mapper\n    result = tuple(f(*[a[o] for o in arg_offsets]) for (arg_offsets, f) in udfs)\n  File \"/usr/local/Cellar/apache-spark/3.0.1/libexec/python/lib/pyspark.zip/pyspark/worker.py\", line 450, in <genexpr>\n    result = tuple(f(*[a[o] for o in arg_offsets]) for (arg_offsets, f) in udfs)\n  File \"/usr/local/Cellar/apache-spark/3.0.1/libexec/python/lib/pyspark.zip/pyspark/worker.py\", line 85, in <lambda>\n    return lambda *a: f(*a)\n  File \"/usr/local/Cellar/apache-spark/3.0.1/libexec/python/lib/pyspark.zip/pyspark/util.py\", line 73, in wrapper\n    return f(*args, **kwargs)\n  File \"<ipython-input-43-941b3e4d3161>\", line 1, in <lambda>\n  File \"<ipython-input-7-3d063221ec97>\", line 2, in yeojohnson\nTypeError: '>=' not supported between instances of 'NoneType' and 'int'\n",
     "output_type": "error",
     "traceback": [
      "\u001b[0;31m---------------------------------------------------------------------------\u001b[0m",
      "\u001b[0;31mPythonException\u001b[0m                           Traceback (most recent call last)",
      "\u001b[0;32m<ipython-input-48-5bddc5946c89>\u001b[0m in \u001b[0;36m<module>\u001b[0;34m\u001b[0m\n\u001b[1;32m      1\u001b[0m \u001b[0mdf_origin1\u001b[0m \u001b[0;34m=\u001b[0m \u001b[0mdf_origin1\u001b[0m\u001b[0;34m.\u001b[0m\u001b[0mwithColumn\u001b[0m\u001b[0;34m(\u001b[0m\u001b[0;34m\"valeur\"\u001b[0m\u001b[0;34m,\u001b[0m \u001b[0mcol\u001b[0m\u001b[0;34m(\u001b[0m\u001b[0;34m\"valeur\"\u001b[0m\u001b[0;34m)\u001b[0m\u001b[0;34m.\u001b[0m\u001b[0mcast\u001b[0m\u001b[0;34m(\u001b[0m\u001b[0mDoubleType\u001b[0m\u001b[0;34m(\u001b[0m\u001b[0;34m)\u001b[0m\u001b[0;34m)\u001b[0m\u001b[0;34m)\u001b[0m\u001b[0;34m\u001b[0m\u001b[0;34m\u001b[0m\u001b[0m\n\u001b[1;32m      2\u001b[0m \u001b[0;34m\u001b[0m\u001b[0m\n\u001b[0;32m----> 3\u001b[0;31m \u001b[0mdf_origin1\u001b[0m\u001b[0;34m.\u001b[0m\u001b[0mselect\u001b[0m\u001b[0;34m(\u001b[0m\u001b[0;34m\"valeur\"\u001b[0m\u001b[0;34m)\u001b[0m\u001b[0;34m.\u001b[0m\u001b[0mdescribe\u001b[0m\u001b[0;34m(\u001b[0m\u001b[0;34m)\u001b[0m\u001b[0;34m.\u001b[0m\u001b[0mshow\u001b[0m\u001b[0;34m(\u001b[0m\u001b[0;34m)\u001b[0m\u001b[0;34m\u001b[0m\u001b[0;34m\u001b[0m\u001b[0m\n\u001b[0m",
      "\u001b[0;32m/usr/local/Cellar/apache-spark/3.0.1/libexec/python/pyspark/sql/dataframe.py\u001b[0m in \u001b[0;36mdescribe\u001b[0;34m(self, *cols)\u001b[0m\n\u001b[1;32m   1489\u001b[0m         \u001b[0;32mif\u001b[0m \u001b[0mlen\u001b[0m\u001b[0;34m(\u001b[0m\u001b[0mcols\u001b[0m\u001b[0;34m)\u001b[0m \u001b[0;34m==\u001b[0m \u001b[0;36m1\u001b[0m \u001b[0;32mand\u001b[0m \u001b[0misinstance\u001b[0m\u001b[0;34m(\u001b[0m\u001b[0mcols\u001b[0m\u001b[0;34m[\u001b[0m\u001b[0;36m0\u001b[0m\u001b[0;34m]\u001b[0m\u001b[0;34m,\u001b[0m \u001b[0mlist\u001b[0m\u001b[0;34m)\u001b[0m\u001b[0;34m:\u001b[0m\u001b[0;34m\u001b[0m\u001b[0;34m\u001b[0m\u001b[0m\n\u001b[1;32m   1490\u001b[0m             \u001b[0mcols\u001b[0m \u001b[0;34m=\u001b[0m \u001b[0mcols\u001b[0m\u001b[0;34m[\u001b[0m\u001b[0;36m0\u001b[0m\u001b[0;34m]\u001b[0m\u001b[0;34m\u001b[0m\u001b[0;34m\u001b[0m\u001b[0m\n\u001b[0;32m-> 1491\u001b[0;31m         \u001b[0mjdf\u001b[0m \u001b[0;34m=\u001b[0m \u001b[0mself\u001b[0m\u001b[0;34m.\u001b[0m\u001b[0m_jdf\u001b[0m\u001b[0;34m.\u001b[0m\u001b[0mdescribe\u001b[0m\u001b[0;34m(\u001b[0m\u001b[0mself\u001b[0m\u001b[0;34m.\u001b[0m\u001b[0m_jseq\u001b[0m\u001b[0;34m(\u001b[0m\u001b[0mcols\u001b[0m\u001b[0;34m)\u001b[0m\u001b[0;34m)\u001b[0m\u001b[0;34m\u001b[0m\u001b[0;34m\u001b[0m\u001b[0m\n\u001b[0m\u001b[1;32m   1492\u001b[0m         \u001b[0;32mreturn\u001b[0m \u001b[0mDataFrame\u001b[0m\u001b[0;34m(\u001b[0m\u001b[0mjdf\u001b[0m\u001b[0;34m,\u001b[0m \u001b[0mself\u001b[0m\u001b[0;34m.\u001b[0m\u001b[0msql_ctx\u001b[0m\u001b[0;34m)\u001b[0m\u001b[0;34m\u001b[0m\u001b[0;34m\u001b[0m\u001b[0m\n\u001b[1;32m   1493\u001b[0m \u001b[0;34m\u001b[0m\u001b[0m\n",
      "\u001b[0;32m~/opt/anaconda3/lib/python3.8/site-packages/py4j/java_gateway.py\u001b[0m in \u001b[0;36m__call__\u001b[0;34m(self, *args)\u001b[0m\n\u001b[1;32m   1302\u001b[0m \u001b[0;34m\u001b[0m\u001b[0m\n\u001b[1;32m   1303\u001b[0m         \u001b[0manswer\u001b[0m \u001b[0;34m=\u001b[0m \u001b[0mself\u001b[0m\u001b[0;34m.\u001b[0m\u001b[0mgateway_client\u001b[0m\u001b[0;34m.\u001b[0m\u001b[0msend_command\u001b[0m\u001b[0;34m(\u001b[0m\u001b[0mcommand\u001b[0m\u001b[0;34m)\u001b[0m\u001b[0;34m\u001b[0m\u001b[0;34m\u001b[0m\u001b[0m\n\u001b[0;32m-> 1304\u001b[0;31m         return_value = get_return_value(\n\u001b[0m\u001b[1;32m   1305\u001b[0m             answer, self.gateway_client, self.target_id, self.name)\n\u001b[1;32m   1306\u001b[0m \u001b[0;34m\u001b[0m\u001b[0m\n",
      "\u001b[0;32m/usr/local/Cellar/apache-spark/3.0.1/libexec/python/pyspark/sql/utils.py\u001b[0m in \u001b[0;36mdeco\u001b[0;34m(*a, **kw)\u001b[0m\n\u001b[1;32m    115\u001b[0m                 \u001b[0;31m# Hide where the exception came from that shows a non-Pythonic\u001b[0m\u001b[0;34m\u001b[0m\u001b[0;34m\u001b[0m\u001b[0;34m\u001b[0m\u001b[0m\n\u001b[1;32m    116\u001b[0m                 \u001b[0;31m# JVM exception message.\u001b[0m\u001b[0;34m\u001b[0m\u001b[0;34m\u001b[0m\u001b[0;34m\u001b[0m\u001b[0m\n\u001b[0;32m--> 117\u001b[0;31m                 \u001b[0;32mraise\u001b[0m \u001b[0mconverted\u001b[0m \u001b[0;32mfrom\u001b[0m \u001b[0;32mNone\u001b[0m\u001b[0;34m\u001b[0m\u001b[0;34m\u001b[0m\u001b[0m\n\u001b[0m\u001b[1;32m    118\u001b[0m             \u001b[0;32melse\u001b[0m\u001b[0;34m:\u001b[0m\u001b[0;34m\u001b[0m\u001b[0;34m\u001b[0m\u001b[0m\n\u001b[1;32m    119\u001b[0m                 \u001b[0;32mraise\u001b[0m\u001b[0;34m\u001b[0m\u001b[0;34m\u001b[0m\u001b[0m\n",
      "\u001b[0;31mPythonException\u001b[0m: \n  An exception was thrown from the Python worker. Please see the stack trace below.\nTraceback (most recent call last):\n  File \"/usr/local/Cellar/apache-spark/3.0.1/libexec/python/lib/pyspark.zip/pyspark/worker.py\", line 604, in main\n    process()\n  File \"/usr/local/Cellar/apache-spark/3.0.1/libexec/python/lib/pyspark.zip/pyspark/worker.py\", line 596, in process\n    serializer.dump_stream(out_iter, outfile)\n  File \"/usr/local/Cellar/apache-spark/3.0.1/libexec/python/lib/pyspark.zip/pyspark/serializers.py\", line 211, in dump_stream\n    self.serializer.dump_stream(self._batched(iterator), stream)\n  File \"/usr/local/Cellar/apache-spark/3.0.1/libexec/python/lib/pyspark.zip/pyspark/serializers.py\", line 132, in dump_stream\n    for obj in iterator:\n  File \"/usr/local/Cellar/apache-spark/3.0.1/libexec/python/lib/pyspark.zip/pyspark/serializers.py\", line 200, in _batched\n    for item in iterator:\n  File \"/usr/local/Cellar/apache-spark/3.0.1/libexec/python/lib/pyspark.zip/pyspark/worker.py\", line 450, in mapper\n    result = tuple(f(*[a[o] for o in arg_offsets]) for (arg_offsets, f) in udfs)\n  File \"/usr/local/Cellar/apache-spark/3.0.1/libexec/python/lib/pyspark.zip/pyspark/worker.py\", line 450, in <genexpr>\n    result = tuple(f(*[a[o] for o in arg_offsets]) for (arg_offsets, f) in udfs)\n  File \"/usr/local/Cellar/apache-spark/3.0.1/libexec/python/lib/pyspark.zip/pyspark/worker.py\", line 85, in <lambda>\n    return lambda *a: f(*a)\n  File \"/usr/local/Cellar/apache-spark/3.0.1/libexec/python/lib/pyspark.zip/pyspark/util.py\", line 73, in wrapper\n    return f(*args, **kwargs)\n  File \"<ipython-input-43-941b3e4d3161>\", line 1, in <lambda>\n  File \"<ipython-input-7-3d063221ec97>\", line 2, in yeojohnson\nTypeError: '>=' not supported between instances of 'NoneType' and 'int'\n"
     ]
    }
   ],
   "source": [
    "\n",
    "df_origin1 = df_origin1.withColumn(\"valeur\", col(\"valeur\").cast(DoubleType()))\n",
    "\n",
    "df_origin1.select(\"valeur\").describe().show()\n"
   ]
  },
  {
   "cell_type": "code",
   "execution_count": 40,
   "metadata": {},
   "outputs": [
    {
     "name": "stdout",
     "output_type": "stream",
     "text": [
      "+-------+------------------+\n",
      "|summary|            valeur|\n",
      "+-------+------------------+\n",
      "|  count|           5317699|\n",
      "|   mean| 6792.208909906333|\n",
      "| stddev|12711.033593267775|\n",
      "|    min|               0.0|\n",
      "|    max|          567852.0|\n",
      "+-------+------------------+\n",
      "\n"
     ]
    }
   ],
   "source": [
    "df_origin.select(\"valeur\").describe().show()"
   ]
  },
  {
   "cell_type": "code",
   "execution_count": 27,
   "metadata": {},
   "outputs": [
    {
     "ename": "PythonException",
     "evalue": "\n  An exception was thrown from the Python worker. Please see the stack trace below.\nTraceback (most recent call last):\n  File \"/usr/local/Cellar/apache-spark/3.0.1/libexec/python/lib/pyspark.zip/pyspark/worker.py\", line 604, in main\n    process()\n  File \"/usr/local/Cellar/apache-spark/3.0.1/libexec/python/lib/pyspark.zip/pyspark/worker.py\", line 596, in process\n    serializer.dump_stream(out_iter, outfile)\n  File \"/usr/local/Cellar/apache-spark/3.0.1/libexec/python/lib/pyspark.zip/pyspark/serializers.py\", line 211, in dump_stream\n    self.serializer.dump_stream(self._batched(iterator), stream)\n  File \"/usr/local/Cellar/apache-spark/3.0.1/libexec/python/lib/pyspark.zip/pyspark/serializers.py\", line 132, in dump_stream\n    for obj in iterator:\n  File \"/usr/local/Cellar/apache-spark/3.0.1/libexec/python/lib/pyspark.zip/pyspark/serializers.py\", line 200, in _batched\n    for item in iterator:\n  File \"/usr/local/Cellar/apache-spark/3.0.1/libexec/python/lib/pyspark.zip/pyspark/worker.py\", line 450, in mapper\n    result = tuple(f(*[a[o] for o in arg_offsets]) for (arg_offsets, f) in udfs)\n  File \"/usr/local/Cellar/apache-spark/3.0.1/libexec/python/lib/pyspark.zip/pyspark/worker.py\", line 450, in <genexpr>\n    result = tuple(f(*[a[o] for o in arg_offsets]) for (arg_offsets, f) in udfs)\n  File \"/usr/local/Cellar/apache-spark/3.0.1/libexec/python/lib/pyspark.zip/pyspark/worker.py\", line 85, in <lambda>\n    return lambda *a: f(*a)\n  File \"/usr/local/Cellar/apache-spark/3.0.1/libexec/python/lib/pyspark.zip/pyspark/util.py\", line 73, in wrapper\n    return f(*args, **kwargs)\n  File \"<ipython-input-14-b04124869315>\", line 1, in <lambda>\n  File \"<ipython-input-7-3d063221ec97>\", line 2, in yeojohnson\nTypeError: '>=' not supported between instances of 'NoneType' and 'int'\n",
     "output_type": "error",
     "traceback": [
      "\u001b[0;31m---------------------------------------------------------------------------\u001b[0m",
      "\u001b[0;31mPythonException\u001b[0m                           Traceback (most recent call last)",
      "\u001b[0;32m<ipython-input-27-557f6783542d>\u001b[0m in \u001b[0;36m<module>\u001b[0;34m\u001b[0m\n\u001b[0;32m----> 1\u001b[0;31m df_origin1_tmp = df_origin1.select(\n\u001b[0m\u001b[1;32m      2\u001b[0m     \u001b[0m_mean\u001b[0m\u001b[0;34m(\u001b[0m\u001b[0mcol\u001b[0m\u001b[0;34m(\u001b[0m\u001b[0;34m'valeur'\u001b[0m\u001b[0;34m)\u001b[0m\u001b[0;34m)\u001b[0m\u001b[0;34m.\u001b[0m\u001b[0malias\u001b[0m\u001b[0;34m(\u001b[0m\u001b[0;34m'mean'\u001b[0m\u001b[0;34m)\u001b[0m\u001b[0;34m,\u001b[0m\u001b[0;34m\u001b[0m\u001b[0;34m\u001b[0m\u001b[0m\n\u001b[1;32m      3\u001b[0m     \u001b[0m_stddev\u001b[0m\u001b[0;34m(\u001b[0m\u001b[0mcol\u001b[0m\u001b[0;34m(\u001b[0m\u001b[0;34m'valeur'\u001b[0m\u001b[0;34m)\u001b[0m\u001b[0;34m)\u001b[0m\u001b[0;34m.\u001b[0m\u001b[0malias\u001b[0m\u001b[0;34m(\u001b[0m\u001b[0;34m'std'\u001b[0m\u001b[0;34m)\u001b[0m\u001b[0;34m\u001b[0m\u001b[0;34m\u001b[0m\u001b[0m\n\u001b[1;32m      4\u001b[0m ).collect()\n\u001b[1;32m      5\u001b[0m \u001b[0;34m\u001b[0m\u001b[0m\n",
      "\u001b[0;32m/usr/local/Cellar/apache-spark/3.0.1/libexec/python/pyspark/sql/dataframe.py\u001b[0m in \u001b[0;36mcollect\u001b[0;34m(self)\u001b[0m\n\u001b[1;32m    675\u001b[0m         \"\"\"\n\u001b[1;32m    676\u001b[0m         \u001b[0;32mwith\u001b[0m \u001b[0mSCCallSiteSync\u001b[0m\u001b[0;34m(\u001b[0m\u001b[0mself\u001b[0m\u001b[0;34m.\u001b[0m\u001b[0m_sc\u001b[0m\u001b[0;34m)\u001b[0m \u001b[0;32mas\u001b[0m \u001b[0mcss\u001b[0m\u001b[0;34m:\u001b[0m\u001b[0;34m\u001b[0m\u001b[0;34m\u001b[0m\u001b[0m\n\u001b[0;32m--> 677\u001b[0;31m             \u001b[0msock_info\u001b[0m \u001b[0;34m=\u001b[0m \u001b[0mself\u001b[0m\u001b[0;34m.\u001b[0m\u001b[0m_jdf\u001b[0m\u001b[0;34m.\u001b[0m\u001b[0mcollectToPython\u001b[0m\u001b[0;34m(\u001b[0m\u001b[0;34m)\u001b[0m\u001b[0;34m\u001b[0m\u001b[0;34m\u001b[0m\u001b[0m\n\u001b[0m\u001b[1;32m    678\u001b[0m         \u001b[0;32mreturn\u001b[0m \u001b[0mlist\u001b[0m\u001b[0;34m(\u001b[0m\u001b[0m_load_from_socket\u001b[0m\u001b[0;34m(\u001b[0m\u001b[0msock_info\u001b[0m\u001b[0;34m,\u001b[0m \u001b[0mBatchedSerializer\u001b[0m\u001b[0;34m(\u001b[0m\u001b[0mPickleSerializer\u001b[0m\u001b[0;34m(\u001b[0m\u001b[0;34m)\u001b[0m\u001b[0;34m)\u001b[0m\u001b[0;34m)\u001b[0m\u001b[0;34m)\u001b[0m\u001b[0;34m\u001b[0m\u001b[0;34m\u001b[0m\u001b[0m\n\u001b[1;32m    679\u001b[0m \u001b[0;34m\u001b[0m\u001b[0m\n",
      "\u001b[0;32m~/opt/anaconda3/lib/python3.8/site-packages/py4j/java_gateway.py\u001b[0m in \u001b[0;36m__call__\u001b[0;34m(self, *args)\u001b[0m\n\u001b[1;32m   1302\u001b[0m \u001b[0;34m\u001b[0m\u001b[0m\n\u001b[1;32m   1303\u001b[0m         \u001b[0manswer\u001b[0m \u001b[0;34m=\u001b[0m \u001b[0mself\u001b[0m\u001b[0;34m.\u001b[0m\u001b[0mgateway_client\u001b[0m\u001b[0;34m.\u001b[0m\u001b[0msend_command\u001b[0m\u001b[0;34m(\u001b[0m\u001b[0mcommand\u001b[0m\u001b[0;34m)\u001b[0m\u001b[0;34m\u001b[0m\u001b[0;34m\u001b[0m\u001b[0m\n\u001b[0;32m-> 1304\u001b[0;31m         return_value = get_return_value(\n\u001b[0m\u001b[1;32m   1305\u001b[0m             answer, self.gateway_client, self.target_id, self.name)\n\u001b[1;32m   1306\u001b[0m \u001b[0;34m\u001b[0m\u001b[0m\n",
      "\u001b[0;32m/usr/local/Cellar/apache-spark/3.0.1/libexec/python/pyspark/sql/utils.py\u001b[0m in \u001b[0;36mdeco\u001b[0;34m(*a, **kw)\u001b[0m\n\u001b[1;32m    115\u001b[0m                 \u001b[0;31m# Hide where the exception came from that shows a non-Pythonic\u001b[0m\u001b[0;34m\u001b[0m\u001b[0;34m\u001b[0m\u001b[0;34m\u001b[0m\u001b[0m\n\u001b[1;32m    116\u001b[0m                 \u001b[0;31m# JVM exception message.\u001b[0m\u001b[0;34m\u001b[0m\u001b[0;34m\u001b[0m\u001b[0;34m\u001b[0m\u001b[0m\n\u001b[0;32m--> 117\u001b[0;31m                 \u001b[0;32mraise\u001b[0m \u001b[0mconverted\u001b[0m \u001b[0;32mfrom\u001b[0m \u001b[0;32mNone\u001b[0m\u001b[0;34m\u001b[0m\u001b[0;34m\u001b[0m\u001b[0m\n\u001b[0m\u001b[1;32m    118\u001b[0m             \u001b[0;32melse\u001b[0m\u001b[0;34m:\u001b[0m\u001b[0;34m\u001b[0m\u001b[0;34m\u001b[0m\u001b[0m\n\u001b[1;32m    119\u001b[0m                 \u001b[0;32mraise\u001b[0m\u001b[0;34m\u001b[0m\u001b[0;34m\u001b[0m\u001b[0m\n",
      "\u001b[0;31mPythonException\u001b[0m: \n  An exception was thrown from the Python worker. Please see the stack trace below.\nTraceback (most recent call last):\n  File \"/usr/local/Cellar/apache-spark/3.0.1/libexec/python/lib/pyspark.zip/pyspark/worker.py\", line 604, in main\n    process()\n  File \"/usr/local/Cellar/apache-spark/3.0.1/libexec/python/lib/pyspark.zip/pyspark/worker.py\", line 596, in process\n    serializer.dump_stream(out_iter, outfile)\n  File \"/usr/local/Cellar/apache-spark/3.0.1/libexec/python/lib/pyspark.zip/pyspark/serializers.py\", line 211, in dump_stream\n    self.serializer.dump_stream(self._batched(iterator), stream)\n  File \"/usr/local/Cellar/apache-spark/3.0.1/libexec/python/lib/pyspark.zip/pyspark/serializers.py\", line 132, in dump_stream\n    for obj in iterator:\n  File \"/usr/local/Cellar/apache-spark/3.0.1/libexec/python/lib/pyspark.zip/pyspark/serializers.py\", line 200, in _batched\n    for item in iterator:\n  File \"/usr/local/Cellar/apache-spark/3.0.1/libexec/python/lib/pyspark.zip/pyspark/worker.py\", line 450, in mapper\n    result = tuple(f(*[a[o] for o in arg_offsets]) for (arg_offsets, f) in udfs)\n  File \"/usr/local/Cellar/apache-spark/3.0.1/libexec/python/lib/pyspark.zip/pyspark/worker.py\", line 450, in <genexpr>\n    result = tuple(f(*[a[o] for o in arg_offsets]) for (arg_offsets, f) in udfs)\n  File \"/usr/local/Cellar/apache-spark/3.0.1/libexec/python/lib/pyspark.zip/pyspark/worker.py\", line 85, in <lambda>\n    return lambda *a: f(*a)\n  File \"/usr/local/Cellar/apache-spark/3.0.1/libexec/python/lib/pyspark.zip/pyspark/util.py\", line 73, in wrapper\n    return f(*args, **kwargs)\n  File \"<ipython-input-14-b04124869315>\", line 1, in <lambda>\n  File \"<ipython-input-7-3d063221ec97>\", line 2, in yeojohnson\nTypeError: '>=' not supported between instances of 'NoneType' and 'int'\n"
     ]
    }
   ],
   "source": [
    "\n",
    "\n",
    "mean = df_origin1_tmp[0]['mean']\n",
    "std = df_origin1_tmp[0]['std']\n",
    "\n",
    "print(mean)\n",
    "print(std)"
   ]
  },
  {
   "cell_type": "code",
   "execution_count": 133,
   "metadata": {},
   "outputs": [],
   "source": [
    "df = spark.read.\\\n",
    "       option(\"header\",\"true\").\\\n",
    "       option(\"delimiter\",\";\").\\\n",
    "       csv(\"/Users/youssouf/Documents/simboxv2/transformed_var.csv\")"
   ]
  },
  {
   "cell_type": "code",
   "execution_count": 134,
   "metadata": {},
   "outputs": [],
   "source": [
    "inputcol = df.columns\n",
    "inputcol.remove(\"date_appel\")\n",
    "inputcol.remove(\"statut\")\n",
    "inputcol.remove(\"msisdn\")\n",
    "inputcol.remove(\"distributeur\")"
   ]
  },
  {
   "cell_type": "code",
   "execution_count": 135,
   "metadata": {},
   "outputs": [
    {
     "data": {
      "text/plain": [
       "['valeur',\n",
       " 'vol_tot_data',\n",
       " 'vol_tot_voix_offnet',\n",
       " 'vol_tot_voix_onet',\n",
       " 'nbre_sms_out',\n",
       " 'nbre_dist_sms_out',\n",
       " 'nbre_voix_out',\n",
       " 'dur_out',\n",
       " 'nbre_dist_voix_out',\n",
       " 'nbre_cell_out',\n",
       " 'nbre_sms_in',\n",
       " 'nbre_dist_sms_in',\n",
       " 'nbre_voix_in',\n",
       " 'dur_in',\n",
       " 'nbre_dist_voix_in',\n",
       " 'nbre_sms_night',\n",
       " 'nbre_dist_sms_night',\n",
       " 'nbre_voix_night',\n",
       " 'dur_night',\n",
       " 'nbre_dist_voix_night',\n",
       " 'statut_voix',\n",
       " 'statut_sms',\n",
       " 'statut_ff',\n",
       " 'statut_sva',\n",
       " 'statut_data',\n",
       " 'statut_om']"
      ]
     },
     "execution_count": 135,
     "metadata": {},
     "output_type": "execute_result"
    }
   ],
   "source": [
    "inputcol"
   ]
  },
  {
   "cell_type": "code",
   "execution_count": 136,
   "metadata": {},
   "outputs": [
    {
     "data": {
      "text/plain": [
       "26"
      ]
     },
     "execution_count": 136,
     "metadata": {},
     "output_type": "execute_result"
    }
   ],
   "source": [
    "len(inputcol)"
   ]
  },
  {
   "cell_type": "code",
   "execution_count": 137,
   "metadata": {},
   "outputs": [],
   "source": [
    "columns_to_scaled = list((\"valeur\"  , \"vol_tot_data\"  , \"vol_tot_voix_offnet\",  \"vol_tot_voix_onet\" ,\n",
    "          \"nbre_sms_out\"   ,      \"nbre_dist_sms_out\"  ,  \"nbre_voix_out\"   ,     \"dur_out\"    ,\n",
    "          \"nbre_dist_voix_out\" ,  \"nbre_cell_out\"  ,      \"nbre_sms_in\"    ,      \"nbre_dist_sms_in\"   ,\n",
    "          \"nbre_voix_in\"  ,       \"dur_in\"     ,          \"nbre_dist_voix_in\" ,   \"nbre_sms_night\"    ,\n",
    "          \"nbre_dist_sms_night\" , \"nbre_voix_night\"   ,   \"dur_night\"    ,        \"nbre_dist_voix_night\"))"
   ]
  },
  {
   "cell_type": "code",
   "execution_count": 138,
   "metadata": {},
   "outputs": [
    {
     "data": {
      "text/plain": [
       "20"
      ]
     },
     "execution_count": 138,
     "metadata": {},
     "output_type": "execute_result"
    }
   ],
   "source": [
    "len(columns_to_scaled)"
   ]
  },
  {
   "cell_type": "code",
   "execution_count": 139,
   "metadata": {},
   "outputs": [],
   "source": [
    "columns_not_to_scaled = list((\"statut_voix\", \"statut_sms\", \"statut_ff\", \"statut_sva\", \"statut_data\", \"statut_om\")) \n"
   ]
  },
  {
   "cell_type": "code",
   "execution_count": 143,
   "metadata": {},
   "outputs": [],
   "source": [
    "vv = columns_not_to_scaled + columns_to_scaled"
   ]
  },
  {
   "cell_type": "code",
   "execution_count": 144,
   "metadata": {},
   "outputs": [
    {
     "data": {
      "text/plain": [
       "set()"
      ]
     },
     "execution_count": 144,
     "metadata": {},
     "output_type": "execute_result"
    }
   ],
   "source": [
    "set(vv) - set(inputcol)"
   ]
  },
  {
   "cell_type": "code",
   "execution_count": 145,
   "metadata": {},
   "outputs": [
    {
     "data": {
      "text/plain": [
       "set()"
      ]
     },
     "execution_count": 145,
     "metadata": {},
     "output_type": "execute_result"
    }
   ],
   "source": [
    "set(inputcol) - set(vv)"
   ]
  },
  {
   "cell_type": "code",
   "execution_count": null,
   "metadata": {},
   "outputs": [],
   "source": [
    "GBTClassifier()"
   ]
  },
  {
   "cell_type": "code",
   "execution_count": null,
   "metadata": {},
   "outputs": [],
   "source": []
  },
  {
   "cell_type": "code",
   "execution_count": null,
   "metadata": {},
   "outputs": [],
   "source": []
  },
  {
   "cell_type": "code",
   "execution_count": 165,
   "metadata": {},
   "outputs": [],
   "source": [
    "from datetime import datetime\n"
   ]
  },
  {
   "cell_type": "code",
   "execution_count": 218,
   "metadata": {},
   "outputs": [],
   "source": [
    "def check_fraudeur_date(path_df, date) :\n",
    "    from datetime import datetime\n",
    "\n",
    "    #path_df = \"/Users/youssouf/Downloads/simbox_v4_prediction_\" + model + \"_\" + date + \".parquet\"\n",
    "    #\"/Users/youssouf/Documents/simboxv2/prediction_gbt_vbm_30_v4_dist.parquet\"\n",
    "    df = spark.read.parquet(path_df)\n",
    "    df1 = df.filter(col(\"prediction\") == 1)\n",
    "      \n",
    "    df_fraudeur_FRA = spark.read.option(\"header\", True) \\\n",
    "                        .option(\"delimiter\", \";\") \\\n",
    "                        .csv(\"/Users/youssouf/Downloads/simbox_fra_2809_0610.csv\")\n",
    "    df_fraudeur_FRA = df_fraudeur_FRA.withColumn(\"msisdn\", concat(lit(\"22507\") , col(\"MSISDN\")))\n",
    "\n",
    "    d = datetime.strptime(date , '%Y%m%d')\n",
    "    d = datetime.strftime(d, \"%d/%m/%Y\")\n",
    "    \n",
    "    df_fraudeur = df_fraudeur_FRA.filter(col(\"Date_DETECTION\") == d)\n",
    "    \n",
    "    res = {\"NOMBRE DE DETECTION\" : df.filter(col(\"prediction\") == 1).count() , \n",
    "           \"NOMBRE DE FRA\" : df_fraudeur.count() ,\n",
    "           \"NOMBRE COMMUN\" : df1.join(df_fraudeur, [\"msisdn\"], \"inner\").count(), \n",
    "           \"NOMBRE FRAU/NON-FRAU\": df.groupBy(\"prediction\").count().show() }\n",
    "\n",
    "    return res"
   ]
  },
  {
   "cell_type": "code",
   "execution_count": 187,
   "metadata": {},
   "outputs": [
    {
     "name": "stdout",
     "output_type": "stream",
     "text": [
      "+----------+-------+\n",
      "|prediction|  count|\n",
      "+----------+-------+\n",
      "|       0.0|4274250|\n",
      "|       1.0|3267340|\n",
      "+----------+-------+\n",
      "\n"
     ]
    },
    {
     "data": {
      "text/plain": [
       "{'NOMBRE DE DETECTION': 3267340,\n",
       " 'NOMBRE DE FRA': 334,\n",
       " 'NOMBRE COMMUN': 253,\n",
       " 'NOMBRE FRAU/NON-FRAU': None}"
      ]
     },
     "execution_count": 187,
     "metadata": {},
     "output_type": "execute_result"
    }
   ],
   "source": [
    "check_fraudeur_date(\"20210930\", \"gbt\")"
   ]
  },
  {
   "cell_type": "code",
   "execution_count": 219,
   "metadata": {},
   "outputs": [
    {
     "name": "stdout",
     "output_type": "stream",
     "text": [
      "+----------+-------+\n",
      "|prediction|  count|\n",
      "+----------+-------+\n",
      "|       0.0|4056343|\n",
      "|       1.0|3485247|\n",
      "+----------+-------+\n",
      "\n"
     ]
    },
    {
     "data": {
      "text/plain": [
       "{'NOMBRE DE DETECTION': 3485247,\n",
       " 'NOMBRE DE FRA': 334,\n",
       " 'NOMBRE COMMUN': 256,\n",
       " 'NOMBRE FRAU/NON-FRAU': None}"
      ]
     },
     "execution_count": 219,
     "metadata": {},
     "output_type": "execute_result"
    }
   ],
   "source": [
    "check_fraudeur_date(\"/Users/youssouf/Documents/simboxv2/prediction_dt15_vbm_30_v4_dist.parquet\", \"20210930\")"
   ]
  },
  {
   "cell_type": "code",
   "execution_count": 220,
   "metadata": {},
   "outputs": [
    {
     "name": "stdout",
     "output_type": "stream",
     "text": [
      "+-------+------------+-----------+----------+---------+----------+-----------+---------+------+------------+-------------------+-----------------+----------+-------------+------------+-----------------+-------------+-------+------------------+-------------+-----------+----------------+------------+------+-----------------+--------------+-------------------+---------------+---------+--------------------+-----------------+----------------+--------------------+-------------+--------------------+----------+\n",
      "|msisdn1|distributeur|statut_voix|statut_sms|statut_ff|statut_sva|statut_data|statut_om|valeur|vol_tot_data|vol_tot_voix_offnet|vol_tot_voix_onet|date_appel|       msisdn|nbre_sms_out|nbre_dist_sms_out|nbre_voix_out|dur_out|nbre_dist_voix_out|nbre_cell_out|nbre_sms_in|nbre_dist_sms_in|nbre_voix_in|dur_in|nbre_dist_voix_in|nbre_sms_night|nbre_dist_sms_night|nbre_voix_night|dur_night|nbre_dist_voix_night|distributeurIndex|distributeur_vec|            features|rawPrediction|         probability|prediction|\n",
      "+-------+------------+-----------+----------+---------+----------+-----------+---------+------+------------+-------------------+-----------------+----------+-------------+------------+-----------------+-------------+-------+------------------+-------------+-----------+----------------+------------+------+-----------------+--------------+-------------------+---------------+---------+--------------------+-----------------+----------------+--------------------+-------------+--------------------+----------+\n",
      "|      0|         SII|        0.0|       0.0|      0.0|       0.0|        0.0|      0.0|   0.0|         0.0|                0.0|              0.0|  20210930|2250700002178|         0.0|              0.0|          0.0|    0.0|               0.0|          0.0|        4.0|             3.0|         0.0|   0.0|              0.0|           0.0|                0.0|            0.0|      0.0|                 0.0|              0.0|  (16,[0],[1.0])|(43,[16,17,27],[4...|  [2.0,100.0]|[0.01960784313725...|       1.0|\n",
      "|      0|         SII|        0.0|       0.0|      0.0|       0.0|        0.0|      0.0|   0.0|         0.0|                0.0|              0.0|  20210930|2250700005114|         0.0|              0.0|          0.0|    0.0|               0.0|          0.0|        5.0|             1.0|         0.0|   0.0|              0.0|           0.0|                0.0|            0.0|      0.0|                 0.0|              0.0|  (16,[0],[1.0])|(43,[16,17,27],[5...|  [2.0,100.0]|[0.01960784313725...|       1.0|\n",
      "|      0|         SII|        0.0|       0.0|      0.0|       0.0|        0.0|      0.0|   0.0|         0.0|                0.0|              0.0|  20210930|2250700006699|         1.0|              1.0|          5.0|  187.0|               3.0|          5.0|        4.0|             1.0|         7.0| 284.0|              3.0|           0.0|                0.0|            0.0|      0.0|                 0.0|              0.0|  (16,[0],[1.0])|(43,[10,11,12,13,...|  [11.0,18.0]|[0.37931034482758...|       1.0|\n",
      "|      0|         SII|        0.0|       0.0|      0.0|       0.0|        0.0|      0.0|   0.0|         0.0|                0.0|              0.0|  20210930|2250700007494|         0.0|              0.0|          0.0|    0.0|               0.0|          0.0|        1.0|             1.0|         4.0| 147.0|              2.0|           0.0|                0.0|            0.0|      0.0|                 0.0|              0.0|  (16,[0],[1.0])|(43,[16,17,18,19,...|  [0.0,456.0]|           [0.0,1.0]|       1.0|\n",
      "|      0|         SII|        0.0|       0.0|      0.0|       0.0|        0.0|      0.0|   0.0|         0.0|                0.0|              0.0|  20210930|2250700008140|         3.0|              2.0|         22.0| 3503.0|              10.0|         11.0|        3.0|             2.0|         3.0| 568.0|              2.0|           0.0|                0.0|            0.0|      0.0|                 0.0|              0.0|  (16,[0],[1.0])|(43,[10,11,12,13,...|    [7.0,0.0]|           [1.0,0.0]|       0.0|\n",
      "+-------+------------+-----------+----------+---------+----------+-----------+---------+------+------------+-------------------+-----------------+----------+-------------+------------+-----------------+-------------+-------+------------------+-------------+-----------+----------------+------------+------+-----------------+--------------+-------------------+---------------+---------+--------------------+-----------------+----------------+--------------------+-------------+--------------------+----------+\n",
      "only showing top 5 rows\n",
      "\n"
     ]
    }
   ],
   "source": [
    "df_dt = spark.read.parquet(\"/Users/youssouf/Documents/simboxv2/prediction_dt15_vbm_30_v4_dist.parquet\")\n",
    "df_dt.show(5)\n"
   ]
  },
  {
   "cell_type": "code",
   "execution_count": 221,
   "metadata": {},
   "outputs": [
    {
     "name": "stdout",
     "output_type": "stream",
     "text": [
      "+-------+------------+-----------+----------+---------+----------+-----------+---------+------+------------+-------------------+-----------------+----------+-------------+------------+-----------------+-------------+-------+------------------+-------------+-----------+----------------+------------+------+-----------------+--------------+-------------------+---------------+---------+--------------------+-----------------+----------------+--------------------+--------------------+--------------------+----------+\n",
      "|msisdn1|distributeur|statut_voix|statut_sms|statut_ff|statut_sva|statut_data|statut_om|valeur|vol_tot_data|vol_tot_voix_offnet|vol_tot_voix_onet|date_appel|       msisdn|nbre_sms_out|nbre_dist_sms_out|nbre_voix_out|dur_out|nbre_dist_voix_out|nbre_cell_out|nbre_sms_in|nbre_dist_sms_in|nbre_voix_in|dur_in|nbre_dist_voix_in|nbre_sms_night|nbre_dist_sms_night|nbre_voix_night|dur_night|nbre_dist_voix_night|distributeurIndex|distributeur_vec|            features|       rawPrediction|         probability|prediction|\n",
      "+-------+------------+-----------+----------+---------+----------+-----------+---------+------+------------+-------------------+-----------------+----------+-------------+------------+-----------------+-------------+-------+------------------+-------------+-----------+----------------+------------+------+-----------------+--------------+-------------------+---------------+---------+--------------------+-----------------+----------------+--------------------+--------------------+--------------------+----------+\n",
      "|      0|         SII|        0.0|       0.0|      0.0|       0.0|        0.0|      0.0|   0.0|         0.0|                0.0|              0.0|  20210930|2250700002178|         0.0|              0.0|          0.0|    0.0|               0.0|          0.0|        4.0|             3.0|         0.0|   0.0|              0.0|           0.0|                0.0|            0.0|      0.0|                 0.0|              0.0|  (16,[0],[1.0])|(43,[16,17,27],[4...|[-0.8471468592744...|[0.15521200857649...|       1.0|\n",
      "|      0|         SII|        0.0|       0.0|      0.0|       0.0|        0.0|      0.0|   0.0|         0.0|                0.0|              0.0|  20210930|2250700005114|         0.0|              0.0|          0.0|    0.0|               0.0|          0.0|        5.0|             1.0|         0.0|   0.0|              0.0|           0.0|                0.0|            0.0|      0.0|                 0.0|              0.0|  (16,[0],[1.0])|(43,[16,17,27],[5...|[-0.7129308691763...|[0.19374429235424...|       1.0|\n",
      "|      0|         SII|        0.0|       0.0|      0.0|       0.0|        0.0|      0.0|   0.0|         0.0|                0.0|              0.0|  20210930|2250700006699|         1.0|              1.0|          5.0|  187.0|               3.0|          5.0|        4.0|             1.0|         7.0| 284.0|              3.0|           0.0|                0.0|            0.0|      0.0|                 0.0|              0.0|  (16,[0],[1.0])|(43,[10,11,12,13,...|[-1.1545749091078...|[0.09036800669697...|       1.0|\n",
      "|      0|         SII|        0.0|       0.0|      0.0|       0.0|        0.0|      0.0|   0.0|         0.0|                0.0|              0.0|  20210930|2250700007494|         0.0|              0.0|          0.0|    0.0|               0.0|          0.0|        1.0|             1.0|         4.0| 147.0|              2.0|           0.0|                0.0|            0.0|      0.0|                 0.0|              0.0|  (16,[0],[1.0])|(43,[16,17,18,19,...|[-0.9407609804290...|[0.13221415576963...|       1.0|\n",
      "|      0|         SII|        0.0|       0.0|      0.0|       0.0|        0.0|      0.0|   0.0|         0.0|                0.0|              0.0|  20210930|2250700008140|         3.0|              2.0|         22.0| 3503.0|              10.0|         11.0|        3.0|             2.0|         3.0| 568.0|              2.0|           0.0|                0.0|            0.0|      0.0|                 0.0|              0.0|  (16,[0],[1.0])|(43,[10,11,12,13,...|[-1.1823571114425...|[0.08590329188406...|       1.0|\n",
      "+-------+------------+-----------+----------+---------+----------+-----------+---------+------+------------+-------------------+-----------------+----------+-------------+------------+-----------------+-------------+-------+------------------+-------------+-----------+----------------+------------+------+-----------------+--------------+-------------------+---------------+---------+--------------------+-----------------+----------------+--------------------+--------------------+--------------------+----------+\n",
      "only showing top 5 rows\n",
      "\n"
     ]
    }
   ],
   "source": [
    "df_gbt = spark.read.parquet(\"/Users/youssouf/Documents/simboxv2/prediction_gbt_vbm_30_v4_dist.parquet\")\n",
    "df_gbt.show(5)\n",
    "\n"
   ]
  },
  {
   "cell_type": "code",
   "execution_count": 225,
   "metadata": {},
   "outputs": [],
   "source": [
    "df_gbt_dt = df_dt.filter(col(\"prediction\") == 1) \\\n",
    ".join(df_gbt.filter(col(\"prediction\") == 1) , [\"msisdn\"], \"inner\")\n",
    "\n"
   ]
  },
  {
   "cell_type": "code",
   "execution_count": 226,
   "metadata": {},
   "outputs": [
    {
     "data": {
      "text/plain": [
       "247"
      ]
     },
     "execution_count": 226,
     "metadata": {},
     "output_type": "execute_result"
    }
   ],
   "source": [
    "df_gbt_dt.join(df_fr1, [\"msisdn\"], \"inner\").count()\n"
   ]
  },
  {
   "cell_type": "code",
   "execution_count": 228,
   "metadata": {},
   "outputs": [],
   "source": [
    "df_rf = spark.read.parquet(\"/Users/youssouf/Documents/simboxv2/prediction_rf200_vbm_30_v4.parquet\")\n",
    "\n"
   ]
  },
  {
   "cell_type": "code",
   "execution_count": 231,
   "metadata": {},
   "outputs": [
    {
     "data": {
      "text/plain": [
       "251"
      ]
     },
     "execution_count": 231,
     "metadata": {},
     "output_type": "execute_result"
    }
   ],
   "source": [
    "df_rf.filter(col(\"prediction\") == 1).join(df_fr1, [\"msisdn\"], \"inner\").count()"
   ]
  },
  {
   "cell_type": "code",
   "execution_count": 236,
   "metadata": {},
   "outputs": [
    {
     "data": {
      "text/plain": [
       "2803063"
      ]
     },
     "execution_count": 236,
     "metadata": {},
     "output_type": "execute_result"
    }
   ],
   "source": [
    "df_rf.filter(col(\"prediction\") == 1).join(df_dt.filter(col(\"prediction\") == 1) , [\"msisdn\"], \"inner\").count()\n"
   ]
  },
  {
   "cell_type": "code",
   "execution_count": 235,
   "metadata": {},
   "outputs": [
    {
     "data": {
      "text/plain": [
       "2863241"
      ]
     },
     "execution_count": 235,
     "metadata": {},
     "output_type": "execute_result"
    }
   ],
   "source": [
    "df_rf.filter(col(\"prediction\") == 1).join(df_gbt.filter(col(\"prediction\") == 1) , [\"msisdn\"], \"inner\").count()\n"
   ]
  },
  {
   "cell_type": "code",
   "execution_count": 239,
   "metadata": {},
   "outputs": [],
   "source": [
    "df_all = df_rf.filter(col(\"prediction\") == 1).join(df_gbt_dt , [\"msisdn\"], \"inner\")\n"
   ]
  },
  {
   "cell_type": "code",
   "execution_count": 240,
   "metadata": {},
   "outputs": [
    {
     "data": {
      "text/plain": [
       "236"
      ]
     },
     "execution_count": 240,
     "metadata": {},
     "output_type": "execute_result"
    }
   ],
   "source": [
    "df_all.join(df_fr1, [\"msisdn\"], \"inner\").count()\n"
   ]
  },
  {
   "cell_type": "code",
   "execution_count": 241,
   "metadata": {},
   "outputs": [
    {
     "data": {
      "text/plain": [
       "1925090"
      ]
     },
     "execution_count": 241,
     "metadata": {},
     "output_type": "execute_result"
    }
   ],
   "source": [
    "df_all.count()\n"
   ]
  },
  {
   "cell_type": "code",
   "execution_count": null,
   "metadata": {},
   "outputs": [],
   "source": [
    "DecisionTreeClassifier()"
   ]
  },
  {
   "cell_type": "code",
   "execution_count": 200,
   "metadata": {},
   "outputs": [],
   "source": [
    "path_df = \"/Users/youssouf/Documents/simboxv2/prediction_gbt_vbm_30_v4_dist.parquet\"\n",
    "df = spark.read.parquet(path_df)"
   ]
  },
  {
   "cell_type": "code",
   "execution_count": 201,
   "metadata": {},
   "outputs": [],
   "source": [
    "df1 = df.filter(col(\"prediction\") == 1)"
   ]
  },
  {
   "cell_type": "code",
   "execution_count": 202,
   "metadata": {},
   "outputs": [
    {
     "name": "stdout",
     "output_type": "stream",
     "text": [
      "root\n",
      " |-- msisdn1: string (nullable = true)\n",
      " |-- distributeur: string (nullable = true)\n",
      " |-- statut_voix: double (nullable = true)\n",
      " |-- statut_sms: double (nullable = true)\n",
      " |-- statut_ff: double (nullable = true)\n",
      " |-- statut_sva: double (nullable = true)\n",
      " |-- statut_data: double (nullable = true)\n",
      " |-- statut_om: double (nullable = true)\n",
      " |-- valeur: double (nullable = true)\n",
      " |-- vol_tot_data: double (nullable = true)\n",
      " |-- vol_tot_voix_offnet: double (nullable = true)\n",
      " |-- vol_tot_voix_onet: double (nullable = true)\n",
      " |-- date_appel: string (nullable = true)\n",
      " |-- msisdn: string (nullable = true)\n",
      " |-- nbre_sms_out: double (nullable = true)\n",
      " |-- nbre_dist_sms_out: double (nullable = true)\n",
      " |-- nbre_voix_out: double (nullable = true)\n",
      " |-- dur_out: double (nullable = true)\n",
      " |-- nbre_dist_voix_out: double (nullable = true)\n",
      " |-- nbre_cell_out: double (nullable = true)\n",
      " |-- nbre_sms_in: double (nullable = true)\n",
      " |-- nbre_dist_sms_in: double (nullable = true)\n",
      " |-- nbre_voix_in: double (nullable = true)\n",
      " |-- dur_in: double (nullable = true)\n",
      " |-- nbre_dist_voix_in: double (nullable = true)\n",
      " |-- nbre_sms_night: double (nullable = true)\n",
      " |-- nbre_dist_sms_night: double (nullable = true)\n",
      " |-- nbre_voix_night: double (nullable = true)\n",
      " |-- dur_night: double (nullable = true)\n",
      " |-- nbre_dist_voix_night: double (nullable = true)\n",
      " |-- distributeurIndex: double (nullable = true)\n",
      " |-- distributeur_vec: vector (nullable = true)\n",
      " |-- features: vector (nullable = true)\n",
      " |-- rawPrediction: vector (nullable = true)\n",
      " |-- probability: vector (nullable = true)\n",
      " |-- prediction: double (nullable = true)\n",
      "\n"
     ]
    }
   ],
   "source": [
    "df1.printSchema()"
   ]
  },
  {
   "cell_type": "code",
   "execution_count": 203,
   "metadata": {},
   "outputs": [
    {
     "name": "stdout",
     "output_type": "stream",
     "text": [
      "+--------------+-------------+\n",
      "|Date_DETECTION|       msisdn|\n",
      "+--------------+-------------+\n",
      "|    28/09/2021|2250700004846|\n",
      "|    28/09/2021|2250700048563|\n",
      "|    28/09/2021|2250700058736|\n",
      "|    28/09/2021|2250700058747|\n",
      "|    28/09/2021|2250700058748|\n",
      "+--------------+-------------+\n",
      "only showing top 5 rows\n",
      "\n"
     ]
    }
   ],
   "source": [
    "df_fraudeur_FRA = spark.read.option(\"header\", True) \\\n",
    "                    .option(\"delimiter\", \";\") \\\n",
    "                    .csv(\"/Users/youssouf/Downloads/simbox_fra_2809_0610.csv\")\n",
    "df_fraudeur_FRA = df_fraudeur_FRA.withColumn(\"msisdn\", concat(lit(\"22507\") , col(\"MSISDN\")))\n",
    "\n",
    "df_fraudeur_FRA.show(5)"
   ]
  },
  {
   "cell_type": "code",
   "execution_count": 204,
   "metadata": {},
   "outputs": [
    {
     "name": "stdout",
     "output_type": "stream",
     "text": [
      "+--------------+-----+\n",
      "|Date_DETECTION|count|\n",
      "+--------------+-----+\n",
      "|    28/09/2021|  300|\n",
      "|    06/10/2021|  405|\n",
      "|    01/10/2021|  334|\n",
      "|    29/09/2021|  307|\n",
      "|    02/10/2021|  254|\n",
      "|    03/10/2021|  323|\n",
      "|    30/09/2021|  334|\n",
      "|    04/10/2021|  267|\n",
      "|    05/10/2021|  348|\n",
      "+--------------+-----+\n",
      "\n"
     ]
    }
   ],
   "source": [
    "df_fraudeur_FRA.groupBy(\"Date_DETECTION\").count().show()"
   ]
  },
  {
   "cell_type": "code",
   "execution_count": 205,
   "metadata": {},
   "outputs": [
    {
     "data": {
      "text/plain": [
       "'28/09/2021'"
      ]
     },
     "execution_count": 205,
     "metadata": {},
     "output_type": "execute_result"
    }
   ],
   "source": [
    "d = datetime.strptime(\"20210928\" , '%Y%m%d')\n",
    "d = datetime.strftime(d, \"%d/%m/%Y\")\n",
    "d"
   ]
  },
  {
   "cell_type": "code",
   "execution_count": 206,
   "metadata": {},
   "outputs": [],
   "source": [
    "df_fr1 = df_fraudeur_FRA.filter(df_fraudeur_FRA.Date_DETECTION == \"30/09/2021\")"
   ]
  },
  {
   "cell_type": "code",
   "execution_count": 207,
   "metadata": {},
   "outputs": [],
   "source": [
    "df2 = df1.join(df_fr1 , [\"msisdn\"], \"inner\")"
   ]
  },
  {
   "cell_type": "code",
   "execution_count": 208,
   "metadata": {},
   "outputs": [
    {
     "name": "stdout",
     "output_type": "stream",
     "text": [
      "+----------+----------------------------------------+\n",
      "|prediction|probability                             |\n",
      "+----------+----------------------------------------+\n",
      "|1.0       |[0.1017905527733635,0.8982094472266365] |\n",
      "|1.0       |[0.12908716758382,0.87091283241618]     |\n",
      "|1.0       |[0.1559831922168539,0.8440168077831461] |\n",
      "|1.0       |[0.0842721048097634,0.9157278951902366] |\n",
      "|1.0       |[0.08590329188406619,0.9140967081159338]|\n",
      "|1.0       |[0.07407294589146789,0.9259270541085322]|\n",
      "|1.0       |[0.12813782262401474,0.8718621773759853]|\n",
      "|1.0       |[0.08590329188406619,0.9140967081159338]|\n",
      "|1.0       |[0.0874069294224149,0.9125930705775851] |\n",
      "|1.0       |[0.09036800669697691,0.9096319933030231]|\n",
      "|1.0       |[0.08590329188406619,0.9140967081159338]|\n",
      "|1.0       |[0.08590329188406619,0.9140967081159338]|\n",
      "|1.0       |[0.13221415576963777,0.8677858442303622]|\n",
      "|1.0       |[0.07472934979711836,0.9252706502028817]|\n",
      "|1.0       |[0.2699455002463848,0.7300544997536151] |\n",
      "|1.0       |[0.13221415576963777,0.8677858442303622]|\n",
      "|1.0       |[0.08590329188406619,0.9140967081159338]|\n",
      "|1.0       |[0.1313023372340256,0.8686976627659744] |\n",
      "|1.0       |[0.04968053074229938,0.9503194692577006]|\n",
      "|1.0       |[0.09036800669697691,0.9096319933030231]|\n",
      "|1.0       |[0.13221415576963777,0.8677858442303622]|\n",
      "|1.0       |[0.09036800669697691,0.9096319933030231]|\n",
      "|1.0       |[0.08590329188406619,0.9140967081159338]|\n",
      "|1.0       |[0.13221415576963777,0.8677858442303622]|\n",
      "|1.0       |[0.08590329188406619,0.9140967081159338]|\n",
      "|1.0       |[0.15521200857649922,0.8447879914235008]|\n",
      "|1.0       |[0.13221415576963777,0.8677858442303622]|\n",
      "|1.0       |[0.1559831922168539,0.8440168077831461] |\n",
      "|1.0       |[0.13221415576963777,0.8677858442303622]|\n",
      "|1.0       |[0.13221415576963777,0.8677858442303622]|\n",
      "|1.0       |[0.1354636988722945,0.8645363011277055] |\n",
      "|1.0       |[0.13221415576963777,0.8677858442303622]|\n",
      "|1.0       |[0.19374429235424606,0.8062557076457539]|\n",
      "|1.0       |[0.12908716758382,0.87091283241618]     |\n",
      "|1.0       |[0.04518375298367699,0.9548162470163231]|\n",
      "|1.0       |[0.04968053074229938,0.9503194692577006]|\n",
      "|1.0       |[0.13221415576963777,0.8677858442303622]|\n",
      "|1.0       |[0.07502136658089534,0.9249786334191047]|\n",
      "|1.0       |[0.06714892978406178,0.9328510702159383]|\n",
      "|1.0       |[0.15521200857649922,0.8447879914235008]|\n",
      "|1.0       |[0.13221415576963777,0.8677858442303622]|\n",
      "|1.0       |[0.11697392434532304,0.883026075654677] |\n",
      "|1.0       |[0.08590329188406619,0.9140967081159338]|\n",
      "|1.0       |[0.08590329188406619,0.9140967081159338]|\n",
      "|1.0       |[0.09036800669697691,0.9096319933030231]|\n",
      "|1.0       |[0.08590329188406619,0.9140967081159338]|\n",
      "|1.0       |[0.19374429235424606,0.8062557076457539]|\n",
      "|1.0       |[0.13221415576963777,0.8677858442303622]|\n",
      "|1.0       |[0.13221415576963777,0.8677858442303622]|\n",
      "|1.0       |[0.08590329188406619,0.9140967081159338]|\n",
      "|1.0       |[0.13221415576963777,0.8677858442303622]|\n",
      "|1.0       |[0.1017905527733635,0.8982094472266365] |\n",
      "|1.0       |[0.19374429235424606,0.8062557076457539]|\n",
      "|1.0       |[0.13221415576963777,0.8677858442303622]|\n",
      "|1.0       |[0.13221415576963777,0.8677858442303622]|\n",
      "|1.0       |[0.07196824219669232,0.9280317578033077]|\n",
      "|1.0       |[0.04968053074229938,0.9503194692577006]|\n",
      "|1.0       |[0.13221415576963777,0.8677858442303622]|\n",
      "|1.0       |[0.1996596462326688,0.8003403537673313] |\n",
      "|1.0       |[0.13221415576963777,0.8677858442303622]|\n",
      "|1.0       |[0.08590329188406619,0.9140967081159338]|\n",
      "|1.0       |[0.06465727678487257,0.9353427232151275]|\n",
      "|1.0       |[0.09547550628895772,0.9045244937110423]|\n",
      "|1.0       |[0.08590329188406619,0.9140967081159338]|\n",
      "|1.0       |[0.13221415576963777,0.8677858442303622]|\n",
      "|1.0       |[0.19374429235424606,0.8062557076457539]|\n",
      "|1.0       |[0.08457741858649516,0.9154225814135049]|\n",
      "|1.0       |[0.09036800669697691,0.9096319933030231]|\n",
      "|1.0       |[0.07618052336942444,0.9238194766305756]|\n",
      "|1.0       |[0.09036800669697691,0.9096319933030231]|\n",
      "|1.0       |[0.0803735147639985,0.9196264852360015] |\n",
      "|1.0       |[0.48722648244002975,0.5127735175599702]|\n",
      "|1.0       |[0.15521200857649922,0.8447879914235008]|\n",
      "|1.0       |[0.08590329188406619,0.9140967081159338]|\n",
      "|1.0       |[0.13221415576963777,0.8677858442303622]|\n",
      "|1.0       |[0.04968053074229938,0.9503194692577006]|\n",
      "|1.0       |[0.29367210153599876,0.7063278984640012]|\n",
      "|1.0       |[0.13221415576963777,0.8677858442303622]|\n",
      "|1.0       |[0.08590329188406619,0.9140967081159338]|\n",
      "|1.0       |[0.08590329188406619,0.9140967081159338]|\n",
      "|1.0       |[0.13221415576963777,0.8677858442303622]|\n",
      "|1.0       |[0.1017905527733635,0.8982094472266365] |\n",
      "|1.0       |[0.08590329188406619,0.9140967081159338]|\n",
      "|1.0       |[0.08590329188406619,0.9140967081159338]|\n",
      "|1.0       |[0.13221415576963777,0.8677858442303622]|\n",
      "|1.0       |[0.08984890858015572,0.9101510914198443]|\n",
      "|1.0       |[0.10698434693607163,0.8930156530639284]|\n",
      "|1.0       |[0.13221415576963777,0.8677858442303622]|\n",
      "|1.0       |[0.15521200857649922,0.8447879914235008]|\n",
      "|1.0       |[0.08590329188406619,0.9140967081159338]|\n",
      "|1.0       |[0.1285952661139332,0.8714047338860668] |\n",
      "|1.0       |[0.15521200857649922,0.8447879914235008]|\n",
      "|1.0       |[0.13221415576963777,0.8677858442303622]|\n",
      "|1.0       |[0.13221415576963777,0.8677858442303622]|\n",
      "|1.0       |[0.15521200857649922,0.8447879914235008]|\n",
      "|1.0       |[0.13221415576963777,0.8677858442303622]|\n",
      "|1.0       |[0.15521200857649922,0.8447879914235008]|\n",
      "|1.0       |[0.10698434693607163,0.8930156530639284]|\n",
      "|1.0       |[0.08590329188406619,0.9140967081159338]|\n",
      "|1.0       |[0.13221415576963777,0.8677858442303622]|\n",
      "|1.0       |[0.04968053074229938,0.9503194692577006]|\n",
      "|1.0       |[0.15521200857649922,0.8447879914235008]|\n",
      "|1.0       |[0.13671757030989543,0.8632824296901046]|\n",
      "|1.0       |[0.08590329188406619,0.9140967081159338]|\n",
      "|1.0       |[0.08590329188406619,0.9140967081159338]|\n",
      "|1.0       |[0.15521200857649922,0.8447879914235008]|\n",
      "|1.0       |[0.08590329188406619,0.9140967081159338]|\n",
      "|1.0       |[0.09036800669697691,0.9096319933030231]|\n",
      "|1.0       |[0.04968053074229938,0.9503194692577006]|\n",
      "|1.0       |[0.38733947140572184,0.6126605285942781]|\n",
      "|1.0       |[0.13221415576963777,0.8677858442303622]|\n",
      "|1.0       |[0.13221415576963777,0.8677858442303622]|\n",
      "|1.0       |[0.10698434693607163,0.8930156530639284]|\n",
      "|1.0       |[0.13221415576963777,0.8677858442303622]|\n",
      "|1.0       |[0.08590329188406619,0.9140967081159338]|\n",
      "|1.0       |[0.08590329188406619,0.9140967081159338]|\n",
      "|1.0       |[0.19374429235424606,0.8062557076457539]|\n",
      "|1.0       |[0.15521200857649922,0.8447879914235008]|\n",
      "|1.0       |[0.15521200857649922,0.8447879914235008]|\n",
      "|1.0       |[0.08590329188406619,0.9140967081159338]|\n",
      "|1.0       |[0.09036800669697691,0.9096319933030231]|\n",
      "|1.0       |[0.15521200857649922,0.8447879914235008]|\n",
      "|1.0       |[0.04843006333806937,0.9515699366619306]|\n",
      "|1.0       |[0.13221415576963777,0.8677858442303622]|\n",
      "|1.0       |[0.06714892978406178,0.9328510702159383]|\n",
      "|1.0       |[0.13221415576963777,0.8677858442303622]|\n",
      "|1.0       |[0.08590329188406619,0.9140967081159338]|\n",
      "|1.0       |[0.09036800669697691,0.9096319933030231]|\n",
      "|1.0       |[0.2699455002463848,0.7300544997536151] |\n",
      "|1.0       |[0.08590329188406619,0.9140967081159338]|\n",
      "|1.0       |[0.13221415576963777,0.8677858442303622]|\n",
      "|1.0       |[0.15521200857649922,0.8447879914235008]|\n",
      "|1.0       |[0.13221415576963777,0.8677858442303622]|\n",
      "|1.0       |[0.13221415576963777,0.8677858442303622]|\n",
      "|1.0       |[0.09036800669697691,0.9096319933030231]|\n",
      "|1.0       |[0.13221415576963777,0.8677858442303622]|\n",
      "|1.0       |[0.15521200857649922,0.8447879914235008]|\n",
      "|1.0       |[0.06987992465546991,0.9301200753445301]|\n",
      "|1.0       |[0.0874069294224149,0.9125930705775851] |\n",
      "|1.0       |[0.10698434693607163,0.8930156530639284]|\n",
      "|1.0       |[0.08563721321692835,0.9143627867830717]|\n",
      "|1.0       |[0.12908716758382,0.87091283241618]     |\n",
      "|1.0       |[0.13221415576963777,0.8677858442303622]|\n",
      "|1.0       |[0.3002338412487287,0.6997661587512713] |\n",
      "|1.0       |[0.1017905527733635,0.8982094472266365] |\n",
      "|1.0       |[0.1313023372340256,0.8686976627659744] |\n",
      "|1.0       |[0.08590329188406619,0.9140967081159338]|\n",
      "|1.0       |[0.04968053074229938,0.9503194692577006]|\n",
      "|1.0       |[0.13221415576963777,0.8677858442303622]|\n",
      "|1.0       |[0.15521200857649922,0.8447879914235008]|\n",
      "|1.0       |[0.08590329188406619,0.9140967081159338]|\n",
      "|1.0       |[0.06557266176779376,0.9344273382322063]|\n",
      "|1.0       |[0.08590329188406619,0.9140967081159338]|\n",
      "|1.0       |[0.13221415576963777,0.8677858442303622]|\n",
      "|1.0       |[0.15054963355467305,0.849450366445327] |\n",
      "|1.0       |[0.04968053074229938,0.9503194692577006]|\n",
      "|1.0       |[0.13221415576963777,0.8677858442303622]|\n",
      "|1.0       |[0.13221415576963777,0.8677858442303622]|\n",
      "|1.0       |[0.12908716758382,0.87091283241618]     |\n",
      "|1.0       |[0.08590329188406619,0.9140967081159338]|\n",
      "|1.0       |[0.15521200857649922,0.8447879914235008]|\n",
      "|1.0       |[0.13221415576963777,0.8677858442303622]|\n",
      "|1.0       |[0.15521200857649922,0.8447879914235008]|\n",
      "|1.0       |[0.13221415576963777,0.8677858442303622]|\n",
      "|1.0       |[0.15521200857649922,0.8447879914235008]|\n",
      "|1.0       |[0.2316278239151865,0.7683721760848135] |\n",
      "|1.0       |[0.13221415576963777,0.8677858442303622]|\n",
      "|1.0       |[0.09036800669697691,0.9096319933030231]|\n",
      "|1.0       |[0.29367210153599876,0.7063278984640012]|\n",
      "|1.0       |[0.15521200857649922,0.8447879914235008]|\n",
      "|1.0       |[0.15521200857649922,0.8447879914235008]|\n",
      "|1.0       |[0.19374429235424606,0.8062557076457539]|\n",
      "|1.0       |[0.06465727678487257,0.9353427232151275]|\n",
      "|1.0       |[0.13221415576963777,0.8677858442303622]|\n",
      "|1.0       |[0.07256091830248325,0.9274390816975168]|\n",
      "|1.0       |[0.10698434693607163,0.8930156530639284]|\n",
      "|1.0       |[0.08590329188406619,0.9140967081159338]|\n",
      "|1.0       |[0.1017905527733635,0.8982094472266365] |\n",
      "|1.0       |[0.1285952661139332,0.8714047338860668] |\n",
      "|1.0       |[0.09036800669697691,0.9096319933030231]|\n",
      "|1.0       |[0.1017905527733635,0.8982094472266365] |\n",
      "|1.0       |[0.09036800669697691,0.9096319933030231]|\n",
      "|1.0       |[0.13221415576963777,0.8677858442303622]|\n",
      "|1.0       |[0.08590329188406619,0.9140967081159338]|\n",
      "|1.0       |[0.13221415576963777,0.8677858442303622]|\n",
      "|1.0       |[0.07502136658089534,0.9249786334191047]|\n",
      "|1.0       |[0.13221415576963777,0.8677858442303622]|\n",
      "|1.0       |[0.2996056398221096,0.7003943601778904] |\n",
      "|1.0       |[0.10698434693607163,0.8930156530639284]|\n",
      "|1.0       |[0.08590329188406619,0.9140967081159338]|\n",
      "|1.0       |[0.08590329188406619,0.9140967081159338]|\n",
      "|1.0       |[0.08590329188406619,0.9140967081159338]|\n",
      "|1.0       |[0.08914429969197338,0.9108557003080267]|\n",
      "|1.0       |[0.13221415576963777,0.8677858442303622]|\n",
      "|1.0       |[0.37436458158407926,0.6256354184159207]|\n",
      "|1.0       |[0.12022009744095269,0.8797799025590474]|\n",
      "|1.0       |[0.1017905527733635,0.8982094472266365] |\n",
      "|1.0       |[0.08590329188406619,0.9140967081159338]|\n",
      "|1.0       |[0.08590329188406619,0.9140967081159338]|\n",
      "|1.0       |[0.12813782262401474,0.8718621773759853]|\n",
      "|1.0       |[0.08590329188406619,0.9140967081159338]|\n",
      "|1.0       |[0.09036800669697691,0.9096319933030231]|\n",
      "|1.0       |[0.08590329188406619,0.9140967081159338]|\n",
      "|1.0       |[0.12908716758382,0.87091283241618]     |\n",
      "|1.0       |[0.08153500694777151,0.9184649930522285]|\n",
      "|1.0       |[0.1285952661139332,0.8714047338860668] |\n",
      "|1.0       |[0.15521200857649922,0.8447879914235008]|\n",
      "|1.0       |[0.28625990956198766,0.7137400904380123]|\n",
      "|1.0       |[0.08590329188406619,0.9140967081159338]|\n",
      "|1.0       |[0.13221415576963777,0.8677858442303622]|\n",
      "|1.0       |[0.08590329188406619,0.9140967081159338]|\n",
      "|1.0       |[0.13221415576963777,0.8677858442303622]|\n",
      "|1.0       |[0.09854569949640231,0.9014543005035976]|\n",
      "|1.0       |[0.08914429969197338,0.9108557003080267]|\n",
      "|1.0       |[0.15521200857649922,0.8447879914235008]|\n",
      "|1.0       |[0.08590329188406619,0.9140967081159338]|\n",
      "|1.0       |[0.19374429235424606,0.8062557076457539]|\n",
      "|1.0       |[0.37784387798585656,0.6221561220141434]|\n",
      "|1.0       |[0.15521200857649922,0.8447879914235008]|\n",
      "|1.0       |[0.08590329188406619,0.9140967081159338]|\n",
      "|1.0       |[0.15521200857649922,0.8447879914235008]|\n",
      "|1.0       |[0.13221415576963777,0.8677858442303622]|\n",
      "|1.0       |[0.37436458158407926,0.6256354184159207]|\n",
      "|1.0       |[0.13221415576963777,0.8677858442303622]|\n",
      "|1.0       |[0.08914429969197338,0.9108557003080267]|\n",
      "|1.0       |[0.08307514851414942,0.9169248514858506]|\n",
      "|1.0       |[0.13221415576963777,0.8677858442303622]|\n",
      "|1.0       |[0.08914429969197338,0.9108557003080267]|\n",
      "|1.0       |[0.13221415576963777,0.8677858442303622]|\n",
      "|1.0       |[0.08590329188406619,0.9140967081159338]|\n",
      "|1.0       |[0.1017905527733635,0.8982094472266365] |\n",
      "|1.0       |[0.08590329188406619,0.9140967081159338]|\n",
      "|1.0       |[0.08311802305473799,0.916881976945262] |\n",
      "|1.0       |[0.13221415576963777,0.8677858442303622]|\n",
      "|1.0       |[0.09036800669697691,0.9096319933030231]|\n",
      "|1.0       |[0.12908716758382,0.87091283241618]     |\n",
      "|1.0       |[0.09854569949640231,0.9014543005035976]|\n",
      "|1.0       |[0.10698434693607163,0.8930156530639284]|\n",
      "|1.0       |[0.08590329188406619,0.9140967081159338]|\n",
      "|1.0       |[0.13221415576963777,0.8677858442303622]|\n",
      "|1.0       |[0.07982724243543232,0.9201727575645677]|\n",
      "|1.0       |[0.1502803967461841,0.8497196032538159] |\n",
      "|1.0       |[0.0958691466059138,0.9041308533940862] |\n",
      "|1.0       |[0.09036800669697691,0.9096319933030231]|\n",
      "|1.0       |[0.09036800669697691,0.9096319933030231]|\n",
      "|1.0       |[0.13221415576963777,0.8677858442303622]|\n",
      "|1.0       |[0.08590329188406619,0.9140967081159338]|\n",
      "|1.0       |[0.08590329188406619,0.9140967081159338]|\n",
      "|1.0       |[0.1285952661139332,0.8714047338860668] |\n",
      "|1.0       |[0.07256091830248325,0.9274390816975168]|\n",
      "|1.0       |[0.07104854050949289,0.9289514594905071]|\n",
      "|1.0       |[0.13221415576963777,0.8677858442303622]|\n",
      "|1.0       |[0.07474974095687248,0.9252502590431275]|\n",
      "+----------+----------------------------------------+\n",
      "\n"
     ]
    }
   ],
   "source": [
    "df2.select(\"prediction\", \"probability\").show(df2.count() , truncate = False)"
   ]
  },
  {
   "cell_type": "code",
   "execution_count": 209,
   "metadata": {},
   "outputs": [
    {
     "name": "stdout",
     "output_type": "stream",
     "text": [
      "root\n",
      " |-- msisdn: string (nullable = true)\n",
      " |-- msisdn1: string (nullable = true)\n",
      " |-- distributeur: string (nullable = true)\n",
      " |-- statut_voix: double (nullable = true)\n",
      " |-- statut_sms: double (nullable = true)\n",
      " |-- statut_ff: double (nullable = true)\n",
      " |-- statut_sva: double (nullable = true)\n",
      " |-- statut_data: double (nullable = true)\n",
      " |-- statut_om: double (nullable = true)\n",
      " |-- valeur: double (nullable = true)\n",
      " |-- vol_tot_data: double (nullable = true)\n",
      " |-- vol_tot_voix_offnet: double (nullable = true)\n",
      " |-- vol_tot_voix_onet: double (nullable = true)\n",
      " |-- date_appel: string (nullable = true)\n",
      " |-- nbre_sms_out: double (nullable = true)\n",
      " |-- nbre_dist_sms_out: double (nullable = true)\n",
      " |-- nbre_voix_out: double (nullable = true)\n",
      " |-- dur_out: double (nullable = true)\n",
      " |-- nbre_dist_voix_out: double (nullable = true)\n",
      " |-- nbre_cell_out: double (nullable = true)\n",
      " |-- nbre_sms_in: double (nullable = true)\n",
      " |-- nbre_dist_sms_in: double (nullable = true)\n",
      " |-- nbre_voix_in: double (nullable = true)\n",
      " |-- dur_in: double (nullable = true)\n",
      " |-- nbre_dist_voix_in: double (nullable = true)\n",
      " |-- nbre_sms_night: double (nullable = true)\n",
      " |-- nbre_dist_sms_night: double (nullable = true)\n",
      " |-- nbre_voix_night: double (nullable = true)\n",
      " |-- dur_night: double (nullable = true)\n",
      " |-- nbre_dist_voix_night: double (nullable = true)\n",
      " |-- distributeurIndex: double (nullable = true)\n",
      " |-- distributeur_vec: vector (nullable = true)\n",
      " |-- features: vector (nullable = true)\n",
      " |-- rawPrediction: vector (nullable = true)\n",
      " |-- probability: vector (nullable = true)\n",
      " |-- prediction: double (nullable = true)\n",
      " |-- Date_DETECTION: string (nullable = true)\n",
      "\n"
     ]
    }
   ],
   "source": [
    "df2.printSchema()"
   ]
  },
  {
   "cell_type": "code",
   "execution_count": 210,
   "metadata": {},
   "outputs": [
    {
     "name": "stdout",
     "output_type": "stream",
     "text": [
      "root\n",
      " |-- Date_DETECTION: string (nullable = true)\n",
      " |-- msisdn: string (nullable = true)\n",
      "\n"
     ]
    }
   ],
   "source": [
    "df_fraudeur_FRA.printSchema()"
   ]
  },
  {
   "cell_type": "code",
   "execution_count": 211,
   "metadata": {},
   "outputs": [
    {
     "name": "stdout",
     "output_type": "stream",
     "text": [
      "root\n",
      " |-- msisdn: string (nullable = true)\n",
      " |-- msisdn1: string (nullable = true)\n",
      " |-- distributeur: string (nullable = true)\n",
      " |-- statut_voix: double (nullable = true)\n",
      " |-- statut_sms: double (nullable = true)\n",
      " |-- statut_ff: double (nullable = true)\n",
      " |-- statut_sva: double (nullable = true)\n",
      " |-- statut_data: double (nullable = true)\n",
      " |-- statut_om: double (nullable = true)\n",
      " |-- valeur: double (nullable = true)\n",
      " |-- vol_tot_data: double (nullable = true)\n",
      " |-- vol_tot_voix_offnet: double (nullable = true)\n",
      " |-- vol_tot_voix_onet: double (nullable = true)\n",
      " |-- date_appel: string (nullable = true)\n",
      " |-- nbre_sms_out: double (nullable = true)\n",
      " |-- nbre_dist_sms_out: double (nullable = true)\n",
      " |-- nbre_voix_out: double (nullable = true)\n",
      " |-- dur_out: double (nullable = true)\n",
      " |-- nbre_dist_voix_out: double (nullable = true)\n",
      " |-- nbre_cell_out: double (nullable = true)\n",
      " |-- nbre_sms_in: double (nullable = true)\n",
      " |-- nbre_dist_sms_in: double (nullable = true)\n",
      " |-- nbre_voix_in: double (nullable = true)\n",
      " |-- dur_in: double (nullable = true)\n",
      " |-- nbre_dist_voix_in: double (nullable = true)\n",
      " |-- nbre_sms_night: double (nullable = true)\n",
      " |-- nbre_dist_sms_night: double (nullable = true)\n",
      " |-- nbre_voix_night: double (nullable = true)\n",
      " |-- dur_night: double (nullable = true)\n",
      " |-- nbre_dist_voix_night: double (nullable = true)\n",
      " |-- distributeurIndex: double (nullable = true)\n",
      " |-- distributeur_vec: vector (nullable = true)\n",
      " |-- features: vector (nullable = true)\n",
      " |-- rawPrediction: vector (nullable = true)\n",
      " |-- probability: vector (nullable = true)\n",
      " |-- prediction: double (nullable = true)\n",
      " |-- Date_DETECTION: string (nullable = true)\n",
      "\n"
     ]
    }
   ],
   "source": [
    "df2.printSchema()"
   ]
  },
  {
   "cell_type": "code",
   "execution_count": 212,
   "metadata": {},
   "outputs": [],
   "source": [
    "df2 = df2.withColumn(\"probability_split\", vector_to_array(\"probability\"))\n",
    "df2 = df2.select([col(\"probability_split\")[i] for i in range(2)] + df2.columns)\n",
    "\n",
    "\n"
   ]
  },
  {
   "cell_type": "code",
   "execution_count": 213,
   "metadata": {},
   "outputs": [
    {
     "name": "stdout",
     "output_type": "stream",
     "text": [
      "+-------+--------------------+--------------------+\n",
      "|summary|probability_split[1]|probability_split[0]|\n",
      "+-------+--------------------+--------------------+\n",
      "|  count|                 253|                 253|\n",
      "|   mean|  0.8776584394428554| 0.12234156055714455|\n",
      "| stddev|  0.0592901976247947|0.059290197624794684|\n",
      "|    min|  0.5127735175599702| 0.04518375298367699|\n",
      "|    max|  0.9548162470163231| 0.48722648244002975|\n",
      "+-------+--------------------+--------------------+\n",
      "\n"
     ]
    }
   ],
   "source": [
    "df2.select(\"probability_split[1]\" , \"probability_split[0]\").describe().show()"
   ]
  },
  {
   "cell_type": "code",
   "execution_count": 216,
   "metadata": {},
   "outputs": [
    {
     "name": "stdout",
     "output_type": "stream",
     "text": [
      "+--------------------+-----+\n",
      "|probability_split[1]|count|\n",
      "+--------------------+-----+\n",
      "|  0.9196264852360015|    1|\n",
      "|  0.9249786334191047|    2|\n",
      "|  0.7300544997536151|    2|\n",
      "|  0.9252502590431275|    1|\n",
      "|   0.883026075654677|    1|\n",
      "|  0.8440168077831461|    2|\n",
      "|  0.9289514594905071|    1|\n",
      "|  0.6221561220141434|    1|\n",
      "|  0.9515699366619306|    1|\n",
      "|  0.9140967081159338|   50|\n",
      "|  0.9125930705775851|    2|\n",
      "|  0.9101510914198443|    1|\n",
      "|  0.9548162470163231|    1|\n",
      "|  0.6126605285942781|    1|\n",
      "|   0.849450366445327|    1|\n",
      "|  0.9328510702159383|    2|\n",
      "|  0.9169248514858506|    1|\n",
      "|  0.9238194766305756|    1|\n",
      "|  0.8714047338860668|    4|\n",
      "|  0.8497196032538159|    1|\n",
      "|  0.7063278984640012|    2|\n",
      "|  0.7683721760848135|    1|\n",
      "|  0.9014543005035976|    2|\n",
      "|   0.916881976945262|    1|\n",
      "|  0.6997661587512713|    1|\n",
      "|  0.9184649930522285|    1|\n",
      "|  0.8062557076457539|    7|\n",
      "|  0.9108557003080267|    4|\n",
      "|  0.9041308533940862|    1|\n",
      "|  0.8645363011277055|    1|\n",
      "|  0.7137400904380123|    1|\n",
      "|  0.8982094472266365|    8|\n",
      "|  0.8447879914235008|   24|\n",
      "|  0.9252706502028817|    1|\n",
      "|  0.5127735175599702|    1|\n",
      "|  0.9143627867830717|    1|\n",
      "|  0.9096319933030231|   17|\n",
      "|  0.8632824296901046|    1|\n",
      "|  0.8686976627659744|    2|\n",
      "|  0.9045244937110423|    1|\n",
      "|  0.8718621773759853|    2|\n",
      "|  0.7003943601778904|    1|\n",
      "|  0.9201727575645677|    1|\n",
      "|  0.9154225814135049|    1|\n",
      "|  0.9503194692577006|    8|\n",
      "|  0.9344273382322063|    1|\n",
      "|  0.9353427232151275|    2|\n",
      "|  0.8677858442303622|   59|\n",
      "|    0.87091283241618|    6|\n",
      "|  0.9274390816975168|    2|\n",
      "|  0.8797799025590474|    1|\n",
      "|  0.9280317578033077|    1|\n",
      "|  0.9301200753445301|    1|\n",
      "|  0.6256354184159207|    2|\n",
      "|  0.9157278951902366|    1|\n",
      "|  0.8930156530639284|    7|\n",
      "|  0.9259270541085322|    1|\n",
      "|  0.8003403537673313|    1|\n",
      "+--------------------+-----+\n",
      "\n"
     ]
    }
   ],
   "source": [
    "df2.select(\"probability_split[1]\").groupBy(\"probability_split[1]\").count().show(200)"
   ]
  },
  {
   "cell_type": "code",
   "execution_count": null,
   "metadata": {},
   "outputs": [],
   "source": []
  },
  {
   "cell_type": "code",
   "execution_count": null,
   "metadata": {},
   "outputs": [],
   "source": []
  },
  {
   "cell_type": "code",
   "execution_count": null,
   "metadata": {},
   "outputs": [],
   "source": []
  },
  {
   "cell_type": "code",
   "execution_count": null,
   "metadata": {},
   "outputs": [],
   "source": []
  },
  {
   "cell_type": "code",
   "execution_count": null,
   "metadata": {},
   "outputs": [],
   "source": []
  },
  {
   "cell_type": "code",
   "execution_count": null,
   "metadata": {},
   "outputs": [],
   "source": []
  },
  {
   "cell_type": "code",
   "execution_count": null,
   "metadata": {},
   "outputs": [],
   "source": []
  },
  {
   "cell_type": "code",
   "execution_count": null,
   "metadata": {},
   "outputs": [],
   "source": []
  },
  {
   "cell_type": "code",
   "execution_count": 242,
   "metadata": {},
   "outputs": [],
   "source": [
    "df_final = spark.read.\\\n",
    "       option(\"header\", \"true\").\\\n",
    "       option(\"delimiter\", \";\").\\\n",
    "       csv(\"/Users/youssouf/Downloads/trafic_global_20210930.csv\")\n",
    "\n",
    "df_vbm = spark.read\\\n",
    "    .option(\"header\", True)\\\n",
    "    .option(\"delimiter\",\";\")\\\n",
    "    .csv(\"/Users/youssouf/Downloads/fraudeur_simbox_vbm_all.csv\")"
   ]
  },
  {
   "cell_type": "code",
   "execution_count": 243,
   "metadata": {},
   "outputs": [],
   "source": [
    "cols = [i.lower() for i in df_vbm.columns]\n",
    "df_vbm = df_vbm.toDF(*(c for c in cols))\n"
   ]
  },
  {
   "cell_type": "code",
   "execution_count": 244,
   "metadata": {},
   "outputs": [],
   "source": [
    "df_final = df_vbm.join(df_final, [\"msisdn\"] , \"right_outer\")\n"
   ]
  },
  {
   "cell_type": "code",
   "execution_count": 245,
   "metadata": {},
   "outputs": [
    {
     "name": "stdout",
     "output_type": "stream",
     "text": [
      "+-------------+--------------+-----------+----------+---------+----------+-----------+---------+------+------------+-------------------+-----------------+----------+------------+-----------------+-------------+-------+------------------+-------------+-----------+----------------+------------+------+-----------------+--------------+-------------------+---------------+---------+--------------------+\n",
      "|       msisdn|  distributeur|statut_voix|statut_sms|statut_ff|statut_sva|statut_data|statut_om|valeur|vol_tot_data|vol_tot_voix_offnet|vol_tot_voix_onet|date_appel|nbre_sms_out|nbre_dist_sms_out|nbre_voix_out|dur_out|nbre_dist_voix_out|nbre_cell_out|nbre_sms_in|nbre_dist_sms_in|nbre_voix_in|dur_in|nbre_dist_voix_in|nbre_sms_night|nbre_dist_sms_night|nbre_voix_night|dur_night|nbre_dist_voix_night|\n",
      "+-------------+--------------+-----------+----------+---------+----------+-----------+---------+------+------------+-------------------+-----------------+----------+------------+-----------------+-------------+-------+------------------+-------------+-----------+----------------+------------+------+-----------------+--------------+-------------------+---------------+---------+--------------------+\n",
      "|2250700004156|             0|          0|         0|        0|         0|          0|        0|     0|           0|                  0|                0|  20210930|         2.0|              2.0|          0.0|    0.0|               0.0|          0.0|        6.0|             1.0|         0.0|   0.0|              0.0|             0|                  0|              0|        0|                   0|\n",
      "|2250700008166|             0|          0|         0|        0|         0|          0|        0|     0|           0|                  0|                0|  20210930|        16.0|              4.0|         10.0|  602.0|               3.0|         12.0|       10.0|             2.0|        10.0| 748.0|              6.0|             0|                  0|              0|        0|                   0|\n",
      "|2250700008178|             0|          0|         0|        0|         0|          0|        0|     0|           0|                  0|                0|  20210930|         3.0|              3.0|         14.0|  857.0|               8.0|         13.0|       12.0|             6.0|         4.0| 166.0|              3.0|             0|                  0|              0|        0|                   0|\n",
      "|2250700008488|             0|          0|         0|        0|         0|          0|        0|     0|           0|                  0|                0|  20210930|         1.0|              1.0|          6.0|  670.0|               5.0|          7.0|          0|               0|           0|     0|                0|             0|                  0|              0|        0|                   0|\n",
      "|2250700010952|             0|          0|         0|        0|         0|          0|        0|     0|           0|                  0|                0|  20210930|         3.0|              2.0|          0.0|    0.0|               0.0|          0.0|       11.0|             3.0|         1.0|  40.0|              1.0|             0|                  0|              0|        0|                   0|\n",
      "|2250700011410|             0|          0|         0|        0|         0|          0|        0|     0|           0|                  0|                0|  20210930|           0|                0|            0|      0|                 0|            0|        2.0|             2.0|         4.0| 123.0|              4.0|             0|                  0|              0|        0|                   0|\n",
      "|2250700011992|             0|          0|         0|        0|         0|          0|        0|     0|           0|                  0|                0|  20210930|         1.0|              1.0|          9.0|  475.0|               7.0|          4.0|        1.0|             1.0|         6.0| 393.0|              4.0|             0|                  0|              0|        0|                   0|\n",
      "|2250700013994|             0|          0|         0|        0|         0|          0|        0|     0|           0|                  0|                0|  20210930|           0|                0|            0|      0|                 0|            0|        5.0|             2.0|         0.0|   0.0|              0.0|             0|                  0|              0|        0|                   0|\n",
      "|2250700014375|             0|          0|         0|        0|         0|          0|        0|     0|           0|                  0|                0|  20210930|         3.0|              2.0|          2.0|   31.0|               1.0|          4.0|        7.0|             3.0|         3.0| 124.0|              1.0|             0|                  0|              0|        0|                   0|\n",
      "|2250700017047|MOSAIK TELECOM|          0|         0|        0|         1|          0|        0|     0|           0|                  0|                0|  20210930|           0|                0|            0|      0|                 0|            0|       20.0|             5.0|         9.0| 531.0|              4.0|             0|                  0|              0|        0|                   0|\n",
      "|2250700020426|             0|          0|         0|        0|         0|          0|        0|     0|           0|                  0|                0|  20210930|           0|                0|            0|      0|                 0|            0|        4.0|             4.0|         1.0|  20.0|              1.0|             0|                  0|              0|        0|                   0|\n",
      "|2250700022047|             0|          0|         0|        0|         0|          0|        0|     0|           0|                  0|                0|  20210930|           0|                0|            0|      0|                 0|            0|        4.0|             1.0|         0.0|   0.0|              0.0|             0|                  0|              0|        0|                   0|\n",
      "|2250700025945|             0|          0|         0|        0|         0|          0|        0|     0|           0|                  0|                0|  20210930|           0|                0|            0|      0|                 0|            0|        2.0|             1.0|         0.0|   0.0|              0.0|             0|                  0|              0|        0|                   0|\n",
      "|2250700028262|             0|          0|         0|        0|         0|          0|        0|     0|           0|                  0|                0|  20210930|         1.0|              1.0|          9.0|  560.0|               2.0|          5.0|        2.0|             1.0|         6.0| 192.0|              2.0|             0|                  0|              0|        0|                   0|\n",
      "|2250700028611|             0|          0|         0|        0|         0|          0|        0|     0|           0|                  0|                0|  20210930|         3.0|              2.0|          0.0|    0.0|               0.0|          0.0|        5.0|             2.0|         0.0|   0.0|              0.0|             0|                  0|              0|        0|                   0|\n",
      "|2250700031452|             0|          0|         0|        0|         0|          0|        0|     0|           0|                  0|                0|  20210930|         1.0|              1.0|          0.0|    0.0|               0.0|          0.0|          0|               0|           0|     0|                0|             0|                  0|              0|        0|                   0|\n",
      "|2250700032787|             0|          0|         0|        0|         0|          0|        0|     0|           0|                  0|                0|  20210930|           0|                0|            0|      0|                 0|            0|        5.0|             2.0|         9.0| 559.0|              4.0|             0|                  0|              0|        0|                   0|\n",
      "|2250700039367|             0|          0|         0|        0|         0|          0|        0|     0|           0|                  0|                0|  20210930|           0|                0|            0|      0|                 0|            0|        1.0|             1.0|         0.0|   0.0|              0.0|             0|                  0|              0|        0|                   0|\n",
      "|2250700039628|             0|          0|         0|        0|         0|          0|        0|     0|           0|                  0|                0|  20210930|           0|                0|            0|      0|                 0|            0|        1.0|             1.0|         0.0|   0.0|              0.0|             0|                  0|              0|        0|                   0|\n",
      "|2250700040716|             0|          0|         0|        0|         0|          0|        0|     0|           0|                  0|                0|  20210930|           0|                0|            0|      0|                 0|            0|        2.0|             1.0|         3.0|  99.0|              2.0|             0|                  0|              0|        0|                   0|\n",
      "+-------------+--------------+-----------+----------+---------+----------+-----------+---------+------+------------+-------------------+-----------------+----------+------------+-----------------+-------------+-------+------------------+-------------+-----------+----------------+------------+------+-----------------+--------------+-------------------+---------------+---------+--------------------+\n",
      "only showing top 20 rows\n",
      "\n",
      "root\n",
      " |-- msisdn: string (nullable = false)\n",
      " |-- distributeur: string (nullable = false)\n",
      " |-- statut_voix: string (nullable = false)\n",
      " |-- statut_sms: string (nullable = false)\n",
      " |-- statut_ff: string (nullable = false)\n",
      " |-- statut_sva: string (nullable = false)\n",
      " |-- statut_data: string (nullable = false)\n",
      " |-- statut_om: string (nullable = false)\n",
      " |-- valeur: string (nullable = false)\n",
      " |-- vol_tot_data: string (nullable = false)\n",
      " |-- vol_tot_voix_offnet: string (nullable = false)\n",
      " |-- vol_tot_voix_onet: string (nullable = false)\n",
      " |-- date_appel: string (nullable = false)\n",
      " |-- nbre_sms_out: string (nullable = false)\n",
      " |-- nbre_dist_sms_out: string (nullable = false)\n",
      " |-- nbre_voix_out: string (nullable = false)\n",
      " |-- dur_out: string (nullable = false)\n",
      " |-- nbre_dist_voix_out: string (nullable = false)\n",
      " |-- nbre_cell_out: string (nullable = false)\n",
      " |-- nbre_sms_in: string (nullable = false)\n",
      " |-- nbre_dist_sms_in: string (nullable = false)\n",
      " |-- nbre_voix_in: string (nullable = false)\n",
      " |-- dur_in: string (nullable = false)\n",
      " |-- nbre_dist_voix_in: string (nullable = false)\n",
      " |-- nbre_sms_night: string (nullable = false)\n",
      " |-- nbre_dist_sms_night: string (nullable = false)\n",
      " |-- nbre_voix_night: string (nullable = false)\n",
      " |-- dur_night: string (nullable = false)\n",
      " |-- nbre_dist_voix_night: string (nullable = false)\n",
      "\n"
     ]
    }
   ],
   "source": [
    "df_final = df_final.na.fill(str(0))\n",
    "df_final = df_final.fillna(str(0))\n",
    "df_final = df_final.replace('NULL',str(0))\n",
    "df_final = df_final.replace('null' ,str(0))\n",
    "\n",
    "df_final.show()\n",
    "df_final.printSchema()"
   ]
  },
  {
   "cell_type": "code",
   "execution_count": 250,
   "metadata": {},
   "outputs": [
    {
     "name": "stdout",
     "output_type": "stream",
     "text": [
      "+-------------+--------------+-----------+----------+---------+----------+-----------+---------+------+------------+-------------------+-----------------+----------+------------+-----------------+-------------+-------+------------------+-------------+-----------+----------------+------------+------+-----------------+--------------+-------------------+---------------+---------+--------------------+\n",
      "|       msisdn|  distributeur|statut_voix|statut_sms|statut_ff|statut_sva|statut_data|statut_om|valeur|vol_tot_data|vol_tot_voix_offnet|vol_tot_voix_onet|date_appel|nbre_sms_out|nbre_dist_sms_out|nbre_voix_out|dur_out|nbre_dist_voix_out|nbre_cell_out|nbre_sms_in|nbre_dist_sms_in|nbre_voix_in|dur_in|nbre_dist_voix_in|nbre_sms_night|nbre_dist_sms_night|nbre_voix_night|dur_night|nbre_dist_voix_night|\n",
      "+-------------+--------------+-----------+----------+---------+----------+-----------+---------+------+------------+-------------------+-----------------+----------+------------+-----------------+-------------+-------+------------------+-------------+-----------+----------------+------------+------+-----------------+--------------+-------------------+---------------+---------+--------------------+\n",
      "|2250700004156|           SII|          0|         0|        0|         0|          0|        0|     0|           0|                  0|                0|  20210930|         2.0|              2.0|          0.0|    0.0|               0.0|          0.0|        6.0|             1.0|         0.0|   0.0|              0.0|             0|                  0|              0|        0|                   0|\n",
      "|2250700008166|           SII|          0|         0|        0|         0|          0|        0|     0|           0|                  0|                0|  20210930|        16.0|              4.0|         10.0|  602.0|               3.0|         12.0|       10.0|             2.0|        10.0| 748.0|              6.0|             0|                  0|              0|        0|                   0|\n",
      "|2250700008178|           SII|          0|         0|        0|         0|          0|        0|     0|           0|                  0|                0|  20210930|         3.0|              3.0|         14.0|  857.0|               8.0|         13.0|       12.0|             6.0|         4.0| 166.0|              3.0|             0|                  0|              0|        0|                   0|\n",
      "|2250700008488|           SII|          0|         0|        0|         0|          0|        0|     0|           0|                  0|                0|  20210930|         1.0|              1.0|          6.0|  670.0|               5.0|          7.0|          0|               0|           0|     0|                0|             0|                  0|              0|        0|                   0|\n",
      "|2250700010952|           SII|          0|         0|        0|         0|          0|        0|     0|           0|                  0|                0|  20210930|         3.0|              2.0|          0.0|    0.0|               0.0|          0.0|       11.0|             3.0|         1.0|  40.0|              1.0|             0|                  0|              0|        0|                   0|\n",
      "|2250700011410|           SII|          0|         0|        0|         0|          0|        0|     0|           0|                  0|                0|  20210930|           0|                0|            0|      0|                 0|            0|        2.0|             2.0|         4.0| 123.0|              4.0|             0|                  0|              0|        0|                   0|\n",
      "|2250700011992|           SII|          0|         0|        0|         0|          0|        0|     0|           0|                  0|                0|  20210930|         1.0|              1.0|          9.0|  475.0|               7.0|          4.0|        1.0|             1.0|         6.0| 393.0|              4.0|             0|                  0|              0|        0|                   0|\n",
      "|2250700013994|           SII|          0|         0|        0|         0|          0|        0|     0|           0|                  0|                0|  20210930|           0|                0|            0|      0|                 0|            0|        5.0|             2.0|         0.0|   0.0|              0.0|             0|                  0|              0|        0|                   0|\n",
      "|2250700014375|           SII|          0|         0|        0|         0|          0|        0|     0|           0|                  0|                0|  20210930|         3.0|              2.0|          2.0|   31.0|               1.0|          4.0|        7.0|             3.0|         3.0| 124.0|              1.0|             0|                  0|              0|        0|                   0|\n",
      "|2250700017047|MOSAIK TELECOM|          0|         0|        0|         1|          0|        0|     0|           0|                  0|                0|  20210930|           0|                0|            0|      0|                 0|            0|       20.0|             5.0|         9.0| 531.0|              4.0|             0|                  0|              0|        0|                   0|\n",
      "|2250700020426|           SII|          0|         0|        0|         0|          0|        0|     0|           0|                  0|                0|  20210930|           0|                0|            0|      0|                 0|            0|        4.0|             4.0|         1.0|  20.0|              1.0|             0|                  0|              0|        0|                   0|\n",
      "|2250700022047|           SII|          0|         0|        0|         0|          0|        0|     0|           0|                  0|                0|  20210930|           0|                0|            0|      0|                 0|            0|        4.0|             1.0|         0.0|   0.0|              0.0|             0|                  0|              0|        0|                   0|\n",
      "|2250700025945|           SII|          0|         0|        0|         0|          0|        0|     0|           0|                  0|                0|  20210930|           0|                0|            0|      0|                 0|            0|        2.0|             1.0|         0.0|   0.0|              0.0|             0|                  0|              0|        0|                   0|\n",
      "|2250700028262|           SII|          0|         0|        0|         0|          0|        0|     0|           0|                  0|                0|  20210930|         1.0|              1.0|          9.0|  560.0|               2.0|          5.0|        2.0|             1.0|         6.0| 192.0|              2.0|             0|                  0|              0|        0|                   0|\n",
      "|2250700028611|           SII|          0|         0|        0|         0|          0|        0|     0|           0|                  0|                0|  20210930|         3.0|              2.0|          0.0|    0.0|               0.0|          0.0|        5.0|             2.0|         0.0|   0.0|              0.0|             0|                  0|              0|        0|                   0|\n",
      "|2250700031452|           SII|          0|         0|        0|         0|          0|        0|     0|           0|                  0|                0|  20210930|         1.0|              1.0|          0.0|    0.0|               0.0|          0.0|          0|               0|           0|     0|                0|             0|                  0|              0|        0|                   0|\n",
      "|2250700032787|           SII|          0|         0|        0|         0|          0|        0|     0|           0|                  0|                0|  20210930|           0|                0|            0|      0|                 0|            0|        5.0|             2.0|         9.0| 559.0|              4.0|             0|                  0|              0|        0|                   0|\n",
      "|2250700039367|           SII|          0|         0|        0|         0|          0|        0|     0|           0|                  0|                0|  20210930|           0|                0|            0|      0|                 0|            0|        1.0|             1.0|         0.0|   0.0|              0.0|             0|                  0|              0|        0|                   0|\n",
      "|2250700039628|           SII|          0|         0|        0|         0|          0|        0|     0|           0|                  0|                0|  20210930|           0|                0|            0|      0|                 0|            0|        1.0|             1.0|         0.0|   0.0|              0.0|             0|                  0|              0|        0|                   0|\n",
      "|2250700040716|           SII|          0|         0|        0|         0|          0|        0|     0|           0|                  0|                0|  20210930|           0|                0|            0|      0|                 0|            0|        2.0|             1.0|         3.0|  99.0|              2.0|             0|                  0|              0|        0|                   0|\n",
      "+-------------+--------------+-----------+----------+---------+----------+-----------+---------+------+------------+-------------------+-----------------+----------+------------+-----------------+-------------+-------+------------------+-------------+-----------+----------------+------------+------+-----------------+--------------+-------------------+---------------+---------+--------------------+\n",
      "only showing top 20 rows\n",
      "\n",
      "root\n",
      " |-- msisdn: string (nullable = false)\n",
      " |-- distributeur: string (nullable = false)\n",
      " |-- statut_voix: string (nullable = false)\n",
      " |-- statut_sms: string (nullable = false)\n",
      " |-- statut_ff: string (nullable = false)\n",
      " |-- statut_sva: string (nullable = false)\n",
      " |-- statut_data: string (nullable = false)\n",
      " |-- statut_om: string (nullable = false)\n",
      " |-- valeur: string (nullable = false)\n",
      " |-- vol_tot_data: string (nullable = false)\n",
      " |-- vol_tot_voix_offnet: string (nullable = false)\n",
      " |-- vol_tot_voix_onet: string (nullable = false)\n",
      " |-- date_appel: string (nullable = false)\n",
      " |-- nbre_sms_out: string (nullable = false)\n",
      " |-- nbre_dist_sms_out: string (nullable = false)\n",
      " |-- nbre_voix_out: string (nullable = false)\n",
      " |-- dur_out: string (nullable = false)\n",
      " |-- nbre_dist_voix_out: string (nullable = false)\n",
      " |-- nbre_cell_out: string (nullable = false)\n",
      " |-- nbre_sms_in: string (nullable = false)\n",
      " |-- nbre_dist_sms_in: string (nullable = false)\n",
      " |-- nbre_voix_in: string (nullable = false)\n",
      " |-- dur_in: string (nullable = false)\n",
      " |-- nbre_dist_voix_in: string (nullable = false)\n",
      " |-- nbre_sms_night: string (nullable = false)\n",
      " |-- nbre_dist_sms_night: string (nullable = false)\n",
      " |-- nbre_voix_night: string (nullable = false)\n",
      " |-- dur_night: string (nullable = false)\n",
      " |-- nbre_dist_voix_night: string (nullable = false)\n",
      "\n"
     ]
    }
   ],
   "source": [
    "df_final = df_final.withColumn(\"distributeur\", when(col(\"distributeur\") == \"0\", \"SII\").otherwise(df_final.distributeur))\n",
    "#df_final.groupby(\"DISTRIBUTEUR\").count().show()\n",
    "\n",
    "\n",
    "cols = [i.lower() for i in df_final.columns]\n",
    "df_final = df_final.toDF(*(c for c in cols))\n",
    "\n",
    "df_final.show()\n",
    "df_final.printSchema()\n"
   ]
  },
  {
   "cell_type": "code",
   "execution_count": null,
   "metadata": {},
   "outputs": [],
   "source": []
  },
  {
   "cell_type": "code",
   "execution_count": 251,
   "metadata": {},
   "outputs": [],
   "source": [
    "df_final.write.format(\"parquet\").mode(\"overwrite\").save(\"/Users/youssouf/Documents/simboxv2/df_final_prediction_20210930.parquet\")\n",
    "\n"
   ]
  },
  {
   "cell_type": "code",
   "execution_count": 252,
   "metadata": {},
   "outputs": [],
   "source": [
    "def From_pyparquet_to_pandascsv(load_path, save_path) :\n",
    "    df = pq.read_table(load_path).to_pandas()\n",
    "    df.to_csv(save_path, index = False, sep = \";\" )\n",
    "    return os.path.isfile(save_path)"
   ]
  },
  {
   "cell_type": "code",
   "execution_count": 253,
   "metadata": {},
   "outputs": [
    {
     "data": {
      "text/plain": [
       "True"
      ]
     },
     "execution_count": 253,
     "metadata": {},
     "output_type": "execute_result"
    }
   ],
   "source": [
    "From_pyparquet_to_pandascsv(\"/Users/youssouf/Documents/simboxv2/df_final_prediction_20210930.parquet\",\n",
    "                           \"/Users/youssouf/Documents/simboxv2/df_final_prediction_20210930.csv\")"
   ]
  },
  {
   "cell_type": "code",
   "execution_count": null,
   "metadata": {},
   "outputs": [],
   "source": []
  },
  {
   "cell_type": "code",
   "execution_count": null,
   "metadata": {},
   "outputs": [],
   "source": []
  },
  {
   "cell_type": "code",
   "execution_count": null,
   "metadata": {},
   "outputs": [],
   "source": []
  },
  {
   "cell_type": "code",
   "execution_count": null,
   "metadata": {},
   "outputs": [],
   "source": []
  },
  {
   "cell_type": "code",
   "execution_count": null,
   "metadata": {},
   "outputs": [],
   "source": [
    "    "
   ]
  },
  {
   "cell_type": "code",
   "execution_count": null,
   "metadata": {},
   "outputs": [],
   "source": []
  }
 ],
 "metadata": {
  "kernelspec": {
   "display_name": "Python 3",
   "language": "python",
   "name": "python3"
  },
  "language_info": {
   "codemirror_mode": {
    "name": "ipython",
    "version": 3
   },
   "file_extension": ".py",
   "mimetype": "text/x-python",
   "name": "python",
   "nbconvert_exporter": "python",
   "pygments_lexer": "ipython3",
   "version": "3.8.5"
  }
 },
 "nbformat": 4,
 "nbformat_minor": 4
}
