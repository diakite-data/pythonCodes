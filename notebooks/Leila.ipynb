{
 "cells": [
  {
   "cell_type": "code",
   "execution_count": 2,
   "metadata": {},
   "outputs": [],
   "source": [
    "def solve_premier(a,b) :\n",
    "    if a == 0 :\n",
    "        return \"votre equation n'est pas de premier degre\"\n",
    "    else :\n",
    "        return -b/a"
   ]
  },
  {
   "cell_type": "code",
   "execution_count": 4,
   "metadata": {},
   "outputs": [
    {
     "data": {
      "text/plain": [
       "\"votre equation n'est pas de premier degre\""
      ]
     },
     "execution_count": 4,
     "metadata": {},
     "output_type": "execute_result"
    }
   ],
   "source": [
    "solve_premier(0,2)"
   ]
  },
  {
   "cell_type": "code",
   "execution_count": 5,
   "metadata": {},
   "outputs": [
    {
     "name": "stdout",
     "output_type": "stream",
     "text": [
      "0\n",
      "1\n",
      "2\n",
      "3\n",
      "4\n",
      "5\n",
      "6\n",
      "7\n",
      "8\n",
      "9\n"
     ]
    }
   ],
   "source": [
    "for i in range(10) :\n",
    "    print(i)"
   ]
  },
  {
   "cell_type": "code",
   "execution_count": 8,
   "metadata": {},
   "outputs": [
    {
     "name": "stdout",
     "output_type": "stream",
     "text": [
      "je sais cuisiner la sauce claire\n",
      "je ne sais pas cuisiner la sauce feuille\n",
      "je ne sais pas cuisiner la sauce arachide\n",
      "je sais cuisiner la sauce aubergine\n",
      "je ne sais pas cuisiner la sauce tomate\n",
      "je sais cuisiner la sauce gombo\n",
      "je ne sais pas cuisiner la sauce gnan-gnan\n"
     ]
    }
   ],
   "source": [
    "sauce = [\"claire\", \"feuille\", \"arachide\", \"aubergine\", \"tomate\", \"gombo\", \"gnan-gnan\"]\n",
    "for i in sauce :\n",
    "    if i == \"claire\" or i == \"gombo\" or i == \"aubergine\" :\n",
    "        print(\"je sais cuisiner la sauce \" + i)\n",
    "    else :\n",
    "        print(\"je ne sais pas cuisiner la sauce \" + i)"
   ]
  },
  {
   "cell_type": "code",
   "execution_count": 9,
   "metadata": {},
   "outputs": [
    {
     "name": "stdout",
     "output_type": "stream",
     "text": [
      "0\n",
      "1\n",
      "2\n",
      "3\n",
      "4\n",
      "5\n",
      "6\n",
      "7\n",
      "8\n",
      "9\n"
     ]
    }
   ],
   "source": [
    "i = 0\n",
    "while i < 10 :\n",
    "    print(i)\n",
    "    i = i + 1"
   ]
  },
  {
   "cell_type": "code",
   "execution_count": 11,
   "metadata": {},
   "outputs": [
    {
     "name": "stdout",
     "output_type": "stream",
     "text": [
      "je sais cuisiner la sauce claire\n",
      "je ne sais pas cuisiner la sauce feuille\n",
      "je ne sais pas cuisiner la sauce arachide\n",
      "je sais cuisiner la sauce aubergine\n",
      "je ne sais pas cuisiner la sauce tomate\n",
      "je sais cuisiner la sauce gombo\n",
      "je ne sais pas cuisiner la sauce gnan-gnan\n"
     ]
    }
   ],
   "source": [
    "i = 0\n",
    "while i < len(sauce) :\n",
    "    if sauce[i] == \"claire\" or sauce[i] == \"gombo\" or sauce[i] == \"aubergine\" :\n",
    "        print(\"je sais cuisiner la sauce \" + sauce[i])\n",
    "    else :\n",
    "        print(\"je ne sais pas cuisiner la sauce \" + sauce[i])\n",
    "    i = i + 1"
   ]
  },
  {
   "cell_type": "code",
   "execution_count": null,
   "metadata": {},
   "outputs": [],
   "source": []
  },
  {
   "cell_type": "code",
   "execution_count": null,
   "metadata": {},
   "outputs": [],
   "source": []
  }
 ],
 "metadata": {
  "kernelspec": {
   "display_name": "Python 3",
   "language": "python",
   "name": "python3"
  },
  "language_info": {
   "codemirror_mode": {
    "name": "ipython",
    "version": 3
   },
   "file_extension": ".py",
   "mimetype": "text/x-python",
   "name": "python",
   "nbconvert_exporter": "python",
   "pygments_lexer": "ipython3",
   "version": "3.8.5"
  }
 },
 "nbformat": 4,
 "nbformat_minor": 4
}
