{
 "cells": [
  {
   "cell_type": "code",
   "execution_count": 1,
   "metadata": {},
   "outputs": [],
   "source": [
    "from pyspark.ml.clustering import KMeans\n",
    "from pyspark.ml.evaluation import ClusteringEvaluator\n",
    "from pyspark.sql.functions import *\n",
    "from pyspark.sql.types import *\n",
    "from pyspark.ml.feature import *\n",
    "from pyspark.ml import Pipeline\n",
    "from pyspark.ml.feature import IndexToString, StringIndexer, VectorIndexer\n",
    "from pyspark.ml.evaluation import MulticlassClassificationEvaluator\n",
    "from pyspark.ml.feature import VectorAssembler\n",
    "from pyspark.ml.evaluation import BinaryClassificationEvaluator\n",
    "from pyspark.ml.classification import MultilayerPerceptronClassifier\n",
    "from pyspark.ml.evaluation import MulticlassClassificationEvaluator\n",
    "from pyspark.mllib.evaluation import MulticlassMetrics\n",
    "from pyspark.sql import SparkSession\n",
    "from pyspark.ml.classification import LinearSVC\n",
    "from pyspark.ml.classification import *\n",
    "from pyspark.ml.tuning import CrossValidator, ParamGridBuilder\n",
    "import logging\n",
    "import pandas as pd\n",
    "import pyarrow.parquet as pq\n",
    "import numpy as np\n",
    "import os\n",
    "\n",
    "\n",
    "spark = SparkSession.builder.master(\"local[1]\")\\\n",
    "          .appName(\"sunshine_v2\")\\\n",
    "          .getOrCreate()"
   ]
  },
  {
   "cell_type": "code",
   "execution_count": 16,
   "metadata": {},
   "outputs": [
    {
     "name": "stdout",
     "output_type": "stream",
     "text": [
      "+--------+-------------+-----+---------+-----------+\n",
      "| date_id|       msisdn|outil|operateur|destination|\n",
      "+--------+-------------+-----+---------+-----------+\n",
      "|20211021|2250700022953|   FR|   ORANGE|     ON NET|\n",
      "|20211021|2250700022954|   FR|   ORANGE|     ON NET|\n",
      "|20211021|2250700023060|   FR|   ORANGE|     ON NET|\n",
      "|20211021|2250700057473|   FR|   ORANGE|     ON NET|\n",
      "|20211021|2250700180629|   FR|   ORANGE|     ON NET|\n",
      "+--------+-------------+-----+---------+-----------+\n",
      "only showing top 5 rows\n",
      "\n"
     ]
    }
   ],
   "source": [
    "df_fraudeur_FRA = spark.read.option(\"header\", True) \\\n",
    "                        .option(\"delimiter\", \";\") \\\n",
    "                        .csv(\"/Users/youssouf/Downloads/simbox_21_10_2021_to_07_11_2021.csv\")\n",
    "df_fraudeur_FRA = df_fraudeur_FRA.withColumn(\"msisdn\", concat(lit(\"225\") , col(\"msisdn\")))                                                                                     \n",
    "df_fraudeur_FRA.show(5)                                                                                   "
   ]
  },
  {
   "cell_type": "code",
   "execution_count": 17,
   "metadata": {},
   "outputs": [
    {
     "data": {
      "text/plain": [
       "108"
      ]
     },
     "execution_count": 17,
     "metadata": {},
     "output_type": "execute_result"
    }
   ],
   "source": [
    "df_fraudeur_FRA.filter(col(\"date_id\") == \"20211101\").select(\"msisdn\").distinct().count()"
   ]
  },
  {
   "cell_type": "code",
   "execution_count": 26,
   "metadata": {},
   "outputs": [
    {
     "data": {
      "text/plain": [
       "4753"
      ]
     },
     "execution_count": 26,
     "metadata": {},
     "output_type": "execute_result"
    }
   ],
   "source": [
    "df_fraudeur_FRA.count()"
   ]
  },
  {
   "cell_type": "code",
   "execution_count": 27,
   "metadata": {},
   "outputs": [
    {
     "data": {
      "text/plain": [
       "4609"
      ]
     },
     "execution_count": 27,
     "metadata": {},
     "output_type": "execute_result"
    }
   ],
   "source": [
    "df_fraudeur_FRA.dropDuplicates([\"msisdn\", \"date_id\"]).count()"
   ]
  },
  {
   "cell_type": "code",
   "execution_count": 17,
   "metadata": {},
   "outputs": [],
   "source": [
    "def check_fraudeur_date(date) :\n",
    "    from datetime import datetime\n",
    "\n",
    "    path = \"/Users/youssouf/Downloads/predition_\" + date + \".csv\"\n",
    "    df = spark.read.option(\"header\", \"true\").option(\"delimiter\",\";\").csv(path)\n",
    "      \n",
    "    df_fraudeur = spark.read.option(\"header\", True) \\\n",
    "                        .option(\"delimiter\", \";\") \\\n",
    "                        .csv(\"/Users/youssouf/Downloads/simbox_21_10_2021_to_07_11_2021.csv\") \\\n",
    "                        .withColumn(\"msisdn\", concat(lit(\"225\") , col(\"msisdn\"))) \\\n",
    "                        .filter(col(\"date_id\") == date)\n",
    "        \n",
    "    compa = df.join(df_fraudeur , [\"msisdn\"], \"inner\")\n",
    "    \n",
    "    a = df.join(df_fraudeur, [\"msisdn\"], \"inner\").count() \n",
    "    res = {\"NOMBRE DE DETECTION\" : df.select(\"msisdn\").distinct().count()  , \n",
    "           \"NOMBRE DE FRA\" : df_fraudeur.select(\"msisdn\").distinct().count() ,\n",
    "           \"NOMBRE COMMUN\" : compa.select(\"msisdn\").distinct().count() \n",
    "           #\"NUMERO COMMUN\" : compa.select(\"msisdn\").show(a) ,\n",
    "           #\"NOMBRE FRAU/NON-FRAU\": \"\" #df.groupBy(\"prediction\").count().show() \n",
    "          }\n",
    "\n",
    "    return res"
   ]
  },
  {
   "cell_type": "code",
   "execution_count": 18,
   "metadata": {},
   "outputs": [
    {
     "data": {
      "text/plain": [
       "{'NOMBRE DE DETECTION': 731813, 'NOMBRE DE FRA': 338, 'NOMBRE COMMUN': 138}"
      ]
     },
     "execution_count": 18,
     "metadata": {},
     "output_type": "execute_result"
    }
   ],
   "source": [
    "check_fraudeur_date(\"20211021\")"
   ]
  },
  {
   "cell_type": "code",
   "execution_count": 19,
   "metadata": {},
   "outputs": [
    {
     "data": {
      "text/plain": [
       "{'NOMBRE DE DETECTION': 683733, 'NOMBRE DE FRA': 221, 'NOMBRE COMMUN': 91}"
      ]
     },
     "execution_count": 19,
     "metadata": {},
     "output_type": "execute_result"
    }
   ],
   "source": [
    "check_fraudeur_date(\"20211022\")"
   ]
  },
  {
   "cell_type": "code",
   "execution_count": 20,
   "metadata": {},
   "outputs": [
    {
     "data": {
      "text/plain": [
       "{'NOMBRE DE DETECTION': 629745, 'NOMBRE DE FRA': 210, 'NOMBRE COMMUN': 120}"
      ]
     },
     "execution_count": 20,
     "metadata": {},
     "output_type": "execute_result"
    }
   ],
   "source": [
    "check_fraudeur_date(\"20211023\")"
   ]
  },
  {
   "cell_type": "code",
   "execution_count": null,
   "metadata": {},
   "outputs": [],
   "source": []
  },
  {
   "cell_type": "code",
   "execution_count": null,
   "metadata": {},
   "outputs": [],
   "source": []
  },
  {
   "cell_type": "code",
   "execution_count": 23,
   "metadata": {},
   "outputs": [
    {
     "name": "stdout",
     "output_type": "stream",
     "text": [
      "+--------+----------+-----+---------+-----------+----------+\n",
      "| date_id|    msisdn|outil|operateur|destination|DATE_APPEL|\n",
      "+--------+----------+-----+---------+-----------+----------+\n",
      "|20211106|0778959263|   FR|   ORANGE|     ON NET|  20211106|\n",
      "|20211107|0704582743|   FR|   ORANGE|     ON NET|  20211107|\n",
      "|20211107|0704582645|   FR|   ORANGE|     ON NET|  20211107|\n",
      "|20211105|0799760619|   FR|   ORANGE|     ON NET|  20211105|\n",
      "|20211105|0700055419|   FR|   ORANGE|     ON NET|  20211105|\n",
      "+--------+----------+-----+---------+-----------+----------+\n",
      "only showing top 5 rows\n",
      "\n"
     ]
    },
    {
     "data": {
      "text/plain": [
       "10090"
      ]
     },
     "execution_count": 23,
     "metadata": {},
     "output_type": "execute_result"
    }
   ],
   "source": [
    "df_nov = spark.read.option(\"header\",\"true\").option(\"delimiter\",\";\").csv(\"/Users/youssouf/Downloads/df_trafic_simbox_nov_ok3.csv\")\n",
    "df_nov.show(5)                                                   \n",
    "df_nov.count()                                                  \n",
    "                                                   \n",
    "                                                   "
   ]
  },
  {
   "cell_type": "code",
   "execution_count": 24,
   "metadata": {},
   "outputs": [],
   "source": [
    "df_nov_ = df_nov.dropDuplicates([\"msisdn\", \"date_id\"])"
   ]
  },
  {
   "cell_type": "code",
   "execution_count": 25,
   "metadata": {},
   "outputs": [
    {
     "data": {
      "text/plain": [
       "727"
      ]
     },
     "execution_count": 25,
     "metadata": {},
     "output_type": "execute_result"
    }
   ],
   "source": [
    "df_nov_.count()"
   ]
  },
  {
   "cell_type": "code",
   "execution_count": null,
   "metadata": {},
   "outputs": [],
   "source": []
  },
  {
   "cell_type": "code",
   "execution_count": 45,
   "metadata": {},
   "outputs": [
    {
     "name": "stdout",
     "output_type": "stream",
     "text": [
      "+--------+----------+-----+---------+-----------+----------+\n",
      "| date_id|    msisdn|outil|operateur|destination|DATE_APPEL|\n",
      "+--------+----------+-----+---------+-----------+----------+\n",
      "|20211102|0767821465|   FR|   ORANGE|     ON NET|  20211102|\n",
      "|20211102|0704514312|   FR|   ORANGE|     ON NET|  20211102|\n",
      "|20211101|0799941475|   FR|   ORANGE|     ON NET|  20211101|\n",
      "|20211101|0704241555|   FR|   ORANGE|     ON NET|  20211101|\n",
      "|20211101|0778571903|   FR|   ORANGE|     ON NET|  20211101|\n",
      "|20211102|0704422848|   FR|   ORANGE|     ON NET|  20211102|\n",
      "|20211103|0798967742|   FR|   ORANGE|     ON NET|  20211103|\n",
      "|20211102|0704243898|   FR|   ORANGE|     ON NET|  20211102|\n",
      "|20211104|0768466296|   FR|   ORANGE|     ON NET|  20211104|\n",
      "|20211104|0799179101|   FR|   ORANGE|     ON NET|  20211104|\n",
      "+--------+----------+-----+---------+-----------+----------+\n",
      "only showing top 10 rows\n",
      "\n"
     ]
    }
   ],
   "source": [
    "df_nov_1 = spark.read.option(\"header\",\"true\").option(\"delimiter\",\";\").csv(\"/Users/youssouf/Downloads/df_trafic_simbox_nov_ok2.csv\")\n",
    "df_nov_1.show(10)\n",
    "\n",
    "\n"
   ]
  },
  {
   "cell_type": "code",
   "execution_count": 46,
   "metadata": {},
   "outputs": [
    {
     "name": "stdout",
     "output_type": "stream",
     "text": [
      "+--------+----------+-----+---------+-----------+----------+\n",
      "| date_id|    msisdn|outil|operateur|destination|DATE_APPEL|\n",
      "+--------+----------+-----+---------+-----------+----------+\n",
      "|20211027|0704182269|   FR|   ORANGE|     ON NET|  20211027|\n",
      "|20211028|0704184034|   FR|   ORANGE|     ON NET|  20211028|\n",
      "|20211028|0704182357|   FR|   ORANGE|     ON NET|  20211028|\n",
      "|20211027|0778233184|   FR|   ORANGE|     ON NET|  20211027|\n",
      "|20211027|0799047677|   FR|   ORANGE|     ON NET|  20211027|\n",
      "|20211027|0799873892|   FR|   ORANGE|     ON NET|  20211027|\n",
      "|20211027|0799873863|   FR|   ORANGE|     ON NET|  20211027|\n",
      "|20211026|0704552025|   FR|   ORANGE|     ON NET|  20211026|\n",
      "|20211026|0704044992|   FR|   ORANGE|     ON NET|  20211026|\n",
      "|20211028|0749740303|   FR|   ORANGE|     ON NET|  20211028|\n",
      "+--------+----------+-----+---------+-----------+----------+\n",
      "only showing top 10 rows\n",
      "\n"
     ]
    }
   ],
   "source": [
    "df_nov_2 = spark.read.option(\"header\",\"true\").option(\"delimiter\",\";\").csv(\"/Users/youssouf/Downloads/df_trafic_simbox_nov_ok1.csv\")\n",
    "df_nov_2.show(10)\n"
   ]
  },
  {
   "cell_type": "code",
   "execution_count": 47,
   "metadata": {},
   "outputs": [
    {
     "name": "stdout",
     "output_type": "stream",
     "text": [
      "+--------+----------+-----+---------+-----------+----------+\n",
      "| date_id|    msisdn|outil|operateur|destination|DATE_APPEL|\n",
      "+--------+----------+-----+---------+-----------+----------+\n",
      "|20211023|0704307953|   FR|   ORANGE|     ON NET|  20211023|\n",
      "|20211022|0787517713|   FR|   ORANGE|     ON NET|  20211022|\n",
      "|20211021|0704425565|   FR|   ORANGE|     ON NET|  20211021|\n",
      "|20211021|0704320738|   FR|   ORANGE|     ON NET|  20211021|\n",
      "|20211025|0749639772|   FR|   ORANGE|     ON NET|  20211025|\n",
      "|20211025|0758415347|   FR|   ORANGE|     ON NET|  20211025|\n",
      "|20211021|0769243852|   FR|   ORANGE|     ON NET|  20211021|\n",
      "|20211021|0700502573|   FR|   ORANGE|     ON NET|  20211021|\n",
      "|20211021|0788278884|   FR|   ORANGE|     ON NET|  20211021|\n",
      "|20211021|0799795741|   FR|   ORANGE|     ON NET|  20211021|\n",
      "+--------+----------+-----+---------+-----------+----------+\n",
      "only showing top 10 rows\n",
      "\n"
     ]
    }
   ],
   "source": [
    "df_nov_3 = spark.read.option(\"header\",\"true\").option(\"delimiter\",\";\").csv(\"/Users/youssouf/Downloads/df_trafic_simbox_nov_ok.csv\")\n",
    "df_nov_3.show(10)\n",
    "\n"
   ]
  },
  {
   "cell_type": "code",
   "execution_count": 38,
   "metadata": {},
   "outputs": [],
   "source": [
    "df_fr_trafic = df_nov_3.union(df_nov_2).union(df_nov_1).union(df_nov)"
   ]
  },
  {
   "cell_type": "code",
   "execution_count": 39,
   "metadata": {},
   "outputs": [],
   "source": [
    "df_fr_trafic.write.mode(\"overwrite\").format(\"parquet\").save(\"/Users/youssouf/Documents/simboxv2/fraudeur_20211021_20211107_only_trafic.parquet\")\n",
    "\n",
    "\n"
   ]
  },
  {
   "cell_type": "code",
   "execution_count": null,
   "metadata": {},
   "outputs": [],
   "source": []
  },
  {
   "cell_type": "code",
   "execution_count": null,
   "metadata": {},
   "outputs": [],
   "source": []
  },
  {
   "cell_type": "code",
   "execution_count": 52,
   "metadata": {},
   "outputs": [],
   "source": [
    "def check_fraudeur_date2(date) :\n",
    "    from datetime import datetime\n",
    "\n",
    "    path = \"/Users/youssouf/Downloads/predition_\" + date + \".csv\"\n",
    "    df = spark.read.option(\"header\", \"true\").option(\"delimiter\",\";\").csv(path)\n",
    "         \n",
    "    path_fr = \"/Users/youssouf/Documents/simboxv2/fraudeur_20211021_20211107_only_trafic.parquet\"\n",
    "    df_fraudeur = spark.read.parquet(path_fr) \\\n",
    "                        .withColumn(\"msisdn\", concat(lit(\"225\") , col(\"msisdn\"))) \\\n",
    "                        .dropDuplicates([\"msisdn\", \"date_id\"]) \\\n",
    "                        .filter(col(\"date_id\") == date)\n",
    "    \n",
    "    compa = df.join(df_fraudeur , [\"msisdn\"], \"inner\")\n",
    "    \n",
    "    a = df.join(df_fraudeur, [\"msisdn\"], \"inner\").count() \n",
    "    res = {\"NOMBRE DE DETECTION\" : df.select(\"msisdn\").distinct().count()  , \n",
    "           \"NOMBRE DE FRA\" : df_fraudeur.select(\"msisdn\").distinct().count() ,\n",
    "           \"NOMBRE COMMUN\" : compa.select(\"msisdn\").distinct().count() , \n",
    "           \"DATE\" : date\n",
    "          }\n",
    "\n",
    "    return res"
   ]
  },
  {
   "cell_type": "code",
   "execution_count": 53,
   "metadata": {},
   "outputs": [
    {
     "data": {
      "text/plain": [
       "{'NOMBRE DE DETECTION': 731813,\n",
       " 'NOMBRE DE FRA': 284,\n",
       " 'NOMBRE COMMUN': 138,\n",
       " 'DATE': '20211021'}"
      ]
     },
     "execution_count": 53,
     "metadata": {},
     "output_type": "execute_result"
    }
   ],
   "source": [
    "check_fraudeur_date2(\"20211021\")"
   ]
  },
  {
   "cell_type": "code",
   "execution_count": 54,
   "metadata": {},
   "outputs": [
    {
     "data": {
      "text/plain": [
       "{'NOMBRE DE DETECTION': 683733,\n",
       " 'NOMBRE DE FRA': 218,\n",
       " 'NOMBRE COMMUN': 91,\n",
       " 'DATE': '20211022'}"
      ]
     },
     "execution_count": 54,
     "metadata": {},
     "output_type": "execute_result"
    }
   ],
   "source": [
    "check_fraudeur_date2(\"20211022\")"
   ]
  },
  {
   "cell_type": "code",
   "execution_count": 55,
   "metadata": {},
   "outputs": [
    {
     "data": {
      "text/plain": [
       "{'NOMBRE DE DETECTION': 629745,\n",
       " 'NOMBRE DE FRA': 209,\n",
       " 'NOMBRE COMMUN': 120,\n",
       " 'DATE': '20211023'}"
      ]
     },
     "execution_count": 55,
     "metadata": {},
     "output_type": "execute_result"
    }
   ],
   "source": [
    "check_fraudeur_date2(\"20211023\")"
   ]
  },
  {
   "cell_type": "code",
   "execution_count": 56,
   "metadata": {},
   "outputs": [
    {
     "data": {
      "text/plain": [
       "0.5741626794258373"
      ]
     },
     "execution_count": 56,
     "metadata": {},
     "output_type": "execute_result"
    }
   ],
   "source": [
    "120/209"
   ]
  },
  {
   "cell_type": "code",
   "execution_count": 57,
   "metadata": {},
   "outputs": [
    {
     "data": {
      "text/plain": [
       "0.4859154929577465"
      ]
     },
     "execution_count": 57,
     "metadata": {},
     "output_type": "execute_result"
    }
   ],
   "source": [
    "138/284"
   ]
  },
  {
   "cell_type": "code",
   "execution_count": 58,
   "metadata": {},
   "outputs": [
    {
     "data": {
      "text/plain": [
       "0.41743119266055045"
      ]
     },
     "execution_count": 58,
     "metadata": {},
     "output_type": "execute_result"
    }
   ],
   "source": [
    "91/218"
   ]
  },
  {
   "cell_type": "code",
   "execution_count": 14,
   "metadata": {},
   "outputs": [
    {
     "name": "stdout",
     "output_type": "stream",
     "text": [
      "+--------+-------------+-----+---------+-----------+----------+\n",
      "| date_id|       msisdn|outil|operateur|destination|DATE_APPEL|\n",
      "+--------+-------------+-----+---------+-----------+----------+\n",
      "|20211101|2250799158468|   FR|   ORANGE|     ON NET|  20211101|\n",
      "|20211101|2250799636673|   FR|   ORANGE|     ON NET|  20211101|\n",
      "|20211101|2250777241106|   FR|   ORANGE|     ON NET|  20211101|\n",
      "|20211101|2250757015477|   FR|   ORANGE|     ON NET|  20211101|\n",
      "|20211101|2250777162304|   FR|   ORANGE|     ON NET|  20211101|\n",
      "+--------+-------------+-----+---------+-----------+----------+\n",
      "only showing top 5 rows\n",
      "\n"
     ]
    }
   ],
   "source": [
    "path_fr = \"/Users/youssouf/Documents/simboxv2/fraudeur_20211021_20211107_only_trafic.parquet\"\n",
    "df_fraudeur = spark.read.parquet(path_fr) \\\n",
    "                        .withColumn(\"msisdn\", concat(lit(\"225\") , col(\"msisdn\"))) \\\n",
    "                        .dropDuplicates([\"msisdn\", \"date_id\"]) \\\n",
    "                        .filter(col(\"date_id\") == \"20211101\")\n",
    "df_fraudeur.show(5)"
   ]
  },
  {
   "cell_type": "code",
   "execution_count": 15,
   "metadata": {},
   "outputs": [
    {
     "data": {
      "text/plain": [
       "108"
      ]
     },
     "execution_count": 15,
     "metadata": {},
     "output_type": "execute_result"
    }
   ],
   "source": [
    "df_fraudeur.count()"
   ]
  },
  {
   "cell_type": "code",
   "execution_count": null,
   "metadata": {},
   "outputs": [],
   "source": []
  },
  {
   "cell_type": "code",
   "execution_count": null,
   "metadata": {},
   "outputs": [],
   "source": []
  },
  {
   "cell_type": "code",
   "execution_count": null,
   "metadata": {},
   "outputs": [],
   "source": []
  },
  {
   "cell_type": "code",
   "execution_count": 1,
   "metadata": {},
   "outputs": [],
   "source": [
    "import pandas as pd"
   ]
  },
  {
   "cell_type": "code",
   "execution_count": 2,
   "metadata": {},
   "outputs": [
    {
     "data": {
      "text/html": [
       "<div>\n",
       "<style scoped>\n",
       "    .dataframe tbody tr th:only-of-type {\n",
       "        vertical-align: middle;\n",
       "    }\n",
       "\n",
       "    .dataframe tbody tr th {\n",
       "        vertical-align: top;\n",
       "    }\n",
       "\n",
       "    .dataframe thead th {\n",
       "        text-align: right;\n",
       "    }\n",
       "</style>\n",
       "<table border=\"1\" class=\"dataframe\">\n",
       "  <thead>\n",
       "    <tr style=\"text-align: right;\">\n",
       "      <th></th>\n",
       "      <th>x</th>\n",
       "    </tr>\n",
       "  </thead>\n",
       "  <tbody>\n",
       "    <tr>\n",
       "      <th>0</th>\n",
       "      <td>2720329871</td>\n",
       "    </tr>\n",
       "    <tr>\n",
       "      <th>1</th>\n",
       "      <td>2720334484</td>\n",
       "    </tr>\n",
       "    <tr>\n",
       "      <th>2</th>\n",
       "      <td>2720227529</td>\n",
       "    </tr>\n",
       "    <tr>\n",
       "      <th>3</th>\n",
       "      <td>2720224271</td>\n",
       "    </tr>\n",
       "    <tr>\n",
       "      <th>4</th>\n",
       "      <td>2720227704</td>\n",
       "    </tr>\n",
       "  </tbody>\n",
       "</table>\n",
       "</div>"
      ],
      "text/plain": [
       "            x\n",
       "0  2720329871\n",
       "1  2720334484\n",
       "2  2720227529\n",
       "3  2720224271\n",
       "4  2720227704"
      ]
     },
     "execution_count": 2,
     "metadata": {},
     "output_type": "execute_result"
    }
   ],
   "source": [
    "vv = pd.read_csv(\"/Users/youssouf/Downloads/A_regarder.csv\")\n",
    "vv.head()"
   ]
  },
  {
   "cell_type": "code",
   "execution_count": null,
   "metadata": {},
   "outputs": [],
   "source": [
    "\"2720329871\",\n",
    "\"2720334484\",\n",
    "\"2720227529\",\n",
    "\"2720224271\",\n",
    "\"2720227704\",\n",
    "\"2720221420\",\n",
    "\"2720223388\",\n",
    "\"2720218889\",\n",
    "\"2720221233\",\n",
    "\"2720214801\",\n",
    "\"2720210012\",\n",
    "\"2722422480\",\n",
    "\"2722420407\",\n",
    "\"2722447169\",\n",
    "\"2722443131\",\n",
    "\"2722442998\",\n",
    "\"2722419000\",\n",
    "\"2722416367\",\n",
    "\"2721243260\",\n",
    "\"2721248925\""
   ]
  },
  {
   "cell_type": "code",
   "execution_count": 11,
   "metadata": {},
   "outputs": [
    {
     "data": {
      "text/plain": [
       "['2720329871',\n",
       " '2720334484',\n",
       " '2720227529',\n",
       " '2720224271',\n",
       " '2720227704',\n",
       " '2720221420',\n",
       " '2720223388',\n",
       " '2720218889',\n",
       " '2720221233',\n",
       " '2720214801',\n",
       " '2720210012',\n",
       " '2722422480',\n",
       " '2722420407',\n",
       " '2722447169',\n",
       " '2722443131',\n",
       " '2722442998',\n",
       " '2722419000',\n",
       " '2722416367',\n",
       " '2721243260',\n",
       " '2721248925']"
      ]
     },
     "execution_count": 11,
     "metadata": {},
     "output_type": "execute_result"
    }
   ],
   "source": [
    "vv.x.apply(str).to_list()"
   ]
  },
  {
   "cell_type": "code",
   "execution_count": 8,
   "metadata": {},
   "outputs": [
    {
     "ename": "SyntaxError",
     "evalue": "invalid syntax (<ipython-input-8-4085a73d9fc7>, line 1)",
     "output_type": "error",
     "traceback": [
      "\u001b[0;36m  File \u001b[0;32m\"<ipython-input-8-4085a73d9fc7>\"\u001b[0;36m, line \u001b[0;32m1\u001b[0m\n\u001b[0;31m    vv.x.apply(lambda x: \"0\" + str(x) if (len(str(x)) == 12))\u001b[0m\n\u001b[0m                                                            ^\u001b[0m\n\u001b[0;31mSyntaxError\u001b[0m\u001b[0;31m:\u001b[0m invalid syntax\n"
     ]
    }
   ],
   "source": [
    "vv.x.apply(lambda x: \"0\" + str(x) if (len(str(x)) == 12) )"
   ]
  },
  {
   "cell_type": "code",
   "execution_count": 9,
   "metadata": {},
   "outputs": [],
   "source": [
    "def f(x) :\n",
    "    if len(str(x)) == 11 :\n",
    "        return \"0\" + str(x)"
   ]
  },
  {
   "cell_type": "code",
   "execution_count": 10,
   "metadata": {},
   "outputs": [
    {
     "data": {
      "text/plain": [
       "0     None\n",
       "1     None\n",
       "2     None\n",
       "3     None\n",
       "4     None\n",
       "5     None\n",
       "6     None\n",
       "7     None\n",
       "8     None\n",
       "9     None\n",
       "10    None\n",
       "11    None\n",
       "12    None\n",
       "13    None\n",
       "14    None\n",
       "15    None\n",
       "16    None\n",
       "17    None\n",
       "18    None\n",
       "19    None\n",
       "Name: x, dtype: object"
      ]
     },
     "execution_count": 10,
     "metadata": {},
     "output_type": "execute_result"
    }
   ],
   "source": [
    "vv.x.apply(f)"
   ]
  },
  {
   "cell_type": "code",
   "execution_count": null,
   "metadata": {},
   "outputs": [],
   "source": []
  },
  {
   "cell_type": "code",
   "execution_count": null,
   "metadata": {},
   "outputs": [],
   "source": []
  },
  {
   "cell_type": "code",
   "execution_count": null,
   "metadata": {},
   "outputs": [],
   "source": []
  },
  {
   "cell_type": "code",
   "execution_count": null,
   "metadata": {},
   "outputs": [],
   "source": []
  }
 ],
 "metadata": {
  "kernelspec": {
   "display_name": "Python 3",
   "language": "python",
   "name": "python3"
  },
  "language_info": {
   "codemirror_mode": {
    "name": "ipython",
    "version": 3
   },
   "file_extension": ".py",
   "mimetype": "text/x-python",
   "name": "python",
   "nbconvert_exporter": "python",
   "pygments_lexer": "ipython3",
   "version": "3.8.5"
  }
 },
 "nbformat": 4,
 "nbformat_minor": 4
}
