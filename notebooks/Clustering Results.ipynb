{
 "cells": [
  {
   "cell_type": "markdown",
   "metadata": {},
   "source": [
    "### Kmeans"
   ]
  },
  {
   "cell_type": "markdown",
   "metadata": {},
   "source": [
    "![image info](./sse.png)\n",
    "![image info](./sil.png)"
   ]
  },
  {
   "cell_type": "code",
   "execution_count": 4,
   "metadata": {},
   "outputs": [
    {
     "data": {
      "text/html": [
       "<div>\n",
       "<style scoped>\n",
       "    .dataframe tbody tr th:only-of-type {\n",
       "        vertical-align: middle;\n",
       "    }\n",
       "\n",
       "    .dataframe tbody tr th {\n",
       "        vertical-align: top;\n",
       "    }\n",
       "\n",
       "    .dataframe thead th {\n",
       "        text-align: right;\n",
       "    }\n",
       "</style>\n",
       "<table border=\"1\" class=\"dataframe\">\n",
       "  <thead>\n",
       "    <tr style=\"text-align: right;\">\n",
       "      <th></th>\n",
       "      <th>Classe</th>\n",
       "      <th>SSE</th>\n",
       "      <th>silhouette_score</th>\n",
       "    </tr>\n",
       "  </thead>\n",
       "  <tbody>\n",
       "    <tr>\n",
       "      <th>0</th>\n",
       "      <td>2</td>\n",
       "      <td>5.434968e+25</td>\n",
       "      <td>0.357633</td>\n",
       "    </tr>\n",
       "    <tr>\n",
       "      <th>1</th>\n",
       "      <td>3</td>\n",
       "      <td>3.729277e+25</td>\n",
       "      <td>0.360811</td>\n",
       "    </tr>\n",
       "    <tr>\n",
       "      <th>2</th>\n",
       "      <td>4</td>\n",
       "      <td>2.205590e+25</td>\n",
       "      <td>0.383289</td>\n",
       "    </tr>\n",
       "    <tr>\n",
       "      <th>3</th>\n",
       "      <td>5</td>\n",
       "      <td>1.682335e+25</td>\n",
       "      <td>0.362750</td>\n",
       "    </tr>\n",
       "    <tr>\n",
       "      <th>4</th>\n",
       "      <td>6</td>\n",
       "      <td>1.232326e+25</td>\n",
       "      <td>0.394790</td>\n",
       "    </tr>\n",
       "    <tr>\n",
       "      <th>5</th>\n",
       "      <td>7</td>\n",
       "      <td>9.741232e+24</td>\n",
       "      <td>0.368860</td>\n",
       "    </tr>\n",
       "    <tr>\n",
       "      <th>6</th>\n",
       "      <td>8</td>\n",
       "      <td>8.061593e+24</td>\n",
       "      <td>0.345248</td>\n",
       "    </tr>\n",
       "    <tr>\n",
       "      <th>7</th>\n",
       "      <td>9</td>\n",
       "      <td>6.403752e+24</td>\n",
       "      <td>0.390632</td>\n",
       "    </tr>\n",
       "  </tbody>\n",
       "</table>\n",
       "</div>"
      ],
      "text/plain": [
       "   Classe           SSE  silhouette_score\n",
       "0       2  5.434968e+25          0.357633\n",
       "1       3  3.729277e+25          0.360811\n",
       "2       4  2.205590e+25          0.383289\n",
       "3       5  1.682335e+25          0.362750\n",
       "4       6  1.232326e+25          0.394790\n",
       "5       7  9.741232e+24          0.368860\n",
       "6       8  8.061593e+24          0.345248\n",
       "7       9  6.403752e+24          0.390632"
      ]
     },
     "execution_count": 4,
     "metadata": {},
     "output_type": "execute_result"
    }
   ],
   "source": [
    "#df"
   ]
  },
  {
   "cell_type": "markdown",
   "metadata": {},
   "source": [
    "### Let's consider 9 classes"
   ]
  },
  {
   "cell_type": "code",
   "execution_count": 8,
   "metadata": {},
   "outputs": [
    {
     "data": {
      "text/html": [
       "<div>\n",
       "<style scoped>\n",
       "    .dataframe tbody tr th:only-of-type {\n",
       "        vertical-align: middle;\n",
       "    }\n",
       "\n",
       "    .dataframe tbody tr th {\n",
       "        vertical-align: top;\n",
       "    }\n",
       "\n",
       "    .dataframe thead th {\n",
       "        text-align: right;\n",
       "    }\n",
       "</style>\n",
       "<table border=\"1\" class=\"dataframe\">\n",
       "  <thead>\n",
       "    <tr style=\"text-align: right;\">\n",
       "      <th></th>\n",
       "      <th>Classe</th>\n",
       "      <th>Number</th>\n",
       "    </tr>\n",
       "  </thead>\n",
       "  <tbody>\n",
       "    <tr>\n",
       "      <th>0</th>\n",
       "      <td>0</td>\n",
       "      <td>3916</td>\n",
       "    </tr>\n",
       "    <tr>\n",
       "      <th>1</th>\n",
       "      <td>1</td>\n",
       "      <td>77</td>\n",
       "    </tr>\n",
       "    <tr>\n",
       "      <th>2</th>\n",
       "      <td>2</td>\n",
       "      <td>25777</td>\n",
       "    </tr>\n",
       "    <tr>\n",
       "      <th>3</th>\n",
       "      <td>3</td>\n",
       "      <td>30</td>\n",
       "    </tr>\n",
       "    <tr>\n",
       "      <th>4</th>\n",
       "      <td>4</td>\n",
       "      <td>1</td>\n",
       "    </tr>\n",
       "    <tr>\n",
       "      <th>5</th>\n",
       "      <td>5</td>\n",
       "      <td>165</td>\n",
       "    </tr>\n",
       "    <tr>\n",
       "      <th>6</th>\n",
       "      <td>6</td>\n",
       "      <td>1645607</td>\n",
       "    </tr>\n",
       "    <tr>\n",
       "      <th>7</th>\n",
       "      <td>7</td>\n",
       "      <td>87350</td>\n",
       "    </tr>\n",
       "    <tr>\n",
       "      <th>8</th>\n",
       "      <td>8</td>\n",
       "      <td>687</td>\n",
       "    </tr>\n",
       "  </tbody>\n",
       "</table>\n",
       "</div>"
      ],
      "text/plain": [
       "   Classe   Number\n",
       "0       0     3916\n",
       "1       1       77\n",
       "2       2    25777\n",
       "3       3       30\n",
       "4       4        1\n",
       "5       5      165\n",
       "6       6  1645607\n",
       "7       7    87350\n",
       "8       8      687"
      ]
     },
     "execution_count": 8,
     "metadata": {},
     "output_type": "execute_result"
    }
   ],
   "source": [
    "#df9"
   ]
  },
  {
   "cell_type": "markdown",
   "metadata": {},
   "source": [
    "##### First classe"
   ]
  },
  {
   "cell_type": "code",
   "execution_count": 26,
   "metadata": {},
   "outputs": [
    {
     "data": {
      "application/vnd.jupyter.widget-view+json": {
       "model_id": "9a399476e3f74cd2be45aaa5b36b914e",
       "version_major": 2,
       "version_minor": 0
      },
      "text/plain": [
       "Button(description='Toggle Pandas/Lux', layout=Layout(top='5px', width='140px'), style=ButtonStyle())"
      ]
     },
     "metadata": {},
     "output_type": "display_data"
    },
    {
     "data": {
      "application/vnd.jupyter.widget-view+json": {
       "model_id": "1f063e058d8b48f4adb18f2f1dbdcb25",
       "version_major": 2,
       "version_minor": 0
      },
      "text/plain": [
       "Output()"
      ]
     },
     "metadata": {},
     "output_type": "display_data"
    },
    {
     "data": {
      "text/plain": []
     },
     "execution_count": 26,
     "metadata": {},
     "output_type": "execute_result"
    }
   ],
   "source": [
    "df99[df99[\"classe\"] == 0].describe()"
   ]
  },
  {
   "cell_type": "markdown",
   "metadata": {},
   "source": [
    "     - il y a **3916** individus dans cette classe.\n",
    "     - ils reçoivent au maximum **130** appels entrants internationals et émettent au maximum 1 appel sortant international. \n",
    "     - Ainsi cette classe peut etre considérer comme une classe de non-fraudeurs, d'individus normals."
   ]
  },
  {
   "cell_type": "markdown",
   "metadata": {},
   "source": [
    "#### Second classe"
   ]
  },
  {
   "cell_type": "code",
   "execution_count": 27,
   "metadata": {},
   "outputs": [
    {
     "data": {
      "application/vnd.jupyter.widget-view+json": {
       "model_id": "d8e7cb6486f344fbb2b04cb05b738515",
       "version_major": 2,
       "version_minor": 0
      },
      "text/plain": [
       "Button(description='Toggle Pandas/Lux', layout=Layout(top='5px', width='140px'), style=ButtonStyle())"
      ]
     },
     "metadata": {},
     "output_type": "display_data"
    },
    {
     "data": {
      "application/vnd.jupyter.widget-view+json": {
       "model_id": "f8b8ea0de76a4da584baf9310b68bcdc",
       "version_major": 2,
       "version_minor": 0
      },
      "text/plain": [
       "Output()"
      ]
     },
     "metadata": {},
     "output_type": "display_data"
    },
    {
     "data": {
      "text/plain": []
     },
     "execution_count": 27,
     "metadata": {},
     "output_type": "execute_result"
    }
   ],
   "source": [
    "df99[df99[\"classe\"] == 1].describe()"
   ]
  },
  {
   "cell_type": "markdown",
   "metadata": {},
   "source": [
    " - Dans cette classe, nous remarquons que les individus n'émettent pas d'appels internationals et en reçoivent très peu.\n",
    " - Idéalement, ils sont des individus normaux."
   ]
  },
  {
   "cell_type": "markdown",
   "metadata": {},
   "source": [
    "#### Third classe"
   ]
  },
  {
   "cell_type": "code",
   "execution_count": 28,
   "metadata": {},
   "outputs": [
    {
     "data": {
      "application/vnd.jupyter.widget-view+json": {
       "model_id": "041f15e91fe24a4d9cf9cf150ee36a0b",
       "version_major": 2,
       "version_minor": 0
      },
      "text/plain": [
       "Button(description='Toggle Pandas/Lux', layout=Layout(top='5px', width='140px'), style=ButtonStyle())"
      ]
     },
     "metadata": {},
     "output_type": "display_data"
    },
    {
     "data": {
      "application/vnd.jupyter.widget-view+json": {
       "model_id": "88e53ba935c1484d983c0380f732125d",
       "version_major": 2,
       "version_minor": 0
      },
      "text/plain": [
       "Output()"
      ]
     },
     "metadata": {},
     "output_type": "display_data"
    },
    {
     "data": {
      "text/plain": []
     },
     "execution_count": 28,
     "metadata": {},
     "output_type": "execute_result"
    }
   ],
   "source": [
    "df99[df99[\"classe\"] == 2].describe()"
   ]
  },
  {
   "cell_type": "markdown",
   "metadata": {},
   "source": [
    " - Comparée aux 2 précédentes classes, cette classe-ci recoit beaucoup d'appels internationals entrants (maximum : 199).\n",
    " - Mais elle émet très peu d'appels internationals.\n",
    " - Elle est une classe de non-fraudeurs."
   ]
  },
  {
   "cell_type": "markdown",
   "metadata": {},
   "source": [
    "#### Fourth classe"
   ]
  },
  {
   "cell_type": "code",
   "execution_count": 29,
   "metadata": {},
   "outputs": [
    {
     "data": {
      "application/vnd.jupyter.widget-view+json": {
       "model_id": "d07479a9596c47a68d380e20fcada5b9",
       "version_major": 2,
       "version_minor": 0
      },
      "text/plain": [
       "Button(description='Toggle Pandas/Lux', layout=Layout(top='5px', width='140px'), style=ButtonStyle())"
      ]
     },
     "metadata": {},
     "output_type": "display_data"
    },
    {
     "data": {
      "application/vnd.jupyter.widget-view+json": {
       "model_id": "b9aeb7597b2e4980943995b00ae87ab9",
       "version_major": 2,
       "version_minor": 0
      },
      "text/plain": [
       "Output()"
      ]
     },
     "metadata": {},
     "output_type": "display_data"
    },
    {
     "data": {
      "text/plain": []
     },
     "execution_count": 29,
     "metadata": {},
     "output_type": "execute_result"
    }
   ],
   "source": [
    "df99[df99[\"classe\"] == 3].describe()"
   ]
  },
  {
   "cell_type": "markdown",
   "metadata": {},
   "source": [
    " - Ici également, les individus n'emettent pas d'appels à l'international\n",
    " - Classe d'individus normaux"
   ]
  },
  {
   "cell_type": "markdown",
   "metadata": {},
   "source": [
    "#### Fifth classe"
   ]
  },
  {
   "cell_type": "code",
   "execution_count": 30,
   "metadata": {},
   "outputs": [
    {
     "name": "stderr",
     "output_type": "stream",
     "text": [
      "/Users/youssouf/opt/anaconda3/lib/python3.8/site-packages/IPython/core/formatters.py:345: UserWarning:\n",
      "Lux defaults to Pandas when there are no valid actions defined.\n"
     ]
    },
    {
     "data": {
      "text/html": [
       "<div>\n",
       "<style scoped>\n",
       "    .dataframe tbody tr th:only-of-type {\n",
       "        vertical-align: middle;\n",
       "    }\n",
       "\n",
       "    .dataframe tbody tr th {\n",
       "        vertical-align: top;\n",
       "    }\n",
       "\n",
       "    .dataframe thead th {\n",
       "        text-align: right;\n",
       "    }\n",
       "</style>\n",
       "<table border=\"1\" class=\"dataframe\">\n",
       "  <thead>\n",
       "    <tr style=\"text-align: right;\">\n",
       "      <th></th>\n",
       "      <th>nbre_call_entrant_inter</th>\n",
       "      <th>nbre_call_sortant_inter</th>\n",
       "      <th>duree_entrant_inter</th>\n",
       "      <th>duree_sortant_inter</th>\n",
       "      <th>duree_total_inter</th>\n",
       "      <th>duree_moy_sortant_inter</th>\n",
       "      <th>duree_moy_inter</th>\n",
       "      <th>nbr_cor_dist</th>\n",
       "      <th>nbr_appel_abs_entr_moy</th>\n",
       "      <th>nbr_appel_abs_entr_med</th>\n",
       "      <th>...</th>\n",
       "      <th>temp_appel_moy</th>\n",
       "      <th>ecartyp_temp_appel</th>\n",
       "      <th>ratio_call_dist</th>\n",
       "      <th>ratio_dist_sms</th>\n",
       "      <th>taux_call_night</th>\n",
       "      <th>taux_call_on</th>\n",
       "      <th>taux_call_inter</th>\n",
       "      <th>nbre_transaction</th>\n",
       "      <th>nbre_distinct_msisdn</th>\n",
       "      <th>classe</th>\n",
       "    </tr>\n",
       "    <tr>\n",
       "      <th>msisdn</th>\n",
       "      <th></th>\n",
       "      <th></th>\n",
       "      <th></th>\n",
       "      <th></th>\n",
       "      <th></th>\n",
       "      <th></th>\n",
       "      <th></th>\n",
       "      <th></th>\n",
       "      <th></th>\n",
       "      <th></th>\n",
       "      <th></th>\n",
       "      <th></th>\n",
       "      <th></th>\n",
       "      <th></th>\n",
       "      <th></th>\n",
       "      <th></th>\n",
       "      <th></th>\n",
       "      <th></th>\n",
       "      <th></th>\n",
       "      <th></th>\n",
       "      <th></th>\n",
       "    </tr>\n",
       "  </thead>\n",
       "  <tbody>\n",
       "    <tr>\n",
       "      <th>NaN</th>\n",
       "      <td>0.0</td>\n",
       "      <td>0.0</td>\n",
       "      <td>0.0</td>\n",
       "      <td>0.0</td>\n",
       "      <td>0.0</td>\n",
       "      <td>0.0</td>\n",
       "      <td>0.0</td>\n",
       "      <td>0.0</td>\n",
       "      <td>0.0</td>\n",
       "      <td>0.0</td>\n",
       "      <td>...</td>\n",
       "      <td>0.0</td>\n",
       "      <td>0.0</td>\n",
       "      <td>0.0</td>\n",
       "      <td>0.0</td>\n",
       "      <td>0.0</td>\n",
       "      <td>0.0</td>\n",
       "      <td>0.0</td>\n",
       "      <td>0.0</td>\n",
       "      <td>0.0</td>\n",
       "      <td>4</td>\n",
       "    </tr>\n",
       "  </tbody>\n",
       "</table>\n",
       "<p>1 rows × 91 columns</p>\n",
       "</div>"
      ],
      "text/plain": [
       "        nbre_call_entrant_inter  nbre_call_sortant_inter  duree_entrant_inter  \\\n",
       "msisdn                                                                          \n",
       "NaN                         0.0                      0.0                  0.0   \n",
       "\n",
       "        duree_sortant_inter  duree_total_inter  duree_moy_sortant_inter  \\\n",
       "msisdn                                                                    \n",
       "NaN                     0.0                0.0                      0.0   \n",
       "\n",
       "        duree_moy_inter  nbr_cor_dist  nbr_appel_abs_entr_moy  \\\n",
       "msisdn                                                          \n",
       "NaN                 0.0           0.0                     0.0   \n",
       "\n",
       "        nbr_appel_abs_entr_med  ...  temp_appel_moy  ecartyp_temp_appel  \\\n",
       "msisdn                          ...                                       \n",
       "NaN                        0.0  ...             0.0                 0.0   \n",
       "\n",
       "        ratio_call_dist  ratio_dist_sms  taux_call_night  taux_call_on  \\\n",
       "msisdn                                                                   \n",
       "NaN                 0.0             0.0              0.0           0.0   \n",
       "\n",
       "        taux_call_inter  nbre_transaction  nbre_distinct_msisdn  classe  \n",
       "msisdn                                                                   \n",
       "NaN                 0.0               0.0                   0.0       4  \n",
       "\n",
       "[1 rows x 91 columns]"
      ]
     },
     "metadata": {},
     "output_type": "display_data"
    },
    {
     "data": {
      "text/plain": []
     },
     "execution_count": 30,
     "metadata": {},
     "output_type": "execute_result"
    }
   ],
   "source": [
    "df99[df99[\"classe\"] == 4]"
   ]
  },
  {
   "cell_type": "markdown",
   "metadata": {},
   "source": [
    " - l'individu est une valeur manquante"
   ]
  },
  {
   "cell_type": "markdown",
   "metadata": {},
   "source": [
    "#### Sixth classe"
   ]
  },
  {
   "cell_type": "code",
   "execution_count": 31,
   "metadata": {},
   "outputs": [
    {
     "data": {
      "application/vnd.jupyter.widget-view+json": {
       "model_id": "0aab888637ae4bfdaa3a7959793cf9be",
       "version_major": 2,
       "version_minor": 0
      },
      "text/plain": [
       "Button(description='Toggle Pandas/Lux', layout=Layout(top='5px', width='140px'), style=ButtonStyle())"
      ]
     },
     "metadata": {},
     "output_type": "display_data"
    },
    {
     "data": {
      "application/vnd.jupyter.widget-view+json": {
       "model_id": "9390f512c751474599ba29a850586368",
       "version_major": 2,
       "version_minor": 0
      },
      "text/plain": [
       "Output()"
      ]
     },
     "metadata": {},
     "output_type": "display_data"
    },
    {
     "data": {
      "text/plain": []
     },
     "execution_count": 31,
     "metadata": {},
     "output_type": "execute_result"
    }
   ],
   "source": [
    "df99[df99[\"classe\"] == 5].describe()"
   ]
  },
  {
   "cell_type": "markdown",
   "metadata": {},
   "source": [
    " - Elle émet très peu d'appels internationals et en reçoit très peu.\n",
    " - Classe d'individus normals"
   ]
  },
  {
   "cell_type": "markdown",
   "metadata": {},
   "source": [
    "#### Seventh classe"
   ]
  },
  {
   "cell_type": "code",
   "execution_count": 32,
   "metadata": {},
   "outputs": [
    {
     "data": {
      "application/vnd.jupyter.widget-view+json": {
       "model_id": "1f780bec0fdf46c795eb5f990483c0f4",
       "version_major": 2,
       "version_minor": 0
      },
      "text/plain": [
       "Button(description='Toggle Pandas/Lux', layout=Layout(top='5px', width='140px'), style=ButtonStyle())"
      ]
     },
     "metadata": {},
     "output_type": "display_data"
    },
    {
     "data": {
      "application/vnd.jupyter.widget-view+json": {
       "model_id": "e12b740b081b4a9693425fb7fc9be4b0",
       "version_major": 2,
       "version_minor": 0
      },
      "text/plain": [
       "Output()"
      ]
     },
     "metadata": {},
     "output_type": "display_data"
    },
    {
     "data": {
      "text/plain": []
     },
     "execution_count": 32,
     "metadata": {},
     "output_type": "execute_result"
    }
   ],
   "source": [
    "df99[df99[\"classe\"] == 6].describe()"
   ]
  },
  {
   "cell_type": "markdown",
   "metadata": {},
   "source": [
    " - On a **1645607** indivdus pour cette classe\n",
    " - Egalement on remarque qu'il y des individus émettant très peu d'appels internationals et d'autres émettant beaucoup (max : 502) \n",
    " - Classe Hétérogène"
   ]
  },
  {
   "cell_type": "markdown",
   "metadata": {},
   "source": [
    "#### Eighth classe"
   ]
  },
  {
   "cell_type": "code",
   "execution_count": 33,
   "metadata": {},
   "outputs": [
    {
     "data": {
      "application/vnd.jupyter.widget-view+json": {
       "model_id": "d6898e1a074f4b2a969ac19d43f1663d",
       "version_major": 2,
       "version_minor": 0
      },
      "text/plain": [
       "Button(description='Toggle Pandas/Lux', layout=Layout(top='5px', width='140px'), style=ButtonStyle())"
      ]
     },
     "metadata": {},
     "output_type": "display_data"
    },
    {
     "data": {
      "application/vnd.jupyter.widget-view+json": {
       "model_id": "3a964e9c36b34dd1823f0d4a03a384fa",
       "version_major": 2,
       "version_minor": 0
      },
      "text/plain": [
       "Output()"
      ]
     },
     "metadata": {},
     "output_type": "display_data"
    },
    {
     "data": {
      "text/plain": []
     },
     "execution_count": 33,
     "metadata": {},
     "output_type": "execute_result"
    }
   ],
   "source": [
    "df99[df99[\"classe\"] == 7].describe()"
   ]
  },
  {
   "cell_type": "markdown",
   "metadata": {},
   "source": [
    " - Très peu d'appels internationals émis.\n",
    " - Classe d'individus normals"
   ]
  },
  {
   "cell_type": "markdown",
   "metadata": {},
   "source": [
    "#### Nineth classe"
   ]
  },
  {
   "cell_type": "code",
   "execution_count": 34,
   "metadata": {},
   "outputs": [
    {
     "data": {
      "application/vnd.jupyter.widget-view+json": {
       "model_id": "327a01a72cc5459ebc28445f29566952",
       "version_major": 2,
       "version_minor": 0
      },
      "text/plain": [
       "Button(description='Toggle Pandas/Lux', layout=Layout(top='5px', width='140px'), style=ButtonStyle())"
      ]
     },
     "metadata": {},
     "output_type": "display_data"
    },
    {
     "data": {
      "application/vnd.jupyter.widget-view+json": {
       "model_id": "bf5d38d3f5184b3b856c477aad74dd3c",
       "version_major": 2,
       "version_minor": 0
      },
      "text/plain": [
       "Output()"
      ]
     },
     "metadata": {},
     "output_type": "display_data"
    },
    {
     "data": {
      "text/plain": []
     },
     "execution_count": 34,
     "metadata": {},
     "output_type": "execute_result"
    }
   ],
   "source": [
    "df99[df99[\"classe\"] == 8].describe()"
   ]
  },
  {
   "cell_type": "markdown",
   "metadata": {},
   "source": [
    " - Très peu d'appels internationals émis et reçus\n",
    " - Classe d'individus normals"
   ]
  },
  {
   "cell_type": "markdown",
   "metadata": {},
   "source": [
    "#### Let's deep in sixth classe"
   ]
  },
  {
   "cell_type": "code",
   "execution_count": 69,
   "metadata": {},
   "outputs": [],
   "source": [
    "#df6 = df99[df99[\"classe\"] == 6]"
   ]
  },
  {
   "cell_type": "code",
   "execution_count": 76,
   "metadata": {},
   "outputs": [],
   "source": [
    "#df66 = df6[df6[\"nbre_call_sortant_inter\"] > 7]"
   ]
  },
  {
   "cell_type": "code",
   "execution_count": 77,
   "metadata": {},
   "outputs": [
    {
     "data": {
      "application/vnd.jupyter.widget-view+json": {
       "model_id": "520095d4136e470fbdfb20b197a080d6",
       "version_major": 2,
       "version_minor": 0
      },
      "text/plain": [
       "Button(description='Toggle Pandas/Lux', layout=Layout(top='5px', width='140px'), style=ButtonStyle())"
      ]
     },
     "metadata": {},
     "output_type": "display_data"
    },
    {
     "data": {
      "application/vnd.jupyter.widget-view+json": {
       "model_id": "5415ab1016d14a2fad9d0e0f1aafd0af",
       "version_major": 2,
       "version_minor": 0
      },
      "text/plain": [
       "Output()"
      ]
     },
     "metadata": {},
     "output_type": "display_data"
    },
    {
     "data": {
      "text/plain": []
     },
     "execution_count": 77,
     "metadata": {},
     "output_type": "execute_result"
    }
   ],
   "source": [
    "#df66.describe()"
   ]
  },
  {
   "cell_type": "code",
   "execution_count": null,
   "metadata": {},
   "outputs": [],
   "source": []
  },
  {
   "cell_type": "code",
   "execution_count": null,
   "metadata": {},
   "outputs": [],
   "source": []
  },
  {
   "cell_type": "code",
   "execution_count": null,
   "metadata": {},
   "outputs": [],
   "source": []
  },
  {
   "cell_type": "code",
   "execution_count": null,
   "metadata": {},
   "outputs": [],
   "source": []
  },
  {
   "cell_type": "code",
   "execution_count": null,
   "metadata": {},
   "outputs": [],
   "source": []
  },
  {
   "cell_type": "code",
   "execution_count": null,
   "metadata": {},
   "outputs": [],
   "source": []
  },
  {
   "cell_type": "code",
   "execution_count": null,
   "metadata": {},
   "outputs": [],
   "source": []
  },
  {
   "cell_type": "code",
   "execution_count": null,
   "metadata": {},
   "outputs": [],
   "source": []
  },
  {
   "cell_type": "code",
   "execution_count": null,
   "metadata": {},
   "outputs": [],
   "source": []
  },
  {
   "cell_type": "code",
   "execution_count": null,
   "metadata": {},
   "outputs": [],
   "source": []
  },
  {
   "cell_type": "code",
   "execution_count": null,
   "metadata": {},
   "outputs": [],
   "source": []
  },
  {
   "cell_type": "code",
   "execution_count": null,
   "metadata": {},
   "outputs": [],
   "source": []
  },
  {
   "cell_type": "code",
   "execution_count": null,
   "metadata": {},
   "outputs": [],
   "source": []
  },
  {
   "cell_type": "code",
   "execution_count": null,
   "metadata": {},
   "outputs": [],
   "source": []
  },
  {
   "cell_type": "code",
   "execution_count": null,
   "metadata": {},
   "outputs": [],
   "source": []
  },
  {
   "cell_type": "code",
   "execution_count": null,
   "metadata": {},
   "outputs": [],
   "source": []
  },
  {
   "cell_type": "code",
   "execution_count": null,
   "metadata": {},
   "outputs": [],
   "source": []
  },
  {
   "cell_type": "code",
   "execution_count": null,
   "metadata": {},
   "outputs": [],
   "source": []
  },
  {
   "cell_type": "code",
   "execution_count": null,
   "metadata": {},
   "outputs": [],
   "source": []
  },
  {
   "cell_type": "code",
   "execution_count": null,
   "metadata": {},
   "outputs": [],
   "source": []
  },
  {
   "cell_type": "code",
   "execution_count": null,
   "metadata": {},
   "outputs": [],
   "source": []
  },
  {
   "cell_type": "code",
   "execution_count": null,
   "metadata": {},
   "outputs": [],
   "source": []
  },
  {
   "cell_type": "code",
   "execution_count": null,
   "metadata": {},
   "outputs": [],
   "source": []
  },
  {
   "cell_type": "code",
   "execution_count": null,
   "metadata": {},
   "outputs": [],
   "source": []
  },
  {
   "cell_type": "code",
   "execution_count": null,
   "metadata": {},
   "outputs": [],
   "source": []
  },
  {
   "cell_type": "code",
   "execution_count": null,
   "metadata": {},
   "outputs": [],
   "source": []
  },
  {
   "cell_type": "code",
   "execution_count": null,
   "metadata": {},
   "outputs": [],
   "source": []
  },
  {
   "cell_type": "code",
   "execution_count": null,
   "metadata": {},
   "outputs": [],
   "source": []
  },
  {
   "cell_type": "code",
   "execution_count": null,
   "metadata": {},
   "outputs": [],
   "source": []
  },
  {
   "cell_type": "code",
   "execution_count": null,
   "metadata": {},
   "outputs": [],
   "source": []
  },
  {
   "cell_type": "code",
   "execution_count": null,
   "metadata": {},
   "outputs": [],
   "source": []
  },
  {
   "cell_type": "code",
   "execution_count": null,
   "metadata": {},
   "outputs": [],
   "source": []
  },
  {
   "cell_type": "code",
   "execution_count": null,
   "metadata": {},
   "outputs": [],
   "source": []
  },
  {
   "cell_type": "code",
   "execution_count": null,
   "metadata": {},
   "outputs": [],
   "source": []
  },
  {
   "cell_type": "code",
   "execution_count": null,
   "metadata": {},
   "outputs": [],
   "source": []
  },
  {
   "cell_type": "code",
   "execution_count": null,
   "metadata": {},
   "outputs": [],
   "source": []
  },
  {
   "cell_type": "code",
   "execution_count": null,
   "metadata": {},
   "outputs": [],
   "source": []
  },
  {
   "cell_type": "code",
   "execution_count": null,
   "metadata": {},
   "outputs": [],
   "source": []
  },
  {
   "cell_type": "code",
   "execution_count": null,
   "metadata": {},
   "outputs": [],
   "source": []
  },
  {
   "cell_type": "code",
   "execution_count": null,
   "metadata": {},
   "outputs": [],
   "source": []
  },
  {
   "cell_type": "code",
   "execution_count": null,
   "metadata": {},
   "outputs": [],
   "source": []
  },
  {
   "cell_type": "code",
   "execution_count": null,
   "metadata": {},
   "outputs": [],
   "source": []
  },
  {
   "cell_type": "code",
   "execution_count": null,
   "metadata": {},
   "outputs": [],
   "source": []
  },
  {
   "cell_type": "code",
   "execution_count": null,
   "metadata": {},
   "outputs": [],
   "source": []
  },
  {
   "cell_type": "code",
   "execution_count": null,
   "metadata": {},
   "outputs": [],
   "source": []
  },
  {
   "cell_type": "code",
   "execution_count": null,
   "metadata": {},
   "outputs": [],
   "source": []
  },
  {
   "cell_type": "code",
   "execution_count": null,
   "metadata": {},
   "outputs": [],
   "source": []
  },
  {
   "cell_type": "code",
   "execution_count": null,
   "metadata": {},
   "outputs": [],
   "source": []
  },
  {
   "cell_type": "code",
   "execution_count": null,
   "metadata": {},
   "outputs": [],
   "source": []
  },
  {
   "cell_type": "code",
   "execution_count": 6,
   "metadata": {},
   "outputs": [],
   "source": [
    "import pandas as pd\n",
    "data = {'Classe':  list(range(2,10)) ,\n",
    "        'SSE': [5.434967701817736e+25,\n",
    " 3.7292770396258056e+25,\n",
    " 2.2055902154519345e+25,\n",
    " 1.6823347142867633e+25,\n",
    " 1.2323264279178966e+25,\n",
    " 9.74123207562669e+24,\n",
    " 8.061592516466469e+24,\n",
    " 6.403752110130262e+24],\n",
    "          \"silhouette_score\" : [0.35763347707327836,\n",
    "0.36081141426559715,\n",
    "0.3832894071596234,\n",
    "0.3627498855197289,\n",
    "0.39478999960818756,\n",
    "0.36885963285553164,\n",
    "0.34524785939189306,\n",
    "0.39063168331289955]\n",
    "        }\n",
    "\n",
    "df = pd.DataFrame (data, columns = ['Classe','SSE', 'silhouette_score'])"
   ]
  },
  {
   "cell_type": "code",
   "execution_count": 7,
   "metadata": {},
   "outputs": [],
   "source": [
    "import pandas as pd\n",
    "data9 = {'Classe':  [0, 1, 2, 3, 4, 5, 6, 7, 8] ,\n",
    "        'Number': [   3916,      77,   25777,      30,       1,     165, 1645607,\n",
    "          87350,     687]\n",
    "        }\n",
    "\n",
    "df9 = pd.DataFrame (data9 , columns = ['Classe','Number'])"
   ]
  },
  {
   "cell_type": "code",
   "execution_count": 3,
   "metadata": {},
   "outputs": [],
   "source": [
    "from sklearn.metrics import *\n",
    "import pandas as pd\n",
    "import lux"
   ]
  },
  {
   "cell_type": "code",
   "execution_count": null,
   "metadata": {},
   "outputs": [],
   "source": []
  },
  {
   "cell_type": "markdown",
   "metadata": {},
   "source": [
    "## MAIN KMEANS "
   ]
  },
  {
   "cell_type": "code",
   "execution_count": 10,
   "metadata": {},
   "outputs": [],
   "source": [
    "import matplotlib.pyplot as plt\n",
    "from kneed import KneeLocator\n",
    "from sklearn.datasets import make_blobs\n",
    "from sklearn.cluster import KMeans\n",
    "from sklearn.metrics import silhouette_score\n",
    "from sklearn.preprocessing import StandardScaler\n",
    "import pandas as pd"
   ]
  },
  {
   "cell_type": "code",
   "execution_count": 11,
   "metadata": {},
   "outputs": [],
   "source": [
    "df = pd.read_csv(\"ech_data.csv\", sep = \";\")"
   ]
  },
  {
   "cell_type": "code",
   "execution_count": 12,
   "metadata": {},
   "outputs": [],
   "source": [
    "df9 = df[[\n",
    " 'nbre_call_entrant_inter',\n",
    " 'nbre_call_sortant_inter',\n",
    " 'duree_entrant_inter',\n",
    " 'duree_sortant_inter',\n",
    " 'duree_total_inter',\n",
    " 'duree_moy_sortant_inter',\n",
    " 'duree_moy_inter',\n",
    " 'nbr_cor_dist',\n",
    " 'nbr_appel_abs_entr_moy',\n",
    " 'nbr_appel_abs_entr_med',\n",
    " 'nbr_appel_abs_entr_tot',\n",
    " 'nbr_entrant_distinct_absence_tot',\n",
    " 'nbr_entrant_distinct_absence_med',\n",
    " 'nbr_appel_abs_sort_moy',\n",
    " 'nbr_appel_abs_sort_med',\n",
    " 'nbr_appel_abs_sort_tot',\n",
    " 'nbre_transaction_tot',\n",
    " 'nbre_transaction_med',\n",
    " 'nbre_distinct_msisdn_tot',\n",
    " 'nbre_distinct_msisdn_med',\n",
    " 'duree_tot',\n",
    " 'duree_med',\n",
    " 'nbre_distinct_imei_x',\n",
    " 'nombre_transaction_erecharge',\n",
    " 'montant_erecharge',\n",
    " 'nbre_imsi',\n",
    " 'montant',\n",
    " 'montant_moy',\n",
    " 'nbr_om_transact',\n",
    " 'volumepartage_data_med',\n",
    " 'nbr_partage_data',\n",
    " 'total_partage_data',\n",
    " 'nombre_distinct_profil',\n",
    " 'nbr_sms_total_sortant_ofnet',\n",
    " 'nbr_sms_sortant_med_ofnet',\n",
    " 'nbr_sms_sortant_moy_ofnet',\n",
    " 'nbr_appel_sortant_moy_ofnet',\n",
    " 'nbr_appel_total_sortant_ofnet',\n",
    " 'nbr_appel_sortant_med_ofnet',\n",
    " 'duree_total_sortant_ofnet',\n",
    " 'duree_sortant_med_ofnet',\n",
    " 'duree_sortant_moy_ofnet',\n",
    " 'nbr_sms_total_sortant_onnet',\n",
    " 'nbr_sms_sortant_med_onnet',\n",
    " 'nbr_sms_sortant_moy_onnet',\n",
    " 'nbr_appel_sortant_moy_onnet',\n",
    " 'nbr_appel_total_sortant_onnet',\n",
    " 'nbr_appel_sortant_med_onnet',\n",
    " 'duree_total_sortant_onnet',\n",
    " 'duree_sortant_med_onnet',\n",
    " 'duree_sortant_moy_onnet',\n",
    " 'nbr_rech_sos',\n",
    " 'nbr_moy_sos',\n",
    " 'montant_tot_sos',\n",
    " 'montant_moy_sos',\n",
    " 'nbr_corr_dist_entrant_sms_tot',\n",
    " 'nbr_corr_dist_entrant_sms_med',\n",
    " 'nbr_corr_dist_sortant_sms_tot',\n",
    " 'nbr_corr_dist_sortant_sms_med',\n",
    " 'nbr_duree_data_tot',\n",
    " 'nbr_duree_data_med',\n",
    " 'nbr_duree_data_moy',\n",
    " 'volume_family_data_med',\n",
    " 'nbr_family_data',\n",
    " 'family_data_tot',\n",
    " 'nbre_call_complice',\n",
    " 'duree_x',\n",
    " 'duree_moy_call_complice',\n",
    " 'volume_data_total',\n",
    " 'volume_data_moy',\n",
    " 'volume_data_med',\n",
    " 'nbre_corr_sortant',\n",
    " 'nbre_corr_sortant_distinc',\n",
    " 'nbre_corr_entrant',\n",
    " 'nbre_corr_entrant_distinct',\n",
    " 'temp_sms_moy',\n",
    " 'ecartyp_temp_sms',\n",
    " 'nbre_distinct_imei_y',\n",
    " 'nbr_achat_pass',\n",
    " 'montant_pass_med',\n",
    " 'mnt_tot_pass',\n",
    " 'temp_appel_moy',\n",
    " 'ecartyp_temp_appel',\n",
    " 'ratio_call_dist',\n",
    " 'ratio_dist_sms',\n",
    " 'taux_call_night',\n",
    " 'taux_call_on',\n",
    " 'taux_call_inter',\n",
    " 'nbre_transaction',\n",
    " 'nbre_distinct_msisdn']]"
   ]
  },
  {
   "cell_type": "code",
   "execution_count": null,
   "metadata": {},
   "outputs": [],
   "source": []
  },
  {
   "cell_type": "code",
   "execution_count": 13,
   "metadata": {},
   "outputs": [],
   "source": [
    "df91 = df9.fillna(0)"
   ]
  },
  {
   "cell_type": "code",
   "execution_count": 14,
   "metadata": {},
   "outputs": [],
   "source": [
    "scaler = StandardScaler()\n",
    "scaled_features = scaler.fit_transform(df91)"
   ]
  },
  {
   "cell_type": "code",
   "execution_count": 15,
   "metadata": {},
   "outputs": [],
   "source": [
    "kmeans_kwargs = {\n",
    "\"init\": \"random\",\n",
    "\"n_init\": 10,\n",
    "\"max_iter\": 300,\n",
    "\"random_state\": 42 }"
   ]
  },
  {
   "cell_type": "code",
   "execution_count": 16,
   "metadata": {},
   "outputs": [
    {
     "name": "stdout",
     "output_type": "stream",
     "text": [
      "6.403752110130261e+24\n"
     ]
    }
   ],
   "source": [
    "kmeans = KMeans(n_clusters=9, **kmeans_kwargs)\n",
    "kmeans.fit(df91)\n",
    "print(kmeans.inertia_)"
   ]
  },
  {
   "cell_type": "code",
   "execution_count": 8,
   "metadata": {},
   "outputs": [],
   "source": [
    "yhat = kmeans.predict(df91)"
   ]
  },
  {
   "cell_type": "code",
   "execution_count": 9,
   "metadata": {},
   "outputs": [
    {
     "data": {
      "text/plain": [
       "(array([0, 1, 2], dtype=int32), array([      1,     666, 1762943]))"
      ]
     },
     "execution_count": 9,
     "metadata": {},
     "output_type": "execute_result"
    }
   ],
   "source": [
    "from numpy import unique\n",
    "clusters = unique(yhat, return_counts = True)\n",
    "clusters"
   ]
  },
  {
   "cell_type": "code",
   "execution_count": 27,
   "metadata": {},
   "outputs": [],
   "source": [
    "df91[\"classe\"] = yhat"
   ]
  },
  {
   "cell_type": "markdown",
   "metadata": {},
   "source": [
    "## MAIN KMEANS "
   ]
  },
  {
   "cell_type": "code",
   "execution_count": 13,
   "metadata": {},
   "outputs": [
    {
     "data": {
      "application/vnd.jupyter.widget-view+json": {
       "model_id": "aa8f25547b254027a802006456c86dbb",
       "version_major": 2,
       "version_minor": 0
      },
      "text/plain": [
       "Button(description='Toggle Pandas/Lux', layout=Layout(top='5px', width='140px'), style=ButtonStyle())"
      ]
     },
     "metadata": {},
     "output_type": "display_data"
    },
    {
     "data": {
      "application/vnd.jupyter.widget-view+json": {
       "model_id": "47a1cf3a2b5040eaae6b4f7d00d14ad4",
       "version_major": 2,
       "version_minor": 0
      },
      "text/plain": [
       "Output()"
      ]
     },
     "metadata": {},
     "output_type": "display_data"
    },
    {
     "data": {
      "text/plain": []
     },
     "execution_count": 13,
     "metadata": {},
     "output_type": "execute_result"
    }
   ],
   "source": [
    "df91[df91[\"classe\"] == 1].describe()"
   ]
  },
  {
   "cell_type": "markdown",
   "metadata": {},
   "source": [
    "## FRAUDEURS"
   ]
  },
  {
   "cell_type": "code",
   "execution_count": 19,
   "metadata": {},
   "outputs": [
    {
     "data": {
      "text/html": [
       "<div>\n",
       "<style scoped>\n",
       "    .dataframe tbody tr th:only-of-type {\n",
       "        vertical-align: middle;\n",
       "    }\n",
       "\n",
       "    .dataframe tbody tr th {\n",
       "        vertical-align: top;\n",
       "    }\n",
       "\n",
       "    .dataframe thead th {\n",
       "        text-align: right;\n",
       "    }\n",
       "</style>\n",
       "<table border=\"1\" class=\"dataframe\">\n",
       "  <thead>\n",
       "    <tr style=\"text-align: right;\">\n",
       "      <th></th>\n",
       "      <th>msisdn</th>\n",
       "      <th>mnt_med_pass_sva</th>\n",
       "      <th>mnt_tot_pass_sva</th>\n",
       "      <th>nbr_achat_pass_sva</th>\n",
       "      <th>mnt_med_mix</th>\n",
       "      <th>mnt_tot_mix</th>\n",
       "      <th>nbr_achat_pass_mix</th>\n",
       "      <th>mnt_pass_med_inter</th>\n",
       "      <th>mnt_tot_inter_pass</th>\n",
       "      <th>nbr_achat_pass_inter</th>\n",
       "      <th>...</th>\n",
       "      <th>nbr_call_en_of_y</th>\n",
       "      <th>duree_call_tot_en_of_y</th>\n",
       "      <th>duree_call_moy_en_of_y</th>\n",
       "      <th>duree_data_tot</th>\n",
       "      <th>vol_tot_data</th>\n",
       "      <th>nbr_call_tot_complice</th>\n",
       "      <th>duree_call_moy_complice</th>\n",
       "      <th>duree_call_tot_complice</th>\n",
       "      <th>nbr_call_sort_abs</th>\n",
       "      <th>nbr_call_en_abs</th>\n",
       "    </tr>\n",
       "  </thead>\n",
       "  <tbody>\n",
       "    <tr>\n",
       "      <th>0</th>\n",
       "      <td>97412290</td>\n",
       "      <td>NaN</td>\n",
       "      <td>NaN</td>\n",
       "      <td>NaN</td>\n",
       "      <td>NaN</td>\n",
       "      <td>NaN</td>\n",
       "      <td>NaN</td>\n",
       "      <td>NaN</td>\n",
       "      <td>NaN</td>\n",
       "      <td>NaN</td>\n",
       "      <td>...</td>\n",
       "      <td>0.0</td>\n",
       "      <td>4.0</td>\n",
       "      <td>1.333333</td>\n",
       "      <td>NaN</td>\n",
       "      <td>NaN</td>\n",
       "      <td>NaN</td>\n",
       "      <td>NaN</td>\n",
       "      <td>NaN</td>\n",
       "      <td>NaN</td>\n",
       "      <td>NaN</td>\n",
       "    </tr>\n",
       "    <tr>\n",
       "      <th>1</th>\n",
       "      <td>68912429</td>\n",
       "      <td>NaN</td>\n",
       "      <td>NaN</td>\n",
       "      <td>NaN</td>\n",
       "      <td>NaN</td>\n",
       "      <td>NaN</td>\n",
       "      <td>NaN</td>\n",
       "      <td>NaN</td>\n",
       "      <td>NaN</td>\n",
       "      <td>NaN</td>\n",
       "      <td>...</td>\n",
       "      <td>0.0</td>\n",
       "      <td>5.0</td>\n",
       "      <td>1.250000</td>\n",
       "      <td>NaN</td>\n",
       "      <td>NaN</td>\n",
       "      <td>NaN</td>\n",
       "      <td>NaN</td>\n",
       "      <td>NaN</td>\n",
       "      <td>NaN</td>\n",
       "      <td>NaN</td>\n",
       "    </tr>\n",
       "    <tr>\n",
       "      <th>2</th>\n",
       "      <td>67442397</td>\n",
       "      <td>103.0</td>\n",
       "      <td>103.0</td>\n",
       "      <td>1.0</td>\n",
       "      <td>450.0</td>\n",
       "      <td>4200.0</td>\n",
       "      <td>21.0</td>\n",
       "      <td>NaN</td>\n",
       "      <td>NaN</td>\n",
       "      <td>NaN</td>\n",
       "      <td>...</td>\n",
       "      <td>0.0</td>\n",
       "      <td>14.0</td>\n",
       "      <td>2.000000</td>\n",
       "      <td>NaN</td>\n",
       "      <td>NaN</td>\n",
       "      <td>NaN</td>\n",
       "      <td>NaN</td>\n",
       "      <td>NaN</td>\n",
       "      <td>NaN</td>\n",
       "      <td>NaN</td>\n",
       "    </tr>\n",
       "    <tr>\n",
       "      <th>3</th>\n",
       "      <td>79323879</td>\n",
       "      <td>NaN</td>\n",
       "      <td>NaN</td>\n",
       "      <td>NaN</td>\n",
       "      <td>600.0</td>\n",
       "      <td>3500.0</td>\n",
       "      <td>14.0</td>\n",
       "      <td>NaN</td>\n",
       "      <td>NaN</td>\n",
       "      <td>NaN</td>\n",
       "      <td>...</td>\n",
       "      <td>0.0</td>\n",
       "      <td>8.0</td>\n",
       "      <td>2.666667</td>\n",
       "      <td>905.444444</td>\n",
       "      <td>23910.0</td>\n",
       "      <td>NaN</td>\n",
       "      <td>NaN</td>\n",
       "      <td>NaN</td>\n",
       "      <td>NaN</td>\n",
       "      <td>NaN</td>\n",
       "    </tr>\n",
       "    <tr>\n",
       "      <th>4</th>\n",
       "      <td>97424091</td>\n",
       "      <td>150.0</td>\n",
       "      <td>150.0</td>\n",
       "      <td>3.0</td>\n",
       "      <td>300.0</td>\n",
       "      <td>2100.0</td>\n",
       "      <td>9.0</td>\n",
       "      <td>NaN</td>\n",
       "      <td>NaN</td>\n",
       "      <td>NaN</td>\n",
       "      <td>...</td>\n",
       "      <td>0.0</td>\n",
       "      <td>25.0</td>\n",
       "      <td>3.125000</td>\n",
       "      <td>6962.263158</td>\n",
       "      <td>570059041.0</td>\n",
       "      <td>NaN</td>\n",
       "      <td>NaN</td>\n",
       "      <td>NaN</td>\n",
       "      <td>NaN</td>\n",
       "      <td>NaN</td>\n",
       "    </tr>\n",
       "  </tbody>\n",
       "</table>\n",
       "<p>5 rows × 69 columns</p>\n",
       "</div>"
      ],
      "text/plain": [
       "     msisdn  mnt_med_pass_sva  mnt_tot_pass_sva  nbr_achat_pass_sva  \\\n",
       "0  97412290               NaN               NaN                 NaN   \n",
       "1  68912429               NaN               NaN                 NaN   \n",
       "2  67442397             103.0             103.0                 1.0   \n",
       "3  79323879               NaN               NaN                 NaN   \n",
       "4  97424091             150.0             150.0                 3.0   \n",
       "\n",
       "   mnt_med_mix  mnt_tot_mix  nbr_achat_pass_mix  mnt_pass_med_inter  \\\n",
       "0          NaN          NaN                 NaN                 NaN   \n",
       "1          NaN          NaN                 NaN                 NaN   \n",
       "2        450.0       4200.0                21.0                 NaN   \n",
       "3        600.0       3500.0                14.0                 NaN   \n",
       "4        300.0       2100.0                 9.0                 NaN   \n",
       "\n",
       "   mnt_tot_inter_pass  nbr_achat_pass_inter  ...  nbr_call_en_of_y  \\\n",
       "0                 NaN                   NaN  ...               0.0   \n",
       "1                 NaN                   NaN  ...               0.0   \n",
       "2                 NaN                   NaN  ...               0.0   \n",
       "3                 NaN                   NaN  ...               0.0   \n",
       "4                 NaN                   NaN  ...               0.0   \n",
       "\n",
       "   duree_call_tot_en_of_y  duree_call_moy_en_of_y  duree_data_tot  \\\n",
       "0                     4.0                1.333333             NaN   \n",
       "1                     5.0                1.250000             NaN   \n",
       "2                    14.0                2.000000             NaN   \n",
       "3                     8.0                2.666667      905.444444   \n",
       "4                    25.0                3.125000     6962.263158   \n",
       "\n",
       "   vol_tot_data  nbr_call_tot_complice  duree_call_moy_complice  \\\n",
       "0           NaN                    NaN                      NaN   \n",
       "1           NaN                    NaN                      NaN   \n",
       "2           NaN                    NaN                      NaN   \n",
       "3       23910.0                    NaN                      NaN   \n",
       "4   570059041.0                    NaN                      NaN   \n",
       "\n",
       "   duree_call_tot_complice  nbr_call_sort_abs  nbr_call_en_abs  \n",
       "0                      NaN                NaN              NaN  \n",
       "1                      NaN                NaN              NaN  \n",
       "2                      NaN                NaN              NaN  \n",
       "3                      NaN                NaN              NaN  \n",
       "4                      NaN                NaN              NaN  \n",
       "\n",
       "[5 rows x 69 columns]"
      ]
     },
     "execution_count": 19,
     "metadata": {},
     "output_type": "execute_result"
    }
   ],
   "source": [
    "fraudeurs = pd.read_csv(\"fraudeur3.csv\", sep = \",\")\n",
    "fraudeurs.head()\n",
    "#fraudeurs.shape"
   ]
  },
  {
   "cell_type": "code",
   "execution_count": 20,
   "metadata": {},
   "outputs": [
    {
     "data": {
      "text/html": [
       "<div>\n",
       "<style scoped>\n",
       "    .dataframe tbody tr th:only-of-type {\n",
       "        vertical-align: middle;\n",
       "    }\n",
       "\n",
       "    .dataframe tbody tr th {\n",
       "        vertical-align: top;\n",
       "    }\n",
       "\n",
       "    .dataframe thead th {\n",
       "        text-align: right;\n",
       "    }\n",
       "</style>\n",
       "<table border=\"1\" class=\"dataframe\">\n",
       "  <thead>\n",
       "    <tr style=\"text-align: right;\">\n",
       "      <th></th>\n",
       "      <th>msisdn</th>\n",
       "      <th>mnt_med_pass_sva</th>\n",
       "      <th>mnt_tot_pass_sva</th>\n",
       "      <th>nbr_achat_pass_sva</th>\n",
       "      <th>mnt_med_mix</th>\n",
       "      <th>mnt_tot_mix</th>\n",
       "      <th>nbr_achat_pass_mix</th>\n",
       "      <th>mnt_pass_med_inter</th>\n",
       "      <th>mnt_tot_inter_pass</th>\n",
       "      <th>nbr_achat_pass_inter</th>\n",
       "      <th>...</th>\n",
       "      <th>nbr_call_en_of_y</th>\n",
       "      <th>duree_call_tot_en_of_y</th>\n",
       "      <th>duree_call_moy_en_of_y</th>\n",
       "      <th>duree_data_tot</th>\n",
       "      <th>vol_tot_data</th>\n",
       "      <th>nbr_call_tot_complice</th>\n",
       "      <th>duree_call_moy_complice</th>\n",
       "      <th>duree_call_tot_complice</th>\n",
       "      <th>nbr_call_sort_abs</th>\n",
       "      <th>nbr_call_en_abs</th>\n",
       "    </tr>\n",
       "  </thead>\n",
       "  <tbody>\n",
       "    <tr>\n",
       "      <th>count</th>\n",
       "      <td>1.670000e+02</td>\n",
       "      <td>13.000000</td>\n",
       "      <td>13.000000</td>\n",
       "      <td>13.000000</td>\n",
       "      <td>71.000000</td>\n",
       "      <td>71.000000</td>\n",
       "      <td>71.000000</td>\n",
       "      <td>10.000000</td>\n",
       "      <td>10.000000</td>\n",
       "      <td>10.000000</td>\n",
       "      <td>...</td>\n",
       "      <td>157.000000</td>\n",
       "      <td>157.000000</td>\n",
       "      <td>157.000000</td>\n",
       "      <td>23.000000</td>\n",
       "      <td>2.300000e+01</td>\n",
       "      <td>0.0</td>\n",
       "      <td>0.0</td>\n",
       "      <td>0.0</td>\n",
       "      <td>41.000000</td>\n",
       "      <td>10.000000</td>\n",
       "    </tr>\n",
       "    <tr>\n",
       "      <th>mean</th>\n",
       "      <td>7.366836e+07</td>\n",
       "      <td>396.615385</td>\n",
       "      <td>904.307692</td>\n",
       "      <td>2.230769</td>\n",
       "      <td>498.239437</td>\n",
       "      <td>4018.309859</td>\n",
       "      <td>15.718310</td>\n",
       "      <td>2100.000000</td>\n",
       "      <td>2600.000000</td>\n",
       "      <td>1.400000</td>\n",
       "      <td>...</td>\n",
       "      <td>0.579618</td>\n",
       "      <td>24.968153</td>\n",
       "      <td>4.936728</td>\n",
       "      <td>3129.918784</td>\n",
       "      <td>2.190473e+08</td>\n",
       "      <td>NaN</td>\n",
       "      <td>NaN</td>\n",
       "      <td>NaN</td>\n",
       "      <td>1.707317</td>\n",
       "      <td>1.200000</td>\n",
       "    </tr>\n",
       "    <tr>\n",
       "      <th>std</th>\n",
       "      <td>1.824344e+07</td>\n",
       "      <td>385.007476</td>\n",
       "      <td>1731.032369</td>\n",
       "      <td>2.166174</td>\n",
       "      <td>242.506404</td>\n",
       "      <td>6056.792170</td>\n",
       "      <td>23.850237</td>\n",
       "      <td>210.818511</td>\n",
       "      <td>1264.911064</td>\n",
       "      <td>0.843274</td>\n",
       "      <td>...</td>\n",
       "      <td>1.349869</td>\n",
       "      <td>36.564909</td>\n",
       "      <td>5.086854</td>\n",
       "      <td>3087.563691</td>\n",
       "      <td>2.529957e+08</td>\n",
       "      <td>NaN</td>\n",
       "      <td>NaN</td>\n",
       "      <td>NaN</td>\n",
       "      <td>1.749913</td>\n",
       "      <td>0.632456</td>\n",
       "    </tr>\n",
       "    <tr>\n",
       "      <th>min</th>\n",
       "      <td>9.753285e+06</td>\n",
       "      <td>50.000000</td>\n",
       "      <td>50.000000</td>\n",
       "      <td>1.000000</td>\n",
       "      <td>150.000000</td>\n",
       "      <td>150.000000</td>\n",
       "      <td>1.000000</td>\n",
       "      <td>2000.000000</td>\n",
       "      <td>2000.000000</td>\n",
       "      <td>1.000000</td>\n",
       "      <td>...</td>\n",
       "      <td>0.000000</td>\n",
       "      <td>1.000000</td>\n",
       "      <td>1.000000</td>\n",
       "      <td>4.500000</td>\n",
       "      <td>2.810000e+03</td>\n",
       "      <td>NaN</td>\n",
       "      <td>NaN</td>\n",
       "      <td>NaN</td>\n",
       "      <td>1.000000</td>\n",
       "      <td>1.000000</td>\n",
       "    </tr>\n",
       "    <tr>\n",
       "      <th>25%</th>\n",
       "      <td>5.917396e+07</td>\n",
       "      <td>103.000000</td>\n",
       "      <td>103.000000</td>\n",
       "      <td>1.000000</td>\n",
       "      <td>300.000000</td>\n",
       "      <td>1000.000000</td>\n",
       "      <td>1.000000</td>\n",
       "      <td>2000.000000</td>\n",
       "      <td>2000.000000</td>\n",
       "      <td>1.000000</td>\n",
       "      <td>...</td>\n",
       "      <td>0.000000</td>\n",
       "      <td>5.000000</td>\n",
       "      <td>1.750000</td>\n",
       "      <td>905.558442</td>\n",
       "      <td>2.208100e+04</td>\n",
       "      <td>NaN</td>\n",
       "      <td>NaN</td>\n",
       "      <td>NaN</td>\n",
       "      <td>1.000000</td>\n",
       "      <td>1.000000</td>\n",
       "    </tr>\n",
       "    <tr>\n",
       "      <th>50%</th>\n",
       "      <td>7.709993e+07</td>\n",
       "      <td>150.000000</td>\n",
       "      <td>150.000000</td>\n",
       "      <td>2.000000</td>\n",
       "      <td>450.000000</td>\n",
       "      <td>3300.000000</td>\n",
       "      <td>12.000000</td>\n",
       "      <td>2000.000000</td>\n",
       "      <td>2000.000000</td>\n",
       "      <td>1.000000</td>\n",
       "      <td>...</td>\n",
       "      <td>0.000000</td>\n",
       "      <td>12.000000</td>\n",
       "      <td>3.000000</td>\n",
       "      <td>2595.500000</td>\n",
       "      <td>1.062430e+08</td>\n",
       "      <td>NaN</td>\n",
       "      <td>NaN</td>\n",
       "      <td>NaN</td>\n",
       "      <td>1.000000</td>\n",
       "      <td>1.000000</td>\n",
       "    </tr>\n",
       "    <tr>\n",
       "      <th>75%</th>\n",
       "      <td>8.887767e+07</td>\n",
       "      <td>500.000000</td>\n",
       "      <td>1000.000000</td>\n",
       "      <td>2.000000</td>\n",
       "      <td>525.000000</td>\n",
       "      <td>3900.000000</td>\n",
       "      <td>16.000000</td>\n",
       "      <td>2000.000000</td>\n",
       "      <td>2000.000000</td>\n",
       "      <td>1.000000</td>\n",
       "      <td>...</td>\n",
       "      <td>0.000000</td>\n",
       "      <td>27.000000</td>\n",
       "      <td>5.500000</td>\n",
       "      <td>4746.797619</td>\n",
       "      <td>4.412539e+08</td>\n",
       "      <td>NaN</td>\n",
       "      <td>NaN</td>\n",
       "      <td>NaN</td>\n",
       "      <td>1.000000</td>\n",
       "      <td>1.000000</td>\n",
       "    </tr>\n",
       "    <tr>\n",
       "      <th>max</th>\n",
       "      <td>9.842885e+07</td>\n",
       "      <td>1000.000000</td>\n",
       "      <td>6500.000000</td>\n",
       "      <td>9.000000</td>\n",
       "      <td>1175.000000</td>\n",
       "      <td>45050.000000</td>\n",
       "      <td>172.000000</td>\n",
       "      <td>2500.000000</td>\n",
       "      <td>5000.000000</td>\n",
       "      <td>3.000000</td>\n",
       "      <td>...</td>\n",
       "      <td>10.000000</td>\n",
       "      <td>265.000000</td>\n",
       "      <td>29.750000</td>\n",
       "      <td>9287.400000</td>\n",
       "      <td>7.987241e+08</td>\n",
       "      <td>NaN</td>\n",
       "      <td>NaN</td>\n",
       "      <td>NaN</td>\n",
       "      <td>8.000000</td>\n",
       "      <td>3.000000</td>\n",
       "    </tr>\n",
       "  </tbody>\n",
       "</table>\n",
       "<p>8 rows × 69 columns</p>\n",
       "</div>"
      ],
      "text/plain": [
       "             msisdn  mnt_med_pass_sva  mnt_tot_pass_sva  nbr_achat_pass_sva  \\\n",
       "count  1.670000e+02         13.000000         13.000000           13.000000   \n",
       "mean   7.366836e+07        396.615385        904.307692            2.230769   \n",
       "std    1.824344e+07        385.007476       1731.032369            2.166174   \n",
       "min    9.753285e+06         50.000000         50.000000            1.000000   \n",
       "25%    5.917396e+07        103.000000        103.000000            1.000000   \n",
       "50%    7.709993e+07        150.000000        150.000000            2.000000   \n",
       "75%    8.887767e+07        500.000000       1000.000000            2.000000   \n",
       "max    9.842885e+07       1000.000000       6500.000000            9.000000   \n",
       "\n",
       "       mnt_med_mix   mnt_tot_mix  nbr_achat_pass_mix  mnt_pass_med_inter  \\\n",
       "count    71.000000     71.000000           71.000000           10.000000   \n",
       "mean    498.239437   4018.309859           15.718310         2100.000000   \n",
       "std     242.506404   6056.792170           23.850237          210.818511   \n",
       "min     150.000000    150.000000            1.000000         2000.000000   \n",
       "25%     300.000000   1000.000000            1.000000         2000.000000   \n",
       "50%     450.000000   3300.000000           12.000000         2000.000000   \n",
       "75%     525.000000   3900.000000           16.000000         2000.000000   \n",
       "max    1175.000000  45050.000000          172.000000         2500.000000   \n",
       "\n",
       "       mnt_tot_inter_pass  nbr_achat_pass_inter  ...  nbr_call_en_of_y  \\\n",
       "count           10.000000             10.000000  ...        157.000000   \n",
       "mean          2600.000000              1.400000  ...          0.579618   \n",
       "std           1264.911064              0.843274  ...          1.349869   \n",
       "min           2000.000000              1.000000  ...          0.000000   \n",
       "25%           2000.000000              1.000000  ...          0.000000   \n",
       "50%           2000.000000              1.000000  ...          0.000000   \n",
       "75%           2000.000000              1.000000  ...          0.000000   \n",
       "max           5000.000000              3.000000  ...         10.000000   \n",
       "\n",
       "       duree_call_tot_en_of_y  duree_call_moy_en_of_y  duree_data_tot  \\\n",
       "count              157.000000              157.000000       23.000000   \n",
       "mean                24.968153                4.936728     3129.918784   \n",
       "std                 36.564909                5.086854     3087.563691   \n",
       "min                  1.000000                1.000000        4.500000   \n",
       "25%                  5.000000                1.750000      905.558442   \n",
       "50%                 12.000000                3.000000     2595.500000   \n",
       "75%                 27.000000                5.500000     4746.797619   \n",
       "max                265.000000               29.750000     9287.400000   \n",
       "\n",
       "       vol_tot_data  nbr_call_tot_complice  duree_call_moy_complice  \\\n",
       "count  2.300000e+01                    0.0                      0.0   \n",
       "mean   2.190473e+08                    NaN                      NaN   \n",
       "std    2.529957e+08                    NaN                      NaN   \n",
       "min    2.810000e+03                    NaN                      NaN   \n",
       "25%    2.208100e+04                    NaN                      NaN   \n",
       "50%    1.062430e+08                    NaN                      NaN   \n",
       "75%    4.412539e+08                    NaN                      NaN   \n",
       "max    7.987241e+08                    NaN                      NaN   \n",
       "\n",
       "       duree_call_tot_complice  nbr_call_sort_abs  nbr_call_en_abs  \n",
       "count                      0.0          41.000000        10.000000  \n",
       "mean                       NaN           1.707317         1.200000  \n",
       "std                        NaN           1.749913         0.632456  \n",
       "min                        NaN           1.000000         1.000000  \n",
       "25%                        NaN           1.000000         1.000000  \n",
       "50%                        NaN           1.000000         1.000000  \n",
       "75%                        NaN           1.000000         1.000000  \n",
       "max                        NaN           8.000000         3.000000  \n",
       "\n",
       "[8 rows x 69 columns]"
      ]
     },
     "execution_count": 20,
     "metadata": {},
     "output_type": "execute_result"
    }
   ],
   "source": [
    "fraudeurs.describe()"
   ]
  },
  {
   "cell_type": "code",
   "execution_count": 21,
   "metadata": {},
   "outputs": [],
   "source": [
    "fraudeurs1 = fraudeurs.copy()"
   ]
  },
  {
   "cell_type": "code",
   "execution_count": 22,
   "metadata": {},
   "outputs": [],
   "source": [
    "fraudeurs1 = fraudeurs1.fillna(0)"
   ]
  },
  {
   "cell_type": "code",
   "execution_count": 23,
   "metadata": {},
   "outputs": [
    {
     "data": {
      "text/html": [
       "<div>\n",
       "<style scoped>\n",
       "    .dataframe tbody tr th:only-of-type {\n",
       "        vertical-align: middle;\n",
       "    }\n",
       "\n",
       "    .dataframe tbody tr th {\n",
       "        vertical-align: top;\n",
       "    }\n",
       "\n",
       "    .dataframe thead th {\n",
       "        text-align: right;\n",
       "    }\n",
       "</style>\n",
       "<table border=\"1\" class=\"dataframe\">\n",
       "  <thead>\n",
       "    <tr style=\"text-align: right;\">\n",
       "      <th></th>\n",
       "      <th>msisdn</th>\n",
       "      <th>mnt_med_pass_sva</th>\n",
       "      <th>mnt_tot_pass_sva</th>\n",
       "      <th>nbr_achat_pass_sva</th>\n",
       "      <th>mnt_med_mix</th>\n",
       "      <th>mnt_tot_mix</th>\n",
       "      <th>nbr_achat_pass_mix</th>\n",
       "      <th>mnt_pass_med_inter</th>\n",
       "      <th>mnt_tot_inter_pass</th>\n",
       "      <th>nbr_achat_pass_inter</th>\n",
       "      <th>...</th>\n",
       "      <th>nbr_call_en_of_y</th>\n",
       "      <th>duree_call_tot_en_of_y</th>\n",
       "      <th>duree_call_moy_en_of_y</th>\n",
       "      <th>duree_data_tot</th>\n",
       "      <th>vol_tot_data</th>\n",
       "      <th>nbr_call_tot_complice</th>\n",
       "      <th>duree_call_moy_complice</th>\n",
       "      <th>duree_call_tot_complice</th>\n",
       "      <th>nbr_call_sort_abs</th>\n",
       "      <th>nbr_call_en_abs</th>\n",
       "    </tr>\n",
       "  </thead>\n",
       "  <tbody>\n",
       "    <tr>\n",
       "      <th>count</th>\n",
       "      <td>1.670000e+02</td>\n",
       "      <td>167.000000</td>\n",
       "      <td>167.000000</td>\n",
       "      <td>167.000000</td>\n",
       "      <td>167.000000</td>\n",
       "      <td>167.000000</td>\n",
       "      <td>167.000000</td>\n",
       "      <td>167.000000</td>\n",
       "      <td>167.000000</td>\n",
       "      <td>167.000000</td>\n",
       "      <td>...</td>\n",
       "      <td>167.000000</td>\n",
       "      <td>167.000000</td>\n",
       "      <td>167.000000</td>\n",
       "      <td>167.000000</td>\n",
       "      <td>1.670000e+02</td>\n",
       "      <td>167.0</td>\n",
       "      <td>167.0</td>\n",
       "      <td>167.0</td>\n",
       "      <td>167.000000</td>\n",
       "      <td>167.000000</td>\n",
       "    </tr>\n",
       "    <tr>\n",
       "      <th>mean</th>\n",
       "      <td>7.366836e+07</td>\n",
       "      <td>30.874251</td>\n",
       "      <td>70.395210</td>\n",
       "      <td>0.173653</td>\n",
       "      <td>211.826347</td>\n",
       "      <td>1708.383234</td>\n",
       "      <td>6.682635</td>\n",
       "      <td>125.748503</td>\n",
       "      <td>155.688623</td>\n",
       "      <td>0.083832</td>\n",
       "      <td>...</td>\n",
       "      <td>0.544910</td>\n",
       "      <td>23.473054</td>\n",
       "      <td>4.641115</td>\n",
       "      <td>431.066659</td>\n",
       "      <td>3.016819e+07</td>\n",
       "      <td>0.0</td>\n",
       "      <td>0.0</td>\n",
       "      <td>0.0</td>\n",
       "      <td>0.419162</td>\n",
       "      <td>0.071856</td>\n",
       "    </tr>\n",
       "    <tr>\n",
       "      <th>std</th>\n",
       "      <td>1.824344e+07</td>\n",
       "      <td>148.578209</td>\n",
       "      <td>525.042465</td>\n",
       "      <td>0.835810</td>\n",
       "      <td>292.975162</td>\n",
       "      <td>4409.022283</td>\n",
       "      <td>17.338268</td>\n",
       "      <td>502.159682</td>\n",
       "      <td>685.267056</td>\n",
       "      <td>0.386725</td>\n",
       "      <td>...</td>\n",
       "      <td>1.315829</td>\n",
       "      <td>35.941018</td>\n",
       "      <td>5.069272</td>\n",
       "      <td>1560.067216</td>\n",
       "      <td>1.192279e+08</td>\n",
       "      <td>0.0</td>\n",
       "      <td>0.0</td>\n",
       "      <td>0.0</td>\n",
       "      <td>1.131846</td>\n",
       "      <td>0.321309</td>\n",
       "    </tr>\n",
       "    <tr>\n",
       "      <th>min</th>\n",
       "      <td>9.753285e+06</td>\n",
       "      <td>0.000000</td>\n",
       "      <td>0.000000</td>\n",
       "      <td>0.000000</td>\n",
       "      <td>0.000000</td>\n",
       "      <td>0.000000</td>\n",
       "      <td>0.000000</td>\n",
       "      <td>0.000000</td>\n",
       "      <td>0.000000</td>\n",
       "      <td>0.000000</td>\n",
       "      <td>...</td>\n",
       "      <td>0.000000</td>\n",
       "      <td>0.000000</td>\n",
       "      <td>0.000000</td>\n",
       "      <td>0.000000</td>\n",
       "      <td>0.000000e+00</td>\n",
       "      <td>0.0</td>\n",
       "      <td>0.0</td>\n",
       "      <td>0.0</td>\n",
       "      <td>0.000000</td>\n",
       "      <td>0.000000</td>\n",
       "    </tr>\n",
       "    <tr>\n",
       "      <th>25%</th>\n",
       "      <td>5.917396e+07</td>\n",
       "      <td>0.000000</td>\n",
       "      <td>0.000000</td>\n",
       "      <td>0.000000</td>\n",
       "      <td>0.000000</td>\n",
       "      <td>0.000000</td>\n",
       "      <td>0.000000</td>\n",
       "      <td>0.000000</td>\n",
       "      <td>0.000000</td>\n",
       "      <td>0.000000</td>\n",
       "      <td>...</td>\n",
       "      <td>0.000000</td>\n",
       "      <td>5.000000</td>\n",
       "      <td>1.666667</td>\n",
       "      <td>0.000000</td>\n",
       "      <td>0.000000e+00</td>\n",
       "      <td>0.0</td>\n",
       "      <td>0.0</td>\n",
       "      <td>0.0</td>\n",
       "      <td>0.000000</td>\n",
       "      <td>0.000000</td>\n",
       "    </tr>\n",
       "    <tr>\n",
       "      <th>50%</th>\n",
       "      <td>7.709993e+07</td>\n",
       "      <td>0.000000</td>\n",
       "      <td>0.000000</td>\n",
       "      <td>0.000000</td>\n",
       "      <td>0.000000</td>\n",
       "      <td>0.000000</td>\n",
       "      <td>0.000000</td>\n",
       "      <td>0.000000</td>\n",
       "      <td>0.000000</td>\n",
       "      <td>0.000000</td>\n",
       "      <td>...</td>\n",
       "      <td>0.000000</td>\n",
       "      <td>10.000000</td>\n",
       "      <td>2.666667</td>\n",
       "      <td>0.000000</td>\n",
       "      <td>0.000000e+00</td>\n",
       "      <td>0.0</td>\n",
       "      <td>0.0</td>\n",
       "      <td>0.0</td>\n",
       "      <td>0.000000</td>\n",
       "      <td>0.000000</td>\n",
       "    </tr>\n",
       "    <tr>\n",
       "      <th>75%</th>\n",
       "      <td>8.887767e+07</td>\n",
       "      <td>0.000000</td>\n",
       "      <td>0.000000</td>\n",
       "      <td>0.000000</td>\n",
       "      <td>450.000000</td>\n",
       "      <td>2825.000000</td>\n",
       "      <td>10.500000</td>\n",
       "      <td>0.000000</td>\n",
       "      <td>0.000000</td>\n",
       "      <td>0.000000</td>\n",
       "      <td>...</td>\n",
       "      <td>0.000000</td>\n",
       "      <td>25.000000</td>\n",
       "      <td>5.000000</td>\n",
       "      <td>0.000000</td>\n",
       "      <td>0.000000e+00</td>\n",
       "      <td>0.0</td>\n",
       "      <td>0.0</td>\n",
       "      <td>0.0</td>\n",
       "      <td>0.000000</td>\n",
       "      <td>0.000000</td>\n",
       "    </tr>\n",
       "    <tr>\n",
       "      <th>max</th>\n",
       "      <td>9.842885e+07</td>\n",
       "      <td>1000.000000</td>\n",
       "      <td>6500.000000</td>\n",
       "      <td>9.000000</td>\n",
       "      <td>1175.000000</td>\n",
       "      <td>45050.000000</td>\n",
       "      <td>172.000000</td>\n",
       "      <td>2500.000000</td>\n",
       "      <td>5000.000000</td>\n",
       "      <td>3.000000</td>\n",
       "      <td>...</td>\n",
       "      <td>10.000000</td>\n",
       "      <td>265.000000</td>\n",
       "      <td>29.750000</td>\n",
       "      <td>9287.400000</td>\n",
       "      <td>7.987241e+08</td>\n",
       "      <td>0.0</td>\n",
       "      <td>0.0</td>\n",
       "      <td>0.0</td>\n",
       "      <td>8.000000</td>\n",
       "      <td>3.000000</td>\n",
       "    </tr>\n",
       "  </tbody>\n",
       "</table>\n",
       "<p>8 rows × 69 columns</p>\n",
       "</div>"
      ],
      "text/plain": [
       "             msisdn  mnt_med_pass_sva  mnt_tot_pass_sva  nbr_achat_pass_sva  \\\n",
       "count  1.670000e+02        167.000000        167.000000          167.000000   \n",
       "mean   7.366836e+07         30.874251         70.395210            0.173653   \n",
       "std    1.824344e+07        148.578209        525.042465            0.835810   \n",
       "min    9.753285e+06          0.000000          0.000000            0.000000   \n",
       "25%    5.917396e+07          0.000000          0.000000            0.000000   \n",
       "50%    7.709993e+07          0.000000          0.000000            0.000000   \n",
       "75%    8.887767e+07          0.000000          0.000000            0.000000   \n",
       "max    9.842885e+07       1000.000000       6500.000000            9.000000   \n",
       "\n",
       "       mnt_med_mix   mnt_tot_mix  nbr_achat_pass_mix  mnt_pass_med_inter  \\\n",
       "count   167.000000    167.000000          167.000000          167.000000   \n",
       "mean    211.826347   1708.383234            6.682635          125.748503   \n",
       "std     292.975162   4409.022283           17.338268          502.159682   \n",
       "min       0.000000      0.000000            0.000000            0.000000   \n",
       "25%       0.000000      0.000000            0.000000            0.000000   \n",
       "50%       0.000000      0.000000            0.000000            0.000000   \n",
       "75%     450.000000   2825.000000           10.500000            0.000000   \n",
       "max    1175.000000  45050.000000          172.000000         2500.000000   \n",
       "\n",
       "       mnt_tot_inter_pass  nbr_achat_pass_inter  ...  nbr_call_en_of_y  \\\n",
       "count          167.000000            167.000000  ...        167.000000   \n",
       "mean           155.688623              0.083832  ...          0.544910   \n",
       "std            685.267056              0.386725  ...          1.315829   \n",
       "min              0.000000              0.000000  ...          0.000000   \n",
       "25%              0.000000              0.000000  ...          0.000000   \n",
       "50%              0.000000              0.000000  ...          0.000000   \n",
       "75%              0.000000              0.000000  ...          0.000000   \n",
       "max           5000.000000              3.000000  ...         10.000000   \n",
       "\n",
       "       duree_call_tot_en_of_y  duree_call_moy_en_of_y  duree_data_tot  \\\n",
       "count              167.000000              167.000000      167.000000   \n",
       "mean                23.473054                4.641115      431.066659   \n",
       "std                 35.941018                5.069272     1560.067216   \n",
       "min                  0.000000                0.000000        0.000000   \n",
       "25%                  5.000000                1.666667        0.000000   \n",
       "50%                 10.000000                2.666667        0.000000   \n",
       "75%                 25.000000                5.000000        0.000000   \n",
       "max                265.000000               29.750000     9287.400000   \n",
       "\n",
       "       vol_tot_data  nbr_call_tot_complice  duree_call_moy_complice  \\\n",
       "count  1.670000e+02                  167.0                    167.0   \n",
       "mean   3.016819e+07                    0.0                      0.0   \n",
       "std    1.192279e+08                    0.0                      0.0   \n",
       "min    0.000000e+00                    0.0                      0.0   \n",
       "25%    0.000000e+00                    0.0                      0.0   \n",
       "50%    0.000000e+00                    0.0                      0.0   \n",
       "75%    0.000000e+00                    0.0                      0.0   \n",
       "max    7.987241e+08                    0.0                      0.0   \n",
       "\n",
       "       duree_call_tot_complice  nbr_call_sort_abs  nbr_call_en_abs  \n",
       "count                    167.0         167.000000       167.000000  \n",
       "mean                       0.0           0.419162         0.071856  \n",
       "std                        0.0           1.131846         0.321309  \n",
       "min                        0.0           0.000000         0.000000  \n",
       "25%                        0.0           0.000000         0.000000  \n",
       "50%                        0.0           0.000000         0.000000  \n",
       "75%                        0.0           0.000000         0.000000  \n",
       "max                        0.0           8.000000         3.000000  \n",
       "\n",
       "[8 rows x 69 columns]"
      ]
     },
     "execution_count": 23,
     "metadata": {},
     "output_type": "execute_result"
    }
   ],
   "source": [
    "fraudeurs1.describe()"
   ]
  },
  {
   "cell_type": "code",
   "execution_count": null,
   "metadata": {},
   "outputs": [],
   "source": []
  },
  {
   "cell_type": "code",
   "execution_count": 29,
   "metadata": {},
   "outputs": [],
   "source": [
    "#df91.columns"
   ]
  },
  {
   "cell_type": "markdown",
   "metadata": {},
   "source": [
    "## FRAUDEURS"
   ]
  },
  {
   "cell_type": "markdown",
   "metadata": {},
   "source": [
    "## NON FRAUDEURS AMONG df91[\"classe\"] "
   ]
  },
  {
   "cell_type": "code",
   "execution_count": 36,
   "metadata": {},
   "outputs": [],
   "source": [
    "df91[\"msisdn\"] = df[\"msisdn\"]"
   ]
  },
  {
   "cell_type": "code",
   "execution_count": 37,
   "metadata": {},
   "outputs": [],
   "source": [
    "df6 = df91[df91[\"classe\"] == 6]"
   ]
  },
  {
   "cell_type": "code",
   "execution_count": 38,
   "metadata": {},
   "outputs": [],
   "source": [
    "def anti_join(x, y, on):\n",
    "    \"\"\"Return rows in x which are not present in y\"\"\"\n",
    "    ans = pd.merge(left=x, right=y, how='left', indicator=True, on=on)\n",
    "    ans = ans.loc[ans._merge == 'left_only', :].drop(columns='_merge')\n",
    "    return ans"
   ]
  },
  {
   "cell_type": "code",
   "execution_count": 39,
   "metadata": {},
   "outputs": [],
   "source": [
    "#df_anti = pd.merge(df6[[\"msisdn\"]] ,fraudeurs, on='msisdn', how='anti')"
   ]
  },
  {
   "cell_type": "code",
   "execution_count": 48,
   "metadata": {},
   "outputs": [],
   "source": [
    "df_anti = anti_join(df6[\"msisdn\"] ,fraudeurs, \"msisdn\")"
   ]
  },
  {
   "cell_type": "code",
   "execution_count": 57,
   "metadata": {},
   "outputs": [
    {
     "data": {
      "text/plain": [
       "Index(['msisdn', 'mnt_med_pass_sva', 'mnt_tot_pass_sva', 'nbr_achat_pass_sva',\n",
       "       'mnt_med_mix', 'mnt_tot_mix', 'nbr_achat_pass_mix',\n",
       "       'mnt_pass_med_inter', 'mnt_tot_inter_pass', 'nbr_achat_pass_inter',\n",
       "       'mnt_med_pass_data', 'mnt_tot_pass_data', 'nbr_achat_pass_data',\n",
       "       'nbr_transac_share', 'vol_tot_data_share', 'vol_moy_data_share',\n",
       "       'nbr_transac_family', 'vol_tot_data_family', 'vol_moy_data_family',\n",
       "       'nbr_rechar', 'mnt_rechar_tot', 'mnt_rechar_moy', 'temp_sms_moy',\n",
       "       'ecartyp_temp_sms', 'nbr_dist_en_of_x', 'nbr_call_en_of_x',\n",
       "       'duree_call_tot_en_of_x', 'duree_call_moy_en_of_x', 'nbr_dist_sort_on',\n",
       "       'nbr_call_sort_on', 'duree_call_tot_sort_on', 'duree_call_moy_sort_on',\n",
       "       'nbr_dist_sort_of', 'nbr_call_sort_of', 'duree_call_tot_sort_of',\n",
       "       'duree_call_moy_sort_of', 'nbr_sms_tot_sort_inter',\n",
       "       'nbr_call_tot_sort_inter', 'duree_call_tot_sort_inter',\n",
       "       'duree_call_moy_sort_inter', 'nbr_call_sort_night',\n",
       "       'duree_moy_sort_night', 'duree_call_tot_sort_night', 'nbr_sms_tot_en',\n",
       "       'nbr_dist_sms_en', 'nbr_dist_sort', 'nbr_call_tot_sort',\n",
       "       'duree_call_tot_sort', 'duree_call_moy_sort', 'nbr_dist_call_en',\n",
       "       'nbr_call_tot_en', 'duree_call_tot_en', 'duree_call_moy_en',\n",
       "       'nbre_imsi', 'nbr_dist_en_on', 'nbr_call_en_on', 'duree_call_tot_en_on',\n",
       "       'duree_call_moy_sort_en', 'nbr_dist_en_of_y', 'nbr_call_en_of_y',\n",
       "       'duree_call_tot_en_of_y', 'duree_call_moy_en_of_y', 'duree_data_tot',\n",
       "       'vol_tot_data', 'nbr_call_tot_complice', 'duree_call_moy_complice',\n",
       "       'duree_call_tot_complice', 'nbr_call_sort_abs', 'nbr_call_en_abs'],\n",
       "      dtype='object')"
      ]
     },
     "execution_count": 57,
     "metadata": {},
     "output_type": "execute_result"
    }
   ],
   "source": [
    "fraudeurs.columns"
   ]
  },
  {
   "cell_type": "code",
   "execution_count": 50,
   "metadata": {},
   "outputs": [
    {
     "data": {
      "text/plain": [
       "Index(['msisdn', 'mnt_med_pass_sva', 'mnt_tot_pass_sva', 'nbr_achat_pass_sva',\n",
       "       'mnt_med_mix', 'mnt_tot_mix', 'nbr_achat_pass_mix',\n",
       "       'mnt_pass_med_inter', 'mnt_tot_inter_pass', 'nbr_achat_pass_inter',\n",
       "       'mnt_med_pass_data', 'mnt_tot_pass_data', 'nbr_achat_pass_data',\n",
       "       'nbr_transac_share', 'vol_tot_data_share', 'vol_moy_data_share',\n",
       "       'nbr_transac_family', 'vol_tot_data_family', 'vol_moy_data_family',\n",
       "       'nbr_rechar', 'mnt_rechar_tot', 'mnt_rechar_moy', 'temp_sms_moy',\n",
       "       'ecartyp_temp_sms', 'nbr_dist_en_of_x', 'nbr_call_en_of_x',\n",
       "       'duree_call_tot_en_of_x', 'duree_call_moy_en_of_x', 'nbr_dist_sort_on',\n",
       "       'nbr_call_sort_on', 'duree_call_tot_sort_on', 'duree_call_moy_sort_on',\n",
       "       'nbr_dist_sort_of', 'nbr_call_sort_of', 'duree_call_tot_sort_of',\n",
       "       'duree_call_moy_sort_of', 'nbr_sms_tot_sort_inter',\n",
       "       'nbr_call_tot_sort_inter', 'duree_call_tot_sort_inter',\n",
       "       'duree_call_moy_sort_inter', 'nbr_call_sort_night',\n",
       "       'duree_moy_sort_night', 'duree_call_tot_sort_night', 'nbr_sms_tot_en',\n",
       "       'nbr_dist_sms_en', 'nbr_dist_sort', 'nbr_call_tot_sort',\n",
       "       'duree_call_tot_sort', 'duree_call_moy_sort', 'nbr_dist_call_en',\n",
       "       'nbr_call_tot_en', 'duree_call_tot_en', 'duree_call_moy_en',\n",
       "       'nbre_imsi', 'nbr_dist_en_on', 'nbr_call_en_on', 'duree_call_tot_en_on',\n",
       "       'duree_call_moy_sort_en', 'nbr_dist_en_of_y', 'nbr_call_en_of_y',\n",
       "       'duree_call_tot_en_of_y', 'duree_call_moy_en_of_y', 'duree_data_tot',\n",
       "       'vol_tot_data', 'nbr_call_tot_complice', 'duree_call_moy_complice',\n",
       "       'duree_call_tot_complice', 'nbr_call_sort_abs', 'nbr_call_en_abs'],\n",
       "      dtype='object')"
      ]
     },
     "execution_count": 50,
     "metadata": {},
     "output_type": "execute_result"
    }
   ],
   "source": [
    "df_anti.columns"
   ]
  },
  {
   "cell_type": "code",
   "execution_count": 46,
   "metadata": {},
   "outputs": [
    {
     "data": {
      "text/plain": [
       "(1645440, 69)"
      ]
     },
     "execution_count": 46,
     "metadata": {},
     "output_type": "execute_result"
    }
   ],
   "source": [
    "anti_join(df6[\"msisdn\"] ,fraudeurs, \"msisdn\").shape"
   ]
  },
  {
   "cell_type": "code",
   "execution_count": 35,
   "metadata": {},
   "outputs": [
    {
     "ename": "KeyError",
     "evalue": "\"None of [Index(['msisdn'], dtype='object')] are in the [columns]\"",
     "output_type": "error",
     "traceback": [
      "\u001b[0;31m---------------------------------------------------------------------------\u001b[0m",
      "\u001b[0;31mKeyError\u001b[0m                                  Traceback (most recent call last)",
      "\u001b[0;32m<ipython-input-35-37fa05deb192>\u001b[0m in \u001b[0;36m<module>\u001b[0;34m\u001b[0m\n\u001b[0;32m----> 1\u001b[0;31m \u001b[0mdf6\u001b[0m\u001b[0;34m[\u001b[0m\u001b[0;34m[\u001b[0m\u001b[0;34m\"msisdn\"\u001b[0m\u001b[0;34m]\u001b[0m\u001b[0;34m]\u001b[0m\u001b[0;34m.\u001b[0m\u001b[0mhead\u001b[0m\u001b[0;34m(\u001b[0m\u001b[0;34m)\u001b[0m\u001b[0;34m\u001b[0m\u001b[0;34m\u001b[0m\u001b[0m\n\u001b[0m",
      "\u001b[0;32m~/opt/anaconda3/lib/python3.8/site-packages/pandas/core/frame.py\u001b[0m in \u001b[0;36m__getitem__\u001b[0;34m(self, key)\u001b[0m\n\u001b[1;32m   2906\u001b[0m             \u001b[0;32mif\u001b[0m \u001b[0mis_iterator\u001b[0m\u001b[0;34m(\u001b[0m\u001b[0mkey\u001b[0m\u001b[0;34m)\u001b[0m\u001b[0;34m:\u001b[0m\u001b[0;34m\u001b[0m\u001b[0;34m\u001b[0m\u001b[0m\n\u001b[1;32m   2907\u001b[0m                 \u001b[0mkey\u001b[0m \u001b[0;34m=\u001b[0m \u001b[0mlist\u001b[0m\u001b[0;34m(\u001b[0m\u001b[0mkey\u001b[0m\u001b[0;34m)\u001b[0m\u001b[0;34m\u001b[0m\u001b[0;34m\u001b[0m\u001b[0m\n\u001b[0;32m-> 2908\u001b[0;31m             \u001b[0mindexer\u001b[0m \u001b[0;34m=\u001b[0m \u001b[0mself\u001b[0m\u001b[0;34m.\u001b[0m\u001b[0mloc\u001b[0m\u001b[0;34m.\u001b[0m\u001b[0m_get_listlike_indexer\u001b[0m\u001b[0;34m(\u001b[0m\u001b[0mkey\u001b[0m\u001b[0;34m,\u001b[0m \u001b[0maxis\u001b[0m\u001b[0;34m=\u001b[0m\u001b[0;36m1\u001b[0m\u001b[0;34m,\u001b[0m \u001b[0mraise_missing\u001b[0m\u001b[0;34m=\u001b[0m\u001b[0;32mTrue\u001b[0m\u001b[0;34m)\u001b[0m\u001b[0;34m[\u001b[0m\u001b[0;36m1\u001b[0m\u001b[0;34m]\u001b[0m\u001b[0;34m\u001b[0m\u001b[0;34m\u001b[0m\u001b[0m\n\u001b[0m\u001b[1;32m   2909\u001b[0m \u001b[0;34m\u001b[0m\u001b[0m\n\u001b[1;32m   2910\u001b[0m         \u001b[0;31m# take() does not accept boolean indexers\u001b[0m\u001b[0;34m\u001b[0m\u001b[0;34m\u001b[0m\u001b[0;34m\u001b[0m\u001b[0m\n",
      "\u001b[0;32m~/opt/anaconda3/lib/python3.8/site-packages/pandas/core/indexing.py\u001b[0m in \u001b[0;36m_get_listlike_indexer\u001b[0;34m(self, key, axis, raise_missing)\u001b[0m\n\u001b[1;32m   1252\u001b[0m             \u001b[0mkeyarr\u001b[0m\u001b[0;34m,\u001b[0m \u001b[0mindexer\u001b[0m\u001b[0;34m,\u001b[0m \u001b[0mnew_indexer\u001b[0m \u001b[0;34m=\u001b[0m \u001b[0max\u001b[0m\u001b[0;34m.\u001b[0m\u001b[0m_reindex_non_unique\u001b[0m\u001b[0;34m(\u001b[0m\u001b[0mkeyarr\u001b[0m\u001b[0;34m)\u001b[0m\u001b[0;34m\u001b[0m\u001b[0;34m\u001b[0m\u001b[0m\n\u001b[1;32m   1253\u001b[0m \u001b[0;34m\u001b[0m\u001b[0m\n\u001b[0;32m-> 1254\u001b[0;31m         \u001b[0mself\u001b[0m\u001b[0;34m.\u001b[0m\u001b[0m_validate_read_indexer\u001b[0m\u001b[0;34m(\u001b[0m\u001b[0mkeyarr\u001b[0m\u001b[0;34m,\u001b[0m \u001b[0mindexer\u001b[0m\u001b[0;34m,\u001b[0m \u001b[0maxis\u001b[0m\u001b[0;34m,\u001b[0m \u001b[0mraise_missing\u001b[0m\u001b[0;34m=\u001b[0m\u001b[0mraise_missing\u001b[0m\u001b[0;34m)\u001b[0m\u001b[0;34m\u001b[0m\u001b[0;34m\u001b[0m\u001b[0m\n\u001b[0m\u001b[1;32m   1255\u001b[0m         \u001b[0;32mreturn\u001b[0m \u001b[0mkeyarr\u001b[0m\u001b[0;34m,\u001b[0m \u001b[0mindexer\u001b[0m\u001b[0;34m\u001b[0m\u001b[0;34m\u001b[0m\u001b[0m\n\u001b[1;32m   1256\u001b[0m \u001b[0;34m\u001b[0m\u001b[0m\n",
      "\u001b[0;32m~/opt/anaconda3/lib/python3.8/site-packages/pandas/core/indexing.py\u001b[0m in \u001b[0;36m_validate_read_indexer\u001b[0;34m(self, key, indexer, axis, raise_missing)\u001b[0m\n\u001b[1;32m   1296\u001b[0m             \u001b[0;32mif\u001b[0m \u001b[0mmissing\u001b[0m \u001b[0;34m==\u001b[0m \u001b[0mlen\u001b[0m\u001b[0;34m(\u001b[0m\u001b[0mindexer\u001b[0m\u001b[0;34m)\u001b[0m\u001b[0;34m:\u001b[0m\u001b[0;34m\u001b[0m\u001b[0;34m\u001b[0m\u001b[0m\n\u001b[1;32m   1297\u001b[0m                 \u001b[0maxis_name\u001b[0m \u001b[0;34m=\u001b[0m \u001b[0mself\u001b[0m\u001b[0;34m.\u001b[0m\u001b[0mobj\u001b[0m\u001b[0;34m.\u001b[0m\u001b[0m_get_axis_name\u001b[0m\u001b[0;34m(\u001b[0m\u001b[0maxis\u001b[0m\u001b[0;34m)\u001b[0m\u001b[0;34m\u001b[0m\u001b[0;34m\u001b[0m\u001b[0m\n\u001b[0;32m-> 1298\u001b[0;31m                 \u001b[0;32mraise\u001b[0m \u001b[0mKeyError\u001b[0m\u001b[0;34m(\u001b[0m\u001b[0;34mf\"None of [{key}] are in the [{axis_name}]\"\u001b[0m\u001b[0;34m)\u001b[0m\u001b[0;34m\u001b[0m\u001b[0;34m\u001b[0m\u001b[0m\n\u001b[0m\u001b[1;32m   1299\u001b[0m \u001b[0;34m\u001b[0m\u001b[0m\n\u001b[1;32m   1300\u001b[0m             \u001b[0;31m# We (temporarily) allow for some missing keys with .loc, except in\u001b[0m\u001b[0;34m\u001b[0m\u001b[0;34m\u001b[0m\u001b[0;34m\u001b[0m\u001b[0m\n",
      "\u001b[0;31mKeyError\u001b[0m: \"None of [Index(['msisdn'], dtype='object')] are in the [columns]\""
     ]
    }
   ],
   "source": [
    "df6[[\"msisdn\"]].head()"
   ]
  },
  {
   "cell_type": "code",
   "execution_count": 42,
   "metadata": {},
   "outputs": [
    {
     "data": {
      "text/html": [
       "<div>\n",
       "<style scoped>\n",
       "    .dataframe tbody tr th:only-of-type {\n",
       "        vertical-align: middle;\n",
       "    }\n",
       "\n",
       "    .dataframe tbody tr th {\n",
       "        vertical-align: top;\n",
       "    }\n",
       "\n",
       "    .dataframe thead th {\n",
       "        text-align: right;\n",
       "    }\n",
       "</style>\n",
       "<table border=\"1\" class=\"dataframe\">\n",
       "  <thead>\n",
       "    <tr style=\"text-align: right;\">\n",
       "      <th></th>\n",
       "      <th>msisdn</th>\n",
       "      <th>mnt_med_pass_sva</th>\n",
       "      <th>mnt_tot_pass_sva</th>\n",
       "      <th>nbr_achat_pass_sva</th>\n",
       "      <th>mnt_med_mix</th>\n",
       "      <th>mnt_tot_mix</th>\n",
       "      <th>nbr_achat_pass_mix</th>\n",
       "      <th>mnt_pass_med_inter</th>\n",
       "      <th>mnt_tot_inter_pass</th>\n",
       "      <th>nbr_achat_pass_inter</th>\n",
       "      <th>...</th>\n",
       "      <th>nbr_call_en_of_y</th>\n",
       "      <th>duree_call_tot_en_of_y</th>\n",
       "      <th>duree_call_moy_en_of_y</th>\n",
       "      <th>duree_data_tot</th>\n",
       "      <th>vol_tot_data</th>\n",
       "      <th>nbr_call_tot_complice</th>\n",
       "      <th>duree_call_moy_complice</th>\n",
       "      <th>duree_call_tot_complice</th>\n",
       "      <th>nbr_call_sort_abs</th>\n",
       "      <th>nbr_call_en_abs</th>\n",
       "    </tr>\n",
       "  </thead>\n",
       "  <tbody>\n",
       "    <tr>\n",
       "      <th>0</th>\n",
       "      <td>48531591.0</td>\n",
       "      <td>NaN</td>\n",
       "      <td>NaN</td>\n",
       "      <td>NaN</td>\n",
       "      <td>500.0</td>\n",
       "      <td>4500.0</td>\n",
       "      <td>12.0</td>\n",
       "      <td>NaN</td>\n",
       "      <td>NaN</td>\n",
       "      <td>NaN</td>\n",
       "      <td>...</td>\n",
       "      <td>0.0</td>\n",
       "      <td>33.0</td>\n",
       "      <td>5.500000</td>\n",
       "      <td>NaN</td>\n",
       "      <td>NaN</td>\n",
       "      <td>NaN</td>\n",
       "      <td>NaN</td>\n",
       "      <td>NaN</td>\n",
       "      <td>NaN</td>\n",
       "      <td>NaN</td>\n",
       "    </tr>\n",
       "    <tr>\n",
       "      <th>1</th>\n",
       "      <td>67442397.0</td>\n",
       "      <td>103.0</td>\n",
       "      <td>103.0</td>\n",
       "      <td>1.0</td>\n",
       "      <td>450.0</td>\n",
       "      <td>4200.0</td>\n",
       "      <td>21.0</td>\n",
       "      <td>NaN</td>\n",
       "      <td>NaN</td>\n",
       "      <td>NaN</td>\n",
       "      <td>...</td>\n",
       "      <td>0.0</td>\n",
       "      <td>14.0</td>\n",
       "      <td>2.000000</td>\n",
       "      <td>NaN</td>\n",
       "      <td>NaN</td>\n",
       "      <td>NaN</td>\n",
       "      <td>NaN</td>\n",
       "      <td>NaN</td>\n",
       "      <td>NaN</td>\n",
       "      <td>NaN</td>\n",
       "    </tr>\n",
       "    <tr>\n",
       "      <th>2</th>\n",
       "      <td>97648507.0</td>\n",
       "      <td>NaN</td>\n",
       "      <td>NaN</td>\n",
       "      <td>NaN</td>\n",
       "      <td>NaN</td>\n",
       "      <td>NaN</td>\n",
       "      <td>NaN</td>\n",
       "      <td>NaN</td>\n",
       "      <td>NaN</td>\n",
       "      <td>NaN</td>\n",
       "      <td>...</td>\n",
       "      <td>0.0</td>\n",
       "      <td>4.0</td>\n",
       "      <td>1.333333</td>\n",
       "      <td>NaN</td>\n",
       "      <td>NaN</td>\n",
       "      <td>NaN</td>\n",
       "      <td>NaN</td>\n",
       "      <td>NaN</td>\n",
       "      <td>NaN</td>\n",
       "      <td>NaN</td>\n",
       "    </tr>\n",
       "    <tr>\n",
       "      <th>3</th>\n",
       "      <td>87700364.0</td>\n",
       "      <td>NaN</td>\n",
       "      <td>NaN</td>\n",
       "      <td>NaN</td>\n",
       "      <td>NaN</td>\n",
       "      <td>NaN</td>\n",
       "      <td>NaN</td>\n",
       "      <td>2000.0</td>\n",
       "      <td>2000.0</td>\n",
       "      <td>1.0</td>\n",
       "      <td>...</td>\n",
       "      <td>0.0</td>\n",
       "      <td>19.0</td>\n",
       "      <td>1.727273</td>\n",
       "      <td>NaN</td>\n",
       "      <td>NaN</td>\n",
       "      <td>NaN</td>\n",
       "      <td>NaN</td>\n",
       "      <td>NaN</td>\n",
       "      <td>NaN</td>\n",
       "      <td>NaN</td>\n",
       "    </tr>\n",
       "    <tr>\n",
       "      <th>4</th>\n",
       "      <td>89280762.0</td>\n",
       "      <td>NaN</td>\n",
       "      <td>NaN</td>\n",
       "      <td>NaN</td>\n",
       "      <td>550.0</td>\n",
       "      <td>4550.0</td>\n",
       "      <td>16.0</td>\n",
       "      <td>NaN</td>\n",
       "      <td>NaN</td>\n",
       "      <td>NaN</td>\n",
       "      <td>...</td>\n",
       "      <td>0.0</td>\n",
       "      <td>6.0</td>\n",
       "      <td>1.500000</td>\n",
       "      <td>NaN</td>\n",
       "      <td>NaN</td>\n",
       "      <td>NaN</td>\n",
       "      <td>NaN</td>\n",
       "      <td>NaN</td>\n",
       "      <td>NaN</td>\n",
       "      <td>NaN</td>\n",
       "    </tr>\n",
       "  </tbody>\n",
       "</table>\n",
       "<p>5 rows × 69 columns</p>\n",
       "</div>"
      ],
      "text/plain": [
       "       msisdn  mnt_med_pass_sva  mnt_tot_pass_sva  nbr_achat_pass_sva  \\\n",
       "0  48531591.0               NaN               NaN                 NaN   \n",
       "1  67442397.0             103.0             103.0                 1.0   \n",
       "2  97648507.0               NaN               NaN                 NaN   \n",
       "3  87700364.0               NaN               NaN                 NaN   \n",
       "4  89280762.0               NaN               NaN                 NaN   \n",
       "\n",
       "   mnt_med_mix  mnt_tot_mix  nbr_achat_pass_mix  mnt_pass_med_inter  \\\n",
       "0        500.0       4500.0                12.0                 NaN   \n",
       "1        450.0       4200.0                21.0                 NaN   \n",
       "2          NaN          NaN                 NaN                 NaN   \n",
       "3          NaN          NaN                 NaN              2000.0   \n",
       "4        550.0       4550.0                16.0                 NaN   \n",
       "\n",
       "   mnt_tot_inter_pass  nbr_achat_pass_inter  ...  nbr_call_en_of_y  \\\n",
       "0                 NaN                   NaN  ...               0.0   \n",
       "1                 NaN                   NaN  ...               0.0   \n",
       "2                 NaN                   NaN  ...               0.0   \n",
       "3              2000.0                   1.0  ...               0.0   \n",
       "4                 NaN                   NaN  ...               0.0   \n",
       "\n",
       "   duree_call_tot_en_of_y  duree_call_moy_en_of_y  duree_data_tot  \\\n",
       "0                    33.0                5.500000             NaN   \n",
       "1                    14.0                2.000000             NaN   \n",
       "2                     4.0                1.333333             NaN   \n",
       "3                    19.0                1.727273             NaN   \n",
       "4                     6.0                1.500000             NaN   \n",
       "\n",
       "   vol_tot_data  nbr_call_tot_complice  duree_call_moy_complice  \\\n",
       "0           NaN                    NaN                      NaN   \n",
       "1           NaN                    NaN                      NaN   \n",
       "2           NaN                    NaN                      NaN   \n",
       "3           NaN                    NaN                      NaN   \n",
       "4           NaN                    NaN                      NaN   \n",
       "\n",
       "   duree_call_tot_complice  nbr_call_sort_abs  nbr_call_en_abs  \n",
       "0                      NaN                NaN              NaN  \n",
       "1                      NaN                NaN              NaN  \n",
       "2                      NaN                NaN              NaN  \n",
       "3                      NaN                NaN              NaN  \n",
       "4                      NaN                NaN              NaN  \n",
       "\n",
       "[5 rows x 69 columns]"
      ]
     },
     "execution_count": 42,
     "metadata": {},
     "output_type": "execute_result"
    }
   ],
   "source": [
    "pd.merge(df[\"msisdn\"] ,fraudeurs, on='msisdn', how='inner').head()"
   ]
  },
  {
   "cell_type": "code",
   "execution_count": 44,
   "metadata": {},
   "outputs": [
    {
     "data": {
      "text/plain": [
       "(167, 69)"
      ]
     },
     "execution_count": 44,
     "metadata": {},
     "output_type": "execute_result"
    }
   ],
   "source": [
    "pd.merge(df6[\"msisdn\"] ,fraudeurs, on='msisdn', how='inner').shape"
   ]
  },
  {
   "cell_type": "code",
   "execution_count": 47,
   "metadata": {},
   "outputs": [
    {
     "data": {
      "text/plain": [
       "1645607"
      ]
     },
     "execution_count": 47,
     "metadata": {},
     "output_type": "execute_result"
    }
   ],
   "source": [
    "1645440 + 167"
   ]
  },
  {
   "cell_type": "code",
   "execution_count": 53,
   "metadata": {},
   "outputs": [],
   "source": [
    "df_anti1 = df_anti.fillna(0)"
   ]
  },
  {
   "cell_type": "markdown",
   "metadata": {},
   "source": [
    "## KMEANS ON 6 "
   ]
  },
  {
   "cell_type": "code",
   "execution_count": 75,
   "metadata": {},
   "outputs": [],
   "source": [
    "#df6.columns"
   ]
  },
  {
   "cell_type": "code",
   "execution_count": 76,
   "metadata": {},
   "outputs": [],
   "source": [
    "df61 = df6[['nbre_call_entrant_inter', 'nbre_call_sortant_inter',\n",
    "       'duree_entrant_inter', 'duree_sortant_inter', 'duree_total_inter',\n",
    "       'duree_moy_sortant_inter', 'duree_moy_inter', 'nbr_cor_dist',\n",
    "       'nbr_appel_abs_entr_moy', 'nbr_appel_abs_entr_med',\n",
    "       'nbr_appel_abs_entr_tot', 'nbr_entrant_distinct_absence_tot',\n",
    "       'nbr_entrant_distinct_absence_med', 'nbr_appel_abs_sort_moy',\n",
    "       'nbr_appel_abs_sort_med', 'nbr_appel_abs_sort_tot',\n",
    "       'nbre_transaction_tot', 'nbre_transaction_med',\n",
    "       'nbre_distinct_msisdn_tot', 'nbre_distinct_msisdn_med', 'duree_tot',\n",
    "       'duree_med', 'nbre_distinct_imei_x', 'nombre_transaction_erecharge',\n",
    "       'montant_erecharge', 'nbre_imsi', 'montant', 'montant_moy',\n",
    "       'nbr_om_transact', 'volumepartage_data_med', 'nbr_partage_data',\n",
    "       'total_partage_data', 'nombre_distinct_profil',\n",
    "       'nbr_sms_total_sortant_ofnet', 'nbr_sms_sortant_med_ofnet',\n",
    "       'nbr_sms_sortant_moy_ofnet', 'nbr_appel_sortant_moy_ofnet',\n",
    "       'nbr_appel_total_sortant_ofnet', 'nbr_appel_sortant_med_ofnet',\n",
    "       'duree_total_sortant_ofnet', 'duree_sortant_med_ofnet',\n",
    "       'duree_sortant_moy_ofnet', 'nbr_sms_total_sortant_onnet',\n",
    "       'nbr_sms_sortant_med_onnet', 'nbr_sms_sortant_moy_onnet',\n",
    "       'nbr_appel_sortant_moy_onnet', 'nbr_appel_total_sortant_onnet',\n",
    "       'nbr_appel_sortant_med_onnet', 'duree_total_sortant_onnet',\n",
    "       'duree_sortant_med_onnet', 'duree_sortant_moy_onnet', 'nbr_rech_sos',\n",
    "       'nbr_moy_sos', 'montant_tot_sos', 'montant_moy_sos',\n",
    "       'nbr_corr_dist_entrant_sms_tot', 'nbr_corr_dist_entrant_sms_med',\n",
    "       'nbr_corr_dist_sortant_sms_tot', 'nbr_corr_dist_sortant_sms_med',\n",
    "       'nbr_duree_data_tot', 'nbr_duree_data_med', 'nbr_duree_data_moy',\n",
    "       'volume_family_data_med', 'nbr_family_data', 'family_data_tot',\n",
    "       'nbre_call_complice', 'duree_x', 'duree_moy_call_complice',\n",
    "       'volume_data_total', 'volume_data_moy', 'volume_data_med',\n",
    "       'nbre_corr_sortant', 'nbre_corr_sortant_distinc', 'nbre_corr_entrant',\n",
    "       'nbre_corr_entrant_distinct', 'temp_sms_moy', 'ecartyp_temp_sms',\n",
    "       'nbre_distinct_imei_y', 'nbr_achat_pass', 'montant_pass_med',\n",
    "       'mnt_tot_pass', 'temp_appel_moy', 'ecartyp_temp_appel',\n",
    "       'ratio_call_dist', 'ratio_dist_sms', 'taux_call_night', 'taux_call_on',\n",
    "       'taux_call_inter', 'nbre_transaction', 'nbre_distinct_msisdn']]"
   ]
  },
  {
   "cell_type": "code",
   "execution_count": 77,
   "metadata": {},
   "outputs": [
    {
     "name": "stdout",
     "output_type": "stream",
     "text": [
      "4.712151034811712e+22\n"
     ]
    }
   ],
   "source": [
    "scaler = StandardScaler()\n",
    "scaled_features = scaler.fit_transform(df61)\n",
    "\n",
    "kmeans_kwargs = {\n",
    "\"init\": \"random\",\n",
    "\"n_init\": 10,\n",
    "\"max_iter\": 300,\n",
    "\"random_state\": 42 }\n",
    "\n",
    "kmeans = KMeans(n_clusters=9, **kmeans_kwargs)\n",
    "kmeans.fit(df61)\n",
    "print(kmeans.inertia_)\n",
    "\n",
    "yhat6 = kmeans.predict(df61)"
   ]
  },
  {
   "cell_type": "code",
   "execution_count": 78,
   "metadata": {},
   "outputs": [
    {
     "data": {
      "text/plain": [
       "(array([0, 1, 2, 3, 4, 5, 6, 7, 8], dtype=int32),\n",
       " array([    170, 1482638,   49181,      41,      82,     137,   35574,\n",
       "          77471,     313]))"
      ]
     },
     "execution_count": 78,
     "metadata": {},
     "output_type": "execute_result"
    }
   ],
   "source": [
    "clusters = unique(yhat6, return_counts = True)\n",
    "clusters"
   ]
  },
  {
   "cell_type": "code",
   "execution_count": 80,
   "metadata": {},
   "outputs": [
    {
     "name": "stderr",
     "output_type": "stream",
     "text": [
      "<ipython-input-80-c92a4b8d3b51>:1: SettingWithCopyWarning: \n",
      "A value is trying to be set on a copy of a slice from a DataFrame.\n",
      "Try using .loc[row_indexer,col_indexer] = value instead\n",
      "\n",
      "See the caveats in the documentation: https://pandas.pydata.org/pandas-docs/stable/user_guide/indexing.html#returning-a-view-versus-a-copy\n",
      "  df61[\"classe2\"] = yhat6\n"
     ]
    }
   ],
   "source": [
    "df61[\"classe2\"] = yhat6"
   ]
  },
  {
   "cell_type": "code",
   "execution_count": 81,
   "metadata": {},
   "outputs": [],
   "source": [
    "df61[\"msisdn\"] = df6[\"msisdn\"]"
   ]
  },
  {
   "cell_type": "code",
   "execution_count": 84,
   "metadata": {},
   "outputs": [
    {
     "data": {
      "text/plain": [
       "(167, 69)"
      ]
     },
     "execution_count": 84,
     "metadata": {},
     "output_type": "execute_result"
    }
   ],
   "source": [
    "pd.merge(df61[df61[\"classe2\"] == 1][\"msisdn\"] ,fraudeurs, on='msisdn', how='inner').shape"
   ]
  },
  {
   "cell_type": "code",
   "execution_count": null,
   "metadata": {},
   "outputs": [],
   "source": []
  },
  {
   "cell_type": "markdown",
   "metadata": {},
   "source": [
    "## KMEANS ON 1"
   ]
  },
  {
   "cell_type": "code",
   "execution_count": 85,
   "metadata": {},
   "outputs": [],
   "source": [
    "df6_1 = df61[df61[\"classe2\"] == 1]"
   ]
  },
  {
   "cell_type": "code",
   "execution_count": 86,
   "metadata": {},
   "outputs": [],
   "source": [
    "df6_11 = df6_1[['nbre_call_entrant_inter', 'nbre_call_sortant_inter',\n",
    "       'duree_entrant_inter', 'duree_sortant_inter', 'duree_total_inter',\n",
    "       'duree_moy_sortant_inter', 'duree_moy_inter', 'nbr_cor_dist',\n",
    "       'nbr_appel_abs_entr_moy', 'nbr_appel_abs_entr_med',\n",
    "       'nbr_appel_abs_entr_tot', 'nbr_entrant_distinct_absence_tot',\n",
    "       'nbr_entrant_distinct_absence_med', 'nbr_appel_abs_sort_moy',\n",
    "       'nbr_appel_abs_sort_med', 'nbr_appel_abs_sort_tot',\n",
    "       'nbre_transaction_tot', 'nbre_transaction_med',\n",
    "       'nbre_distinct_msisdn_tot', 'nbre_distinct_msisdn_med', 'duree_tot',\n",
    "       'duree_med', 'nbre_distinct_imei_x', 'nombre_transaction_erecharge',\n",
    "       'montant_erecharge', 'nbre_imsi', 'montant', 'montant_moy',\n",
    "       'nbr_om_transact', 'volumepartage_data_med', 'nbr_partage_data',\n",
    "       'total_partage_data', 'nombre_distinct_profil',\n",
    "       'nbr_sms_total_sortant_ofnet', 'nbr_sms_sortant_med_ofnet',\n",
    "       'nbr_sms_sortant_moy_ofnet', 'nbr_appel_sortant_moy_ofnet',\n",
    "       'nbr_appel_total_sortant_ofnet', 'nbr_appel_sortant_med_ofnet',\n",
    "       'duree_total_sortant_ofnet', 'duree_sortant_med_ofnet',\n",
    "       'duree_sortant_moy_ofnet', 'nbr_sms_total_sortant_onnet',\n",
    "       'nbr_sms_sortant_med_onnet', 'nbr_sms_sortant_moy_onnet',\n",
    "       'nbr_appel_sortant_moy_onnet', 'nbr_appel_total_sortant_onnet',\n",
    "       'nbr_appel_sortant_med_onnet', 'duree_total_sortant_onnet',\n",
    "       'duree_sortant_med_onnet', 'duree_sortant_moy_onnet', 'nbr_rech_sos',\n",
    "       'nbr_moy_sos', 'montant_tot_sos', 'montant_moy_sos',\n",
    "       'nbr_corr_dist_entrant_sms_tot', 'nbr_corr_dist_entrant_sms_med',\n",
    "       'nbr_corr_dist_sortant_sms_tot', 'nbr_corr_dist_sortant_sms_med',\n",
    "       'nbr_duree_data_tot', 'nbr_duree_data_med', 'nbr_duree_data_moy',\n",
    "       'volume_family_data_med', 'nbr_family_data', 'family_data_tot',\n",
    "       'nbre_call_complice', 'duree_x', 'duree_moy_call_complice',\n",
    "       'volume_data_total', 'volume_data_moy', 'volume_data_med',\n",
    "       'nbre_corr_sortant', 'nbre_corr_sortant_distinc', 'nbre_corr_entrant',\n",
    "       'nbre_corr_entrant_distinct', 'temp_sms_moy', 'ecartyp_temp_sms',\n",
    "       'nbre_distinct_imei_y', 'nbr_achat_pass', 'montant_pass_med',\n",
    "       'mnt_tot_pass', 'temp_appel_moy', 'ecartyp_temp_appel',\n",
    "       'ratio_call_dist', 'ratio_dist_sms', 'taux_call_night', 'taux_call_on',\n",
    "       'taux_call_inter', 'nbre_transaction', 'nbre_distinct_msisdn']]"
   ]
  },
  {
   "cell_type": "code",
   "execution_count": null,
   "metadata": {},
   "outputs": [],
   "source": [
    "scaler = StandardScaler()\n",
    "scaled_features = scaler.fit_transform(df6_11)\n",
    "\n",
    "kmeans_kwargs = {\n",
    "\"init\": \"random\",\n",
    "\"n_init\": 10,\n",
    "\"max_iter\": 300,\n",
    "\"random_state\": 42 }\n",
    "\n",
    "kmeans = KMeans(n_clusters=1000, **kmeans_kwargs)\n",
    "kmeans.fit(df6_11)\n",
    "print(kmeans.inertia_)\n",
    "\n",
    "yhat6_1 = kmeans.predict(df6_11)\n",
    "\n",
    "clusters = unique(yhat6_1, return_counts = True)\n",
    "clusters"
   ]
  },
  {
   "cell_type": "code",
   "execution_count": 92,
   "metadata": {},
   "outputs": [
    {
     "data": {
      "text/plain": [
       "-96238"
      ]
     },
     "execution_count": 92,
     "metadata": {},
     "output_type": "execute_result"
    }
   ],
   "source": [
    "1386400 - 1482638"
   ]
  },
  {
   "cell_type": "code",
   "execution_count": 93,
   "metadata": {},
   "outputs": [
    {
     "data": {
      "text/plain": [
       "481190"
      ]
     },
     "execution_count": 93,
     "metadata": {},
     "output_type": "execute_result"
    }
   ],
   "source": [
    "96238*5"
   ]
  },
  {
   "cell_type": "code",
   "execution_count": 96,
   "metadata": {},
   "outputs": [
    {
     "data": {
      "text/plain": [
       "520258"
      ]
     },
     "execution_count": 96,
     "metadata": {},
     "output_type": "execute_result"
    }
   ],
   "source": [
    "1482638-96238*10 "
   ]
  },
  {
   "cell_type": "code",
   "execution_count": 88,
   "metadata": {},
   "outputs": [
    {
     "name": "stderr",
     "output_type": "stream",
     "text": [
      "<ipython-input-88-d4a408b79ab3>:1: SettingWithCopyWarning: \n",
      "A value is trying to be set on a copy of a slice from a DataFrame.\n",
      "Try using .loc[row_indexer,col_indexer] = value instead\n",
      "\n",
      "See the caveats in the documentation: https://pandas.pydata.org/pandas-docs/stable/user_guide/indexing.html#returning-a-view-versus-a-copy\n",
      "  df6_11[\"classe3\"] = yhat6_1\n"
     ]
    }
   ],
   "source": [
    "df6_11[\"classe3\"] = yhat6_1"
   ]
  },
  {
   "cell_type": "code",
   "execution_count": 89,
   "metadata": {},
   "outputs": [],
   "source": [
    "df6_11[\"msisdn\"] = df61[\"msisdn\"]"
   ]
  },
  {
   "cell_type": "code",
   "execution_count": 91,
   "metadata": {},
   "outputs": [
    {
     "data": {
      "text/plain": [
       "(167, 69)"
      ]
     },
     "execution_count": 91,
     "metadata": {},
     "output_type": "execute_result"
    }
   ],
   "source": [
    "pd.merge(df6_11[df6_11[\"classe3\"] == 22][\"msisdn\"] ,fraudeurs, on='msisdn', how='inner').shape"
   ]
  },
  {
   "cell_type": "code",
   "execution_count": null,
   "metadata": {},
   "outputs": [],
   "source": []
  },
  {
   "cell_type": "code",
   "execution_count": null,
   "metadata": {},
   "outputs": [],
   "source": []
  },
  {
   "cell_type": "code",
   "execution_count": null,
   "metadata": {},
   "outputs": [],
   "source": []
  },
  {
   "cell_type": "code",
   "execution_count": null,
   "metadata": {},
   "outputs": [],
   "source": []
  },
  {
   "cell_type": "code",
   "execution_count": null,
   "metadata": {},
   "outputs": [],
   "source": []
  },
  {
   "cell_type": "code",
   "execution_count": null,
   "metadata": {},
   "outputs": [],
   "source": []
  },
  {
   "cell_type": "code",
   "execution_count": null,
   "metadata": {},
   "outputs": [],
   "source": []
  },
  {
   "cell_type": "code",
   "execution_count": null,
   "metadata": {},
   "outputs": [],
   "source": []
  },
  {
   "cell_type": "markdown",
   "metadata": {},
   "source": [
    "## ISOLATION FOREST TO DETECT "
   ]
  },
  {
   "cell_type": "code",
   "execution_count": 24,
   "metadata": {},
   "outputs": [],
   "source": [
    "from sklearn.ensemble import IsolationForest"
   ]
  },
  {
   "cell_type": "code",
   "execution_count": 62,
   "metadata": {},
   "outputs": [],
   "source": [
    "X = fraudeurs1[[\"mnt_med_pass_sva\", 'mnt_tot_pass_sva', 'nbr_achat_pass_sva',\n",
    "       'mnt_med_mix', 'mnt_tot_mix', 'nbr_achat_pass_mix',\n",
    "       'mnt_pass_med_inter', 'mnt_tot_inter_pass', 'nbr_achat_pass_inter',\n",
    "       'mnt_med_pass_data', 'mnt_tot_pass_data', 'nbr_achat_pass_data',\n",
    "       'nbr_transac_share', 'vol_tot_data_share', 'vol_moy_data_share',\n",
    "       'nbr_transac_family', 'vol_tot_data_family', 'vol_moy_data_family',\n",
    "       'nbr_rechar', 'mnt_rechar_tot', 'mnt_rechar_moy', 'temp_sms_moy',\n",
    "       'ecartyp_temp_sms', 'nbr_dist_en_of_x', 'nbr_call_en_of_x',\n",
    "       'duree_call_tot_en_of_x', 'duree_call_moy_en_of_x', 'nbr_dist_sort_on',\n",
    "       'nbr_call_sort_on', 'duree_call_tot_sort_on', 'duree_call_moy_sort_on',\n",
    "       'nbr_dist_sort_of', 'nbr_call_sort_of', 'duree_call_tot_sort_of',\n",
    "       'duree_call_moy_sort_of', 'nbr_sms_tot_sort_inter',\n",
    "       'nbr_call_tot_sort_inter', 'duree_call_tot_sort_inter',\n",
    "       'duree_call_moy_sort_inter', 'nbr_call_sort_night',\n",
    "       'duree_moy_sort_night', 'duree_call_tot_sort_night', 'nbr_sms_tot_en',\n",
    "       'nbr_dist_sms_en', 'nbr_dist_sort', 'nbr_call_tot_sort',\n",
    "       'duree_call_tot_sort', 'duree_call_moy_sort', 'nbr_dist_call_en',\n",
    "       'nbr_call_tot_en', 'duree_call_tot_en', 'duree_call_moy_en',\n",
    "       'nbre_imsi', 'nbr_dist_en_on', 'nbr_call_en_on', 'duree_call_tot_en_on',\n",
    "       'duree_call_moy_sort_en', 'nbr_dist_en_of_y', 'nbr_call_en_of_y',\n",
    "       'duree_call_tot_en_of_y', 'duree_call_moy_en_of_y', 'duree_data_tot',\n",
    "       'vol_tot_data', 'nbr_call_tot_complice', 'duree_call_moy_complice',\n",
    "       'duree_call_tot_complice', 'nbr_call_sort_abs', 'nbr_call_en_abs']]"
   ]
  },
  {
   "cell_type": "code",
   "execution_count": null,
   "metadata": {},
   "outputs": [],
   "source": []
  },
  {
   "cell_type": "code",
   "execution_count": 63,
   "metadata": {},
   "outputs": [],
   "source": [
    "clf = IsolationForest(random_state=0).fit(X)"
   ]
  },
  {
   "cell_type": "code",
   "execution_count": 64,
   "metadata": {},
   "outputs": [],
   "source": [
    "df_anti2 = df_anti1[['mnt_med_pass_sva', 'mnt_tot_pass_sva', 'nbr_achat_pass_sva',\n",
    "       'mnt_med_mix', 'mnt_tot_mix', 'nbr_achat_pass_mix',\n",
    "       'mnt_pass_med_inter', 'mnt_tot_inter_pass', 'nbr_achat_pass_inter',\n",
    "       'mnt_med_pass_data', 'mnt_tot_pass_data', 'nbr_achat_pass_data',\n",
    "       'nbr_transac_share', 'vol_tot_data_share', 'vol_moy_data_share',\n",
    "       'nbr_transac_family', 'vol_tot_data_family', 'vol_moy_data_family',\n",
    "       'nbr_rechar', 'mnt_rechar_tot', 'mnt_rechar_moy', 'temp_sms_moy',\n",
    "       'ecartyp_temp_sms', 'nbr_dist_en_of_x', 'nbr_call_en_of_x',\n",
    "       'duree_call_tot_en_of_x', 'duree_call_moy_en_of_x', 'nbr_dist_sort_on',\n",
    "       'nbr_call_sort_on', 'duree_call_tot_sort_on', 'duree_call_moy_sort_on',\n",
    "       'nbr_dist_sort_of', 'nbr_call_sort_of', 'duree_call_tot_sort_of',\n",
    "       'duree_call_moy_sort_of', 'nbr_sms_tot_sort_inter',\n",
    "       'nbr_call_tot_sort_inter', 'duree_call_tot_sort_inter',\n",
    "       'duree_call_moy_sort_inter', 'nbr_call_sort_night',\n",
    "       'duree_moy_sort_night', 'duree_call_tot_sort_night', 'nbr_sms_tot_en',\n",
    "       'nbr_dist_sms_en', 'nbr_dist_sort', 'nbr_call_tot_sort',\n",
    "       'duree_call_tot_sort', 'duree_call_moy_sort', 'nbr_dist_call_en',\n",
    "       'nbr_call_tot_en', 'duree_call_tot_en', 'duree_call_moy_en',\n",
    "       'nbre_imsi', 'nbr_dist_en_on', 'nbr_call_en_on', 'duree_call_tot_en_on',\n",
    "       'duree_call_moy_sort_en', 'nbr_dist_en_of_y', 'nbr_call_en_of_y',\n",
    "       'duree_call_tot_en_of_y', 'duree_call_moy_en_of_y', 'duree_data_tot',\n",
    "       'vol_tot_data', 'nbr_call_tot_complice', 'duree_call_moy_complice',\n",
    "       'duree_call_tot_complice', 'nbr_call_sort_abs', 'nbr_call_en_abs']]"
   ]
  },
  {
   "cell_type": "code",
   "execution_count": 72,
   "metadata": {},
   "outputs": [
    {
     "data": {
      "text/plain": [
       "array([1, 1, 1, 1, 1, 1, 1, 1, 1, 1, 1, 1, 1, 1, 1, 1, 1, 1, 1, 1, 1, 1,\n",
       "       1, 1, 1, 1, 1, 1, 1, 1, 1, 1, 1, 1, 1, 1, 1, 1, 1, 1, 1, 1, 1, 1,\n",
       "       1, 1, 1, 1, 1, 1, 1, 1, 1, 1, 1, 1, 1, 1, 1, 1, 1, 1, 1, 1, 1, 1,\n",
       "       1, 1, 1, 1, 1, 1, 1, 1, 1, 1, 1, 1, 1, 1, 1, 1, 1, 1, 1, 1, 1, 1,\n",
       "       1, 1, 1, 1, 1, 1, 1, 1, 1, 1, 1, 1, 1, 1, 1, 1, 1, 1, 1, 1, 1, 1,\n",
       "       1, 1, 1, 1, 1, 1, 1, 1, 1, 1, 1, 1, 1, 1, 1, 1, 1, 1, 1, 1, 1, 1,\n",
       "       1, 1, 1, 1, 1, 1, 1, 1, 1, 1, 1, 1, 1, 1, 1, 1, 1, 1, 1, 1, 1, 1,\n",
       "       1, 1, 1, 1, 1, 1, 1, 1, 1, 1, 1, 1, 1, 1, 1, 1, 1, 1, 1, 1, 1, 1,\n",
       "       1, 1, 1, 1, 1, 1, 1, 1, 1, 1, 1, 1, 1, 1, 1, 1, 1, 1, 1, 1, 1, 1,\n",
       "       1, 1, 1, 1, 1, 1, 1, 1, 1, 1, 1, 1, 1, 1, 1, 1, 1, 1, 1, 1, 1, 1,\n",
       "       1, 1, 1, 1, 1, 1, 1, 1, 1, 1, 1, 1, 1, 1, 1, 1, 1, 1, 1, 1, 1, 1,\n",
       "       1, 1, 1, 1, 1, 1, 1, 1, 1, 1, 1, 1, 1, 1, 1, 1, 1, 1, 1, 1, 1, 1,\n",
       "       1, 1, 1, 1, 1, 1, 1, 1, 1, 1, 1, 1, 1, 1, 1, 1, 1, 1, 1, 1, 1, 1,\n",
       "       1, 1, 1, 1, 1, 1, 1, 1, 1, 1, 1, 1, 1, 1])"
      ]
     },
     "execution_count": 72,
     "metadata": {},
     "output_type": "execute_result"
    }
   ],
   "source": [
    "clf.predict(df_anti2.iloc[:300,:])"
   ]
  },
  {
   "cell_type": "code",
   "execution_count": 73,
   "metadata": {},
   "outputs": [
    {
     "data": {
      "text/plain": [
       "(array([1]), array([99]))"
      ]
     },
     "execution_count": 73,
     "metadata": {},
     "output_type": "execute_result"
    }
   ],
   "source": [
    "from numpy import unique\n",
    "clusters_anti = unique(clf.predict(df_anti2.iloc[1:100,:]), return_counts = True)\n",
    "clusters_anti"
   ]
  },
  {
   "cell_type": "code",
   "execution_count": 24,
   "metadata": {},
   "outputs": [],
   "source": [
    "df92 = df91"
   ]
  },
  {
   "cell_type": "code",
   "execution_count": 25,
   "metadata": {},
   "outputs": [],
   "source": [
    "df92[\"msisdn\"] = df[\"msisdn\"]"
   ]
  },
  {
   "cell_type": "code",
   "execution_count": 26,
   "metadata": {},
   "outputs": [],
   "source": [
    "df6 = df92[df92[\"classe\"] == 6]"
   ]
  },
  {
   "cell_type": "code",
   "execution_count": 27,
   "metadata": {},
   "outputs": [],
   "source": [
    "df_inner = pd.merge(fraudeurs, df6, on='msisdn', how='inner')"
   ]
  },
  {
   "cell_type": "code",
   "execution_count": 28,
   "metadata": {},
   "outputs": [
    {
     "data": {
      "application/vnd.jupyter.widget-view+json": {
       "model_id": "2c1c5f71bf90406aa892776822caec84",
       "version_major": 2,
       "version_minor": 0
      },
      "text/plain": [
       "Button(description='Toggle Pandas/Lux', layout=Layout(top='5px', width='140px'), style=ButtonStyle())"
      ]
     },
     "metadata": {},
     "output_type": "display_data"
    },
    {
     "data": {
      "application/vnd.jupyter.widget-view+json": {
       "model_id": "d666162f15c9495cab88f00c9f5a7c4c",
       "version_major": 2,
       "version_minor": 0
      },
      "text/plain": [
       "Output()"
      ]
     },
     "metadata": {},
     "output_type": "display_data"
    },
    {
     "data": {
      "text/plain": []
     },
     "execution_count": 28,
     "metadata": {},
     "output_type": "execute_result"
    }
   ],
   "source": [
    "df_inner"
   ]
  },
  {
   "cell_type": "code",
   "execution_count": 32,
   "metadata": {},
   "outputs": [],
   "source": [
    "for i in df_inner.columns.to_list() :\n",
    "    if \"x\" in i :\n",
    "        df_inner = df_inner.drop([i], axis = 1)"
   ]
  },
  {
   "cell_type": "code",
   "execution_count": 33,
   "metadata": {},
   "outputs": [
    {
     "data": {
      "application/vnd.jupyter.widget-view+json": {
       "model_id": "dfbe4f57bf1745759f65905a218a5981",
       "version_major": 2,
       "version_minor": 0
      },
      "text/plain": [
       "Button(description='Toggle Pandas/Lux', layout=Layout(top='5px', width='140px'), style=ButtonStyle())"
      ]
     },
     "metadata": {},
     "output_type": "display_data"
    },
    {
     "data": {
      "application/vnd.jupyter.widget-view+json": {
       "model_id": "f0d13fa34b424ab18b24f2eefc82fdea",
       "version_major": 2,
       "version_minor": 0
      },
      "text/plain": [
       "Output()"
      ]
     },
     "metadata": {},
     "output_type": "display_data"
    },
    {
     "data": {
      "text/plain": []
     },
     "execution_count": 33,
     "metadata": {},
     "output_type": "execute_result"
    }
   ],
   "source": [
    "df_inner"
   ]
  },
  {
   "cell_type": "code",
   "execution_count": 34,
   "metadata": {},
   "outputs": [
    {
     "data": {
      "application/vnd.jupyter.widget-view+json": {
       "model_id": "225056dc9a7f40da8f3610de27244595",
       "version_major": 2,
       "version_minor": 0
      },
      "text/plain": [
       "Button(description='Toggle Pandas/Lux', layout=Layout(top='5px', width='140px'), style=ButtonStyle())"
      ]
     },
     "metadata": {},
     "output_type": "display_data"
    },
    {
     "data": {
      "application/vnd.jupyter.widget-view+json": {
       "model_id": "ad8cf69c99ea458f8cca712834b54012",
       "version_major": 2,
       "version_minor": 0
      },
      "text/plain": [
       "Output()"
      ]
     },
     "metadata": {},
     "output_type": "display_data"
    },
    {
     "data": {
      "text/plain": []
     },
     "execution_count": 34,
     "metadata": {},
     "output_type": "execute_result"
    }
   ],
   "source": [
    "df_inner.describe()"
   ]
  },
  {
   "cell_type": "code",
   "execution_count": null,
   "metadata": {},
   "outputs": [],
   "source": []
  },
  {
   "cell_type": "code",
   "execution_count": 48,
   "metadata": {},
   "outputs": [
    {
     "data": {
      "text/plain": [
       "array([[ 5.59497844e+00,  7.60841998e-04,  6.28286837e+02,\n",
       "         1.49632260e-01,  6.28288359e+02,  1.49632260e-01,\n",
       "         2.52986905e+02,  8.41491250e-01,  9.23562894e-01,\n",
       "         8.61273142e-01,  2.97539944e+00,  2.97286330e+00,\n",
       "         8.59878265e-01,  8.24378666e-01,  7.69464874e-01,\n",
       "         2.95612478e+00,  2.54450926e+00,  8.41491250e-01,\n",
       "         1.76008116e+00,  6.18310931e-01,  3.90927213e+02,\n",
       "         1.38881943e+02,  1.14126300e-01,  6.81942683e+00,\n",
       "         1.23968988e+04,  9.70327162e-01,  1.24669034e+03,\n",
       "         1.24669034e+03,  1.14761603e+02,  7.35850154e+07,\n",
       "         1.99086990e-01,  2.42660064e+08,  1.32386508e+00,\n",
       "         1.92137966e+01,  1.06644687e-01,  3.93277520e-01,\n",
       "         1.15433579e+00,  7.47233071e+01,  8.61273142e-01,\n",
       "         6.66924550e+03,  8.61273142e-01,  1.15433579e+00,\n",
       "         6.19033731e+02,  6.37966016e-01,  2.50246583e+00,\n",
       "         1.11771838e+00,  2.81133401e+02,  7.42454984e-01,\n",
       "         3.08043282e+04,  7.42454984e-01,  1.11771838e+00,\n",
       "         5.10727872e+00,  4.92402516e-01,  6.09041339e+03,\n",
       "         6.38124605e+02,  5.21965508e+01,  5.19535886e+01,\n",
       "         3.49883338e+01,  3.49761603e+01,  3.64766146e+06,\n",
       "         2.28067094e+03,  6.61865248e+03,  1.14251703e+07,\n",
       "         6.72077099e-02,  4.60397464e+07,  4.50710119e+01,\n",
       "         9.70211260e+03,  4.00142680e+02,  4.57975388e+10,\n",
       "         1.62934761e+09,  1.38666957e+09,  7.88739538e-02,\n",
       "         5.68095359e-02,  3.04336799e-03,  3.04336799e-03,\n",
       "         3.32252526e+03,  6.09250646e+03,  2.11514076e-01,\n",
       "         1.86368248e+01,  2.00294027e+03,  1.50829637e+04,\n",
       "         3.69894636e+03,  5.62212884e+03,  1.82747157e-01,\n",
       "         5.75938074e-01,  5.75938074e-01,  8.09489381e-01,\n",
       "         5.75938074e-01,  2.54450926e+00,  6.52583743e-01],\n",
       "       [ 1.10389610e+00, -4.33680869e-19,  6.20259740e+01,\n",
       "         0.00000000e+00,  6.20259740e+01,  0.00000000e+00,\n",
       "         2.19740260e+01,  1.03896104e-01,  9.25324675e-02,\n",
       "         7.79220779e-02,  4.28571429e-01,  4.28571429e-01,\n",
       "         7.79220779e-02,  8.00865801e-02,  7.79220779e-02,\n",
       "         2.20779221e-01,  4.41558442e-01,  1.29870130e-01,\n",
       "         2.59740260e-01,  9.09090909e-02,  2.84285714e+01,\n",
       "         6.85064935e+00,  2.59740260e-02,  9.22077922e-01,\n",
       "         5.98376623e+03,  1.68831169e-01,  5.84415584e+02,\n",
       "         5.84415584e+02,  5.19480519e-02,  2.51930597e+07,\n",
       "         1.29870130e-02,  2.51930597e+07,  1.06493506e+00,\n",
       "         1.96103896e+00,  7.79220779e-02,  9.14425833e-02,\n",
       "         1.32781529e-01,  9.71428571e+00,  1.03896104e-01,\n",
       "         5.81389610e+02,  1.03896104e-01,  1.32781529e-01,\n",
       "         9.80519481e+00,  7.14285714e-02,  1.26693727e-01,\n",
       "         1.62160298e-01,  2.56753247e+01,  1.10389610e-01,\n",
       "         1.56493506e+03,  1.10389610e-01,  1.62160298e-01,\n",
       "         7.01298701e-01,  4.04889228e-02,  1.36363636e+03,\n",
       "         7.12375859e+01,  4.59740260e+00,  4.59740260e+00,\n",
       "         2.71428571e+00,  2.71428571e+00,  2.39490340e+06,\n",
       "         7.81912338e+03,  1.84726566e+04, -1.16415322e-10,\n",
       "         0.00000000e+00,  0.00000000e+00,  1.37662338e+00,\n",
       "         2.05571429e+02,  1.02458256e+01,  2.18001538e+11,\n",
       "         8.33645157e+09,  7.18043227e+09,  3.89610390e-02,\n",
       "         3.89610390e-02, -3.46944695e-18,  3.46944695e-18,\n",
       "         1.25959705e+03,  1.00641565e+03,  2.20779221e-01,\n",
       "         1.40259740e+00,  8.96103896e+02,  6.33376623e+03,\n",
       "         4.76673166e+02,  7.06034557e+02,  1.61038961e-02,\n",
       "         1.00769132e-01,  1.00769132e-01,  9.06502506e-02,\n",
       "         1.00769132e-01,  4.41558442e-01,  1.07142857e-01],\n",
       "       [ 5.72034552e+00,  1.77387012e-03,  6.42799591e+02,\n",
       "         4.08375752e-02,  6.42800594e+02,  3.73476785e-02,\n",
       "         2.74764404e+02,  9.07681629e-01,  9.19323264e-01,\n",
       "         8.73168286e-01,  2.54388400e+00,  2.54060620e+00,\n",
       "         8.72300632e-01,  8.43050125e-01,  7.89295079e-01,\n",
       "         2.84058306e+00,  1.37625328e+00,  5.92954651e-01,\n",
       "         9.83302483e-01,  4.39804103e-01,  2.07897270e+02,\n",
       "         8.76936603e+01,  1.45495912e-01,  8.72801944e+00,\n",
       "         9.15416204e+03,  1.02437143e+00,  9.02890251e+02,\n",
       "         9.02890251e+02,  7.97157180e+01,  2.39983868e+07,\n",
       "         1.81243252e-01,  1.20403769e+08,  1.32666204e+00,\n",
       "         1.92428274e+01,  1.14626716e-01,  4.09175571e-01,\n",
       "         1.20898537e+00,  7.86265618e+01,  9.16724510e-01,\n",
       "         7.20422790e+03,  9.16724510e-01,  1.20898537e+00,\n",
       "         4.87480217e+02,  6.18849298e-01,  2.28524530e+00,\n",
       "         1.18336455e+00,  2.53880187e+02,  7.99012803e-01,\n",
       "         3.07279459e+04,  7.99012803e-01,  1.18336455e+00,\n",
       "         5.44393028e+00,  5.25944185e-01,  4.38510335e+03,\n",
       "         5.09980398e+02,  4.73404288e+01,  4.70590390e+01,\n",
       "         3.17295234e+01,  3.17170292e+01,  3.14578958e+06,\n",
       "         1.88174707e+03,  5.82414952e+03,  5.94532726e+06,\n",
       "         3.73669597e-02,  2.17553237e+07,  4.91417168e+01,\n",
       "         1.16040323e+04,  4.79803862e+02,  1.89290395e+10,\n",
       "         6.90872303e+08,  5.78443498e+08,  6.24710782e-02,\n",
       "         4.28813821e-02,  3.97192658e-03,  3.58630264e-03,\n",
       "         3.51366002e+03,  6.41803934e+03,  2.17144840e-01,\n",
       "         1.72455268e+01,  1.19036143e+03,  9.26450077e+03,\n",
       "         4.07210030e+03,  6.00239659e+03,  1.63227032e-01,\n",
       "         6.24429396e-01,  6.24429396e-01,  8.60004518e-01,\n",
       "         6.24429396e-01,  1.37625328e+00,  4.56371288e-01],\n",
       "       [ 7.33333333e-01, -4.33680869e-19,  5.25333333e+01,\n",
       "         1.38777878e-17,  5.25333333e+01, -3.46944695e-18,\n",
       "         3.86333333e+01,  2.00000000e-01,  2.11666667e-01,\n",
       "         2.00000000e-01,  6.00000000e-01,  6.00000000e-01,\n",
       "         2.00000000e-01,  1.77777778e-01,  1.66666667e-01,\n",
       "         4.33333333e-01,  1.00000000e-01,  5.00000000e-02,\n",
       "         6.66666667e-02,  3.33333333e-02,  2.83333333e+00,\n",
       "         1.41666667e+00,  1.00000000e-01,  2.46666667e+00,\n",
       "         3.76833333e+03,  1.00000000e+00,  8.36666667e+02,\n",
       "         8.36666667e+02,  5.09000000e+01,  1.51559173e+10,\n",
       "         4.78000000e+01,  5.53694378e+11,  1.36666667e+00,\n",
       "         6.90000000e+00,  3.50000000e-01,  4.44844850e-01,\n",
       "         2.36400352e-01,  1.11666667e+01,  2.00000000e-01,\n",
       "         1.14533333e+03,  2.00000000e-01,  2.36400352e-01,\n",
       "         5.04666667e+01,  3.83333333e-01,  5.61788875e-01,\n",
       "         2.90788969e-01,  5.37666667e+01,  2.33333333e-01,\n",
       "         6.98340000e+03,  2.33333333e-01,  2.90788969e-01,\n",
       "         6.00000000e-01,  1.00000000e-01,  5.33333333e+02,\n",
       "         7.70833333e+01,  9.63333333e+00,  9.63333333e+00,\n",
       "         7.70000000e+00,  7.70000000e+00,  8.65988500e+05,\n",
       "         8.56550000e+02,  2.58053330e+03,  2.08159812e+08,\n",
       "         1.60000000e+00,  1.21837541e+09,  9.30000000e+00,\n",
       "         3.52213333e+03,  1.27264715e+02,  3.01017494e+09,\n",
       "         1.27134742e+08,  9.36385707e+07, -6.93889390e-18,\n",
       "         0.00000000e+00, -1.73472348e-18,  0.00000000e+00,\n",
       "         1.43769966e+03,  2.32608646e+03,  3.00000000e-01,\n",
       "         1.20000000e+00,  5.55000000e+02,  1.56166667e+03,\n",
       "         8.85767043e+02,  1.26172769e+03,  1.11111111e-02,\n",
       "         3.12404902e-01,  3.12404902e-01,  2.28652459e-01,\n",
       "         3.12404902e-01,  1.00000000e-01,  3.33333333e-02],\n",
       "       [ 0.00000000e+00,  0.00000000e+00,  0.00000000e+00,\n",
       "         0.00000000e+00,  0.00000000e+00,  0.00000000e+00,\n",
       "         0.00000000e+00,  0.00000000e+00,  0.00000000e+00,\n",
       "         0.00000000e+00,  0.00000000e+00,  0.00000000e+00,\n",
       "         0.00000000e+00,  0.00000000e+00,  0.00000000e+00,\n",
       "         0.00000000e+00,  0.00000000e+00,  0.00000000e+00,\n",
       "         0.00000000e+00,  0.00000000e+00,  0.00000000e+00,\n",
       "         0.00000000e+00,  0.00000000e+00,  0.00000000e+00,\n",
       "         0.00000000e+00,  0.00000000e+00,  0.00000000e+00,\n",
       "         0.00000000e+00,  0.00000000e+00,  0.00000000e+00,\n",
       "         0.00000000e+00,  0.00000000e+00,  0.00000000e+00,\n",
       "         0.00000000e+00,  0.00000000e+00,  0.00000000e+00,\n",
       "         0.00000000e+00,  0.00000000e+00,  0.00000000e+00,\n",
       "         0.00000000e+00,  0.00000000e+00,  0.00000000e+00,\n",
       "         0.00000000e+00,  0.00000000e+00,  0.00000000e+00,\n",
       "         0.00000000e+00,  0.00000000e+00,  0.00000000e+00,\n",
       "         0.00000000e+00,  0.00000000e+00,  0.00000000e+00,\n",
       "         0.00000000e+00,  0.00000000e+00,  0.00000000e+00,\n",
       "         0.00000000e+00,  0.00000000e+00,  0.00000000e+00,\n",
       "         0.00000000e+00,  0.00000000e+00,  0.00000000e+00,\n",
       "         0.00000000e+00,  0.00000000e+00,  0.00000000e+00,\n",
       "         0.00000000e+00,  0.00000000e+00,  1.84480000e+05,\n",
       "         1.78298915e+08,  5.75157790e+06,  2.67782900e+14,\n",
       "         8.63815805e+12,  9.25507827e+12,  1.13250000e+04,\n",
       "         7.65600000e+03,  2.16580000e+04,  1.87690000e+04,\n",
       "         0.00000000e+00,  0.00000000e+00,  0.00000000e+00,\n",
       "         0.00000000e+00,  0.00000000e+00,  0.00000000e+00,\n",
       "         0.00000000e+00,  0.00000000e+00,  0.00000000e+00,\n",
       "         0.00000000e+00,  0.00000000e+00,  0.00000000e+00,\n",
       "         0.00000000e+00,  0.00000000e+00,  0.00000000e+00],\n",
       "       [ 5.51515152e-01,  2.42424242e-02,  1.08466667e+02,\n",
       "         1.21212121e-01,  1.08557576e+02,  1.06060606e-01,\n",
       "         5.54698990e+01,  1.45454545e-01,  1.27272727e-01,\n",
       "         1.09090909e-01,  3.27272727e-01,  3.27272727e-01,\n",
       "         1.09090909e-01,  1.09523810e-01,  1.03030303e-01,\n",
       "         3.15151515e-01,  4.84848485e-02,  3.63636364e-02,\n",
       "         3.63636364e-02,  2.72727273e-02,  1.92909091e+01,\n",
       "         1.09848485e+01,  1.03030303e-01,  1.15757576e+00,\n",
       "         3.74424242e+03,  1.03030303e+00,  4.04242424e+02,\n",
       "         4.04242424e+02,  4.36363636e+00,  1.50567431e+10,\n",
       "         2.62424242e+01,  2.22387781e+11,  1.50303030e+00,\n",
       "         1.17090909e+01,  7.15151515e-01,  8.95548420e-01,\n",
       "         1.62358747e-01,  6.23636364e+00,  1.45454545e-01,\n",
       "         7.47036364e+02,  1.45454545e-01,  1.62358747e-01,\n",
       "         4.47212121e+01,  6.42424242e-01,  8.34345181e-01,\n",
       "         1.70723556e-01,  2.91393939e+01,  1.30303030e-01,\n",
       "         3.57510303e+03,  1.30303030e-01,  1.70723556e-01,\n",
       "         1.93939394e-01,  6.06060606e-02,  1.54545455e+02,\n",
       "         5.16666667e+01,  8.30303030e+00,  8.30303030e+00,\n",
       "         4.92727273e+00,  4.92727273e+00,  6.65478582e+05,\n",
       "         7.07718182e+02,  2.21637477e+03,  8.18270580e+07,\n",
       "         6.78787879e-01,  6.87929406e+08,  5.15757576e+00,\n",
       "         6.15757576e+02,  3.47006287e+01,  4.46315190e+09,\n",
       "         2.44969485e+08,  1.69704751e+08,  5.63636364e-01,\n",
       "         2.78787879e-01,  1.57575758e-01,  1.27272727e-01,\n",
       "         2.77367427e+03,  3.42930661e+03,  4.12121212e-01,\n",
       "         6.12121212e-01,  3.73330303e+02,  1.05059394e+03,\n",
       "         7.24793778e+02,  9.69585726e+02,  1.66666667e-02,\n",
       "         3.26439420e-01,  3.26439420e-01,  1.24872573e-01,\n",
       "         3.26439420e-01,  4.84848485e-02,  2.72727273e-02],\n",
       "       [ 1.63548257e+00,  1.94673968e-03,  1.94569649e+02,\n",
       "         8.68848822e-02,  1.94646339e+02,  2.93128696e-02,\n",
       "         9.48923824e+01,  4.20348687e-01,  2.45957385e-01,\n",
       "         2.41516974e-01,  4.24591644e-01,  4.24001483e-01,\n",
       "         2.41194847e-01,  2.74115653e-01,  2.58822171e-01,\n",
       "         7.96817631e-01,  1.16943564e-01,  6.90244725e-02,\n",
       "         8.33615447e-02,  5.11467409e-02,  4.08770187e+01,\n",
       "         1.91107815e+01,  6.84039227e-02,  3.10498780e+00,\n",
       "         1.43282932e+03,  1.03129553e+00,  7.51381954e+01,\n",
       "         7.51381954e+01,  1.55321005e+01,  2.08828414e+06,\n",
       "         4.92671616e-03,  6.92487802e+06,  1.26759253e+00,\n",
       "         7.35760143e+00,  2.59523860e-01,  3.45173014e-01,\n",
       "         4.87893311e-01,  1.29766574e+01,  3.97823517e-01,\n",
       "         1.24855848e+03,  3.97823517e-01,  4.87893311e-01,\n",
       "         2.90616283e+01,  2.90798115e-01,  5.02649841e-01,\n",
       "         5.84961731e-01,  3.62193829e+01,  4.37799449e-01,\n",
       "         4.80678558e+03,  4.37799449e-01,  5.84961731e-01,\n",
       "         1.22935487e+00,  1.94687775e-01,  5.17468084e+02,\n",
       "         9.03202067e+01,  8.12392885e+00,  8.06040971e+00,\n",
       "         3.80985647e+00,  3.80920827e+00,  9.01211139e+04,\n",
       "         5.94894689e+02,  1.23296636e+03,  2.44673575e+05,\n",
       "         1.46841182e-03,  1.08745447e+06,  6.25131297e+00,\n",
       "         1.75216872e+03,  1.08451177e+02,  1.50978407e+08,\n",
       "         1.41428219e+07,  1.07850028e+07,  4.73222453e-02,\n",
       "         3.06062973e-02,  6.69780559e-04,  5.06893817e-04,\n",
       "         1.73471896e+03,  2.14528432e+03,  2.17817257e-01,\n",
       "         2.40353914e+00,  9.76717878e+01,  6.04089756e+02,\n",
       "         2.24014215e+03,  3.00786217e+03,  2.41307029e-02,\n",
       "         3.64439242e-01,  3.64439242e-01,  3.60823498e-01,\n",
       "         3.64439242e-01,  1.16943564e-01,  5.19578916e-02],\n",
       "       [ 5.03481592e+00,  1.60073176e-03,  5.82886531e+02,\n",
       "         3.48502172e-02,  5.82892339e+02,  2.54725970e-02,\n",
       "         2.56974614e+02,  8.93151155e-01,  7.78403255e-01,\n",
       "         7.50022868e-01,  1.79666133e+00,  1.79458038e+00,\n",
       "         7.49108164e-01,  7.78459228e-01,  7.33449577e-01,\n",
       "         2.43919506e+00,  7.58518180e-01,  3.80133775e-01,\n",
       "         5.43894352e-01,  2.83998399e-01,  1.61871290e+02,\n",
       "         7.32048765e+01,  1.37651498e-01,  1.03094329e+01,\n",
       "         6.86249124e+03,  1.02717814e+00,  5.56185113e+02,\n",
       "         5.56185113e+02,  5.12686828e+01,  1.37216091e+07,\n",
       "         7.69265950e-02,  6.13515139e+07,  1.29403156e+00,\n",
       "         1.58741367e+01,  1.31694489e-01,  3.98980255e-01,\n",
       "         1.16359498e+00,  6.46970615e+01,  9.03435856e-01,\n",
       "         5.98512520e+03,  9.03435856e-01,  1.16359498e+00,\n",
       "         2.86648811e+02,  4.87228447e-01,  1.72110643e+00,\n",
       "         1.17738201e+00,  1.83023211e+02,  8.16024468e-01,\n",
       "         2.38622042e+04,  8.16024468e-01,  1.17738201e+00,\n",
       "         6.13482735e+00,  5.71902189e-01,  3.29568946e+03,\n",
       "         3.79840565e+02,  3.58825863e+01,  3.56516693e+01,\n",
       "         2.30473817e+01,  2.30440316e+01,  1.99664423e+06,\n",
       "         1.61672680e+03,  5.33101457e+03,  4.32298415e+06,\n",
       "         2.42510862e-02,  1.57615504e+07,  3.79529499e+01,\n",
       "         9.86871341e+03,  4.37767704e+02,  6.73065100e+09,\n",
       "         3.00233765e+08,  2.33946125e+08,  5.45620855e-02,\n",
       "         3.51131946e-02,  3.45300709e-03,  2.94991996e-03,\n",
       "         3.57717446e+03,  6.14594379e+03,  2.54024697e-01,\n",
       "         1.63723302e+01,  5.73475943e+02,  5.20243586e+03,\n",
       "         4.38919968e+03,  6.30748621e+03,  1.21216599e-01,\n",
       "         6.43503122e-01,  6.43503122e-01,  8.40078216e-01,\n",
       "         6.43503122e-01,  7.58518180e-01,  2.91599021e-01],\n",
       "       [ 6.25909753e-01,  1.89228530e-02,  7.00101892e+01,\n",
       "         9.17030568e+00,  7.91804949e+01,  1.53687530e+00,\n",
       "         3.32399321e+01,  1.06259098e-01,  1.01621959e-01,\n",
       "         9.53420670e-02,  3.75545852e-01,  3.75545852e-01,\n",
       "         9.53420670e-02,  1.10303767e-01,  1.02620087e-01,\n",
       "         4.84716157e-01,  9.02474527e-02,  4.73071325e-02,\n",
       "         6.40465793e-02,  3.34788937e-02,  9.16885007e+00,\n",
       "         2.52328967e+00,  7.71470160e-02,  1.03202329e+00,\n",
       "         1.02438137e+03,  1.02328967e+00,  3.40975255e+02,\n",
       "         3.40975255e+02,  8.96360990e+00,  1.11975724e+10,\n",
       "         1.63959243e+01,  9.71472007e+10,  1.44250364e+00,\n",
       "         5.87481805e+00,  5.41484716e-01,  6.48685302e-01,\n",
       "         1.44799280e-01,  8.55604076e+00,  1.17176128e-01,\n",
       "         7.10471616e+02,  1.17176128e-01,  1.44799280e-01,\n",
       "         4.76666667e+01,  5.54585153e-01,  7.64588865e-01,\n",
       "         1.88934298e-01,  3.99956332e+01,  1.34643377e-01,\n",
       "         3.71548326e+03,  1.34643377e-01,  1.88934298e-01,\n",
       "         2.91120815e-01,  4.55471748e-02,  2.19068413e+02,\n",
       "         3.57483128e+01,  7.66084425e+00,  7.62954876e+00,\n",
       "         4.81950509e+00,  4.81950509e+00,  8.40571818e+05,\n",
       "         7.74242358e+02,  2.42251674e+03,  5.46312675e+07,\n",
       "         3.39155750e-01,  2.69642768e+08,  5.31732169e+00,\n",
       "         9.23933042e+02,  5.03843731e+01,  6.81458019e+09,\n",
       "         4.84712254e+08,  3.69714536e+08,  2.53275109e-01,\n",
       "         1.01892285e-01,  7.27802038e-03,  7.27802038e-03,\n",
       "         2.01162577e+03,  2.82016936e+03,  3.15866084e-01,\n",
       "         8.90829694e-01,  1.73050218e+02,  7.65927220e+02,\n",
       "         6.06101164e+02,  7.61674940e+02,  1.29265729e-02,\n",
       "         2.83307741e-01,  2.83307741e-01,  1.20914778e-01,\n",
       "         2.83307741e-01,  9.02474527e-02,  3.43279961e-02]])"
      ]
     },
     "execution_count": 48,
     "metadata": {},
     "output_type": "execute_result"
    }
   ],
   "source": [
    "kmeans.cluster_centers_"
   ]
  },
  {
   "cell_type": "code",
   "execution_count": 55,
   "metadata": {},
   "outputs": [],
   "source": [
    "from sklearn.ensemble import IsolationForest"
   ]
  },
  {
   "cell_type": "code",
   "execution_count": 54,
   "metadata": {},
   "outputs": [],
   "source": [
    "df93 = df91[df91[\"classe\"] != 6]"
   ]
  },
  {
   "cell_type": "code",
   "execution_count": 57,
   "metadata": {},
   "outputs": [],
   "source": [
    "df93 = df93.fillna(0)"
   ]
  },
  {
   "cell_type": "code",
   "execution_count": 58,
   "metadata": {},
   "outputs": [],
   "source": [
    "clf = IsolationForest(random_state=0).fit(df93)"
   ]
  },
  {
   "cell_type": "code",
   "execution_count": 59,
   "metadata": {},
   "outputs": [],
   "source": [
    "res = clf.predict(df91[df91[\"classe\"] == 6] )"
   ]
  },
  {
   "cell_type": "code",
   "execution_count": 60,
   "metadata": {},
   "outputs": [
    {
     "data": {
      "text/plain": [
       "array([1, 1, 1, ..., 1, 1, 1])"
      ]
     },
     "execution_count": 60,
     "metadata": {},
     "output_type": "execute_result"
    }
   ],
   "source": []
  },
  {
   "cell_type": "code",
   "execution_count": 61,
   "metadata": {},
   "outputs": [
    {
     "data": {
      "text/plain": [
       "(array([-1,  1]), array([   2218, 1643389]))"
      ]
     },
     "execution_count": 61,
     "metadata": {},
     "output_type": "execute_result"
    }
   ],
   "source": [
    "unique(res, return_counts = True)"
   ]
  },
  {
   "cell_type": "code",
   "execution_count": 63,
   "metadata": {},
   "outputs": [
    {
     "name": "stderr",
     "output_type": "stream",
     "text": [
      "/Users/youssouf/opt/anaconda3/lib/python3.8/site-packages/pandas/core/frame.py:3040: SettingWithCopyWarning:\n",
      "A value is trying to be set on a copy of a slice from a DataFrame.\n",
      "Try using .loc[row_indexer,col_indexer] = value instead\n",
      "\n",
      "See the caveats in the documentation: https://pandas.pydata.org/pandas-docs/stable/user_guide/indexing.html#returning-a-view-versus-a-copy\n"
     ]
    }
   ],
   "source": [
    "df6[\"classe_iso\"] = res"
   ]
  },
  {
   "cell_type": "code",
   "execution_count": null,
   "metadata": {},
   "outputs": [],
   "source": [
    "df6[df6[\"classe_iso\"] == -1]"
   ]
  },
  {
   "cell_type": "code",
   "execution_count": 67,
   "metadata": {},
   "outputs": [
    {
     "data": {
      "text/plain": [
       "(520, 184)"
      ]
     },
     "execution_count": 67,
     "metadata": {},
     "output_type": "execute_result"
    }
   ],
   "source": [
    "pd.merge(fraudeurs,  df6[df6[\"classe_iso\"] == 1] , on='msisdn', how='inner').shape"
   ]
  },
  {
   "cell_type": "code",
   "execution_count": null,
   "metadata": {},
   "outputs": [],
   "source": []
  },
  {
   "cell_type": "code",
   "execution_count": null,
   "metadata": {},
   "outputs": [],
   "source": []
  },
  {
   "cell_type": "code",
   "execution_count": 36,
   "metadata": {},
   "outputs": [],
   "source": [
    "df92 = df9.fillna(0)"
   ]
  },
  {
   "cell_type": "code",
   "execution_count": 43,
   "metadata": {},
   "outputs": [
    {
     "name": "stdout",
     "output_type": "stream",
     "text": [
      "3.6297846454734664e+23\n"
     ]
    }
   ],
   "source": [
    "kmeanss = KMeans(n_clusters=100, **kmeans_kwargs)\n",
    "kmeanss.fit(df92)\n",
    "print(kmeanss.inertia_)"
   ]
  },
  {
   "cell_type": "code",
   "execution_count": 44,
   "metadata": {},
   "outputs": [],
   "source": [
    "yhatt = kmeanss.predict(df92)"
   ]
  },
  {
   "cell_type": "code",
   "execution_count": 45,
   "metadata": {},
   "outputs": [
    {
     "data": {
      "text/plain": [
       "(array([ 0,  1,  2,  3,  4,  5,  6,  7,  8,  9, 10, 11, 12, 13, 14, 15, 16,\n",
       "        17, 18, 19, 20, 21, 22, 23, 24, 25, 26, 27, 28, 29, 30, 31, 32, 33,\n",
       "        34, 35, 36, 37, 38, 39, 40, 41, 42, 43, 44, 45, 46, 47, 48, 49, 50,\n",
       "        51, 52, 53, 54, 55, 56, 57, 58, 59, 60, 61, 62, 63, 64, 65, 66, 67,\n",
       "        68, 69, 70, 71, 72, 73, 74, 75, 76, 77, 78, 79, 80, 81, 82, 83, 84,\n",
       "        85, 86, 87, 88, 89, 90, 91, 92, 93, 94, 95, 96, 97, 98, 99],\n",
       "       dtype=int32),\n",
       " array([   9316,     112,      12,   11438,       1,       1,     170,\n",
       "          20365,       1,       1,      52,       1,       1,   24603,\n",
       "          16943,       1,   15492,       1,     451,       1,       6,\n",
       "            212,      17,       2,       2,       2,       1,       1,\n",
       "              3,       8,     258,    4090,      52,       1,     106,\n",
       "              2,    2714,      16,       1, 1424554,    1722,       4,\n",
       "              1,    5701,       1,       2,      11,   12507,     106,\n",
       "          14325,       8,       1,       1,      39,     226,       1,\n",
       "            140,     573,   22441,       1,      24,    2378,      15,\n",
       "              1,       1,       1,       3,       1,    7566,     255,\n",
       "              4,       1,       1,      11,   32450,      71,       9,\n",
       "            148,   20901,       1,       5,      50,   28414,   19292,\n",
       "              1,       1,       1,   43648,       1,      49,     503,\n",
       "          17858,       9,      10,    1012,       3,       1,      71,\n",
       "              5,      12]))"
      ]
     },
     "execution_count": 45,
     "metadata": {},
     "output_type": "execute_result"
    }
   ],
   "source": [
    "from numpy import unique\n",
    "unique(yhatt, return_counts = True)"
   ]
  },
  {
   "cell_type": "code",
   "execution_count": 46,
   "metadata": {},
   "outputs": [
    {
     "data": {
      "text/plain": [
       "42"
      ]
     },
     "execution_count": 46,
     "metadata": {},
     "output_type": "execute_result"
    }
   ],
   "source": []
  },
  {
   "cell_type": "code",
   "execution_count": null,
   "metadata": {},
   "outputs": [],
   "source": []
  },
  {
   "cell_type": "code",
   "execution_count": null,
   "metadata": {},
   "outputs": [],
   "source": []
  },
  {
   "cell_type": "code",
   "execution_count": 21,
   "metadata": {},
   "outputs": [
    {
     "name": "stderr",
     "output_type": "stream",
     "text": [
      "/Users/youssouf/opt/anaconda3/lib/python3.8/site-packages/IPython/core/formatters.py:345: UserWarning:\n",
      "Lux defaults to Pandas when there are no valid actions defined.\n"
     ]
    },
    {
     "data": {
      "text/html": [
       "<div>\n",
       "<style scoped>\n",
       "    .dataframe tbody tr th:only-of-type {\n",
       "        vertical-align: middle;\n",
       "    }\n",
       "\n",
       "    .dataframe tbody tr th {\n",
       "        vertical-align: top;\n",
       "    }\n",
       "\n",
       "    .dataframe thead th {\n",
       "        text-align: right;\n",
       "    }\n",
       "</style>\n",
       "<table border=\"1\" class=\"dataframe\">\n",
       "  <thead>\n",
       "    <tr style=\"text-align: right;\">\n",
       "      <th></th>\n",
       "      <th>nbre_call_entrant_inter</th>\n",
       "      <th>nbre_call_sortant_inter</th>\n",
       "      <th>duree_entrant_inter</th>\n",
       "      <th>duree_sortant_inter</th>\n",
       "      <th>duree_total_inter</th>\n",
       "      <th>duree_moy_sortant_inter</th>\n",
       "      <th>duree_moy_inter</th>\n",
       "      <th>nbr_cor_dist</th>\n",
       "      <th>nbr_appel_abs_entr_moy</th>\n",
       "      <th>nbr_appel_abs_entr_med</th>\n",
       "      <th>...</th>\n",
       "      <th>temp_appel_moy</th>\n",
       "      <th>ecartyp_temp_appel</th>\n",
       "      <th>ratio_call_dist</th>\n",
       "      <th>ratio_dist_sms</th>\n",
       "      <th>taux_call_night</th>\n",
       "      <th>taux_call_on</th>\n",
       "      <th>taux_call_inter</th>\n",
       "      <th>nbre_transaction</th>\n",
       "      <th>nbre_distinct_msisdn</th>\n",
       "      <th>classe</th>\n",
       "    </tr>\n",
       "  </thead>\n",
       "  <tbody>\n",
       "    <tr>\n",
       "      <th>1763609</th>\n",
       "      <td>0.0</td>\n",
       "      <td>0.0</td>\n",
       "      <td>0.0</td>\n",
       "      <td>0.0</td>\n",
       "      <td>0.0</td>\n",
       "      <td>0.0</td>\n",
       "      <td>0.0</td>\n",
       "      <td>0.0</td>\n",
       "      <td>0.0</td>\n",
       "      <td>0.0</td>\n",
       "      <td>...</td>\n",
       "      <td>0.0</td>\n",
       "      <td>0.0</td>\n",
       "      <td>0.0</td>\n",
       "      <td>0.0</td>\n",
       "      <td>0.0</td>\n",
       "      <td>0.0</td>\n",
       "      <td>0.0</td>\n",
       "      <td>0.0</td>\n",
       "      <td>0.0</td>\n",
       "      <td>4</td>\n",
       "    </tr>\n",
       "  </tbody>\n",
       "</table>\n",
       "<p>1 rows × 91 columns</p>\n",
       "</div>"
      ],
      "text/plain": [
       "         nbre_call_entrant_inter  nbre_call_sortant_inter  \\\n",
       "1763609                      0.0                      0.0   \n",
       "\n",
       "         duree_entrant_inter  duree_sortant_inter  duree_total_inter  \\\n",
       "1763609                  0.0                  0.0                0.0   \n",
       "\n",
       "         duree_moy_sortant_inter  duree_moy_inter  nbr_cor_dist  \\\n",
       "1763609                      0.0              0.0           0.0   \n",
       "\n",
       "         nbr_appel_abs_entr_moy  nbr_appel_abs_entr_med  ...  temp_appel_moy  \\\n",
       "1763609                     0.0                     0.0  ...             0.0   \n",
       "\n",
       "         ecartyp_temp_appel  ratio_call_dist  ratio_dist_sms  taux_call_night  \\\n",
       "1763609                 0.0              0.0             0.0              0.0   \n",
       "\n",
       "         taux_call_on  taux_call_inter  nbre_transaction  \\\n",
       "1763609           0.0              0.0               0.0   \n",
       "\n",
       "         nbre_distinct_msisdn  classe  \n",
       "1763609                   0.0       4  \n",
       "\n",
       "[1 rows x 91 columns]"
      ]
     },
     "metadata": {},
     "output_type": "display_data"
    },
    {
     "data": {
      "text/plain": []
     },
     "execution_count": 21,
     "metadata": {},
     "output_type": "execute_result"
    }
   ],
   "source": [
    "df91[df91[\"classe\"] == 4]"
   ]
  },
  {
   "cell_type": "code",
   "execution_count": 22,
   "metadata": {},
   "outputs": [],
   "source": [
    "df99 = df91"
   ]
  },
  {
   "cell_type": "code",
   "execution_count": 23,
   "metadata": {},
   "outputs": [],
   "source": [
    "df99.index = df[\"msisdn\"]"
   ]
  },
  {
   "cell_type": "code",
   "execution_count": 25,
   "metadata": {},
   "outputs": [
    {
     "data": {
      "application/vnd.jupyter.widget-view+json": {
       "model_id": "b2cdde7a47b440908e03a98ddfb980ba",
       "version_major": 2,
       "version_minor": 0
      },
      "text/plain": [
       "Button(description='Toggle Pandas/Lux', layout=Layout(top='5px', width='140px'), style=ButtonStyle())"
      ]
     },
     "metadata": {},
     "output_type": "display_data"
    },
    {
     "data": {
      "application/vnd.jupyter.widget-view+json": {
       "model_id": "cc972d81c23f4061a63db3c70c8b67fb",
       "version_major": 2,
       "version_minor": 0
      },
      "text/plain": [
       "Output()"
      ]
     },
     "metadata": {},
     "output_type": "display_data"
    },
    {
     "data": {
      "text/plain": []
     },
     "execution_count": 25,
     "metadata": {},
     "output_type": "execute_result"
    }
   ],
   "source": [
    "df99[df99[\"classe\"] == 0]"
   ]
  },
  {
   "cell_type": "code",
   "execution_count": 35,
   "metadata": {},
   "outputs": [],
   "source": [
    "df999 = df99[df99[\"classe\"] == 6]"
   ]
  },
  {
   "cell_type": "code",
   "execution_count": 36,
   "metadata": {},
   "outputs": [
    {
     "name": "stdout",
     "output_type": "stream",
     "text": [
      "3.8544142700779166e+23\n"
     ]
    }
   ],
   "source": [
    "kmeanss = KMeans(n_clusters=2, **kmeans_kwargs)\n",
    "kmeanss.fit(df999)\n",
    "print(kmeanss.inertia_)"
   ]
  },
  {
   "cell_type": "code",
   "execution_count": 37,
   "metadata": {},
   "outputs": [],
   "source": [
    "yhatt = kmeanss.predict(df999)"
   ]
  },
  {
   "cell_type": "code",
   "execution_count": 38,
   "metadata": {},
   "outputs": [],
   "source": [
    "from numpy import unique\n",
    "clusterss = unique(yhatt, return_counts = True)"
   ]
  },
  {
   "cell_type": "code",
   "execution_count": 39,
   "metadata": {},
   "outputs": [
    {
     "data": {
      "text/plain": [
       "(array([0, 1], dtype=int32), array([  96188, 1549419]))"
      ]
     },
     "execution_count": 39,
     "metadata": {},
     "output_type": "execute_result"
    }
   ],
   "source": [
    "clusterss"
   ]
  },
  {
   "cell_type": "code",
   "execution_count": 40,
   "metadata": {},
   "outputs": [
    {
     "data": {
      "text/plain": [
       "(1645607, 91)"
      ]
     },
     "execution_count": 40,
     "metadata": {},
     "output_type": "execute_result"
    }
   ],
   "source": [
    "df999.shape"
   ]
  },
  {
   "cell_type": "code",
   "execution_count": 41,
   "metadata": {},
   "outputs": [
    {
     "name": "stderr",
     "output_type": "stream",
     "text": [
      "/Users/youssouf/opt/anaconda3/lib/python3.8/site-packages/pandas/core/frame.py:3040: SettingWithCopyWarning:\n",
      "A value is trying to be set on a copy of a slice from a DataFrame.\n",
      "Try using .loc[row_indexer,col_indexer] = value instead\n",
      "\n",
      "See the caveats in the documentation: https://pandas.pydata.org/pandas-docs/stable/user_guide/indexing.html#returning-a-view-versus-a-copy\n"
     ]
    }
   ],
   "source": [
    "df999[\"classe2\"] = yhatt"
   ]
  },
  {
   "cell_type": "code",
   "execution_count": 42,
   "metadata": {},
   "outputs": [
    {
     "data": {
      "application/vnd.jupyter.widget-view+json": {
       "model_id": "ee77c621fa024f9d8df2b1156c9631f4",
       "version_major": 2,
       "version_minor": 0
      },
      "text/plain": [
       "Button(description='Toggle Pandas/Lux', layout=Layout(top='5px', width='140px'), style=ButtonStyle())"
      ]
     },
     "metadata": {},
     "output_type": "display_data"
    },
    {
     "data": {
      "application/vnd.jupyter.widget-view+json": {
       "model_id": "0ce700eba80148d88a1f4bd71b986ff6",
       "version_major": 2,
       "version_minor": 0
      },
      "text/plain": [
       "Output()"
      ]
     },
     "metadata": {},
     "output_type": "display_data"
    },
    {
     "data": {
      "text/plain": []
     },
     "execution_count": 42,
     "metadata": {},
     "output_type": "execute_result"
    }
   ],
   "source": [
    "df999[df999[\"classe2\"] == 0].describe()"
   ]
  },
  {
   "cell_type": "code",
   "execution_count": null,
   "metadata": {},
   "outputs": [],
   "source": []
  },
  {
   "cell_type": "code",
   "execution_count": null,
   "metadata": {},
   "outputs": [],
   "source": []
  },
  {
   "cell_type": "code",
   "execution_count": null,
   "metadata": {},
   "outputs": [],
   "source": []
  },
  {
   "cell_type": "code",
   "execution_count": null,
   "metadata": {},
   "outputs": [],
   "source": []
  },
  {
   "cell_type": "code",
   "execution_count": 43,
   "metadata": {},
   "outputs": [],
   "source": [
    "df9999 = df999[df999[\"classe2\"] == 1]"
   ]
  },
  {
   "cell_type": "code",
   "execution_count": 44,
   "metadata": {},
   "outputs": [
    {
     "name": "stdout",
     "output_type": "stream",
     "text": [
      "9.772672934336805e+22\n"
     ]
    },
    {
     "data": {
      "text/plain": [
       "(array([0, 1], dtype=int32), array([1549170,     249]))"
      ]
     },
     "execution_count": 44,
     "metadata": {},
     "output_type": "execute_result"
    }
   ],
   "source": [
    "kmeanss = KMeans(n_clusters=2, **kmeans_kwargs)\n",
    "kmeanss.fit(df9999)\n",
    "print(kmeanss.inertia_)\n",
    "yhatt = kmeanss.predict(df9999)\n",
    "\n",
    "from numpy import unique\n",
    "clusterss = unique(yhatt, return_counts = True)\n",
    "clusterss"
   ]
  },
  {
   "cell_type": "code",
   "execution_count": 45,
   "metadata": {},
   "outputs": [
    {
     "name": "stderr",
     "output_type": "stream",
     "text": [
      "/Users/youssouf/opt/anaconda3/lib/python3.8/site-packages/pandas/core/frame.py:3040: SettingWithCopyWarning:\n",
      "A value is trying to be set on a copy of a slice from a DataFrame.\n",
      "Try using .loc[row_indexer,col_indexer] = value instead\n",
      "\n",
      "See the caveats in the documentation: https://pandas.pydata.org/pandas-docs/stable/user_guide/indexing.html#returning-a-view-versus-a-copy\n"
     ]
    }
   ],
   "source": [
    "df9999[\"classe3\"] = yhatt"
   ]
  },
  {
   "cell_type": "code",
   "execution_count": 47,
   "metadata": {},
   "outputs": [
    {
     "data": {
      "application/vnd.jupyter.widget-view+json": {
       "model_id": "9ecaf592f7ca4c93852dfa28766b726b",
       "version_major": 2,
       "version_minor": 0
      },
      "text/plain": [
       "Button(description='Toggle Pandas/Lux', layout=Layout(top='5px', width='140px'), style=ButtonStyle())"
      ]
     },
     "metadata": {},
     "output_type": "display_data"
    },
    {
     "data": {
      "application/vnd.jupyter.widget-view+json": {
       "model_id": "6890d60c9f5047da9f3e1bd292b4fb04",
       "version_major": 2,
       "version_minor": 0
      },
      "text/plain": [
       "Output()"
      ]
     },
     "metadata": {},
     "output_type": "display_data"
    },
    {
     "data": {
      "text/plain": []
     },
     "execution_count": 47,
     "metadata": {},
     "output_type": "execute_result"
    }
   ],
   "source": [
    "df9999[df9999[\"classe3\"] == 1].describe()"
   ]
  },
  {
   "cell_type": "code",
   "execution_count": null,
   "metadata": {},
   "outputs": [],
   "source": []
  },
  {
   "cell_type": "code",
   "execution_count": null,
   "metadata": {},
   "outputs": [],
   "source": []
  },
  {
   "cell_type": "code",
   "execution_count": null,
   "metadata": {},
   "outputs": [],
   "source": []
  },
  {
   "cell_type": "code",
   "execution_count": 54,
   "metadata": {},
   "outputs": [],
   "source": [
    "df999 = df99[df99[\"nbre_call_sortant_inter\"] > 10]"
   ]
  },
  {
   "cell_type": "code",
   "execution_count": 97,
   "metadata": {},
   "outputs": [],
   "source": [
    "df999999 = df99[df99[\"nbre_call_sortant_inter\"] > 7]"
   ]
  },
  {
   "cell_type": "code",
   "execution_count": 98,
   "metadata": {},
   "outputs": [
    {
     "data": {
      "text/plain": [
       "(24, 91)"
      ]
     },
     "execution_count": 98,
     "metadata": {},
     "output_type": "execute_result"
    }
   ],
   "source": [
    "df999999.shape"
   ]
  },
  {
   "cell_type": "code",
   "execution_count": 99,
   "metadata": {},
   "outputs": [
    {
     "data": {
      "application/vnd.jupyter.widget-view+json": {
       "model_id": "3e1fd60926e74dce886a2929b3368d20",
       "version_major": 2,
       "version_minor": 0
      },
      "text/plain": [
       "Button(description='Toggle Pandas/Lux', layout=Layout(top='5px', width='140px'), style=ButtonStyle())"
      ]
     },
     "metadata": {},
     "output_type": "display_data"
    },
    {
     "data": {
      "application/vnd.jupyter.widget-view+json": {
       "model_id": "0a520906480a48efb58542af44f2f4d3",
       "version_major": 2,
       "version_minor": 0
      },
      "text/plain": [
       "Output()"
      ]
     },
     "metadata": {},
     "output_type": "display_data"
    },
    {
     "data": {
      "text/plain": []
     },
     "execution_count": 99,
     "metadata": {},
     "output_type": "execute_result"
    }
   ],
   "source": [
    "df999999.describe()"
   ]
  },
  {
   "cell_type": "code",
   "execution_count": null,
   "metadata": {},
   "outputs": [],
   "source": []
  },
  {
   "cell_type": "code",
   "execution_count": null,
   "metadata": {},
   "outputs": [],
   "source": []
  },
  {
   "cell_type": "code",
   "execution_count": null,
   "metadata": {},
   "outputs": [],
   "source": []
  },
  {
   "cell_type": "code",
   "execution_count": null,
   "metadata": {},
   "outputs": [],
   "source": []
  },
  {
   "cell_type": "code",
   "execution_count": null,
   "metadata": {},
   "outputs": [],
   "source": []
  },
  {
   "cell_type": "code",
   "execution_count": null,
   "metadata": {},
   "outputs": [],
   "source": []
  },
  {
   "cell_type": "code",
   "execution_count": null,
   "metadata": {},
   "outputs": [],
   "source": [
    "kmeanss = KMeans(n_clusters=2, **kmeans_kwargs)\n",
    "kmeanss.fit(df999)\n",
    "print(kmeanss.inertia_)"
   ]
  },
  {
   "cell_type": "code",
   "execution_count": null,
   "metadata": {},
   "outputs": [],
   "source": []
  },
  {
   "cell_type": "code",
   "execution_count": null,
   "metadata": {},
   "outputs": [],
   "source": []
  },
  {
   "cell_type": "code",
   "execution_count": 94,
   "metadata": {},
   "outputs": [
    {
     "name": "stdout",
     "output_type": "stream",
     "text": [
      "3.1568156652964055e+22\n"
     ]
    },
    {
     "data": {
      "text/plain": [
       "(array([0, 1], dtype=int32), array([1647,    3]))"
      ]
     },
     "execution_count": 94,
     "metadata": {},
     "output_type": "execute_result"
    }
   ],
   "source": [
    "kmeanss = KMeans(n_clusters=2, **kmeans_kwargs)\n",
    "kmeanss.fit(df999999)\n",
    "print(kmeanss.inertia_)\n",
    "yhatt = kmeanss.predict(df999999)\n",
    "\n",
    "from numpy import unique\n",
    "clusterss = unique(yhatt, return_counts = True)\n",
    "clusterss"
   ]
  },
  {
   "cell_type": "code",
   "execution_count": 95,
   "metadata": {},
   "outputs": [
    {
     "name": "stderr",
     "output_type": "stream",
     "text": [
      "/Users/youssouf/opt/anaconda3/lib/python3.8/site-packages/pandas/core/frame.py:3040: SettingWithCopyWarning:\n",
      "A value is trying to be set on a copy of a slice from a DataFrame.\n",
      "Try using .loc[row_indexer,col_indexer] = value instead\n",
      "\n",
      "See the caveats in the documentation: https://pandas.pydata.org/pandas-docs/stable/user_guide/indexing.html#returning-a-view-versus-a-copy\n"
     ]
    }
   ],
   "source": [
    "df999999[\"classe2\"] = yhatt"
   ]
  },
  {
   "cell_type": "code",
   "execution_count": 96,
   "metadata": {
    "scrolled": false
   },
   "outputs": [
    {
     "data": {
      "application/vnd.jupyter.widget-view+json": {
       "model_id": "c6abed1216bb4343914ae307753b56cc",
       "version_major": 2,
       "version_minor": 0
      },
      "text/plain": [
       "Button(description='Toggle Pandas/Lux', layout=Layout(top='5px', width='140px'), style=ButtonStyle())"
      ]
     },
     "metadata": {},
     "output_type": "display_data"
    },
    {
     "data": {
      "application/vnd.jupyter.widget-view+json": {
       "model_id": "f6722453638a4cd99e939e54250c1d03",
       "version_major": 2,
       "version_minor": 0
      },
      "text/plain": [
       "Output()"
      ]
     },
     "metadata": {},
     "output_type": "display_data"
    },
    {
     "data": {
      "text/plain": []
     },
     "execution_count": 96,
     "metadata": {},
     "output_type": "execute_result"
    }
   ],
   "source": [
    "df66[df66[\"classe2\"] == 1].describe()"
   ]
  },
  {
   "cell_type": "code",
   "execution_count": 81,
   "metadata": {},
   "outputs": [
    {
     "data": {
      "text/html": [
       "<div>\n",
       "<style scoped>\n",
       "    .dataframe tbody tr th:only-of-type {\n",
       "        vertical-align: middle;\n",
       "    }\n",
       "\n",
       "    .dataframe tbody tr th {\n",
       "        vertical-align: top;\n",
       "    }\n",
       "\n",
       "    .dataframe thead th {\n",
       "        text-align: right;\n",
       "    }\n",
       "</style>\n",
       "<table border=\"1\" class=\"dataframe\">\n",
       "  <thead>\n",
       "    <tr style=\"text-align: right;\">\n",
       "      <th></th>\n",
       "      <th>nbre_call_entrant_inter</th>\n",
       "      <th>nbre_call_sortant_inter</th>\n",
       "      <th>duree_entrant_inter</th>\n",
       "      <th>duree_sortant_inter</th>\n",
       "      <th>duree_total_inter</th>\n",
       "      <th>duree_moy_sortant_inter</th>\n",
       "      <th>duree_moy_inter</th>\n",
       "      <th>nbr_cor_dist</th>\n",
       "      <th>nbr_appel_abs_entr_moy</th>\n",
       "      <th>nbr_appel_abs_entr_med</th>\n",
       "      <th>...</th>\n",
       "      <th>ecartyp_temp_appel</th>\n",
       "      <th>ratio_call_dist</th>\n",
       "      <th>ratio_dist_sms</th>\n",
       "      <th>taux_call_night</th>\n",
       "      <th>taux_call_on</th>\n",
       "      <th>taux_call_inter</th>\n",
       "      <th>nbre_transaction</th>\n",
       "      <th>nbre_distinct_msisdn</th>\n",
       "      <th>classe</th>\n",
       "      <th>classe2</th>\n",
       "    </tr>\n",
       "    <tr>\n",
       "      <th>msisdn</th>\n",
       "      <th></th>\n",
       "      <th></th>\n",
       "      <th></th>\n",
       "      <th></th>\n",
       "      <th></th>\n",
       "      <th></th>\n",
       "      <th></th>\n",
       "      <th></th>\n",
       "      <th></th>\n",
       "      <th></th>\n",
       "      <th></th>\n",
       "      <th></th>\n",
       "      <th></th>\n",
       "      <th></th>\n",
       "      <th></th>\n",
       "      <th></th>\n",
       "      <th></th>\n",
       "      <th></th>\n",
       "      <th></th>\n",
       "      <th></th>\n",
       "      <th></th>\n",
       "    </tr>\n",
       "  </thead>\n",
       "  <tbody>\n",
       "    <tr>\n",
       "      <th>77880150.0</th>\n",
       "      <td>3.0</td>\n",
       "      <td>10.0</td>\n",
       "      <td>184.0</td>\n",
       "      <td>39.0</td>\n",
       "      <td>184.0</td>\n",
       "      <td>5.571429</td>\n",
       "      <td>172.0</td>\n",
       "      <td>1.0</td>\n",
       "      <td>2.0</td>\n",
       "      <td>2.0</td>\n",
       "      <td>...</td>\n",
       "      <td>6119.550933</td>\n",
       "      <td>0.5</td>\n",
       "      <td>0.657143</td>\n",
       "      <td>0.657143</td>\n",
       "      <td>0.840625</td>\n",
       "      <td>0.657143</td>\n",
       "      <td>2.0</td>\n",
       "      <td>1.0</td>\n",
       "      <td>6</td>\n",
       "      <td>1</td>\n",
       "    </tr>\n",
       "  </tbody>\n",
       "</table>\n",
       "<p>1 rows × 92 columns</p>\n",
       "</div>"
      ],
      "text/plain": [
       "            nbre_call_entrant_inter  nbre_call_sortant_inter  \\\n",
       "msisdn                                                         \n",
       "77880150.0                      3.0                     10.0   \n",
       "\n",
       "            duree_entrant_inter  duree_sortant_inter  duree_total_inter  \\\n",
       "msisdn                                                                    \n",
       "77880150.0                184.0                 39.0              184.0   \n",
       "\n",
       "            duree_moy_sortant_inter  duree_moy_inter  nbr_cor_dist  \\\n",
       "msisdn                                                               \n",
       "77880150.0                 5.571429            172.0           1.0   \n",
       "\n",
       "            nbr_appel_abs_entr_moy  nbr_appel_abs_entr_med  ...  \\\n",
       "msisdn                                                      ...   \n",
       "77880150.0                     2.0                     2.0  ...   \n",
       "\n",
       "            ecartyp_temp_appel  ratio_call_dist  ratio_dist_sms  \\\n",
       "msisdn                                                            \n",
       "77880150.0         6119.550933              0.5        0.657143   \n",
       "\n",
       "            taux_call_night  taux_call_on  taux_call_inter  nbre_transaction  \\\n",
       "msisdn                                                                         \n",
       "77880150.0         0.657143      0.840625         0.657143               2.0   \n",
       "\n",
       "            nbre_distinct_msisdn  classe  classe2  \n",
       "msisdn                                             \n",
       "77880150.0                   1.0       6        1  \n",
       "\n",
       "[1 rows x 92 columns]"
      ]
     },
     "metadata": {},
     "output_type": "display_data"
    },
    {
     "data": {
      "text/plain": []
     },
     "execution_count": 81,
     "metadata": {},
     "output_type": "execute_result"
    }
   ],
   "source": [
    "df66[df66[\"classe2\"] == 1]"
   ]
  },
  {
   "cell_type": "code",
   "execution_count": null,
   "metadata": {},
   "outputs": [],
   "source": []
  },
  {
   "cell_type": "code",
   "execution_count": null,
   "metadata": {},
   "outputs": [],
   "source": []
  },
  {
   "cell_type": "code",
   "execution_count": null,
   "metadata": {},
   "outputs": [],
   "source": []
  },
  {
   "cell_type": "code",
   "execution_count": null,
   "metadata": {},
   "outputs": [],
   "source": []
  },
  {
   "cell_type": "code",
   "execution_count": 82,
   "metadata": {},
   "outputs": [],
   "source": [
    "df666 = df66[df66[\"classe2\"] == 0]"
   ]
  },
  {
   "cell_type": "code",
   "execution_count": 83,
   "metadata": {},
   "outputs": [
    {
     "name": "stdout",
     "output_type": "stream",
     "text": [
      "196301647805104.53\n"
     ]
    },
    {
     "data": {
      "text/plain": [
       "(array([0, 1], dtype=int32), array([ 1, 21]))"
      ]
     },
     "execution_count": 83,
     "metadata": {},
     "output_type": "execute_result"
    }
   ],
   "source": [
    "kmeanss = KMeans(n_clusters=2, **kmeans_kwargs)\n",
    "kmeanss.fit(df666)\n",
    "print(kmeanss.inertia_)\n",
    "yhatt = kmeanss.predict(df666)\n",
    "\n",
    "from numpy import unique\n",
    "clusterss = unique(yhatt, return_counts = True)\n",
    "clusterss"
   ]
  },
  {
   "cell_type": "code",
   "execution_count": 84,
   "metadata": {},
   "outputs": [
    {
     "name": "stderr",
     "output_type": "stream",
     "text": [
      "/Users/youssouf/opt/anaconda3/lib/python3.8/site-packages/pandas/core/frame.py:3040: SettingWithCopyWarning:\n",
      "A value is trying to be set on a copy of a slice from a DataFrame.\n",
      "Try using .loc[row_indexer,col_indexer] = value instead\n",
      "\n",
      "See the caveats in the documentation: https://pandas.pydata.org/pandas-docs/stable/user_guide/indexing.html#returning-a-view-versus-a-copy\n"
     ]
    }
   ],
   "source": [
    "df666[\"classe22\"] = yhatt"
   ]
  },
  {
   "cell_type": "code",
   "execution_count": 86,
   "metadata": {},
   "outputs": [
    {
     "data": {
      "application/vnd.jupyter.widget-view+json": {
       "model_id": "519a02dbe0c04e34a270cfa7ffd8f8a5",
       "version_major": 2,
       "version_minor": 0
      },
      "text/plain": [
       "Button(description='Toggle Pandas/Lux', layout=Layout(top='5px', width='140px'), style=ButtonStyle())"
      ]
     },
     "metadata": {},
     "output_type": "display_data"
    },
    {
     "data": {
      "application/vnd.jupyter.widget-view+json": {
       "model_id": "2db25f19788b4056ac70f3a3cb94818b",
       "version_major": 2,
       "version_minor": 0
      },
      "text/plain": [
       "Output()"
      ]
     },
     "metadata": {},
     "output_type": "display_data"
    },
    {
     "data": {
      "text/plain": []
     },
     "execution_count": 86,
     "metadata": {},
     "output_type": "execute_result"
    }
   ],
   "source": [
    "df666[df666[\"classe22\"] == 1].describe()"
   ]
  },
  {
   "cell_type": "code",
   "execution_count": null,
   "metadata": {},
   "outputs": [],
   "source": []
  },
  {
   "cell_type": "code",
   "execution_count": null,
   "metadata": {},
   "outputs": [],
   "source": []
  },
  {
   "cell_type": "code",
   "execution_count": null,
   "metadata": {},
   "outputs": [],
   "source": []
  },
  {
   "cell_type": "code",
   "execution_count": null,
   "metadata": {},
   "outputs": [],
   "source": []
  },
  {
   "cell_type": "code",
   "execution_count": 88,
   "metadata": {},
   "outputs": [],
   "source": [
    "df6 = df99[df99[\"classe\"] == 6]"
   ]
  },
  {
   "cell_type": "code",
   "execution_count": null,
   "metadata": {},
   "outputs": [],
   "source": [
    "df68 = df6[df6[\"classe\"] == 6]"
   ]
  },
  {
   "cell_type": "code",
   "execution_count": 89,
   "metadata": {},
   "outputs": [
    {
     "name": "stdout",
     "output_type": "stream",
     "text": [
      "3.8544142700779166e+23\n"
     ]
    },
    {
     "data": {
      "text/plain": [
       "(array([0, 1], dtype=int32), array([  96188, 1549419]))"
      ]
     },
     "execution_count": 89,
     "metadata": {},
     "output_type": "execute_result"
    }
   ],
   "source": [
    "kmeanss = KMeans(n_clusters=2, **kmeans_kwargs)\n",
    "kmeanss.fit(df6)\n",
    "print(kmeanss.inertia_)\n",
    "yhatt = kmeanss.predict(df6)\n",
    "\n",
    "from numpy import unique\n",
    "clusterss = unique(yhatt, return_counts = True)\n",
    "clusterss"
   ]
  },
  {
   "cell_type": "code",
   "execution_count": 90,
   "metadata": {},
   "outputs": [
    {
     "name": "stderr",
     "output_type": "stream",
     "text": [
      "/Users/youssouf/opt/anaconda3/lib/python3.8/site-packages/pandas/core/frame.py:3040: SettingWithCopyWarning:\n",
      "A value is trying to be set on a copy of a slice from a DataFrame.\n",
      "Try using .loc[row_indexer,col_indexer] = value instead\n",
      "\n",
      "See the caveats in the documentation: https://pandas.pydata.org/pandas-docs/stable/user_guide/indexing.html#returning-a-view-versus-a-copy\n"
     ]
    }
   ],
   "source": [
    "df6[\"classe22\"] = yhatt"
   ]
  },
  {
   "cell_type": "code",
   "execution_count": null,
   "metadata": {},
   "outputs": [],
   "source": []
  },
  {
   "cell_type": "code",
   "execution_count": null,
   "metadata": {},
   "outputs": [],
   "source": []
  },
  {
   "cell_type": "code",
   "execution_count": null,
   "metadata": {},
   "outputs": [],
   "source": []
  },
  {
   "cell_type": "code",
   "execution_count": null,
   "metadata": {},
   "outputs": [],
   "source": []
  },
  {
   "cell_type": "code",
   "execution_count": null,
   "metadata": {},
   "outputs": [],
   "source": []
  },
  {
   "cell_type": "code",
   "execution_count": null,
   "metadata": {},
   "outputs": [],
   "source": []
  },
  {
   "cell_type": "code",
   "execution_count": null,
   "metadata": {},
   "outputs": [],
   "source": []
  },
  {
   "cell_type": "code",
   "execution_count": null,
   "metadata": {},
   "outputs": [],
   "source": []
  },
  {
   "cell_type": "code",
   "execution_count": null,
   "metadata": {},
   "outputs": [],
   "source": []
  },
  {
   "cell_type": "code",
   "execution_count": null,
   "metadata": {},
   "outputs": [],
   "source": []
  },
  {
   "cell_type": "code",
   "execution_count": null,
   "metadata": {},
   "outputs": [],
   "source": []
  },
  {
   "cell_type": "code",
   "execution_count": null,
   "metadata": {},
   "outputs": [],
   "source": []
  },
  {
   "cell_type": "code",
   "execution_count": 100,
   "metadata": {},
   "outputs": [],
   "source": [
    "df77 = df99[df99[\"classe\"] == 6]"
   ]
  },
  {
   "cell_type": "code",
   "execution_count": 106,
   "metadata": {},
   "outputs": [],
   "source": [
    "df777 =  df77[df77[\"nbre_call_sortant_inter\"] > 0]"
   ]
  },
  {
   "cell_type": "code",
   "execution_count": 104,
   "metadata": {},
   "outputs": [
    {
     "data": {
      "text/plain": [
       "(1516, 91)"
      ]
     },
     "execution_count": 104,
     "metadata": {},
     "output_type": "execute_result"
    }
   ],
   "source": [
    "df77[df77[\"nbre_call_sortant_inter\"] > 0].shape"
   ]
  },
  {
   "cell_type": "code",
   "execution_count": null,
   "metadata": {},
   "outputs": [],
   "source": [
    "df77[df77[\"nbre_call_sortant_inter\"] > 0]"
   ]
  },
  {
   "cell_type": "code",
   "execution_count": null,
   "metadata": {},
   "outputs": [],
   "source": []
  },
  {
   "cell_type": "code",
   "execution_count": null,
   "metadata": {},
   "outputs": [],
   "source": []
  },
  {
   "cell_type": "code",
   "execution_count": null,
   "metadata": {},
   "outputs": [],
   "source": []
  },
  {
   "cell_type": "code",
   "execution_count": null,
   "metadata": {},
   "outputs": [],
   "source": []
  },
  {
   "cell_type": "code",
   "execution_count": 107,
   "metadata": {},
   "outputs": [
    {
     "name": "stderr",
     "output_type": "stream",
     "text": [
      "/Users/youssouf/opt/anaconda3/lib/python3.8/site-packages/sklearn/manifold/_spectral_embedding.py:245: UserWarning:Graph is not fully connected, spectral embedding may not work as expected.\n"
     ]
    },
    {
     "data": {
      "text/plain": [
       "SpectralClustering(assign_labels='discretize', n_clusters=2, random_state=0)"
      ]
     },
     "execution_count": 107,
     "metadata": {},
     "output_type": "execute_result"
    }
   ],
   "source": [
    "from sklearn.cluster import SpectralClustering\n",
    "import numpy as np\n",
    "X = np.array([[1, 1], [2, 1], [1, 0],\n",
    "               [4, 7], [3, 5], [3, 6]])\n",
    "clustering = SpectralClustering(n_clusters=2,\n",
    "         assign_labels='discretize',\n",
    "         random_state=0).fit(df777)\n",
    "clustering.labels_\n",
    "clustering"
   ]
  },
  {
   "cell_type": "code",
   "execution_count": 108,
   "metadata": {},
   "outputs": [
    {
     "data": {
      "text/plain": [
       "0.07413582948726037"
      ]
     },
     "execution_count": 108,
     "metadata": {},
     "output_type": "execute_result"
    }
   ],
   "source": [
    "silhouette_score(df777, clustering.labels_)"
   ]
  },
  {
   "cell_type": "code",
   "execution_count": 110,
   "metadata": {},
   "outputs": [],
   "source": [
    "sill : []"
   ]
  },
  {
   "cell_type": "code",
   "execution_count": 111,
   "metadata": {},
   "outputs": [
    {
     "name": "stderr",
     "output_type": "stream",
     "text": [
      "/Users/youssouf/opt/anaconda3/lib/python3.8/site-packages/sklearn/manifold/_spectral_embedding.py:245: UserWarning:Graph is not fully connected, spectral embedding may not work as expected.\n"
     ]
    },
    {
     "ename": "NameError",
     "evalue": "name 'sill' is not defined",
     "output_type": "error",
     "traceback": [
      "\u001b[0;31m---------------------------------------------------------------------------\u001b[0m",
      "\u001b[0;31mNameError\u001b[0m                                 Traceback (most recent call last)",
      "\u001b[0;32m<ipython-input-111-9e82de7c50ff>\u001b[0m in \u001b[0;36m<module>\u001b[0;34m\u001b[0m\n\u001b[1;32m      3\u001b[0m          \u001b[0massign_labels\u001b[0m\u001b[0;34m=\u001b[0m\u001b[0;34m'discretize'\u001b[0m\u001b[0;34m,\u001b[0m\u001b[0;34m\u001b[0m\u001b[0;34m\u001b[0m\u001b[0m\n\u001b[1;32m      4\u001b[0m          random_state=0).fit(df777)\n\u001b[0;32m----> 5\u001b[0;31m     \u001b[0msill\u001b[0m\u001b[0;34m.\u001b[0m\u001b[0mappend\u001b[0m\u001b[0;34m(\u001b[0m\u001b[0msilhouette_score\u001b[0m\u001b[0;34m(\u001b[0m\u001b[0mdf777\u001b[0m\u001b[0;34m,\u001b[0m \u001b[0mclustering\u001b[0m\u001b[0;34m.\u001b[0m\u001b[0mlabels_\u001b[0m\u001b[0;34m)\u001b[0m\u001b[0;34m)\u001b[0m\u001b[0;34m\u001b[0m\u001b[0;34m\u001b[0m\u001b[0m\n\u001b[0m",
      "\u001b[0;31mNameError\u001b[0m: name 'sill' is not defined"
     ]
    }
   ],
   "source": [
    "for i in range(2,10) :\n",
    "    clustering = SpectralClustering(n_clusters=i,\n",
    "         assign_labels='discretize',\n",
    "         random_state=0).fit(df777)\n",
    "    sill.append(silhouette_score(df777, clustering.labels_))"
   ]
  },
  {
   "cell_type": "code",
   "execution_count": null,
   "metadata": {},
   "outputs": [],
   "source": [
    "plt.style.use(\"fivethirtyeight\")\n",
    "plt.plot(range(2, 10), sill)\n",
    "plt.xticks(range(1, 11))\n",
    "plt.xlabel(\"Number of Clusters\")\n",
    "plt.ylabel(\"silhouette_score\")\n",
    "plt.show()"
   ]
  },
  {
   "cell_type": "code",
   "execution_count": null,
   "metadata": {},
   "outputs": [],
   "source": []
  }
 ],
 "metadata": {
  "kernelspec": {
   "display_name": "Python 3",
   "language": "python",
   "name": "python3"
  },
  "language_info": {
   "codemirror_mode": {
    "name": "ipython",
    "version": 3
   },
   "file_extension": ".py",
   "mimetype": "text/x-python",
   "name": "python",
   "nbconvert_exporter": "python",
   "pygments_lexer": "ipython3",
   "version": "3.8.5"
  }
 },
 "nbformat": 4,
 "nbformat_minor": 4
}
