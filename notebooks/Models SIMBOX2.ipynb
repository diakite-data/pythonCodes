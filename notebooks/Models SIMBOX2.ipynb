{
 "cells": [
  {
   "cell_type": "code",
   "execution_count": 99,
   "metadata": {},
   "outputs": [],
   "source": [
    "from pyspark.sql import SparkSession\n",
    "spark = SparkSession.builder.master(\"local[1]\")\\\n",
    "          .appName(\"sunshine_v2\")\\\n",
    "          .getOrCreate()"
   ]
  },
  {
   "cell_type": "code",
   "execution_count": 100,
   "metadata": {},
   "outputs": [],
   "source": [
    "from pyspark.ml.clustering import KMeans\n",
    "from pyspark.ml.evaluation import ClusteringEvaluator\n",
    "from pyspark.sql.functions import *\n",
    "from pyspark.sql.types import *\n",
    "from pyspark.ml.feature import *"
   ]
  },
  {
   "cell_type": "code",
   "execution_count": 101,
   "metadata": {},
   "outputs": [
    {
     "name": "stdout",
     "output_type": "stream",
     "text": [
      "+-------------------------------+-------------------------------+\n",
      "|echantillon_train_simbox_msisdn|echantillon_train_simbox_statut|\n",
      "+-------------------------------+-------------------------------+\n",
      "|                       09664314|                              0|\n",
      "|                       59396661|                              0|\n",
      "|                       08426232|                              0|\n",
      "|                       07736571|                              0|\n",
      "|                       08040534|                              0|\n",
      "|                       68920076|                              0|\n",
      "|                       77121885|                              0|\n",
      "|                       97228552|                              0|\n",
      "|                       88384131|                              0|\n",
      "|                       88620304|                              0|\n",
      "|                       88163609|                              0|\n",
      "|                       57849472|                              0|\n",
      "|                       09965894|                              0|\n",
      "|                       98374630|                              0|\n",
      "|                       88577153|                              0|\n",
      "|                       58458341|                              0|\n",
      "|                       58142139|                              0|\n",
      "|                       08733056|                              0|\n",
      "|                       48743148|                              0|\n",
      "|                       59666862|                              0|\n",
      "+-------------------------------+-------------------------------+\n",
      "only showing top 20 rows\n",
      "\n"
     ]
    }
   ],
   "source": [
    "individu = spark.read.\\\n",
    "       option(\"header\", \"true\").\\\n",
    "       option(\"delimiter\", \";\").\\\n",
    "       csv(\"/Users/youssouf/Documents/simboxv2/df_echantillon_train_simbox.csv\")\n",
    "\n",
    "individu = individu.dropDuplicates()\n",
    "individu = individu.toDF(*(c.replace('.', '_') for c in individu.columns))\n",
    "individu.show()"
   ]
  },
  {
   "cell_type": "markdown",
   "metadata": {},
   "source": [
    "### Nombre de fraudeurs et non fraudeurs"
   ]
  },
  {
   "cell_type": "code",
   "execution_count": 84,
   "metadata": {},
   "outputs": [
    {
     "name": "stdout",
     "output_type": "stream",
     "text": [
      "+-------------------------------+-------+\n",
      "|echantillon_train_simbox_statut|  count|\n",
      "+-------------------------------+-------+\n",
      "|                              0|1016375|\n",
      "|                              1|   1960|\n",
      "+-------------------------------+-------+\n",
      "\n"
     ]
    }
   ],
   "source": [
    "individu.groupby(\"echantillon_train_simbox_statut\").count().show()"
   ]
  },
  {
   "cell_type": "code",
   "execution_count": 86,
   "metadata": {},
   "outputs": [
    {
     "data": {
      "text/plain": [
       "0.19284220883040215"
      ]
     },
     "execution_count": 86,
     "metadata": {},
     "output_type": "execute_result"
    }
   ],
   "source": [
    "(1960 / 1016375)*100"
   ]
  },
  {
   "cell_type": "code",
   "execution_count": null,
   "metadata": {},
   "outputs": [],
   "source": [
    "#simbox_temp_cons_sms_msisdn"
   ]
  },
  {
   "cell_type": "code",
   "execution_count": 102,
   "metadata": {},
   "outputs": [
    {
     "name": "stdout",
     "output_type": "stream",
     "text": [
      "+----------------------------+------------------------------------+----------------------------------------+\n",
      "|simbox_temp_cons_call_msisdn|simbox_temp_cons_call_temp_appel_moy|simbox_temp_cons_call_ecartyp_temp_appel|\n",
      "+----------------------------+------------------------------------+----------------------------------------+\n",
      "|                    07293076|                   5906.605839416058|                       8518.525616370136|\n",
      "|                    07480843|                  3434.3872549019607|                       5480.182841163482|\n",
      "|                    07751948|                             17844.0|                                 10863.0|\n",
      "|                    08009927|                                NULL|                                    NULL|\n",
      "|                    08129412|                              6292.0|                       7311.198830105314|\n",
      "|                    08423262|                  10323.266666666666|                      10045.844507169231|\n",
      "|                    47321115|                  2689.6408839779006|                      5102.7686037603025|\n",
      "|                    47325459|                                NULL|                                    NULL|\n",
      "|                    47578307|                   8069.833333333333|                      10064.080425232876|\n",
      "|                    47616434|                  2794.5584415584417|                       6611.082039054126|\n",
      "|                    48190388|                                NULL|                                    NULL|\n",
      "|                    48723294|                   2117.844023323615|                      3426.4578515744042|\n",
      "|                    48931338|                                NULL|                                    NULL|\n",
      "|                    49968160|                              2770.0|                                     0.0|\n",
      "|                    58120333|                   4191.557142857143|                       8968.705099456687|\n",
      "|                    58811793|                   2129.724193548387|                        4180.97699337034|\n",
      "|                    58913278|                   2985.884892086331|                       6048.249464421296|\n",
      "|                    67722194|                                NULL|                                    NULL|\n",
      "|                    68045504|                              5957.0|                                     0.0|\n",
      "|                    69409424|                  3854.3946188340806|                       6797.655833507832|\n",
      "+----------------------------+------------------------------------+----------------------------------------+\n",
      "only showing top 20 rows\n",
      "\n"
     ]
    }
   ],
   "source": [
    "temp_cons_call = spark.read.\\\n",
    "       option(\"header\", \"true\").\\\n",
    "       option(\"delimiter\", \";\").\\\n",
    "       csv(\"/Users/youssouf/Documents/simboxv2/df_sunshine_simbox_temp_cons_call.csv\")\n",
    "\n",
    "temp_cons_call = temp_cons_call.dropDuplicates()\n",
    "temp_cons_call = temp_cons_call.toDF(*(c.replace('.', '_') for c in temp_cons_call.columns))\n",
    "temp_cons_call.show()"
   ]
  },
  {
   "cell_type": "code",
   "execution_count": 103,
   "metadata": {},
   "outputs": [
    {
     "name": "stdout",
     "output_type": "stream",
     "text": [
      "+---------------------------+---------------------------------+-------------------------------------+\n",
      "|simbox_temp_cons_sms_msisdn|simbox_temp_cons_sms_temp_sms_moy|simbox_temp_cons_sms_ecartyp_temp_sms|\n",
      "+---------------------------+---------------------------------+-------------------------------------+\n",
      "|                   07117188|               2025.0854271356784|                    5110.096388841895|\n",
      "|                   07234808|               2385.6276422764226|                    5706.241091246586|\n",
      "|                   07396114|                             NULL|                                 NULL|\n",
      "|                   07410540|                             NULL|                                 NULL|\n",
      "|                   07958942|                             NULL|                                 NULL|\n",
      "|                   08369306|                885.1705882352941|                    3024.420066969516|\n",
      "|                   08546231|                             NULL|                                 NULL|\n",
      "|                   08630029|                             NULL|                                 NULL|\n",
      "|                   08990215|               43.166666666666664|                    88.93146549762663|\n",
      "|                   09114500|                              6.0|                                  0.0|\n",
      "|                   09471588|                            842.0|                                  0.0|\n",
      "|                   09924693|                             NULL|                                 NULL|\n",
      "|                   47176424|                             NULL|                                 NULL|\n",
      "|                   47810053|                             20.0|                                  0.0|\n",
      "|                   47855763|                4032.611888111888|                    9364.988489331594|\n",
      "|                   48966700|                             NULL|                                 NULL|\n",
      "|                   49132535|                             NULL|                                 NULL|\n",
      "|                   49185657|               2475.8947368421054|                    4826.813582203141|\n",
      "|                   57339760|                5617.233333333334|                    9048.128477511556|\n",
      "|                   57570352|               4080.1521739130435|                     7999.08309193158|\n",
      "+---------------------------+---------------------------------+-------------------------------------+\n",
      "only showing top 20 rows\n",
      "\n"
     ]
    }
   ],
   "source": [
    "temp_cons_sms = spark.read.\\\n",
    "       option(\"header\", \"true\").\\\n",
    "       option(\"delimiter\", \";\").\\\n",
    "       csv(\"/Users/youssouf/Documents/simboxv2/df_sunshine_simbox_temp_cons_sms.csv\")\n",
    "\n",
    "temp_cons_sms = temp_cons_sms.dropDuplicates()\n",
    "temp_cons_sms = temp_cons_sms.toDF(*(c.replace('.', '_') for c in temp_cons_sms.columns))\n",
    "temp_cons_sms.show()"
   ]
  },
  {
   "cell_type": "code",
   "execution_count": 104,
   "metadata": {},
   "outputs": [
    {
     "name": "stdout",
     "output_type": "stream",
     "text": [
      "+------------------+---------------------+\n",
      "|simbox_imsi_msisdn|simbox_imsi_nbre_imsi|\n",
      "+------------------+---------------------+\n",
      "|          07189240|                    1|\n",
      "|          07329996|                    1|\n",
      "|          07559648|                    1|\n",
      "|          07809004|                    1|\n",
      "|          08185074|                    1|\n",
      "|          09111412|                    1|\n",
      "|          09630349|                    1|\n",
      "|          48322309|                    1|\n",
      "|          48550629|                    1|\n",
      "|          49271746|                    1|\n",
      "|          57759808|                    1|\n",
      "|          58625068|                    1|\n",
      "|          58798460|                    1|\n",
      "|          58831889|                    1|\n",
      "|          58842914|                    1|\n",
      "|          59117921|                    1|\n",
      "|          59641177|                    1|\n",
      "|          67063161|                    1|\n",
      "|          67291704|                    1|\n",
      "|          68502791|                    1|\n",
      "+------------------+---------------------+\n",
      "only showing top 20 rows\n",
      "\n"
     ]
    }
   ],
   "source": [
    "imsi = spark.read.\\\n",
    "       option(\"header\", \"true\").\\\n",
    "       option(\"delimiter\", \";\").\\\n",
    "       csv(\"/Users/youssouf/Documents/simboxv2/df_sunshine_simbox_imsi.csv\")\n",
    "\n",
    "imsi = imsi.dropDuplicates()\n",
    "imsi = imsi.toDF(*(c.replace('.', '_') for c in imsi.columns))\n",
    "imsi.show()"
   ]
  },
  {
   "cell_type": "code",
   "execution_count": 105,
   "metadata": {},
   "outputs": [
    {
     "name": "stdout",
     "output_type": "stream",
     "text": [
      "+-----------------------+----------------------+--------------------------------------+-------------------------------------+---------------------------------------+---------------------------------------+\n",
      "|simbox_complice_date_id|simbox_complice_msisdn|simbox_complice_nbr_dist_call_complice|simbox_complice_nbr_call_tot_complice|simbox_complice_duree_tot_call_complice|simbox_complice_duree_moy_call_complice|\n",
      "+-----------------------+----------------------+--------------------------------------+-------------------------------------+---------------------------------------+---------------------------------------+\n",
      "|               20201021|              07412786|                                     3|                                    5|                                   5417|                                 1083.4|\n",
      "|                   NULL|              08168853|                                  NULL|                                 NULL|                                   NULL|                                   NULL|\n",
      "|                   NULL|              08245585|                                  NULL|                                 NULL|                                   NULL|                                   NULL|\n",
      "|               20201021|              47010360|                                     1|                                    2|                                    355|                                  177.5|\n",
      "|                   NULL|              49379318|                                  NULL|                                 NULL|                                   NULL|                                   NULL|\n",
      "|                   NULL|              49579313|                                  NULL|                                 NULL|                                   NULL|                                   NULL|\n",
      "|                   NULL|              57839821|                                  NULL|                                 NULL|                                   NULL|                                   NULL|\n",
      "|                   NULL|              58411543|                                  NULL|                                 NULL|                                   NULL|                                   NULL|\n",
      "|                   NULL|              58624353|                                  NULL|                                 NULL|                                   NULL|                                   NULL|\n",
      "|                   NULL|              59552225|                                  NULL|                                 NULL|                                   NULL|                                   NULL|\n",
      "|                   NULL|              59601973|                                  NULL|                                 NULL|                                   NULL|                                   NULL|\n",
      "|                   NULL|              59657312|                                  NULL|                                 NULL|                                   NULL|                                   NULL|\n",
      "|                   NULL|              67465058|                                  NULL|                                 NULL|                                   NULL|                                   NULL|\n",
      "|                   NULL|              67589986|                                  NULL|                                 NULL|                                   NULL|                                   NULL|\n",
      "|                   NULL|              69081351|                                  NULL|                                 NULL|                                   NULL|                                   NULL|\n",
      "|                   NULL|              69921406|                                  NULL|                                 NULL|                                   NULL|                                   NULL|\n",
      "|                   NULL|              78942605|                                  NULL|                                 NULL|                                   NULL|                                   NULL|\n",
      "|                   NULL|              87020346|                                  NULL|                                 NULL|                                   NULL|                                   NULL|\n",
      "|                   NULL|              87648180|                                  NULL|                                 NULL|                                   NULL|                                   NULL|\n",
      "|                   NULL|              89272269|                                  NULL|                                 NULL|                                   NULL|                                   NULL|\n",
      "+-----------------------+----------------------+--------------------------------------+-------------------------------------+---------------------------------------+---------------------------------------+\n",
      "only showing top 20 rows\n",
      "\n"
     ]
    }
   ],
   "source": [
    "complice = spark.read.\\\n",
    "       option(\"header\", \"true\").\\\n",
    "       option(\"delimiter\", \";\").\\\n",
    "       csv(\"/Users/youssouf/Documents/simboxv2/df_sunshine_simbox_complice.csv\")\n",
    "\n",
    "complice = complice.dropDuplicates()\n",
    "complice = complice.toDF(*(c.replace('.', '_') for c in complice.columns))\n",
    "complice.show()"
   ]
  },
  {
   "cell_type": "code",
   "execution_count": 106,
   "metadata": {},
   "outputs": [
    {
     "name": "stdout",
     "output_type": "stream",
     "text": [
      "+---------------------------+--------------------------+------------------------------------+-----------------------------------+-------------------------------------+-------------------------------------+\n",
      "|simbox_entrant_call_date_id|simbox_entrant_call_msisdn|simbox_entrant_call_nbr_dist_call_en|simbox_entrant_call_nbr_call_tot_en|simbox_entrant_call_duree_call_tot_en|simbox_entrant_call_duree_call_moy_en|\n",
      "+---------------------------+--------------------------+------------------------------------+-----------------------------------+-------------------------------------+-------------------------------------+\n",
      "|                   20201024|                  07440520|                                   2|                                  2|                                   65|                                 32.5|\n",
      "|                       NULL|                  08168853|                                NULL|                               NULL|                                 NULL|                                 NULL|\n",
      "|                   20201024|                  08706124|                                   2|                                  3|                                  428|                   142.66666666666666|\n",
      "|                   20201024|                  09804123|                                   7|                                  7|                                  663|                    94.71428571428571|\n",
      "|                   20201024|                  48625469|                                   1|                                  1|                                   32|                                 32.0|\n",
      "|                   20201024|                  48957261|                                   8|                                 12|                                 2467|                   205.58333333333334|\n",
      "|                       NULL|                  49379318|                                NULL|                               NULL|                                 NULL|                                 NULL|\n",
      "|                       NULL|                  49579313|                                NULL|                               NULL|                                 NULL|                                 NULL|\n",
      "|                       NULL|                  57839821|                                NULL|                               NULL|                                 NULL|                                 NULL|\n",
      "|                       NULL|                  58411543|                                NULL|                               NULL|                                 NULL|                                 NULL|\n",
      "|                       NULL|                  59601973|                                NULL|                               NULL|                                 NULL|                                 NULL|\n",
      "|                   20201024|                  59735556|                                   2|                                  3|                                   90|                                 30.0|\n",
      "|                       NULL|                  67589986|                                NULL|                               NULL|                                 NULL|                                 NULL|\n",
      "|                   20201024|                  68469591|                                   4|                                  4|                                  321|                                80.25|\n",
      "|                   20201024|                  68511331|                                   4|                                  4|                                  184|                                 46.0|\n",
      "|                       NULL|                  87020346|                                NULL|                               NULL|                                 NULL|                                 NULL|\n",
      "|                       NULL|                  87648180|                                NULL|                               NULL|                                 NULL|                                 NULL|\n",
      "|                   20201024|                  89073091|                                   3|                                  5|                                  297|                                 59.4|\n",
      "|                       NULL|                  89272269|                                NULL|                               NULL|                                 NULL|                                 NULL|\n",
      "|                       NULL|                  89287635|                                NULL|                               NULL|                                 NULL|                                 NULL|\n",
      "+---------------------------+--------------------------+------------------------------------+-----------------------------------+-------------------------------------+-------------------------------------+\n",
      "only showing top 20 rows\n",
      "\n"
     ]
    }
   ],
   "source": [
    "entrant_call = spark.read.\\\n",
    "       option(\"header\", \"true\").\\\n",
    "       option(\"delimiter\", \";\").\\\n",
    "       csv(\"/Users/youssouf/Documents/simboxv2/df_sunshine_simbox_entrant_call.csv\")\n",
    "\n",
    "entrant_call = entrant_call.dropDuplicates()\n",
    "entrant_call = entrant_call.toDF(*(c.replace('.', '_') for c in entrant_call.columns))\n",
    "entrant_call.show()"
   ]
  },
  {
   "cell_type": "code",
   "execution_count": 107,
   "metadata": {},
   "outputs": [
    {
     "name": "stdout",
     "output_type": "stream",
     "text": [
      "+--------------------------+-------------------------+----------------------------------+---------------------------------+\n",
      "|simbox_entrant_sms_date_id|simbox_entrant_sms_msisdn|simbox_entrant_sms_nbr_dist_sms_en|simbox_entrant_sms_nbr_sms_tot_en|\n",
      "+--------------------------+-------------------------+----------------------------------+---------------------------------+\n",
      "|                  20201016|                 07555141|                                 5|                               16|\n",
      "|                  20201016|                 07759767|                                 1|                                2|\n",
      "|                  20201016|                 07777396|                                 1|                                6|\n",
      "|                      NULL|                 08638053|                              NULL|                             NULL|\n",
      "|                      NULL|                 09088524|                              NULL|                             NULL|\n",
      "|                      NULL|                 09705237|                              NULL|                             NULL|\n",
      "|                      NULL|                 09977443|                              NULL|                             NULL|\n",
      "|                      NULL|                 47632918|                              NULL|                             NULL|\n",
      "|                      NULL|                 48096566|                              NULL|                             NULL|\n",
      "|                      NULL|                 48257653|                              NULL|                             NULL|\n",
      "|                      NULL|                 48709429|                              NULL|                             NULL|\n",
      "|                  20201016|                 49175864|                                 1|                                1|\n",
      "|                      NULL|                 49666063|                              NULL|                             NULL|\n",
      "|                      NULL|                 57396314|                              NULL|                             NULL|\n",
      "|                  20201016|                 57546340|                                 1|                               16|\n",
      "|                      NULL|                 57815148|                              NULL|                             NULL|\n",
      "|                      NULL|                 58171619|                              NULL|                             NULL|\n",
      "|                      NULL|                 58315758|                              NULL|                             NULL|\n",
      "|                      NULL|                 58451823|                              NULL|                             NULL|\n",
      "|                      NULL|                 67409699|                              NULL|                             NULL|\n",
      "+--------------------------+-------------------------+----------------------------------+---------------------------------+\n",
      "only showing top 20 rows\n",
      "\n"
     ]
    }
   ],
   "source": [
    "entrant_sms = spark.read.\\\n",
    "       option(\"header\", \"true\").\\\n",
    "       option(\"delimiter\", \";\").\\\n",
    "       csv(\"/Users/youssouf/Documents/simboxv2/df_sunshine_simbox_entrant_sms.csv\")\n",
    "\n",
    "entrant_sms = entrant_sms.dropDuplicates()\n",
    "entrant_sms = entrant_sms.toDF(*(c.replace('.', '_') for c in entrant_sms.columns))\n",
    "entrant_sms.show()\n"
   ]
  },
  {
   "cell_type": "code",
   "execution_count": null,
   "metadata": {},
   "outputs": [],
   "source": []
  },
  {
   "cell_type": "code",
   "execution_count": 25,
   "metadata": {},
   "outputs": [],
   "source": [
    "#rechargement_om = spark.read.\\\n",
    "#       option(\"header\", \"true\").\\\n",
    "#       option(\"delimiter\", \";\").\\\n",
    "#       csv(\"/Users/youssouf/Documents/simboxv2/df_sunshine_simbox_rechargement_om.csv\")\n",
    "\n",
    "#rechargement_om.show()\n",
    "#rechargement_om = rechargement_om.dropDuplicates()"
   ]
  },
  {
   "cell_type": "code",
   "execution_count": 98,
   "metadata": {},
   "outputs": [],
   "source": [
    "#for cl in liste:\n",
    "#    df3 = df3.withColumn(cl, col(cl).cast(DoubleType()))\n",
    "#df3 = df3.fillna(0)"
   ]
  },
  {
   "cell_type": "markdown",
   "metadata": {},
   "source": [
    "### Jointure des data frames "
   ]
  },
  {
   "cell_type": "code",
   "execution_count": 145,
   "metadata": {},
   "outputs": [],
   "source": [
    "df = individu.join(temp_cons_call, individu.echantillon_train_simbox_msisdn == temp_cons_call.simbox_temp_cons_call_msisdn, \"left_outer\" ).drop(\"simbox_temp_cons_sms_msisdn\") \\\n",
    "             .join(temp_cons_sms, individu.echantillon_train_simbox_msisdn == temp_cons_sms.simbox_temp_cons_sms_msisdn , \"left_outer\").drop(\"simbox_temp_cons_sms_msisdn\") \\\n",
    "             .join(imsi, individu.echantillon_train_simbox_msisdn == imsi.simbox_imsi_msisdn , \"left_outer\").drop(\"simbox_imsi_msisdn\") \\\n",
    "             .join(complice, individu.echantillon_train_simbox_msisdn == complice.simbox_complice_msisdn , \"left_outer\").drop(\"simbox_complice_msisdn\", \"simbox_complice_date_id\") \\\n",
    "#             .join(entrant_call, individu.echantillon_train_simbox_msisdn == entrant_call.simbox_entrant_call_msisdn , \"left_outer\").drop(\"simbox_entrant_call_msisdn\",\"simbox_entrant_call_date_id\") \\\n",
    "#             .join(entrant_sms, individu.echantillon_train_simbox_msisdn == entrant_sms.simbox_entrant_sms_msisdn , \"left_outer\").drop(\"simbox_entrant_sms_msisdn\",\"simbox_entrant_sms_date_id\")\n",
    "\n"
   ]
  },
  {
   "cell_type": "code",
   "execution_count": 146,
   "metadata": {},
   "outputs": [
    {
     "data": {
      "text/plain": [
       "['echantillon_train_simbox_msisdn',\n",
       " 'echantillon_train_simbox_statut',\n",
       " 'simbox_temp_cons_call_msisdn',\n",
       " 'simbox_temp_cons_call_temp_appel_moy',\n",
       " 'simbox_temp_cons_call_ecartyp_temp_appel',\n",
       " 'simbox_temp_cons_sms_temp_sms_moy',\n",
       " 'simbox_temp_cons_sms_ecartyp_temp_sms',\n",
       " 'simbox_imsi_nbre_imsi']"
      ]
     },
     "execution_count": 146,
     "metadata": {},
     "output_type": "execute_result"
    }
   ],
   "source": [
    "df.columns"
   ]
  },
  {
   "cell_type": "code",
   "execution_count": 147,
   "metadata": {},
   "outputs": [
    {
     "name": "stdout",
     "output_type": "stream",
     "text": [
      "+-------------------------------+-------+\n",
      "|echantillon_train_simbox_statut|  count|\n",
      "+-------------------------------+-------+\n",
      "|                              0|1016375|\n",
      "|                              1|   1960|\n",
      "+-------------------------------+-------+\n",
      "\n"
     ]
    }
   ],
   "source": [
    "df.groupby(\"echantillon_train_simbox_statut\").count().show()"
   ]
  },
  {
   "cell_type": "code",
   "execution_count": 137,
   "metadata": {},
   "outputs": [
    {
     "data": {
      "text/plain": [
       "['echantillon_train_simbox_msisdn',\n",
       " 'echantillon_train_simbox_statut',\n",
       " 'simbox_temp_cons_call_msisdn',\n",
       " 'simbox_temp_cons_call_temp_appel_moy',\n",
       " 'simbox_temp_cons_call_ecartyp_temp_appel',\n",
       " 'simbox_temp_cons_sms_temp_sms_moy',\n",
       " 'simbox_temp_cons_sms_ecartyp_temp_sms',\n",
       " 'simbox_imsi_nbre_imsi']"
      ]
     },
     "execution_count": 137,
     "metadata": {},
     "output_type": "execute_result"
    }
   ],
   "source": [
    "df.columns"
   ]
  },
  {
   "cell_type": "code",
   "execution_count": 148,
   "metadata": {},
   "outputs": [],
   "source": [
    "coll = ['msisdn',\n",
    " 'statut',\n",
    " 'xmsisdn',\n",
    " 'temp_appel_moy',\n",
    " 'ecartyp_temp_appel',\n",
    " 'temp_sms_moy',\n",
    " 'ecartyp_temp_sms',\n",
    " 'nbre_imsi']"
   ]
  },
  {
   "cell_type": "code",
   "execution_count": 149,
   "metadata": {},
   "outputs": [],
   "source": [
    "df = df.toDF('msisdn',\n",
    " 'statut',\n",
    " 'xmsisdn',\n",
    " 'temp_appel_moy',\n",
    " 'ecartyp_temp_appel',\n",
    " 'temp_sms_moy',\n",
    " 'ecartyp_temp_sms',\n",
    " 'nbre_imsi')"
   ]
  },
  {
   "cell_type": "code",
   "execution_count": 150,
   "metadata": {},
   "outputs": [],
   "source": [
    "df = df.drop(\"xmsisdn\")"
   ]
  },
  {
   "cell_type": "markdown",
   "metadata": {},
   "source": [
    "### Count Na'Values by Column"
   ]
  },
  {
   "cell_type": "code",
   "execution_count": 57,
   "metadata": {},
   "outputs": [
    {
     "name": "stdout",
     "output_type": "stream",
     "text": [
      "+------+------+------------+----------------+-------------+-----------------+---------+----------------------+---------------------+-----------------------+-----------------------+---------------------+--------------------+----------------------+----------------------+-------------------+------------------+\n",
      "|msisdn|statut|temp_sms_moy|ecartyp_temp_sms|temp_sms_moy1|ecartyp_temp_sms1|nbre_imsi|nbr_dist_call_complice|nbr_call_tot_complice|duree_tot_call_complice|duree_moy_call_complice|call_nbr_dist_call_en|call_nbr_call_tot_en|call_duree_call_tot_en|call_duree_call_moy_en|sms_nbr_dist_sms_en|sms_nbr_sms_tot_en|\n",
      "+------+------+------------+----------------+-------------+-----------------+---------+----------------------+---------------------+-----------------------+-----------------------+---------------------+--------------------+----------------------+----------------------+-------------------+------------------+\n",
      "|     0|     0|           0|               0|            0|                0|        0|                     0|                    0|                      0|                      0|                    0|                   0|                     0|                     0|                  0|                 0|\n",
      "+------+------+------------+----------------+-------------+-----------------+---------+----------------------+---------------------+-----------------------+-----------------------+---------------------+--------------------+----------------------+----------------------+-------------------+------------------+\n",
      "\n"
     ]
    }
   ],
   "source": [
    "from pyspark.sql.functions import isnan, when, count, col\n",
    "\n",
    "df.select([count(when(isnan(c), c)).alias(c) for c in df.columns]).show()"
   ]
  },
  {
   "cell_type": "markdown",
   "metadata": {},
   "source": [
    "### Taille du DataFrame"
   ]
  },
  {
   "cell_type": "code",
   "execution_count": 140,
   "metadata": {},
   "outputs": [
    {
     "data": {
      "text/plain": [
       "(1018335, 8)"
      ]
     },
     "execution_count": 140,
     "metadata": {},
     "output_type": "execute_result"
    }
   ],
   "source": [
    "df.count(), len(df.columns)"
   ]
  },
  {
   "cell_type": "markdown",
   "metadata": {},
   "source": [
    "### Afficahge du Dataframe"
   ]
  },
  {
   "cell_type": "code",
   "execution_count": 141,
   "metadata": {},
   "outputs": [
    {
     "name": "stdout",
     "output_type": "stream",
     "text": [
      "root\n",
      " |-- msisdn: string (nullable = true)\n",
      " |-- statut: string (nullable = true)\n",
      " |-- msisdn: string (nullable = true)\n",
      " |-- temp_appel_moy: string (nullable = true)\n",
      " |-- ecartyp_temp_appel: string (nullable = true)\n",
      " |-- temp_sms_moy: string (nullable = true)\n",
      " |-- ecartyp_temp_sms: string (nullable = true)\n",
      " |-- nbre_imsi: string (nullable = true)\n",
      "\n"
     ]
    }
   ],
   "source": [
    "df.printSchema()"
   ]
  },
  {
   "cell_type": "code",
   "execution_count": 151,
   "metadata": {},
   "outputs": [
    {
     "name": "stdout",
     "output_type": "stream",
     "text": [
      "+--------+------+------------------+------------------+------------------+------------------+---------+\n",
      "|  msisdn|statut|    temp_appel_moy|ecartyp_temp_appel|      temp_sms_moy|  ecartyp_temp_sms|nbre_imsi|\n",
      "+--------+------+------------------+------------------+------------------+------------------+---------+\n",
      "|07000421|     0| 2527.929411764706|3395.9711693788854| 1101.341517857143|4422.6069336384335|        1|\n",
      "|07001041|     0| 5827.075268817204| 7931.733563157254| 6748.307692307692|10665.039416311563|        1|\n",
      "|07003963|     0| 1929.031328320802|2941.7575910639625| 2461.407854984894| 5781.348364020444|        1|\n",
      "|07004359|     0| 4190.748743718593| 6304.263389294098| 3403.548387096774| 8836.558693178089|        1|\n",
      "|07004719|     0|        5712.53125| 7888.953742751534|20378.333333333332| 13733.95026661761|        1|\n",
      "|07004893|     0| 5207.203389830508| 7277.673950385803| 2878.076433121019| 6447.661046848671|        1|\n",
      "|07005380|     0| 5463.145161290323| 7522.883650197714| 2175.622377622378| 6167.381083072044|        1|\n",
      "|07011547|     0|              NULL|              NULL|            113.25| 34.52806829233283|        1|\n",
      "|07011888|     0| 3082.936842105263|3891.6252289148906|              NULL|              NULL|        1|\n",
      "|07021598|     0| 6368.107142857143| 8809.739923756812|4566.5210084033615| 10211.71701654669|        1|\n",
      "|07021782|     0| 7717.342857142857|11203.089425798982|              NULL|              NULL|        1|\n",
      "|07023380|     0|           9140.88|10976.139761573739|              NULL|              NULL|        1|\n",
      "|07023905|     0|3609.0934579439254| 4439.461050755165|           10836.0|12826.864156821846|        1|\n",
      "|07024072|     0|            2199.0| 4330.463678021866|              NULL|              NULL|        1|\n",
      "|07027377|     0| 3603.391304347826| 7270.319090175331|              15.0|               7.0|        1|\n",
      "|07033852|     0|10290.166666666666| 9581.130594675256|              24.0|               0.0|        1|\n",
      "|07036535|     0|3300.9545454545455| 5820.187090692288|11896.666666666666|3601.0213674579727|        1|\n",
      "|07036862|     0| 4504.633333333333|  6452.50384209279|            738.75|1274.9341894780296|        1|\n",
      "|07040918|     0|              NULL|              NULL|              NULL|              NULL|        1|\n",
      "|07042409|     0|           6191.35| 7102.101993600205| 4507.173913043478| 9870.037628162745|        1|\n",
      "+--------+------+------------------+------------------+------------------+------------------+---------+\n",
      "only showing top 20 rows\n",
      "\n"
     ]
    }
   ],
   "source": [
    "df.show()"
   ]
  },
  {
   "cell_type": "markdown",
   "metadata": {},
   "source": [
    "### Replace NULL , null by 0"
   ]
  },
  {
   "cell_type": "code",
   "execution_count": 152,
   "metadata": {},
   "outputs": [],
   "source": [
    "df = df.replace('NULL',str(0))\n",
    "#df = df.replace(null ,str(0))\n",
    "df = df.na.fill(0)"
   ]
  },
  {
   "cell_type": "markdown",
   "metadata": {},
   "source": [
    "### Checking if done "
   ]
  },
  {
   "cell_type": "code",
   "execution_count": 153,
   "metadata": {},
   "outputs": [
    {
     "name": "stdout",
     "output_type": "stream",
     "text": [
      "+--------+------+------------------+------------------+------------------+------------------+---------+\n",
      "|  msisdn|statut|    temp_appel_moy|ecartyp_temp_appel|      temp_sms_moy|  ecartyp_temp_sms|nbre_imsi|\n",
      "+--------+------+------------------+------------------+------------------+------------------+---------+\n",
      "|07000421|     0| 2527.929411764706|3395.9711693788854| 1101.341517857143|4422.6069336384335|        1|\n",
      "|07001041|     0| 5827.075268817204| 7931.733563157254| 6748.307692307692|10665.039416311563|        1|\n",
      "|07003963|     0| 1929.031328320802|2941.7575910639625| 2461.407854984894| 5781.348364020444|        1|\n",
      "|07004359|     0| 4190.748743718593| 6304.263389294098| 3403.548387096774| 8836.558693178089|        1|\n",
      "|07004719|     0|        5712.53125| 7888.953742751534|20378.333333333332| 13733.95026661761|        1|\n",
      "|07004893|     0| 5207.203389830508| 7277.673950385803| 2878.076433121019| 6447.661046848671|        1|\n",
      "|07005380|     0| 5463.145161290323| 7522.883650197714| 2175.622377622378| 6167.381083072044|        1|\n",
      "|07011547|     0|                 0|                 0|            113.25| 34.52806829233283|        1|\n",
      "|07011888|     0| 3082.936842105263|3891.6252289148906|                 0|                 0|        1|\n",
      "|07021598|     0| 6368.107142857143| 8809.739923756812|4566.5210084033615| 10211.71701654669|        1|\n",
      "|07021782|     0| 7717.342857142857|11203.089425798982|                 0|                 0|        1|\n",
      "|07023380|     0|           9140.88|10976.139761573739|                 0|                 0|        1|\n",
      "|07023905|     0|3609.0934579439254| 4439.461050755165|           10836.0|12826.864156821846|        1|\n",
      "|07024072|     0|            2199.0| 4330.463678021866|                 0|                 0|        1|\n",
      "|07027377|     0| 3603.391304347826| 7270.319090175331|              15.0|               7.0|        1|\n",
      "|07033852|     0|10290.166666666666| 9581.130594675256|              24.0|               0.0|        1|\n",
      "|07036535|     0|3300.9545454545455| 5820.187090692288|11896.666666666666|3601.0213674579727|        1|\n",
      "|07036862|     0| 4504.633333333333|  6452.50384209279|            738.75|1274.9341894780296|        1|\n",
      "|07040918|     0|                 0|                 0|                 0|                 0|        1|\n",
      "|07042409|     0|           6191.35| 7102.101993600205| 4507.173913043478| 9870.037628162745|        1|\n",
      "+--------+------+------------------+------------------+------------------+------------------+---------+\n",
      "only showing top 20 rows\n",
      "\n"
     ]
    }
   ],
   "source": [
    "df.show()"
   ]
  },
  {
   "cell_type": "markdown",
   "metadata": {},
   "source": [
    "### Nombre de fraudeurs"
   ]
  },
  {
   "cell_type": "code",
   "execution_count": 154,
   "metadata": {},
   "outputs": [
    {
     "name": "stdout",
     "output_type": "stream",
     "text": [
      "+------+-------+\n",
      "|statut|  count|\n",
      "+------+-------+\n",
      "|     0|1016375|\n",
      "|     1|   1960|\n",
      "+------+-------+\n",
      "\n"
     ]
    }
   ],
   "source": [
    "df.groupby(\"statut\").count().show()"
   ]
  },
  {
   "cell_type": "markdown",
   "metadata": {},
   "source": [
    "### Converting to DOUBLE"
   ]
  },
  {
   "cell_type": "code",
   "execution_count": 155,
   "metadata": {},
   "outputs": [],
   "source": [
    "liste = [\n",
    " 'statut',\n",
    " 'temp_appel_moy',\n",
    " 'ecartyp_temp_appel',\n",
    " 'temp_sms_moy',\n",
    " 'ecartyp_temp_sms',\n",
    " 'nbre_imsi']\n",
    "\n",
    "for cl in liste:\n",
    "    df = df.withColumn(cl, col(cl).cast(DoubleType()))"
   ]
  },
  {
   "cell_type": "code",
   "execution_count": null,
   "metadata": {},
   "outputs": [],
   "source": []
  },
  {
   "cell_type": "markdown",
   "metadata": {},
   "source": [
    "## Models"
   ]
  },
  {
   "cell_type": "markdown",
   "metadata": {},
   "source": [
    "### Random Forest Model"
   ]
  },
  {
   "cell_type": "code",
   "execution_count": 166,
   "metadata": {},
   "outputs": [],
   "source": [
    "df = df.withColumnRenamed(\"statut\", \"label\")"
   ]
  },
  {
   "cell_type": "code",
   "execution_count": 167,
   "metadata": {},
   "outputs": [],
   "source": [
    "from pyspark.ml import Pipeline\n",
    "from pyspark.ml.classification import RandomForestClassifier\n",
    "from pyspark.ml.feature import IndexToString, StringIndexer, VectorIndexer\n",
    "from pyspark.ml.evaluation import MulticlassClassificationEvaluator\n",
    "from pyspark.ml.feature import VectorAssembler\n",
    "from pyspark.ml.evaluation import BinaryClassificationEvaluator\n"
   ]
  },
  {
   "cell_type": "code",
   "execution_count": 168,
   "metadata": {},
   "outputs": [],
   "source": [
    "feature_list = [\n",
    " 'temp_appel_moy',\n",
    " 'ecartyp_temp_appel',\n",
    " 'temp_sms_moy',\n",
    " 'ecartyp_temp_sms',\n",
    " 'nbre_imsi']"
   ]
  },
  {
   "cell_type": "code",
   "execution_count": 169,
   "metadata": {},
   "outputs": [],
   "source": [
    "assembler = VectorAssembler(inputCols=feature_list , outputCol=\"features\")"
   ]
  },
  {
   "cell_type": "code",
   "execution_count": 170,
   "metadata": {},
   "outputs": [],
   "source": [
    "rf = RandomForestClassifier(labelCol=\"label\", featuresCol=\"features\")"
   ]
  },
  {
   "cell_type": "code",
   "execution_count": 171,
   "metadata": {},
   "outputs": [],
   "source": [
    "pipeline = Pipeline(stages=[assembler, rf])"
   ]
  },
  {
   "cell_type": "code",
   "execution_count": 177,
   "metadata": {},
   "outputs": [],
   "source": [
    "from pyspark.ml.tuning import ParamGridBuilder\n",
    "import numpy as np\n",
    "paramGrid = ParamGridBuilder() \\\n",
    "    .addGrid(rf.numTrees, [int(x) for x in np.linspace(start = 10, stop = 13, num = 3)]) \\\n",
    "    .addGrid(rf.maxDepth, [int(x) for x in np.linspace(start = 5, stop = 8, num = 3)]) \\\n",
    "    .build()"
   ]
  },
  {
   "cell_type": "code",
   "execution_count": 178,
   "metadata": {},
   "outputs": [],
   "source": [
    "from pyspark.ml.tuning import CrossValidator\n",
    "from pyspark.ml.evaluation import RegressionEvaluator\n",
    "crossval = CrossValidator(estimator=pipeline,\n",
    "                          estimatorParamMaps=paramGrid,\n",
    "                          evaluator=BinaryClassificationEvaluator(),\n",
    "                          numFolds=3)"
   ]
  },
  {
   "cell_type": "code",
   "execution_count": 179,
   "metadata": {},
   "outputs": [],
   "source": [
    "(trainingData, testData) = df.randomSplit([0.8, 0.2])"
   ]
  },
  {
   "cell_type": "code",
   "execution_count": 185,
   "metadata": {},
   "outputs": [
    {
     "name": "stdout",
     "output_type": "stream",
     "text": [
      "+-----+------+\n",
      "|label| count|\n",
      "+-----+------+\n",
      "|  0.0|812441|\n",
      "|  1.0|  1558|\n",
      "+-----+------+\n",
      "\n"
     ]
    }
   ],
   "source": [
    "trainingData.groupby(\"label\").count().show()"
   ]
  },
  {
   "cell_type": "code",
   "execution_count": 187,
   "metadata": {},
   "outputs": [],
   "source": [
    "def resample(base_features,ratio,class_field,base_class):\n",
    "    pos = base_features.filter(col(class_field)==base_class)\n",
    "    neg = base_features.filter(col(class_field)!=base_class)\n",
    "    total_pos = pos.count()\n",
    "    total_neg = neg.count()\n",
    "    fraction=float(total_pos*ratio)/float(total_neg)\n",
    "    sampled = neg.sample(False,fraction)\n",
    "    return sampled.union(pos)"
   ]
  },
  {
   "cell_type": "code",
   "execution_count": 201,
   "metadata": {},
   "outputs": [],
   "source": [
    "trainingData_ = resample(trainingData, 1.5 , \"label\", 1.0)"
   ]
  },
  {
   "cell_type": "code",
   "execution_count": 202,
   "metadata": {},
   "outputs": [
    {
     "name": "stdout",
     "output_type": "stream",
     "text": [
      "+-----+-----+\n",
      "|label|count|\n",
      "+-----+-----+\n",
      "|  0.0| 2340|\n",
      "|  1.0| 1558|\n",
      "+-----+-----+\n",
      "\n"
     ]
    }
   ],
   "source": [
    "trainingData_.groupby(\"label\").count().show()"
   ]
  },
  {
   "cell_type": "code",
   "execution_count": 186,
   "metadata": {},
   "outputs": [
    {
     "name": "stdout",
     "output_type": "stream",
     "text": [
      "+-----+------+\n",
      "|label| count|\n",
      "+-----+------+\n",
      "|  0.0|203934|\n",
      "|  1.0|   402|\n",
      "+-----+------+\n",
      "\n"
     ]
    }
   ],
   "source": [
    "testData.groupby(\"label\").count().show()"
   ]
  },
  {
   "cell_type": "code",
   "execution_count": null,
   "metadata": {},
   "outputs": [],
   "source": []
  },
  {
   "cell_type": "code",
   "execution_count": 203,
   "metadata": {},
   "outputs": [],
   "source": [
    "cvModel = crossval.fit(trainingData_)"
   ]
  },
  {
   "cell_type": "code",
   "execution_count": 204,
   "metadata": {},
   "outputs": [],
   "source": [
    "predictions = cvModel.transform(testData)"
   ]
  },
  {
   "cell_type": "code",
   "execution_count": 182,
   "metadata": {},
   "outputs": [
    {
     "name": "stdout",
     "output_type": "stream",
     "text": [
      "+--------+-----+-----------------+------------------+-----------------+------------------+---------+--------------------+--------------------+--------------------+----------+\n",
      "|  msisdn|label|   temp_appel_moy|ecartyp_temp_appel|     temp_sms_moy|  ecartyp_temp_sms|nbre_imsi|            features|       rawPrediction|         probability|prediction|\n",
      "+--------+-----+-----------------+------------------+-----------------+------------------+---------+--------------------+--------------------+--------------------+----------+\n",
      "|07001041|  0.0|5827.075268817204| 7931.733563157254|6748.307692307692|10665.039416311563|      1.0|[5827.07526881720...|[12.9904156441858...|[0.99926274186044...|       0.0|\n",
      "|07003963|  0.0|1929.031328320802|2941.7575910639625|2461.407854984894| 5781.348364020444|      1.0|[1929.03132832080...|[12.9528745850120...|[0.99637496807784...|       0.0|\n",
      "|07004359|  0.0|4190.748743718593| 6304.263389294098|3403.548387096774| 8836.558693178089|      1.0|[4190.74874371859...|[12.9908523164536...|[0.99929633203489...|       0.0|\n",
      "+--------+-----+-----------------+------------------+-----------------+------------------+---------+--------------------+--------------------+--------------------+----------+\n",
      "only showing top 3 rows\n",
      "\n"
     ]
    }
   ],
   "source": [
    "predictions.show(3)"
   ]
  },
  {
   "cell_type": "code",
   "execution_count": 205,
   "metadata": {},
   "outputs": [
    {
     "name": "stdout",
     "output_type": "stream",
     "text": [
      "Test Area Under ROC 0.8917839090170963\n"
     ]
    }
   ],
   "source": [
    "from pyspark.ml.evaluation import BinaryClassificationEvaluator\n",
    "evaluator = BinaryClassificationEvaluator()\n",
    "print('Test Area Under ROC', evaluator.evaluate(predictions))"
   ]
  },
  {
   "cell_type": "code",
   "execution_count": 28,
   "metadata": {},
   "outputs": [
    {
     "name": "stdout",
     "output_type": "stream",
     "text": [
      "+-------------------------------+\n",
      "|echantillon_train_simbox.msisdn|\n",
      "+-------------------------------+\n",
      "|                       09664314|\n",
      "|                       59396661|\n",
      "|                       08426232|\n",
      "|                       07736571|\n",
      "|                       08040534|\n",
      "|                       68920076|\n",
      "|                       77121885|\n",
      "|                       97228552|\n",
      "|                       88384131|\n",
      "|                       88620304|\n",
      "|                       88163609|\n",
      "|                       57849472|\n",
      "|                       09965894|\n",
      "|                       98374630|\n",
      "|                       88577153|\n",
      "|                       58458341|\n",
      "|                       58142139|\n",
      "|                       08733056|\n",
      "|                       48743148|\n",
      "|                       59666862|\n",
      "+-------------------------------+\n",
      "only showing top 20 rows\n",
      "\n"
     ]
    }
   ],
   "source": [
    "#print('Training set areaUnderROC: ' + str(trainingSummary.areaUnderROC))"
   ]
  },
  {
   "cell_type": "code",
   "execution_count": 214,
   "metadata": {},
   "outputs": [
    {
     "name": "stdout",
     "output_type": "stream",
     "text": [
      "+----------+------+\n",
      "|prediction| count|\n",
      "+----------+------+\n",
      "|       0.0|184490|\n",
      "|       1.0| 19846|\n",
      "+----------+------+\n",
      "\n"
     ]
    }
   ],
   "source": [
    "predictions.groupby(\"prediction\").count().show()"
   ]
  },
  {
   "cell_type": "code",
   "execution_count": null,
   "metadata": {},
   "outputs": [],
   "source": []
  },
  {
   "cell_type": "markdown",
   "metadata": {},
   "source": [
    "### MultilayerPerceptron"
   ]
  },
  {
   "cell_type": "code",
   "execution_count": 209,
   "metadata": {},
   "outputs": [],
   "source": [
    "from pyspark.ml.classification import MultilayerPerceptronClassifier\n",
    "from pyspark.ml.evaluation import MulticlassClassificationEvaluator"
   ]
  },
  {
   "cell_type": "code",
   "execution_count": 210,
   "metadata": {},
   "outputs": [],
   "source": [
    "# specify layers for the neural network:\n",
    "# input layer of size 5 (features), two intermediate of size 5 and 4\n",
    "# and output of size 2 (classes)\n",
    "layers = [5, 5, 4, 2]\n",
    "\n",
    "\n",
    "\n",
    "# create the trainer and set its parameters\n",
    "trainer = MultilayerPerceptronClassifier(maxIter=100, layers=layers, blockSize=128, seed=1234)\n",
    "\n",
    "\n",
    "pipeline = Pipeline(stages=[assembler, trainer])\n",
    "\n",
    "\n",
    "# train the model\n",
    "model = pipeline.fit(trainingData_)"
   ]
  },
  {
   "cell_type": "code",
   "execution_count": null,
   "metadata": {},
   "outputs": [],
   "source": []
  },
  {
   "cell_type": "code",
   "execution_count": 211,
   "metadata": {},
   "outputs": [
    {
     "name": "stdout",
     "output_type": "stream",
     "text": [
      "Test set accuracy = 0.7584175084175084\n"
     ]
    }
   ],
   "source": [
    "# compute accuracy on the test set\n",
    "result = model.transform(testData)\n",
    "predictionAndLabels = result.select(\"prediction\", \"label\")\n",
    "evaluator = MulticlassClassificationEvaluator(metricName=\"accuracy\")\n",
    "print(\"Test set accuracy = \" + str(evaluator.evaluate(predictionAndLabels)))"
   ]
  },
  {
   "cell_type": "code",
   "execution_count": null,
   "metadata": {},
   "outputs": [],
   "source": []
  },
  {
   "cell_type": "markdown",
   "metadata": {},
   "source": [
    "### LinearSVC"
   ]
  },
  {
   "cell_type": "code",
   "execution_count": 212,
   "metadata": {},
   "outputs": [],
   "source": [
    "from pyspark.ml.classification import LinearSVC"
   ]
  },
  {
   "cell_type": "code",
   "execution_count": 219,
   "metadata": {},
   "outputs": [
    {
     "ename": "TypeError",
     "evalue": "Cannot recognize a pipeline stage of type <class 'abc.ABCMeta'>.",
     "output_type": "error",
     "traceback": [
      "\u001b[0;31m---------------------------------------------------------------------------\u001b[0m",
      "\u001b[0;31mTypeError\u001b[0m                                 Traceback (most recent call last)",
      "\u001b[0;32m<ipython-input-219-4e90ad632140>\u001b[0m in \u001b[0;36m<module>\u001b[0;34m\u001b[0m\n\u001b[1;32m      4\u001b[0m \u001b[0;34m\u001b[0m\u001b[0m\n\u001b[1;32m      5\u001b[0m \u001b[0;31m# Fit the model\u001b[0m\u001b[0;34m\u001b[0m\u001b[0;34m\u001b[0m\u001b[0;34m\u001b[0m\u001b[0m\n\u001b[0;32m----> 6\u001b[0;31m \u001b[0mlsvcModel\u001b[0m \u001b[0;34m=\u001b[0m \u001b[0mpipeline\u001b[0m\u001b[0;34m.\u001b[0m\u001b[0mfit\u001b[0m\u001b[0;34m(\u001b[0m\u001b[0mtrainingData_\u001b[0m\u001b[0;34m)\u001b[0m\u001b[0;34m\u001b[0m\u001b[0;34m\u001b[0m\u001b[0m\n\u001b[0m",
      "\u001b[0;32m~/opt/anaconda3/lib/python3.8/site-packages/pyspark/ml/base.py\u001b[0m in \u001b[0;36mfit\u001b[0;34m(self, dataset, params)\u001b[0m\n\u001b[1;32m    159\u001b[0m                 \u001b[0;32mreturn\u001b[0m \u001b[0mself\u001b[0m\u001b[0;34m.\u001b[0m\u001b[0mcopy\u001b[0m\u001b[0;34m(\u001b[0m\u001b[0mparams\u001b[0m\u001b[0;34m)\u001b[0m\u001b[0;34m.\u001b[0m\u001b[0m_fit\u001b[0m\u001b[0;34m(\u001b[0m\u001b[0mdataset\u001b[0m\u001b[0;34m)\u001b[0m\u001b[0;34m\u001b[0m\u001b[0;34m\u001b[0m\u001b[0m\n\u001b[1;32m    160\u001b[0m             \u001b[0;32melse\u001b[0m\u001b[0;34m:\u001b[0m\u001b[0;34m\u001b[0m\u001b[0;34m\u001b[0m\u001b[0m\n\u001b[0;32m--> 161\u001b[0;31m                 \u001b[0;32mreturn\u001b[0m \u001b[0mself\u001b[0m\u001b[0;34m.\u001b[0m\u001b[0m_fit\u001b[0m\u001b[0;34m(\u001b[0m\u001b[0mdataset\u001b[0m\u001b[0;34m)\u001b[0m\u001b[0;34m\u001b[0m\u001b[0;34m\u001b[0m\u001b[0m\n\u001b[0m\u001b[1;32m    162\u001b[0m         \u001b[0;32melse\u001b[0m\u001b[0;34m:\u001b[0m\u001b[0;34m\u001b[0m\u001b[0;34m\u001b[0m\u001b[0m\n\u001b[1;32m    163\u001b[0m             raise ValueError(\"Params must be either a param map or a list/tuple of param maps, \"\n",
      "\u001b[0;32m~/opt/anaconda3/lib/python3.8/site-packages/pyspark/ml/pipeline.py\u001b[0m in \u001b[0;36m_fit\u001b[0;34m(self, dataset)\u001b[0m\n\u001b[1;32m     99\u001b[0m         \u001b[0;32mfor\u001b[0m \u001b[0mstage\u001b[0m \u001b[0;32min\u001b[0m \u001b[0mstages\u001b[0m\u001b[0;34m:\u001b[0m\u001b[0;34m\u001b[0m\u001b[0;34m\u001b[0m\u001b[0m\n\u001b[1;32m    100\u001b[0m             \u001b[0;32mif\u001b[0m \u001b[0;32mnot\u001b[0m \u001b[0;34m(\u001b[0m\u001b[0misinstance\u001b[0m\u001b[0;34m(\u001b[0m\u001b[0mstage\u001b[0m\u001b[0;34m,\u001b[0m \u001b[0mEstimator\u001b[0m\u001b[0;34m)\u001b[0m \u001b[0;32mor\u001b[0m \u001b[0misinstance\u001b[0m\u001b[0;34m(\u001b[0m\u001b[0mstage\u001b[0m\u001b[0;34m,\u001b[0m \u001b[0mTransformer\u001b[0m\u001b[0;34m)\u001b[0m\u001b[0;34m)\u001b[0m\u001b[0;34m:\u001b[0m\u001b[0;34m\u001b[0m\u001b[0;34m\u001b[0m\u001b[0m\n\u001b[0;32m--> 101\u001b[0;31m                 raise TypeError(\n\u001b[0m\u001b[1;32m    102\u001b[0m                     \"Cannot recognize a pipeline stage of type %s.\" % type(stage))\n\u001b[1;32m    103\u001b[0m         \u001b[0mindexOfLastEstimator\u001b[0m \u001b[0;34m=\u001b[0m \u001b[0;34m-\u001b[0m\u001b[0;36m1\u001b[0m\u001b[0;34m\u001b[0m\u001b[0;34m\u001b[0m\u001b[0m\n",
      "\u001b[0;31mTypeError\u001b[0m: Cannot recognize a pipeline stage of type <class 'abc.ABCMeta'>."
     ]
    }
   ],
   "source": [
    "lsvc = LinearSVC(maxIter=10, regParam=0.1)\n",
    "\n",
    "pipeline = Pipeline(stages=[assembler, LinearSVC])\n",
    "\n",
    "# Fit the model\n",
    "lsvcModel = pipeline.fit(trainingData_)"
   ]
  },
  {
   "cell_type": "code",
   "execution_count": null,
   "metadata": {},
   "outputs": [],
   "source": [
    "lsvcResult = lsvcModel.transform(testData)"
   ]
  },
  {
   "cell_type": "code",
   "execution_count": null,
   "metadata": {},
   "outputs": [],
   "source": [
    "# Print the coefficients and intercept for linear SVC\n",
    "print(\"Coefficients: \" + str(lsvcModel.coefficients))\n",
    "print(\"Intercept: \" + str(lsvcModel.intercept))"
   ]
  },
  {
   "cell_type": "code",
   "execution_count": 29,
   "metadata": {},
   "outputs": [
    {
     "ename": "AttributeError",
     "evalue": "'DataFrame' object has no attribute 'col'",
     "output_type": "error",
     "traceback": [
      "\u001b[0;31m---------------------------------------------------------------------------\u001b[0m",
      "\u001b[0;31mAttributeError\u001b[0m                            Traceback (most recent call last)",
      "\u001b[0;32m<ipython-input-29-17f95fb5f2af>\u001b[0m in \u001b[0;36m<module>\u001b[0;34m\u001b[0m\n\u001b[0;32m----> 1\u001b[0;31m \u001b[0mindividu\u001b[0m\u001b[0;34m.\u001b[0m\u001b[0mcol\u001b[0m\u001b[0;34m(\u001b[0m\u001b[0;34m\"echantillon_train_simbox.msisdn\"\u001b[0m\u001b[0;34m)\u001b[0m\u001b[0;34m\u001b[0m\u001b[0;34m\u001b[0m\u001b[0m\n\u001b[0m",
      "\u001b[0;32m~/opt/anaconda3/lib/python3.8/site-packages/pyspark/sql/dataframe.py\u001b[0m in \u001b[0;36m__getattr__\u001b[0;34m(self, name)\u001b[0m\n\u001b[1;32m   1641\u001b[0m         \"\"\"\n\u001b[1;32m   1642\u001b[0m         \u001b[0;32mif\u001b[0m \u001b[0mname\u001b[0m \u001b[0;32mnot\u001b[0m \u001b[0;32min\u001b[0m \u001b[0mself\u001b[0m\u001b[0;34m.\u001b[0m\u001b[0mcolumns\u001b[0m\u001b[0;34m:\u001b[0m\u001b[0;34m\u001b[0m\u001b[0;34m\u001b[0m\u001b[0m\n\u001b[0;32m-> 1643\u001b[0;31m             raise AttributeError(\n\u001b[0m\u001b[1;32m   1644\u001b[0m                 \"'%s' object has no attribute '%s'\" % (self.__class__.__name__, name))\n\u001b[1;32m   1645\u001b[0m         \u001b[0mjc\u001b[0m \u001b[0;34m=\u001b[0m \u001b[0mself\u001b[0m\u001b[0;34m.\u001b[0m\u001b[0m_jdf\u001b[0m\u001b[0;34m.\u001b[0m\u001b[0mapply\u001b[0m\u001b[0;34m(\u001b[0m\u001b[0mname\u001b[0m\u001b[0;34m)\u001b[0m\u001b[0;34m\u001b[0m\u001b[0;34m\u001b[0m\u001b[0m\n",
      "\u001b[0;31mAttributeError\u001b[0m: 'DataFrame' object has no attribute 'col'"
     ]
    }
   ],
   "source": []
  },
  {
   "cell_type": "code",
   "execution_count": null,
   "metadata": {},
   "outputs": [],
   "source": []
  }
 ],
 "metadata": {
  "kernelspec": {
   "display_name": "Python 3",
   "language": "python",
   "name": "python3"
  },
  "language_info": {
   "codemirror_mode": {
    "name": "ipython",
    "version": 3
   },
   "file_extension": ".py",
   "mimetype": "text/x-python",
   "name": "python",
   "nbconvert_exporter": "python",
   "pygments_lexer": "ipython3",
   "version": "3.8.5"
  }
 },
 "nbformat": 4,
 "nbformat_minor": 4
}
