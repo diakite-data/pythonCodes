{
 "cells": [
  {
   "cell_type": "code",
   "execution_count": 1,
   "metadata": {},
   "outputs": [],
   "source": [
    "from pyspark.ml.clustering import KMeans\n",
    "from pyspark.ml.evaluation import ClusteringEvaluator\n",
    "from pyspark.sql.functions import *\n",
    "from pyspark.sql.types import *\n",
    "from pyspark.ml.feature import *\n",
    "from pyspark.ml import Pipeline\n",
    "from pyspark.ml.classification import *\n",
    "from pyspark.ml.feature import IndexToString, StringIndexer, VectorIndexer\n",
    "from pyspark.ml.evaluation import MulticlassClassificationEvaluator\n",
    "from pyspark.ml.feature import VectorAssembler\n",
    "from pyspark.ml.evaluation import BinaryClassificationEvaluator\n",
    "from pyspark.ml.classification import MultilayerPerceptronClassifier\n",
    "from pyspark.ml.evaluation import MulticlassClassificationEvaluator\n",
    "from pyspark.mllib.evaluation import MulticlassMetrics\n",
    "from pyspark.sql import SparkSession\n",
    "from pyspark.ml.classification import LinearSVC\n",
    "from pyspark.ml.functions import vector_to_array\n",
    "import pandas as pd\n",
    "import numpy as np\n",
    "import os\n",
    "import pyarrow.parquet as pq\n",
    "from pyspark.ml.feature import StandardScaler\n",
    "from pyspark.sql.functions import mean as _mean, stddev as _stddev, col\n",
    "from math import *\n",
    "from pyspark.ml.clustering import BisectingKMeans\n",
    "from pyspark.ml.evaluation import ClusteringEvaluator\n",
    "from pyspark.ml.clustering import LDA\n",
    "\n",
    "spark = SparkSession.builder.master(\"local[1]\")\\\n",
    "          .appName(\"years\")\\\n",
    "          .getOrCreate()\n",
    "\n",
    "sc = spark.sparkContext\n",
    "sc.setLogLevel(\"ERROR\")"
   ]
  },
  {
   "cell_type": "code",
   "execution_count": 2,
   "metadata": {},
   "outputs": [
    {
     "name": "stdout",
     "output_type": "stream",
     "text": [
      "+----+-----+----------+---------+-------+----------+-------+----------+-------------+---------+-------+-----------------+--------------+-------+--------+--------+------+----+--------+------+-------+---------+----------------+--------+------------+------------+--------+-------------+-----------------+\n",
      "|Year|Month|DayofMonth|DayOfWeek|DepTime|CRSDepTime|ArrTime|CRSArrTime|UniqueCarrier|FlightNum|TailNum|ActualElapsedTime|CRSElapsedTime|AirTime|ArrDelay|DepDelay|Origin|Dest|Distance|TaxiIn|TaxiOut|Cancelled|CancellationCode|Diverted|CarrierDelay|WeatherDelay|NASDelay|SecurityDelay|LateAircraftDelay|\n",
      "+----+-----+----------+---------+-------+----------+-------+----------+-------------+---------+-------+-----------------+--------------+-------+--------+--------+------+----+--------+------+-------+---------+----------------+--------+------------+------------+--------+-------------+-----------------+\n",
      "|1990|    1|         3|        3|   1707|      1630|   1755|      1723|           US|       29|     NA|               48|            53|     NA|      32|      37|   CMH| IND|     182|    NA|     NA|        0|              NA|       0|          NA|          NA|      NA|           NA|               NA|\n",
      "|1990|    1|         4|        4|   1706|      1630|   1807|      1723|           US|       29|     NA|               61|            53|     NA|      44|      36|   CMH| IND|     182|    NA|     NA|        0|              NA|       0|          NA|          NA|      NA|           NA|               NA|\n",
      "+----+-----+----------+---------+-------+----------+-------+----------+-------------+---------+-------+-----------------+--------------+-------+--------+--------+------+----+--------+------+-------+---------+----------------+--------+------------+------------+--------+-------------+-----------------+\n",
      "only showing top 2 rows\n",
      "\n",
      "+----+-----+----------+---------+-------+----------+-------+----------+-------------+---------+-------+-----------------+--------------+-------+--------+--------+------+----+--------+------+-------+---------+----------------+--------+------------+------------+--------+-------------+-----------------+\n",
      "|Year|Month|DayofMonth|DayOfWeek|DepTime|CRSDepTime|ArrTime|CRSArrTime|UniqueCarrier|FlightNum|TailNum|ActualElapsedTime|CRSElapsedTime|AirTime|ArrDelay|DepDelay|Origin|Dest|Distance|TaxiIn|TaxiOut|Cancelled|CancellationCode|Diverted|CarrierDelay|WeatherDelay|NASDelay|SecurityDelay|LateAircraftDelay|\n",
      "+----+-----+----------+---------+-------+----------+-------+----------+-------------+---------+-------+-----------------+--------------+-------+--------+--------+------+----+--------+------+-------+---------+----------------+--------+------------+------------+--------+-------------+-----------------+\n",
      "|1993|    1|        29|        5|   1055|      1055|   1228|      1212|           US|       66|     NA|               93|            77|     NA|      16|       0|   EWR| BUF|     282|    NA|     NA|        0|              NA|       0|          NA|          NA|      NA|           NA|               NA|\n",
      "|1993|    1|        30|        6|   1052|      1055|   1214|      1212|           US|       66|     NA|               82|            77|     NA|       2|      -3|   EWR| BUF|     282|    NA|     NA|        0|              NA|       0|          NA|          NA|      NA|           NA|               NA|\n",
      "+----+-----+----------+---------+-------+----------+-------+----------+-------------+---------+-------+-----------------+--------------+-------+--------+--------+------+----+--------+------+-------+---------+----------------+--------+------------+------------+--------+-------------+-----------------+\n",
      "only showing top 2 rows\n",
      "\n",
      "+----+-----+----------+---------+-------+----------+-------+----------+-------------+---------+-------+-----------------+--------------+-------+--------+--------+------+----+--------+------+-------+---------+----------------+--------+------------+------------+--------+-------------+-----------------+\n",
      "|Year|Month|DayofMonth|DayOfWeek|DepTime|CRSDepTime|ArrTime|CRSArrTime|UniqueCarrier|FlightNum|TailNum|ActualElapsedTime|CRSElapsedTime|AirTime|ArrDelay|DepDelay|Origin|Dest|Distance|TaxiIn|TaxiOut|Cancelled|CancellationCode|Diverted|CarrierDelay|WeatherDelay|NASDelay|SecurityDelay|LateAircraftDelay|\n",
      "+----+-----+----------+---------+-------+----------+-------+----------+-------------+---------+-------+-----------------+--------------+-------+--------+--------+------+----+--------+------+-------+---------+----------------+--------+------------+------------+--------+-------------+-----------------+\n",
      "|1994|    1|         7|        5|    858|       900|    954|      1003|           US|      227|     NA|               56|            63|     NA|      -9|      -2|   CLT| ORF|     290|    NA|     NA|        0|              NA|       0|          NA|          NA|      NA|           NA|               NA|\n",
      "|1994|    1|         8|        6|    859|       900|    952|      1003|           US|      227|     NA|               53|            63|     NA|     -11|      -1|   CLT| ORF|     290|    NA|     NA|        0|              NA|       0|          NA|          NA|      NA|           NA|               NA|\n",
      "+----+-----+----------+---------+-------+----------+-------+----------+-------------+---------+-------+-----------------+--------------+-------+--------+--------+------+----+--------+------+-------+---------+----------------+--------+------------+------------+--------+-------------+-----------------+\n",
      "only showing top 2 rows\n",
      "\n",
      "+----+-----+----------+---------+-------+----------+-------+----------+-------------+---------+-------+-----------------+--------------+-------+--------+--------+------+----+--------+------+-------+---------+----------------+--------+------------+------------+--------+-------------+-----------------+\n",
      "|Year|Month|DayofMonth|DayOfWeek|DepTime|CRSDepTime|ArrTime|CRSArrTime|UniqueCarrier|FlightNum|TailNum|ActualElapsedTime|CRSElapsedTime|AirTime|ArrDelay|DepDelay|Origin|Dest|Distance|TaxiIn|TaxiOut|Cancelled|CancellationCode|Diverted|CarrierDelay|WeatherDelay|NASDelay|SecurityDelay|LateAircraftDelay|\n",
      "+----+-----+----------+---------+-------+----------+-------+----------+-------------+---------+-------+-----------------+--------------+-------+--------+--------+------+----+--------+------+-------+---------+----------------+--------+------------+------------+--------+-------------+-----------------+\n",
      "|1998|    1|        17|        6|    715|       715|    840|       840|           WN|       76|   N520|              145|           145|    137|       0|       0|   AUS| PHX|     872|     3|      5|        0|              NA|       0|          NA|          NA|      NA|           NA|               NA|\n",
      "|1998|    1|        18|        7|    715|       715|    830|       840|           WN|       76|   N302|              135|           145|    127|     -10|       0|   AUS| PHX|     872|     2|      6|        0|              NA|       0|          NA|          NA|      NA|           NA|               NA|\n",
      "+----+-----+----------+---------+-------+----------+-------+----------+-------------+---------+-------+-----------------+--------------+-------+--------+--------+------+----+--------+------+-------+---------+----------------+--------+------------+------------+--------+-------------+-----------------+\n",
      "only showing top 2 rows\n",
      "\n",
      "+----+-----+----------+---------+-------+----------+-------+----------+-------------+---------+-------+-----------------+--------------+-------+--------+--------+------+----+--------+------+-------+---------+----------------+--------+------------+------------+--------+-------------+-----------------+\n",
      "|Year|Month|DayofMonth|DayOfWeek|DepTime|CRSDepTime|ArrTime|CRSArrTime|UniqueCarrier|FlightNum|TailNum|ActualElapsedTime|CRSElapsedTime|AirTime|ArrDelay|DepDelay|Origin|Dest|Distance|TaxiIn|TaxiOut|Cancelled|CancellationCode|Diverted|CarrierDelay|WeatherDelay|NASDelay|SecurityDelay|LateAircraftDelay|\n",
      "+----+-----+----------+---------+-------+----------+-------+----------+-------------+---------+-------+-----------------+--------------+-------+--------+--------+------+----+--------+------+-------+---------+----------------+--------+------------+------------+--------+-------------+-----------------+\n",
      "|2007|    1|         1|        1|   1232|      1225|   1341|      1340|           WN|     2891|   N351|               69|            75|     54|       1|       7|   SMF| ONT|     389|     4|     11|        0|            null|       0|           0|           0|       0|            0|                0|\n",
      "|2007|    1|         1|        1|   1918|      1905|   2043|      2035|           WN|      462|   N370|               85|            90|     74|       8|      13|   SMF| PDX|     479|     5|      6|        0|            null|       0|           0|           0|       0|            0|                0|\n",
      "+----+-----+----------+---------+-------+----------+-------+----------+-------------+---------+-------+-----------------+--------------+-------+--------+--------+------+----+--------+------+-------+---------+----------------+--------+------------+------------+--------+-------------+-----------------+\n",
      "only showing top 2 rows\n",
      "\n",
      "+----+-----+----------+---------+-------+----------+-------+----------+-------------+---------+-------+-----------------+--------------+-------+--------+--------+------+----+--------+------+-------+---------+----------------+--------+------------+------------+--------+-------------+-----------------+\n",
      "|Year|Month|DayofMonth|DayOfWeek|DepTime|CRSDepTime|ArrTime|CRSArrTime|UniqueCarrier|FlightNum|TailNum|ActualElapsedTime|CRSElapsedTime|AirTime|ArrDelay|DepDelay|Origin|Dest|Distance|TaxiIn|TaxiOut|Cancelled|CancellationCode|Diverted|CarrierDelay|WeatherDelay|NASDelay|SecurityDelay|LateAircraftDelay|\n",
      "+----+-----+----------+---------+-------+----------+-------+----------+-------------+---------+-------+-----------------+--------------+-------+--------+--------+------+----+--------+------+-------+---------+----------------+--------+------------+------------+--------+-------------+-----------------+\n",
      "|2008|    1|         3|        4|   1343|      1325|   1451|      1435|           WN|      588| N240WN|               68|            70|     55|      16|      18|   HOU| LIT|     393|     4|      9|        0|            null|       0|          16|           0|       0|            0|                0|\n",
      "|2008|    1|         3|        4|   1125|      1120|   1247|      1245|           WN|     1343| N523SW|               82|            85|     71|       2|       5|   HOU| MAF|     441|     3|      8|        0|            null|       0|          NA|          NA|      NA|           NA|               NA|\n",
      "+----+-----+----------+---------+-------+----------+-------+----------+-------------+---------+-------+-----------------+--------------+-------+--------+--------+------+----+--------+------+-------+---------+----------------+--------+------------+------------+--------+-------------+-----------------+\n",
      "only showing top 2 rows\n",
      "\n"
     ]
    }
   ],
   "source": [
    "### Loading data\n",
    "\n",
    "df_1990 = spark.read.option(\"header\",\"true\").option(\"delimiter\", \",\").csv(\"/Users/youssouf/Downloads/1990.csv\")\n",
    "df_1990.show(2)\n",
    "\n",
    "df_1993 = spark.read.option(\"header\",\"true\").option(\"delimiter\", \",\").csv(\"/Users/youssouf/Downloads/1993.csv\")\n",
    "df_1993.show(2)\n",
    "\n",
    "df_1994 = spark.read.option(\"header\",\"true\").option(\"delimiter\", \",\").csv(\"/Users/youssouf/Downloads/1994.csv\")\n",
    "df_1994.show(2)\n",
    "\n",
    "df_1998 = spark.read.option(\"header\",\"true\").option(\"delimiter\", \",\").csv(\"/Users/youssouf/Downloads/1998.csv\")\n",
    "df_1998.show(2)\n",
    "\n",
    "df_2007 = spark.read.option(\"header\",\"true\").option(\"delimiter\", \",\").csv(\"/Users/youssouf/Downloads/2007.csv\")\n",
    "df_2007.show(2)\n",
    "\n",
    "df_2008 = spark.read.option(\"header\",\"true\").option(\"delimiter\", \",\").csv(\"/Users/youssouf/Downloads/2008.csv\")\n",
    "df_2008.show(2)\n"
   ]
  },
  {
   "cell_type": "code",
   "execution_count": null,
   "metadata": {},
   "outputs": [],
   "source": []
  },
  {
   "cell_type": "code",
   "execution_count": 3,
   "metadata": {},
   "outputs": [
    {
     "name": "stdout",
     "output_type": "stream",
     "text": [
      "+----+-----+----------+---------+-------+----------+-------+----------+-------------+---------+-------+-----------------+--------------+-------+--------+--------+------+----+--------+------+-------+---------+----------------+--------+------------+------------+--------+-------------+-----------------+\n",
      "|Year|Month|DayofMonth|DayOfWeek|DepTime|CRSDepTime|ArrTime|CRSArrTime|UniqueCarrier|FlightNum|TailNum|ActualElapsedTime|CRSElapsedTime|AirTime|ArrDelay|DepDelay|Origin|Dest|Distance|TaxiIn|TaxiOut|Cancelled|CancellationCode|Diverted|CarrierDelay|WeatherDelay|NASDelay|SecurityDelay|LateAircraftDelay|\n",
      "+----+-----+----------+---------+-------+----------+-------+----------+-------------+---------+-------+-----------------+--------------+-------+--------+--------+------+----+--------+------+-------+---------+----------------+--------+------------+------------+--------+-------------+-----------------+\n",
      "|1990|    1|         6|        6|   1633|      1630|   1718|      1723|           US|       29|     NA|               45|            53|     NA|      -5|       3|   CMH| IND|     182|    NA|     NA|        0|              NA|       0|          NA|          NA|      NA|           NA|               NA|\n",
      "|1990|    1|        13|        6|   1430|      1430|   1547|      1554|           US|       29|     NA|               77|            84|     NA|      -7|       0|   PHL| CMH|     405|    NA|     NA|        0|              NA|       0|          NA|          NA|      NA|           NA|               NA|\n",
      "+----+-----+----------+---------+-------+----------+-------+----------+-------------+---------+-------+-----------------+--------------+-------+--------+--------+------+----+--------+------+-------+---------+----------------+--------+------------+------------+--------+-------------+-----------------+\n",
      "only showing top 2 rows\n",
      "\n"
     ]
    }
   ],
   "source": [
    "### Sample of data\n",
    "\n",
    "df_sample_1990 = df_1990.sample(fraction = 0.006)\n",
    "list_df = [df_1993 ,df_1994, df_1998, df_2007, df_2008]\n",
    "\n",
    "for df in list_df :\n",
    "    df_sample_tmp = df.sample(fraction = 0.006)\n",
    "    df_final_tmp = df_sample_1990.union(df_sample_tmp)\n",
    "        \n",
    "df_final = df_final_tmp\n",
    "df_final.show(2)"
   ]
  },
  {
   "cell_type": "code",
   "execution_count": 4,
   "metadata": {},
   "outputs": [
    {
     "name": "stdout",
     "output_type": "stream",
     "text": [
      "+----+-----+----------+---------+-------+----------+-------+----------+-------------+---------+-------+-----------------+--------------+-------+--------+--------+------+----+--------+------+-------+---------+----------------+--------+------------+------------+--------+-------------+-----------------+\n",
      "|Year|Month|DayofMonth|DayOfWeek|DepTime|CRSDepTime|ArrTime|CRSArrTime|UniqueCarrier|FlightNum|TailNum|ActualElapsedTime|CRSElapsedTime|AirTime|ArrDelay|DepDelay|Origin|Dest|Distance|TaxiIn|TaxiOut|Cancelled|CancellationCode|Diverted|CarrierDelay|WeatherDelay|NASDelay|SecurityDelay|LateAircraftDelay|\n",
      "+----+-----+----------+---------+-------+----------+-------+----------+-------------+---------+-------+-----------------+--------------+-------+--------+--------+------+----+--------+------+-------+---------+----------------+--------+------------+------------+--------+-------------+-----------------+\n",
      "|   0|    0|         0|        0|      0|         0|      0|         0|            0|        0|    276|                0|             0|      0|       0|       0|     0|   0|       0|     0|      0|        0|           13921|       0|           0|           0|       0|            0|                0|\n",
      "+----+-----+----------+---------+-------+----------+-------+----------+-------------+---------+-------+-----------------+--------------+-------+--------+--------+------+----+--------+------+-------+---------+----------------+--------+------------+------------+--------+-------------+-----------------+\n",
      "\n"
     ]
    }
   ],
   "source": [
    "# Count Na values per column\n",
    "df_final.select([count(when(isnull(c), c)).alias(c) for c in df_final.columns]).show()\n"
   ]
  },
  {
   "cell_type": "code",
   "execution_count": null,
   "metadata": {},
   "outputs": [],
   "source": []
  },
  {
   "cell_type": "code",
   "execution_count": 5,
   "metadata": {},
   "outputs": [],
   "source": [
    "# Drop columns TailNum, \n",
    "df_final = df_final.drop(\"TailNum\", \"CancellationCode\", \"UniqueCarrier\", \"Origin\", \"Dest\")\n"
   ]
  },
  {
   "cell_type": "code",
   "execution_count": 6,
   "metadata": {},
   "outputs": [
    {
     "name": "stdout",
     "output_type": "stream",
     "text": [
      "+----+-----+----------+---------+-------+----------+-------+----------+---------+-----------------+--------------+-------+--------+--------+--------+------+-------+---------+--------+------------+------------+--------+-------------+-----------------+\n",
      "|Year|Month|DayofMonth|DayOfWeek|DepTime|CRSDepTime|ArrTime|CRSArrTime|FlightNum|ActualElapsedTime|CRSElapsedTime|AirTime|ArrDelay|DepDelay|Distance|TaxiIn|TaxiOut|Cancelled|Diverted|CarrierDelay|WeatherDelay|NASDelay|SecurityDelay|LateAircraftDelay|\n",
      "+----+-----+----------+---------+-------+----------+-------+----------+---------+-----------------+--------------+-------+--------+--------+--------+------+-------+---------+--------+------------+------------+--------+-------------+-----------------+\n",
      "|   0|    0|         0|        0|      0|         0|      0|         0|        0|                0|             0|      0|       0|       0|       0|     0|      0|        0|       0|           0|           0|       0|            0|                0|\n",
      "+----+-----+----------+---------+-------+----------+-------+----------+---------+-----------------+--------------+-------+--------+--------+--------+------+-------+---------+--------+------------+------------+--------+-------------+-----------------+\n",
      "\n"
     ]
    }
   ],
   "source": [
    "# Check na values\n",
    "df_final.select([count(when(isnull(c), c)).alias(c) for c in df_final.columns]).show()\n"
   ]
  },
  {
   "cell_type": "code",
   "execution_count": 7,
   "metadata": {},
   "outputs": [],
   "source": [
    "## Fill na values\n",
    "df_final = df_final.na.fill(0)\n",
    "df_final = df_final.fillna(0)\n",
    "df_final = df_final.replace('null' , str(0))\n",
    "df_final = df_final.replace('NA' , str(0))\n"
   ]
  },
  {
   "cell_type": "code",
   "execution_count": 8,
   "metadata": {},
   "outputs": [
    {
     "name": "stdout",
     "output_type": "stream",
     "text": [
      "+----+-----+----------+---------+-------+----------+-------+----------+---------+-----------------+--------------+-------+--------+--------+--------+------+-------+---------+--------+------------+------------+--------+-------------+-----------------+\n",
      "|Year|Month|DayofMonth|DayOfWeek|DepTime|CRSDepTime|ArrTime|CRSArrTime|FlightNum|ActualElapsedTime|CRSElapsedTime|AirTime|ArrDelay|DepDelay|Distance|TaxiIn|TaxiOut|Cancelled|Diverted|CarrierDelay|WeatherDelay|NASDelay|SecurityDelay|LateAircraftDelay|\n",
      "+----+-----+----------+---------+-------+----------+-------+----------+---------+-----------------+--------------+-------+--------+--------+--------+------+-------+---------+--------+------------+------------+--------+-------------+-----------------+\n",
      "|1990|    1|         6|        6|   1633|      1630|   1718|      1723|       29|               45|            53|      0|      -5|       3|     182|     0|      0|        0|       0|           0|           0|       0|            0|                0|\n",
      "|1990|    1|        13|        6|   1430|      1430|   1547|      1554|       29|               77|            84|      0|      -7|       0|     405|     0|      0|        0|       0|           0|           0|       0|            0|                0|\n",
      "+----+-----+----------+---------+-------+----------+-------+----------+---------+-----------------+--------------+-------+--------+--------+--------+------+-------+---------+--------+------------+------------+--------+-------------+-----------------+\n",
      "only showing top 2 rows\n",
      "\n"
     ]
    }
   ],
   "source": [
    "df_final.show(2)"
   ]
  },
  {
   "cell_type": "code",
   "execution_count": 9,
   "metadata": {},
   "outputs": [],
   "source": [
    "liste_columns = ['Year','Month','DayofMonth','DayOfWeek','DepTime','CRSDepTime','ArrTime',\n",
    " 'CRSArrTime','FlightNum','ActualElapsedTime','CRSElapsedTime','AirTime',\n",
    " 'ArrDelay','DepDelay','Distance','TaxiIn','TaxiOut','Cancelled','Diverted',\n",
    " 'CarrierDelay','WeatherDelay','NASDelay', 'SecurityDelay','LateAircraftDelay']\n",
    "\n",
    "# columns_to_non_cast = [\"UniqueCarrier\", \"Origin\", \"Dest\"]\n",
    "# - set(columns_to_non_cast)\n",
    "columns_to_cast = list(set(liste_columns))\n",
    "\n",
    "for cl in columns_to_cast:\n",
    "    df_final = df_final.withColumn(cl, col(cl).cast(DoubleType()))"
   ]
  },
  {
   "cell_type": "code",
   "execution_count": 10,
   "metadata": {},
   "outputs": [],
   "source": [
    "df_final = df_final.withColumn(\"Delayed\", when((col(\"ArrDelay\") <= 0) & (col(\"DepDelay\") <= 0), \"N\").otherwise(\"Y\"))"
   ]
  },
  {
   "cell_type": "code",
   "execution_count": null,
   "metadata": {},
   "outputs": [],
   "source": []
  },
  {
   "cell_type": "code",
   "execution_count": 11,
   "metadata": {},
   "outputs": [
    {
     "name": "stdout",
     "output_type": "stream",
     "text": [
      "+------+-----+----------+---------+-------+----------+-------+----------+---------+-----------------+--------------+-------+--------+--------+--------+------+-------+---------+--------+------------+------------+--------+-------------+-----------------+-------+\n",
      "|  Year|Month|DayofMonth|DayOfWeek|DepTime|CRSDepTime|ArrTime|CRSArrTime|FlightNum|ActualElapsedTime|CRSElapsedTime|AirTime|ArrDelay|DepDelay|Distance|TaxiIn|TaxiOut|Cancelled|Diverted|CarrierDelay|WeatherDelay|NASDelay|SecurityDelay|LateAircraftDelay|Delayed|\n",
      "+------+-----+----------+---------+-------+----------+-------+----------+---------+-----------------+--------------+-------+--------+--------+--------+------+-------+---------+--------+------------+------------+--------+-------------+-----------------+-------+\n",
      "|1990.0|  1.0|       6.0|      6.0| 1633.0|    1630.0| 1718.0|    1723.0|     29.0|             45.0|          53.0|    0.0|    -5.0|     3.0|   182.0|   0.0|    0.0|      0.0|     0.0|         0.0|         0.0|     0.0|          0.0|              0.0|      Y|\n",
      "|1990.0|  1.0|      13.0|      6.0| 1430.0|    1430.0| 1547.0|    1554.0|     29.0|             77.0|          84.0|    0.0|    -7.0|     0.0|   405.0|   0.0|    0.0|      0.0|     0.0|         0.0|         0.0|     0.0|          0.0|              0.0|      N|\n",
      "+------+-----+----------+---------+-------+----------+-------+----------+---------+-----------------+--------------+-------+--------+--------+--------+------+-------+---------+--------+------------+------------+--------+-------------+-----------------+-------+\n",
      "only showing top 2 rows\n",
      "\n"
     ]
    }
   ],
   "source": [
    "df_final.show(2)"
   ]
  },
  {
   "cell_type": "code",
   "execution_count": 12,
   "metadata": {},
   "outputs": [
    {
     "name": "stdout",
     "output_type": "stream",
     "text": [
      "+-------+-----+\n",
      "|Delayed|count|\n",
      "+-------+-----+\n",
      "|      Y|27821|\n",
      "|      N|18210|\n",
      "+-------+-----+\n",
      "\n"
     ]
    }
   ],
   "source": [
    "### Count Number of Delayed\n",
    "df_final.groupBy(\"Delayed\").count().show()"
   ]
  },
  {
   "cell_type": "markdown",
   "metadata": {},
   "source": [
    "We are not in a case of unbalanced data"
   ]
  },
  {
   "cell_type": "code",
   "execution_count": 13,
   "metadata": {},
   "outputs": [
    {
     "name": "stdout",
     "output_type": "stream",
     "text": [
      "+------+-----+----------+---------+-------+----------+-------+----------+---------+-----------------+--------------+-------+--------+--------+--------+------+-------+---------+--------+------------+------------+--------+-------------+-----------------+-------+\n",
      "|  Year|Month|DayofMonth|DayOfWeek|DepTime|CRSDepTime|ArrTime|CRSArrTime|FlightNum|ActualElapsedTime|CRSElapsedTime|AirTime|ArrDelay|DepDelay|Distance|TaxiIn|TaxiOut|Cancelled|Diverted|CarrierDelay|WeatherDelay|NASDelay|SecurityDelay|LateAircraftDelay|Delayed|\n",
      "+------+-----+----------+---------+-------+----------+-------+----------+---------+-----------------+--------------+-------+--------+--------+--------+------+-------+---------+--------+------------+------------+--------+-------------+-----------------+-------+\n",
      "|1990.0|  1.0|       6.0|      6.0| 1633.0|    1630.0| 1718.0|    1723.0|     29.0|             45.0|          53.0|    0.0|    -5.0|     3.0|   182.0|   0.0|    0.0|      0.0|     0.0|         0.0|         0.0|     0.0|          0.0|              0.0|    1.0|\n",
      "|1990.0|  1.0|      13.0|      6.0| 1430.0|    1430.0| 1547.0|    1554.0|     29.0|             77.0|          84.0|    0.0|    -7.0|     0.0|   405.0|   0.0|    0.0|      0.0|     0.0|         0.0|         0.0|     0.0|          0.0|              0.0|    0.0|\n",
      "+------+-----+----------+---------+-------+----------+-------+----------+---------+-----------------+--------------+-------+--------+--------+--------+------+-------+---------+--------+------------+------------+--------+-------------+-----------------+-------+\n",
      "only showing top 2 rows\n",
      "\n"
     ]
    }
   ],
   "source": [
    "### Renaming N = 0 and Y = 1\n",
    "df_final = df_final.withColumn(\"Delayed\", when(col(\"Delayed\") == \"Y\", 1).otherwise(0)) \\\n",
    "                    .withColumn(\"Delayed\", col(\"Delayed\").cast(DoubleType()))\n",
    "\n",
    "\n",
    "df_final.show(2)"
   ]
  },
  {
   "cell_type": "code",
   "execution_count": 14,
   "metadata": {},
   "outputs": [
    {
     "name": "stdout",
     "output_type": "stream",
     "text": [
      "root\n",
      " |-- Year: double (nullable = true)\n",
      " |-- Month: double (nullable = true)\n",
      " |-- DayofMonth: double (nullable = true)\n",
      " |-- DayOfWeek: double (nullable = true)\n",
      " |-- DepTime: double (nullable = true)\n",
      " |-- CRSDepTime: double (nullable = true)\n",
      " |-- ArrTime: double (nullable = true)\n",
      " |-- CRSArrTime: double (nullable = true)\n",
      " |-- FlightNum: double (nullable = true)\n",
      " |-- ActualElapsedTime: double (nullable = true)\n",
      " |-- CRSElapsedTime: double (nullable = true)\n",
      " |-- AirTime: double (nullable = true)\n",
      " |-- ArrDelay: double (nullable = true)\n",
      " |-- DepDelay: double (nullable = true)\n",
      " |-- Distance: double (nullable = true)\n",
      " |-- TaxiIn: double (nullable = true)\n",
      " |-- TaxiOut: double (nullable = true)\n",
      " |-- Cancelled: double (nullable = true)\n",
      " |-- Diverted: double (nullable = true)\n",
      " |-- CarrierDelay: double (nullable = true)\n",
      " |-- WeatherDelay: double (nullable = true)\n",
      " |-- NASDelay: double (nullable = true)\n",
      " |-- SecurityDelay: double (nullable = true)\n",
      " |-- LateAircraftDelay: double (nullable = true)\n",
      " |-- Delayed: double (nullable = false)\n",
      "\n"
     ]
    }
   ],
   "source": [
    "df_final.printSchema()"
   ]
  },
  {
   "cell_type": "code",
   "execution_count": null,
   "metadata": {},
   "outputs": [],
   "source": []
  },
  {
   "cell_type": "code",
   "execution_count": 15,
   "metadata": {},
   "outputs": [],
   "source": [
    "### Vectorisation\n",
    "#unwanted = {'Delayed_New', 'Delayed', \"UniqueCarrier\", \"Origin\", \"Dest\", \"TailNum\", \"CancellationCode\"}\n",
    "#inputcol = [e for e in liste_columns if e not in unwanted]\n",
    "\n",
    "#string_indexer1 = StringIndexer(inputCol = \"UniqueCarrier\", outputCol = \"UniqueCarrierIndex\")\n",
    "\n",
    "#string_indexer2 = StringIndexer(inputCol = \"Origin\", outputCol = \"OriginIndex\")\n",
    "\n",
    "#string_indexer3 = StringIndexer(inputCol = \"Dest\", outputCol = \"DestIndex\")\n",
    "\n",
    "#string_indexer4 = StringIndexer(inputCol = \"TailNum\", outputCol = \"DestIndex\")\n",
    "\n",
    "#string_indexer5 = StringIndexer(inputCol = \"CancellationCode\", outputCol = \"CancellationCodeIndex\")\n",
    "\n",
    "vector_assembler = VectorAssembler(inputCols=liste_columns , outputCol=\"features\").setHandleInvalid(\"keep\")\n"
   ]
  },
  {
   "cell_type": "code",
   "execution_count": null,
   "metadata": {},
   "outputs": [],
   "source": []
  },
  {
   "cell_type": "code",
   "execution_count": 16,
   "metadata": {},
   "outputs": [],
   "source": [
    "### Split train , test\n",
    "train, test = df_final.randomSplit([0.75 , 0.25], seed=12345)"
   ]
  },
  {
   "cell_type": "code",
   "execution_count": null,
   "metadata": {},
   "outputs": [],
   "source": []
  },
  {
   "cell_type": "code",
   "execution_count": 17,
   "metadata": {},
   "outputs": [],
   "source": [
    "### Metrics of models\n",
    "def metrics_model(method, label, train_data, test_data):\n",
    "    skill = method\n",
    "\n",
    "    train, test = train_data, test_data\n",
    "\n",
    "    pipeline = Pipeline(stages=[vector_assembler, skill])\n",
    "\n",
    "    model = pipeline.fit(train)\n",
    "\n",
    "    predictions = model.transform(test)\n",
    "\n",
    "    results = predictions.select(['prediction', label])\n",
    "\n",
    "    predictionAndLabels = results.rdd\n",
    "\n",
    "    metrics = MulticlassMetrics(predictionAndLabels)\n",
    "\n",
    "    cm = metrics.confusionMatrix().toArray()\n",
    "\n",
    "    accuracy = (cm[0][0] + cm[1][1]) / cm.sum()\n",
    "\n",
    "    precision = (cm[0][0]) / (cm[0][0] + cm[1][0])\n",
    "\n",
    "    recall = (cm[0][0]) / (cm[0][0] + cm[0][1])\n",
    "\n",
    "    f1score = 2*((precision*recall)/(precision+recall))\n",
    "\n",
    "    evaluator = BinaryClassificationEvaluator(rawPredictionCol=\"rawPrediction\",\n",
    "                                           labelCol=label)\n",
    "\n",
    "    AUC = evaluator.evaluate(predictions)\n",
    "\n",
    "    result = {\"Accuracy\": accuracy, \"precision\": precision, \"recall\": recall, \"AUC\": AUC, \"F1score\": f1score}\n",
    "\n",
    "    dico_result = {\"METRIQUES\" : result, \"MATRICE DE CONFUSION\": cm }\n",
    "\n",
    "    return dico_result"
   ]
  },
  {
   "cell_type": "code",
   "execution_count": 18,
   "metadata": {},
   "outputs": [],
   "source": [
    "### Models\n",
    "\n",
    "rf = RandomForestClassifier(labelCol=\"Delayed\", featuresCol=\"features\", numTrees=100, impurity='gini', maxBins=20)\n",
    "\n",
    "dt = DecisionTreeClassifier(labelCol=\"Delayed\", featuresCol=\"features\", impurity='gini', maxDepth=2, maxBins=20)\n",
    "\n",
    "lr = LogisticRegression(maxIter=10, regParam=0.3, elasticNetParam=0.8, labelCol='Delayed')\n"
   ]
  },
  {
   "cell_type": "code",
   "execution_count": 19,
   "metadata": {},
   "outputs": [
    {
     "data": {
      "text/plain": [
       "{'METRIQUES': {'Accuracy': 1.0,\n",
       "  'precision': 1.0,\n",
       "  'recall': 1.0,\n",
       "  'AUC': 0.999999873213097,\n",
       "  'F1score': 1.0},\n",
       " 'MATRICE DE CONFUSION': array([[4507.,    0.],\n",
       "        [   0., 7000.]])}"
      ]
     },
     "execution_count": 19,
     "metadata": {},
     "output_type": "execute_result"
    }
   ],
   "source": [
    "### Random Forest\n",
    "metrics_model(rf, \"Delayed\", train, test)"
   ]
  },
  {
   "cell_type": "code",
   "execution_count": null,
   "metadata": {},
   "outputs": [],
   "source": []
  },
  {
   "cell_type": "code",
   "execution_count": 20,
   "metadata": {},
   "outputs": [
    {
     "data": {
      "text/plain": [
       "{'METRIQUES': {'Accuracy': 1.0,\n",
       "  'precision': 1.0,\n",
       "  'recall': 1.0,\n",
       "  'AUC': 1.0,\n",
       "  'F1score': 1.0},\n",
       " 'MATRICE DE CONFUSION': array([[4507.,    0.],\n",
       "        [   0., 7000.]])}"
      ]
     },
     "execution_count": 20,
     "metadata": {},
     "output_type": "execute_result"
    }
   ],
   "source": [
    "### Decision Tree\n",
    "metrics_model(dt, \"Delayed\", train, test)"
   ]
  },
  {
   "cell_type": "code",
   "execution_count": null,
   "metadata": {},
   "outputs": [],
   "source": []
  },
  {
   "cell_type": "code",
   "execution_count": 21,
   "metadata": {},
   "outputs": [
    {
     "name": "stderr",
     "output_type": "stream",
     "text": [
      "<ipython-input-17-7ec2887359af>:23: RuntimeWarning: invalid value encountered in double_scalars\n",
      "  precision = (cm[0][0]) / (cm[0][0] + cm[1][0])\n"
     ]
    },
    {
     "data": {
      "text/plain": [
       "{'METRIQUES': {'Accuracy': 0.6083253671678109,\n",
       "  'precision': nan,\n",
       "  'recall': 0.0,\n",
       "  'AUC': 0.5,\n",
       "  'F1score': nan},\n",
       " 'MATRICE DE CONFUSION': array([[   0., 4507.],\n",
       "        [   0., 7000.]])}"
      ]
     },
     "execution_count": 21,
     "metadata": {},
     "output_type": "execute_result"
    }
   ],
   "source": [
    "### Logistic Regression\n",
    "metrics_model(lr, \"Delayed\", train, test)"
   ]
  },
  {
   "cell_type": "code",
   "execution_count": null,
   "metadata": {},
   "outputs": [],
   "source": []
  },
  {
   "cell_type": "code",
   "execution_count": null,
   "metadata": {},
   "outputs": [],
   "source": []
  },
  {
   "cell_type": "code",
   "execution_count": null,
   "metadata": {},
   "outputs": [],
   "source": []
  },
  {
   "cell_type": "code",
   "execution_count": null,
   "metadata": {},
   "outputs": [],
   "source": []
  },
  {
   "cell_type": "code",
   "execution_count": null,
   "metadata": {},
   "outputs": [],
   "source": []
  },
  {
   "cell_type": "code",
   "execution_count": null,
   "metadata": {},
   "outputs": [],
   "source": []
  },
  {
   "cell_type": "code",
   "execution_count": null,
   "metadata": {},
   "outputs": [],
   "source": []
  },
  {
   "cell_type": "code",
   "execution_count": null,
   "metadata": {},
   "outputs": [],
   "source": []
  },
  {
   "cell_type": "code",
   "execution_count": null,
   "metadata": {},
   "outputs": [],
   "source": []
  },
  {
   "cell_type": "code",
   "execution_count": null,
   "metadata": {},
   "outputs": [],
   "source": []
  },
  {
   "cell_type": "code",
   "execution_count": null,
   "metadata": {},
   "outputs": [],
   "source": []
  },
  {
   "cell_type": "code",
   "execution_count": null,
   "metadata": {},
   "outputs": [],
   "source": []
  },
  {
   "cell_type": "code",
   "execution_count": null,
   "metadata": {},
   "outputs": [],
   "source": []
  },
  {
   "cell_type": "code",
   "execution_count": null,
   "metadata": {},
   "outputs": [],
   "source": []
  },
  {
   "cell_type": "code",
   "execution_count": null,
   "metadata": {},
   "outputs": [],
   "source": []
  },
  {
   "cell_type": "code",
   "execution_count": null,
   "metadata": {},
   "outputs": [],
   "source": []
  },
  {
   "cell_type": "code",
   "execution_count": null,
   "metadata": {},
   "outputs": [],
   "source": []
  },
  {
   "cell_type": "code",
   "execution_count": null,
   "metadata": {},
   "outputs": [],
   "source": []
  },
  {
   "cell_type": "code",
   "execution_count": null,
   "metadata": {},
   "outputs": [],
   "source": []
  },
  {
   "cell_type": "code",
   "execution_count": null,
   "metadata": {},
   "outputs": [],
   "source": []
  },
  {
   "cell_type": "code",
   "execution_count": null,
   "metadata": {},
   "outputs": [],
   "source": []
  },
  {
   "cell_type": "code",
   "execution_count": 7,
   "metadata": {},
   "outputs": [],
   "source": [
    "from kafka import KafkaAdminClient"
   ]
  },
  {
   "cell_type": "code",
   "execution_count": 26,
   "metadata": {},
   "outputs": [
    {
     "data": {
      "text/plain": [
       "DeleteTopicsResponse_v3(throttle_time_ms=0, topic_error_codes=[(topic='test2', error_code=0)])"
      ]
     },
     "execution_count": 26,
     "metadata": {},
     "output_type": "execute_result"
    }
   ],
   "source": [
    "KafkaAdminClient(bootstrap_servers = 'localhost:9092').delete_topics(topics = [\"test2\"])"
   ]
  },
  {
   "cell_type": "code",
   "execution_count": null,
   "metadata": {},
   "outputs": [],
   "source": [
    "kafka_servers = \"localhost:9092\"\n",
    "client = KafkaClient(bootstrap_servers=kafka_servers)\n",
    "# [...] getting broker_topics\n",
    "admin_client = KafkaAdminClient(bootstrap_servers=kafka_servers)\n",
    "if topic_name in broker_topics:\n",
    "    deletion = admin_client.delete_topics([topic_name])\n",
    "    try:\n",
    "        future = client.cluster.request_update()\n",
    "        client.poll(future=future)\n",
    "    except KafkaError as e:\n",
    "        print(e)\n",
    "        pass\n",
    "admin_client.create_topics(new_topics=\"test2\", validate_only=False)"
   ]
  },
  {
   "cell_type": "code",
   "execution_count": 27,
   "metadata": {},
   "outputs": [],
   "source": [
    "#KafkaAdminClient(bootstrap_servers = 'localhost:9092').create_topics(new_topics=[\"test2\"], validate_only=False)"
   ]
  },
  {
   "cell_type": "code",
   "execution_count": null,
   "metadata": {},
   "outputs": [],
   "source": []
  }
 ],
 "metadata": {
  "kernelspec": {
   "display_name": "Python 3",
   "language": "python",
   "name": "python3"
  },
  "language_info": {
   "codemirror_mode": {
    "name": "ipython",
    "version": 3
   },
   "file_extension": ".py",
   "mimetype": "text/x-python",
   "name": "python",
   "nbconvert_exporter": "python",
   "pygments_lexer": "ipython3",
   "version": "3.8.5"
  }
 },
 "nbformat": 4,
 "nbformat_minor": 4
}
