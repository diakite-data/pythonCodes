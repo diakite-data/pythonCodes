{
 "cells": [
  {
   "cell_type": "code",
   "execution_count": 2,
   "metadata": {},
   "outputs": [],
   "source": [
    "import pandas as pd\n",
    "import os\n",
    "import re\n",
    "from statistics import mean\n",
    "from collections import Counter"
   ]
  },
  {
   "cell_type": "markdown",
   "metadata": {},
   "source": [
    "## General Variables"
   ]
  },
  {
   "cell_type": "code",
   "execution_count": 2,
   "metadata": {},
   "outputs": [],
   "source": [
    "DATA_DIR = 'data/' # directory where any files are saved"
   ]
  },
  {
   "cell_type": "code",
   "execution_count": null,
   "metadata": {},
   "outputs": [],
   "source": []
  },
  {
   "cell_type": "code",
   "execution_count": null,
   "metadata": {},
   "outputs": [],
   "source": []
  },
  {
   "cell_type": "code",
   "execution_count": 27,
   "metadata": {},
   "outputs": [],
   "source": [
    "def reverse_int(x):\n",
    "    if \"-\" in str(x) :\n",
    "        return int('-'+ str(x)[:0:-1])\n",
    "    return int(str(x)[::-1])  "
   ]
  },
  {
   "cell_type": "code",
   "execution_count": 28,
   "metadata": {},
   "outputs": [
    {
     "name": "stdout",
     "output_type": "stream",
     "text": [
      "-976\n",
      "2387\n"
     ]
    }
   ],
   "source": [
    "print(reverse_int(-679))\n",
    "print(reverse_int(7832))"
   ]
  },
  {
   "cell_type": "markdown",
   "metadata": {},
   "source": [
    "Q2. Complete the segment of code to save the dataframe generated below to a file named sample_data.csv in the directory given by the DATA_DIR variable defined earlier above. If the directory does not yet exist then it should be created. Substitute or replace any strings as indicated.\n",
    "\n",
    "First, run the following segment:"
   ]
  },
  {
   "cell_type": "code",
   "execution_count": 74,
   "metadata": {},
   "outputs": [
    {
     "data": {
      "text/html": [
       "<div>\n",
       "<style scoped>\n",
       "    .dataframe tbody tr th:only-of-type {\n",
       "        vertical-align: middle;\n",
       "    }\n",
       "\n",
       "    .dataframe tbody tr th {\n",
       "        vertical-align: top;\n",
       "    }\n",
       "\n",
       "    .dataframe thead th {\n",
       "        text-align: right;\n",
       "    }\n",
       "</style>\n",
       "<table border=\"1\" class=\"dataframe\">\n",
       "  <thead>\n",
       "    <tr style=\"text-align: right;\">\n",
       "      <th></th>\n",
       "      <th>city</th>\n",
       "      <th>population</th>\n",
       "    </tr>\n",
       "  </thead>\n",
       "  <tbody>\n",
       "    <tr>\n",
       "      <th>2</th>\n",
       "      <td>Accra</td>\n",
       "      <td>1963264</td>\n",
       "    </tr>\n",
       "    <tr>\n",
       "      <th>3</th>\n",
       "      <td>Achiaman</td>\n",
       "      <td>202932</td>\n",
       "    </tr>\n",
       "    <tr>\n",
       "      <th>5</th>\n",
       "      <td>Cape Coast</td>\n",
       "      <td>143015</td>\n",
       "    </tr>\n",
       "    <tr>\n",
       "      <th>10</th>\n",
       "      <td>Japekrom</td>\n",
       "      <td>96000</td>\n",
       "    </tr>\n",
       "    <tr>\n",
       "      <th>9</th>\n",
       "      <td>Koforidua</td>\n",
       "      <td>96266</td>\n",
       "    </tr>\n",
       "    <tr>\n",
       "      <th>11</th>\n",
       "      <td>Kumasi</td>\n",
       "      <td>1468609</td>\n",
       "    </tr>\n",
       "    <tr>\n",
       "      <th>8</th>\n",
       "      <td>Medina Estates</td>\n",
       "      <td>101207</td>\n",
       "    </tr>\n",
       "    <tr>\n",
       "      <th>7</th>\n",
       "      <td>Obuase</td>\n",
       "      <td>137856</td>\n",
       "    </tr>\n",
       "    <tr>\n",
       "      <th>6</th>\n",
       "      <td>Sekondi-Takoradi</td>\n",
       "      <td>138872</td>\n",
       "    </tr>\n",
       "    <tr>\n",
       "      <th>1</th>\n",
       "      <td>Takoradze</td>\n",
       "      <td>232919</td>\n",
       "    </tr>\n",
       "    <tr>\n",
       "      <th>0</th>\n",
       "      <td>Tamale</td>\n",
       "      <td>360579</td>\n",
       "    </tr>\n",
       "    <tr>\n",
       "      <th>4</th>\n",
       "      <td>Tema</td>\n",
       "      <td>155782</td>\n",
       "    </tr>\n",
       "  </tbody>\n",
       "</table>\n",
       "</div>"
      ],
      "text/plain": [
       "                city  population\n",
       "2              Accra     1963264\n",
       "3           Achiaman      202932\n",
       "5         Cape Coast      143015\n",
       "10          Japekrom       96000\n",
       "9          Koforidua       96266\n",
       "11            Kumasi     1468609\n",
       "8     Medina Estates      101207\n",
       "7             Obuase      137856\n",
       "6   Sekondi-Takoradi      138872\n",
       "1          Takoradze      232919\n",
       "0             Tamale      360579\n",
       "4               Tema      155782"
      ]
     },
     "execution_count": 74,
     "metadata": {},
     "output_type": "execute_result"
    }
   ],
   "source": [
    "cities = ['Tamale', 'Takoradze', 'Accra', 'Achiaman', 'Tema', 'Cape Coast', \\\n",
    "          'Sekondi-Takoradi', 'Obuase', 'Medina Estates', 'Koforidua', 'Japekrom', 'Kumasi']\n",
    "population = [360579, 232919, 1963264, 202932, 155782, 143015, 138872, 137856, 101207, 96266, 96000, 1468609]\n",
    "sample_df = pd.concat([pd.Series(cities, name='city'), \n",
    "                       pd.Series(population, name='population')], axis=1)\n",
    "sample_df.sort_values(by=['city'], inplace=True)\n",
    "sample_df.head(12)"
   ]
  },
  {
   "cell_type": "code",
   "execution_count": 78,
   "metadata": {},
   "outputs": [],
   "source": [
    "def save_top10_cities(data_in, file_name='top10_cities.csv'):\n",
    "    data_in['order'] = data_in['population'].rank(numeric_only = False, method = 'max', ascending = False)\n",
    "    data_in[[\"order\"]] = data_in[[\"order\"]].astype(int)\n",
    "    \n",
    "    #selected top 10 of population\n",
    "    data_in = data_in[data_in['order'] <= 10]\n",
    "    \n",
    "    #saved data\n",
    "    os.makedirs(DATA_DIR , exist_ok = True)\n",
    "    data_in.to_csv(DATA_DIR + file_name, index = False)\n",
    "    \n",
    "    # YOUR CODE GOES HERE"
   ]
  },
  {
   "cell_type": "code",
   "execution_count": 79,
   "metadata": {},
   "outputs": [
    {
     "name": "stdout",
     "output_type": "stream",
     "text": [
      "                   city  population\n",
      "order                              \n",
      "1                 Accra     1963264\n",
      "5              Achiaman      202932\n",
      "7            Cape Coast      143015\n",
      "2                Kumasi     1468609\n",
      "10       Medina Estates      101207\n",
      "9                Obuase      137856\n",
      "8      Sekondi-Takoradi      138872\n",
      "4             Takoradze      232919\n",
      "3                Tamale      360579\n",
      "6                  Tema      155782\n"
     ]
    }
   ],
   "source": [
    "save_top10_cities(sample_df)\n",
    "print(pd.read_csv(os.path.join(DATA_DIR, 'top10_cities.csv'), index_col='order'))"
   ]
  },
  {
   "cell_type": "code",
   "execution_count": 197,
   "metadata": {},
   "outputs": [],
   "source": [
    "def avg_word_len(sentence):\n",
    "    '''\n",
    "    Takes a sentence and returns the average word length of all words in the sentence, ignoring punctuations.\n",
    "    Parameters:\n",
    "        sentence(str): a given sentence\n",
    "    Returns:\n",
    "        None\n",
    "    '''\n",
    "    # YOUR CODE GOES HERE\n",
    "    sentwithoutponc = re.sub(u'[^\\w\\d\\s]+', '', sentence)\n",
    "    L_sentwithoutponc = sentwithoutponc.split(\" \")\n",
    "    word_len = [len(x) for x in L_sentwithoutponc if len(x)>0]\n",
    "    return mean(word_len)"
   ]
  },
  {
   "cell_type": "code",
   "execution_count": 198,
   "metadata": {},
   "outputs": [
    {
     "name": "stdout",
     "output_type": "stream",
     "text": [
      "3.9411764705882355\n",
      "3.8095238095238093\n"
     ]
    }
   ],
   "source": [
    "sentence1 = \"Hi all, my name is James; but many people call me Bond. I am originally from Australia.\"\n",
    "sentence2 = \"I need to work very hard to learn more about algorithms in Python! I hope that is not strange - for you\"\n",
    "print(avg_word_len(sentence1))\n",
    "print(avg_word_len(sentence2))"
   ]
  },
  {
   "cell_type": "code",
   "execution_count": null,
   "metadata": {},
   "outputs": [],
   "source": [
    "l = re.sub(u'[^\\w\\d\\s]+', '', sentence1)"
   ]
  },
  {
   "cell_type": "code",
   "execution_count": 204,
   "metadata": {},
   "outputs": [
    {
     "data": {
      "text/plain": [
       "['Hi',\n",
       " 'all',\n",
       " 'my',\n",
       " 'name',\n",
       " 'is',\n",
       " 'James',\n",
       " 'but',\n",
       " 'many',\n",
       " 'people',\n",
       " 'call',\n",
       " 'me',\n",
       " 'Bond',\n",
       " 'I',\n",
       " 'am',\n",
       " 'originally',\n",
       " 'from',\n",
       " 'Australia']"
      ]
     },
     "execution_count": 204,
     "metadata": {},
     "output_type": "execute_result"
    }
   ],
   "source": [
    "l.split(\" \")"
   ]
  },
  {
   "cell_type": "code",
   "execution_count": 206,
   "metadata": {},
   "outputs": [
    {
     "data": {
      "text/plain": [
       "3.9411764705882355"
      ]
     },
     "execution_count": 206,
     "metadata": {},
     "output_type": "execute_result"
    }
   ],
   "source": [
    "sum([len(x) for x in l.split(\" \") if len(x)>0])/len([len(x) for x in l.split(\" \") if len(x)>0])"
   ]
  },
  {
   "cell_type": "code",
   "execution_count": null,
   "metadata": {},
   "outputs": [],
   "source": []
  },
  {
   "cell_type": "code",
   "execution_count": 207,
   "metadata": {},
   "outputs": [],
   "source": [
    "l = re.sub(u'[^\\w\\d\\s]+', '', sentence2)"
   ]
  },
  {
   "cell_type": "code",
   "execution_count": 208,
   "metadata": {},
   "outputs": [
    {
     "data": {
      "text/plain": [
       "['I',\n",
       " 'need',\n",
       " 'to',\n",
       " 'work',\n",
       " 'very',\n",
       " 'hard',\n",
       " 'to',\n",
       " 'learn',\n",
       " 'more',\n",
       " 'about',\n",
       " 'algorithms',\n",
       " 'in',\n",
       " 'Python',\n",
       " 'I',\n",
       " 'hope',\n",
       " 'that',\n",
       " 'is',\n",
       " 'not',\n",
       " 'strange',\n",
       " '',\n",
       " 'for',\n",
       " 'you']"
      ]
     },
     "execution_count": 208,
     "metadata": {},
     "output_type": "execute_result"
    }
   ],
   "source": [
    "l.split(\" \")"
   ]
  },
  {
   "cell_type": "code",
   "execution_count": 211,
   "metadata": {},
   "outputs": [
    {
     "data": {
      "text/plain": [
       "3.8095238095238093"
      ]
     },
     "execution_count": 211,
     "metadata": {},
     "output_type": "execute_result"
    }
   ],
   "source": [
    "sum([len(x) for x in l.split(\" \") if len(x)> 0])/len([len(x) for x in l.split(\" \") if len(x)> 0])"
   ]
  },
  {
   "cell_type": "code",
   "execution_count": null,
   "metadata": {},
   "outputs": [],
   "source": []
  },
  {
   "cell_type": "code",
   "execution_count": null,
   "metadata": {},
   "outputs": [],
   "source": []
  },
  {
   "cell_type": "code",
   "execution_count": 195,
   "metadata": {},
   "outputs": [],
   "source": [
    "def split_segment(sentence, by_str):\n",
    "    '''\n",
    "    Returns the given setence split into its segments.\n",
    "    Parameter:\n",
    "        sentence(str): the given setence\n",
    "        by_str(str): the substring or text segment of the specified sentence\n",
    "    Returns:\n",
    "        tuple: the segments of the specified segment\n",
    "    '''\n",
    "    # YOUR CODE GOES HERE\n",
    "    return tuple(sentence.split(by_str, maxsplit=1))"
   ]
  },
  {
   "cell_type": "code",
   "execution_count": 196,
   "metadata": {},
   "outputs": [
    {
     "name": "stdout",
     "output_type": "stream",
     "text": [
      "('If you ', ' to be want a python ninja')\n"
     ]
    }
   ],
   "source": [
    "s1 = \"If you want to be want a python ninja\"\n",
    "s2 = 'want'\n",
    "print(split_segment(s1, s2))"
   ]
  },
  {
   "cell_type": "code",
   "execution_count": 137,
   "metadata": {},
   "outputs": [],
   "source": [
    "def all_less_thane(list_in, number_in):\n",
    "    '''\n",
    "    Checks if all the elements of an integer list are all less than a specified integer number.\n",
    "    Parameters:\n",
    "        list_in(list): list of integers\n",
    "        number_in(int): specified integer number for comparison\n",
    "    Returns:\n",
    "        bool\n",
    "    '''\n",
    "    # YOUR CODE GOES HERE\n",
    "    list_in.sort(key=None, reverse=True)\n",
    "    return list_in[0] <= number_in"
   ]
  },
  {
   "cell_type": "code",
   "execution_count": 138,
   "metadata": {},
   "outputs": [
    {
     "name": "stdout",
     "output_type": "stream",
     "text": [
      "True\n",
      "False\n"
     ]
    }
   ],
   "source": [
    "number = 7\n",
    "list1 = [1, 2, 3, 0, 4, 6, 5]\n",
    "list2 = [4, 5, 6, 10, 7, 8]\n",
    "print(all_less_thane(list1, number))\n",
    "print(all_less_thane(list2, number))"
   ]
  },
  {
   "cell_type": "code",
   "execution_count": 146,
   "metadata": {},
   "outputs": [],
   "source": [
    "def first_nonunique_char(segment):\n",
    "    '''\n",
    "    Returns the index of the first unique or non-repeating character in the given sentence.\n",
    "    Parameters:\n",
    "        segment(str): sentence or text segment\n",
    "    Returns:\n",
    "        int: the index of the first unique character in the text segment\n",
    "    '''\n",
    "    #YOUR CODE GOES HERE\n",
    "    return [segment.index(i) for i in segment if segment.count(i) == 1][0]"
   ]
  },
  {
   "cell_type": "code",
   "execution_count": 147,
   "metadata": {},
   "outputs": [
    {
     "name": "stdout",
     "output_type": "stream",
     "text": [
      "6\n",
      "5\n",
      "0\n"
     ]
    }
   ],
   "source": [
    "s1 = 'all alphabet characters'\n",
    "s2 = 'barbados in the carribean'\n",
    "s3 = 'Are you joking, I hear you ask'\n",
    "print(first_nonunique_char(s1))\n",
    "print(first_nonunique_char(s2))\n",
    "print(first_nonunique_char(s3))"
   ]
  },
  {
   "cell_type": "code",
   "execution_count": 216,
   "metadata": {},
   "outputs": [],
   "source": [
    "def order_by_key(dict_in, ascending=True):\n",
    "    '''\n",
    "    Returns a dictionary with elements sorted by the specified dictionary's key values.\n",
    "    Parameters:\n",
    "        dict_in(dictionary): a specified dictionary\n",
    "        ascending(bool): indicates whether to order in ascending or descending order\n",
    "    Returns:\n",
    "        dictionary\n",
    "    '''\n",
    "    # YOUR CODE GOES HERE\n",
    "    return dict(sorted(dict_in.items(), reverse = not ascending))"
   ]
  },
  {
   "cell_type": "code",
   "execution_count": 217,
   "metadata": {},
   "outputs": [
    {
     "name": "stdout",
     "output_type": "stream",
     "text": [
      "{'carbon': 6, 'helium': 2, 'hydrogen': 1, 'methane': 10, 'nitrogen': 3, 'oxygen': 8}\n",
      "{'oxygen': 8, 'nitrogen': 3, 'methane': 10, 'hydrogen': 1, 'helium': 2, 'carbon': 6}\n"
     ]
    }
   ],
   "source": [
    "elements = {'hydrogen': 1, 'helium': 2, 'carbon': 6, 'oxygen': 8, 'methane': 10, 'nitrogen': 3}\n",
    "print(order_by_key(elements))\n",
    "print(order_by_key(elements, ascending = False))"
   ]
  },
  {
   "cell_type": "code",
   "execution_count": null,
   "metadata": {},
   "outputs": [],
   "source": [
    "sorted()"
   ]
  },
  {
   "cell_type": "code",
   "execution_count": 150,
   "metadata": {},
   "outputs": [],
   "source": [
    "def convert_numbers(list_in):\n",
    "    '''\n",
    "    Converts the specified list of strings into a list of real numbers.\n",
    "    Parameters:\n",
    "        list_in(str): a list of real numbers as strings\n",
    "    Returns:\n",
    "        list: a list of real numbers\n",
    "    '''\n",
    "    # YOUR CODE GOES HERE\n",
    "    return [eval(i) for i in list_in]"
   ]
  },
  {
   "cell_type": "code",
   "execution_count": 151,
   "metadata": {},
   "outputs": [
    {
     "data": {
      "text/plain": [
       "[1, 3, 9, 18.5]"
      ]
     },
     "execution_count": 151,
     "metadata": {},
     "output_type": "execute_result"
    }
   ],
   "source": [
    "convert_numbers(strs)"
   ]
  },
  {
   "cell_type": "code",
   "execution_count": 182,
   "metadata": {},
   "outputs": [],
   "source": [
    "def counter_from_list(list_in):\n",
    "    '''\n",
    "    Returns a dictionary containing the counts of the corresponding list items.\n",
    "    Parameters:\n",
    "        list_in(list): a list of items\n",
    "    Returns:\n",
    "        dictionary\n",
    "    '''\n",
    "    # YOUR CODE GOES HERE\n",
    "    return dict(Counter(list_in))"
   ]
  },
  {
   "cell_type": "code",
   "execution_count": 183,
   "metadata": {},
   "outputs": [
    {
     "name": "stdout",
     "output_type": "stream",
     "text": [
      "{'Accra': 4, 'Madrid': 4, 'Rome': 1, 'Kumasi': 2, 'Munich': 1, 'Abidjan': 3, 'Barcelona': 2}\n"
     ]
    }
   ],
   "source": [
    "cities = ['Accra', 'Madrid','Rome','Accra', 'Accra', 'Kumasi', 'Munich','Abidjan','Madrid','Kumasi', \\\n",
    "          'Madrid','Madrid','Abidjan', 'Barcelona', 'Accra', 'Abidjan', 'Barcelona']\n",
    "print(counter_from_list(cities))"
   ]
  },
  {
   "cell_type": "code",
   "execution_count": 188,
   "metadata": {},
   "outputs": [],
   "source": [
    "def check_all_float(list_in):\n",
    "    '''\n",
    "    Checks if all the elements of the specified list are float.\n",
    "    Parameters:\n",
    "        list_in(list): any specified list\n",
    "    Returns:\n",
    "        bool\n",
    "    '''\n",
    "    # YOUR CODE GOES HERE\n",
    "    return all(isinstance(x, float) for x in list_in)"
   ]
  },
  {
   "cell_type": "code",
   "execution_count": 189,
   "metadata": {},
   "outputs": [
    {
     "name": "stdout",
     "output_type": "stream",
     "text": [
      "True\n",
      "False\n",
      "False\n"
     ]
    }
   ],
   "source": [
    "list1 = [1.9, 5.9, 9.9, 8.8]\n",
    "list2 = [1.9, 9.8, 9.9, 8]\n",
    "list3 = [1.9, 7.8, 9.9, '8.9']\n",
    "print(check_all_float(list1))\n",
    "print(check_all_float(list2))\n",
    "print(check_all_float(list3))"
   ]
  },
  {
   "cell_type": "code",
   "execution_count": 192,
   "metadata": {},
   "outputs": [],
   "source": [
    "def dic_from_lists(list_keys, *list_data):\n",
    "    '''\n",
    "    Returns a dictionary created from the specified lists.\n",
    "    Parameters:\n",
    "        list_keys(list): a list of key values to be associated with the data from a set of lists\n",
    "        list_data(tuple): a set of lists, each of whose values are associated with their corresponding keys\n",
    "    Returns:\n",
    "        dictionary\n",
    "    '''\n",
    "    # YOUR CODE GOES HERE\n",
    "    return dict((z[0], list(z[1:])) for z in zip(list_keys, *list_data ))"
   ]
  },
  {
   "cell_type": "code",
   "execution_count": 193,
   "metadata": {},
   "outputs": [
    {
     "name": "stdout",
     "output_type": "stream",
     "text": [
      "{'Maria': [9.8, 7.5, 7.8, 10.0], 'Paola': [7.8, 9, 7.8, 8.8], 'Julia': [9.5, 9.1, 8.7, 9.7]}\n"
     ]
    }
   ],
   "source": [
    "students = ['Maria','Paola','Julia']\n",
    "exam1 = [9.8, 7.8, 9.5]\n",
    "exam2 = [7.5, 9, 9.1]\n",
    "exam3 = [7.8, 7.8, 8.7]\n",
    "exam4 = [10.0, 8.8, 9.7]\n",
    "print(dic_from_lists(students, exam1, exam2, exam3, exam4))"
   ]
  },
  {
   "cell_type": "code",
   "execution_count": 184,
   "metadata": {},
   "outputs": [],
   "source": [
    "list3 = [1.9, 7.8, 9.9, '8.9']"
   ]
  },
  {
   "cell_type": "code",
   "execution_count": 185,
   "metadata": {},
   "outputs": [
    {
     "data": {
      "text/plain": [
       "False"
      ]
     },
     "execution_count": 185,
     "metadata": {},
     "output_type": "execute_result"
    }
   ],
   "source": [
    "all(isinstance(x, float ) for x in list3)"
   ]
  },
  {
   "cell_type": "code",
   "execution_count": 175,
   "metadata": {},
   "outputs": [],
   "source": [
    "a = True"
   ]
  },
  {
   "cell_type": "code",
   "execution_count": 176,
   "metadata": {},
   "outputs": [
    {
     "data": {
      "text/plain": [
       "{1: 89, 2: 3, 3: 0, 4: 5}"
      ]
     },
     "execution_count": 176,
     "metadata": {},
     "output_type": "execute_result"
    }
   ],
   "source": [
    "d = {2:3, 1:89, 4:5, 3:0}\n",
    "dict(sorted(d.items(), reverse= not a))"
   ]
  },
  {
   "cell_type": "code",
   "execution_count": 119,
   "metadata": {},
   "outputs": [
    {
     "data": {
      "text/plain": [
       "['string', 'With Punctuation ']"
      ]
     },
     "execution_count": 119,
     "metadata": {},
     "output_type": "execute_result"
    }
   ],
   "source": [
    "L_out = out.split(\" \", maxsplit=1)\n",
    "L_out"
   ]
  },
  {
   "cell_type": "code",
   "execution_count": 160,
   "metadata": {},
   "outputs": [],
   "source": [
    "strs = [1, 3]"
   ]
  },
  {
   "cell_type": "code",
   "execution_count": 171,
   "metadata": {},
   "outputs": [
    {
     "ename": "NameError",
     "evalue": "name 'order' is not defined",
     "output_type": "error",
     "traceback": [
      "\u001b[0;31m---------------------------------------------------------------------------\u001b[0m",
      "\u001b[0;31mNameError\u001b[0m                                 Traceback (most recent call last)",
      "\u001b[0;32m<ipython-input-171-8f3a560da4cd>\u001b[0m in \u001b[0;36m<module>\u001b[0;34m\u001b[0m\n\u001b[0;32m----> 1\u001b[0;31m \u001b[0morder\u001b[0m\u001b[0;34m(\u001b[0m\u001b[0mstrs\u001b[0m\u001b[0;34m)\u001b[0m\u001b[0;34m\u001b[0m\u001b[0;34m\u001b[0m\u001b[0m\n\u001b[0m",
      "\u001b[0;31mNameError\u001b[0m: name 'order' is not defined"
     ]
    }
   ],
   "source": [
    "order(strs)"
   ]
  },
  {
   "cell_type": "code",
   "execution_count": 169,
   "metadata": {},
   "outputs": [
    {
     "data": {
      "text/plain": [
       "[1, 3]"
      ]
     },
     "execution_count": 169,
     "metadata": {},
     "output_type": "execute_result"
    }
   ],
   "source": [
    "strs"
   ]
  },
  {
   "cell_type": "code",
   "execution_count": 165,
   "metadata": {},
   "outputs": [
    {
     "data": {
      "text/plain": [
       "False"
      ]
     },
     "execution_count": 165,
     "metadata": {},
     "output_type": "execute_result"
    }
   ],
   "source": [
    "bool(False + 0)"
   ]
  },
  {
   "cell_type": "code",
   "execution_count": 102,
   "metadata": {},
   "outputs": [],
   "source": [
    "word_len = [len(x) for x in L_out if len(x)>0]"
   ]
  },
  {
   "cell_type": "code",
   "execution_count": 104,
   "metadata": {},
   "outputs": [
    {
     "data": {
      "text/plain": [
       "7.0"
      ]
     },
     "execution_count": 104,
     "metadata": {},
     "output_type": "execute_result"
    }
   ],
   "source": [
    "sum(word_len)/len(word_len)"
   ]
  },
  {
   "cell_type": "code",
   "execution_count": 107,
   "metadata": {},
   "outputs": [
    {
     "data": {
      "text/plain": [
       "7"
      ]
     },
     "execution_count": 107,
     "metadata": {},
     "output_type": "execute_result"
    }
   ],
   "source": [
    "from statistics import mean\n",
    "mean(word_len)"
   ]
  },
  {
   "cell_type": "code",
   "execution_count": null,
   "metadata": {},
   "outputs": [],
   "source": [
    "s.index(\"r\")\n",
    "\n"
   ]
  },
  {
   "cell_type": "code",
   "execution_count": 139,
   "metadata": {},
   "outputs": [],
   "source": [
    "p = \"string. With. Punctuation? \""
   ]
  },
  {
   "cell_type": "code",
   "execution_count": 142,
   "metadata": {},
   "outputs": [
    {
     "data": {
      "text/plain": [
       "0"
      ]
     },
     "execution_count": 142,
     "metadata": {},
     "output_type": "execute_result"
    }
   ],
   "source": [
    "l = [p.index(i) for i in p if p.count(i) == 1][0]\n",
    "p.index(l[0])"
   ]
  },
  {
   "cell_type": "code",
   "execution_count": 143,
   "metadata": {},
   "outputs": [
    {
     "data": {
      "text/plain": [
       "0"
      ]
     },
     "execution_count": 143,
     "metadata": {},
     "output_type": "execute_result"
    }
   ],
   "source": [
    "[p.index(i) for i in p if p.count(i) == 1][0]"
   ]
  },
  {
   "cell_type": "code",
   "execution_count": 177,
   "metadata": {},
   "outputs": [],
   "source": [
    "cities = ['Accra', 'Madrid','Rome','Accra', 'Accra', 'Kumasi', 'Munich','Abidjan','Madrid','Kumasi', \\\n",
    "          'Madrid','Madrid','Abidjan', 'Barcelona', 'Accra', 'Abidjan', 'Barcelona']\n"
   ]
  },
  {
   "cell_type": "code",
   "execution_count": 179,
   "metadata": {},
   "outputs": [
    {
     "data": {
      "text/plain": [
       "{'Accra': 4,\n",
       " 'Madrid': 4,\n",
       " 'Rome': 1,\n",
       " 'Kumasi': 2,\n",
       " 'Munich': 1,\n",
       " 'Abidjan': 3,\n",
       " 'Barcelona': 2}"
      ]
     },
     "execution_count": 179,
     "metadata": {},
     "output_type": "execute_result"
    }
   ],
   "source": []
  },
  {
   "cell_type": "code",
   "execution_count": 190,
   "metadata": {},
   "outputs": [],
   "source": [
    "students = ['Maria','Paola','Julia']\n",
    "exam1 = [9.8, 7.8, 9.5]\n",
    "exam2 = [7.5, 9, 9.1]\n",
    "exam3 = [7.8, 7.8, 8.7]\n",
    "exam4 = [10.0, 8.8, 9.7]"
   ]
  },
  {
   "cell_type": "code",
   "execution_count": 191,
   "metadata": {},
   "outputs": [
    {
     "data": {
      "text/plain": [
       "{'Maria': [9.8, 7.5, 7.8, 10.0],\n",
       " 'Paola': [7.8, 9, 7.8, 8.8],\n",
       " 'Julia': [9.5, 9.1, 8.7, 9.7]}"
      ]
     },
     "execution_count": 191,
     "metadata": {},
     "output_type": "execute_result"
    }
   ],
   "source": [
    "\n",
    "dict((z[0], list(z[1:])) for z in zip(students, exam1, exam2, exam3, exam4 ))"
   ]
  },
  {
   "cell_type": "code",
   "execution_count": null,
   "metadata": {},
   "outputs": [],
   "source": [
    "{z[0]: list(z[1:]) for z in zip(*list_of_lists)} "
   ]
  },
  {
   "cell_type": "code",
   "execution_count": 221,
   "metadata": {},
   "outputs": [],
   "source": [
    "list1 = [1.9, 5.9, 9.9, 8.8]\n",
    "list2 = [1.9, 9.8, 9.9, 8]\n",
    "list3 = [1.9, 7.8, 9.9, '8.9']"
   ]
  },
  {
   "cell_type": "code",
   "execution_count": 235,
   "metadata": {},
   "outputs": [
    {
     "data": {
      "text/plain": [
       "False"
      ]
     },
     "execution_count": 235,
     "metadata": {},
     "output_type": "execute_result"
    }
   ],
   "source": [
    "all(isinstance(y,float) for y in list3)"
   ]
  },
  {
   "cell_type": "code",
   "execution_count": 8,
   "metadata": {},
   "outputs": [
    {
     "data": {
      "text/plain": [
       "msisdn    int64\n",
       "dtype: object"
      ]
     },
     "execution_count": 8,
     "metadata": {},
     "output_type": "execute_result"
    }
   ],
   "source": [
    "pd.set_option(\"display.max_rows\", None, \"display.max_columns\", None)\n",
    "df = pd.read_csv(\"/Users/youssouf/Downloads/msisdn_v2.csv\")\n",
    "df.dtypes"
   ]
  },
  {
   "cell_type": "code",
   "execution_count": 14,
   "metadata": {},
   "outputs": [],
   "source": [
    "df[[\"msisdn\"]] = df[[\"msisdn\"]].astype(object)"
   ]
  },
  {
   "cell_type": "code",
   "execution_count": 15,
   "metadata": {},
   "outputs": [],
   "source": [
    "filter_col = [col for col in df if col.startswith(str(7))]"
   ]
  },
  {
   "cell_type": "code",
   "execution_count": 18,
   "metadata": {},
   "outputs": [
    {
     "data": {
      "text/plain": [
       "(179, 0)"
      ]
     },
     "execution_count": 18,
     "metadata": {},
     "output_type": "execute_result"
    }
   ],
   "source": [
    "df[filter_col].shape"
   ]
  },
  {
   "cell_type": "code",
   "execution_count": 13,
   "metadata": {},
   "outputs": [
    {
     "data": {
      "text/plain": [
       "(179, 1)"
      ]
     },
     "execution_count": 13,
     "metadata": {},
     "output_type": "execute_result"
    }
   ],
   "source": [
    "df.shape"
   ]
  },
  {
   "cell_type": "code",
   "execution_count": null,
   "metadata": {},
   "outputs": [],
   "source": []
  }
 ],
 "metadata": {
  "kernelspec": {
   "display_name": "Python 3 (ipykernel)",
   "language": "python",
   "name": "python3"
  },
  "language_info": {
   "codemirror_mode": {
    "name": "ipython",
    "version": 3
   },
   "file_extension": ".py",
   "mimetype": "text/x-python",
   "name": "python",
   "nbconvert_exporter": "python",
   "pygments_lexer": "ipython3",
   "version": "3.9.12"
  }
 },
 "nbformat": 4,
 "nbformat_minor": 4
}
