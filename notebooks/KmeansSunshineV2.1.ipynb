{
 "cells": [
  {
   "cell_type": "code",
   "execution_count": 6,
   "metadata": {},
   "outputs": [],
   "source": [
    "from pyspark.sql import SparkSession\n",
    "spark = SparkSession.builder.master(\"local[1]\")\\\n",
    "          .appName(\"sunshine_v2\")\\\n",
    "          .getOrCreate()"
   ]
  },
  {
   "cell_type": "code",
   "execution_count": 7,
   "metadata": {},
   "outputs": [],
   "source": [
    "from pyspark.ml.clustering import KMeans\n",
    "from pyspark.ml.evaluation import ClusteringEvaluator\n",
    "from pyspark.sql.functions import col\n",
    "from pyspark.sql.types import *\n",
    "from pyspark.ml.feature import *"
   ]
  },
  {
   "cell_type": "code",
   "execution_count": 10,
   "metadata": {},
   "outputs": [
    {
     "name": "stdout",
     "output_type": "stream",
     "text": [
      "-RECORD 0-----\n",
      " _c0   | 225  \n",
      " _c1   | NULL \n",
      " _c2   | NULL \n",
      " _c3   | NULL \n",
      " _c4   | NULL \n",
      " _c5   | NULL \n",
      " _c6   | NULL \n",
      " _c7   | NULL \n",
      " _c8   | NULL \n",
      " _c9   | NULL \n",
      " _c10  | NULL \n",
      " _c11  | NULL \n",
      " _c12  | NULL \n",
      " _c13  | NULL \n",
      " _c14  | NULL \n",
      " _c15  | NULL \n",
      " _c16  | NULL \n",
      " _c17  | NULL \n",
      " _c18  | NULL \n",
      " _c19  | NULL \n",
      " _c20  | NULL \n",
      " _c21  | NULL \n",
      " _c22  | NULL \n",
      " _c23  | NULL \n",
      " _c24  | NULL \n",
      " _c25  | NULL \n",
      " _c26  | NULL \n",
      " _c27  | NULL \n",
      " _c28  | NULL \n",
      " _c29  | NULL \n",
      " _c30  | NULL \n",
      " _c31  | NULL \n",
      " _c32  | NULL \n",
      " _c33  | NULL \n",
      " _c34  | NULL \n",
      " _c35  | NULL \n",
      " _c36  | NULL \n",
      " _c37  | NULL \n",
      " _c38  | NULL \n",
      " _c39  | NULL \n",
      " _c40  | NULL \n",
      " _c41  | NULL \n",
      " _c42  | NULL \n",
      " _c43  | NULL \n",
      " _c44  | 0    \n",
      " _c45  | NULL \n",
      " _c46  | NULL \n",
      " _c47  | NULL \n",
      " _c48  | NULL \n",
      " _c49  | NULL \n",
      " _c50  | NULL \n",
      " _c51  | NULL \n",
      " _c52  | NULL \n",
      " _c53  | NULL \n",
      " _c54  | NULL \n",
      " _c55  | NULL \n",
      " _c56  | NULL \n",
      " _c57  | NULL \n",
      " _c58  | NULL \n",
      " _c59  | NULL \n",
      " _c60  | NULL \n",
      " _c61  | NULL \n",
      " _c62  | NULL \n",
      " _c63  | NULL \n",
      " _c64  | NULL \n",
      " _c65  | NULL \n",
      " _c66  | NULL \n",
      " _c67  | NULL \n",
      " _c68  | NULL \n",
      " _c69  | NULL \n",
      " _c70  | NULL \n",
      " _c71  | NULL \n",
      " _c72  | NULL \n",
      " _c73  | NULL \n",
      " _c74  | 225  \n",
      " _c75  | null \n",
      " _c76  | null \n",
      " _c77  | null \n",
      " _c78  | null \n",
      " _c79  | null \n",
      " _c80  | null \n",
      " _c81  | null \n",
      " _c82  | null \n",
      " _c83  | null \n",
      " _c84  | null \n",
      " _c85  | null \n",
      " _c86  | null \n",
      " _c87  | null \n",
      " _c88  | null \n",
      " _c89  | null \n",
      " _c90  | null \n",
      " _c91  | null \n",
      " _c92  | null \n",
      " _c93  | null \n",
      " _c94  | null \n",
      " _c95  | null \n",
      " _c96  | null \n",
      " _c97  | null \n",
      " _c98  | null \n",
      " _c99  | null \n",
      " _c100 | null \n",
      " _c101 | null \n",
      " _c102 | null \n",
      " _c103 | null \n",
      " _c104 | null \n",
      " _c105 | null \n",
      " _c106 | null \n",
      " _c107 | null \n",
      " _c108 | null \n",
      " _c109 | null \n",
      " _c110 | null \n",
      " _c111 | null \n",
      " _c112 | null \n",
      " _c113 | null \n",
      " _c114 | null \n",
      " _c115 | null \n",
      " _c116 | null \n",
      " _c117 | null \n",
      " _c118 | 1.0  \n",
      " _c119 | null \n",
      " _c120 | null \n",
      " _c121 | null \n",
      " _c122 | null \n",
      " _c123 | null \n",
      " _c124 | null \n",
      " _c125 | null \n",
      " _c126 | null \n",
      " _c127 | null \n",
      " _c128 | null \n",
      " _c129 | null \n",
      " _c130 | null \n",
      " _c131 | null \n",
      " _c132 | null \n",
      " _c133 | null \n",
      " _c134 | null \n",
      " _c135 | null \n",
      " _c136 | null \n",
      " _c137 | null \n",
      " _c138 | null \n",
      " _c139 | null \n",
      " _c140 | null \n",
      " _c141 | null \n",
      " _c142 | null \n",
      " _c143 | null \n",
      " _c144 | null \n",
      " _c145 | null \n",
      " _c146 | null \n",
      " _c147 | null \n",
      " _c148 | null \n",
      " _c149 | null \n",
      " _c150 | null \n",
      " _c151 | null \n",
      " _c152 | null \n",
      " _c153 | null \n",
      " _c154 | null \n",
      " _c155 | null \n",
      " _c156 | null \n",
      " _c157 | null \n",
      " _c158 | null \n",
      " _c159 | null \n",
      " _c160 | null \n",
      " _c161 | null \n",
      " _c162 | null \n",
      "\n"
     ]
    }
   ],
   "source": [
    "df_km = spark.read.csv(\"thelast.csv\")\n",
    "df_km.show(vertical = True)"
   ]
  },
  {
   "cell_type": "code",
   "execution_count": 11,
   "metadata": {},
   "outputs": [
    {
     "data": {
      "text/plain": [
       "1"
      ]
     },
     "execution_count": 11,
     "metadata": {},
     "output_type": "execute_result"
    }
   ],
   "source": [
    "df_km.count()"
   ]
  },
  {
   "cell_type": "code",
   "execution_count": 4,
   "metadata": {},
   "outputs": [],
   "source": [
    "liste = ['features_smile_nombre_sms_sortants',\n",
    " 'features_smile_nombre_correspondant_sms_sortant',\n",
    " 'features_smile_nombre_appels_sortants',\n",
    " 'features_smile_nombre_correspondant_appels_sortant',\n",
    " 'features_smile_nombre_correspondant_distinct_appels_sortant',\n",
    " 'features_smile_duree_totale_appel_sortant',\n",
    " 'features_smile_duree_moyenne_appel_sortant',\n",
    " 'features_smile_nombre_sms_entrants',\n",
    " 'features_smile_nombre_correspondant_sms_entrant',\n",
    " 'features_smile_nombre_appel_entrants',\n",
    " 'features_smile_nombre_correspondant_appel_entrant',\n",
    " 'features_smile_nombre_correspondant_appel_distinct_entrant',\n",
    " 'features_smile_duree_totale_appel_entrant',\n",
    " 'features_smile_duree_moyenne_appel_entrant',\n",
    " 'features_smile_nombre_sms',\n",
    " 'features_smile_nombre_appels',\n",
    " 'features_smile_nombre_correspondants_sms',\n",
    " 'features_smile_nombre_correspondants',\n",
    " 'features_smile_nombre_correspondants_distincts',\n",
    " 'features_smile_nombre_correspondants_distincts_appels',\n",
    " 'features_smile_nombre_correspondants_appels',\n",
    " 'features_smile_duree_totale_appels',\n",
    " 'features_smile_duree_moyenne_appels',\n",
    " 'features_smile_taux_inities_sms',\n",
    " 'features_smile_nombre_appels_onnet',\n",
    " 'features_smile_taux_appels_inities_onnet',\n",
    " 'features_smile_nombre_appels_offnet',\n",
    " 'features_smile_taux_appels_inities_offnet',\n",
    " 'features_smile_nombre_appels_inter',\n",
    " 'features_smile_taux_appels_inities_inter',\n",
    " 'features_smile_nombre_appels_complice',\n",
    " 'features_smile_taux_appels_inities_complice',\n",
    " 'features_smile_nbre_imsi',\n",
    " 'features_smile_nbre_distinct_imei',\n",
    " 'features_smile_ratio_nombre_imsi_imei',\n",
    " 'features_smile_nombre_appels_nuit',\n",
    " 'features_smile_nombre_appels_nuit_distinct',\n",
    " 'features_smile_temps_moyen_evenement',\n",
    " 'features_smile_variance_evenement',\n",
    " 'features_smile_temps_moyen_appel',\n",
    " 'features_smile_variance_appel',\n",
    " 'features_smile_temps_moyen_sms',\n",
    " 'features_smile_variance_sms',\n",
    " 'features_smile_totaldureeusedata',\n",
    " 'features_smile_nbre_sim',\n",
    " 'features_smile_supplier_name',\n",
    " 'features_smile_nombre_cal_onnet',\n",
    " 'features_smile_nbre_moy_cal_onnet',\n",
    " 'features_smile_duree_moy_cal_onnet',\n",
    " 'features_smile_duree_cal_onnet',\n",
    " 'features_smile_nbre_moy_cal_offnet',\n",
    " 'features_smile_nombre_cal_offnet',\n",
    " 'features_smile_duree_moy_cal_offnet',\n",
    " 'features_smile_duree_cal_offnet',\n",
    " 'features_smile_duree_mean_call_out',\n",
    " 'features_smile_ratio_corresp_out_in',\n",
    " 'features_smile_ratio_call_out_in',\n",
    " 'features_smile_numb_inter_correp_out_distinct',\n",
    " 'features_smile_numb_inter_correp_out',\n",
    " 'features_smile_time_call_out',\n",
    " 'features_smile_numb_call_inter_out',\n",
    " 'features_smile_numb_inter_correp_in_distinct',\n",
    " 'features_smile_numb_inter_correp_in',\n",
    " 'features_smile_time_call_in',\n",
    " 'features_smile_numb_call_inter_in',\n",
    " 'features_smile_numb_inter_corresp_distinct',\n",
    " 'features_smile_numb_inter_correp',\n",
    " 'features_smile_numb_call_inter',\n",
    " 'features_pass_souscription_profil_nombre_profil',\n",
    " 'features_pass_souscription_profil_nombre_fois_profil_change',\n",
    " 'features_pass_souscription_profil_nombre_souscription',\n",
    " 'features_pass_souscription_profil_nombre_pass_achete',\n",
    " 'duree_total_inter',\n",
    " 'duree_moy_sortant_inter',\n",
    " 'duree_moy_inter',\n",
    " 'nbr_appel_abs_entr_moy',\n",
    " 'nbr_appel_abs_entr_med',\n",
    " 'nbr_appel_abs_entr_tot',\n",
    " 'nbr_entrant_distinct_absence_tot',\n",
    " 'nbr_entrant_distinct_absence_med',\n",
    " 'nbr_appel_abs_sort_moy',\n",
    " 'nbr_appel_abs_sort_med',\n",
    " 'nbr_appel_abs_sort_tot',\n",
    " 'maxtcpsession',\n",
    " 'nbyte',\n",
    " 'nbytetcp',\n",
    " 'nbyteudp',\n",
    " 'byteweb',\n",
    " 'bytep2p',\n",
    " 'bytedownload',\n",
    " 'bytenews',\n",
    " 'bytemail',\n",
    " 'byteothers',\n",
    " 'bytecontrol',\n",
    " 'bytegames',\n",
    " 'bytestreaming',\n",
    " 'bytechat',\n",
    " 'bytevoip',\n",
    " 'packvpn',\n",
    " 'bytevvm',\n",
    " 'bytestreamavsp',\n",
    " 'nbre_transaction_tot',\n",
    " 'nbre_transaction_med',\n",
    " 'nbre_distinct_msisdn_tot',\n",
    " 'nbre_distinct_msisdn_med',\n",
    " 'duree_tot',\n",
    " 'duree_med',\n",
    " 'nombre_transaction_erecharge',\n",
    " 'montant_erecharge',\n",
    " 'montant',\n",
    " 'montant_moy',\n",
    " 'nbr_om_transact',\n",
    " 'volumepartage_data_med',\n",
    " 'nbr_partage_data',\n",
    " 'total_partage_data',\n",
    " 'nombre_distinct_profil',\n",
    " 'nbr_sms_total_sortant_ofnet',\n",
    " 'nbr_sms_sortant_med_ofnet',\n",
    " 'nbr_sms_sortant_moy_ofnet',\n",
    " 'nbr_appel_sortant_moy_ofnet',\n",
    " 'nbr_appel_total_sortant_ofnet',\n",
    " 'nbr_appel_sortant_med_ofnet',\n",
    " 'duree_total_sortant_ofnet',\n",
    " 'duree_sortant_med_ofnet',\n",
    " 'duree_sortant_moy_ofnet',\n",
    " 'nbr_sms_total_sortant_onnet',\n",
    " 'nbr_sms_sortant_med_onnet',\n",
    " 'nbr_sms_sortant_moy_onnet',\n",
    " 'nbr_appel_sortant_moy_onnet',\n",
    " 'nbr_appel_total_sortant_onnet',\n",
    " 'nbr_appel_sortant_med_onnet',\n",
    " 'duree_total_sortant_onnet',\n",
    " 'duree_sortant_med_onnet',\n",
    " 'duree_sortant_moy_onnet',\n",
    " 'nbr_rech_sos',\n",
    " 'nbr_moy_sos',\n",
    " 'montant_tot_sos',\n",
    " 'montant_moy_sos',\n",
    " 'nbr_corr_dist_entrant_sms_tot',\n",
    " 'nbr_corr_dist_entrant_sms_med',\n",
    " 'nbr_corr_dist_sortant_sms_tot',\n",
    " 'nbr_corr_dist_sortant_sms_med',\n",
    " 'nbr_duree_data_tot',\n",
    " 'nbr_duree_data_med',\n",
    " 'nbr_duree_data_moy',\n",
    " 'volume_family_data_med',\n",
    " 'nbr_family_data',\n",
    " 'family_data_tot',\n",
    " 'nbre_call_complice',\n",
    " 'duree',\n",
    " 'duree_moy_call_complice',\n",
    " 'volume_data_total',\n",
    " 'volume_data_moy',\n",
    " 'volume_data_med',\n",
    " 'smsisdn',\n",
    " 'nbre_corr_sortant',\n",
    " 'nbre_corr_sortant_distinc',\n",
    " 'nbre_corr_entrant',\n",
    " 'nbre_corr_entrant_distinct',\n",
    " 'taux_inter']"
   ]
  },
  {
   "cell_type": "code",
   "execution_count": 6,
   "metadata": {},
   "outputs": [],
   "source": [
    "for cl in liste:\n",
    "    df_km = df_km.withColumn(cl, col(cl).cast(DoubleType()))"
   ]
  },
  {
   "cell_type": "code",
   "execution_count": 15,
   "metadata": {},
   "outputs": [
    {
     "name": "stdout",
     "output_type": "stream",
     "text": [
      "-RECORD 0-----------------------------------------------------------\n",
      " features_smile_msisdn                                       | 225  \n",
      " features_smile_nombre_sms_sortants                          | NULL \n",
      " features_smile_nombre_correspondant_sms_sortant             | NULL \n",
      " features_smile_nombre_appels_sortants                       | NULL \n",
      " features_smile_nombre_correspondant_appels_sortant          | NULL \n",
      " features_smile_nombre_correspondant_distinct_appels_sortant | NULL \n",
      " features_smile_duree_totale_appel_sortant                   | NULL \n",
      " features_smile_duree_moyenne_appel_sortant                  | NULL \n",
      " features_smile_nombre_sms_entrants                          | NULL \n",
      " features_smile_nombre_correspondant_sms_entrant             | NULL \n",
      " features_smile_nombre_appel_entrants                        | NULL \n",
      " features_smile_nombre_correspondant_appel_entrant           | NULL \n",
      " features_smile_nombre_correspondant_appel_distinct_entrant  | NULL \n",
      " features_smile_duree_totale_appel_entrant                   | NULL \n",
      " features_smile_duree_moyenne_appel_entrant                  | NULL \n",
      " features_smile_nombre_sms                                   | NULL \n",
      " features_smile_nombre_appels                                | NULL \n",
      " features_smile_nombre_correspondants_sms                    | NULL \n",
      " features_smile_nombre_correspondants                        | NULL \n",
      " features_smile_nombre_correspondants_distincts              | NULL \n",
      " features_smile_nombre_correspondants_distincts_appels       | NULL \n",
      " features_smile_nombre_correspondants_appels                 | NULL \n",
      " features_smile_duree_totale_appels                          | NULL \n",
      " features_smile_duree_moyenne_appels                         | NULL \n",
      " features_smile_taux_inities_sms                             | NULL \n",
      " features_smile_nombre_appels_onnet                          | NULL \n",
      " features_smile_taux_appels_inities_onnet                    | NULL \n",
      " features_smile_nombre_appels_offnet                         | NULL \n",
      " features_smile_taux_appels_inities_offnet                   | NULL \n",
      " features_smile_nombre_appels_inter                          | NULL \n",
      " features_smile_taux_appels_inities_inter                    | NULL \n",
      " features_smile_nombre_appels_complice                       | NULL \n",
      " features_smile_taux_appels_inities_complice                 | NULL \n",
      " features_smile_nbre_imsi                                    | NULL \n",
      " features_smile_nbre_distinct_imei                           | NULL \n",
      " features_smile_ratio_nombre_imsi_imei                       | NULL \n",
      " features_smile_nombre_appels_nuit                           | NULL \n",
      " features_smile_nombre_appels_nuit_distinct                  | NULL \n",
      " features_smile_temps_moyen_evenement                        | NULL \n",
      " features_smile_variance_evenement                           | NULL \n",
      " features_smile_temps_moyen_appel                            | NULL \n",
      " features_smile_variance_appel                               | NULL \n",
      " features_smile_temps_moyen_sms                              | NULL \n",
      " features_smile_variance_sms                                 | NULL \n",
      " features_smile_totaldureeusedata                            | 0    \n",
      " features_smile_nbre_sim                                     | NULL \n",
      " features_smile_supplier_name                                | NULL \n",
      " features_smile_nombre_cal_onnet                             | NULL \n",
      " features_smile_nbre_moy_cal_onnet                           | NULL \n",
      " features_smile_duree_moy_cal_onnet                          | NULL \n",
      " features_smile_duree_cal_onnet                              | NULL \n",
      " features_smile_nbre_moy_cal_offnet                          | NULL \n",
      " features_smile_nombre_cal_offnet                            | NULL \n",
      " features_smile_duree_moy_cal_offnet                         | NULL \n",
      " features_smile_duree_cal_offnet                             | NULL \n",
      " features_smile_duree_mean_call_out                          | NULL \n",
      " features_smile_ratio_corresp_out_in                         | NULL \n",
      " features_smile_ratio_call_out_in                            | NULL \n",
      " features_smile_numb_inter_correp_out_distinct               | NULL \n",
      " features_smile_numb_inter_correp_out                        | NULL \n",
      " features_smile_time_call_out                                | NULL \n",
      " features_smile_numb_call_inter_out                          | NULL \n",
      " features_smile_numb_inter_correp_in_distinct                | NULL \n",
      " features_smile_numb_inter_correp_in                         | NULL \n",
      " features_smile_time_call_in                                 | NULL \n",
      " features_smile_numb_call_inter_in                           | NULL \n",
      " features_smile_numb_inter_corresp_distinct                  | NULL \n",
      " features_smile_numb_inter_correp                            | NULL \n",
      " features_smile_numb_call_inter                              | NULL \n",
      " features_pass_souscription_profil_nombre_profil             | NULL \n",
      " features_pass_souscription_profil_nombre_fois_profil_change | NULL \n",
      " features_pass_souscription_profil_profil                    | NULL \n",
      " features_pass_souscription_profil_nombre_souscription       | NULL \n",
      " features_pass_souscription_profil_nombre_pass_achete        | NULL \n",
      " msisdn_dexter                                               | 225  \n",
      " duree_total_inter                                           | null \n",
      " duree_moy_sortant_inter                                     | null \n",
      " duree_moy_inter                                             | null \n",
      " nbr_appel_abs_entr_moy                                      | null \n",
      " nbr_appel_abs_entr_med                                      | null \n",
      " nbr_appel_abs_entr_tot                                      | null \n",
      " nbr_entrant_distinct_absence_tot                            | null \n",
      " nbr_entrant_distinct_absence_med                            | null \n",
      " nbr_appel_abs_sort_moy                                      | null \n",
      " nbr_appel_abs_sort_med                                      | null \n",
      " nbr_appel_abs_sort_tot                                      | null \n",
      " maxtcpsession                                               | null \n",
      " nbyte                                                       | null \n",
      " nbytetcp                                                    | null \n",
      " nbyteudp                                                    | null \n",
      " byteweb                                                     | null \n",
      " bytep2p                                                     | null \n",
      " bytedownload                                                | null \n",
      " bytenews                                                    | null \n",
      " bytemail                                                    | null \n",
      " byteothers                                                  | null \n",
      " bytecontrol                                                 | null \n",
      " bytegames                                                   | null \n",
      " bytestreaming                                               | null \n",
      " bytechat                                                    | null \n",
      " bytevoip                                                    | null \n",
      " packvpn                                                     | null \n",
      " bytevvm                                                     | null \n",
      " bytestreamavsp                                              | null \n",
      " nbre_transaction_tot                                        | null \n",
      " nbre_transaction_med                                        | null \n",
      " nbre_distinct_msisdn_tot                                    | null \n",
      " nbre_distinct_msisdn_med                                    | null \n",
      " duree_tot                                                   | null \n",
      " duree_med                                                   | null \n",
      " nombre_transaction_erecharge                                | null \n",
      " montant_erecharge                                           | null \n",
      " montant                                                     | null \n",
      " montant_moy                                                 | null \n",
      " nbr_om_transact                                             | null \n",
      " volumepartage_data_med                                      | null \n",
      " nbr_partage_data                                            | null \n",
      " total_partage_data                                          | null \n",
      " nombre_distinct_profil                                      | 1.0  \n",
      " nbr_sms_total_sortant_ofnet                                 | null \n",
      " nbr_sms_sortant_med_ofnet                                   | null \n",
      " nbr_sms_sortant_moy_ofnet                                   | null \n",
      " nbr_appel_sortant_moy_ofnet                                 | null \n",
      " nbr_appel_total_sortant_ofnet                               | null \n",
      " nbr_appel_sortant_med_ofnet                                 | null \n",
      " duree_total_sortant_ofnet                                   | null \n",
      " duree_sortant_med_ofnet                                     | null \n",
      " duree_sortant_moy_ofnet                                     | null \n",
      " nbr_sms_total_sortant_onnet                                 | null \n",
      " nbr_sms_sortant_med_onnet                                   | null \n",
      " nbr_sms_sortant_moy_onnet                                   | null \n",
      " nbr_appel_sortant_moy_onnet                                 | null \n",
      " nbr_appel_total_sortant_onnet                               | null \n",
      " nbr_appel_sortant_med_onnet                                 | null \n",
      " duree_total_sortant_onnet                                   | null \n",
      " duree_sortant_med_onnet                                     | null \n",
      " duree_sortant_moy_onnet                                     | null \n",
      " nbr_rech_sos                                                | null \n",
      " nbr_moy_sos                                                 | null \n",
      " montant_tot_sos                                             | null \n",
      " montant_moy_sos                                             | null \n",
      " nbr_corr_dist_entrant_sms_tot                               | null \n",
      " nbr_corr_dist_entrant_sms_med                               | null \n",
      " nbr_corr_dist_sortant_sms_tot                               | null \n",
      " nbr_corr_dist_sortant_sms_med                               | null \n",
      " nbr_duree_data_tot                                          | null \n",
      " nbr_duree_data_med                                          | null \n",
      " nbr_duree_data_moy                                          | null \n",
      " volume_family_data_med                                      | null \n",
      " nbr_family_data                                             | null \n",
      " family_data_tot                                             | null \n",
      " nbre_call_complice                                          | null \n",
      " duree                                                       | null \n",
      " duree_moy_call_complice                                     | null \n",
      " volume_data_total                                           | null \n",
      " volume_data_moy                                             | null \n",
      " volume_data_med                                             | null \n",
      " smsisdn                                                     | null \n",
      " nbre_corr_sortant                                           | null \n",
      " nbre_corr_sortant_distinc                                   | null \n",
      " nbre_corr_entrant                                           | null \n",
      " nbre_corr_entrant_distinct                                  | null \n",
      " taux_inter                                                  | null \n",
      "\n"
     ]
    }
   ],
   "source": [
    "df_km.fillna(value=0).show(vertical = True)"
   ]
  },
  {
   "cell_type": "code",
   "execution_count": 22,
   "metadata": {},
   "outputs": [
    {
     "ename": "ValueError",
     "evalue": "Mixed type replacements are not supported",
     "output_type": "error",
     "traceback": [
      "\u001b[0;31m---------------------------------------------------------------------------\u001b[0m",
      "\u001b[0;31mValueError\u001b[0m                                Traceback (most recent call last)",
      "\u001b[0;32m<ipython-input-22-84a1d3b21a56>\u001b[0m in \u001b[0;36m<module>\u001b[0;34m\u001b[0m\n\u001b[0;32m----> 1\u001b[0;31m \u001b[0mdf_km\u001b[0m\u001b[0;34m.\u001b[0m\u001b[0mreplace\u001b[0m\u001b[0;34m(\u001b[0m\u001b[0;34m'NULL'\u001b[0m\u001b[0;34m,\u001b[0m\u001b[0;36m0\u001b[0m\u001b[0;34m)\u001b[0m\u001b[0;34m.\u001b[0m\u001b[0mshow\u001b[0m\u001b[0;34m(\u001b[0m\u001b[0;34m)\u001b[0m\u001b[0;34m\u001b[0m\u001b[0;34m\u001b[0m\u001b[0m\n\u001b[0m",
      "\u001b[0;32m~/opt/anaconda3/lib/python3.8/site-packages/pyspark/sql/dataframe.py\u001b[0m in \u001b[0;36mreplace\u001b[0;34m(self, to_replace, value, subset)\u001b[0m\n\u001b[1;32m   2224\u001b[0m                    \u001b[0;32mand\u001b[0m \u001b[0mall_of_type\u001b[0m\u001b[0;34m(\u001b[0m\u001b[0mx\u001b[0m \u001b[0;32mfor\u001b[0m \u001b[0mx\u001b[0m \u001b[0;32min\u001b[0m \u001b[0mrep_dict\u001b[0m\u001b[0;34m.\u001b[0m\u001b[0mvalues\u001b[0m\u001b[0;34m(\u001b[0m\u001b[0;34m)\u001b[0m \u001b[0;32mif\u001b[0m \u001b[0mx\u001b[0m \u001b[0;32mis\u001b[0m \u001b[0;32mnot\u001b[0m \u001b[0;32mNone\u001b[0m\u001b[0;34m)\u001b[0m\u001b[0;34m\u001b[0m\u001b[0;34m\u001b[0m\u001b[0m\n\u001b[1;32m   2225\u001b[0m                    for all_of_type in [all_of_bool, all_of_str, all_of_numeric]):\n\u001b[0;32m-> 2226\u001b[0;31m             \u001b[0;32mraise\u001b[0m \u001b[0mValueError\u001b[0m\u001b[0;34m(\u001b[0m\u001b[0;34m\"Mixed type replacements are not supported\"\u001b[0m\u001b[0;34m)\u001b[0m\u001b[0;34m\u001b[0m\u001b[0;34m\u001b[0m\u001b[0m\n\u001b[0m\u001b[1;32m   2227\u001b[0m \u001b[0;34m\u001b[0m\u001b[0m\n\u001b[1;32m   2228\u001b[0m         \u001b[0;32mif\u001b[0m \u001b[0msubset\u001b[0m \u001b[0;32mis\u001b[0m \u001b[0;32mNone\u001b[0m\u001b[0;34m:\u001b[0m\u001b[0;34m\u001b[0m\u001b[0;34m\u001b[0m\u001b[0m\n",
      "\u001b[0;31mValueError\u001b[0m: Mixed type replacements are not supported"
     ]
    }
   ],
   "source": [
    "df_km.replace('NULL',0).show()"
   ]
  },
  {
   "cell_type": "code",
   "execution_count": 23,
   "metadata": {},
   "outputs": [],
   "source": [
    "import pyarrow.parquet as pq\n"
   ]
  },
  {
   "cell_type": "code",
   "execution_count": 24,
   "metadata": {},
   "outputs": [],
   "source": []
  },
  {
   "cell_type": "code",
   "execution_count": 26,
   "metadata": {},
   "outputs": [],
   "source": [
    "df = df.fillna(0)"
   ]
  },
  {
   "cell_type": "code",
   "execution_count": 27,
   "metadata": {},
   "outputs": [
    {
     "data": {
      "text/html": [
       "<div>\n",
       "<style scoped>\n",
       "    .dataframe tbody tr th:only-of-type {\n",
       "        vertical-align: middle;\n",
       "    }\n",
       "\n",
       "    .dataframe tbody tr th {\n",
       "        vertical-align: top;\n",
       "    }\n",
       "\n",
       "    .dataframe thead th {\n",
       "        text-align: right;\n",
       "    }\n",
       "</style>\n",
       "<table border=\"1\" class=\"dataframe\">\n",
       "  <thead>\n",
       "    <tr style=\"text-align: right;\">\n",
       "      <th></th>\n",
       "      <th>features_smile_msisdn</th>\n",
       "      <th>features_smile_nombre_sms_sortants</th>\n",
       "      <th>features_smile_nombre_correspondant_sms_sortant</th>\n",
       "      <th>features_smile_nombre_appels_sortants</th>\n",
       "      <th>features_smile_nombre_correspondant_appels_sortant</th>\n",
       "      <th>features_smile_nombre_correspondant_distinct_appels_sortant</th>\n",
       "      <th>features_smile_duree_totale_appel_sortant</th>\n",
       "      <th>features_smile_duree_moyenne_appel_sortant</th>\n",
       "      <th>features_smile_nombre_sms_entrants</th>\n",
       "      <th>features_smile_nombre_correspondant_sms_entrant</th>\n",
       "      <th>...</th>\n",
       "      <th>duree_moy_call_complice</th>\n",
       "      <th>volume_data_total</th>\n",
       "      <th>volume_data_moy</th>\n",
       "      <th>volume_data_med</th>\n",
       "      <th>smsisdn</th>\n",
       "      <th>nbre_corr_sortant</th>\n",
       "      <th>nbre_corr_sortant_distinc</th>\n",
       "      <th>nbre_corr_entrant</th>\n",
       "      <th>nbre_corr_entrant_distinct</th>\n",
       "      <th>taux_inter</th>\n",
       "    </tr>\n",
       "  </thead>\n",
       "  <tbody>\n",
       "    <tr>\n",
       "      <th>0</th>\n",
       "      <td>225</td>\n",
       "      <td>NULL</td>\n",
       "      <td>NULL</td>\n",
       "      <td>NULL</td>\n",
       "      <td>NULL</td>\n",
       "      <td>NULL</td>\n",
       "      <td>NULL</td>\n",
       "      <td>NULL</td>\n",
       "      <td>NULL</td>\n",
       "      <td>NULL</td>\n",
       "      <td>...</td>\n",
       "      <td>0</td>\n",
       "      <td>0</td>\n",
       "      <td>0</td>\n",
       "      <td>0</td>\n",
       "      <td>0</td>\n",
       "      <td>0</td>\n",
       "      <td>0</td>\n",
       "      <td>0</td>\n",
       "      <td>0</td>\n",
       "      <td>0</td>\n",
       "    </tr>\n",
       "  </tbody>\n",
       "</table>\n",
       "<p>1 rows × 163 columns</p>\n",
       "</div>"
      ],
      "text/plain": [
       "  features_smile_msisdn features_smile_nombre_sms_sortants  \\\n",
       "0                   225                               NULL   \n",
       "\n",
       "  features_smile_nombre_correspondant_sms_sortant  \\\n",
       "0                                            NULL   \n",
       "\n",
       "  features_smile_nombre_appels_sortants  \\\n",
       "0                                  NULL   \n",
       "\n",
       "  features_smile_nombre_correspondant_appels_sortant  \\\n",
       "0                                               NULL   \n",
       "\n",
       "  features_smile_nombre_correspondant_distinct_appels_sortant  \\\n",
       "0                                               NULL            \n",
       "\n",
       "  features_smile_duree_totale_appel_sortant  \\\n",
       "0                                      NULL   \n",
       "\n",
       "  features_smile_duree_moyenne_appel_sortant  \\\n",
       "0                                       NULL   \n",
       "\n",
       "  features_smile_nombre_sms_entrants  \\\n",
       "0                               NULL   \n",
       "\n",
       "  features_smile_nombre_correspondant_sms_entrant  ...  \\\n",
       "0                                            NULL  ...   \n",
       "\n",
       "  duree_moy_call_complice volume_data_total volume_data_moy volume_data_med  \\\n",
       "0                       0                 0               0               0   \n",
       "\n",
       "  smsisdn nbre_corr_sortant nbre_corr_sortant_distinc nbre_corr_entrant  \\\n",
       "0       0                 0                         0                 0   \n",
       "\n",
       "  nbre_corr_entrant_distinct taux_inter  \n",
       "0                          0          0  \n",
       "\n",
       "[1 rows x 163 columns]"
      ]
     },
     "execution_count": 27,
     "metadata": {},
     "output_type": "execute_result"
    }
   ],
   "source": [
    "df.fillna(0)"
   ]
  },
  {
   "cell_type": "code",
   "execution_count": 29,
   "metadata": {},
   "outputs": [],
   "source": [
    "df = df.replace(\"NULL\", 0)"
   ]
  },
  {
   "cell_type": "code",
   "execution_count": 30,
   "metadata": {},
   "outputs": [
    {
     "data": {
      "text/html": [
       "<div>\n",
       "<style scoped>\n",
       "    .dataframe tbody tr th:only-of-type {\n",
       "        vertical-align: middle;\n",
       "    }\n",
       "\n",
       "    .dataframe tbody tr th {\n",
       "        vertical-align: top;\n",
       "    }\n",
       "\n",
       "    .dataframe thead th {\n",
       "        text-align: right;\n",
       "    }\n",
       "</style>\n",
       "<table border=\"1\" class=\"dataframe\">\n",
       "  <thead>\n",
       "    <tr style=\"text-align: right;\">\n",
       "      <th></th>\n",
       "      <th>features_smile_msisdn</th>\n",
       "      <th>features_smile_nombre_sms_sortants</th>\n",
       "      <th>features_smile_nombre_correspondant_sms_sortant</th>\n",
       "      <th>features_smile_nombre_appels_sortants</th>\n",
       "      <th>features_smile_nombre_correspondant_appels_sortant</th>\n",
       "      <th>features_smile_nombre_correspondant_distinct_appels_sortant</th>\n",
       "      <th>features_smile_duree_totale_appel_sortant</th>\n",
       "      <th>features_smile_duree_moyenne_appel_sortant</th>\n",
       "      <th>features_smile_nombre_sms_entrants</th>\n",
       "      <th>features_smile_nombre_correspondant_sms_entrant</th>\n",
       "      <th>...</th>\n",
       "      <th>duree_moy_call_complice</th>\n",
       "      <th>volume_data_total</th>\n",
       "      <th>volume_data_moy</th>\n",
       "      <th>volume_data_med</th>\n",
       "      <th>smsisdn</th>\n",
       "      <th>nbre_corr_sortant</th>\n",
       "      <th>nbre_corr_sortant_distinc</th>\n",
       "      <th>nbre_corr_entrant</th>\n",
       "      <th>nbre_corr_entrant_distinct</th>\n",
       "      <th>taux_inter</th>\n",
       "    </tr>\n",
       "  </thead>\n",
       "  <tbody>\n",
       "    <tr>\n",
       "      <th>0</th>\n",
       "      <td>225</td>\n",
       "      <td>0</td>\n",
       "      <td>0</td>\n",
       "      <td>0</td>\n",
       "      <td>0</td>\n",
       "      <td>0</td>\n",
       "      <td>0</td>\n",
       "      <td>0</td>\n",
       "      <td>0</td>\n",
       "      <td>0</td>\n",
       "      <td>...</td>\n",
       "      <td>0</td>\n",
       "      <td>0</td>\n",
       "      <td>0</td>\n",
       "      <td>0</td>\n",
       "      <td>0</td>\n",
       "      <td>0</td>\n",
       "      <td>0</td>\n",
       "      <td>0</td>\n",
       "      <td>0</td>\n",
       "      <td>0</td>\n",
       "    </tr>\n",
       "  </tbody>\n",
       "</table>\n",
       "<p>1 rows × 163 columns</p>\n",
       "</div>"
      ],
      "text/plain": [
       "  features_smile_msisdn  features_smile_nombre_sms_sortants  \\\n",
       "0                   225                                   0   \n",
       "\n",
       "   features_smile_nombre_correspondant_sms_sortant  \\\n",
       "0                                                0   \n",
       "\n",
       "   features_smile_nombre_appels_sortants  \\\n",
       "0                                      0   \n",
       "\n",
       "   features_smile_nombre_correspondant_appels_sortant  \\\n",
       "0                                                  0    \n",
       "\n",
       "   features_smile_nombre_correspondant_distinct_appels_sortant  \\\n",
       "0                                                  0             \n",
       "\n",
       "   features_smile_duree_totale_appel_sortant  \\\n",
       "0                                          0   \n",
       "\n",
       "   features_smile_duree_moyenne_appel_sortant  \\\n",
       "0                                           0   \n",
       "\n",
       "   features_smile_nombre_sms_entrants  \\\n",
       "0                                   0   \n",
       "\n",
       "   features_smile_nombre_correspondant_sms_entrant  ...  \\\n",
       "0                                                0  ...   \n",
       "\n",
       "   duree_moy_call_complice  volume_data_total  volume_data_moy  \\\n",
       "0                        0                  0                0   \n",
       "\n",
       "   volume_data_med  smsisdn  nbre_corr_sortant  nbre_corr_sortant_distinc  \\\n",
       "0                0        0                  0                          0   \n",
       "\n",
       "   nbre_corr_entrant  nbre_corr_entrant_distinct  taux_inter  \n",
       "0                  0                           0           0  \n",
       "\n",
       "[1 rows x 163 columns]"
      ]
     },
     "execution_count": 30,
     "metadata": {},
     "output_type": "execute_result"
    }
   ],
   "source": [
    "df"
   ]
  },
  {
   "cell_type": "code",
   "execution_count": 12,
   "metadata": {},
   "outputs": [],
   "source": [
    "# Import module for data manipulation\n",
    "import pandas as pd\n",
    "# Import module for linear algebra\n",
    "import numpy as np\n",
    "# Import module for data visualization\n",
    "from plotnine import *\n",
    "import plotnine\n",
    "# Import module for k-protoype cluster\n",
    "from kmodes.kprototypes import KPrototypes\n",
    "# Ignore warnings\n",
    "import warnings\n",
    "warnings.filterwarnings('ignore', category = FutureWarning)\n",
    "# Format scientific notation from Pandas\n",
    "pd.set_option('display.float_format', lambda x: '%.3f' % x)\n",
    "import pyarrow.parquet as pq"
   ]
  },
  {
   "cell_type": "code",
   "execution_count": 13,
   "metadata": {},
   "outputs": [],
   "source": [
    "df = pq.read_table(source = \"lastt.parquet\").to_pandas()\n",
    "df = df.fillna(0)\n",
    "df = df.replace(\"NULL\", 0)"
   ]
  },
  {
   "cell_type": "code",
   "execution_count": 14,
   "metadata": {},
   "outputs": [
    {
     "name": "stdout",
     "output_type": "stream",
     "text": [
      "<class 'pandas.core.frame.DataFrame'>\n",
      "RangeIndex: 1763284 entries, 0 to 1763283\n",
      "Columns: 163 entries, features_smile_msisdn to taux_inter\n",
      "dtypes: int64(11), object(152)\n",
      "memory usage: 2.1+ GB\n"
     ]
    }
   ],
   "source": [
    "df.info()"
   ]
  },
  {
   "cell_type": "code",
   "execution_count": 15,
   "metadata": {},
   "outputs": [
    {
     "ename": "TypeError",
     "evalue": "unsupported operand type(s) for -: 'str' and 'float'",
     "output_type": "error",
     "traceback": [
      "\u001b[0;31m---------------------------------------------------------------------------\u001b[0m",
      "\u001b[0;31mTypeError\u001b[0m                                 Traceback (most recent call last)",
      "\u001b[0;32m~/opt/anaconda3/lib/python3.8/site-packages/pandas/core/ops/array_ops.py\u001b[0m in \u001b[0;36mna_arithmetic_op\u001b[0;34m(left, right, op, is_cmp)\u001b[0m\n\u001b[1;32m    142\u001b[0m     \u001b[0;32mtry\u001b[0m\u001b[0;34m:\u001b[0m\u001b[0;34m\u001b[0m\u001b[0;34m\u001b[0m\u001b[0m\n\u001b[0;32m--> 143\u001b[0;31m         \u001b[0mresult\u001b[0m \u001b[0;34m=\u001b[0m \u001b[0mexpressions\u001b[0m\u001b[0;34m.\u001b[0m\u001b[0mevaluate\u001b[0m\u001b[0;34m(\u001b[0m\u001b[0mop\u001b[0m\u001b[0;34m,\u001b[0m \u001b[0mleft\u001b[0m\u001b[0;34m,\u001b[0m \u001b[0mright\u001b[0m\u001b[0;34m)\u001b[0m\u001b[0;34m\u001b[0m\u001b[0;34m\u001b[0m\u001b[0m\n\u001b[0m\u001b[1;32m    144\u001b[0m     \u001b[0;32mexcept\u001b[0m \u001b[0mTypeError\u001b[0m\u001b[0;34m:\u001b[0m\u001b[0;34m\u001b[0m\u001b[0;34m\u001b[0m\u001b[0m\n",
      "\u001b[0;32m~/opt/anaconda3/lib/python3.8/site-packages/pandas/core/computation/expressions.py\u001b[0m in \u001b[0;36mevaluate\u001b[0;34m(op, a, b, use_numexpr)\u001b[0m\n\u001b[1;32m    232\u001b[0m         \u001b[0;32mif\u001b[0m \u001b[0muse_numexpr\u001b[0m\u001b[0;34m:\u001b[0m\u001b[0;34m\u001b[0m\u001b[0;34m\u001b[0m\u001b[0m\n\u001b[0;32m--> 233\u001b[0;31m             \u001b[0;32mreturn\u001b[0m \u001b[0m_evaluate\u001b[0m\u001b[0;34m(\u001b[0m\u001b[0mop\u001b[0m\u001b[0;34m,\u001b[0m \u001b[0mop_str\u001b[0m\u001b[0;34m,\u001b[0m \u001b[0ma\u001b[0m\u001b[0;34m,\u001b[0m \u001b[0mb\u001b[0m\u001b[0;34m)\u001b[0m  \u001b[0;31m# type: ignore\u001b[0m\u001b[0;34m\u001b[0m\u001b[0;34m\u001b[0m\u001b[0m\n\u001b[0m\u001b[1;32m    234\u001b[0m     \u001b[0;32mreturn\u001b[0m \u001b[0m_evaluate_standard\u001b[0m\u001b[0;34m(\u001b[0m\u001b[0mop\u001b[0m\u001b[0;34m,\u001b[0m \u001b[0mop_str\u001b[0m\u001b[0;34m,\u001b[0m \u001b[0ma\u001b[0m\u001b[0;34m,\u001b[0m \u001b[0mb\u001b[0m\u001b[0;34m)\u001b[0m\u001b[0;34m\u001b[0m\u001b[0;34m\u001b[0m\u001b[0m\n",
      "\u001b[0;32m~/opt/anaconda3/lib/python3.8/site-packages/pandas/core/computation/expressions.py\u001b[0m in \u001b[0;36m_evaluate_numexpr\u001b[0;34m(op, op_str, a, b)\u001b[0m\n\u001b[1;32m    118\u001b[0m     \u001b[0;32mif\u001b[0m \u001b[0mresult\u001b[0m \u001b[0;32mis\u001b[0m \u001b[0;32mNone\u001b[0m\u001b[0;34m:\u001b[0m\u001b[0;34m\u001b[0m\u001b[0;34m\u001b[0m\u001b[0m\n\u001b[0;32m--> 119\u001b[0;31m         \u001b[0mresult\u001b[0m \u001b[0;34m=\u001b[0m \u001b[0m_evaluate_standard\u001b[0m\u001b[0;34m(\u001b[0m\u001b[0mop\u001b[0m\u001b[0;34m,\u001b[0m \u001b[0mop_str\u001b[0m\u001b[0;34m,\u001b[0m \u001b[0ma\u001b[0m\u001b[0;34m,\u001b[0m \u001b[0mb\u001b[0m\u001b[0;34m)\u001b[0m\u001b[0;34m\u001b[0m\u001b[0;34m\u001b[0m\u001b[0m\n\u001b[0m\u001b[1;32m    120\u001b[0m \u001b[0;34m\u001b[0m\u001b[0m\n",
      "\u001b[0;32m~/opt/anaconda3/lib/python3.8/site-packages/pandas/core/computation/expressions.py\u001b[0m in \u001b[0;36m_evaluate_standard\u001b[0;34m(op, op_str, a, b)\u001b[0m\n\u001b[1;32m     67\u001b[0m     \u001b[0;32mwith\u001b[0m \u001b[0mnp\u001b[0m\u001b[0;34m.\u001b[0m\u001b[0merrstate\u001b[0m\u001b[0;34m(\u001b[0m\u001b[0mall\u001b[0m\u001b[0;34m=\u001b[0m\u001b[0;34m\"ignore\"\u001b[0m\u001b[0;34m)\u001b[0m\u001b[0;34m:\u001b[0m\u001b[0;34m\u001b[0m\u001b[0;34m\u001b[0m\u001b[0m\n\u001b[0;32m---> 68\u001b[0;31m         \u001b[0;32mreturn\u001b[0m \u001b[0mop\u001b[0m\u001b[0;34m(\u001b[0m\u001b[0ma\u001b[0m\u001b[0;34m,\u001b[0m \u001b[0mb\u001b[0m\u001b[0;34m)\u001b[0m\u001b[0;34m\u001b[0m\u001b[0;34m\u001b[0m\u001b[0m\n\u001b[0m\u001b[1;32m     69\u001b[0m \u001b[0;34m\u001b[0m\u001b[0m\n",
      "\u001b[0;31mTypeError\u001b[0m: unsupported operand type(s) for -: 'str' and 'float'",
      "\nDuring handling of the above exception, another exception occurred:\n",
      "\u001b[0;31mTypeError\u001b[0m                                 Traceback (most recent call last)",
      "\u001b[0;32m<ipython-input-15-8c3da11662b5>\u001b[0m in \u001b[0;36m<module>\u001b[0;34m\u001b[0m\n\u001b[0;32m----> 1\u001b[0;31m \u001b[0mnormalized_df\u001b[0m\u001b[0;34m=\u001b[0m\u001b[0;34m(\u001b[0m\u001b[0mdf\u001b[0m\u001b[0;34m-\u001b[0m\u001b[0mdf\u001b[0m\u001b[0;34m.\u001b[0m\u001b[0mmean\u001b[0m\u001b[0;34m(\u001b[0m\u001b[0;34m)\u001b[0m\u001b[0;34m)\u001b[0m\u001b[0;34m/\u001b[0m\u001b[0mdf\u001b[0m\u001b[0;34m.\u001b[0m\u001b[0mstd\u001b[0m\u001b[0;34m(\u001b[0m\u001b[0;34m)\u001b[0m\u001b[0;34m\u001b[0m\u001b[0;34m\u001b[0m\u001b[0m\n\u001b[0m",
      "\u001b[0;32m~/opt/anaconda3/lib/python3.8/site-packages/pandas/core/ops/__init__.py\u001b[0m in \u001b[0;36mf\u001b[0;34m(self, other, axis, level, fill_value)\u001b[0m\n\u001b[1;32m    649\u001b[0m         \u001b[0;32mif\u001b[0m \u001b[0misinstance\u001b[0m\u001b[0;34m(\u001b[0m\u001b[0mother\u001b[0m\u001b[0;34m,\u001b[0m \u001b[0mABCDataFrame\u001b[0m\u001b[0;34m)\u001b[0m\u001b[0;34m:\u001b[0m\u001b[0;34m\u001b[0m\u001b[0;34m\u001b[0m\u001b[0m\n\u001b[1;32m    650\u001b[0m             \u001b[0;31m# Another DataFrame\u001b[0m\u001b[0;34m\u001b[0m\u001b[0;34m\u001b[0m\u001b[0;34m\u001b[0m\u001b[0m\n\u001b[0;32m--> 651\u001b[0;31m             \u001b[0mnew_data\u001b[0m \u001b[0;34m=\u001b[0m \u001b[0mself\u001b[0m\u001b[0;34m.\u001b[0m\u001b[0m_combine_frame\u001b[0m\u001b[0;34m(\u001b[0m\u001b[0mother\u001b[0m\u001b[0;34m,\u001b[0m \u001b[0mna_op\u001b[0m\u001b[0;34m,\u001b[0m \u001b[0mfill_value\u001b[0m\u001b[0;34m)\u001b[0m\u001b[0;34m\u001b[0m\u001b[0;34m\u001b[0m\u001b[0m\n\u001b[0m\u001b[1;32m    652\u001b[0m \u001b[0;34m\u001b[0m\u001b[0m\n\u001b[1;32m    653\u001b[0m         \u001b[0;32melif\u001b[0m \u001b[0misinstance\u001b[0m\u001b[0;34m(\u001b[0m\u001b[0mother\u001b[0m\u001b[0;34m,\u001b[0m \u001b[0mABCSeries\u001b[0m\u001b[0;34m)\u001b[0m\u001b[0;34m:\u001b[0m\u001b[0;34m\u001b[0m\u001b[0;34m\u001b[0m\u001b[0m\n",
      "\u001b[0;32m~/opt/anaconda3/lib/python3.8/site-packages/pandas/core/frame.py\u001b[0m in \u001b[0;36m_combine_frame\u001b[0;34m(self, other, func, fill_value)\u001b[0m\n\u001b[1;32m   5864\u001b[0m                 \u001b[0;32mreturn\u001b[0m \u001b[0mfunc\u001b[0m\u001b[0;34m(\u001b[0m\u001b[0mleft\u001b[0m\u001b[0;34m,\u001b[0m \u001b[0mright\u001b[0m\u001b[0;34m)\u001b[0m\u001b[0;34m\u001b[0m\u001b[0;34m\u001b[0m\u001b[0m\n\u001b[1;32m   5865\u001b[0m \u001b[0;34m\u001b[0m\u001b[0m\n\u001b[0;32m-> 5866\u001b[0;31m         \u001b[0mnew_data\u001b[0m \u001b[0;34m=\u001b[0m \u001b[0mops\u001b[0m\u001b[0;34m.\u001b[0m\u001b[0mdispatch_to_series\u001b[0m\u001b[0;34m(\u001b[0m\u001b[0mself\u001b[0m\u001b[0;34m,\u001b[0m \u001b[0mother\u001b[0m\u001b[0;34m,\u001b[0m \u001b[0m_arith_op\u001b[0m\u001b[0;34m)\u001b[0m\u001b[0;34m\u001b[0m\u001b[0;34m\u001b[0m\u001b[0m\n\u001b[0m\u001b[1;32m   5867\u001b[0m         \u001b[0;32mreturn\u001b[0m \u001b[0mnew_data\u001b[0m\u001b[0;34m\u001b[0m\u001b[0;34m\u001b[0m\u001b[0m\n\u001b[1;32m   5868\u001b[0m \u001b[0;34m\u001b[0m\u001b[0m\n",
      "\u001b[0;32m~/opt/anaconda3/lib/python3.8/site-packages/pandas/core/ops/__init__.py\u001b[0m in \u001b[0;36mdispatch_to_series\u001b[0;34m(left, right, func, axis)\u001b[0m\n\u001b[1;32m    273\u001b[0m         \u001b[0;31m#  _frame_arith_method_with_reindex\u001b[0m\u001b[0;34m\u001b[0m\u001b[0;34m\u001b[0m\u001b[0;34m\u001b[0m\u001b[0m\n\u001b[1;32m    274\u001b[0m \u001b[0;34m\u001b[0m\u001b[0m\n\u001b[0;32m--> 275\u001b[0;31m         \u001b[0mbm\u001b[0m \u001b[0;34m=\u001b[0m \u001b[0mleft\u001b[0m\u001b[0;34m.\u001b[0m\u001b[0m_mgr\u001b[0m\u001b[0;34m.\u001b[0m\u001b[0moperate_blockwise\u001b[0m\u001b[0;34m(\u001b[0m\u001b[0mright\u001b[0m\u001b[0;34m.\u001b[0m\u001b[0m_mgr\u001b[0m\u001b[0;34m,\u001b[0m \u001b[0marray_op\u001b[0m\u001b[0;34m)\u001b[0m\u001b[0;34m\u001b[0m\u001b[0;34m\u001b[0m\u001b[0m\n\u001b[0m\u001b[1;32m    276\u001b[0m         \u001b[0;32mreturn\u001b[0m \u001b[0mtype\u001b[0m\u001b[0;34m(\u001b[0m\u001b[0mleft\u001b[0m\u001b[0;34m)\u001b[0m\u001b[0;34m(\u001b[0m\u001b[0mbm\u001b[0m\u001b[0;34m)\u001b[0m\u001b[0;34m\u001b[0m\u001b[0;34m\u001b[0m\u001b[0m\n\u001b[1;32m    277\u001b[0m \u001b[0;34m\u001b[0m\u001b[0m\n",
      "\u001b[0;32m~/opt/anaconda3/lib/python3.8/site-packages/pandas/core/internals/managers.py\u001b[0m in \u001b[0;36moperate_blockwise\u001b[0;34m(self, other, array_op)\u001b[0m\n\u001b[1;32m    362\u001b[0m         \u001b[0mApply\u001b[0m \u001b[0marray_op\u001b[0m \u001b[0mblockwise\u001b[0m \u001b[0;32mwith\u001b[0m \u001b[0manother\u001b[0m \u001b[0;34m(\u001b[0m\u001b[0maligned\u001b[0m\u001b[0;34m)\u001b[0m \u001b[0mBlockManager\u001b[0m\u001b[0;34m.\u001b[0m\u001b[0;34m\u001b[0m\u001b[0;34m\u001b[0m\u001b[0m\n\u001b[1;32m    363\u001b[0m         \"\"\"\n\u001b[0;32m--> 364\u001b[0;31m         \u001b[0;32mreturn\u001b[0m \u001b[0moperate_blockwise\u001b[0m\u001b[0;34m(\u001b[0m\u001b[0mself\u001b[0m\u001b[0;34m,\u001b[0m \u001b[0mother\u001b[0m\u001b[0;34m,\u001b[0m \u001b[0marray_op\u001b[0m\u001b[0;34m)\u001b[0m\u001b[0;34m\u001b[0m\u001b[0;34m\u001b[0m\u001b[0m\n\u001b[0m\u001b[1;32m    365\u001b[0m \u001b[0;34m\u001b[0m\u001b[0m\n\u001b[1;32m    366\u001b[0m     \u001b[0;32mdef\u001b[0m \u001b[0mapply\u001b[0m\u001b[0;34m(\u001b[0m\u001b[0mself\u001b[0m\u001b[0;34m:\u001b[0m \u001b[0mT\u001b[0m\u001b[0;34m,\u001b[0m \u001b[0mf\u001b[0m\u001b[0;34m,\u001b[0m \u001b[0malign_keys\u001b[0m\u001b[0;34m=\u001b[0m\u001b[0;32mNone\u001b[0m\u001b[0;34m,\u001b[0m \u001b[0;34m**\u001b[0m\u001b[0mkwargs\u001b[0m\u001b[0;34m)\u001b[0m \u001b[0;34m->\u001b[0m \u001b[0mT\u001b[0m\u001b[0;34m:\u001b[0m\u001b[0;34m\u001b[0m\u001b[0;34m\u001b[0m\u001b[0m\n",
      "\u001b[0;32m~/opt/anaconda3/lib/python3.8/site-packages/pandas/core/internals/ops.py\u001b[0m in \u001b[0;36moperate_blockwise\u001b[0;34m(left, right, array_op)\u001b[0m\n\u001b[1;32m     36\u001b[0m             \u001b[0mlvals\u001b[0m\u001b[0;34m,\u001b[0m \u001b[0mrvals\u001b[0m \u001b[0;34m=\u001b[0m \u001b[0m_get_same_shape_values\u001b[0m\u001b[0;34m(\u001b[0m\u001b[0mblk\u001b[0m\u001b[0;34m,\u001b[0m \u001b[0mrblk\u001b[0m\u001b[0;34m,\u001b[0m \u001b[0mleft_ea\u001b[0m\u001b[0;34m,\u001b[0m \u001b[0mright_ea\u001b[0m\u001b[0;34m)\u001b[0m\u001b[0;34m\u001b[0m\u001b[0;34m\u001b[0m\u001b[0m\n\u001b[1;32m     37\u001b[0m \u001b[0;34m\u001b[0m\u001b[0m\n\u001b[0;32m---> 38\u001b[0;31m             \u001b[0mres_values\u001b[0m \u001b[0;34m=\u001b[0m \u001b[0marray_op\u001b[0m\u001b[0;34m(\u001b[0m\u001b[0mlvals\u001b[0m\u001b[0;34m,\u001b[0m \u001b[0mrvals\u001b[0m\u001b[0;34m)\u001b[0m\u001b[0;34m\u001b[0m\u001b[0;34m\u001b[0m\u001b[0m\n\u001b[0m\u001b[1;32m     39\u001b[0m             \u001b[0;32mif\u001b[0m \u001b[0mleft_ea\u001b[0m \u001b[0;32mand\u001b[0m \u001b[0;32mnot\u001b[0m \u001b[0mright_ea\u001b[0m \u001b[0;32mand\u001b[0m \u001b[0mhasattr\u001b[0m\u001b[0;34m(\u001b[0m\u001b[0mres_values\u001b[0m\u001b[0;34m,\u001b[0m \u001b[0;34m\"reshape\"\u001b[0m\u001b[0;34m)\u001b[0m\u001b[0;34m:\u001b[0m\u001b[0;34m\u001b[0m\u001b[0;34m\u001b[0m\u001b[0m\n\u001b[1;32m     40\u001b[0m                 \u001b[0mres_values\u001b[0m \u001b[0;34m=\u001b[0m \u001b[0mres_values\u001b[0m\u001b[0;34m.\u001b[0m\u001b[0mreshape\u001b[0m\u001b[0;34m(\u001b[0m\u001b[0;36m1\u001b[0m\u001b[0;34m,\u001b[0m \u001b[0;34m-\u001b[0m\u001b[0;36m1\u001b[0m\u001b[0;34m)\u001b[0m\u001b[0;34m\u001b[0m\u001b[0;34m\u001b[0m\u001b[0m\n",
      "\u001b[0;32m~/opt/anaconda3/lib/python3.8/site-packages/pandas/core/ops/array_ops.py\u001b[0m in \u001b[0;36marithmetic_op\u001b[0;34m(left, right, op)\u001b[0m\n\u001b[1;32m    188\u001b[0m     \u001b[0;32melse\u001b[0m\u001b[0;34m:\u001b[0m\u001b[0;34m\u001b[0m\u001b[0;34m\u001b[0m\u001b[0m\n\u001b[1;32m    189\u001b[0m         \u001b[0;32mwith\u001b[0m \u001b[0mnp\u001b[0m\u001b[0;34m.\u001b[0m\u001b[0merrstate\u001b[0m\u001b[0;34m(\u001b[0m\u001b[0mall\u001b[0m\u001b[0;34m=\u001b[0m\u001b[0;34m\"ignore\"\u001b[0m\u001b[0;34m)\u001b[0m\u001b[0;34m:\u001b[0m\u001b[0;34m\u001b[0m\u001b[0;34m\u001b[0m\u001b[0m\n\u001b[0;32m--> 190\u001b[0;31m             \u001b[0mres_values\u001b[0m \u001b[0;34m=\u001b[0m \u001b[0mna_arithmetic_op\u001b[0m\u001b[0;34m(\u001b[0m\u001b[0mlvalues\u001b[0m\u001b[0;34m,\u001b[0m \u001b[0mrvalues\u001b[0m\u001b[0;34m,\u001b[0m \u001b[0mop\u001b[0m\u001b[0;34m)\u001b[0m\u001b[0;34m\u001b[0m\u001b[0;34m\u001b[0m\u001b[0m\n\u001b[0m\u001b[1;32m    191\u001b[0m \u001b[0;34m\u001b[0m\u001b[0m\n\u001b[1;32m    192\u001b[0m     \u001b[0;32mreturn\u001b[0m \u001b[0mres_values\u001b[0m\u001b[0;34m\u001b[0m\u001b[0;34m\u001b[0m\u001b[0m\n",
      "\u001b[0;32m~/opt/anaconda3/lib/python3.8/site-packages/pandas/core/ops/array_ops.py\u001b[0m in \u001b[0;36mna_arithmetic_op\u001b[0;34m(left, right, op, is_cmp)\u001b[0m\n\u001b[1;32m    148\u001b[0m             \u001b[0;31m#  will handle complex numbers incorrectly, see GH#32047\u001b[0m\u001b[0;34m\u001b[0m\u001b[0;34m\u001b[0m\u001b[0;34m\u001b[0m\u001b[0m\n\u001b[1;32m    149\u001b[0m             \u001b[0;32mraise\u001b[0m\u001b[0;34m\u001b[0m\u001b[0;34m\u001b[0m\u001b[0m\n\u001b[0;32m--> 150\u001b[0;31m         \u001b[0mresult\u001b[0m \u001b[0;34m=\u001b[0m \u001b[0mmasked_arith_op\u001b[0m\u001b[0;34m(\u001b[0m\u001b[0mleft\u001b[0m\u001b[0;34m,\u001b[0m \u001b[0mright\u001b[0m\u001b[0;34m,\u001b[0m \u001b[0mop\u001b[0m\u001b[0;34m)\u001b[0m\u001b[0;34m\u001b[0m\u001b[0;34m\u001b[0m\u001b[0m\n\u001b[0m\u001b[1;32m    151\u001b[0m \u001b[0;34m\u001b[0m\u001b[0m\n\u001b[1;32m    152\u001b[0m     \u001b[0;32mif\u001b[0m \u001b[0mis_cmp\u001b[0m \u001b[0;32mand\u001b[0m \u001b[0;34m(\u001b[0m\u001b[0mis_scalar\u001b[0m\u001b[0;34m(\u001b[0m\u001b[0mresult\u001b[0m\u001b[0;34m)\u001b[0m \u001b[0;32mor\u001b[0m \u001b[0mresult\u001b[0m \u001b[0;32mis\u001b[0m \u001b[0mNotImplemented\u001b[0m\u001b[0;34m)\u001b[0m\u001b[0;34m:\u001b[0m\u001b[0;34m\u001b[0m\u001b[0;34m\u001b[0m\u001b[0m\n",
      "\u001b[0;32m~/opt/anaconda3/lib/python3.8/site-packages/pandas/core/ops/array_ops.py\u001b[0m in \u001b[0;36mmasked_arith_op\u001b[0;34m(x, y, op)\u001b[0m\n\u001b[1;32m     90\u001b[0m         \u001b[0;32mif\u001b[0m \u001b[0mmask\u001b[0m\u001b[0;34m.\u001b[0m\u001b[0many\u001b[0m\u001b[0;34m(\u001b[0m\u001b[0;34m)\u001b[0m\u001b[0;34m:\u001b[0m\u001b[0;34m\u001b[0m\u001b[0;34m\u001b[0m\u001b[0m\n\u001b[1;32m     91\u001b[0m             \u001b[0;32mwith\u001b[0m \u001b[0mnp\u001b[0m\u001b[0;34m.\u001b[0m\u001b[0merrstate\u001b[0m\u001b[0;34m(\u001b[0m\u001b[0mall\u001b[0m\u001b[0;34m=\u001b[0m\u001b[0;34m\"ignore\"\u001b[0m\u001b[0;34m)\u001b[0m\u001b[0;34m:\u001b[0m\u001b[0;34m\u001b[0m\u001b[0;34m\u001b[0m\u001b[0m\n\u001b[0;32m---> 92\u001b[0;31m                 \u001b[0mresult\u001b[0m\u001b[0;34m[\u001b[0m\u001b[0mmask\u001b[0m\u001b[0;34m]\u001b[0m \u001b[0;34m=\u001b[0m \u001b[0mop\u001b[0m\u001b[0;34m(\u001b[0m\u001b[0mxrav\u001b[0m\u001b[0;34m[\u001b[0m\u001b[0mmask\u001b[0m\u001b[0;34m]\u001b[0m\u001b[0;34m,\u001b[0m \u001b[0myrav\u001b[0m\u001b[0;34m[\u001b[0m\u001b[0mmask\u001b[0m\u001b[0;34m]\u001b[0m\u001b[0;34m)\u001b[0m\u001b[0;34m\u001b[0m\u001b[0;34m\u001b[0m\u001b[0m\n\u001b[0m\u001b[1;32m     93\u001b[0m \u001b[0;34m\u001b[0m\u001b[0m\n\u001b[1;32m     94\u001b[0m     \u001b[0;32melse\u001b[0m\u001b[0;34m:\u001b[0m\u001b[0;34m\u001b[0m\u001b[0;34m\u001b[0m\u001b[0m\n",
      "\u001b[0;31mTypeError\u001b[0m: unsupported operand type(s) for -: 'str' and 'float'"
     ]
    }
   ],
   "source": [
    "normalized_df=(df-df.mean())/df.std()"
   ]
  },
  {
   "cell_type": "code",
   "execution_count": 18,
   "metadata": {},
   "outputs": [
    {
     "data": {
      "text/plain": [
       "features_smile_msisdn                                 object\n",
       "features_smile_nombre_sms_sortants                    object\n",
       "features_smile_nombre_correspondant_sms_sortant       object\n",
       "features_smile_nombre_appels_sortants                 object\n",
       "features_smile_nombre_correspondant_appels_sortant    object\n",
       "                                                       ...  \n",
       "nbre_corr_sortant                                     object\n",
       "nbre_corr_sortant_distinc                             object\n",
       "nbre_corr_entrant                                     object\n",
       "nbre_corr_entrant_distinct                            object\n",
       "taux_inter                                            object\n",
       "Length: 163, dtype: object"
      ]
     },
     "execution_count": 18,
     "metadata": {},
     "output_type": "execute_result"
    }
   ],
   "source": [
    "df.dtypes"
   ]
  },
  {
   "cell_type": "code",
   "execution_count": 25,
   "metadata": {},
   "outputs": [],
   "source": [
    "def d(liste) :\n",
    "    c = []\n",
    "    for i in range(len(liste)-1) :\n",
    "        if liste[i] == liste[i+1] :\n",
    "            c.append(liste[i] + liste[i+1])\n",
    "        else :\n",
    "            c.append(liste[i])\n",
    "    return c"
   ]
  },
  {
   "cell_type": "code",
   "execution_count": 26,
   "metadata": {},
   "outputs": [
    {
     "data": {
      "text/plain": [
       "[1, 8, 8, 4, 0, 0, 4, 6, 3]"
      ]
     },
     "execution_count": 26,
     "metadata": {},
     "output_type": "execute_result"
    }
   ],
   "source": [
    "d([1, 4, 4, 4, 0, 0, 4, 3, 3, 1])"
   ]
  },
  {
   "cell_type": "code",
   "execution_count": 24,
   "metadata": {},
   "outputs": [
    {
     "data": {
      "text/plain": [
       "10"
      ]
     },
     "execution_count": 24,
     "metadata": {},
     "output_type": "execute_result"
    }
   ],
   "source": []
  },
  {
   "cell_type": "code",
   "execution_count": 27,
   "metadata": {},
   "outputs": [
    {
     "data": {
      "text/plain": [
       "[0, 1, 2, 3, 4, 5, 6, 7, 8]"
      ]
     },
     "execution_count": 27,
     "metadata": {},
     "output_type": "execute_result"
    }
   ],
   "source": [
    "list(range(len([1, 4, 4, 4, 0, 0, 4, 3, 3, 1])-1))"
   ]
  },
  {
   "cell_type": "code",
   "execution_count": 30,
   "metadata": {},
   "outputs": [],
   "source": [
    "def dd(liste) :\n",
    "    c = []\n",
    "    for i in range(len(liste)-1) :\n",
    "        if liste[i] == liste[i+1] :\n",
    "            c.append(liste[i+1])\n",
    "    return c"
   ]
  },
  {
   "cell_type": "code",
   "execution_count": 31,
   "metadata": {},
   "outputs": [
    {
     "data": {
      "text/plain": [
       "[4, 4, 0, 3]"
      ]
     },
     "execution_count": 31,
     "metadata": {},
     "output_type": "execute_result"
    }
   ],
   "source": [
    "dd([1, 4, 4, 4, 0, 0, 4, 3, 3, 1])"
   ]
  },
  {
   "cell_type": "code",
   "execution_count": 34,
   "metadata": {},
   "outputs": [],
   "source": [
    "import pandas as pd\n",
    "from pyhive import hive"
   ]
  },
  {
   "cell_type": "code",
   "execution_count": 38,
   "metadata": {},
   "outputs": [],
   "source": [
    "#conn = hive.Connection(host=\"10.241.10.22\", username=\"sunshine\", password = \"ocit123\", database= \"sunshine\", auth = \"LDAP\")"
   ]
  },
  {
   "cell_type": "code",
   "execution_count": null,
   "metadata": {},
   "outputs": [],
   "source": [
    "df = pd.read_sql(\"SELECT cool_stuff FROM hive_table\", conn)"
   ]
  },
  {
   "cell_type": "code",
   "execution_count": 40,
   "metadata": {},
   "outputs": [],
   "source": [
    "import os\n",
    "import paramiko\n",
    "import time \n",
    "\n",
    "ssh = paramiko.SSHClient()\n",
    "ssh.set_missing_host_key_policy(paramiko.AutoAddPolicy())\n",
    "ssh.load_host_keys(os.path.expanduser(os.path.join(\"~\", \".ssh\", \"known_hosts\")))\n",
    "ssh.connect('10.241.10.22', username='sunshine', password='ocit123')\n",
    "sshin, sshout, ssherr= ssh.exec_command('hive -e \"select * from sunshine.features_variance_temps_moyen\"')"
   ]
  },
  {
   "cell_type": "code",
   "execution_count": 43,
   "metadata": {},
   "outputs": [
    {
     "data": {
      "text/plain": [
       "(<paramiko.ChannelFile from <paramiko.Channel 0 (open) window=2097152 -> <paramiko.Transport at 0x18804eb0 (cipher aes128-ctr, 128 bits) (active; 1 open channel(s))>>>,\n",
       " <paramiko.ChannelFile from <paramiko.Channel 0 (open) window=2097152 -> <paramiko.Transport at 0x18804eb0 (cipher aes128-ctr, 128 bits) (active; 1 open channel(s))>>>,\n",
       " <paramiko.ChannelFile from <paramiko.Channel 0 (open) window=2097152 -> <paramiko.Transport at 0x18804eb0 (cipher aes128-ctr, 128 bits) (active; 1 open channel(s))>>>)"
      ]
     },
     "execution_count": 43,
     "metadata": {},
     "output_type": "execute_result"
    }
   ],
   "source": [
    "sshin, sshout, ssherr"
   ]
  },
  {
   "cell_type": "code",
   "execution_count": 44,
   "metadata": {},
   "outputs": [
    {
     "data": {
      "text/plain": [
       "(<paramiko.ChannelFile from <paramiko.Channel 1 (open) window=2097152 -> <paramiko.Transport at 0x18804eb0 (cipher aes128-ctr, 128 bits) (active; 2 open channel(s))>>>,\n",
       " <paramiko.ChannelFile from <paramiko.Channel 1 (open) window=2097152 -> <paramiko.Transport at 0x18804eb0 (cipher aes128-ctr, 128 bits) (active; 2 open channel(s))>>>,\n",
       " <paramiko.ChannelFile from <paramiko.Channel 1 (open) window=2097152 -> <paramiko.Transport at 0x18804eb0 (cipher aes128-ctr, 128 bits) (active; 2 open channel(s))>>>)"
      ]
     },
     "execution_count": 44,
     "metadata": {},
     "output_type": "execute_result"
    }
   ],
   "source": [
    "ssh.exec_command('hive -e \"select * from sunshine.features_variance_temps_moyen\"')"
   ]
  },
  {
   "cell_type": "code",
   "execution_count": 47,
   "metadata": {},
   "outputs": [],
   "source": [
    "#edge_out_str = str(sshout.read())"
   ]
  },
  {
   "cell_type": "code",
   "execution_count": null,
   "metadata": {},
   "outputs": [],
   "source": [
    "edge_out_str_n = \"\\n\".join(edge_out_str.split(\"\\\\n\"))"
   ]
  },
  {
   "cell_type": "code",
   "execution_count": null,
   "metadata": {},
   "outputs": [],
   "source": [
    "edge_out_csv = StringIO(edge_out_str_n)\n",
    "df = pd.read_csv(edge_out_csv, sep=\",\")"
   ]
  },
  {
   "cell_type": "code",
   "execution_count": null,
   "metadata": {},
   "outputs": [],
   "source": []
  }
 ],
 "metadata": {
  "kernelspec": {
   "display_name": "Python 3",
   "language": "python",
   "name": "python3"
  },
  "language_info": {
   "codemirror_mode": {
    "name": "ipython",
    "version": 3
   },
   "file_extension": ".py",
   "mimetype": "text/x-python",
   "name": "python",
   "nbconvert_exporter": "python",
   "pygments_lexer": "ipython3",
   "version": "3.8.5"
  }
 },
 "nbformat": 4,
 "nbformat_minor": 4
}
