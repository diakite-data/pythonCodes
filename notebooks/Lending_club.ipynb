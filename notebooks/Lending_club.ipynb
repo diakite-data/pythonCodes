{
 "cells": [
  {
   "cell_type": "code",
   "execution_count": 120,
   "metadata": {},
   "outputs": [],
   "source": [
    "import pandas as pd\n",
    "import numpy as np\n",
    "from sklearn.datasets import make_classification\n",
    "from sklearn.model_selection import cross_val_score\n",
    "from sklearn.model_selection import RepeatedStratifiedKFold\n",
    "from sklearn.discriminant_analysis import LinearDiscriminantAnalysis\n",
    "from sklearn.model_selection import GridSearchCV"
   ]
  },
  {
   "cell_type": "markdown",
   "metadata": {},
   "source": [
    "# Lending Club"
   ]
  },
  {
   "cell_type": "code",
   "execution_count": null,
   "metadata": {},
   "outputs": [],
   "source": []
  },
  {
   "cell_type": "markdown",
   "metadata": {},
   "source": [
    "## 1.  "
   ]
  },
  {
   "cell_type": "code",
   "execution_count": 127,
   "metadata": {},
   "outputs": [
    {
     "data": {
      "text/html": [
       "<div>\n",
       "<style scoped>\n",
       "    .dataframe tbody tr th:only-of-type {\n",
       "        vertical-align: middle;\n",
       "    }\n",
       "\n",
       "    .dataframe tbody tr th {\n",
       "        vertical-align: top;\n",
       "    }\n",
       "\n",
       "    .dataframe thead th {\n",
       "        text-align: right;\n",
       "    }\n",
       "</style>\n",
       "<table border=\"1\" class=\"dataframe\">\n",
       "  <thead>\n",
       "    <tr style=\"text-align: right;\">\n",
       "      <th></th>\n",
       "      <th>Unnamed: 0</th>\n",
       "      <th>id</th>\n",
       "      <th>member_id</th>\n",
       "      <th>loan_amnt</th>\n",
       "      <th>term</th>\n",
       "      <th>int_rate</th>\n",
       "      <th>installment</th>\n",
       "      <th>grade</th>\n",
       "      <th>sub_grade</th>\n",
       "      <th>emp_title</th>\n",
       "      <th>...</th>\n",
       "      <th>hardship_loan_status</th>\n",
       "      <th>orig_projected_additional_accrued_interest</th>\n",
       "      <th>hardship_payoff_balance_amount</th>\n",
       "      <th>hardship_last_payment_amount</th>\n",
       "      <th>debt_settlement_flag_date</th>\n",
       "      <th>settlement_status</th>\n",
       "      <th>settlement_date</th>\n",
       "      <th>settlement_amount</th>\n",
       "      <th>settlement_percentage</th>\n",
       "      <th>settlement_term</th>\n",
       "    </tr>\n",
       "  </thead>\n",
       "  <tbody>\n",
       "    <tr>\n",
       "      <th>0</th>\n",
       "      <td>0</td>\n",
       "      <td>263591</td>\n",
       "      <td>545710</td>\n",
       "      <td>20000.0</td>\n",
       "      <td>60 months</td>\n",
       "      <td>17.93</td>\n",
       "      <td>342.94</td>\n",
       "      <td>E</td>\n",
       "      <td>E5</td>\n",
       "      <td>Wylie ISD</td>\n",
       "      <td>...</td>\n",
       "      <td>NaN</td>\n",
       "      <td>NaN</td>\n",
       "      <td>NaN</td>\n",
       "      <td>NaN</td>\n",
       "      <td>NaT</td>\n",
       "      <td>NaN</td>\n",
       "      <td>NaT</td>\n",
       "      <td>NaN</td>\n",
       "      <td>NaN</td>\n",
       "      <td>NaN</td>\n",
       "    </tr>\n",
       "    <tr>\n",
       "      <th>1</th>\n",
       "      <td>1</td>\n",
       "      <td>1613916</td>\n",
       "      <td>69664096</td>\n",
       "      <td>30000.0</td>\n",
       "      <td>36 months</td>\n",
       "      <td>11.99</td>\n",
       "      <td>996.29</td>\n",
       "      <td>C</td>\n",
       "      <td>C1</td>\n",
       "      <td>Sergeant</td>\n",
       "      <td>...</td>\n",
       "      <td>NaN</td>\n",
       "      <td>NaN</td>\n",
       "      <td>NaN</td>\n",
       "      <td>NaN</td>\n",
       "      <td>NaT</td>\n",
       "      <td>NaN</td>\n",
       "      <td>NaT</td>\n",
       "      <td>NaN</td>\n",
       "      <td>NaN</td>\n",
       "      <td>NaN</td>\n",
       "    </tr>\n",
       "    <tr>\n",
       "      <th>2</th>\n",
       "      <td>2</td>\n",
       "      <td>818934</td>\n",
       "      <td>8965180</td>\n",
       "      <td>21500.0</td>\n",
       "      <td>36 months</td>\n",
       "      <td>11.99</td>\n",
       "      <td>714.01</td>\n",
       "      <td>B</td>\n",
       "      <td>B3</td>\n",
       "      <td>Designer</td>\n",
       "      <td>...</td>\n",
       "      <td>NaN</td>\n",
       "      <td>NaN</td>\n",
       "      <td>NaN</td>\n",
       "      <td>NaN</td>\n",
       "      <td>NaT</td>\n",
       "      <td>NaN</td>\n",
       "      <td>NaT</td>\n",
       "      <td>NaN</td>\n",
       "      <td>NaN</td>\n",
       "      <td>NaN</td>\n",
       "    </tr>\n",
       "    <tr>\n",
       "      <th>3</th>\n",
       "      <td>3</td>\n",
       "      <td>1606612</td>\n",
       "      <td>70572960</td>\n",
       "      <td>10000.0</td>\n",
       "      <td>36 months</td>\n",
       "      <td>13.67</td>\n",
       "      <td>340.18</td>\n",
       "      <td>C</td>\n",
       "      <td>C3</td>\n",
       "      <td>NaN</td>\n",
       "      <td>...</td>\n",
       "      <td>NaN</td>\n",
       "      <td>NaN</td>\n",
       "      <td>NaN</td>\n",
       "      <td>NaN</td>\n",
       "      <td>NaT</td>\n",
       "      <td>NaN</td>\n",
       "      <td>NaT</td>\n",
       "      <td>NaN</td>\n",
       "      <td>NaN</td>\n",
       "      <td>NaN</td>\n",
       "    </tr>\n",
       "    <tr>\n",
       "      <th>4</th>\n",
       "      <td>4</td>\n",
       "      <td>1639932</td>\n",
       "      <td>68589517</td>\n",
       "      <td>5000.0</td>\n",
       "      <td>36 months</td>\n",
       "      <td>8.49</td>\n",
       "      <td>157.82</td>\n",
       "      <td>B</td>\n",
       "      <td>B1</td>\n",
       "      <td>Sr. Manufacturing Engineer</td>\n",
       "      <td>...</td>\n",
       "      <td>NaN</td>\n",
       "      <td>NaN</td>\n",
       "      <td>NaN</td>\n",
       "      <td>NaN</td>\n",
       "      <td>NaT</td>\n",
       "      <td>NaN</td>\n",
       "      <td>NaT</td>\n",
       "      <td>NaN</td>\n",
       "      <td>NaN</td>\n",
       "      <td>NaN</td>\n",
       "    </tr>\n",
       "  </tbody>\n",
       "</table>\n",
       "<p>5 rows × 135 columns</p>\n",
       "</div>"
      ],
      "text/plain": [
       "   Unnamed: 0       id member_id  loan_amnt        term  int_rate  \\\n",
       "0           0   263591    545710    20000.0   60 months     17.93   \n",
       "1           1  1613916  69664096    30000.0   36 months     11.99   \n",
       "2           2   818934   8965180    21500.0   36 months     11.99   \n",
       "3           3  1606612  70572960    10000.0   36 months     13.67   \n",
       "4           4  1639932  68589517     5000.0   36 months      8.49   \n",
       "\n",
       "   installment grade sub_grade                   emp_title  ...  \\\n",
       "0       342.94     E        E5                   Wylie ISD  ...   \n",
       "1       996.29     C        C1                    Sergeant  ...   \n",
       "2       714.01     B        B3                    Designer  ...   \n",
       "3       340.18     C        C3                         NaN  ...   \n",
       "4       157.82     B        B1  Sr. Manufacturing Engineer  ...   \n",
       "\n",
       "  hardship_loan_status orig_projected_additional_accrued_interest  \\\n",
       "0                  NaN                                        NaN   \n",
       "1                  NaN                                        NaN   \n",
       "2                  NaN                                        NaN   \n",
       "3                  NaN                                        NaN   \n",
       "4                  NaN                                        NaN   \n",
       "\n",
       "   hardship_payoff_balance_amount hardship_last_payment_amount  \\\n",
       "0                             NaN                          NaN   \n",
       "1                             NaN                          NaN   \n",
       "2                             NaN                          NaN   \n",
       "3                             NaN                          NaN   \n",
       "4                             NaN                          NaN   \n",
       "\n",
       "  debt_settlement_flag_date settlement_status settlement_date  \\\n",
       "0                       NaT               NaN             NaT   \n",
       "1                       NaT               NaN             NaT   \n",
       "2                       NaT               NaN             NaT   \n",
       "3                       NaT               NaN             NaT   \n",
       "4                       NaT               NaN             NaT   \n",
       "\n",
       "  settlement_amount settlement_percentage settlement_term  \n",
       "0               NaN                   NaN             NaN  \n",
       "1               NaN                   NaN             NaN  \n",
       "2               NaN                   NaN             NaN  \n",
       "3               NaN                   NaN             NaN  \n",
       "4               NaN                   NaN             NaN  \n",
       "\n",
       "[5 rows x 135 columns]"
      ]
     },
     "execution_count": 127,
     "metadata": {},
     "output_type": "execute_result"
    }
   ],
   "source": [
    "df_lend = pd.read_excel(\"/Users/youssouf/Downloads/Lending_Club.xlsx\")\n",
    "df_lend.head()"
   ]
  },
  {
   "cell_type": "code",
   "execution_count": 128,
   "metadata": {},
   "outputs": [
    {
     "data": {
      "text/plain": [
       "(25000, 135)"
      ]
     },
     "execution_count": 128,
     "metadata": {},
     "output_type": "execute_result"
    }
   ],
   "source": [
    "df_lend.shape"
   ]
  },
  {
   "cell_type": "code",
   "execution_count": 129,
   "metadata": {},
   "outputs": [],
   "source": [
    "a = \"rrr\""
   ]
  },
  {
   "cell_type": "code",
   "execution_count": 130,
   "metadata": {},
   "outputs": [
    {
     "data": {
      "text/plain": [
       "<function str.startswith>"
      ]
     },
     "execution_count": 130,
     "metadata": {},
     "output_type": "execute_result"
    }
   ],
   "source": [
    "a.startswith"
   ]
  },
  {
   "cell_type": "code",
   "execution_count": 131,
   "metadata": {},
   "outputs": [
    {
     "name": "stdout",
     "output_type": "stream",
     "text": [
      "total_acc\n",
      "total_bal_il\n",
      "total_rev_hi_lim\n",
      "total_cu_tl\n",
      "total_bal_ex_mort\n",
      "total_bc_limit\n",
      "total_il_high_credit_limit\n"
     ]
    }
   ],
   "source": [
    "for i in df_lend.columns :\n",
    "    if i.startswith(\"total\") :\n",
    "        print(i)"
   ]
  },
  {
   "cell_type": "code",
   "execution_count": 132,
   "metadata": {},
   "outputs": [
    {
     "data": {
      "text/html": [
       "<div>\n",
       "<style scoped>\n",
       "    .dataframe tbody tr th:only-of-type {\n",
       "        vertical-align: middle;\n",
       "    }\n",
       "\n",
       "    .dataframe tbody tr th {\n",
       "        vertical-align: top;\n",
       "    }\n",
       "\n",
       "    .dataframe thead th {\n",
       "        text-align: right;\n",
       "    }\n",
       "</style>\n",
       "<table border=\"1\" class=\"dataframe\">\n",
       "  <thead>\n",
       "    <tr style=\"text-align: right;\">\n",
       "      <th></th>\n",
       "      <th>id</th>\n",
       "      <th>member_id</th>\n",
       "      <th>loan_amnt</th>\n",
       "      <th>term</th>\n",
       "      <th>int_rate</th>\n",
       "      <th>installment</th>\n",
       "      <th>grade</th>\n",
       "      <th>sub_grade</th>\n",
       "      <th>emp_title</th>\n",
       "      <th>emp_length</th>\n",
       "      <th>...</th>\n",
       "      <th>hardship_loan_status</th>\n",
       "      <th>orig_projected_additional_accrued_interest</th>\n",
       "      <th>hardship_payoff_balance_amount</th>\n",
       "      <th>hardship_last_payment_amount</th>\n",
       "      <th>debt_settlement_flag_date</th>\n",
       "      <th>settlement_status</th>\n",
       "      <th>settlement_date</th>\n",
       "      <th>settlement_amount</th>\n",
       "      <th>settlement_percentage</th>\n",
       "      <th>settlement_term</th>\n",
       "    </tr>\n",
       "  </thead>\n",
       "  <tbody>\n",
       "    <tr>\n",
       "      <th>0</th>\n",
       "      <td>263591</td>\n",
       "      <td>545710</td>\n",
       "      <td>20000.0</td>\n",
       "      <td>60 months</td>\n",
       "      <td>17.93</td>\n",
       "      <td>342.94</td>\n",
       "      <td>E</td>\n",
       "      <td>E5</td>\n",
       "      <td>Wylie ISD</td>\n",
       "      <td>1 year</td>\n",
       "      <td>...</td>\n",
       "      <td>NaN</td>\n",
       "      <td>NaN</td>\n",
       "      <td>NaN</td>\n",
       "      <td>NaN</td>\n",
       "      <td>NaT</td>\n",
       "      <td>NaN</td>\n",
       "      <td>NaT</td>\n",
       "      <td>NaN</td>\n",
       "      <td>NaN</td>\n",
       "      <td>NaN</td>\n",
       "    </tr>\n",
       "    <tr>\n",
       "      <th>1</th>\n",
       "      <td>1613916</td>\n",
       "      <td>69664096</td>\n",
       "      <td>30000.0</td>\n",
       "      <td>36 months</td>\n",
       "      <td>11.99</td>\n",
       "      <td>996.29</td>\n",
       "      <td>C</td>\n",
       "      <td>C1</td>\n",
       "      <td>Sergeant</td>\n",
       "      <td>10+ years</td>\n",
       "      <td>...</td>\n",
       "      <td>NaN</td>\n",
       "      <td>NaN</td>\n",
       "      <td>NaN</td>\n",
       "      <td>NaN</td>\n",
       "      <td>NaT</td>\n",
       "      <td>NaN</td>\n",
       "      <td>NaT</td>\n",
       "      <td>NaN</td>\n",
       "      <td>NaN</td>\n",
       "      <td>NaN</td>\n",
       "    </tr>\n",
       "    <tr>\n",
       "      <th>2</th>\n",
       "      <td>818934</td>\n",
       "      <td>8965180</td>\n",
       "      <td>21500.0</td>\n",
       "      <td>36 months</td>\n",
       "      <td>11.99</td>\n",
       "      <td>714.01</td>\n",
       "      <td>B</td>\n",
       "      <td>B3</td>\n",
       "      <td>Designer</td>\n",
       "      <td>1 year</td>\n",
       "      <td>...</td>\n",
       "      <td>NaN</td>\n",
       "      <td>NaN</td>\n",
       "      <td>NaN</td>\n",
       "      <td>NaN</td>\n",
       "      <td>NaT</td>\n",
       "      <td>NaN</td>\n",
       "      <td>NaT</td>\n",
       "      <td>NaN</td>\n",
       "      <td>NaN</td>\n",
       "      <td>NaN</td>\n",
       "    </tr>\n",
       "    <tr>\n",
       "      <th>3</th>\n",
       "      <td>1606612</td>\n",
       "      <td>70572960</td>\n",
       "      <td>10000.0</td>\n",
       "      <td>36 months</td>\n",
       "      <td>13.67</td>\n",
       "      <td>340.18</td>\n",
       "      <td>C</td>\n",
       "      <td>C3</td>\n",
       "      <td>NaN</td>\n",
       "      <td>NaN</td>\n",
       "      <td>...</td>\n",
       "      <td>NaN</td>\n",
       "      <td>NaN</td>\n",
       "      <td>NaN</td>\n",
       "      <td>NaN</td>\n",
       "      <td>NaT</td>\n",
       "      <td>NaN</td>\n",
       "      <td>NaT</td>\n",
       "      <td>NaN</td>\n",
       "      <td>NaN</td>\n",
       "      <td>NaN</td>\n",
       "    </tr>\n",
       "    <tr>\n",
       "      <th>4</th>\n",
       "      <td>1639932</td>\n",
       "      <td>68589517</td>\n",
       "      <td>5000.0</td>\n",
       "      <td>36 months</td>\n",
       "      <td>8.49</td>\n",
       "      <td>157.82</td>\n",
       "      <td>B</td>\n",
       "      <td>B1</td>\n",
       "      <td>Sr. Manufacturing Engineer</td>\n",
       "      <td>10+ years</td>\n",
       "      <td>...</td>\n",
       "      <td>NaN</td>\n",
       "      <td>NaN</td>\n",
       "      <td>NaN</td>\n",
       "      <td>NaN</td>\n",
       "      <td>NaT</td>\n",
       "      <td>NaN</td>\n",
       "      <td>NaT</td>\n",
       "      <td>NaN</td>\n",
       "      <td>NaN</td>\n",
       "      <td>NaN</td>\n",
       "    </tr>\n",
       "  </tbody>\n",
       "</table>\n",
       "<p>5 rows × 134 columns</p>\n",
       "</div>"
      ],
      "text/plain": [
       "        id member_id  loan_amnt        term  int_rate  installment grade  \\\n",
       "0   263591    545710    20000.0   60 months     17.93       342.94     E   \n",
       "1  1613916  69664096    30000.0   36 months     11.99       996.29     C   \n",
       "2   818934   8965180    21500.0   36 months     11.99       714.01     B   \n",
       "3  1606612  70572960    10000.0   36 months     13.67       340.18     C   \n",
       "4  1639932  68589517     5000.0   36 months      8.49       157.82     B   \n",
       "\n",
       "  sub_grade                   emp_title emp_length  ... hardship_loan_status  \\\n",
       "0        E5                   Wylie ISD     1 year  ...                  NaN   \n",
       "1        C1                    Sergeant  10+ years  ...                  NaN   \n",
       "2        B3                    Designer     1 year  ...                  NaN   \n",
       "3        C3                         NaN        NaN  ...                  NaN   \n",
       "4        B1  Sr. Manufacturing Engineer  10+ years  ...                  NaN   \n",
       "\n",
       "   orig_projected_additional_accrued_interest hardship_payoff_balance_amount  \\\n",
       "0                                         NaN                            NaN   \n",
       "1                                         NaN                            NaN   \n",
       "2                                         NaN                            NaN   \n",
       "3                                         NaN                            NaN   \n",
       "4                                         NaN                            NaN   \n",
       "\n",
       "  hardship_last_payment_amount debt_settlement_flag_date settlement_status  \\\n",
       "0                          NaN                       NaT               NaN   \n",
       "1                          NaN                       NaT               NaN   \n",
       "2                          NaN                       NaT               NaN   \n",
       "3                          NaN                       NaT               NaN   \n",
       "4                          NaN                       NaT               NaN   \n",
       "\n",
       "  settlement_date settlement_amount settlement_percentage settlement_term  \n",
       "0             NaT               NaN                   NaN             NaN  \n",
       "1             NaT               NaN                   NaN             NaN  \n",
       "2             NaT               NaN                   NaN             NaN  \n",
       "3             NaT               NaN                   NaN             NaN  \n",
       "4             NaT               NaN                   NaN             NaN  \n",
       "\n",
       "[5 rows x 134 columns]"
      ]
     },
     "execution_count": 132,
     "metadata": {},
     "output_type": "execute_result"
    }
   ],
   "source": [
    "df_lend = df_lend.drop([\"Unnamed: 0\"], axis = 1)\n",
    "df_lend.head()"
   ]
  },
  {
   "cell_type": "code",
   "execution_count": 133,
   "metadata": {},
   "outputs": [
    {
     "data": {
      "text/plain": [
       "Current                                                12063\n",
       "Fully Paid                                              9733\n",
       "Charged Off                                             2557\n",
       "Late (31-120 days)                                       336\n",
       "In Grace Period                                          174\n",
       "Late (16-30 days)                                        101\n",
       "Does not meet the credit policy. Status:Fully Paid        28\n",
       "Does not meet the credit policy. Status:Charged Off        5\n",
       "Default                                                    2\n",
       "Name: loan_status, dtype: int64"
      ]
     },
     "execution_count": 133,
     "metadata": {},
     "output_type": "execute_result"
    }
   ],
   "source": [
    "df_lend[\"loan_status\"].value_counts()"
   ]
  },
  {
   "cell_type": "code",
   "execution_count": 134,
   "metadata": {},
   "outputs": [
    {
     "data": {
      "text/html": [
       "<div>\n",
       "<style scoped>\n",
       "    .dataframe tbody tr th:only-of-type {\n",
       "        vertical-align: middle;\n",
       "    }\n",
       "\n",
       "    .dataframe tbody tr th {\n",
       "        vertical-align: top;\n",
       "    }\n",
       "\n",
       "    .dataframe thead th {\n",
       "        text-align: right;\n",
       "    }\n",
       "</style>\n",
       "<table border=\"1\" class=\"dataframe\">\n",
       "  <thead>\n",
       "    <tr style=\"text-align: right;\">\n",
       "      <th></th>\n",
       "      <th>id</th>\n",
       "      <th>member_id</th>\n",
       "      <th>loan_amnt</th>\n",
       "      <th>term</th>\n",
       "      <th>int_rate</th>\n",
       "      <th>installment</th>\n",
       "      <th>grade</th>\n",
       "      <th>sub_grade</th>\n",
       "      <th>emp_title</th>\n",
       "      <th>emp_length</th>\n",
       "      <th>...</th>\n",
       "      <th>hardship_loan_status</th>\n",
       "      <th>orig_projected_additional_accrued_interest</th>\n",
       "      <th>hardship_payoff_balance_amount</th>\n",
       "      <th>hardship_last_payment_amount</th>\n",
       "      <th>debt_settlement_flag_date</th>\n",
       "      <th>settlement_status</th>\n",
       "      <th>settlement_date</th>\n",
       "      <th>settlement_amount</th>\n",
       "      <th>settlement_percentage</th>\n",
       "      <th>settlement_term</th>\n",
       "    </tr>\n",
       "  </thead>\n",
       "  <tbody>\n",
       "    <tr>\n",
       "      <th>0</th>\n",
       "      <td>263591</td>\n",
       "      <td>545710</td>\n",
       "      <td>20000.0</td>\n",
       "      <td>60 months</td>\n",
       "      <td>17.93</td>\n",
       "      <td>342.94</td>\n",
       "      <td>E</td>\n",
       "      <td>E5</td>\n",
       "      <td>Wylie ISD</td>\n",
       "      <td>1 year</td>\n",
       "      <td>...</td>\n",
       "      <td>NaN</td>\n",
       "      <td>NaN</td>\n",
       "      <td>NaN</td>\n",
       "      <td>NaN</td>\n",
       "      <td>NaT</td>\n",
       "      <td>NaN</td>\n",
       "      <td>NaT</td>\n",
       "      <td>NaN</td>\n",
       "      <td>NaN</td>\n",
       "      <td>NaN</td>\n",
       "    </tr>\n",
       "    <tr>\n",
       "      <th>2</th>\n",
       "      <td>818934</td>\n",
       "      <td>8965180</td>\n",
       "      <td>21500.0</td>\n",
       "      <td>36 months</td>\n",
       "      <td>11.99</td>\n",
       "      <td>714.01</td>\n",
       "      <td>B</td>\n",
       "      <td>B3</td>\n",
       "      <td>Designer</td>\n",
       "      <td>1 year</td>\n",
       "      <td>...</td>\n",
       "      <td>NaN</td>\n",
       "      <td>NaN</td>\n",
       "      <td>NaN</td>\n",
       "      <td>NaN</td>\n",
       "      <td>NaT</td>\n",
       "      <td>NaN</td>\n",
       "      <td>NaT</td>\n",
       "      <td>NaN</td>\n",
       "      <td>NaN</td>\n",
       "      <td>NaN</td>\n",
       "    </tr>\n",
       "    <tr>\n",
       "      <th>3</th>\n",
       "      <td>1606612</td>\n",
       "      <td>70572960</td>\n",
       "      <td>10000.0</td>\n",
       "      <td>36 months</td>\n",
       "      <td>13.67</td>\n",
       "      <td>340.18</td>\n",
       "      <td>C</td>\n",
       "      <td>C3</td>\n",
       "      <td>NaN</td>\n",
       "      <td>NaN</td>\n",
       "      <td>...</td>\n",
       "      <td>NaN</td>\n",
       "      <td>NaN</td>\n",
       "      <td>NaN</td>\n",
       "      <td>NaN</td>\n",
       "      <td>NaT</td>\n",
       "      <td>NaN</td>\n",
       "      <td>NaT</td>\n",
       "      <td>NaN</td>\n",
       "      <td>NaN</td>\n",
       "      <td>NaN</td>\n",
       "    </tr>\n",
       "    <tr>\n",
       "      <th>5</th>\n",
       "      <td>756884</td>\n",
       "      <td>107370446</td>\n",
       "      <td>16150.0</td>\n",
       "      <td>60 months</td>\n",
       "      <td>30.74</td>\n",
       "      <td>529.88</td>\n",
       "      <td>F</td>\n",
       "      <td>F5</td>\n",
       "      <td>Meat and produce unloader</td>\n",
       "      <td>10+ years</td>\n",
       "      <td>...</td>\n",
       "      <td>NaN</td>\n",
       "      <td>NaN</td>\n",
       "      <td>NaN</td>\n",
       "      <td>NaN</td>\n",
       "      <td>NaT</td>\n",
       "      <td>NaN</td>\n",
       "      <td>NaT</td>\n",
       "      <td>NaN</td>\n",
       "      <td>NaN</td>\n",
       "      <td>NaN</td>\n",
       "    </tr>\n",
       "    <tr>\n",
       "      <th>8</th>\n",
       "      <td>1503361</td>\n",
       "      <td>91060858</td>\n",
       "      <td>35000.0</td>\n",
       "      <td>36 months</td>\n",
       "      <td>12.79</td>\n",
       "      <td>1175.76</td>\n",
       "      <td>C</td>\n",
       "      <td>C1</td>\n",
       "      <td>Business Manaer</td>\n",
       "      <td>9 years</td>\n",
       "      <td>...</td>\n",
       "      <td>NaN</td>\n",
       "      <td>NaN</td>\n",
       "      <td>NaN</td>\n",
       "      <td>NaN</td>\n",
       "      <td>NaT</td>\n",
       "      <td>NaN</td>\n",
       "      <td>NaT</td>\n",
       "      <td>NaN</td>\n",
       "      <td>NaN</td>\n",
       "      <td>NaN</td>\n",
       "    </tr>\n",
       "  </tbody>\n",
       "</table>\n",
       "<p>5 rows × 134 columns</p>\n",
       "</div>"
      ],
      "text/plain": [
       "        id  member_id  loan_amnt        term  int_rate  installment grade  \\\n",
       "0   263591     545710    20000.0   60 months     17.93       342.94     E   \n",
       "2   818934    8965180    21500.0   36 months     11.99       714.01     B   \n",
       "3  1606612   70572960    10000.0   36 months     13.67       340.18     C   \n",
       "5   756884  107370446    16150.0   60 months     30.74       529.88     F   \n",
       "8  1503361   91060858    35000.0   36 months     12.79      1175.76     C   \n",
       "\n",
       "  sub_grade                  emp_title emp_length  ... hardship_loan_status  \\\n",
       "0        E5                  Wylie ISD     1 year  ...                  NaN   \n",
       "2        B3                   Designer     1 year  ...                  NaN   \n",
       "3        C3                        NaN        NaN  ...                  NaN   \n",
       "5        F5  Meat and produce unloader  10+ years  ...                  NaN   \n",
       "8        C1            Business Manaer    9 years  ...                  NaN   \n",
       "\n",
       "   orig_projected_additional_accrued_interest hardship_payoff_balance_amount  \\\n",
       "0                                         NaN                            NaN   \n",
       "2                                         NaN                            NaN   \n",
       "3                                         NaN                            NaN   \n",
       "5                                         NaN                            NaN   \n",
       "8                                         NaN                            NaN   \n",
       "\n",
       "  hardship_last_payment_amount debt_settlement_flag_date settlement_status  \\\n",
       "0                          NaN                       NaT               NaN   \n",
       "2                          NaN                       NaT               NaN   \n",
       "3                          NaN                       NaT               NaN   \n",
       "5                          NaN                       NaT               NaN   \n",
       "8                          NaN                       NaT               NaN   \n",
       "\n",
       "  settlement_date settlement_amount settlement_percentage settlement_term  \n",
       "0             NaT               NaN                   NaN             NaN  \n",
       "2             NaT               NaN                   NaN             NaN  \n",
       "3             NaT               NaN                   NaN             NaN  \n",
       "5             NaT               NaN                   NaN             NaN  \n",
       "8             NaT               NaN                   NaN             NaN  \n",
       "\n",
       "[5 rows x 134 columns]"
      ]
     },
     "execution_count": 134,
     "metadata": {},
     "output_type": "execute_result"
    }
   ],
   "source": [
    "df_lend = df_lend[(df_lend[\"loan_status\"] ==  \"Fully Paid\") | (df_lend[\"loan_status\"] ==  \"Charged Off\")]\n",
    "df_lend.head()\n"
   ]
  },
  {
   "cell_type": "code",
   "execution_count": 135,
   "metadata": {},
   "outputs": [
    {
     "data": {
      "text/html": [
       "<div>\n",
       "<style scoped>\n",
       "    .dataframe tbody tr th:only-of-type {\n",
       "        vertical-align: middle;\n",
       "    }\n",
       "\n",
       "    .dataframe tbody tr th {\n",
       "        vertical-align: top;\n",
       "    }\n",
       "\n",
       "    .dataframe thead th {\n",
       "        text-align: right;\n",
       "    }\n",
       "</style>\n",
       "<table border=\"1\" class=\"dataframe\">\n",
       "  <thead>\n",
       "    <tr style=\"text-align: right;\">\n",
       "      <th></th>\n",
       "      <th>home_ownership</th>\n",
       "      <th>annual_inc</th>\n",
       "      <th>dti</th>\n",
       "      <th>fico_range_low</th>\n",
       "      <th>revol_bal</th>\n",
       "      <th>total_bal_il</th>\n",
       "      <th>loan_status</th>\n",
       "    </tr>\n",
       "  </thead>\n",
       "  <tbody>\n",
       "    <tr>\n",
       "      <th>0</th>\n",
       "      <td>MORTGAGE</td>\n",
       "      <td>44304.0</td>\n",
       "      <td>18.47</td>\n",
       "      <td>690.0</td>\n",
       "      <td>5673.0</td>\n",
       "      <td>NaN</td>\n",
       "      <td>Charged Off</td>\n",
       "    </tr>\n",
       "    <tr>\n",
       "      <th>2</th>\n",
       "      <td>RENT</td>\n",
       "      <td>50000.0</td>\n",
       "      <td>29.62</td>\n",
       "      <td>735.0</td>\n",
       "      <td>14071.0</td>\n",
       "      <td>NaN</td>\n",
       "      <td>Fully Paid</td>\n",
       "    </tr>\n",
       "    <tr>\n",
       "      <th>3</th>\n",
       "      <td>RENT</td>\n",
       "      <td>64400.0</td>\n",
       "      <td>16.68</td>\n",
       "      <td>675.0</td>\n",
       "      <td>8057.0</td>\n",
       "      <td>8767.0</td>\n",
       "      <td>Fully Paid</td>\n",
       "    </tr>\n",
       "    <tr>\n",
       "      <th>5</th>\n",
       "      <td>RENT</td>\n",
       "      <td>38500.0</td>\n",
       "      <td>33.73</td>\n",
       "      <td>660.0</td>\n",
       "      <td>12666.0</td>\n",
       "      <td>34191.0</td>\n",
       "      <td>Charged Off</td>\n",
       "    </tr>\n",
       "    <tr>\n",
       "      <th>8</th>\n",
       "      <td>MORTGAGE</td>\n",
       "      <td>118000.0</td>\n",
       "      <td>26.66</td>\n",
       "      <td>665.0</td>\n",
       "      <td>105605.0</td>\n",
       "      <td>11146.0</td>\n",
       "      <td>Fully Paid</td>\n",
       "    </tr>\n",
       "  </tbody>\n",
       "</table>\n",
       "</div>"
      ],
      "text/plain": [
       "  home_ownership  annual_inc    dti  fico_range_low  revol_bal  total_bal_il  \\\n",
       "0       MORTGAGE     44304.0  18.47           690.0     5673.0           NaN   \n",
       "2           RENT     50000.0  29.62           735.0    14071.0           NaN   \n",
       "3           RENT     64400.0  16.68           675.0     8057.0        8767.0   \n",
       "5           RENT     38500.0  33.73           660.0    12666.0       34191.0   \n",
       "8       MORTGAGE    118000.0  26.66           665.0   105605.0       11146.0   \n",
       "\n",
       "   loan_status  \n",
       "0  Charged Off  \n",
       "2   Fully Paid  \n",
       "3   Fully Paid  \n",
       "5  Charged Off  \n",
       "8   Fully Paid  "
      ]
     },
     "execution_count": 135,
     "metadata": {},
     "output_type": "execute_result"
    }
   ],
   "source": [
    "# total_cur_bal is not among the variables\n",
    "df_lend = df_lend[[\"home_ownership\",\"annual_inc\",\"dti\",\"fico_range_low\",\"revol_bal\",\"total_bal_il\",\"loan_status\"]]\n",
    "df_lend.head()"
   ]
  },
  {
   "cell_type": "code",
   "execution_count": 136,
   "metadata": {},
   "outputs": [
    {
     "data": {
      "text/plain": [
       "(12290, 7)"
      ]
     },
     "execution_count": 136,
     "metadata": {},
     "output_type": "execute_result"
    }
   ],
   "source": [
    "df_lend.shape"
   ]
  },
  {
   "cell_type": "code",
   "execution_count": 137,
   "metadata": {},
   "outputs": [
    {
     "data": {
      "text/plain": [
       "home_ownership    0.000000\n",
       "annual_inc        0.000000\n",
       "dti               0.000081\n",
       "fico_range_low    0.000000\n",
       "revol_bal         0.000000\n",
       "total_bal_il      0.776322\n",
       "loan_status       0.000000\n",
       "dtype: float64"
      ]
     },
     "execution_count": 137,
     "metadata": {},
     "output_type": "execute_result"
    }
   ],
   "source": [
    "### Count Na values\n",
    "df_lend.isna().mean()"
   ]
  },
  {
   "cell_type": "code",
   "execution_count": 138,
   "metadata": {},
   "outputs": [],
   "source": [
    "### Delete missing values\n",
    "df_lend = df_lend.dropna()"
   ]
  },
  {
   "cell_type": "code",
   "execution_count": 139,
   "metadata": {},
   "outputs": [
    {
     "data": {
      "text/plain": [
       "home_ownership    0.0\n",
       "annual_inc        0.0\n",
       "dti               0.0\n",
       "fico_range_low    0.0\n",
       "revol_bal         0.0\n",
       "total_bal_il      0.0\n",
       "loan_status       0.0\n",
       "dtype: float64"
      ]
     },
     "execution_count": 139,
     "metadata": {},
     "output_type": "execute_result"
    }
   ],
   "source": [
    "df_lend.isna().mean()"
   ]
  },
  {
   "cell_type": "code",
   "execution_count": 140,
   "metadata": {},
   "outputs": [
    {
     "data": {
      "text/plain": [
       "(2748, 7)"
      ]
     },
     "execution_count": 140,
     "metadata": {},
     "output_type": "execute_result"
    }
   ],
   "source": [
    "df_lend.shape"
   ]
  },
  {
   "cell_type": "code",
   "execution_count": 141,
   "metadata": {},
   "outputs": [],
   "source": [
    "def discrete_home_ownership(x) :\n",
    "    if (x == \"RENT\") :\n",
    "        return 0\n",
    "    elif (x == \"MORTGAGE\") :\n",
    "        return 1\n",
    "    else :\n",
    "        return(2)"
   ]
  },
  {
   "cell_type": "code",
   "execution_count": 142,
   "metadata": {},
   "outputs": [
    {
     "data": {
      "text/html": [
       "<div>\n",
       "<style scoped>\n",
       "    .dataframe tbody tr th:only-of-type {\n",
       "        vertical-align: middle;\n",
       "    }\n",
       "\n",
       "    .dataframe tbody tr th {\n",
       "        vertical-align: top;\n",
       "    }\n",
       "\n",
       "    .dataframe thead th {\n",
       "        text-align: right;\n",
       "    }\n",
       "</style>\n",
       "<table border=\"1\" class=\"dataframe\">\n",
       "  <thead>\n",
       "    <tr style=\"text-align: right;\">\n",
       "      <th></th>\n",
       "      <th>home_ownership</th>\n",
       "      <th>annual_inc</th>\n",
       "      <th>dti</th>\n",
       "      <th>fico_range_low</th>\n",
       "      <th>revol_bal</th>\n",
       "      <th>total_bal_il</th>\n",
       "      <th>loan_status</th>\n",
       "    </tr>\n",
       "  </thead>\n",
       "  <tbody>\n",
       "    <tr>\n",
       "      <th>3</th>\n",
       "      <td>0</td>\n",
       "      <td>64400.0</td>\n",
       "      <td>16.68</td>\n",
       "      <td>675.0</td>\n",
       "      <td>8057.0</td>\n",
       "      <td>8767.0</td>\n",
       "      <td>1</td>\n",
       "    </tr>\n",
       "    <tr>\n",
       "      <th>5</th>\n",
       "      <td>0</td>\n",
       "      <td>38500.0</td>\n",
       "      <td>33.73</td>\n",
       "      <td>660.0</td>\n",
       "      <td>12666.0</td>\n",
       "      <td>34191.0</td>\n",
       "      <td>0</td>\n",
       "    </tr>\n",
       "    <tr>\n",
       "      <th>8</th>\n",
       "      <td>1</td>\n",
       "      <td>118000.0</td>\n",
       "      <td>26.66</td>\n",
       "      <td>665.0</td>\n",
       "      <td>105605.0</td>\n",
       "      <td>11146.0</td>\n",
       "      <td>1</td>\n",
       "    </tr>\n",
       "    <tr>\n",
       "      <th>15</th>\n",
       "      <td>1</td>\n",
       "      <td>54000.0</td>\n",
       "      <td>19.00</td>\n",
       "      <td>660.0</td>\n",
       "      <td>11988.0</td>\n",
       "      <td>20528.0</td>\n",
       "      <td>0</td>\n",
       "    </tr>\n",
       "    <tr>\n",
       "      <th>30</th>\n",
       "      <td>0</td>\n",
       "      <td>48000.0</td>\n",
       "      <td>5.69</td>\n",
       "      <td>665.0</td>\n",
       "      <td>8347.0</td>\n",
       "      <td>0.0</td>\n",
       "      <td>1</td>\n",
       "    </tr>\n",
       "  </tbody>\n",
       "</table>\n",
       "</div>"
      ],
      "text/plain": [
       "    home_ownership  annual_inc    dti  fico_range_low  revol_bal  \\\n",
       "3                0     64400.0  16.68           675.0     8057.0   \n",
       "5                0     38500.0  33.73           660.0    12666.0   \n",
       "8                1    118000.0  26.66           665.0   105605.0   \n",
       "15               1     54000.0  19.00           660.0    11988.0   \n",
       "30               0     48000.0   5.69           665.0     8347.0   \n",
       "\n",
       "    total_bal_il  loan_status  \n",
       "3         8767.0            1  \n",
       "5        34191.0            0  \n",
       "8        11146.0            1  \n",
       "15       20528.0            0  \n",
       "30           0.0            1  "
      ]
     },
     "execution_count": 142,
     "metadata": {},
     "output_type": "execute_result"
    }
   ],
   "source": [
    "df_lend[\"loan_status\"] = df_lend[\"loan_status\"].apply(lambda x : 0 if (x == \"Charged Off\") else 1)\n",
    "df_lend[\"home_ownership\"] = df_lend[\"home_ownership\"].apply(lambda x : discrete_home_ownership(x))\n",
    "df_lend.head()"
   ]
  },
  {
   "cell_type": "code",
   "execution_count": 143,
   "metadata": {},
   "outputs": [],
   "source": [
    "### Training, Validation, Testing\n",
    "train, validate, test = \\\n",
    "              np.split(df_lend.sample(frac=1, random_state=42), \n",
    "                       [int(.6*len(df_lend)), int(.8*len(df_lend))])"
   ]
  },
  {
   "cell_type": "code",
   "execution_count": 144,
   "metadata": {},
   "outputs": [
    {
     "data": {
      "text/html": [
       "<div>\n",
       "<style scoped>\n",
       "    .dataframe tbody tr th:only-of-type {\n",
       "        vertical-align: middle;\n",
       "    }\n",
       "\n",
       "    .dataframe tbody tr th {\n",
       "        vertical-align: top;\n",
       "    }\n",
       "\n",
       "    .dataframe thead th {\n",
       "        text-align: right;\n",
       "    }\n",
       "</style>\n",
       "<table border=\"1\" class=\"dataframe\">\n",
       "  <thead>\n",
       "    <tr style=\"text-align: right;\">\n",
       "      <th></th>\n",
       "      <th>home_ownership</th>\n",
       "      <th>annual_inc</th>\n",
       "      <th>dti</th>\n",
       "      <th>fico_range_low</th>\n",
       "      <th>revol_bal</th>\n",
       "      <th>total_bal_il</th>\n",
       "      <th>loan_status</th>\n",
       "    </tr>\n",
       "  </thead>\n",
       "  <tbody>\n",
       "    <tr>\n",
       "      <th>22863</th>\n",
       "      <td>1</td>\n",
       "      <td>69000.0</td>\n",
       "      <td>22.73</td>\n",
       "      <td>690.0</td>\n",
       "      <td>4905.0</td>\n",
       "      <td>32741.0</td>\n",
       "      <td>0</td>\n",
       "    </tr>\n",
       "    <tr>\n",
       "      <th>23967</th>\n",
       "      <td>1</td>\n",
       "      <td>42000.0</td>\n",
       "      <td>28.40</td>\n",
       "      <td>675.0</td>\n",
       "      <td>7615.0</td>\n",
       "      <td>33367.0</td>\n",
       "      <td>1</td>\n",
       "    </tr>\n",
       "    <tr>\n",
       "      <th>11705</th>\n",
       "      <td>1</td>\n",
       "      <td>53000.0</td>\n",
       "      <td>29.89</td>\n",
       "      <td>720.0</td>\n",
       "      <td>9040.0</td>\n",
       "      <td>25247.0</td>\n",
       "      <td>0</td>\n",
       "    </tr>\n",
       "    <tr>\n",
       "      <th>14745</th>\n",
       "      <td>2</td>\n",
       "      <td>130000.0</td>\n",
       "      <td>32.66</td>\n",
       "      <td>675.0</td>\n",
       "      <td>15365.0</td>\n",
       "      <td>79123.0</td>\n",
       "      <td>1</td>\n",
       "    </tr>\n",
       "    <tr>\n",
       "      <th>24152</th>\n",
       "      <td>0</td>\n",
       "      <td>45000.0</td>\n",
       "      <td>13.49</td>\n",
       "      <td>685.0</td>\n",
       "      <td>7992.0</td>\n",
       "      <td>26964.0</td>\n",
       "      <td>0</td>\n",
       "    </tr>\n",
       "  </tbody>\n",
       "</table>\n",
       "</div>"
      ],
      "text/plain": [
       "       home_ownership  annual_inc    dti  fico_range_low  revol_bal  \\\n",
       "22863               1     69000.0  22.73           690.0     4905.0   \n",
       "23967               1     42000.0  28.40           675.0     7615.0   \n",
       "11705               1     53000.0  29.89           720.0     9040.0   \n",
       "14745               2    130000.0  32.66           675.0    15365.0   \n",
       "24152               0     45000.0  13.49           685.0     7992.0   \n",
       "\n",
       "       total_bal_il  loan_status  \n",
       "22863       32741.0            0  \n",
       "23967       33367.0            1  \n",
       "11705       25247.0            0  \n",
       "14745       79123.0            1  \n",
       "24152       26964.0            0  "
      ]
     },
     "execution_count": 144,
     "metadata": {},
     "output_type": "execute_result"
    }
   ],
   "source": [
    "train.head()\n"
   ]
  },
  {
   "cell_type": "code",
   "execution_count": 145,
   "metadata": {},
   "outputs": [
    {
     "data": {
      "text/html": [
       "<div>\n",
       "<style scoped>\n",
       "    .dataframe tbody tr th:only-of-type {\n",
       "        vertical-align: middle;\n",
       "    }\n",
       "\n",
       "    .dataframe tbody tr th {\n",
       "        vertical-align: top;\n",
       "    }\n",
       "\n",
       "    .dataframe thead th {\n",
       "        text-align: right;\n",
       "    }\n",
       "</style>\n",
       "<table border=\"1\" class=\"dataframe\">\n",
       "  <thead>\n",
       "    <tr style=\"text-align: right;\">\n",
       "      <th></th>\n",
       "      <th>home_ownership</th>\n",
       "      <th>annual_inc</th>\n",
       "      <th>dti</th>\n",
       "      <th>fico_range_low</th>\n",
       "      <th>revol_bal</th>\n",
       "      <th>total_bal_il</th>\n",
       "      <th>loan_status</th>\n",
       "    </tr>\n",
       "  </thead>\n",
       "  <tbody>\n",
       "    <tr>\n",
       "      <th>9255</th>\n",
       "      <td>1</td>\n",
       "      <td>70000.0</td>\n",
       "      <td>35.37</td>\n",
       "      <td>660.0</td>\n",
       "      <td>44095.0</td>\n",
       "      <td>46539.0</td>\n",
       "      <td>1</td>\n",
       "    </tr>\n",
       "    <tr>\n",
       "      <th>20164</th>\n",
       "      <td>2</td>\n",
       "      <td>87000.0</td>\n",
       "      <td>14.30</td>\n",
       "      <td>705.0</td>\n",
       "      <td>25428.0</td>\n",
       "      <td>14990.0</td>\n",
       "      <td>0</td>\n",
       "    </tr>\n",
       "    <tr>\n",
       "      <th>1314</th>\n",
       "      <td>1</td>\n",
       "      <td>45000.0</td>\n",
       "      <td>12.83</td>\n",
       "      <td>725.0</td>\n",
       "      <td>18312.0</td>\n",
       "      <td>1760.0</td>\n",
       "      <td>1</td>\n",
       "    </tr>\n",
       "    <tr>\n",
       "      <th>17809</th>\n",
       "      <td>0</td>\n",
       "      <td>52000.0</td>\n",
       "      <td>22.85</td>\n",
       "      <td>665.0</td>\n",
       "      <td>5860.0</td>\n",
       "      <td>10823.0</td>\n",
       "      <td>1</td>\n",
       "    </tr>\n",
       "    <tr>\n",
       "      <th>23037</th>\n",
       "      <td>1</td>\n",
       "      <td>125000.0</td>\n",
       "      <td>40.71</td>\n",
       "      <td>690.0</td>\n",
       "      <td>120235.0</td>\n",
       "      <td>80806.0</td>\n",
       "      <td>1</td>\n",
       "    </tr>\n",
       "  </tbody>\n",
       "</table>\n",
       "</div>"
      ],
      "text/plain": [
       "       home_ownership  annual_inc    dti  fico_range_low  revol_bal  \\\n",
       "9255                1     70000.0  35.37           660.0    44095.0   \n",
       "20164               2     87000.0  14.30           705.0    25428.0   \n",
       "1314                1     45000.0  12.83           725.0    18312.0   \n",
       "17809               0     52000.0  22.85           665.0     5860.0   \n",
       "23037               1    125000.0  40.71           690.0   120235.0   \n",
       "\n",
       "       total_bal_il  loan_status  \n",
       "9255        46539.0            1  \n",
       "20164       14990.0            0  \n",
       "1314         1760.0            1  \n",
       "17809       10823.0            1  \n",
       "23037       80806.0            1  "
      ]
     },
     "execution_count": 145,
     "metadata": {},
     "output_type": "execute_result"
    }
   ],
   "source": [
    "validate.head()\n"
   ]
  },
  {
   "cell_type": "code",
   "execution_count": 146,
   "metadata": {},
   "outputs": [
    {
     "data": {
      "text/html": [
       "<div>\n",
       "<style scoped>\n",
       "    .dataframe tbody tr th:only-of-type {\n",
       "        vertical-align: middle;\n",
       "    }\n",
       "\n",
       "    .dataframe tbody tr th {\n",
       "        vertical-align: top;\n",
       "    }\n",
       "\n",
       "    .dataframe thead th {\n",
       "        text-align: right;\n",
       "    }\n",
       "</style>\n",
       "<table border=\"1\" class=\"dataframe\">\n",
       "  <thead>\n",
       "    <tr style=\"text-align: right;\">\n",
       "      <th></th>\n",
       "      <th>home_ownership</th>\n",
       "      <th>annual_inc</th>\n",
       "      <th>dti</th>\n",
       "      <th>fico_range_low</th>\n",
       "      <th>revol_bal</th>\n",
       "      <th>total_bal_il</th>\n",
       "      <th>loan_status</th>\n",
       "    </tr>\n",
       "  </thead>\n",
       "  <tbody>\n",
       "    <tr>\n",
       "      <th>7928</th>\n",
       "      <td>0</td>\n",
       "      <td>35000.0</td>\n",
       "      <td>8.47</td>\n",
       "      <td>670.0</td>\n",
       "      <td>4300.0</td>\n",
       "      <td>25659.0</td>\n",
       "      <td>1</td>\n",
       "    </tr>\n",
       "    <tr>\n",
       "      <th>7057</th>\n",
       "      <td>0</td>\n",
       "      <td>106000.0</td>\n",
       "      <td>7.26</td>\n",
       "      <td>670.0</td>\n",
       "      <td>7210.0</td>\n",
       "      <td>22285.0</td>\n",
       "      <td>0</td>\n",
       "    </tr>\n",
       "    <tr>\n",
       "      <th>13132</th>\n",
       "      <td>1</td>\n",
       "      <td>120000.0</td>\n",
       "      <td>25.99</td>\n",
       "      <td>705.0</td>\n",
       "      <td>12446.0</td>\n",
       "      <td>177246.0</td>\n",
       "      <td>0</td>\n",
       "    </tr>\n",
       "    <tr>\n",
       "      <th>10396</th>\n",
       "      <td>2</td>\n",
       "      <td>70000.0</td>\n",
       "      <td>29.30</td>\n",
       "      <td>670.0</td>\n",
       "      <td>4737.0</td>\n",
       "      <td>30238.0</td>\n",
       "      <td>0</td>\n",
       "    </tr>\n",
       "    <tr>\n",
       "      <th>4304</th>\n",
       "      <td>1</td>\n",
       "      <td>65802.0</td>\n",
       "      <td>13.79</td>\n",
       "      <td>760.0</td>\n",
       "      <td>7332.0</td>\n",
       "      <td>3691.0</td>\n",
       "      <td>1</td>\n",
       "    </tr>\n",
       "  </tbody>\n",
       "</table>\n",
       "</div>"
      ],
      "text/plain": [
       "       home_ownership  annual_inc    dti  fico_range_low  revol_bal  \\\n",
       "7928                0     35000.0   8.47           670.0     4300.0   \n",
       "7057                0    106000.0   7.26           670.0     7210.0   \n",
       "13132               1    120000.0  25.99           705.0    12446.0   \n",
       "10396               2     70000.0  29.30           670.0     4737.0   \n",
       "4304                1     65802.0  13.79           760.0     7332.0   \n",
       "\n",
       "       total_bal_il  loan_status  \n",
       "7928        25659.0            1  \n",
       "7057        22285.0            0  \n",
       "13132      177246.0            0  \n",
       "10396       30238.0            0  \n",
       "4304         3691.0            1  "
      ]
     },
     "execution_count": 146,
     "metadata": {},
     "output_type": "execute_result"
    }
   ],
   "source": [
    "test.head()\n"
   ]
  },
  {
   "cell_type": "code",
   "execution_count": null,
   "metadata": {},
   "outputs": [],
   "source": []
  },
  {
   "cell_type": "code",
   "execution_count": null,
   "metadata": {},
   "outputs": [],
   "source": []
  },
  {
   "cell_type": "markdown",
   "metadata": {},
   "source": [
    "## 2. Models : Linear Discriminant Analysis, Logistic Regression, Decision Tree "
   ]
  },
  {
   "cell_type": "markdown",
   "metadata": {},
   "source": [
    "### Linear Discriminant Analysis"
   ]
  },
  {
   "cell_type": "code",
   "execution_count": 147,
   "metadata": {},
   "outputs": [
    {
     "name": "stdout",
     "output_type": "stream",
     "text": [
      "Mean Accuracy: 0.780\n",
      "Config: {'solver': 'svd'}\n"
     ]
    },
    {
     "name": "stderr",
     "output_type": "stream",
     "text": [
      "/Users/youssouf/opt/anaconda3/lib/python3.8/site-packages/sklearn/utils/validation.py:63: DataConversionWarning: A column-vector y was passed when a 1d array was expected. Please change the shape of y to (n_samples, ), for example using ravel().\n",
      "  return f(*args, **kwargs)\n"
     ]
    }
   ],
   "source": [
    "# define dataset\n",
    "X, y = train[[\"home_ownership\",\"annual_inc\",\"dti\",\"fico_range_low\",\"revol_bal\",\"total_bal_il\"]], train[[\"loan_status\"]]\n",
    "# define model\n",
    "model = LinearDiscriminantAnalysis()\n",
    "# define model evaluation method\n",
    "cv = RepeatedStratifiedKFold(n_splits=10, n_repeats=3, random_state=1)\n",
    "# define grid\n",
    "grid = dict()\n",
    "grid['solver'] = ['svd', 'lsqr', 'eigen']\n",
    "# define search\n",
    "search = GridSearchCV(model, grid, scoring='accuracy', cv=cv, n_jobs=-1)\n",
    "# perform the search\n",
    "results = search.fit(X, y)\n",
    "# summarize\n",
    "print('Mean Accuracy: %.3f' % results.best_score_)\n",
    "print('Config: %s' % results.best_params_)"
   ]
  },
  {
   "cell_type": "code",
   "execution_count": 148,
   "metadata": {},
   "outputs": [
    {
     "name": "stderr",
     "output_type": "stream",
     "text": [
      "/Users/youssouf/opt/anaconda3/lib/python3.8/site-packages/sklearn/utils/validation.py:63: DataConversionWarning: A column-vector y was passed when a 1d array was expected. Please change the shape of y to (n_samples, ), for example using ravel().\n",
      "  return f(*args, **kwargs)\n"
     ]
    },
    {
     "data": {
      "text/plain": [
       "LinearDiscriminantAnalysis()"
      ]
     },
     "execution_count": 148,
     "metadata": {},
     "output_type": "execute_result"
    }
   ],
   "source": [
    "model.fit(X, y)\n",
    "#yhat = model.predict([row])"
   ]
  },
  {
   "cell_type": "markdown",
   "metadata": {},
   "source": [
    "### Logistic Regression"
   ]
  },
  {
   "cell_type": "code",
   "execution_count": 149,
   "metadata": {},
   "outputs": [
    {
     "name": "stderr",
     "output_type": "stream",
     "text": [
      "/Users/youssouf/opt/anaconda3/lib/python3.8/site-packages/sklearn/utils/validation.py:63: DataConversionWarning: A column-vector y was passed when a 1d array was expected. Please change the shape of y to (n_samples, ), for example using ravel().\n",
      "  return f(*args, **kwargs)\n"
     ]
    }
   ],
   "source": [
    "# import the class\n",
    "from sklearn.linear_model import LogisticRegression\n",
    "\n",
    "# instantiate the model (using the default parameters)\n",
    "logreg = LogisticRegression()\n",
    "\n",
    "X_train,y_train = train[[\"home_ownership\",\"annual_inc\",\"dti\",\"fico_range_low\",\"revol_bal\",\"total_bal_il\"]], train[[\"loan_status\"]]\n",
    "\n",
    "\n",
    "# fit the model with data\n",
    "logreg.fit(X_train,y_train)\n",
    "\n",
    "X_test = train[[\"home_ownership\",\"annual_inc\",\"dti\",\"fico_range_low\",\"revol_bal\",\"total_bal_il\"]]\n",
    "\n",
    "#\n",
    "y_pred=logreg.predict(X_test)"
   ]
  },
  {
   "cell_type": "code",
   "execution_count": 150,
   "metadata": {},
   "outputs": [
    {
     "data": {
      "text/plain": [
       "loan_status\n",
       "1              1284\n",
       "0               364\n",
       "dtype: int64"
      ]
     },
     "execution_count": 150,
     "metadata": {},
     "output_type": "execute_result"
    }
   ],
   "source": [
    "y_train.value_counts()"
   ]
  },
  {
   "cell_type": "code",
   "execution_count": 4,
   "metadata": {},
   "outputs": [],
   "source": [
    "def field(schema) :\n",
    "    a = schema.split(\"|-- \")\n",
    "    keys_list = [i.split(\": \")[0] for i in a[1:]]\n",
    "    values_list = [((i.split(\": \")[1]).split(\"(\")[0]).strip() for i in a[1:] ]\n",
    "    a_dictionary = dict(zip(keys_list, values_list))\n",
    "    return(keys_list)"
   ]
  },
  {
   "cell_type": "code",
   "execution_count": 5,
   "metadata": {},
   "outputs": [],
   "source": [
    "s = \"\"\" |-- msisdn_in: string (nullable = true)\n",
    " |-- nbre_msisdn_in: long (nullable = true)\n",
    " |-- nd_gaia: string (nullable = true)\n",
    " |-- nbre_msisdn_gaia: long (nullable = true)\n",
    " |-- nd_ocb: string (nullable = true)\n",
    " |-- nbre_msisdn_ocb: long (nullable = true)\n",
    " |-- offre_in: string (nullable = true)\n",
    " |-- prepaid_in: string (nullable = true)\n",
    " |-- statut_in: string (nullable = true)\n",
    " |-- created_date_in: string (nullable = true)\n",
    " |-- active_date_in: string (nullable = true)\n",
    " |-- msisdn_in_formatd: string (nullable = true)\n",
    " |-- dv_gaia: string (nullable = true)\n",
    " |-- nom_prenoms_gaia: string (nullable = true)\n",
    " |-- qualite_client_gaia: string (nullable = true)\n",
    " |-- type_client_gaia: string (nullable = true)\n",
    " |-- categorie_gaia: string (nullable = true)\n",
    " |-- portefeuille_gaia: string (nullable = true)\n",
    " |-- ncli_gaia: string (nullable = true)\n",
    " |-- siren_gaia: string (nullable = true)\n",
    " |-- ne_gaia: string (nullable = true)\n",
    " |-- type_dossier_gaia: string (nullable = true)\n",
    " |-- ndos_gaia: string (nullable = true)\n",
    " |-- contact_mobile_gaia: string (nullable = true)\n",
    " |-- second_mobile_gaia: string (nullable = true)\n",
    " |-- e_mail_gaia: string (nullable = true)\n",
    " |-- adr_postale_gaia: string (nullable = true)\n",
    " |-- produit_gaia: string (nullable = true)\n",
    " |-- type_abo_gaia: string (nullable = true)\n",
    " |-- code_offre_gaia: string (nullable = true)\n",
    " |-- libelle_service_gaia: string (nullable = true)\n",
    " |-- type_msan_gaia: string (nullable = true)\n",
    " |-- date_sce_gaia: string (nullable = true)\n",
    " |-- etat_ligne_gaia: string (nullable = true)\n",
    " |-- raison_susp_gaia: string (nullable = true)\n",
    " |-- date_etat_gaia: string (nullable = true)\n",
    " |-- adress_install_gaia: string (nullable = true)\n",
    " |-- repartiteur_gaia: string (nullable = true)\n",
    " |-- sr_gaia: string (nullable = true)\n",
    " |-- autocom_gaia: string (nullable = true)\n",
    " |-- groupe_fact_gaia: string (nullable = true)\n",
    " |-- etat_client_gaia: string (nullable = true)\n",
    " |-- date_ms_gaia: string (nullable = true)\n",
    " |-- commune_gaia: string (nullable = true)\n",
    " |-- voie_gaia: string (nullable = true)\n",
    " |-- msisdn_gaia_formatd: string (nullable = true)\n",
    " |-- nbre_ne_gaia: long (nullable = true)\n",
    " |-- cat_ocb: string (nullable = true)\n",
    " |-- mar_ocb: string (nullable = true)\n",
    " |-- ndg_ocb: string (nullable = true)\n",
    " |-- ne_ocb: string (nullable = true)\n",
    " |-- nsg_ocb: string (nullable = true)\n",
    " |-- tax_ocb: string (nullable = true)\n",
    " |-- ty_ocb: string (nullable = true)\n",
    " |-- site_ocb: string (nullable = true)\n",
    " |-- date_insert_ocb: string (nullable = true)\n",
    " |-- msisdn_ocb_formatd: string (nullable = true)\n",
    " |-- nbre_ne_ocb: long (nullable = true)\n",
    " |-- msisdn: string (nullable = true)\n",
    " |-- date_insert: string (nullable = true)\n",
    " |-- type_ligne: string (nullable = false)\"\"\""
   ]
  },
  {
   "cell_type": "code",
   "execution_count": 30,
   "metadata": {},
   "outputs": [],
   "source": [
    "d = field(s)"
   ]
  },
  {
   "cell_type": "code",
   "execution_count": 36,
   "metadata": {},
   "outputs": [],
   "source": [
    "#[\"\\\"\" + literal_eval(str(i)) + \"\\\"\" for i in d]"
   ]
  },
  {
   "cell_type": "code",
   "execution_count": 25,
   "metadata": {},
   "outputs": [],
   "source": [
    "from ast import *"
   ]
  },
  {
   "cell_type": "code",
   "execution_count": 35,
   "metadata": {},
   "outputs": [],
   "source": [
    "#[literal_eval(i) for i in d]"
   ]
  },
  {
   "cell_type": "code",
   "execution_count": 56,
   "metadata": {},
   "outputs": [
    {
     "data": {
      "text/plain": [
       "2"
      ]
     },
     "execution_count": 56,
     "metadata": {},
     "output_type": "execute_result"
    }
   ],
   "source": [
    "d.index(\"nd_gaia\")"
   ]
  },
  {
   "cell_type": "code",
   "execution_count": 54,
   "metadata": {},
   "outputs": [
    {
     "name": "stdout",
     "output_type": "stream",
     "text": [
      "\"msisdn_in\",\n",
      "\"nbre_msisdn_in\",\n",
      "\"nd_gaia\",\n",
      "\"nbre_msisdn_gaia\",\n",
      "\"nd_ocb\",\n",
      "\"nbre_msisdn_ocb\",\n",
      "\"offre_in\",\n",
      "\"prepaid_in\",\n",
      "\"statut_in\",\n",
      "\"created_date_in\",\n",
      "\"active_date_in\",\n",
      "\"msisdn_in_formatd\",\n",
      "\"dv_gaia\",\n",
      "\"nom_prenoms_gaia\",\n",
      "\"qualite_client_gaia\",\n",
      "\"type_client_gaia\",\n",
      "\"categorie_gaia\",\n",
      "\"portefeuille_gaia\",\n",
      "\"ncli_gaia\",\n",
      "\"siren_gaia\",\n",
      "\"ne_gaia\",\n",
      "\"type_dossier_gaia\",\n",
      "\"ndos_gaia\",\n",
      "\"contact_mobile_gaia\",\n",
      "\"second_mobile_gaia\",\n",
      "\"e_mail_gaia\",\n",
      "\"adr_postale_gaia\",\n",
      "\"produit_gaia\",\n",
      "\"type_abo_gaia\",\n",
      "\"code_offre_gaia\",\n",
      "\"libelle_service_gaia\",\n",
      "\"type_msan_gaia\",\n",
      "\"date_sce_gaia\",\n",
      "\"etat_ligne_gaia\",\n",
      "\"raison_susp_gaia\",\n",
      "\"date_etat_gaia\",\n",
      "\"adress_install_gaia\",\n",
      "\"repartiteur_gaia\",\n",
      "\"sr_gaia\",\n",
      "\"autocom_gaia\",\n",
      "\"groupe_fact_gaia\",\n",
      "\"etat_client_gaia\",\n",
      "\"date_ms_gaia\",\n",
      "\"commune_gaia\",\n",
      "\"voie_gaia\",\n",
      "\"msisdn_gaia_formatd\",\n",
      "\"nbre_ne_gaia\",\n",
      "\"cat_ocb\",\n",
      "\"mar_ocb\",\n",
      "\"ndg_ocb\",\n",
      "\"ne_ocb\",\n",
      "\"nsg_ocb\",\n",
      "\"tax_ocb\",\n",
      "\"ty_ocb\",\n",
      "\"site_ocb\",\n",
      "\"date_insert_ocb\",\n",
      "\"msisdn_ocb_formatd\",\n",
      "\"nbre_ne_ocb\",\n",
      "\"msisdn\",\n",
      "\"date_insert\",\n",
      "\"type_ligne\",\n"
     ]
    },
    {
     "data": {
      "text/plain": [
       "[None,\n",
       " None,\n",
       " None,\n",
       " None,\n",
       " None,\n",
       " None,\n",
       " None,\n",
       " None,\n",
       " None,\n",
       " None,\n",
       " None,\n",
       " None,\n",
       " None,\n",
       " None,\n",
       " None,\n",
       " None,\n",
       " None,\n",
       " None,\n",
       " None,\n",
       " None,\n",
       " None,\n",
       " None,\n",
       " None,\n",
       " None,\n",
       " None,\n",
       " None,\n",
       " None,\n",
       " None,\n",
       " None,\n",
       " None,\n",
       " None,\n",
       " None,\n",
       " None,\n",
       " None,\n",
       " None,\n",
       " None,\n",
       " None,\n",
       " None,\n",
       " None,\n",
       " None,\n",
       " None,\n",
       " None,\n",
       " None,\n",
       " None,\n",
       " None,\n",
       " None,\n",
       " None,\n",
       " None,\n",
       " None,\n",
       " None,\n",
       " None,\n",
       " None,\n",
       " None,\n",
       " None,\n",
       " None,\n",
       " None,\n",
       " None,\n",
       " None,\n",
       " None,\n",
       " None,\n",
       " None]"
      ]
     },
     "execution_count": 54,
     "metadata": {},
     "output_type": "execute_result"
    }
   ],
   "source": [
    "[ print((\"\\\"\" + i + \"\\\"\").replace(\"'\",\"\") + \",\") for i in d]"
   ]
  },
  {
   "cell_type": "code",
   "execution_count": null,
   "metadata": {},
   "outputs": [],
   "source": [
    "#.replace(\"'\",\"\").strip(\"'\")"
   ]
  },
  {
   "cell_type": "code",
   "execution_count": 49,
   "metadata": {},
   "outputs": [
    {
     "name": "stdout",
     "output_type": "stream",
     "text": [
      "\"msisdn\"\n"
     ]
    }
   ],
   "source": [
    "print('\"msisdn\"')"
   ]
  },
  {
   "cell_type": "code",
   "execution_count": 1,
   "metadata": {},
   "outputs": [],
   "source": [
    "n = \"\"\"2720321561\n",
    "\n",
    "2722440005\n",
    "\n",
    "2722443197\n",
    "\n",
    "2722434154\n",
    "\n",
    "2722439847\n",
    "\n",
    "2721280606\n",
    "\n",
    "2721351893\n",
    "\n",
    "2721359110\n",
    "\n",
    "2721252841\n",
    "\n",
    "2730682448\"\"\""
   ]
  },
  {
   "cell_type": "code",
   "execution_count": 2,
   "metadata": {},
   "outputs": [
    {
     "data": {
      "text/plain": [
       "'2720321561\\n\\n2722440005\\n\\n2722443197\\n\\n2722434154\\n\\n2722439847\\n\\n2721280606\\n\\n2721351893\\n\\n2721359110\\n\\n2721252841\\n\\n2730682448'"
      ]
     },
     "execution_count": 2,
     "metadata": {},
     "output_type": "execute_result"
    }
   ],
   "source": [
    "n"
   ]
  },
  {
   "cell_type": "code",
   "execution_count": 5,
   "metadata": {},
   "outputs": [
    {
     "name": "stdout",
     "output_type": "stream",
     "text": [
      "\"2720321561\",\n",
      "\"2722440005\",\n",
      "\"2722443197\",\n",
      "\"2722434154\",\n",
      "\"2722439847\",\n",
      "\"2721280606\",\n",
      "\"2721351893\",\n",
      "\"2721359110\",\n",
      "\"2721252841\",\n",
      "\"2730682448\",\n"
     ]
    },
    {
     "data": {
      "text/plain": [
       "[None, None, None, None, None, None, None, None, None, None]"
      ]
     },
     "execution_count": 5,
     "metadata": {},
     "output_type": "execute_result"
    }
   ],
   "source": [
    "[ print((\"\\\"\" + i + \"\\\"\").replace(\"'\",\"\") + \",\") for i in n.split(\"\\n\\n\")]   "
   ]
  },
  {
   "cell_type": "code",
   "execution_count": 1,
   "metadata": {},
   "outputs": [],
   "source": [
    "import argparse"
   ]
  },
  {
   "cell_type": "code",
   "execution_count": 2,
   "metadata": {},
   "outputs": [],
   "source": [
    "ap = argparse.ArgumentParser()"
   ]
  },
  {
   "cell_type": "code",
   "execution_count": null,
   "metadata": {},
   "outputs": [],
   "source": [
    "ap.add_argument()"
   ]
  }
 ],
 "metadata": {
  "kernelspec": {
   "display_name": "Python 3",
   "language": "python",
   "name": "python3"
  },
  "language_info": {
   "codemirror_mode": {
    "name": "ipython",
    "version": 3
   },
   "file_extension": ".py",
   "mimetype": "text/x-python",
   "name": "python",
   "nbconvert_exporter": "python",
   "pygments_lexer": "ipython3",
   "version": "3.8.5"
  }
 },
 "nbformat": 4,
 "nbformat_minor": 4
}
